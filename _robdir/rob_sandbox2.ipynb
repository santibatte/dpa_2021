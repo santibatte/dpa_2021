{
 "cells": [
  {
   "cell_type": "markdown",
   "metadata": {},
   "source": [
    "# Notebook with test code"
   ]
  },
  {
   "cell_type": "markdown",
   "metadata": {},
   "source": [
    "---"
   ]
  },
  {
   "cell_type": "markdown",
   "metadata": {},
   "source": [
    "## Imports"
   ]
  },
  {
   "cell_type": "markdown",
   "metadata": {},
   "source": [
    "### Standard library imports"
   ]
  },
  {
   "cell_type": "code",
   "execution_count": 1,
   "metadata": {
    "ExecuteTime": {
     "end_time": "2021-02-22T22:51:02.503137Z",
     "start_time": "2021-02-22T22:51:02.468609Z"
    },
    "init_cell": true
   },
   "outputs": [],
   "source": [
    "import yaml\n",
    "\n",
    "import sys\n",
    "\n",
    "from datetime import date\n",
    "\n",
    "import os"
   ]
  },
  {
   "cell_type": "markdown",
   "metadata": {},
   "source": [
    "### Third party libraries"
   ]
  },
  {
   "cell_type": "code",
   "execution_count": 2,
   "metadata": {
    "ExecuteTime": {
     "end_time": "2021-02-22T22:51:03.115642Z",
     "start_time": "2021-02-22T22:51:02.505679Z"
    },
    "init_cell": true
   },
   "outputs": [],
   "source": [
    "import boto3\n",
    "\n",
    "import pandas as pd"
   ]
  },
  {
   "cell_type": "markdown",
   "metadata": {},
   "source": [
    "### Local application imports"
   ]
  },
  {
   "cell_type": "code",
   "execution_count": 3,
   "metadata": {
    "ExecuteTime": {
     "end_time": "2021-02-22T22:51:03.121273Z",
     "start_time": "2021-02-22T22:51:03.118305Z"
    },
    "init_cell": true
   },
   "outputs": [],
   "source": [
    "sys.path.append(\"../\")"
   ]
  },
  {
   "cell_type": "code",
   "execution_count": 4,
   "metadata": {
    "ExecuteTime": {
     "end_time": "2021-02-22T22:51:03.442697Z",
     "start_time": "2021-02-22T22:51:03.123953Z"
    },
    "init_cell": true
   },
   "outputs": [
    {
     "ename": "ImportError",
     "evalue": "cannot import name 'token' from 'src.pipeline.ingesta_almacenamiento' (../src/pipeline/ingesta_almacenamiento.py)",
     "output_type": "error",
     "traceback": [
      "\u001b[0;31m----------------\u001b[0m",
      "\u001b[0;31mImportError\u001b[0mTraceback (most recent call last)",
      "\u001b[0;32m<ipython-input-4-d1e20bea0d03>\u001b[0m in \u001b[0;36m<module>\u001b[0;34m\u001b[0m\n\u001b[1;32m      2\u001b[0m \u001b[0mget_ipython\u001b[0m\u001b[0;34m(\u001b[0m\u001b[0;34m)\u001b[0m\u001b[0;34m.\u001b[0m\u001b[0mrun_line_magic\u001b[0m\u001b[0;34m(\u001b[0m\u001b[0;34m'autoreload'\u001b[0m\u001b[0;34m,\u001b[0m \u001b[0;34m'2'\u001b[0m\u001b[0;34m)\u001b[0m\u001b[0;34m\u001b[0m\u001b[0;34m\u001b[0m\u001b[0m\n\u001b[1;32m      3\u001b[0m \u001b[0;34m\u001b[0m\u001b[0m\n\u001b[0;32m----> 4\u001b[0;31m from src.pipeline.ingesta_almacenamiento import (\n\u001b[0m\u001b[1;32m      5\u001b[0m \u001b[0;34m\u001b[0m\u001b[0m\n\u001b[1;32m      6\u001b[0m     \u001b[0;31m## Parameters\u001b[0m\u001b[0;34m\u001b[0m\u001b[0;34m\u001b[0m\u001b[0;34m\u001b[0m\u001b[0m\n",
      "\u001b[0;31mImportError\u001b[0m: cannot import name 'token' from 'src.pipeline.ingesta_almacenamiento' (../src/pipeline/ingesta_almacenamiento.py)"
     ]
    }
   ],
   "source": [
    "%load_ext autoreload\n",
    "%autoreload 2\n",
    "\n",
    "from src.pipeline.ingesta_almacenamiento import (\n",
    "    \n",
    "    ## Parameters\n",
    "    bucket_name,\n",
    "    token,\n",
    "    today_info,\n",
    "    hist_ingest_path,\n",
    "    hist_dat_prefix,\n",
    "    cont_ingest_path,\n",
    "    cont_dat_prefix,\n",
    "    \n",
    "    ## Functions\n",
    "    get_client,\n",
    "    ingesta_inicial,\n",
    "    ingesta_consecutiva,\n",
    "    get_s3_resource,\n",
    "    guardar_ingesta\n",
    "    \n",
    ")"
   ]
  },
  {
   "cell_type": "markdown",
   "metadata": {},
   "source": [
    "---"
   ]
  },
  {
   "cell_type": "markdown",
   "metadata": {},
   "source": [
    "## AWS base examples"
   ]
  },
  {
   "cell_type": "markdown",
   "metadata": {},
   "source": [
    "### S3"
   ]
  },
  {
   "cell_type": "markdown",
   "metadata": {},
   "source": [
    "#### Initial configuration"
   ]
  },
  {
   "cell_type": "code",
   "execution_count": null,
   "metadata": {
    "ExecuteTime": {
     "end_time": "2021-02-20T01:41:59.230292Z",
     "start_time": "2021-02-20T01:41:59.115804Z"
    }
   },
   "outputs": [],
   "source": [
    "ses = boto3.session.Session(profile_name=\"robper_dpa\")"
   ]
  },
  {
   "cell_type": "code",
   "execution_count": null,
   "metadata": {
    "ExecuteTime": {
     "end_time": "2021-02-20T01:41:59.696177Z",
     "start_time": "2021-02-20T01:41:59.343490Z"
    }
   },
   "outputs": [],
   "source": [
    "s3 = ses.resource(\"s3\")"
   ]
  },
  {
   "cell_type": "code",
   "execution_count": null,
   "metadata": {
    "ExecuteTime": {
     "end_time": "2021-02-20T01:42:00.309962Z",
     "start_time": "2021-02-20T01:41:59.697962Z"
    }
   },
   "outputs": [],
   "source": [
    "[buck.name for buck in s3.buckets.all()]"
   ]
  },
  {
   "cell_type": "code",
   "execution_count": null,
   "metadata": {
    "ExecuteTime": {
     "end_time": "2021-02-18T16:07:32.833948Z",
     "start_time": "2021-02-18T16:07:32.812791Z"
    }
   },
   "outputs": [],
   "source": [
    "# este archivo yaml vive en tu conf/local/credentials.yaml\n",
    "# este va en src/utils general.py\n",
    "def read_yaml_file(yaml_file):\n",
    "    \"\"\" load yaml cofigurations \"\"\"\n",
    "\n",
    "    config = None\n",
    "    try: \n",
    "        with open (yaml_file, 'r') as f:\n",
    "            config = yaml.safe_load(f)\n",
    "    except:\n",
    "        raise FileNotFoundError('Couldnt load the file')\n",
    "    \n",
    "    return config"
   ]
  },
  {
   "cell_type": "code",
   "execution_count": null,
   "metadata": {
    "ExecuteTime": {
     "end_time": "2021-02-18T16:07:33.153905Z",
     "start_time": "2021-02-18T16:07:33.134152Z"
    }
   },
   "outputs": [],
   "source": [
    "# este va en src/utils general.py\n",
    "def get_s3_credentials(credentials_file):\n",
    "    credentials = read_yaml_file(credentials_file)\n",
    "    s3_creds = credentials['s3']\n",
    "\n",
    "    return s3_creds"
   ]
  },
  {
   "cell_type": "code",
   "execution_count": null,
   "metadata": {
    "ExecuteTime": {
     "end_time": "2021-02-18T16:07:33.758766Z",
     "start_time": "2021-02-18T16:07:33.549742Z"
    }
   },
   "outputs": [],
   "source": [
    "s3_creds = get_s3_credentials(\"../conf/local/credentials.yaml\")\n",
    "\n",
    "session = boto3.Session(\n",
    "    aws_access_key_id=s3_creds['aws_access_key_id'],\n",
    "    aws_secret_access_key=s3_creds['aws_secret_access_key']\n",
    ")\n",
    "s3 = session.client('s3')"
   ]
  },
  {
   "cell_type": "markdown",
   "metadata": {},
   "source": [
    "#### Connecting to existing bucket and viewing contents"
   ]
  },
  {
   "cell_type": "code",
   "execution_count": null,
   "metadata": {
    "ExecuteTime": {
     "end_time": "2021-02-18T01:34:26.527212Z",
     "start_time": "2021-02-18T01:34:26.524791Z"
    }
   },
   "outputs": [],
   "source": [
    "bucket = \"dpa-robtest\"\n",
    "key =\"rob_test_dir_s3\""
   ]
  },
  {
   "cell_type": "code",
   "execution_count": null,
   "metadata": {
    "ExecuteTime": {
     "end_time": "2021-02-18T01:34:27.058744Z",
     "start_time": "2021-02-18T01:34:26.663904Z"
    }
   },
   "outputs": [],
   "source": [
    "objects = s3.list_objects_v2(Bucket=bucket, Prefix=key)['Contents']\n",
    "objects"
   ]
  },
  {
   "cell_type": "markdown",
   "metadata": {},
   "source": [
    "#### Creating bucket"
   ]
  },
  {
   "cell_type": "code",
   "execution_count": null,
   "metadata": {
    "ExecuteTime": {
     "end_time": "2021-02-18T01:37:06.424086Z",
     "start_time": "2021-02-18T01:37:05.427085Z"
    }
   },
   "outputs": [],
   "source": [
    "bucket_name = \"comdline-test-bucket-rob\"\n",
    "\n",
    "s3.create_bucket(\n",
    "    Bucket=bucket_name,\n",
    "    CreateBucketConfiguration={'LocationConstraint': 'us-west-2'},\n",
    "    ACL=\"private\"\n",
    ")"
   ]
  },
  {
   "cell_type": "markdown",
   "metadata": {},
   "source": [
    "#### Uploading file to bucket"
   ]
  },
  {
   "cell_type": "code",
   "execution_count": null,
   "metadata": {
    "ExecuteTime": {
     "end_time": "2021-02-18T01:47:41.937898Z",
     "start_time": "2021-02-18T01:47:41.935447Z"
    }
   },
   "outputs": [],
   "source": [
    "file_to_upload = \"../../admin/test_file3_for_s3.txt\"\n",
    "file_name = file_to_upload.split(sep=\"/\")[-1]"
   ]
  },
  {
   "cell_type": "code",
   "execution_count": null,
   "metadata": {
    "ExecuteTime": {
     "end_time": "2021-02-18T01:48:39.542875Z",
     "start_time": "2021-02-18T01:48:39.079182Z"
    }
   },
   "outputs": [],
   "source": [
    "# s3.upload_file(file_to_upload, bucket_name, file_name)\n",
    "\n",
    "s3.meta.client.upload_file(file_to_upload, bucket_name, file_name)"
   ]
  },
  {
   "cell_type": "code",
   "execution_count": null,
   "metadata": {
    "ExecuteTime": {
     "end_time": "2021-02-18T01:49:03.922917Z",
     "start_time": "2021-02-18T01:49:03.491793Z"
    }
   },
   "outputs": [],
   "source": [
    "[obj for obj in s3.Bucket(bucket_name).objects.all()]"
   ]
  },
  {
   "cell_type": "markdown",
   "metadata": {},
   "source": [
    "#### Downloading files from bucket"
   ]
  },
  {
   "cell_type": "code",
   "execution_count": null,
   "metadata": {
    "ExecuteTime": {
     "end_time": "2021-02-18T01:51:37.417192Z",
     "start_time": "2021-02-18T01:51:36.946491Z"
    }
   },
   "outputs": [],
   "source": [
    "path_to_download = \"/Users/rp_mbp/Documents/ReposRob_RobPer/ITAMmcd/semestre_2/Arquitectura_Prod_Dat/Venv_ArqPD/repos/dpa_2021/_robdir/\" + file_name\n",
    "\n",
    "s3.meta.client.download_file(bucket_name, file_name, path_to_download)"
   ]
  },
  {
   "cell_type": "markdown",
   "metadata": {},
   "source": [
    "#### Deleting bucket files"
   ]
  },
  {
   "cell_type": "code",
   "execution_count": null,
   "metadata": {
    "ExecuteTime": {
     "end_time": "2021-02-18T01:52:49.940565Z",
     "start_time": "2021-02-18T01:52:49.589748Z"
    }
   },
   "outputs": [],
   "source": [
    "s3.Object(bucket_name, file_name).delete()"
   ]
  },
  {
   "cell_type": "markdown",
   "metadata": {},
   "source": [
    "#### Deleting bucket"
   ]
  },
  {
   "cell_type": "markdown",
   "metadata": {},
   "source": [
    "---"
   ]
  },
  {
   "cell_type": "markdown",
   "metadata": {},
   "source": [
    "## Downloading and storing Chicago data"
   ]
  },
  {
   "cell_type": "markdown",
   "metadata": {},
   "source": [
    "#### Getting s3 resource"
   ]
  },
  {
   "cell_type": "raw",
   "metadata": {
    "ExecuteTime": {
     "end_time": "2021-02-18T17:00:38.601194Z",
     "start_time": "2021-02-18T17:00:38.427426Z"
    }
   },
   "source": [
    "s3 = get_s3_resource()"
   ]
  },
  {
   "cell_type": "markdown",
   "metadata": {},
   "source": [
    "#### Uploading info"
   ]
  },
  {
   "cell_type": "code",
   "execution_count": null,
   "metadata": {
    "ExecuteTime": {
     "end_time": "2021-02-18T17:34:43.908085Z",
     "start_time": "2021-02-18T17:34:39.580493Z"
    }
   },
   "outputs": [],
   "source": [
    "# guardar_ingesta(bucket_name, hist_ingest_path)\n",
    "guardar_ingesta(bucket_name, cont_ingest_path)"
   ]
  },
  {
   "cell_type": "markdown",
   "metadata": {},
   "source": [
    "#### Checking aws s3 contents"
   ]
  },
  {
   "cell_type": "code",
   "execution_count": null,
   "metadata": {
    "ExecuteTime": {
     "end_time": "2021-02-18T16:18:11.569563Z",
     "start_time": "2021-02-18T16:18:11.550903Z"
    }
   },
   "outputs": [],
   "source": [
    "key_hist = \"ingestion/initial\""
   ]
  },
  {
   "cell_type": "code",
   "execution_count": null,
   "metadata": {
    "ExecuteTime": {
     "end_time": "2021-02-18T16:18:12.247767Z",
     "start_time": "2021-02-18T16:18:11.749600Z"
    }
   },
   "outputs": [],
   "source": [
    "objects = s3.list_objects_v2(Bucket=bucket_name, Prefix=key_hist)['Contents']\n",
    "objects"
   ]
  },
  {
   "cell_type": "markdown",
   "metadata": {},
   "source": [
    "---"
   ]
  }
 ],
 "metadata": {
  "celltoolbar": "Initialization Cell",
  "kernelspec": {
   "display_name": "Python 3",
   "language": "python",
   "name": "python3"
  },
  "language_info": {
   "codemirror_mode": {
    "name": "ipython",
    "version": 3
   },
   "file_extension": ".py",
   "mimetype": "text/x-python",
   "name": "python",
   "nbconvert_exporter": "python",
   "pygments_lexer": "ipython3",
   "version": "3.8.5"
  },
  "toc": {
   "base_numbering": 1,
   "nav_menu": {},
   "number_sections": true,
   "sideBar": true,
   "skip_h1_title": false,
   "title_cell": "Table of Contents",
   "title_sidebar": "Contents",
   "toc_cell": false,
   "toc_position": {},
   "toc_section_display": true,
   "toc_window_display": false
  }
 },
 "nbformat": 4,
 "nbformat_minor": 4
}
