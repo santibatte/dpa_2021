{
 "cells": [
  {
   "cell_type": "markdown",
   "metadata": {},
   "source": [
    "# Notebook with test code"
   ]
  },
  {
   "cell_type": "markdown",
   "metadata": {},
   "source": [
    "---"
   ]
  },
  {
   "cell_type": "markdown",
   "metadata": {},
   "source": [
    "## Imports"
   ]
  },
  {
   "cell_type": "markdown",
   "metadata": {},
   "source": [
    "### Standard library imports"
   ]
  },
  {
   "cell_type": "code",
   "execution_count": 141,
   "metadata": {
    "ExecuteTime": {
     "end_time": "2021-02-23T01:57:26.262593Z",
     "start_time": "2021-02-23T01:57:26.239193Z"
    },
    "init_cell": true
   },
   "outputs": [],
   "source": [
    "import yaml\n",
    "\n",
    "import sys\n",
    "\n",
    "from datetime import (date, datetime)\n",
    "\n",
    "import os\n",
    "\n",
    "import pickle\n",
    "\n",
    "import re"
   ]
  },
  {
   "cell_type": "markdown",
   "metadata": {},
   "source": [
    "### Third party libraries"
   ]
  },
  {
   "cell_type": "code",
   "execution_count": 2,
   "metadata": {
    "ExecuteTime": {
     "end_time": "2021-02-22T23:43:38.835022Z",
     "start_time": "2021-02-22T23:43:38.225625Z"
    },
    "init_cell": true
   },
   "outputs": [],
   "source": [
    "import boto3\n",
    "\n",
    "import pandas as pd"
   ]
  },
  {
   "cell_type": "markdown",
   "metadata": {},
   "source": [
    "### Local application imports"
   ]
  },
  {
   "cell_type": "code",
   "execution_count": 3,
   "metadata": {
    "ExecuteTime": {
     "end_time": "2021-02-22T23:43:38.840895Z",
     "start_time": "2021-02-22T23:43:38.837984Z"
    },
    "init_cell": true
   },
   "outputs": [],
   "source": [
    "sys.path.append(\"../\")"
   ]
  },
  {
   "cell_type": "code",
   "execution_count": 4,
   "metadata": {
    "ExecuteTime": {
     "end_time": "2021-02-22T23:43:38.928794Z",
     "start_time": "2021-02-22T23:43:38.842939Z"
    },
    "init_cell": true
   },
   "outputs": [],
   "source": [
    "%load_ext autoreload\n",
    "%autoreload 2\n",
    "\n",
    "from src.pipeline.ingesta_almacenamiento import (\n",
    "    \n",
    "    ## Parameters\n",
    "    bucket_name,\n",
    "    today_info,\n",
    "    hist_ingest_path,\n",
    "    hist_dat_prefix,\n",
    "    cont_ingest_path,\n",
    "    cont_dat_prefix,\n",
    "    \n",
    "    ## Functions\n",
    "    get_client,\n",
    "    ingesta_inicial,\n",
    "    ingesta_consecutiva,\n",
    "    get_s3_resource,\n",
    "    guardar_ingesta\n",
    "    \n",
    ")\n",
    "\n",
    "from src.utils.general import (\n",
    "    get_api_token\n",
    ")"
   ]
  },
  {
   "cell_type": "markdown",
   "metadata": {},
   "source": [
    "---"
   ]
  },
  {
   "cell_type": "markdown",
   "metadata": {},
   "source": [
    "## AWS base examples"
   ]
  },
  {
   "cell_type": "markdown",
   "metadata": {},
   "source": [
    "### S3"
   ]
  },
  {
   "cell_type": "markdown",
   "metadata": {},
   "source": [
    "#### Initial configuration"
   ]
  },
  {
   "cell_type": "code",
   "execution_count": null,
   "metadata": {
    "ExecuteTime": {
     "end_time": "2021-02-20T01:41:59.230292Z",
     "start_time": "2021-02-20T01:41:59.115804Z"
    }
   },
   "outputs": [],
   "source": [
    "ses = boto3.session.Session(profile_name=\"robper_dpa\")"
   ]
  },
  {
   "cell_type": "code",
   "execution_count": null,
   "metadata": {
    "ExecuteTime": {
     "end_time": "2021-02-20T01:41:59.696177Z",
     "start_time": "2021-02-20T01:41:59.343490Z"
    }
   },
   "outputs": [],
   "source": [
    "s3 = ses.resource(\"s3\")"
   ]
  },
  {
   "cell_type": "code",
   "execution_count": null,
   "metadata": {
    "ExecuteTime": {
     "end_time": "2021-02-20T01:42:00.309962Z",
     "start_time": "2021-02-20T01:41:59.697962Z"
    }
   },
   "outputs": [],
   "source": [
    "[buck.name for buck in s3.buckets.all()]"
   ]
  },
  {
   "cell_type": "code",
   "execution_count": null,
   "metadata": {
    "ExecuteTime": {
     "end_time": "2021-02-18T16:07:32.833948Z",
     "start_time": "2021-02-18T16:07:32.812791Z"
    }
   },
   "outputs": [],
   "source": [
    "# este archivo yaml vive en tu conf/local/credentials.yaml\n",
    "# este va en src/utils general.py\n",
    "def read_yaml_file(yaml_file):\n",
    "    \"\"\" load yaml cofigurations \"\"\"\n",
    "\n",
    "    config = None\n",
    "    try: \n",
    "        with open (yaml_file, 'r') as f:\n",
    "            config = yaml.safe_load(f)\n",
    "    except:\n",
    "        raise FileNotFoundError('Couldnt load the file')\n",
    "    \n",
    "    return config"
   ]
  },
  {
   "cell_type": "code",
   "execution_count": null,
   "metadata": {
    "ExecuteTime": {
     "end_time": "2021-02-18T16:07:33.153905Z",
     "start_time": "2021-02-18T16:07:33.134152Z"
    }
   },
   "outputs": [],
   "source": [
    "# este va en src/utils general.py\n",
    "def get_s3_credentials(credentials_file):\n",
    "    credentials = read_yaml_file(credentials_file)\n",
    "    s3_creds = credentials['s3']\n",
    "\n",
    "    return s3_creds"
   ]
  },
  {
   "cell_type": "code",
   "execution_count": null,
   "metadata": {
    "ExecuteTime": {
     "end_time": "2021-02-18T16:07:33.758766Z",
     "start_time": "2021-02-18T16:07:33.549742Z"
    }
   },
   "outputs": [],
   "source": [
    "s3_creds = get_s3_credentials(\"../conf/local/credentials.yaml\")\n",
    "\n",
    "session = boto3.Session(\n",
    "    aws_access_key_id=s3_creds['aws_access_key_id'],\n",
    "    aws_secret_access_key=s3_creds['aws_secret_access_key']\n",
    ")\n",
    "s3 = session.client('s3')"
   ]
  },
  {
   "cell_type": "markdown",
   "metadata": {},
   "source": [
    "#### Connecting to existing bucket and viewing contents"
   ]
  },
  {
   "cell_type": "code",
   "execution_count": null,
   "metadata": {
    "ExecuteTime": {
     "end_time": "2021-02-18T01:34:26.527212Z",
     "start_time": "2021-02-18T01:34:26.524791Z"
    }
   },
   "outputs": [],
   "source": [
    "bucket = \"dpa-robtest\"\n",
    "key =\"rob_test_dir_s3\""
   ]
  },
  {
   "cell_type": "code",
   "execution_count": null,
   "metadata": {
    "ExecuteTime": {
     "end_time": "2021-02-18T01:34:27.058744Z",
     "start_time": "2021-02-18T01:34:26.663904Z"
    }
   },
   "outputs": [],
   "source": [
    "objects = s3.list_objects_v2(Bucket=bucket, Prefix=key)['Contents']\n",
    "objects"
   ]
  },
  {
   "cell_type": "markdown",
   "metadata": {},
   "source": [
    "#### Creating bucket"
   ]
  },
  {
   "cell_type": "code",
   "execution_count": null,
   "metadata": {
    "ExecuteTime": {
     "end_time": "2021-02-18T01:37:06.424086Z",
     "start_time": "2021-02-18T01:37:05.427085Z"
    }
   },
   "outputs": [],
   "source": [
    "bucket_name = \"comdline-test-bucket-rob\"\n",
    "\n",
    "s3.create_bucket(\n",
    "    Bucket=bucket_name,\n",
    "    CreateBucketConfiguration={'LocationConstraint': 'us-west-2'},\n",
    "    ACL=\"private\"\n",
    ")"
   ]
  },
  {
   "cell_type": "markdown",
   "metadata": {},
   "source": [
    "#### Uploading file to bucket"
   ]
  },
  {
   "cell_type": "code",
   "execution_count": null,
   "metadata": {
    "ExecuteTime": {
     "end_time": "2021-02-18T01:47:41.937898Z",
     "start_time": "2021-02-18T01:47:41.935447Z"
    }
   },
   "outputs": [],
   "source": [
    "file_to_upload = \"../../admin/test_file3_for_s3.txt\"\n",
    "file_name = file_to_upload.split(sep=\"/\")[-1]"
   ]
  },
  {
   "cell_type": "code",
   "execution_count": null,
   "metadata": {
    "ExecuteTime": {
     "end_time": "2021-02-18T01:48:39.542875Z",
     "start_time": "2021-02-18T01:48:39.079182Z"
    }
   },
   "outputs": [],
   "source": [
    "# s3.upload_file(file_to_upload, bucket_name, file_name)\n",
    "\n",
    "s3.meta.client.upload_file(file_to_upload, bucket_name, file_name)"
   ]
  },
  {
   "cell_type": "code",
   "execution_count": null,
   "metadata": {
    "ExecuteTime": {
     "end_time": "2021-02-18T01:49:03.922917Z",
     "start_time": "2021-02-18T01:49:03.491793Z"
    }
   },
   "outputs": [],
   "source": [
    "[obj for obj in s3.Bucket(bucket_name).objects.all()]"
   ]
  },
  {
   "cell_type": "markdown",
   "metadata": {},
   "source": [
    "#### Downloading files from bucket"
   ]
  },
  {
   "cell_type": "code",
   "execution_count": null,
   "metadata": {
    "ExecuteTime": {
     "end_time": "2021-02-18T01:51:37.417192Z",
     "start_time": "2021-02-18T01:51:36.946491Z"
    }
   },
   "outputs": [],
   "source": [
    "path_to_download = \"/Users/rp_mbp/Documents/ReposRob_RobPer/ITAMmcd/semestre_2/Arquitectura_Prod_Dat/Venv_ArqPD/repos/dpa_2021/_robdir/\" + file_name\n",
    "\n",
    "s3.meta.client.download_file(bucket_name, file_name, path_to_download)"
   ]
  },
  {
   "cell_type": "markdown",
   "metadata": {},
   "source": [
    "#### Deleting bucket files"
   ]
  },
  {
   "cell_type": "code",
   "execution_count": null,
   "metadata": {
    "ExecuteTime": {
     "end_time": "2021-02-18T01:52:49.940565Z",
     "start_time": "2021-02-18T01:52:49.589748Z"
    }
   },
   "outputs": [],
   "source": [
    "s3.Object(bucket_name, file_name).delete()"
   ]
  },
  {
   "cell_type": "markdown",
   "metadata": {},
   "source": [
    "#### Deleting bucket"
   ]
  },
  {
   "cell_type": "markdown",
   "metadata": {},
   "source": [
    "---"
   ]
  },
  {
   "cell_type": "markdown",
   "metadata": {},
   "source": [
    "## Downloading and storing Chicago data"
   ]
  },
  {
   "cell_type": "markdown",
   "metadata": {},
   "source": [
    "#### Interacting with API"
   ]
  },
  {
   "cell_type": "code",
   "execution_count": 41,
   "metadata": {
    "ExecuteTime": {
     "end_time": "2021-02-23T00:00:59.378181Z",
     "start_time": "2021-02-23T00:00:59.358100Z"
    }
   },
   "outputs": [],
   "source": [
    "dataset_id = \"4ijn-s7e5\""
   ]
  },
  {
   "cell_type": "code",
   "execution_count": 42,
   "metadata": {
    "ExecuteTime": {
     "end_time": "2021-02-23T00:00:59.668610Z",
     "start_time": "2021-02-23T00:00:59.642267Z"
    }
   },
   "outputs": [
    {
     "data": {
      "text/plain": [
       "'5HfsId12lhMMzSlYANoAq451w'"
      ]
     },
     "execution_count": 42,
     "metadata": {},
     "output_type": "execute_result"
    }
   ],
   "source": [
    "token = get_api_token(\"../conf/local/credentials.yaml\")\n",
    "token"
   ]
  },
  {
   "cell_type": "code",
   "execution_count": 43,
   "metadata": {
    "ExecuteTime": {
     "end_time": "2021-02-23T00:01:00.520469Z",
     "start_time": "2021-02-23T00:01:00.497777Z"
    }
   },
   "outputs": [
    {
     "data": {
      "text/plain": [
       "<sodapy.socrata.Socrata at 0x155626310>"
      ]
     },
     "execution_count": 43,
     "metadata": {},
     "output_type": "execute_result"
    }
   ],
   "source": [
    "client = get_client(token)\n",
    "client"
   ]
  },
  {
   "cell_type": "raw",
   "metadata": {
    "ExecuteTime": {
     "end_time": "2021-02-22T23:32:13.384573Z",
     "start_time": "2021-02-22T23:32:13.365595Z"
    }
   },
   "source": [
    "y = client.get_all(dataset_id)"
   ]
  },
  {
   "cell_type": "code",
   "execution_count": 174,
   "metadata": {
    "ExecuteTime": {
     "end_time": "2021-02-23T02:12:00.121204Z",
     "start_time": "2021-02-23T02:12:00.101187Z"
    }
   },
   "outputs": [],
   "source": [
    "most_rec_date = '2021-01-15'"
   ]
  },
  {
   "cell_type": "code",
   "execution_count": 180,
   "metadata": {
    "ExecuteTime": {
     "end_time": "2021-02-23T02:13:52.425342Z",
     "start_time": "2021-02-23T02:13:52.404676Z"
    }
   },
   "outputs": [
    {
     "data": {
      "text/plain": [
       "\"inspection_date >= '2021-01-15'\""
      ]
     },
     "execution_count": 180,
     "metadata": {},
     "output_type": "execute_result"
    }
   ],
   "source": [
    "soql_query = \"inspection_date >= '{}'\".format(most_rec_date)\n",
    "soql_query"
   ]
  },
  {
   "cell_type": "code",
   "execution_count": 181,
   "metadata": {
    "ExecuteTime": {
     "end_time": "2021-02-23T02:13:52.940398Z",
     "start_time": "2021-02-23T02:13:52.751406Z"
    }
   },
   "outputs": [],
   "source": [
    "x = client.get(dataset_id, \n",
    "               limit=10,\n",
    "               where=soql_query\n",
    "              )"
   ]
  },
  {
   "cell_type": "code",
   "execution_count": 182,
   "metadata": {
    "ExecuteTime": {
     "end_time": "2021-02-23T02:13:54.769041Z",
     "start_time": "2021-02-23T02:13:54.736796Z"
    }
   },
   "outputs": [
    {
     "data": {
      "text/plain": [
       "[{'inspection_id': '2472789',\n",
       "  'dba_name': 'GEORGIS CATERING',\n",
       "  'aka_name': 'GEORGIS CATERING',\n",
       "  'license_': '69016',\n",
       "  'facility_type': 'Restaurant',\n",
       "  'risk': 'Risk 1 (High)',\n",
       "  'address': '6339 S CENTRAL AVE ',\n",
       "  'city': 'CHICAGO',\n",
       "  'state': 'IL',\n",
       "  'zip': '60638',\n",
       "  'inspection_date': '2021-01-15T00:00:00.000',\n",
       "  'inspection_type': 'Complaint Re-Inspection',\n",
       "  'results': 'Pass',\n",
       "  'violations': '37. FOOD PROPERLY LABELED; ORIGINAL CONTAINER - Comments: PRE PACKAGED INDIVIDUAL MEALS WITHOUT LABELS. INSTD TO LABEL ACCORDING TO THE FOLLOWING: (A) FOOD PACKAGED in a FOOD ESTABLISHMENT, shall be labeled as specified in LAW, including 21 CFR 101 -Food labeling, and 9 CFR 317 Labeling, marking devices, and containers. (B) Label information shall include: (1) The common name of the FOOD, or absent a common name, an adequately descriptive identity statement; (2) If made from two or more ingredients, a list of ingredients and sub-ingredients in descending order of predominance by weight, including a declaration of artificial colors, artificial flavors and chemical preservatives, if contained in the FOOD; 102 (3) An accurate declaration of the net quantity of contents; (4) The name and place of business of the manufacturer, packer, or distributor; and (5) The name of the FOOD source for each MAJOR FOOD ALLERGEN contained in the FOOD unless the FOOD source is already part of the common or usual name of the respective ingredient. Pf (6) Except as exempted in the Federal Food, Drug, and Cosmetic Act ï¿½ 403(q)(3) -(5), nutrition labeling as specified in 21 CFR 101 -Food Labeling and 9 CFR 317 Subpart B Nutrition Labeling. ( | 55. PHYSICAL FACILITIES INSTALLED, MAINTAINED & CLEAN - Comments: NOTED CEILING IN PREP AREA USED FOR PACKING INDIVIDUAL DELIVERED MEALS NOT PROPERLY DESIGNED; UNEVEN, ROUGH SERVICE. CEILING THROUGH OUT 2ND FLOOR STORAGE AREA WITH STRUCTURAL DAMAGE, VARIOUS AREAS WITH EXPOSED ROTTING WOOD, EXPOSED BEAMS, PLASTER HANGING, HOLES, ETC. CEILING THROUGH OUT PREMISES MUST BE A SMOOTH, EVEN, EASILY CLEANABLE, NON POROUS SURFACE AND MAINTAINED. . WALLS IN PREP AREA USED FOR PACKAGING OF INDIVIDUAL MEALS WITH WORN, UNEVEN WOOD SURFACES, AND CURTAIN BEING USED AS A WALL FOR DIVIDER FROM OFFICE. INSTD TO REMOVE CURTAIN AND HAVE WALLS THROUGH OUT MADE OF A SMOOTH, EVEN, EASILY CLEANABLE NON POROUS SURACE AND MAINTAIN.',\n",
       "  'latitude': '41.77692357061871',\n",
       "  'longitude': '-87.76153684657976',\n",
       "  'location': {'latitude': '-87.76153684657976',\n",
       "   'longitude': '41.77692357061871'}},\n",
       " {'inspection_id': '2472801',\n",
       "  'dba_name': 'FREE HOT MEALS',\n",
       "  'aka_name': 'FREE HOT MEALS',\n",
       "  'license_': '2767339',\n",
       "  'facility_type': 'Restaurant',\n",
       "  'risk': 'Risk 1 (High)',\n",
       "  'address': '4100 W MADISON ST ',\n",
       "  'city': 'CHICAGO',\n",
       "  'state': 'IL',\n",
       "  'zip': '60624',\n",
       "  'inspection_date': '2021-01-15T00:00:00.000',\n",
       "  'inspection_type': 'License',\n",
       "  'results': 'Not Ready',\n",
       "  'latitude': '41.880804158176524',\n",
       "  'longitude': '-87.7282444216966',\n",
       "  'location': {'latitude': '-87.7282444216966',\n",
       "   'longitude': '41.880804158176524'}},\n",
       " {'inspection_id': '2472796',\n",
       "  'dba_name': \"POPEYE'S #862\",\n",
       "  'aka_name': \"POPEYE'S #862\",\n",
       "  'license_': '2738644',\n",
       "  'facility_type': 'Restaurant',\n",
       "  'risk': 'Risk 1 (High)',\n",
       "  'address': '818 E 47TH ST ',\n",
       "  'city': 'CHICAGO',\n",
       "  'state': 'IL',\n",
       "  'zip': '60653',\n",
       "  'inspection_date': '2021-01-15T00:00:00.000',\n",
       "  'inspection_type': 'Complaint',\n",
       "  'results': 'Pass',\n",
       "  'violations': '55. PHYSICAL FACILITIES INSTALLED, MAINTAINED & CLEAN - Comments: INSTRUCTED TO CLEAN FLOORS AROUND AND BEHIND EQUIPMENT WHERE NEEDED. | 58. ALLERGEN TRAINING AS REQUIRED - Comments: INSTRUCTED THE PERSON IN CHARGE THAT ALL CITY OF CHICAGO FOOD SERVICE MANAGERS MUST OBTAIN THE REQUIRED FOOD ALLERGEN TRAINING.',\n",
       "  'latitude': '41.80965253314558',\n",
       "  'longitude': '-87.60574752734975',\n",
       "  'location': {'latitude': '-87.60574752734975',\n",
       "   'longitude': '41.80965253314558'}},\n",
       " {'inspection_id': '2472757',\n",
       "  'dba_name': \"JET'S PIZZA\",\n",
       "  'aka_name': \"JET'S PIZZA\",\n",
       "  'license_': '2386062',\n",
       "  'facility_type': 'Restaurant',\n",
       "  'risk': 'Risk 1 (High)',\n",
       "  'address': '1805 N HARLEM AVE ',\n",
       "  'city': 'CHICAGO',\n",
       "  'state': 'IL',\n",
       "  'zip': '60707',\n",
       "  'inspection_date': '2021-01-15T00:00:00.000',\n",
       "  'inspection_type': 'Canvass Re-Inspection',\n",
       "  'results': 'Pass',\n",
       "  'latitude': '41.91274014775508',\n",
       "  'longitude': '-87.80575059884977',\n",
       "  'location': {'latitude': '-87.80575059884977',\n",
       "   'longitude': '41.91274014775508'}},\n",
       " {'inspection_id': '2472751',\n",
       "  'dba_name': 'PORKCHOP',\n",
       "  'aka_name': 'PORKCHOP',\n",
       "  'license_': '2767186',\n",
       "  'facility_type': 'Restaurant',\n",
       "  'risk': 'Risk 1 (High)',\n",
       "  'address': '1132-1138 W GRAND AVE ',\n",
       "  'city': 'CHICAGO',\n",
       "  'state': 'IL',\n",
       "  'zip': '60642',\n",
       "  'inspection_date': '2021-01-15T00:00:00.000',\n",
       "  'inspection_type': 'License',\n",
       "  'results': 'Pass w/ Conditions',\n",
       "  'violations': '3. MANAGEMENT, FOOD EMPLOYEE AND CONDITIONAL EMPLOYEE; KNOWLEDGE, RESPONSIBILITIES AND REPORTING - Comments: OBSERVED NO EMPLOYEE HEALTH POLICY ON SITE. INSTRUCTED TO PROVIDE AN EMPLOYEE HEALTH  THAT INCLUDES A SIGNED ACKNOWLEDGEMENT FROM EACH EMPLOYEE. PRIORITY FOUNDATION VIOLATION 7-38-010. NO CITATION ISSUED. | 10. ADEQUATE HANDWASHING SINKS PROPERLY SUPPLIED AND ACCESSIBLE - Comments: OBSERVED NO HAND WASHING SIGNS OR POSTERS NEAR HAND WASHING SINKS IN FOOD PREPARION AREA AND CUSTOMERS WASHROOMS. MUST PROVIDE AND MAINTAIN. | 44. UTENSILS, EQUIPMENT & LINENS: PROPERLY STORED, DRIED, & HANDLED - Comments: OBSERVED TABLEWARE UTENSILS STORED UNDERNEATH FRONT PREP TABLE IN FOOD PREPARATION AREA . MUST PROPERLY STORED UTENSILS (SPOONS,FORKS, ETC.) MUST INVERT TO PREVENT CONTAMINATION. | 44. UTENSILS, EQUIPMENT & LINENS: PROPERLY STORED, DRIED, & HANDLED - Comments: OBSERVED PLATES POTS AND BOWLS STORED IMPROPERLY UNDER THE PREP TABLE IN THE KITCHEN AREA. INSTRUCTED THAT EQUIPMENT SHOULD BE STORED INVERTED TO ENSURE PROPER AIR DRYING. | 47. FOOD & NON-FOOD CONTACT SURFACES CLEANABLE, PROPERLY DESIGNED, CONSTRUCTED & USED - Comments: OBSERVED MISSING SINK STOPPERS FOR THE BAR 3-COMPARTMENT SINK. INSTRUCTED TO PROVIDE 3 ADEQUATE WORKING STOPPERS AND MAINTAIN. | 55. PHYSICAL FACILITIES INSTALLED, MAINTAINED & CLEAN - Comments: OBSERVED PEELING PAINT ON WALLS IN REAR FOOD STOAGE AREA/ DISHWASHING AREA. MUST REMOVE/REPAINT WALLS. | 55. PHYSICAL FACILITIES INSTALLED, MAINTAINED & CLEAN - Comments: OBSERVED DIRT AND DEBRIS ON LIGHT SHIELDS COVERS ABOVE PREP TABLES AND REAR DISH WASHING AREA. MUST CLEAN AND MAINTAIN. | 55. PHYSICAL FACILITIES INSTALLED, MAINTAINED & CLEAN - Comments: OBSERVED DIRT AND DEBRIS ON WALLS AND FLOOR BEHIND COOKING EQUIPMENT IN KITCHEN PREP AREA AND THROUGHOUT REAR FOOD STORAGE/DISHWASHING AREA. MUST CLEAN AND MAINTAIN. | 55. PHYSICAL FACILITIES INSTALLED, MAINTAINED & CLEAN - Comments: OBSERVED SEVERAL PIECES OF EQUIPMENT NOT IN USE IN REAR DISHWASHING AREA AND REAR KITCHEN AREA. MUST REMOVE ANY EQUIPMENT NOT IN USE TO PREVENT PEST HARBORAGE. MUST ORGANIZE ANY CLUTTER AND ELEVATE ITEMS AT LEAST 6 INCHES OFF THE FLOOR. | 56. ADEQUATE VENTILATION & LIGHTING; DESIGNATED AREAS USED - Comments: OBSERVED MISSING LIGHT SHIELDS ABOVE PREP TABLES IN FOOD PREPARATION AREA AND ABOVE 3-COMPARTMENT SINK IN REAR DISHWASHING AREA. OBSERVED BURN OUT BULB ABOVE PREP TABLES AND IN REAR FOOD STORAGE AREA. MUST REPLACE AND MAINTAIN ADEQUATE LIGHTING. | 56. ADEQUATE VENTILATION & LIGHTING; DESIGNATED AREAS USED - Comments: OBSERVED INSUFFICIENT LIGHTING IN REAR FOOD STORAGE/DISHWASHING AREA AND CUSTOMERS WASHROOMS MUST PROVIDE ADEQUATE LIGHTING FOR ALL AREAS,WITH PROTECTIVE SHEILDING.',\n",
       "  'latitude': '41.89120657079326',\n",
       "  'longitude': '-87.65587218834783',\n",
       "  'location': {'latitude': '-87.65587218834783',\n",
       "   'longitude': '41.89120657079326'}},\n",
       " {'inspection_id': '2472781',\n",
       "  'dba_name': 'MCDONALDS',\n",
       "  'aka_name': 'MCDONALDS',\n",
       "  'license_': '51011',\n",
       "  'facility_type': 'Restaurant',\n",
       "  'risk': 'Risk 2 (Medium)',\n",
       "  'address': '1004 W WILSON AVE ',\n",
       "  'city': 'CHICAGO',\n",
       "  'state': 'IL',\n",
       "  'zip': '60640',\n",
       "  'inspection_date': '2021-01-15T00:00:00.000',\n",
       "  'inspection_type': 'Complaint',\n",
       "  'results': 'Pass w/ Conditions',\n",
       "  'violations': \"5. PROCEDURES FOR RESPONDING TO VOMITING AND DIARRHEAL EVENTS - Comments: FOUND PROCEDURE/PLAN ON SITE HOWEVER KIT NOT COMPLETE MISSING EYE PROTECTION,ETC. INSTRUCTED FACILITY TO MAINTAIN ANY APPROPRIATE SUPPLIES ON SITE. PRIORITY FOUNDATION VIOLATION 7-38-005.     | 47. FOOD & NON-FOOD CONTACT SURFACES CLEANABLE, PROPERLY DESIGNED, CONSTRUCTED & USED - Comments:  FRONT COFFEE MACHINE WITH EXCESS SLIME SUBSTANCE AT MOUTH OF THE DISPENSER.INSTRUCTED TO CLEAN AND MAINTAIN. | 53. TOILET FACILITIES: PROPERLY CONSTRUCTED, SUPPLIED, & CLEANED - Comments: NO LID PROVIDED AT  RECEPTACLE IN WOMEN'S WASHROOM. INSTRUCTED TO PROVIDE. \",\n",
       "  'latitude': '41.965537226618295',\n",
       "  'longitude': '-87.65502740724979',\n",
       "  'location': {'latitude': '-87.65502740724979',\n",
       "   'longitude': '41.965537226618295'}},\n",
       " {'inspection_id': '2472746',\n",
       "  'dba_name': 'SUBWAY',\n",
       "  'aka_name': 'SUBWAY',\n",
       "  'license_': '2398853',\n",
       "  'facility_type': 'Restaurant',\n",
       "  'risk': 'Risk 1 (High)',\n",
       "  'address': '3477 S DR MARTIN LUTHER KING JR DR ',\n",
       "  'city': 'CHICAGO',\n",
       "  'state': 'IL',\n",
       "  'zip': '60616',\n",
       "  'inspection_date': '2021-01-15T00:00:00.000',\n",
       "  'inspection_type': 'Canvass',\n",
       "  'results': 'Pass w/ Conditions',\n",
       "  'violations': '10. ADEQUATE HANDWASHING SINKS PROPERLY SUPPLIED AND ACCESSIBLE - Comments: OBSERVED NO HAND WASHING SIGN AT HAND WASHING SINK IN REAR PREP/DISH WASHING AREA. INSTRUCTED MANAGER TO PROVIDE HAND WASHING SIGNS AT ALL HAND WASHING SINKS USED BY EMPLOYEES. | 22. PROPER COLD HOLDING TEMPERATURES - Comments: OBSERVED COLD TCS FOOD STORED AT IMPROPER TEMPERATURE IN REACH-IN COOLER BEHIND FRONT COUNTER: BUFFALO AND TERIYAKI CHICKEN 53.9F, TUNA SALAD 54.1F, STEAK 55.6F. INSTRUCTED MANAGER TO DISCARD APPROXIMATELY 30LBS AND $100 OF PRODUCT. ALL COLD TCS FOOD MUST MAINTAIN 41F OR BELOW DURING STORAGE, PREPARATION, DISPLAY AND SERVICE. PRIORITY 7-38-005 CITATION ISSUED  | 33. PROPER COOLING METHODS USED; ADEQUATE EQUIPMENT FOR TEMPERATURE CONTROL - Comments: OBSERVED REACH-IN COOLER BEHIND FRONT COUNTER NOT MAINTAINING PROPER TEMPERATURE 58.2F. INSTRUCTED MANAGER TO REPAIR AND MAINTAIN COOLER AT 41F OR BELOW. REACH-IN COOLER IS TAGGED HELD FOR INSPECTION AND MUST NOT BE USED UNTIL REINSPECTED BY CHICAGO DEPARTMENT OF HEALTH. PRIORITY 7-38-005 CITATION ISSUED. | 39. CONTAMINATION PREVENTED DURING FOOD PREPARATION, STORAGE & DISPLAY - Comments: OBSERVED BOX OF SOUP STORED ON FLOOR IN REAR STORAGE AREA. INSTRUCTED MANAGER TO ELEVATE ALL FOOD ITEMS SIX INCHES OFF FLOOR. | 53. TOILET FACILITIES: PROPERLY CONSTRUCTED, SUPPLIED, & CLEANED - Comments: OBSERVED NO COVERED WASTE RECEPTACLE IN WASHROOM. INSTRUCTED MANAGER TO PROVIDE.',\n",
       "  'latitude': '41.83126121100285',\n",
       "  'longitude': '-87.6168220727714',\n",
       "  'location': {'latitude': '-87.6168220727714',\n",
       "   'longitude': '41.83126121100285'}},\n",
       " {'inspection_id': '2472766',\n",
       "  'dba_name': 'WEST RIVER CAFE',\n",
       "  'aka_name': 'WEST RIVER CAFE',\n",
       "  'license_': '1646219',\n",
       "  'facility_type': 'Restaurant',\n",
       "  'risk': 'Risk 1 (High)',\n",
       "  'address': '4400 N KEDZIE AVE ',\n",
       "  'city': 'CHICAGO',\n",
       "  'state': 'IL',\n",
       "  'zip': '60625',\n",
       "  'inspection_date': '2021-01-15T00:00:00.000',\n",
       "  'inspection_type': 'Canvass',\n",
       "  'results': 'Fail',\n",
       "  'violations': '3. MANAGEMENT, FOOD EMPLOYEE AND CONDITIONAL EMPLOYEE; KNOWLEDGE, RESPONSIBILITIES AND REPORTING - Comments: OBSERVED NO WRITTEN EMPLOYEE HEALTH POLICY ON THE PREMISES.  MANAGEMENT INSTRUCTED THAT ALL EMPLOYEES MUST SIGN A COPY OF THE EMPLOYEE HEALTH POLICY.  PRIORITY FOUNDATION 7-38-010.  NO CITATION ISSUED. | 10. ADEQUATE HANDWASHING SINKS PROPERLY SUPPLIED AND ACCESSIBLE - Comments: OBSERVED NO EXPOSED HAND WASHING SINK IN THE FRONT FOOD PREP AREA OF THE FACILITY WHERE COFFEE AND DRINKS ARE PREPARED AND SERVED.  MANAGEMENT INSTRUCTED TO INSTALL AN EXPOSED HAND WASHING SINK IN THIS AREA.  PRIORITY FOUNDATION 7-38-030(C).  CITATION ISSUED. | 25. CONSUMER ADVISORY PROVIDED FOR RAW/UNDERCOOKED FOOD - Comments: OBSERVED NO CONSUMER ADVISORY DISCLOSURE ON THE MENU FOR RAW OR UNDERCOOKED FOOD ITEMS.  MANAGEMENT INSTRUCTED TO DISCLOSE AND IDENTIFY WHICH FOODS CAN BE ORDERED RAW OR UNDERCOOKED AND LINK THOSE ITEMS TO THE REMINDER STATEMENT ON THE MENU.  PRIORITY FOUNDATION 7-38-005.  NO CITATION ISSUED. | 38. INSECTS, RODENTS, & ANIMALS NOT PRESENT - Comments: OBSERVED 3 LIVE COCKROACHES ON THE FLOOR AND WALLS OF THE REAR FOOD PREP AREA AROUND THE 3 COMPARTMENT SINK AND BEHIND THE PREP TABLE.  ALSO OBSERVED APPROXIMATELY 60 RAT DROPPINGS ON THE BASEMENT FLOOR IN THE STORAGE AREAS AND UNDERNEATH THE STAIRCASE.  MANAGEMENT INSTRUCTED TO CLEAN AND REMOVE ALL RODENT DROPPINGS FROM THE BASEMENT AREA.  ADDITIONAL PEST CONTROL SERVICE IS NEEDED TO ELIMINATE ALL PEST ACTIVITY FROM THE PREMISES.  PRIORITY FOUNDATION 7-38-020(A).  CITATION ISSUED. | 38. INSECTS, RODENTS, & ANIMALS NOT PRESENT - Comments: OBSERVED A DEAD RAT ON A GLUEBOARD IN THE BASEMENT AREA NEAR THE STAIRCASE.  MANAGEMENT INSTRUCTED TO REMOVE THE DEAD RODENT.  ALSO OBSERVED DEAD INSECTS ON THE FLOOR OF THE BASEMENT, THE FLOOR OF THE FOOD PREP AREA AND INSIDE OF THE CABINETS AT THE FRONT FOOD PREP AREA.  MANAGEMENT INSTRUCTED TO CLEAN AND REMOVE ALL DEAD INSECTS FROM THE PREMISES. | 41. WIPING CLOTHS: PROPERLY USED & STORED - Comments: OBSERVED WET WIPING CLOTHS STORED ON TOP OF THE PREP TABLES.  MANAGEMENT INSTRUCTED TO STORE ALL WET WIPING CLOTHS IN A CONTAINER OF SANITIZER WHEN NOT IN USE. | 47. FOOD & NON-FOOD CONTACT SURFACES CLEANABLE, PROPERLY DESIGNED, CONSTRUCTED & USED - Comments: OBSERVED FROZEN FOOD STORED IN A PLASTIC GROCERY BAG IN THE CHEST FREEZER IN THE BASEMENT.  MANAGEMENT INSTRUCTED TO USE ONLY FOOD GRADE STORAGE BAGS OR CONTAINERS. | 49. NON-FOOD/FOOD CONTACT SURFACES CLEAN - Comments: CLEAN THE GREASE ON THE PREP TABLE NEXT TO THE DEEP FRYER. | 56. ADEQUATE VENTILATION & LIGHTING; DESIGNATED AREAS USED - Comments: CLEAN THE GREASE ON THE VENTILATION HOOD AND FILTERS. | 57. ALL FOOD EMPLOYEES HAVE FOOD HANDLER TRAINING - Comments: OBSERVED A FOOD HANDLING EMPLOYEE WITH AN INVALID FOOD HANDLER CERTIFICATE.  MANAGEMENT INSTRUCTED THAT ALL EMPLOYEES MUST SHOW A VALID PROOF OF TRAINING.',\n",
       "  'latitude': '41.961225358561954',\n",
       "  'longitude': '-87.70839694891846',\n",
       "  'location': {'latitude': '-87.70839694891846',\n",
       "   'longitude': '41.961225358561954'}},\n",
       " {'inspection_id': '2472784',\n",
       "  'dba_name': 'KENTUCKY FRIED CHICKEN',\n",
       "  'aka_name': 'KENTUCKY FRIED CHICKEN',\n",
       "  'license_': '2565164',\n",
       "  'facility_type': 'Restaurant',\n",
       "  'risk': 'Risk 1 (High)',\n",
       "  'address': '4200 W 55TH ST ',\n",
       "  'city': 'CHICAGO',\n",
       "  'state': 'IL',\n",
       "  'zip': '60632',\n",
       "  'inspection_date': '2021-01-15T00:00:00.000',\n",
       "  'inspection_type': 'Complaint Re-Inspection',\n",
       "  'results': 'Pass',\n",
       "  'violations': '16. FOOD-CONTACT SURFACES: CLEANED & SANITIZED - Comments: 4-602.11(B-E): INTERIOR OF ICE MACHINE PANEL NOT CLEAN, DEBRIS, RUST ACCUMULATION. INSTD TO CLEAN AND MAINTAIN | 49. NON-FOOD/FOOD CONTACT SURFACES CLEAN - Comments: 4-601.11 EXCESSIVE GREASE AT INTERIOR CABINETS OF FRYERS AND ALL ATTACHED PIPING/LEGS/WHEELS OF COOKING EQUIPMENT. INSTD TO CLEAN AND MAINTAIN | 55. PHYSICAL FACILITIES INSTALLED, MAINTAINED & CLEAN - Comments: 6-201.11: CRACKED FLOOR TILES IN WALK IN COOLER. INSTD TO REPAIR AND MAINTAIN. FLOOR THROUGH REAR OF PREP AREA, UNDER AND BEHIND COOKING LINE AND IN WALK IN COOLER NOT CLEAN, EXCESSIVE GREASE, DEBRIS, FLOUR ACCUMULATION. INSTD TO CLEAN AND MAINTAIN.',\n",
       "  'latitude': '41.79326988666046',\n",
       "  'longitude': '-87.72812477489835',\n",
       "  'location': {'latitude': '-87.72812477489835',\n",
       "   'longitude': '41.79326988666046'}},\n",
       " {'inspection_id': '2472765',\n",
       "  'dba_name': \"FRIDA'S PIZZA CORPORATION\",\n",
       "  'aka_name': \"FRIDA'S PIZZA\",\n",
       "  'license_': '2622951',\n",
       "  'facility_type': 'Restaurant',\n",
       "  'risk': 'Risk 1 (High)',\n",
       "  'address': '5337 W BELMONT AVE ',\n",
       "  'city': 'CHICAGO',\n",
       "  'state': 'IL',\n",
       "  'zip': '60641',\n",
       "  'inspection_date': '2021-01-15T00:00:00.000',\n",
       "  'inspection_type': 'Non-Inspection',\n",
       "  'results': 'No Entry',\n",
       "  'latitude': '41.9385394320182',\n",
       "  'longitude': '-87.7606308007806',\n",
       "  'location': {'latitude': '-87.7606308007806',\n",
       "   'longitude': '41.9385394320182'}}]"
      ]
     },
     "execution_count": 182,
     "metadata": {},
     "output_type": "execute_result"
    }
   ],
   "source": [
    "x"
   ]
  },
  {
   "cell_type": "code",
   "execution_count": 183,
   "metadata": {
    "ExecuteTime": {
     "end_time": "2021-02-23T02:13:58.842994Z",
     "start_time": "2021-02-23T02:13:58.821995Z"
    }
   },
   "outputs": [
    {
     "data": {
      "text/plain": [
       "10"
      ]
     },
     "execution_count": 183,
     "metadata": {},
     "output_type": "execute_result"
    }
   ],
   "source": [
    "len(x)"
   ]
  },
  {
   "cell_type": "markdown",
   "metadata": {},
   "source": [
    "#### Uploading info"
   ]
  },
  {
   "cell_type": "raw",
   "metadata": {
    "ExecuteTime": {
     "end_time": "2021-02-18T17:34:43.908085Z",
     "start_time": "2021-02-18T17:34:39.580493Z"
    }
   },
   "source": [
    "# guardar_ingesta(bucket_name, hist_ingest_path)\n",
    "guardar_ingesta(bucket_name, cont_ingest_path)"
   ]
  },
  {
   "cell_type": "markdown",
   "metadata": {},
   "source": [
    "#### Checking aws s3 contents"
   ]
  },
  {
   "cell_type": "code",
   "execution_count": 89,
   "metadata": {
    "ExecuteTime": {
     "end_time": "2021-02-23T01:44:35.190897Z",
     "start_time": "2021-02-23T01:44:34.873355Z"
    },
    "init_cell": true
   },
   "outputs": [],
   "source": [
    "s3 = get_s3_resource()"
   ]
  },
  {
   "cell_type": "code",
   "execution_count": 90,
   "metadata": {
    "ExecuteTime": {
     "end_time": "2021-02-23T01:44:59.242276Z",
     "start_time": "2021-02-23T01:44:59.217982Z"
    }
   },
   "outputs": [
    {
     "data": {
      "text/plain": [
       "'ingestion/consecutive/'"
      ]
     },
     "execution_count": 90,
     "metadata": {},
     "output_type": "execute_result"
    }
   ],
   "source": [
    "cont_ingest_path"
   ]
  },
  {
   "cell_type": "code",
   "execution_count": 132,
   "metadata": {
    "ExecuteTime": {
     "end_time": "2021-02-23T01:55:15.367770Z",
     "start_time": "2021-02-23T01:55:14.999648Z"
    },
    "scrolled": true
   },
   "outputs": [
    {
     "data": {
      "text/plain": [
       "[{'Key': 'ingestion/consecutive/',\n",
       "  'LastModified': datetime.datetime(2021, 2, 18, 16, 1, 56, tzinfo=tzutc()),\n",
       "  'ETag': '\"d41d8cd98f00b204e9800998ecf8427e\"',\n",
       "  'Size': 0,\n",
       "  'StorageClass': 'STANDARD'},\n",
       " {'Key': 'ingestion/consecutive/consecutive-inspections-2021-02-21.pkl',\n",
       "  'LastModified': datetime.datetime(2021, 2, 22, 2, 53, 54, tzinfo=tzutc()),\n",
       "  'ETag': '\"79cff7864a646f1dfd4d51b4e732a226\"',\n",
       "  'Size': 1152660,\n",
       "  'StorageClass': 'STANDARD'}]"
      ]
     },
     "execution_count": 132,
     "metadata": {},
     "output_type": "execute_result"
    }
   ],
   "source": [
    "objects = s3.list_objects_v2(Bucket=bucket_name, Prefix=cont_ingest_path)['Contents']\n",
    "objects"
   ]
  },
  {
   "cell_type": "code",
   "execution_count": 133,
   "metadata": {
    "ExecuteTime": {
     "end_time": "2021-02-23T01:55:15.390063Z",
     "start_time": "2021-02-23T01:55:15.369571Z"
    }
   },
   "outputs": [],
   "source": [
    "objects.append(\n",
    " {'Key': 'ingestion/consecutive/consecutive-inspections-2021-02-22.pkl',\n",
    "  'LastModified': \"datetime.datetime(2021, 2, 22, 2, 53, 54, tzinfo=tzutc())\",\n",
    "  'ETag': '\"79cff7864a646f1dfd4d51b4e732a226\"',\n",
    "  'Size': 1152660,\n",
    "  'StorageClass': 'STANDARD'}\n",
    ")\n",
    "\n",
    "objects.append(\n",
    " {'Key': 'ingestion/consecutive/consecutive-inspections-2021-02-15.pkl',\n",
    "  'LastModified': \"datetime.datetime(2021, 2, 22, 2, 53, 54, tzinfo=tzutc())\",\n",
    "  'ETag': '\"79cff7864a646f1dfd4d51b4e732a226\"',\n",
    "  'Size': 1152660,\n",
    "  'StorageClass': 'STANDARD'}\n",
    ")\n",
    "\n",
    "objects.append(\n",
    " {'Key': 'ingestion/consecutive/consecutive-inspections-2021-02-10.pkl',\n",
    "  'LastModified': \"datetime.datetime(2021, 2, 22, 2, 53, 54, tzinfo=tzutc())\",\n",
    "  'ETag': '\"79cff7864a646f1dfd4d51b4e732a226\"',\n",
    "  'Size': 1152660,\n",
    "  'StorageClass': 'STANDARD'}\n",
    ")"
   ]
  },
  {
   "cell_type": "code",
   "execution_count": 168,
   "metadata": {
    "ExecuteTime": {
     "end_time": "2021-02-23T02:09:47.057743Z",
     "start_time": "2021-02-23T02:09:47.033152Z"
    }
   },
   "outputs": [
    {
     "data": {
      "text/plain": [
       "'2021-02-22'"
      ]
     },
     "execution_count": 168,
     "metadata": {},
     "output_type": "execute_result"
    }
   ],
   "source": [
    "rex = str(cont_dat_prefix) + \"(.*).pkl\"\n",
    "\n",
    "lx = [datetime.strptime(re.search(rex, obj[\"Key\"]).group(1), '%Y-%m-%d') for obj in objects if cont_dat_prefix in obj[\"Key\"]]\n",
    "most_rec_date = datetime.strftime(max(lx), '%Y-%m-%d')\n",
    "most_rec_date"
   ]
  },
  {
   "cell_type": "code",
   "execution_count": 95,
   "metadata": {
    "ExecuteTime": {
     "end_time": "2021-02-23T01:46:19.553156Z",
     "start_time": "2021-02-23T01:46:18.658626Z"
    }
   },
   "outputs": [],
   "source": [
    "s3x = pickle.loads(s3.get_object(Bucket=bucket_name, Key=(cont_ingest_path + \"consecutive-inspections-2021-02-21.pkl\"))['Body'].read())"
   ]
  },
  {
   "cell_type": "raw",
   "metadata": {
    "ExecuteTime": {
     "end_time": "2021-02-23T00:00:30.371652Z",
     "start_time": "2021-02-23T00:00:29.847983Z"
    }
   },
   "source": [
    "s3x"
   ]
  },
  {
   "cell_type": "code",
   "execution_count": 96,
   "metadata": {
    "ExecuteTime": {
     "end_time": "2021-02-23T01:46:25.020555Z",
     "start_time": "2021-02-23T01:46:24.907838Z"
    },
    "scrolled": true
   },
   "outputs": [
    {
     "data": {
      "text/html": [
       "<div>\n",
       "<style scoped>\n",
       "    .dataframe tbody tr th:only-of-type {\n",
       "        vertical-align: middle;\n",
       "    }\n",
       "\n",
       "    .dataframe tbody tr th {\n",
       "        vertical-align: top;\n",
       "    }\n",
       "\n",
       "    .dataframe thead th {\n",
       "        text-align: right;\n",
       "    }\n",
       "</style>\n",
       "<table border=\"1\" class=\"dataframe\">\n",
       "  <thead>\n",
       "    <tr style=\"text-align: right;\">\n",
       "      <th></th>\n",
       "      <th>inspection_id</th>\n",
       "      <th>dba_name</th>\n",
       "      <th>aka_name</th>\n",
       "      <th>license_</th>\n",
       "      <th>facility_type</th>\n",
       "      <th>risk</th>\n",
       "      <th>address</th>\n",
       "      <th>city</th>\n",
       "      <th>state</th>\n",
       "      <th>zip</th>\n",
       "      <th>inspection_date</th>\n",
       "      <th>inspection_type</th>\n",
       "      <th>results</th>\n",
       "      <th>violations</th>\n",
       "      <th>latitude</th>\n",
       "      <th>longitude</th>\n",
       "      <th>location</th>\n",
       "    </tr>\n",
       "  </thead>\n",
       "  <tbody>\n",
       "    <tr>\n",
       "      <th>0</th>\n",
       "      <td>2484930</td>\n",
       "      <td>EL PAISANO TACOS INC</td>\n",
       "      <td>EL PAISANO TACOS</td>\n",
       "      <td>2501058</td>\n",
       "      <td>Restaurant</td>\n",
       "      <td>Risk 1 (High)</td>\n",
       "      <td>2429 W DIVISION ST</td>\n",
       "      <td>CHICAGO</td>\n",
       "      <td>IL</td>\n",
       "      <td>60622</td>\n",
       "      <td>2021-02-19T00:00:00.000</td>\n",
       "      <td>Complaint</td>\n",
       "      <td>Pass</td>\n",
       "      <td>47. FOOD &amp; NON-FOOD CONTACT SURFACES CLEANABLE...</td>\n",
       "      <td>41.90289443680921</td>\n",
       "      <td>-87.68823386858675</td>\n",
       "      <td>{'latitude': '-87.68823386858675', 'longitude'...</td>\n",
       "    </tr>\n",
       "    <tr>\n",
       "      <th>1</th>\n",
       "      <td>2484934</td>\n",
       "      <td>LA ESCUELITA</td>\n",
       "      <td>LA ESCUELITA</td>\n",
       "      <td>2488235</td>\n",
       "      <td>Children's Services Facility</td>\n",
       "      <td>Risk 1 (High)</td>\n",
       "      <td>5400 W FULLERTON AVE</td>\n",
       "      <td>CHICAGO</td>\n",
       "      <td>IL</td>\n",
       "      <td>60639</td>\n",
       "      <td>2021-02-19T00:00:00.000</td>\n",
       "      <td>License</td>\n",
       "      <td>Pass</td>\n",
       "      <td>36. THERMOMETERS PROVIDED &amp; ACCURATE - Comment...</td>\n",
       "      <td>41.9241535287086</td>\n",
       "      <td>-87.76113266206144</td>\n",
       "      <td>{'latitude': '-87.76113266206144', 'longitude'...</td>\n",
       "    </tr>\n",
       "    <tr>\n",
       "      <th>2</th>\n",
       "      <td>2484936</td>\n",
       "      <td>THE BAR ON BUENA</td>\n",
       "      <td>THE BAR ON BUENA</td>\n",
       "      <td>47876</td>\n",
       "      <td>Restaurant</td>\n",
       "      <td>Risk 1 (High)</td>\n",
       "      <td>910 W BUENA AVE</td>\n",
       "      <td>CHICAGO</td>\n",
       "      <td>IL</td>\n",
       "      <td>60613</td>\n",
       "      <td>2021-02-19T00:00:00.000</td>\n",
       "      <td>Canvass</td>\n",
       "      <td>Fail</td>\n",
       "      <td>39. CONTAMINATION PREVENTED DURING FOOD PREPAR...</td>\n",
       "      <td>41.958550897849705</td>\n",
       "      <td>-87.65352004893188</td>\n",
       "      <td>{'latitude': '-87.65352004893188', 'longitude'...</td>\n",
       "    </tr>\n",
       "    <tr>\n",
       "      <th>3</th>\n",
       "      <td>2484931</td>\n",
       "      <td>Dunkin Donuts Baskin Robbins</td>\n",
       "      <td>Dunkin Donuts Baskin Robbins</td>\n",
       "      <td>1475713</td>\n",
       "      <td>Restaurant</td>\n",
       "      <td>Risk 2 (Medium)</td>\n",
       "      <td>1651 W ROOSEVELT RD</td>\n",
       "      <td>CHICAGO</td>\n",
       "      <td>IL</td>\n",
       "      <td>60608</td>\n",
       "      <td>2021-02-19T00:00:00.000</td>\n",
       "      <td>Complaint</td>\n",
       "      <td>Fail</td>\n",
       "      <td>50. HOT &amp; COLD WATER AVAILABLE; ADEQUATE PRESS...</td>\n",
       "      <td>41.866749382827074</td>\n",
       "      <td>-87.66846405285052</td>\n",
       "      <td>{'latitude': '-87.66846405285052', 'longitude'...</td>\n",
       "    </tr>\n",
       "    <tr>\n",
       "      <th>4</th>\n",
       "      <td>2484917</td>\n",
       "      <td>THE GRAND CHILD CARE CENTER, INC.</td>\n",
       "      <td>THE GRAND CHILD CARE CENTER, INC.</td>\n",
       "      <td>2220002</td>\n",
       "      <td>Children's Services Facility</td>\n",
       "      <td>Risk 1 (High)</td>\n",
       "      <td>5945 W GRAND AVE</td>\n",
       "      <td>CHICAGO</td>\n",
       "      <td>IL</td>\n",
       "      <td>60639</td>\n",
       "      <td>2021-02-19T00:00:00.000</td>\n",
       "      <td>License</td>\n",
       "      <td>Pass</td>\n",
       "      <td>36. THERMOMETERS PROVIDED &amp; ACCURATE - Comment...</td>\n",
       "      <td>41.920325606712524</td>\n",
       "      <td>-87.77494740927297</td>\n",
       "      <td>{'latitude': '-87.77494740927297', 'longitude'...</td>\n",
       "    </tr>\n",
       "    <tr>\n",
       "      <th>...</th>\n",
       "      <td>...</td>\n",
       "      <td>...</td>\n",
       "      <td>...</td>\n",
       "      <td>...</td>\n",
       "      <td>...</td>\n",
       "      <td>...</td>\n",
       "      <td>...</td>\n",
       "      <td>...</td>\n",
       "      <td>...</td>\n",
       "      <td>...</td>\n",
       "      <td>...</td>\n",
       "      <td>...</td>\n",
       "      <td>...</td>\n",
       "      <td>...</td>\n",
       "      <td>...</td>\n",
       "      <td>...</td>\n",
       "      <td>...</td>\n",
       "    </tr>\n",
       "    <tr>\n",
       "      <th>995</th>\n",
       "      <td>2472820</td>\n",
       "      <td>MOGADISHU RESTAURANT INC.</td>\n",
       "      <td>MOGADISHU RESTAURANT INC.</td>\n",
       "      <td>1959848</td>\n",
       "      <td>Restaurant</td>\n",
       "      <td>Risk 1 (High)</td>\n",
       "      <td>931 N ORLEANS ST</td>\n",
       "      <td>CHICAGO</td>\n",
       "      <td>IL</td>\n",
       "      <td>60610</td>\n",
       "      <td>2021-01-19T00:00:00.000</td>\n",
       "      <td>Canvass</td>\n",
       "      <td>Pass w/ Conditions</td>\n",
       "      <td>2. CITY OF CHICAGO FOOD SERVICE SANITATION CER...</td>\n",
       "      <td>41.89989401176249</td>\n",
       "      <td>-87.63715073549078</td>\n",
       "      <td>{'latitude': '-87.63715073549078', 'longitude'...</td>\n",
       "    </tr>\n",
       "    <tr>\n",
       "      <th>996</th>\n",
       "      <td>2472846</td>\n",
       "      <td>GRIDDLE 24</td>\n",
       "      <td>GRIDDLE 24</td>\n",
       "      <td>2432253</td>\n",
       "      <td>Restaurant</td>\n",
       "      <td>Risk 1 (High)</td>\n",
       "      <td>334 W CHICAGO AVE</td>\n",
       "      <td>CHICAGO</td>\n",
       "      <td>IL</td>\n",
       "      <td>60654</td>\n",
       "      <td>2021-01-19T00:00:00.000</td>\n",
       "      <td>Non-Inspection</td>\n",
       "      <td>No Entry</td>\n",
       "      <td>NaN</td>\n",
       "      <td>41.89666241521221</td>\n",
       "      <td>-87.63710138046027</td>\n",
       "      <td>{'latitude': '-87.63710138046027', 'longitude'...</td>\n",
       "    </tr>\n",
       "    <tr>\n",
       "      <th>997</th>\n",
       "      <td>2472842</td>\n",
       "      <td>TRIO</td>\n",
       "      <td>TRIO</td>\n",
       "      <td>2664694</td>\n",
       "      <td>Restaurant</td>\n",
       "      <td>Risk 1 (High)</td>\n",
       "      <td>840 N ORLEANS ST</td>\n",
       "      <td>CHICAGO</td>\n",
       "      <td>IL</td>\n",
       "      <td>60610</td>\n",
       "      <td>2021-01-19T00:00:00.000</td>\n",
       "      <td>Canvass Re-Inspection</td>\n",
       "      <td>Pass w/ Conditions</td>\n",
       "      <td>29. COMPLIANCE WITH VARIANCE/SPECIALIZED PROCE...</td>\n",
       "      <td>41.897839232090995</td>\n",
       "      <td>-87.63736478047242</td>\n",
       "      <td>{'latitude': '-87.63736478047242', 'longitude'...</td>\n",
       "    </tr>\n",
       "    <tr>\n",
       "      <th>998</th>\n",
       "      <td>2472817</td>\n",
       "      <td>CHAYHANA</td>\n",
       "      <td>CHAYHANA</td>\n",
       "      <td>2442858</td>\n",
       "      <td>Restaurant</td>\n",
       "      <td>Risk 1 (High)</td>\n",
       "      <td>2245 W IRVING PARK RD</td>\n",
       "      <td>CHICAGO</td>\n",
       "      <td>IL</td>\n",
       "      <td>60618</td>\n",
       "      <td>2021-01-19T00:00:00.000</td>\n",
       "      <td>Canvass Re-Inspection</td>\n",
       "      <td>Pass</td>\n",
       "      <td>51. PLUMBING INSTALLED; PROPER BACKFLOW DEVICE...</td>\n",
       "      <td>41.95394859951932</td>\n",
       "      <td>-87.68539017232962</td>\n",
       "      <td>{'latitude': '-87.68539017232962', 'longitude'...</td>\n",
       "    </tr>\n",
       "    <tr>\n",
       "      <th>999</th>\n",
       "      <td>2472876</td>\n",
       "      <td>JOYS</td>\n",
       "      <td>JOY'S</td>\n",
       "      <td>1677471</td>\n",
       "      <td>Restaurant</td>\n",
       "      <td>Risk 1 (High)</td>\n",
       "      <td>3257-3259 N BROADWAY</td>\n",
       "      <td>CHICAGO</td>\n",
       "      <td>IL</td>\n",
       "      <td>60657</td>\n",
       "      <td>2021-01-19T00:00:00.000</td>\n",
       "      <td>Canvass Re-Inspection</td>\n",
       "      <td>Pass</td>\n",
       "      <td>NaN</td>\n",
       "      <td>41.94171290343118</td>\n",
       "      <td>-87.64430633617879</td>\n",
       "      <td>{'latitude': '-87.64430633617879', 'longitude'...</td>\n",
       "    </tr>\n",
       "  </tbody>\n",
       "</table>\n",
       "<p>1000 rows × 17 columns</p>\n",
       "</div>"
      ],
      "text/plain": [
       "    inspection_id                           dba_name  \\\n",
       "0         2484930               EL PAISANO TACOS INC   \n",
       "1         2484934                       LA ESCUELITA   \n",
       "2         2484936                   THE BAR ON BUENA   \n",
       "3         2484931       Dunkin Donuts Baskin Robbins   \n",
       "4         2484917  THE GRAND CHILD CARE CENTER, INC.   \n",
       "..            ...                                ...   \n",
       "995       2472820          MOGADISHU RESTAURANT INC.   \n",
       "996       2472846                         GRIDDLE 24   \n",
       "997       2472842                               TRIO   \n",
       "998       2472817                           CHAYHANA   \n",
       "999       2472876                               JOYS   \n",
       "\n",
       "                              aka_name license_                 facility_type  \\\n",
       "0                     EL PAISANO TACOS  2501058                    Restaurant   \n",
       "1                         LA ESCUELITA  2488235  Children's Services Facility   \n",
       "2                     THE BAR ON BUENA    47876                    Restaurant   \n",
       "3         Dunkin Donuts Baskin Robbins  1475713                    Restaurant   \n",
       "4    THE GRAND CHILD CARE CENTER, INC.  2220002  Children's Services Facility   \n",
       "..                                 ...      ...                           ...   \n",
       "995          MOGADISHU RESTAURANT INC.  1959848                    Restaurant   \n",
       "996                         GRIDDLE 24  2432253                    Restaurant   \n",
       "997                               TRIO  2664694                    Restaurant   \n",
       "998                           CHAYHANA  2442858                    Restaurant   \n",
       "999                              JOY'S  1677471                    Restaurant   \n",
       "\n",
       "                risk                 address     city state    zip  \\\n",
       "0      Risk 1 (High)     2429 W DIVISION ST   CHICAGO    IL  60622   \n",
       "1      Risk 1 (High)   5400 W FULLERTON AVE   CHICAGO    IL  60639   \n",
       "2      Risk 1 (High)        910 W BUENA AVE   CHICAGO    IL  60613   \n",
       "3    Risk 2 (Medium)    1651 W ROOSEVELT RD   CHICAGO    IL  60608   \n",
       "4      Risk 1 (High)       5945 W GRAND AVE   CHICAGO    IL  60639   \n",
       "..               ...                     ...      ...   ...    ...   \n",
       "995    Risk 1 (High)       931 N ORLEANS ST   CHICAGO    IL  60610   \n",
       "996    Risk 1 (High)      334 W CHICAGO AVE   CHICAGO    IL  60654   \n",
       "997    Risk 1 (High)       840 N ORLEANS ST   CHICAGO    IL  60610   \n",
       "998    Risk 1 (High)  2245 W IRVING PARK RD   CHICAGO    IL  60618   \n",
       "999    Risk 1 (High)   3257-3259 N BROADWAY   CHICAGO    IL  60657   \n",
       "\n",
       "             inspection_date        inspection_type             results  \\\n",
       "0    2021-02-19T00:00:00.000              Complaint                Pass   \n",
       "1    2021-02-19T00:00:00.000                License                Pass   \n",
       "2    2021-02-19T00:00:00.000                Canvass                Fail   \n",
       "3    2021-02-19T00:00:00.000              Complaint                Fail   \n",
       "4    2021-02-19T00:00:00.000                License                Pass   \n",
       "..                       ...                    ...                 ...   \n",
       "995  2021-01-19T00:00:00.000                Canvass  Pass w/ Conditions   \n",
       "996  2021-01-19T00:00:00.000         Non-Inspection            No Entry   \n",
       "997  2021-01-19T00:00:00.000  Canvass Re-Inspection  Pass w/ Conditions   \n",
       "998  2021-01-19T00:00:00.000  Canvass Re-Inspection                Pass   \n",
       "999  2021-01-19T00:00:00.000  Canvass Re-Inspection                Pass   \n",
       "\n",
       "                                            violations            latitude  \\\n",
       "0    47. FOOD & NON-FOOD CONTACT SURFACES CLEANABLE...   41.90289443680921   \n",
       "1    36. THERMOMETERS PROVIDED & ACCURATE - Comment...    41.9241535287086   \n",
       "2    39. CONTAMINATION PREVENTED DURING FOOD PREPAR...  41.958550897849705   \n",
       "3    50. HOT & COLD WATER AVAILABLE; ADEQUATE PRESS...  41.866749382827074   \n",
       "4    36. THERMOMETERS PROVIDED & ACCURATE - Comment...  41.920325606712524   \n",
       "..                                                 ...                 ...   \n",
       "995  2. CITY OF CHICAGO FOOD SERVICE SANITATION CER...   41.89989401176249   \n",
       "996                                                NaN   41.89666241521221   \n",
       "997  29. COMPLIANCE WITH VARIANCE/SPECIALIZED PROCE...  41.897839232090995   \n",
       "998  51. PLUMBING INSTALLED; PROPER BACKFLOW DEVICE...   41.95394859951932   \n",
       "999                                                NaN   41.94171290343118   \n",
       "\n",
       "              longitude                                           location  \n",
       "0    -87.68823386858675  {'latitude': '-87.68823386858675', 'longitude'...  \n",
       "1    -87.76113266206144  {'latitude': '-87.76113266206144', 'longitude'...  \n",
       "2    -87.65352004893188  {'latitude': '-87.65352004893188', 'longitude'...  \n",
       "3    -87.66846405285052  {'latitude': '-87.66846405285052', 'longitude'...  \n",
       "4    -87.77494740927297  {'latitude': '-87.77494740927297', 'longitude'...  \n",
       "..                  ...                                                ...  \n",
       "995  -87.63715073549078  {'latitude': '-87.63715073549078', 'longitude'...  \n",
       "996  -87.63710138046027  {'latitude': '-87.63710138046027', 'longitude'...  \n",
       "997  -87.63736478047242  {'latitude': '-87.63736478047242', 'longitude'...  \n",
       "998  -87.68539017232962  {'latitude': '-87.68539017232962', 'longitude'...  \n",
       "999  -87.64430633617879  {'latitude': '-87.64430633617879', 'longitude'...  \n",
       "\n",
       "[1000 rows x 17 columns]"
      ]
     },
     "execution_count": 96,
     "metadata": {},
     "output_type": "execute_result"
    }
   ],
   "source": [
    "dfx = pd.DataFrame(s3x)\n",
    "dfx"
   ]
  },
  {
   "cell_type": "code",
   "execution_count": 97,
   "metadata": {
    "ExecuteTime": {
     "end_time": "2021-02-23T01:46:34.414740Z",
     "start_time": "2021-02-23T01:46:34.366147Z"
    }
   },
   "outputs": [],
   "source": [
    "dfx[\"inspection_date\"] = pd.to_datetime(dfx[\"inspection_date\"])"
   ]
  },
  {
   "cell_type": "code",
   "execution_count": 98,
   "metadata": {
    "ExecuteTime": {
     "end_time": "2021-02-23T01:46:34.685530Z",
     "start_time": "2021-02-23T01:46:34.658404Z"
    }
   },
   "outputs": [
    {
     "name": "stdout",
     "output_type": "stream",
     "text": [
      "max date:  2021-02-19 00:00:00\n",
      "min date:  2021-01-19 00:00:00\n"
     ]
    }
   ],
   "source": [
    "print(\"max date: \", max(dfx[\"inspection_date\"]))\n",
    "print(\"min date: \", min(dfx[\"inspection_date\"]))"
   ]
  },
  {
   "cell_type": "code",
   "execution_count": 71,
   "metadata": {
    "ExecuteTime": {
     "end_time": "2021-02-23T00:10:59.859142Z",
     "start_time": "2021-02-23T00:10:59.342740Z"
    },
    "scrolled": true
   },
   "outputs": [
    {
     "data": {
      "text/html": [
       "<div>\n",
       "<style scoped>\n",
       "    .dataframe tbody tr th:only-of-type {\n",
       "        vertical-align: middle;\n",
       "    }\n",
       "\n",
       "    .dataframe tbody tr th {\n",
       "        vertical-align: top;\n",
       "    }\n",
       "\n",
       "    .dataframe thead th {\n",
       "        text-align: right;\n",
       "    }\n",
       "</style>\n",
       "<table border=\"1\" class=\"dataframe\">\n",
       "  <thead>\n",
       "    <tr style=\"text-align: right;\">\n",
       "      <th></th>\n",
       "      <th>inspection_id</th>\n",
       "    </tr>\n",
       "    <tr>\n",
       "      <th>inspection_date</th>\n",
       "      <th></th>\n",
       "    </tr>\n",
       "  </thead>\n",
       "  <tbody>\n",
       "    <tr>\n",
       "      <th>2021-02-19</th>\n",
       "      <td>5</td>\n",
       "    </tr>\n",
       "    <tr>\n",
       "      <th>2021-02-18</th>\n",
       "      <td>24</td>\n",
       "    </tr>\n",
       "    <tr>\n",
       "      <th>2021-02-17</th>\n",
       "      <td>28</td>\n",
       "    </tr>\n",
       "    <tr>\n",
       "      <th>2021-02-16</th>\n",
       "      <td>2</td>\n",
       "    </tr>\n",
       "    <tr>\n",
       "      <th>2021-02-11</th>\n",
       "      <td>42</td>\n",
       "    </tr>\n",
       "    <tr>\n",
       "      <th>...</th>\n",
       "      <td>...</td>\n",
       "    </tr>\n",
       "    <tr>\n",
       "      <th>2010-01-08</th>\n",
       "      <td>43</td>\n",
       "    </tr>\n",
       "    <tr>\n",
       "      <th>2010-01-07</th>\n",
       "      <td>62</td>\n",
       "    </tr>\n",
       "    <tr>\n",
       "      <th>2010-01-06</th>\n",
       "      <td>81</td>\n",
       "    </tr>\n",
       "    <tr>\n",
       "      <th>2010-01-05</th>\n",
       "      <td>71</td>\n",
       "    </tr>\n",
       "    <tr>\n",
       "      <th>2010-01-04</th>\n",
       "      <td>7</td>\n",
       "    </tr>\n",
       "  </tbody>\n",
       "</table>\n",
       "<p>2819 rows × 1 columns</p>\n",
       "</div>"
      ],
      "text/plain": [
       "                 inspection_id\n",
       "inspection_date               \n",
       "2021-02-19                   5\n",
       "2021-02-18                  24\n",
       "2021-02-17                  28\n",
       "2021-02-16                   2\n",
       "2021-02-11                  42\n",
       "...                        ...\n",
       "2010-01-08                  43\n",
       "2010-01-07                  62\n",
       "2010-01-06                  81\n",
       "2010-01-05                  71\n",
       "2010-01-04                   7\n",
       "\n",
       "[2819 rows x 1 columns]"
      ]
     },
     "execution_count": 71,
     "metadata": {},
     "output_type": "execute_result"
    }
   ],
   "source": [
    "dfx.groupby(pd.Grouper(key=\"inspection_date\")).count()[[\"inspection_id\"]]"
   ]
  },
  {
   "cell_type": "markdown",
   "metadata": {},
   "source": [
    "---"
   ]
  }
 ],
 "metadata": {
  "celltoolbar": "Initialization Cell",
  "kernelspec": {
   "display_name": "Python 3",
   "language": "python",
   "name": "python3"
  },
  "language_info": {
   "codemirror_mode": {
    "name": "ipython",
    "version": 3
   },
   "file_extension": ".py",
   "mimetype": "text/x-python",
   "name": "python",
   "nbconvert_exporter": "python",
   "pygments_lexer": "ipython3",
   "version": "3.8.5"
  },
  "toc": {
   "base_numbering": 1,
   "nav_menu": {},
   "number_sections": true,
   "sideBar": true,
   "skip_h1_title": false,
   "title_cell": "Table of Contents",
   "title_sidebar": "Contents",
   "toc_cell": false,
   "toc_position": {},
   "toc_section_display": true,
   "toc_window_display": false
  }
 },
 "nbformat": 4,
 "nbformat_minor": 4
}
