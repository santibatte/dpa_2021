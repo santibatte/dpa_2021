{
 "cells": [
  {
   "cell_type": "markdown",
   "metadata": {},
   "source": [
    "# Notebook with test code"
   ]
  },
  {
   "cell_type": "markdown",
   "metadata": {},
   "source": [
    "---"
   ]
  },
  {
   "cell_type": "markdown",
   "metadata": {},
   "source": [
    "## Imports"
   ]
  },
  {
   "cell_type": "markdown",
   "metadata": {
    "heading_collapsed": true
   },
   "source": [
    "### Standard library imports"
   ]
  },
  {
   "cell_type": "code",
   "execution_count": 1,
   "metadata": {
    "ExecuteTime": {
     "end_time": "2021-03-17T22:26:33.255722Z",
     "start_time": "2021-03-17T22:26:33.219140Z"
    },
    "hidden": true,
    "init_cell": true
   },
   "outputs": [],
   "source": [
    "import yaml\n",
    "\n",
    "import sys\n",
    "\n",
    "from datetime import (date, datetime)\n",
    "\n",
    "import os\n",
    "\n",
    "import pickle\n",
    "\n",
    "import re"
   ]
  },
  {
   "cell_type": "markdown",
   "metadata": {
    "heading_collapsed": true
   },
   "source": [
    "### Third party libraries"
   ]
  },
  {
   "cell_type": "code",
   "execution_count": 2,
   "metadata": {
    "ExecuteTime": {
     "end_time": "2021-03-17T22:26:33.967154Z",
     "start_time": "2021-03-17T22:26:33.258049Z"
    },
    "hidden": true,
    "init_cell": true
   },
   "outputs": [],
   "source": [
    "import boto3\n",
    "\n",
    "import pandas as pd"
   ]
  },
  {
   "cell_type": "markdown",
   "metadata": {},
   "source": [
    "### Local application imports"
   ]
  },
  {
   "cell_type": "code",
   "execution_count": 3,
   "metadata": {
    "ExecuteTime": {
     "end_time": "2021-03-17T22:26:33.972503Z",
     "start_time": "2021-03-17T22:26:33.969812Z"
    },
    "init_cell": true
   },
   "outputs": [],
   "source": [
    "sys.path.append(\"../\")"
   ]
  },
  {
   "cell_type": "code",
   "execution_count": 4,
   "metadata": {
    "ExecuteTime": {
     "end_time": "2021-03-17T22:26:35.971973Z",
     "start_time": "2021-03-17T22:26:33.975298Z"
    },
    "init_cell": true
   },
   "outputs": [
    {
     "ename": "ModuleNotFoundError",
     "evalue": "No module named 'src.utils.general'",
     "output_type": "error",
     "traceback": [
      "\u001b[0;31m------------\u001b[0m",
      "\u001b[0;31mModuleNotFoundError\u001b[0mTraceback (most recent call last)",
      "\u001b[0;32m<ipython-input-4-95af8c86d807>\u001b[0m in \u001b[0;36m<module>\u001b[0;34m\u001b[0m\n\u001b[1;32m     14\u001b[0m )\n\u001b[1;32m     15\u001b[0m \u001b[0;34m\u001b[0m\u001b[0m\n\u001b[0;32m---> 16\u001b[0;31m from src.utils.general import (\n\u001b[0m\u001b[1;32m     17\u001b[0m     \u001b[0mget_api_token\u001b[0m\u001b[0;34m\u001b[0m\u001b[0;34m\u001b[0m\u001b[0m\n\u001b[1;32m     18\u001b[0m )\n",
      "\u001b[0;31mModuleNotFoundError\u001b[0m: No module named 'src.utils.general'"
     ]
    }
   ],
   "source": [
    "%load_ext autoreload\n",
    "%autoreload 2\n",
    "\n",
    "from src.etl.ingesta_almacenamiento import (\n",
    "    \n",
    "    ## Functions\n",
    "    get_client,\n",
    "    ingesta_inicial,\n",
    "    ingesta_consecutiva,\n",
    "    get_s3_resource,\n",
    "    guardar_ingesta,\n",
    "    get_s3_credentials,\n",
    "    \n",
    ")\n",
    "\n",
    "from src.utils.general import (\n",
    "    get_api_token\n",
    ")"
   ]
  },
  {
   "cell_type": "markdown",
   "metadata": {},
   "source": [
    "---"
   ]
  },
  {
   "cell_type": "markdown",
   "metadata": {
    "heading_collapsed": true
   },
   "source": [
    "## AWS base examples"
   ]
  },
  {
   "cell_type": "markdown",
   "metadata": {
    "hidden": true
   },
   "source": [
    "### S3"
   ]
  },
  {
   "cell_type": "markdown",
   "metadata": {
    "hidden": true
   },
   "source": [
    "#### Initial configuration"
   ]
  },
  {
   "cell_type": "code",
   "execution_count": null,
   "metadata": {
    "ExecuteTime": {
     "end_time": "2021-02-20T01:41:59.230292Z",
     "start_time": "2021-02-20T01:41:59.115804Z"
    },
    "hidden": true
   },
   "outputs": [],
   "source": [
    "ses = boto3.session.Session(profile_name=\"robper_dpa\")"
   ]
  },
  {
   "cell_type": "code",
   "execution_count": null,
   "metadata": {
    "ExecuteTime": {
     "end_time": "2021-02-20T01:41:59.696177Z",
     "start_time": "2021-02-20T01:41:59.343490Z"
    },
    "hidden": true
   },
   "outputs": [],
   "source": [
    "s3 = ses.resource(\"s3\")"
   ]
  },
  {
   "cell_type": "code",
   "execution_count": null,
   "metadata": {
    "ExecuteTime": {
     "end_time": "2021-02-20T01:42:00.309962Z",
     "start_time": "2021-02-20T01:41:59.697962Z"
    },
    "hidden": true
   },
   "outputs": [],
   "source": [
    "[buck.name for buck in s3.buckets.all()]"
   ]
  },
  {
   "cell_type": "raw",
   "metadata": {
    "ExecuteTime": {
     "end_time": "2021-02-18T16:07:32.833948Z",
     "start_time": "2021-02-18T16:07:32.812791Z"
    },
    "hidden": true
   },
   "source": [
    "# este archivo yaml vive en tu conf/local/credentials.yaml\n",
    "# este va en src/utils general.py\n",
    "def read_yaml_file(yaml_file):\n",
    "    \"\"\" load yaml cofigurations \"\"\"\n",
    "\n",
    "    config = None\n",
    "    try: \n",
    "        with open (yaml_file, 'r') as f:\n",
    "            config = yaml.safe_load(f)\n",
    "    except:\n",
    "        raise FileNotFoundError('Couldnt load the file')\n",
    "    \n",
    "    return config"
   ]
  },
  {
   "cell_type": "raw",
   "metadata": {
    "ExecuteTime": {
     "end_time": "2021-02-18T16:07:33.153905Z",
     "start_time": "2021-02-18T16:07:33.134152Z"
    },
    "hidden": true
   },
   "source": [
    "# este va en src/utils general.py\n",
    "def get_s3_credentials(credentials_file):\n",
    "    credentials = read_yaml_file(credentials_file)\n",
    "    s3_creds = credentials['s3']\n",
    "\n",
    "    return s3_creds"
   ]
  },
  {
   "cell_type": "code",
   "execution_count": 8,
   "metadata": {
    "ExecuteTime": {
     "end_time": "2021-03-16T20:24:57.277310Z",
     "start_time": "2021-03-16T20:24:57.030212Z"
    },
    "hidden": true
   },
   "outputs": [],
   "source": [
    "s3_creds = get_s3_credentials(\"../conf/local/credentials.yaml\")\n",
    "\n",
    "session = boto3.Session(\n",
    "    aws_access_key_id=s3_creds['aws_access_key_id'],\n",
    "    aws_secret_access_key=s3_creds['aws_secret_access_key']\n",
    ")\n",
    "s3 = session.client('s3')"
   ]
  },
  {
   "cell_type": "markdown",
   "metadata": {
    "hidden": true
   },
   "source": [
    "#### Connecting to existing bucket and viewing contents"
   ]
  },
  {
   "cell_type": "code",
   "execution_count": 11,
   "metadata": {
    "ExecuteTime": {
     "end_time": "2021-03-16T20:59:11.045562Z",
     "start_time": "2021-03-16T20:59:10.974731Z"
    },
    "hidden": true
   },
   "outputs": [],
   "source": [
    "bucket = \"data-product-architecture-equipo-9\"\n",
    "key =\"ingestion/initial\""
   ]
  },
  {
   "cell_type": "code",
   "execution_count": 12,
   "metadata": {
    "ExecuteTime": {
     "end_time": "2021-03-16T20:59:11.576060Z",
     "start_time": "2021-03-16T20:59:11.161380Z"
    },
    "hidden": true
   },
   "outputs": [
    {
     "data": {
      "text/plain": [
       "[{'Key': 'ingestion/initial/YEAR=2021/MONTH=03/ingesta.pkl',\n",
       "  'LastModified': datetime.datetime(2021, 3, 15, 23, 37, 15, tzinfo=tzutc()),\n",
       "  'ETag': '\"d72a24388342ada956ed95095bbee96e\"',\n",
       "  'Size': 293826470,\n",
       "  'StorageClass': 'STANDARD'},\n",
       " {'Key': 'ingestion/initial/historic-inspections-2021-02-19.pkl',\n",
       "  'LastModified': datetime.datetime(2021, 2, 20, 1, 53, 32, tzinfo=tzutc()),\n",
       "  'ETag': '\"3414a3b19529ec3e91de6838c3c9585f-31\"',\n",
       "  'Size': 257245095,\n",
       "  'StorageClass': 'STANDARD'}]"
      ]
     },
     "execution_count": 12,
     "metadata": {},
     "output_type": "execute_result"
    }
   ],
   "source": [
    "objects = s3.list_objects_v2(Bucket=bucket, Prefix=key)['Contents']\n",
    "objects"
   ]
  },
  {
   "cell_type": "markdown",
   "metadata": {
    "hidden": true
   },
   "source": [
    "#### Creating bucket"
   ]
  },
  {
   "cell_type": "code",
   "execution_count": null,
   "metadata": {
    "ExecuteTime": {
     "end_time": "2021-02-18T01:37:06.424086Z",
     "start_time": "2021-02-18T01:37:05.427085Z"
    },
    "hidden": true
   },
   "outputs": [],
   "source": [
    "bucket_name = \"comdline-test-bucket-rob\"\n",
    "\n",
    "s3.create_bucket(\n",
    "    Bucket=bucket_name,\n",
    "    CreateBucketConfiguration={'LocationConstraint': 'us-west-2'},\n",
    "    ACL=\"private\"\n",
    ")"
   ]
  },
  {
   "cell_type": "markdown",
   "metadata": {
    "hidden": true
   },
   "source": [
    "#### Uploading file to bucket"
   ]
  },
  {
   "cell_type": "code",
   "execution_count": null,
   "metadata": {
    "ExecuteTime": {
     "end_time": "2021-02-18T01:47:41.937898Z",
     "start_time": "2021-02-18T01:47:41.935447Z"
    },
    "hidden": true
   },
   "outputs": [],
   "source": [
    "file_to_upload = \"../../admin/test_file3_for_s3.txt\"\n",
    "file_name = file_to_upload.split(sep=\"/\")[-1]"
   ]
  },
  {
   "cell_type": "code",
   "execution_count": null,
   "metadata": {
    "ExecuteTime": {
     "end_time": "2021-02-18T01:48:39.542875Z",
     "start_time": "2021-02-18T01:48:39.079182Z"
    },
    "hidden": true
   },
   "outputs": [],
   "source": [
    "# s3.upload_file(file_to_upload, bucket_name, file_name)\n",
    "\n",
    "s3.meta.client.upload_file(file_to_upload, bucket_name, file_name)"
   ]
  },
  {
   "cell_type": "code",
   "execution_count": null,
   "metadata": {
    "ExecuteTime": {
     "end_time": "2021-02-18T01:49:03.922917Z",
     "start_time": "2021-02-18T01:49:03.491793Z"
    },
    "hidden": true
   },
   "outputs": [],
   "source": [
    "[obj for obj in s3.Bucket(bucket_name).objects.all()]"
   ]
  },
  {
   "cell_type": "markdown",
   "metadata": {
    "hidden": true
   },
   "source": [
    "#### Downloading files from bucket"
   ]
  },
  {
   "cell_type": "code",
   "execution_count": null,
   "metadata": {
    "ExecuteTime": {
     "end_time": "2021-02-18T01:51:37.417192Z",
     "start_time": "2021-02-18T01:51:36.946491Z"
    },
    "hidden": true
   },
   "outputs": [],
   "source": [
    "path_to_download = \"/Users/rp_mbp/Documents/ReposRob_RobPer/ITAMmcd/semestre_2/Arquitectura_Prod_Dat/Venv_ArqPD/repos/dpa_2021/_robdir/\" + file_name\n",
    "\n",
    "s3.meta.client.download_file(bucket_name, file_name, path_to_download)"
   ]
  },
  {
   "cell_type": "markdown",
   "metadata": {
    "hidden": true
   },
   "source": [
    "#### Deleting bucket files"
   ]
  },
  {
   "cell_type": "code",
   "execution_count": null,
   "metadata": {
    "ExecuteTime": {
     "end_time": "2021-02-18T01:52:49.940565Z",
     "start_time": "2021-02-18T01:52:49.589748Z"
    },
    "hidden": true
   },
   "outputs": [],
   "source": [
    "s3.Object(bucket_name, file_name).delete()"
   ]
  },
  {
   "cell_type": "markdown",
   "metadata": {
    "hidden": true
   },
   "source": [
    "#### Deleting bucket"
   ]
  },
  {
   "cell_type": "markdown",
   "metadata": {
    "hidden": true
   },
   "source": [
    "---"
   ]
  },
  {
   "cell_type": "markdown",
   "metadata": {
    "heading_collapsed": true
   },
   "source": [
    "## Downloading and storing Chicago data"
   ]
  },
  {
   "cell_type": "markdown",
   "metadata": {
    "hidden": true
   },
   "source": [
    "#### Interacting with API"
   ]
  },
  {
   "cell_type": "code",
   "execution_count": null,
   "metadata": {
    "ExecuteTime": {
     "end_time": "2021-02-23T00:00:59.378181Z",
     "start_time": "2021-02-23T00:00:59.358100Z"
    },
    "hidden": true
   },
   "outputs": [],
   "source": [
    "dataset_id = \"4ijn-s7e5\""
   ]
  },
  {
   "cell_type": "code",
   "execution_count": null,
   "metadata": {
    "ExecuteTime": {
     "end_time": "2021-02-23T00:00:59.668610Z",
     "start_time": "2021-02-23T00:00:59.642267Z"
    },
    "hidden": true
   },
   "outputs": [],
   "source": [
    "token = get_api_token(\"../conf/local/credentials.yaml\")\n",
    "token"
   ]
  },
  {
   "cell_type": "code",
   "execution_count": null,
   "metadata": {
    "ExecuteTime": {
     "end_time": "2021-02-23T00:01:00.520469Z",
     "start_time": "2021-02-23T00:01:00.497777Z"
    },
    "hidden": true
   },
   "outputs": [],
   "source": [
    "client = get_client(token)\n",
    "client"
   ]
  },
  {
   "cell_type": "raw",
   "metadata": {
    "ExecuteTime": {
     "end_time": "2021-02-22T23:32:13.384573Z",
     "start_time": "2021-02-22T23:32:13.365595Z"
    },
    "hidden": true
   },
   "source": [
    "y = client.get_all(dataset_id)"
   ]
  },
  {
   "cell_type": "code",
   "execution_count": null,
   "metadata": {
    "ExecuteTime": {
     "end_time": "2021-02-23T02:12:00.121204Z",
     "start_time": "2021-02-23T02:12:00.101187Z"
    },
    "hidden": true
   },
   "outputs": [],
   "source": [
    "most_rec_date = '2021-01-15'"
   ]
  },
  {
   "cell_type": "code",
   "execution_count": null,
   "metadata": {
    "ExecuteTime": {
     "end_time": "2021-02-23T02:13:52.425342Z",
     "start_time": "2021-02-23T02:13:52.404676Z"
    },
    "hidden": true
   },
   "outputs": [],
   "source": [
    "soql_query = \"inspection_date >= '{}'\".format(most_rec_date)\n",
    "soql_query"
   ]
  },
  {
   "cell_type": "code",
   "execution_count": null,
   "metadata": {
    "ExecuteTime": {
     "end_time": "2021-02-23T02:13:52.940398Z",
     "start_time": "2021-02-23T02:13:52.751406Z"
    },
    "hidden": true
   },
   "outputs": [],
   "source": [
    "x = client.get(dataset_id, \n",
    "               limit=10,\n",
    "               where=soql_query\n",
    "              )"
   ]
  },
  {
   "cell_type": "code",
   "execution_count": null,
   "metadata": {
    "ExecuteTime": {
     "end_time": "2021-02-23T02:13:54.769041Z",
     "start_time": "2021-02-23T02:13:54.736796Z"
    },
    "hidden": true
   },
   "outputs": [],
   "source": [
    "x"
   ]
  },
  {
   "cell_type": "code",
   "execution_count": null,
   "metadata": {
    "ExecuteTime": {
     "end_time": "2021-02-23T02:13:58.842994Z",
     "start_time": "2021-02-23T02:13:58.821995Z"
    },
    "hidden": true
   },
   "outputs": [],
   "source": [
    "len(x)"
   ]
  },
  {
   "cell_type": "markdown",
   "metadata": {
    "hidden": true
   },
   "source": [
    "#### Uploading info"
   ]
  },
  {
   "cell_type": "raw",
   "metadata": {
    "ExecuteTime": {
     "end_time": "2021-02-18T17:34:43.908085Z",
     "start_time": "2021-02-18T17:34:39.580493Z"
    },
    "hidden": true
   },
   "source": [
    "# guardar_ingesta(bucket_name, hist_ingest_path)\n",
    "guardar_ingesta(bucket_name, cont_ingest_path)"
   ]
  },
  {
   "cell_type": "markdown",
   "metadata": {
    "hidden": true
   },
   "source": [
    "#### Checking aws s3 contents"
   ]
  },
  {
   "cell_type": "code",
   "execution_count": null,
   "metadata": {
    "ExecuteTime": {
     "end_time": "2021-03-17T22:26:36.408479Z",
     "start_time": "2021-03-17T22:26:35.973433Z"
    },
    "hidden": true,
    "init_cell": true
   },
   "outputs": [
    {
     "ename": "FileNotFoundError",
     "evalue": "Couldnt load the file",
     "output_type": "error",
     "traceback": [
      "\u001b[0;31m-------------------------------------\u001b[0m",
      "\u001b[0;31mFileNotFoundError\u001b[0mTraceback (most recent call last)",
      "\u001b[0;32m~/Documents/ReposRob_RobPer/ITAMmcd/semestre_2/Arquitectura_Prod_Dat/Venv_ArqPD/repos/dpa_2021/src/utils/general.py\u001b[0m in \u001b[0;36mread_yaml_file\u001b[0;34m(yaml_file)\u001b[0m\n\u001b[1;32m     33\u001b[0m     \u001b[0;32mtry\u001b[0m\u001b[0;34m:\u001b[0m\u001b[0;34m\u001b[0m\u001b[0;34m\u001b[0m\u001b[0m\n\u001b[0;32m---> 34\u001b[0;31m         \u001b[0;32mwith\u001b[0m \u001b[0mopen\u001b[0m \u001b[0;34m(\u001b[0m\u001b[0myaml_file\u001b[0m\u001b[0;34m,\u001b[0m \u001b[0;34m'r'\u001b[0m\u001b[0;34m)\u001b[0m \u001b[0;32mas\u001b[0m \u001b[0mf\u001b[0m\u001b[0;34m:\u001b[0m\u001b[0;34m\u001b[0m\u001b[0;34m\u001b[0m\u001b[0m\n\u001b[0m\u001b[1;32m     35\u001b[0m             \u001b[0mconfig\u001b[0m \u001b[0;34m=\u001b[0m \u001b[0myaml\u001b[0m\u001b[0;34m.\u001b[0m\u001b[0msafe_load\u001b[0m\u001b[0;34m(\u001b[0m\u001b[0mf\u001b[0m\u001b[0;34m)\u001b[0m\u001b[0;34m\u001b[0m\u001b[0;34m\u001b[0m\u001b[0m\n",
      "\u001b[0;31mFileNotFoundError\u001b[0m: [Errno 2] No such file or directory: 'conf/local/credentials.yaml'",
      "\nDuring handling of the above exception, another exception occurred:\n",
      "\u001b[0;31mFileNotFoundError\u001b[0mTraceback (most recent call last)",
      "\u001b[0;32m<ipython-input-5-5dd7f3a14a67>\u001b[0m in \u001b[0;36m<module>\u001b[0;34m\u001b[0m\n\u001b[0;32m----> 1\u001b[0;31m \u001b[0ms3\u001b[0m \u001b[0;34m=\u001b[0m \u001b[0mget_s3_resource\u001b[0m\u001b[0;34m(\u001b[0m\u001b[0;34m)\u001b[0m\u001b[0;34m\u001b[0m\u001b[0;34m\u001b[0m\u001b[0m\n\u001b[0m",
      "\u001b[0;32m~/Documents/ReposRob_RobPer/ITAMmcd/semestre_2/Arquitectura_Prod_Dat/Venv_ArqPD/repos/dpa_2021/src/etl/ingesta_almacenamiento.py\u001b[0m in \u001b[0;36mget_s3_resource\u001b[0;34m()\u001b[0m\n\u001b[1;32m    108\u001b[0m     \"\"\"\n\u001b[1;32m    109\u001b[0m \u001b[0;34m\u001b[0m\u001b[0m\n\u001b[0;32m--> 110\u001b[0;31m     \u001b[0ms3_creds\u001b[0m \u001b[0;34m=\u001b[0m \u001b[0mget_s3_credentials\u001b[0m\u001b[0;34m(\u001b[0m\u001b[0;34m\"conf/local/credentials.yaml\"\u001b[0m\u001b[0;34m)\u001b[0m\u001b[0;34m\u001b[0m\u001b[0;34m\u001b[0m\u001b[0m\n\u001b[0m\u001b[1;32m    111\u001b[0m \u001b[0;34m\u001b[0m\u001b[0m\n\u001b[1;32m    112\u001b[0m     session = boto3.Session(\n",
      "\u001b[0;32m~/Documents/ReposRob_RobPer/ITAMmcd/semestre_2/Arquitectura_Prod_Dat/Venv_ArqPD/repos/dpa_2021/src/utils/general.py\u001b[0m in \u001b[0;36mget_s3_credentials\u001b[0;34m(credentials_file)\u001b[0m\n\u001b[1;32m     46\u001b[0m     \u001b[0mGet\u001b[0m \u001b[0ms3\u001b[0m \u001b[0mcredentials\u001b[0m\u001b[0;34m\u001b[0m\u001b[0;34m\u001b[0m\u001b[0m\n\u001b[1;32m     47\u001b[0m     \"\"\"\n\u001b[0;32m---> 48\u001b[0;31m     \u001b[0mcredentials\u001b[0m \u001b[0;34m=\u001b[0m \u001b[0mread_yaml_file\u001b[0m\u001b[0;34m(\u001b[0m\u001b[0mcredentials_file\u001b[0m\u001b[0;34m)\u001b[0m\u001b[0;34m\u001b[0m\u001b[0;34m\u001b[0m\u001b[0m\n\u001b[0m\u001b[1;32m     49\u001b[0m     \u001b[0ms3_creds\u001b[0m \u001b[0;34m=\u001b[0m \u001b[0mcredentials\u001b[0m\u001b[0;34m[\u001b[0m\u001b[0;34m's3'\u001b[0m\u001b[0;34m]\u001b[0m\u001b[0;34m\u001b[0m\u001b[0;34m\u001b[0m\u001b[0m\n\u001b[1;32m     50\u001b[0m \u001b[0;34m\u001b[0m\u001b[0m\n",
      "\u001b[0;32m~/Documents/ReposRob_RobPer/ITAMmcd/semestre_2/Arquitectura_Prod_Dat/Venv_ArqPD/repos/dpa_2021/src/utils/general.py\u001b[0m in \u001b[0;36mread_yaml_file\u001b[0;34m(yaml_file)\u001b[0m\n\u001b[1;32m     35\u001b[0m             \u001b[0mconfig\u001b[0m \u001b[0;34m=\u001b[0m \u001b[0myaml\u001b[0m\u001b[0;34m.\u001b[0m\u001b[0msafe_load\u001b[0m\u001b[0;34m(\u001b[0m\u001b[0mf\u001b[0m\u001b[0;34m)\u001b[0m\u001b[0;34m\u001b[0m\u001b[0;34m\u001b[0m\u001b[0m\n\u001b[1;32m     36\u001b[0m     \u001b[0;32mexcept\u001b[0m\u001b[0;34m:\u001b[0m\u001b[0;34m\u001b[0m\u001b[0;34m\u001b[0m\u001b[0m\n\u001b[0;32m---> 37\u001b[0;31m         \u001b[0;32mraise\u001b[0m \u001b[0mFileNotFoundError\u001b[0m\u001b[0;34m(\u001b[0m\u001b[0;34m'Couldnt load the file'\u001b[0m\u001b[0;34m)\u001b[0m\u001b[0;34m\u001b[0m\u001b[0;34m\u001b[0m\u001b[0m\n\u001b[0m\u001b[1;32m     38\u001b[0m \u001b[0;34m\u001b[0m\u001b[0m\n\u001b[1;32m     39\u001b[0m     \u001b[0;32mreturn\u001b[0m \u001b[0mconfig\u001b[0m\u001b[0;34m\u001b[0m\u001b[0;34m\u001b[0m\u001b[0m\n",
      "\u001b[0;31mFileNotFoundError\u001b[0m: Couldnt load the file"
     ]
    }
   ],
   "source": [
    "s3 = get_s3_resource()"
   ]
  },
  {
   "cell_type": "code",
   "execution_count": null,
   "metadata": {
    "ExecuteTime": {
     "end_time": "2021-02-23T01:44:59.242276Z",
     "start_time": "2021-02-23T01:44:59.217982Z"
    },
    "hidden": true
   },
   "outputs": [],
   "source": [
    "cont_ingest_path"
   ]
  },
  {
   "cell_type": "code",
   "execution_count": null,
   "metadata": {
    "ExecuteTime": {
     "end_time": "2021-02-23T01:55:15.367770Z",
     "start_time": "2021-02-23T01:55:14.999648Z"
    },
    "hidden": true,
    "scrolled": true
   },
   "outputs": [],
   "source": [
    "objects = s3.list_objects_v2(Bucket=bucket_name, Prefix=cont_ingest_path)['Contents']\n",
    "objects"
   ]
  },
  {
   "cell_type": "code",
   "execution_count": null,
   "metadata": {
    "ExecuteTime": {
     "end_time": "2021-02-23T01:55:15.390063Z",
     "start_time": "2021-02-23T01:55:15.369571Z"
    },
    "hidden": true
   },
   "outputs": [],
   "source": [
    "objects.append(\n",
    " {'Key': 'ingestion/consecutive/consecutive-inspections-2021-02-22.pkl',\n",
    "  'LastModified': \"datetime.datetime(2021, 2, 22, 2, 53, 54, tzinfo=tzutc())\",\n",
    "  'ETag': '\"79cff7864a646f1dfd4d51b4e732a226\"',\n",
    "  'Size': 1152660,\n",
    "  'StorageClass': 'STANDARD'}\n",
    ")\n",
    "\n",
    "objects.append(\n",
    " {'Key': 'ingestion/consecutive/consecutive-inspections-2021-02-15.pkl',\n",
    "  'LastModified': \"datetime.datetime(2021, 2, 22, 2, 53, 54, tzinfo=tzutc())\",\n",
    "  'ETag': '\"79cff7864a646f1dfd4d51b4e732a226\"',\n",
    "  'Size': 1152660,\n",
    "  'StorageClass': 'STANDARD'}\n",
    ")\n",
    "\n",
    "objects.append(\n",
    " {'Key': 'ingestion/consecutive/consecutive-inspections-2021-02-10.pkl',\n",
    "  'LastModified': \"datetime.datetime(2021, 2, 22, 2, 53, 54, tzinfo=tzutc())\",\n",
    "  'ETag': '\"79cff7864a646f1dfd4d51b4e732a226\"',\n",
    "  'Size': 1152660,\n",
    "  'StorageClass': 'STANDARD'}\n",
    ")"
   ]
  },
  {
   "cell_type": "code",
   "execution_count": null,
   "metadata": {
    "ExecuteTime": {
     "end_time": "2021-02-23T02:09:47.057743Z",
     "start_time": "2021-02-23T02:09:47.033152Z"
    },
    "hidden": true
   },
   "outputs": [],
   "source": [
    "rex = str(cont_dat_prefix) + \"(.*).pkl\"\n",
    "\n",
    "lx = [datetime.strptime(re.search(rex, obj[\"Key\"]).group(1), '%Y-%m-%d') for obj in objects if cont_dat_prefix in obj[\"Key\"]]\n",
    "most_rec_date = datetime.strftime(max(lx), '%Y-%m-%d')\n",
    "most_rec_date"
   ]
  },
  {
   "cell_type": "code",
   "execution_count": null,
   "metadata": {
    "ExecuteTime": {
     "end_time": "2021-02-23T01:46:19.553156Z",
     "start_time": "2021-02-23T01:46:18.658626Z"
    },
    "hidden": true
   },
   "outputs": [],
   "source": [
    "s3x = pickle.loads(s3.get_object(Bucket=bucket_name, Key=(cont_ingest_path + \"consecutive-inspections-2021-02-21.pkl\"))['Body'].read())"
   ]
  },
  {
   "cell_type": "raw",
   "metadata": {
    "ExecuteTime": {
     "end_time": "2021-02-23T00:00:30.371652Z",
     "start_time": "2021-02-23T00:00:29.847983Z"
    },
    "hidden": true
   },
   "source": [
    "s3x"
   ]
  },
  {
   "cell_type": "code",
   "execution_count": null,
   "metadata": {
    "ExecuteTime": {
     "end_time": "2021-02-23T01:46:25.020555Z",
     "start_time": "2021-02-23T01:46:24.907838Z"
    },
    "hidden": true,
    "scrolled": true
   },
   "outputs": [],
   "source": [
    "dfx = pd.DataFrame(s3x)\n",
    "dfx"
   ]
  },
  {
   "cell_type": "code",
   "execution_count": null,
   "metadata": {
    "ExecuteTime": {
     "end_time": "2021-02-23T01:46:34.414740Z",
     "start_time": "2021-02-23T01:46:34.366147Z"
    },
    "hidden": true
   },
   "outputs": [],
   "source": [
    "dfx[\"inspection_date\"] = pd.to_datetime(dfx[\"inspection_date\"])"
   ]
  },
  {
   "cell_type": "code",
   "execution_count": null,
   "metadata": {
    "ExecuteTime": {
     "end_time": "2021-02-23T01:46:34.685530Z",
     "start_time": "2021-02-23T01:46:34.658404Z"
    },
    "hidden": true
   },
   "outputs": [],
   "source": [
    "print(\"max date: \", max(dfx[\"inspection_date\"]))\n",
    "print(\"min date: \", min(dfx[\"inspection_date\"]))"
   ]
  },
  {
   "cell_type": "code",
   "execution_count": null,
   "metadata": {
    "ExecuteTime": {
     "end_time": "2021-02-23T00:10:59.859142Z",
     "start_time": "2021-02-23T00:10:59.342740Z"
    },
    "hidden": true,
    "scrolled": true
   },
   "outputs": [],
   "source": [
    "dfx.groupby(pd.Grouper(key=\"inspection_date\")).count()[[\"inspection_id\"]]"
   ]
  },
  {
   "cell_type": "markdown",
   "metadata": {
    "hidden": true
   },
   "source": [
    "---"
   ]
  },
  {
   "cell_type": "markdown",
   "metadata": {
    "heading_collapsed": true
   },
   "source": [
    "## Creating local directories for temporal data"
   ]
  },
  {
   "cell_type": "code",
   "execution_count": null,
   "metadata": {
    "ExecuteTime": {
     "end_time": "2021-03-17T00:56:51.332125Z",
     "start_time": "2021-03-17T00:56:51.251984Z"
    },
    "hidden": true
   },
   "outputs": [],
   "source": [
    "base_path = \"../src/pipeline/luigi/ingestion_tmp/\""
   ]
  },
  {
   "cell_type": "markdown",
   "metadata": {
    "hidden": true
   },
   "source": [
    "### Find most recent ingestion"
   ]
  },
  {
   "cell_type": "markdown",
   "metadata": {
    "heading_collapsed": true,
    "hidden": true
   },
   "source": [
    "#### Case 1: There is previous consecutive downloads"
   ]
  },
  {
   "cell_type": "code",
   "execution_count": null,
   "metadata": {
    "ExecuteTime": {
     "end_time": "2021-03-17T02:26:09.354291Z",
     "start_time": "2021-03-17T02:26:09.317452Z"
    },
    "hidden": true
   },
   "outputs": [],
   "source": [
    "lyrs = [ydir[-4:] for ydir in os.listdir(base_path + \"consecutive\") if \"YEAR=\" in ydir]\n",
    "lyrs"
   ]
  },
  {
   "cell_type": "code",
   "execution_count": null,
   "metadata": {
    "ExecuteTime": {
     "end_time": "2021-03-17T02:26:09.961062Z",
     "start_time": "2021-03-17T02:26:09.926635Z"
    },
    "hidden": true
   },
   "outputs": [],
   "source": [
    "mr_yr = max(lyrs)\n",
    "mr_yr"
   ]
  },
  {
   "cell_type": "code",
   "execution_count": null,
   "metadata": {
    "ExecuteTime": {
     "end_time": "2021-03-17T02:26:10.733106Z",
     "start_time": "2021-03-17T02:26:10.699043Z"
    },
    "hidden": true
   },
   "outputs": [],
   "source": [
    "lmths = [mdir[-2:] for mdir in os.listdir(base_path + \"consecutive\" + \"/\" + \"YEAR=\" + mr_yr) if \"MONTH=\" in mdir]\n",
    "lmths"
   ]
  },
  {
   "cell_type": "code",
   "execution_count": null,
   "metadata": {
    "ExecuteTime": {
     "end_time": "2021-03-17T01:14:25.389256Z",
     "start_time": "2021-03-17T01:14:25.356397Z"
    },
    "hidden": true
   },
   "outputs": [],
   "source": [
    "mr_mth = max(lmths)\n",
    "mr_mth"
   ]
  },
  {
   "cell_type": "code",
   "execution_count": null,
   "metadata": {
    "ExecuteTime": {
     "end_time": "2021-03-17T01:30:05.401109Z",
     "start_time": "2021-03-17T01:30:05.368159Z"
    },
    "hidden": true
   },
   "outputs": [],
   "source": [
    "lings = [ing for ing in os.listdir(base_path + \"consecutive\" + \"/\" + \"YEAR=\" + mr_yr + \"/\" + \"MONTH=\" + mr_mth)]\n",
    "lings"
   ]
  },
  {
   "cell_type": "raw",
   "metadata": {
    "ExecuteTime": {
     "end_time": "2021-03-17T01:30:05.401109Z",
     "start_time": "2021-03-17T01:30:05.368159Z"
    },
    "hidden": true
   },
   "source": [
    "lings = ['consecutive_inspections_2021-03-05.pkl',\n",
    " 'consecutive_inspections_2021-03-10.pkl',\n",
    " 'consecutive_inspections_2021-03-16.pkl',\n",
    " 'consecutive_inspections_2021-02-11.pkl',\n",
    " 'consecutive_inspections_2021-02-04.pkl',\n",
    " 'consecutive_inspections_2020-12-25.pkl'\n",
    "        ]\n",
    "lings"
   ]
  },
  {
   "cell_type": "code",
   "execution_count": null,
   "metadata": {
    "ExecuteTime": {
     "end_time": "2021-03-17T01:30:09.268405Z",
     "start_time": "2021-03-17T01:30:09.236752Z"
    },
    "hidden": true
   },
   "outputs": [],
   "source": [
    "regex = \"consecutive_inspections_\" + \"(.*).pkl\""
   ]
  },
  {
   "cell_type": "code",
   "execution_count": null,
   "metadata": {
    "ExecuteTime": {
     "end_time": "2021-03-17T01:30:13.588024Z",
     "start_time": "2021-03-17T01:30:13.553942Z"
    },
    "hidden": true
   },
   "outputs": [],
   "source": [
    "min([re.search(regex, ing).group(1) for ing in lings])"
   ]
  },
  {
   "cell_type": "code",
   "execution_count": null,
   "metadata": {
    "ExecuteTime": {
     "end_time": "2021-03-17T17:11:23.863934Z",
     "start_time": "2021-03-17T17:11:23.746569Z"
    },
    "hidden": true
   },
   "outputs": [],
   "source": [
    "lx = ['.DS_Store', 'consecutive_inspections_2021-03-05.pkl', 'consecutive_inspections_2021-03-10.pkl']\n",
    "lx"
   ]
  },
  {
   "cell_type": "code",
   "execution_count": null,
   "metadata": {
    "ExecuteTime": {
     "end_time": "2021-03-17T17:11:35.081836Z",
     "start_time": "2021-03-17T17:11:35.047204Z"
    },
    "hidden": true
   },
   "outputs": [],
   "source": [
    "cont_dat_prefix = \"consecutive_inspections_\""
   ]
  },
  {
   "cell_type": "code",
   "execution_count": null,
   "metadata": {
    "ExecuteTime": {
     "end_time": "2021-03-17T17:11:43.184093Z",
     "start_time": "2021-03-17T17:11:43.149782Z"
    },
    "hidden": true
   },
   "outputs": [],
   "source": [
    "regex = cont_dat_prefix + \"(.*).pkl\""
   ]
  },
  {
   "cell_type": "code",
   "execution_count": null,
   "metadata": {
    "ExecuteTime": {
     "end_time": "2021-03-17T17:12:44.455594Z",
     "start_time": "2021-03-17T17:12:44.420865Z"
    },
    "hidden": true
   },
   "outputs": [
    {
     "data": {
      "text/plain": [
       "['.DS_Store',\n",
       " 'consecutive_inspections_2021-03-05.pkl',\n",
       " 'consecutive_inspections_2021-03-10.pkl']"
      ]
     },
     "execution_count": 91,
     "metadata": {},
     "output_type": "execute_result"
    }
   ],
   "source": [
    "pd.read_pickle(\"../results/metadata/ingesta_metadata.pkl\")"
   ]
  },
  {
   "cell_type": "markdown",
   "metadata": {
    "hidden": true
   },
   "source": [
    "#### Transformation"
   ]
  },
  {
   "cell_type": "code",
   "execution_count": 92,
   "metadata": {
    "ExecuteTime": {
     "end_time": "2021-04-12T22:40:47.361309Z",
     "start_time": "2021-04-12T22:40:47.324022Z"
    },
    "hidden": true,
    "scrolled": true
   },
   "outputs": [
    {
     "data": {
      "text/plain": [
       "['consecutive_inspections_2021-03-05.pkl',\n",
       " 'consecutive_inspections_2021-03-10.pkl',\n",
       " 'consecutive_inspections_2021-03-16.pkl',\n",
       " 'consecutive_inspections_2021-02-11.pkl',\n",
       " 'consecutive_inspections_2021-02-04.pkl',\n",
       " 'consecutive_inspections_2020-12-25.pkl']"
      ]
     },
     "execution_count": 92,
     "metadata": {},
     "output_type": "execute_result"
    }
   ],
   "source": [
    "pd.read_pickle(\"../results/metadata/transform_metadata.pkl\")"
   ]
  },
  {
   "cell_type": "markdown",
   "metadata": {
    "hidden": true
   },
   "source": [
    "#### Feature engineering"
   ]
  },
  {
   "cell_type": "code",
   "execution_count": 93,
   "metadata": {
    "ExecuteTime": {
     "end_time": "2021-04-12T23:11:35.953108Z",
     "start_time": "2021-04-12T23:11:35.911291Z"
    },
    "hidden": true,
    "scrolled": true
   },
   "outputs": [
    {
     "data": {
      "text/plain": [
       "'2021-03-10'"
      ]
     },
     "execution_count": 93,
     "metadata": {},
     "output_type": "execute_result"
    }
   ],
   "source": [
    "pd.read_pickle(\"../results/metadata/fe_metadata.pkl\")"
   ]
  },
  {
   "cell_type": "markdown",
   "metadata": {},
   "source": [
    "## Notas"
   ]
  },
  {
   "cell_type": "code",
   "execution_count": 5,
   "metadata": {
    "ExecuteTime": {
     "end_time": "2021-04-12T22:00:33.721896Z",
     "start_time": "2021-04-12T22:00:33.677647Z"
    }
   },
   "outputs": [],
   "source": [
    "x = {}"
   ]
  },
  {
   "cell_type": "code",
   "execution_count": 6,
   "metadata": {
    "ExecuteTime": {
     "end_time": "2021-04-12T22:00:33.952842Z",
     "start_time": "2021-04-12T22:00:33.921741Z"
    }
   },
   "outputs": [],
   "source": [
    "cols_elim = 23"
   ]
  },
  {
   "cell_type": "code",
   "execution_count": 7,
   "metadata": {
    "ExecuteTime": {
     "end_time": "2021-04-12T22:00:34.936773Z",
     "start_time": "2021-04-12T22:00:34.903163Z"
    }
   },
   "outputs": [],
   "source": [
    "x[\"cols_elim\"] = cols_elim"
   ]
  },
  {
   "cell_type": "code",
   "execution_count": 8,
   "metadata": {
    "ExecuteTime": {
     "end_time": "2021-04-12T22:00:36.088743Z",
     "start_time": "2021-04-12T22:00:36.058178Z"
    }
   },
   "outputs": [],
   "source": [
    "cols_live = 10"
   ]
  },
  {
   "cell_type": "code",
   "execution_count": 9,
   "metadata": {
    "ExecuteTime": {
     "end_time": "2021-04-12T22:00:36.305553Z",
     "start_time": "2021-04-12T22:00:36.274028Z"
    }
   },
   "outputs": [],
   "source": [
    "x[\"cols_live\"] = cols_live"
   ]
  },
  {
   "cell_type": "code",
   "execution_count": 10,
   "metadata": {
    "ExecuteTime": {
     "end_time": "2021-04-12T22:00:36.540868Z",
     "start_time": "2021-04-12T22:00:36.509650Z"
    }
   },
   "outputs": [],
   "source": [
    "x[\"exec_time\"] = str(datetime.now())"
   ]
  },
  {
   "cell_type": "code",
   "execution_count": 11,
   "metadata": {
    "ExecuteTime": {
     "end_time": "2021-04-12T22:00:38.579024Z",
     "start_time": "2021-04-12T22:00:38.543467Z"
    }
   },
   "outputs": [
    {
     "data": {
      "text/plain": [
       "'03'"
      ]
     },
     "execution_count": 10,
     "metadata": {},
     "output_type": "execute_result"
    }
   ],
   "source": [
    "x[5:7]"
   ]
  },
  {
   "cell_type": "markdown",
   "metadata": {},
   "source": [
    "---\n",
    "---"
   ]
  }
 ],
 "metadata": {
  "celltoolbar": "Initialization Cell",
  "kernelspec": {
   "display_name": "Python 3",
   "language": "python",
   "name": "python3"
  },
  "language_info": {
   "codemirror_mode": {
    "name": "ipython",
    "version": 3
   },
   "file_extension": ".py",
   "mimetype": "text/x-python",
   "name": "python",
   "nbconvert_exporter": "python",
   "pygments_lexer": "ipython3",
   "version": "3.8.5"
  },
  "toc": {
   "base_numbering": 1,
   "nav_menu": {},
   "number_sections": true,
   "sideBar": true,
   "skip_h1_title": false,
   "title_cell": "Table of Contents",
   "title_sidebar": "Contents",
   "toc_cell": false,
   "toc_position": {},
   "toc_section_display": true,
   "toc_window_display": false
  }
 },
 "nbformat": 4,
 "nbformat_minor": 4
}
