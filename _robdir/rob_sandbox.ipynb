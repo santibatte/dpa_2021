{
 "cells": [
  {
   "cell_type": "markdown",
   "metadata": {},
   "source": [
    "# Notebook with test code"
   ]
  },
  {
   "cell_type": "markdown",
   "metadata": {},
   "source": [
    "---"
   ]
  },
  {
   "cell_type": "markdown",
   "metadata": {},
   "source": [
    "## Imports"
   ]
  },
  {
   "cell_type": "markdown",
   "metadata": {},
   "source": [
    "### Standard library imports"
   ]
  },
  {
   "cell_type": "code",
   "execution_count": 1,
   "metadata": {
    "ExecuteTime": {
     "end_time": "2021-04-25T19:12:47.218534Z",
     "start_time": "2021-04-25T19:12:47.183462Z"
    },
    "init_cell": true,
    "scrolled": true
   },
   "outputs": [],
   "source": [
    "import yaml\n",
    "\n",
    "import sys\n",
    "\n",
    "from datetime import (date, datetime)\n",
    "\n",
    "import os\n",
    "\n",
    "import pickle\n",
    "\n",
    "import re"
   ]
  },
  {
   "cell_type": "markdown",
   "metadata": {},
   "source": [
    "### Third party libraries"
   ]
  },
  {
   "cell_type": "code",
   "execution_count": 2,
   "metadata": {
    "ExecuteTime": {
     "end_time": "2021-04-25T19:12:47.837715Z",
     "start_time": "2021-04-25T19:12:47.220896Z"
    },
    "init_cell": true,
    "scrolled": true
   },
   "outputs": [],
   "source": [
    "import boto3\n",
    "\n",
    "import pandas as pd"
   ]
  },
  {
   "cell_type": "markdown",
   "metadata": {
    "heading_collapsed": "true",
    "tags": []
   },
   "source": [
    "### Local application imports"
   ]
  },
  {
   "cell_type": "code",
   "execution_count": null,
   "metadata": {
    "ExecuteTime": {
     "end_time": "2021-04-25T19:12:47.844430Z",
     "start_time": "2021-04-25T19:12:47.840781Z"
    },
    "init_cell": true,
    "scrolled": true
   },
   "outputs": [],
   "source": [
    "sys.path.append(\"../\")"
   ]
  },
  {
   "cell_type": "code",
   "execution_count": null,
   "metadata": {
    "ExecuteTime": {
     "end_time": "2021-04-25T19:12:49.913992Z",
     "start_time": "2021-04-25T19:12:47.846822Z"
    },
    "init_cell": true,
    "scrolled": true,
    "tags": []
   },
   "outputs": [],
   "source": [
    "%load_ext autoreload\n",
    "%autoreload 2\n",
    "\n",
    "from src.etl.ingesta_almacenamiento import (\n",
    "    \n",
    "    ## Functions\n",
    "    get_client,\n",
    "    ingesta_inicial,\n",
    "    ingesta_consecutiva,\n",
    "    get_s3_resource,\n",
    "    request_data_to_API,\n",
    "    get_s3_credentials,\n",
    "    \n",
    ")\n",
    "\n",
    "\n",
    "from src.utils.utils import (\n",
    "\n",
    "    get_api_token\n",
    "\n",
    ")\n",
    "\n",
    "\n",
    "from src.utils.data_dict import (\n",
    "    data_dict\n",
    ")\n",
    "\n",
    "from src.utils.params_ml import(\n",
    "    models_dict\n",
    ")"
   ]
  },
  {
   "cell_type": "markdown",
   "metadata": {},
   "source": [
    "---"
   ]
  },
  {
   "cell_type": "markdown",
   "metadata": {
    "heading_collapsed": "true",
    "tags": []
   },
   "source": [
    "## AWS base examples"
   ]
  },
  {
   "cell_type": "markdown",
   "metadata": {
    "heading_collapsed": "true",
    "tags": []
   },
   "source": [
    "### S3"
   ]
  },
  {
   "cell_type": "markdown",
   "metadata": {
    "heading_collapsed": true,
    "hidden": true
   },
   "source": [
    "#### Initial configuration"
   ]
  },
  {
   "cell_type": "markdown",
   "metadata": {
    "heading_collapsed": true,
    "hidden": true
   },
   "source": [
    "##### Resource"
   ]
  },
  {
   "cell_type": "raw",
   "metadata": {
    "ExecuteTime": {
     "end_time": "2021-02-20T01:41:59.230292Z",
     "start_time": "2021-02-20T01:41:59.115804Z"
    },
    "hidden": true
   },
   "source": [
    "ses = boto3.session.Session(profile_name=\"robper_dpa\")"
   ]
  },
  {
   "cell_type": "raw",
   "metadata": {
    "ExecuteTime": {
     "end_time": "2021-02-20T01:41:59.696177Z",
     "start_time": "2021-02-20T01:41:59.343490Z"
    },
    "hidden": true
   },
   "source": [
    "s3 = ses.resource(\"s3\")"
   ]
  },
  {
   "cell_type": "raw",
   "metadata": {
    "ExecuteTime": {
     "end_time": "2021-02-20T01:42:00.309962Z",
     "start_time": "2021-02-20T01:41:59.697962Z"
    },
    "hidden": true
   },
   "source": [
    "[buck.name for buck in s3.buckets.all()]"
   ]
  },
  {
   "cell_type": "raw",
   "metadata": {
    "ExecuteTime": {
     "end_time": "2021-02-18T16:07:32.833948Z",
     "start_time": "2021-02-18T16:07:32.812791Z"
    },
    "hidden": true
   },
   "source": [
    "# este archivo yaml vive en tu conf/local/credentials.yaml\n",
    "# este va en src/utils general.py\n",
    "def read_yaml_file(yaml_file):\n",
    "    \"\"\" load yaml cofigurations \"\"\"\n",
    "\n",
    "    config = None\n",
    "    try: \n",
    "        with open (yaml_file, 'r') as f:\n",
    "            config = yaml.safe_load(f)\n",
    "    except:\n",
    "        raise FileNotFoundError('Couldnt load the file')\n",
    "    \n",
    "    return config"
   ]
  },
  {
   "cell_type": "raw",
   "metadata": {
    "ExecuteTime": {
     "end_time": "2021-02-18T16:07:33.153905Z",
     "start_time": "2021-02-18T16:07:33.134152Z"
    },
    "hidden": true
   },
   "source": [
    "# este va en src/utils general.py\n",
    "def get_s3_credentials(credentials_file):\n",
    "    credentials = read_yaml_file(credentials_file)\n",
    "    s3_creds = credentials['s3']\n",
    "\n",
    "    return s3_creds"
   ]
  },
  {
   "cell_type": "markdown",
   "metadata": {
    "heading_collapsed": true,
    "hidden": true
   },
   "source": [
    "##### Client"
   ]
  },
  {
   "cell_type": "code",
   "execution_count": null,
   "metadata": {
    "ExecuteTime": {
     "end_time": "2021-04-25T19:15:38.582976Z",
     "start_time": "2021-04-25T19:15:38.428480Z"
    },
    "hidden": true,
    "scrolled": true
   },
   "outputs": [],
   "source": [
    "s3_creds = get_s3_credentials(\"../conf/local/credentials.yaml\")\n",
    "\n",
    "session = boto3.Session(\n",
    "    aws_access_key_id=s3_creds['aws_access_key_id'],\n",
    "    aws_secret_access_key=s3_creds['aws_secret_access_key']\n",
    ")\n",
    "s3 = session.client('s3')"
   ]
  },
  {
   "cell_type": "markdown",
   "metadata": {
    "heading_collapsed": true,
    "hidden": true
   },
   "source": [
    "#### Connecting to existing bucket and viewing contents"
   ]
  },
  {
   "cell_type": "code",
   "execution_count": null,
   "metadata": {
    "ExecuteTime": {
     "end_time": "2021-04-18T15:39:07.650300Z",
     "start_time": "2021-04-18T15:39:07.616571Z"
    },
    "hidden": true,
    "scrolled": true
   },
   "outputs": [],
   "source": [
    "bucket = \"data-product-architecture-equipo-9\"\n",
    "key =\"ingestion/consecutive\""
   ]
  },
  {
   "cell_type": "code",
   "execution_count": null,
   "metadata": {
    "ExecuteTime": {
     "end_time": "2021-04-18T15:39:11.029859Z",
     "start_time": "2021-04-18T15:39:10.068873Z"
    },
    "hidden": true,
    "scrolled": true
   },
   "outputs": [],
   "source": [
    "objects = s3.list_objects_v2(Bucket=bucket, Prefix=key)['Contents']\n",
    "objects"
   ]
  },
  {
   "cell_type": "markdown",
   "metadata": {
    "heading_collapsed": true,
    "hidden": true
   },
   "source": [
    "#### Reading pickle from S3"
   ]
  },
  {
   "cell_type": "code",
   "execution_count": null,
   "metadata": {
    "ExecuteTime": {
     "end_time": "2021-04-18T15:39:42.125004Z",
     "start_time": "2021-04-18T15:39:42.093731Z"
    },
    "hidden": true,
    "scrolled": true
   },
   "outputs": [],
   "source": [
    "obj_path = [file[\"Key\"] for file in objects if \"2021-03-18\" in file[\"Key\"]][0]\n",
    "obj_path"
   ]
  },
  {
   "cell_type": "code",
   "execution_count": null,
   "metadata": {
    "ExecuteTime": {
     "end_time": "2021-04-18T15:39:47.721149Z",
     "start_time": "2021-04-18T15:39:45.188918Z"
    },
    "hidden": true,
    "scrolled": true
   },
   "outputs": [],
   "source": [
    "response = s3.get_object(\n",
    "    Bucket=bucket,\n",
    "    Key=obj_path\n",
    ")\n",
    "response"
   ]
  },
  {
   "cell_type": "code",
   "execution_count": null,
   "metadata": {
    "ExecuteTime": {
     "end_time": "2021-04-18T15:40:04.004085Z",
     "start_time": "2021-04-18T15:39:59.540606Z"
    },
    "hidden": true,
    "scrolled": true
   },
   "outputs": [],
   "source": [
    "body = response[\"Body\"].read()"
   ]
  },
  {
   "cell_type": "raw",
   "metadata": {
    "ExecuteTime": {
     "end_time": "2021-04-18T14:13:27.781264Z",
     "start_time": "2021-04-18T14:13:27.727017Z"
    },
    "hidden": true
   },
   "source": [
    "body"
   ]
  },
  {
   "cell_type": "markdown",
   "metadata": {
    "hidden": true
   },
   "source": [
    "---"
   ]
  },
  {
   "cell_type": "code",
   "execution_count": null,
   "metadata": {
    "ExecuteTime": {
     "end_time": "2021-04-18T15:40:33.949622Z",
     "start_time": "2021-04-18T15:40:33.513698Z"
    },
    "hidden": true,
    "scrolled": true
   },
   "outputs": [],
   "source": [
    "pickle.loads(pickle.loads(body))"
   ]
  },
  {
   "cell_type": "raw",
   "metadata": {
    "ExecuteTime": {
     "end_time": "2021-04-18T14:14:10.730987Z",
     "start_time": "2021-04-18T14:14:09.180941Z"
    },
    "hidden": true
   },
   "source": [
    "pickle.loads(response[\"Body\"].read())"
   ]
  },
  {
   "cell_type": "raw",
   "metadata": {
    "ExecuteTime": {
     "end_time": "2021-04-18T13:07:50.164005Z",
     "start_time": "2021-04-18T13:07:50.130148Z"
    },
    "hidden": true
   },
   "source": [
    "from io import BytesIO\n",
    "import pickle\n",
    "\n",
    "pickle.load(BytesIO(body))"
   ]
  },
  {
   "cell_type": "raw",
   "metadata": {
    "ExecuteTime": {
     "end_time": "2021-04-18T13:11:48.175336Z",
     "start_time": "2021-04-18T13:11:48.135735Z"
    },
    "hidden": true
   },
   "source": [
    "import cPickle\n",
    "cPickle.loads(body)"
   ]
  },
  {
   "cell_type": "markdown",
   "metadata": {
    "heading_collapsed": true,
    "hidden": true
   },
   "source": [
    "#### Creating bucket"
   ]
  },
  {
   "cell_type": "code",
   "execution_count": null,
   "metadata": {
    "ExecuteTime": {
     "end_time": "2021-04-18T15:14:11.966042Z",
     "start_time": "2021-04-18T15:14:10.575056Z"
    },
    "hidden": true,
    "scrolled": true
   },
   "outputs": [],
   "source": [
    "bucket_name = \"comdline-test-bucket-rob\"\n",
    "\n",
    "s3.create_bucket(\n",
    "    Bucket=bucket_name,\n",
    "    CreateBucketConfiguration={'LocationConstraint': 'us-west-2'},\n",
    "    ACL=\"private\"\n",
    ")"
   ]
  },
  {
   "cell_type": "markdown",
   "metadata": {
    "heading_collapsed": true,
    "hidden": true
   },
   "source": [
    "#### Uploading file to bucket"
   ]
  },
  {
   "cell_type": "code",
   "execution_count": null,
   "metadata": {
    "ExecuteTime": {
     "end_time": "2021-02-18T01:47:41.937898Z",
     "start_time": "2021-02-18T01:47:41.935447Z"
    },
    "hidden": true,
    "scrolled": true
   },
   "outputs": [],
   "source": [
    "file_to_upload = \"../../admin/test_file3_for_s3.txt\"\n",
    "file_name = file_to_upload.split(sep=\"/\")[-1]"
   ]
  },
  {
   "cell_type": "code",
   "execution_count": null,
   "metadata": {
    "ExecuteTime": {
     "end_time": "2021-02-18T01:48:39.542875Z",
     "start_time": "2021-02-18T01:48:39.079182Z"
    },
    "hidden": true,
    "scrolled": true
   },
   "outputs": [],
   "source": [
    "# s3.upload_file(file_to_upload, bucket_name, file_name)\n",
    "\n",
    "s3.meta.client.upload_file(file_to_upload, bucket_name, file_name)"
   ]
  },
  {
   "cell_type": "code",
   "execution_count": null,
   "metadata": {
    "ExecuteTime": {
     "end_time": "2021-02-18T01:49:03.922917Z",
     "start_time": "2021-02-18T01:49:03.491793Z"
    },
    "hidden": true,
    "scrolled": true
   },
   "outputs": [],
   "source": [
    "[obj for obj in s3.Bucket(bucket_name).objects.all()]"
   ]
  },
  {
   "cell_type": "markdown",
   "metadata": {
    "heading_collapsed": true,
    "hidden": true
   },
   "source": [
    "#### Downloading files from bucket"
   ]
  },
  {
   "cell_type": "code",
   "execution_count": null,
   "metadata": {
    "ExecuteTime": {
     "end_time": "2021-02-18T01:51:37.417192Z",
     "start_time": "2021-02-18T01:51:36.946491Z"
    },
    "hidden": true,
    "scrolled": true
   },
   "outputs": [],
   "source": [
    "path_to_download = \"/Users/rp_mbp/Documents/ReposRob_RobPer/ITAMmcd/semestre_2/Arquitectura_Prod_Dat/Venv_ArqPD/repos/dpa_2021/_robdir/\" + file_name\n",
    "\n",
    "s3.meta.client.download_file(bucket_name, file_name, path_to_download)"
   ]
  },
  {
   "cell_type": "markdown",
   "metadata": {
    "heading_collapsed": true,
    "hidden": true
   },
   "source": [
    "#### Deleting bucket files"
   ]
  },
  {
   "cell_type": "code",
   "execution_count": null,
   "metadata": {
    "ExecuteTime": {
     "end_time": "2021-02-18T01:52:49.940565Z",
     "start_time": "2021-02-18T01:52:49.589748Z"
    },
    "hidden": true,
    "scrolled": true
   },
   "outputs": [],
   "source": [
    "s3.Object(bucket_name, file_name).delete()"
   ]
  },
  {
   "cell_type": "markdown",
   "metadata": {
    "hidden": true
   },
   "source": [
    "---"
   ]
  },
  {
   "cell_type": "markdown",
   "metadata": {
    "heading_collapsed": "true",
    "hidden": true,
    "tags": []
   },
   "source": [
    "#### Deleting bucket"
   ]
  },
  {
   "cell_type": "markdown",
   "metadata": {
    "heading_collapsed": "true",
    "tags": []
   },
   "source": [
    "## Downloading and storing Chicago data"
   ]
  },
  {
   "cell_type": "markdown",
   "metadata": {},
   "source": [
    "#### Interacting with API"
   ]
  },
  {
   "cell_type": "code",
   "execution_count": null,
   "metadata": {
    "ExecuteTime": {
     "end_time": "2021-04-19T16:55:11.613802Z",
     "start_time": "2021-04-19T16:55:11.579989Z"
    },
    "hidden": true,
    "scrolled": true
   },
   "outputs": [],
   "source": [
    "dataset_id = \"4ijn-s7e5\""
   ]
  },
  {
   "cell_type": "code",
   "execution_count": null,
   "metadata": {
    "ExecuteTime": {
     "end_time": "2021-04-19T16:55:12.143166Z",
     "start_time": "2021-04-19T16:55:12.105837Z"
    },
    "hidden": true,
    "scrolled": true
   },
   "outputs": [],
   "source": [
    "token = get_api_token(\"../conf/local/credentials.yaml\")\n",
    "token"
   ]
  },
  {
   "cell_type": "code",
   "execution_count": null,
   "metadata": {
    "ExecuteTime": {
     "end_time": "2021-04-19T16:55:12.993650Z",
     "start_time": "2021-04-19T16:55:12.958706Z"
    },
    "hidden": true,
    "scrolled": true
   },
   "outputs": [],
   "source": [
    "client = get_client(token)\n",
    "client"
   ]
  },
  {
   "cell_type": "raw",
   "metadata": {
    "ExecuteTime": {
     "end_time": "2021-02-22T23:32:13.384573Z",
     "start_time": "2021-02-22T23:32:13.365595Z"
    }
   },
   "source": [
    "y = client.get_all(dataset_id)"
   ]
  },
  {
   "cell_type": "code",
   "execution_count": null,
   "metadata": {
    "ExecuteTime": {
     "end_time": "2021-04-19T16:55:14.304034Z",
     "start_time": "2021-04-19T16:55:14.269556Z"
    },
    "hidden": true,
    "scrolled": true
   },
   "outputs": [],
   "source": [
    "most_rec_date = '2021-04-10'"
   ]
  },
  {
   "cell_type": "code",
   "execution_count": null,
   "metadata": {
    "ExecuteTime": {
     "end_time": "2021-04-19T16:55:14.750294Z",
     "start_time": "2021-04-19T16:55:14.713859Z"
    },
    "hidden": true,
    "scrolled": true
   },
   "outputs": [],
   "source": [
    "soql_query = \"inspection_date >= '{}'\".format(most_rec_date)\n",
    "soql_query"
   ]
  },
  {
   "cell_type": "code",
   "execution_count": null,
   "metadata": {
    "ExecuteTime": {
     "end_time": "2021-04-19T16:55:18.580540Z",
     "start_time": "2021-04-19T16:55:15.226479Z"
    },
    "hidden": true,
    "scrolled": true
   },
   "outputs": [],
   "source": [
    "x = client.get(dataset_id, \n",
    "               limit=10,\n",
    "               where=soql_query\n",
    "              )"
   ]
  },
  {
   "cell_type": "code",
   "execution_count": null,
   "metadata": {
    "ExecuteTime": {
     "end_time": "2021-04-19T16:55:18.620995Z",
     "start_time": "2021-04-19T16:55:18.582205Z"
    },
    "hidden": true,
    "scrolled": true
   },
   "outputs": [],
   "source": [
    "x"
   ]
  },
  {
   "cell_type": "code",
   "execution_count": null,
   "metadata": {
    "ExecuteTime": {
     "end_time": "2021-04-19T16:55:24.421987Z",
     "start_time": "2021-04-19T16:55:24.388137Z"
    },
    "hidden": true,
    "scrolled": true
   },
   "outputs": [],
   "source": [
    "len(x)"
   ]
  },
  {
   "cell_type": "code",
   "execution_count": null,
   "metadata": {
    "ExecuteTime": {
     "end_time": "2021-04-28T00:15:50.533369Z",
     "start_time": "2021-04-28T00:15:50.446050Z"
    },
    "scrolled": true
   },
   "outputs": [],
   "source": [
    "xx = pd.DataFrame(x)\n",
    "xx"
   ]
  },
  {
   "cell_type": "code",
   "execution_count": null,
   "metadata": {
    "ExecuteTime": {
     "end_time": "2021-04-19T23:50:01.749771Z",
     "start_time": "2021-04-19T23:50:01.713265Z"
    },
    "scrolled": true
   },
   "outputs": [],
   "source": [
    "str(xx.shape)"
   ]
  },
  {
   "cell_type": "markdown",
   "metadata": {},
   "source": [
    "##### Using \"dumps\""
   ]
  },
  {
   "cell_type": "code",
   "execution_count": null,
   "metadata": {
    "ExecuteTime": {
     "end_time": "2021-04-18T13:59:45.201573Z",
     "start_time": "2021-04-18T13:59:45.167429Z"
    },
    "scrolled": true
   },
   "outputs": [],
   "source": [
    "xx = pickle.dumps(x)"
   ]
  },
  {
   "cell_type": "code",
   "execution_count": null,
   "metadata": {
    "ExecuteTime": {
     "end_time": "2021-04-18T13:59:47.215146Z",
     "start_time": "2021-04-18T13:59:47.182791Z"
    },
    "scrolled": true
   },
   "outputs": [],
   "source": [
    "xx"
   ]
  },
  {
   "cell_type": "code",
   "execution_count": null,
   "metadata": {
    "ExecuteTime": {
     "end_time": "2021-04-18T13:59:43.014898Z",
     "start_time": "2021-04-18T13:59:42.977758Z"
    },
    "scrolled": true
   },
   "outputs": [],
   "source": [
    "pickle.loads(xx)"
   ]
  },
  {
   "cell_type": "markdown",
   "metadata": {},
   "source": [
    "##### Using \"dump\""
   ]
  },
  {
   "cell_type": "code",
   "execution_count": null,
   "metadata": {
    "ExecuteTime": {
     "end_time": "2021-04-18T16:08:33.267087Z",
     "start_time": "2021-04-18T16:08:33.185950Z"
    },
    "scrolled": true
   },
   "outputs": [],
   "source": [
    "pkl_store_loc = !pwd\n",
    "pkl_store_loc = pkl_store_loc[0] + \"/prueba_pickle.pkl\""
   ]
  },
  {
   "cell_type": "code",
   "execution_count": null,
   "metadata": {
    "ExecuteTime": {
     "end_time": "2021-04-18T16:08:40.538238Z",
     "start_time": "2021-04-18T16:08:40.503675Z"
    },
    "scrolled": true
   },
   "outputs": [],
   "source": [
    "pkl_store_loc"
   ]
  },
  {
   "cell_type": "code",
   "execution_count": null,
   "metadata": {
    "ExecuteTime": {
     "end_time": "2021-04-18T12:51:41.090507Z",
     "start_time": "2021-04-18T12:51:41.051734Z"
    },
    "scrolled": true
   },
   "outputs": [],
   "source": [
    "pickle.dump(x, open(pkl_store_loc, 'wb'))"
   ]
  },
  {
   "cell_type": "code",
   "execution_count": null,
   "metadata": {
    "ExecuteTime": {
     "end_time": "2021-04-18T16:08:51.997677Z",
     "start_time": "2021-04-18T16:08:51.958849Z"
    },
    "scrolled": true
   },
   "outputs": [],
   "source": [
    "pickle.load(open(pkl_store_loc, \"rb\"))"
   ]
  },
  {
   "cell_type": "markdown",
   "metadata": {},
   "source": [
    "##### Storing data in S3"
   ]
  },
  {
   "cell_type": "code",
   "execution_count": null,
   "metadata": {
    "ExecuteTime": {
     "end_time": "2021-04-18T15:15:45.098251Z",
     "start_time": "2021-04-18T15:15:45.014079Z"
    },
    "scrolled": true
   },
   "outputs": [],
   "source": [
    "pkl_store_loc = !pwd\n",
    "pkl_store_loc = pkl_store_loc[0] + \"/prueba_pickle.pkl\"\n",
    "pkl_store_loc"
   ]
  },
  {
   "cell_type": "code",
   "execution_count": null,
   "metadata": {
    "ExecuteTime": {
     "end_time": "2021-04-18T15:37:44.901831Z",
     "start_time": "2021-04-18T15:37:44.870736Z"
    },
    "scrolled": true
   },
   "outputs": [],
   "source": [
    "## Storing file locally\n",
    "pickle.dump(x, open(pkl_store_loc, \"wb\"))"
   ]
  },
  {
   "cell_type": "code",
   "execution_count": null,
   "metadata": {
    "ExecuteTime": {
     "end_time": "2021-04-18T15:38:06.829271Z",
     "start_time": "2021-04-18T15:38:06.798723Z"
    },
    "scrolled": true
   },
   "outputs": [],
   "source": [
    "## Loading file from local and saving as variable\n",
    "xx = pickle.dumps(pickle.load(open(pkl_store_loc, \"rb\")))"
   ]
  },
  {
   "cell_type": "code",
   "execution_count": null,
   "metadata": {
    "ExecuteTime": {
     "end_time": "2021-04-18T15:38:13.290006Z",
     "start_time": "2021-04-18T15:38:12.427452Z"
    },
    "scrolled": true
   },
   "outputs": [],
   "source": [
    "## Saving pickle in s3\n",
    "s3.put_object(\n",
    "    Bucket=bucket_name,\n",
    "    Key=\"test_pickle.pkl\",\n",
    "    Body=xx\n",
    ")"
   ]
  },
  {
   "cell_type": "markdown",
   "metadata": {
    "heading_collapsed": true
   },
   "source": [
    "##### Downloading data from s3 and unpickling"
   ]
  },
  {
   "cell_type": "code",
   "execution_count": null,
   "metadata": {
    "ExecuteTime": {
     "end_time": "2021-04-18T15:38:28.524852Z",
     "start_time": "2021-04-18T15:38:27.999544Z"
    },
    "hidden": true,
    "scrolled": true
   },
   "outputs": [],
   "source": [
    "res_xx = s3.get_object(\n",
    "    Bucket=bucket_name,\n",
    "    Key=\"test_pickle.pkl\"\n",
    ")\n",
    "res_xx"
   ]
  },
  {
   "cell_type": "code",
   "execution_count": null,
   "metadata": {
    "ExecuteTime": {
     "end_time": "2021-04-18T15:38:31.752858Z",
     "start_time": "2021-04-18T15:38:31.721848Z"
    },
    "hidden": true,
    "scrolled": true
   },
   "outputs": [],
   "source": [
    "body = res_xx[\"Body\"].read()"
   ]
  },
  {
   "cell_type": "code",
   "execution_count": null,
   "metadata": {
    "ExecuteTime": {
     "end_time": "2021-04-18T15:38:34.859373Z",
     "start_time": "2021-04-18T15:38:34.820720Z"
    },
    "hidden": true,
    "scrolled": true
   },
   "outputs": [],
   "source": [
    "pickle.loads(body)"
   ]
  },
  {
   "cell_type": "markdown",
   "metadata": {
    "heading_collapsed": true
   },
   "source": [
    "#### Uploading info"
   ]
  },
  {
   "cell_type": "raw",
   "metadata": {
    "ExecuteTime": {
     "end_time": "2021-02-18T17:34:43.908085Z",
     "start_time": "2021-02-18T17:34:39.580493Z"
    },
    "hidden": true
   },
   "source": [
    "# guardar_ingesta(bucket_name, hist_ingest_path)\n",
    "guardar_ingesta(bucket_name, cont_ingest_path)"
   ]
  },
  {
   "cell_type": "markdown",
   "metadata": {
    "heading_collapsed": true
   },
   "source": [
    "#### Checking aws s3 contents"
   ]
  },
  {
   "cell_type": "code",
   "execution_count": null,
   "metadata": {
    "ExecuteTime": {
     "end_time": "2021-04-25T19:12:50.363343Z",
     "start_time": "2021-04-25T19:12:49.915866Z"
    },
    "hidden": true,
    "init_cell": true,
    "scrolled": true
   },
   "outputs": [],
   "source": [
    "s3 = get_s3_resource()"
   ]
  },
  {
   "cell_type": "code",
   "execution_count": null,
   "metadata": {
    "ExecuteTime": {
     "end_time": "2021-02-23T01:44:59.242276Z",
     "start_time": "2021-02-23T01:44:59.217982Z"
    },
    "hidden": true,
    "scrolled": true
   },
   "outputs": [],
   "source": [
    "cont_ingest_path"
   ]
  },
  {
   "cell_type": "code",
   "execution_count": null,
   "metadata": {
    "ExecuteTime": {
     "end_time": "2021-02-23T01:55:15.367770Z",
     "start_time": "2021-02-23T01:55:14.999648Z"
    },
    "hidden": true,
    "scrolled": true
   },
   "outputs": [],
   "source": [
    "objects = s3.list_objects_v2(Bucket=bucket_name, Prefix=cont_ingest_path)['Contents']\n",
    "objects"
   ]
  },
  {
   "cell_type": "code",
   "execution_count": null,
   "metadata": {
    "ExecuteTime": {
     "end_time": "2021-02-23T01:55:15.390063Z",
     "start_time": "2021-02-23T01:55:15.369571Z"
    },
    "hidden": true,
    "scrolled": true
   },
   "outputs": [],
   "source": [
    "objects.append(\n",
    " {'Key': 'ingestion/consecutive/consecutive-inspections-2021-02-22.pkl',\n",
    "  'LastModified': \"datetime.datetime(2021, 2, 22, 2, 53, 54, tzinfo=tzutc())\",\n",
    "  'ETag': '\"79cff7864a646f1dfd4d51b4e732a226\"',\n",
    "  'Size': 1152660,\n",
    "  'StorageClass': 'STANDARD'}\n",
    ")\n",
    "\n",
    "objects.append(\n",
    " {'Key': 'ingestion/consecutive/consecutive-inspections-2021-02-15.pkl',\n",
    "  'LastModified': \"datetime.datetime(2021, 2, 22, 2, 53, 54, tzinfo=tzutc())\",\n",
    "  'ETag': '\"79cff7864a646f1dfd4d51b4e732a226\"',\n",
    "  'Size': 1152660,\n",
    "  'StorageClass': 'STANDARD'}\n",
    ")\n",
    "\n",
    "objects.append(\n",
    " {'Key': 'ingestion/consecutive/consecutive-inspections-2021-02-10.pkl',\n",
    "  'LastModified': \"datetime.datetime(2021, 2, 22, 2, 53, 54, tzinfo=tzutc())\",\n",
    "  'ETag': '\"79cff7864a646f1dfd4d51b4e732a226\"',\n",
    "  'Size': 1152660,\n",
    "  'StorageClass': 'STANDARD'}\n",
    ")"
   ]
  },
  {
   "cell_type": "code",
   "execution_count": null,
   "metadata": {
    "ExecuteTime": {
     "end_time": "2021-02-23T02:09:47.057743Z",
     "start_time": "2021-02-23T02:09:47.033152Z"
    },
    "hidden": true,
    "scrolled": true
   },
   "outputs": [],
   "source": [
    "rex = str(cont_dat_prefix) + \"(.*).pkl\"\n",
    "\n",
    "lx = [datetime.strptime(re.search(rex, obj[\"Key\"]).group(1), '%Y-%m-%d') for obj in objects if cont_dat_prefix in obj[\"Key\"]]\n",
    "most_rec_date = datetime.strftime(max(lx), '%Y-%m-%d')\n",
    "most_rec_date"
   ]
  },
  {
   "cell_type": "code",
   "execution_count": null,
   "metadata": {
    "ExecuteTime": {
     "end_time": "2021-02-23T01:46:19.553156Z",
     "start_time": "2021-02-23T01:46:18.658626Z"
    },
    "hidden": true,
    "scrolled": true
   },
   "outputs": [],
   "source": [
    "s3x = pickle.loads(s3.get_object(Bucket=bucket_name, Key=(cont_ingest_path + \"consecutive-inspections-2021-02-21.pkl\"))['Body'].read())"
   ]
  },
  {
   "cell_type": "raw",
   "metadata": {
    "ExecuteTime": {
     "end_time": "2021-02-23T00:00:30.371652Z",
     "start_time": "2021-02-23T00:00:29.847983Z"
    },
    "hidden": true
   },
   "source": [
    "s3x"
   ]
  },
  {
   "cell_type": "code",
   "execution_count": null,
   "metadata": {
    "ExecuteTime": {
     "end_time": "2021-02-23T01:46:25.020555Z",
     "start_time": "2021-02-23T01:46:24.907838Z"
    },
    "hidden": true,
    "scrolled": true
   },
   "outputs": [],
   "source": [
    "dfx = pd.DataFrame(s3x)\n",
    "dfx"
   ]
  },
  {
   "cell_type": "code",
   "execution_count": null,
   "metadata": {
    "ExecuteTime": {
     "end_time": "2021-02-23T01:46:34.414740Z",
     "start_time": "2021-02-23T01:46:34.366147Z"
    },
    "hidden": true,
    "scrolled": true
   },
   "outputs": [],
   "source": [
    "dfx[\"inspection_date\"] = pd.to_datetime(dfx[\"inspection_date\"])"
   ]
  },
  {
   "cell_type": "code",
   "execution_count": null,
   "metadata": {
    "ExecuteTime": {
     "end_time": "2021-02-23T01:46:34.685530Z",
     "start_time": "2021-02-23T01:46:34.658404Z"
    },
    "hidden": true,
    "scrolled": true
   },
   "outputs": [],
   "source": [
    "print(\"max date: \", max(dfx[\"inspection_date\"]))\n",
    "print(\"min date: \", min(dfx[\"inspection_date\"]))"
   ]
  },
  {
   "cell_type": "code",
   "execution_count": null,
   "metadata": {
    "ExecuteTime": {
     "end_time": "2021-02-23T00:10:59.859142Z",
     "start_time": "2021-02-23T00:10:59.342740Z"
    },
    "hidden": true,
    "scrolled": true
   },
   "outputs": [],
   "source": [
    "dfx.groupby(pd.Grouper(key=\"inspection_date\")).count()[[\"inspection_id\"]]"
   ]
  },
  {
   "cell_type": "markdown",
   "metadata": {
    "hidden": true
   },
   "source": [
    "---"
   ]
  },
  {
   "cell_type": "markdown",
   "metadata": {
    "heading_collapsed": "true",
    "tags": []
   },
   "source": [
    "## Creating local directories for temporal data"
   ]
  },
  {
   "cell_type": "code",
   "execution_count": null,
   "metadata": {
    "ExecuteTime": {
     "end_time": "2021-03-17T00:56:51.332125Z",
     "start_time": "2021-03-17T00:56:51.251984Z"
    },
    "hidden": true,
    "scrolled": true
   },
   "outputs": [],
   "source": [
    "base_path = \"../src/pipeline/luigi/ingestion_tmp/\""
   ]
  },
  {
   "cell_type": "markdown",
   "metadata": {
    "heading_collapsed": true,
    "hidden": true
   },
   "source": [
    "### Find most recent ingestion"
   ]
  },
  {
   "cell_type": "markdown",
   "metadata": {
    "heading_collapsed": true,
    "hidden": true
   },
   "source": [
    "#### Case 1: There is previous consecutive downloads"
   ]
  },
  {
   "cell_type": "code",
   "execution_count": null,
   "metadata": {
    "ExecuteTime": {
     "end_time": "2021-03-17T02:26:09.354291Z",
     "start_time": "2021-03-17T02:26:09.317452Z"
    },
    "hidden": true,
    "scrolled": true
   },
   "outputs": [],
   "source": [
    "lyrs = [ydir[-4:] for ydir in os.listdir(base_path + \"consecutive\") if \"YEAR=\" in ydir]\n",
    "lyrs"
   ]
  },
  {
   "cell_type": "code",
   "execution_count": null,
   "metadata": {
    "ExecuteTime": {
     "end_time": "2021-03-17T02:26:09.961062Z",
     "start_time": "2021-03-17T02:26:09.926635Z"
    },
    "hidden": true,
    "scrolled": true
   },
   "outputs": [],
   "source": [
    "mr_yr = max(lyrs)\n",
    "mr_yr"
   ]
  },
  {
   "cell_type": "code",
   "execution_count": null,
   "metadata": {
    "ExecuteTime": {
     "end_time": "2021-03-17T02:26:10.733106Z",
     "start_time": "2021-03-17T02:26:10.699043Z"
    },
    "hidden": true,
    "scrolled": true
   },
   "outputs": [],
   "source": [
    "lmths = [mdir[-2:] for mdir in os.listdir(base_path + \"consecutive\" + \"/\" + \"YEAR=\" + mr_yr) if \"MONTH=\" in mdir]\n",
    "lmths"
   ]
  },
  {
   "cell_type": "code",
   "execution_count": null,
   "metadata": {
    "ExecuteTime": {
     "end_time": "2021-03-17T01:14:25.389256Z",
     "start_time": "2021-03-17T01:14:25.356397Z"
    },
    "hidden": true,
    "scrolled": true
   },
   "outputs": [],
   "source": [
    "mr_mth = max(lmths)\n",
    "mr_mth"
   ]
  },
  {
   "cell_type": "code",
   "execution_count": null,
   "metadata": {
    "ExecuteTime": {
     "end_time": "2021-03-17T01:30:05.401109Z",
     "start_time": "2021-03-17T01:30:05.368159Z"
    },
    "hidden": true,
    "scrolled": true
   },
   "outputs": [],
   "source": [
    "lings = [ing for ing in os.listdir(base_path + \"consecutive\" + \"/\" + \"YEAR=\" + mr_yr + \"/\" + \"MONTH=\" + mr_mth)]\n",
    "lings"
   ]
  },
  {
   "cell_type": "raw",
   "metadata": {
    "ExecuteTime": {
     "end_time": "2021-03-17T01:30:05.401109Z",
     "start_time": "2021-03-17T01:30:05.368159Z"
    },
    "hidden": true
   },
   "source": [
    "lings = ['consecutive_inspections_2021-03-05.pkl',\n",
    " 'consecutive_inspections_2021-03-10.pkl',\n",
    " 'consecutive_inspections_2021-03-16.pkl',\n",
    " 'consecutive_inspections_2021-02-11.pkl',\n",
    " 'consecutive_inspections_2021-02-04.pkl',\n",
    " 'consecutive_inspections_2020-12-25.pkl'\n",
    "        ]\n",
    "lings"
   ]
  },
  {
   "cell_type": "code",
   "execution_count": null,
   "metadata": {
    "ExecuteTime": {
     "end_time": "2021-03-17T01:30:09.268405Z",
     "start_time": "2021-03-17T01:30:09.236752Z"
    },
    "hidden": true,
    "scrolled": true
   },
   "outputs": [],
   "source": [
    "regex = \"consecutive_inspections_\" + \"(.*).pkl\""
   ]
  },
  {
   "cell_type": "code",
   "execution_count": null,
   "metadata": {
    "ExecuteTime": {
     "end_time": "2021-03-17T01:30:13.588024Z",
     "start_time": "2021-03-17T01:30:13.553942Z"
    },
    "hidden": true,
    "scrolled": true
   },
   "outputs": [],
   "source": [
    "min([re.search(regex, ing).group(1) for ing in lings])"
   ]
  },
  {
   "cell_type": "code",
   "execution_count": null,
   "metadata": {
    "ExecuteTime": {
     "end_time": "2021-03-17T17:11:23.863934Z",
     "start_time": "2021-03-17T17:11:23.746569Z"
    },
    "hidden": true,
    "scrolled": true
   },
   "outputs": [],
   "source": [
    "lx = ['.DS_Store', 'consecutive_inspections_2021-03-05.pkl', 'consecutive_inspections_2021-03-10.pkl']\n",
    "lx"
   ]
  },
  {
   "cell_type": "code",
   "execution_count": null,
   "metadata": {
    "ExecuteTime": {
     "end_time": "2021-03-17T17:11:35.081836Z",
     "start_time": "2021-03-17T17:11:35.047204Z"
    },
    "hidden": true,
    "scrolled": true
   },
   "outputs": [],
   "source": [
    "cont_dat_prefix = \"consecutive_inspections_\""
   ]
  },
  {
   "cell_type": "code",
   "execution_count": null,
   "metadata": {
    "ExecuteTime": {
     "end_time": "2021-03-17T17:11:43.184093Z",
     "start_time": "2021-03-17T17:11:43.149782Z"
    },
    "hidden": true,
    "scrolled": true
   },
   "outputs": [],
   "source": [
    "regex = cont_dat_prefix + \"(.*).pkl\""
   ]
  },
  {
   "cell_type": "code",
   "execution_count": null,
   "metadata": {
    "ExecuteTime": {
     "end_time": "2021-03-17T17:12:44.455594Z",
     "start_time": "2021-03-17T17:12:44.420865Z"
    },
    "hidden": true,
    "scrolled": true
   },
   "outputs": [],
   "source": [
    "lx"
   ]
  },
  {
   "cell_type": "code",
   "execution_count": null,
   "metadata": {
    "ExecuteTime": {
     "end_time": "2021-03-17T17:12:46.804479Z",
     "start_time": "2021-03-17T17:12:46.769480Z"
    },
    "hidden": true,
    "scrolled": true
   },
   "outputs": [],
   "source": [
    "lings"
   ]
  },
  {
   "cell_type": "code",
   "execution_count": null,
   "metadata": {
    "ExecuteTime": {
     "end_time": "2021-03-17T17:13:28.580587Z",
     "start_time": "2021-03-17T17:13:28.530894Z"
    },
    "hidden": true,
    "scrolled": true
   },
   "outputs": [],
   "source": [
    "most_recent_ing = max([re.search(regex, ing).group(1) for ing in lx if \".pkl\" in ing])\n",
    "most_recent_ing"
   ]
  },
  {
   "cell_type": "markdown",
   "metadata": {
    "hidden": true
   },
   "source": [
    "#### Additional notes"
   ]
  },
  {
   "cell_type": "code",
   "execution_count": null,
   "metadata": {
    "ExecuteTime": {
     "end_time": "2021-03-17T22:51:20.933443Z",
     "start_time": "2021-03-17T22:51:20.887879Z"
    },
    "hidden": true,
    "scrolled": true
   },
   "outputs": [],
   "source": [
    "x = date.today().strftime('%Y-%m-%d')"
   ]
  },
  {
   "cell_type": "code",
   "execution_count": null,
   "metadata": {
    "ExecuteTime": {
     "end_time": "2021-03-17T22:52:29.058939Z",
     "start_time": "2021-03-17T22:52:29.025587Z"
    },
    "hidden": true,
    "scrolled": true
   },
   "outputs": [],
   "source": [
    "x[5:7]"
   ]
  },
  {
   "cell_type": "markdown",
   "metadata": {
    "hidden": true
   },
   "source": [
    "---"
   ]
  },
  {
   "cell_type": "markdown",
   "metadata": {
    "heading_collapsed": "true",
    "tags": []
   },
   "source": [
    "## Creating .csv files with metadata"
   ]
  },
  {
   "cell_type": "markdown",
   "metadata": {},
   "source": [
    "### Working with previous metadata pickle"
   ]
  },
  {
   "cell_type": "markdown",
   "metadata": {
    "heading_collapsed": true
   },
   "source": [
    "#### Transformation pickle"
   ]
  },
  {
   "cell_type": "code",
   "execution_count": null,
   "metadata": {
    "ExecuteTime": {
     "end_time": "2021-04-18T20:46:12.248706Z",
     "start_time": "2021-04-18T20:46:12.217816Z"
    },
    "hidden": true,
    "scrolled": true
   },
   "outputs": [],
   "source": [
    "pkl_meta = \"../results/metadata/transform_metadata.pkl\""
   ]
  },
  {
   "cell_type": "code",
   "execution_count": null,
   "metadata": {
    "ExecuteTime": {
     "end_time": "2021-04-18T20:46:12.589608Z",
     "start_time": "2021-04-18T20:46:12.540238Z"
    },
    "hidden": true,
    "scrolled": true
   },
   "outputs": [],
   "source": [
    "dfx = pickle.load(open(pkl_meta, \"rb\"))\n",
    "dfx"
   ]
  },
  {
   "cell_type": "code",
   "execution_count": null,
   "metadata": {
    "ExecuteTime": {
     "end_time": "2021-04-18T20:51:40.874609Z",
     "start_time": "2021-04-18T20:51:40.839324Z"
    },
    "hidden": true,
    "scrolled": true
   },
   "outputs": [],
   "source": [
    "mx = [dfx.index[0]]\n",
    "mx"
   ]
  },
  {
   "cell_type": "code",
   "execution_count": null,
   "metadata": {
    "ExecuteTime": {
     "end_time": "2021-04-18T20:51:40.909217Z",
     "start_time": "2021-04-18T20:51:40.876628Z"
    },
    "hidden": true,
    "scrolled": true
   },
   "outputs": [],
   "source": [
    "[mx.append(val) for val in dfx.iloc[0, :]]"
   ]
  },
  {
   "cell_type": "code",
   "execution_count": null,
   "metadata": {
    "ExecuteTime": {
     "end_time": "2021-04-18T20:51:41.631785Z",
     "start_time": "2021-04-18T20:51:41.600098Z"
    },
    "hidden": true,
    "scrolled": true
   },
   "outputs": [],
   "source": [
    "mx"
   ]
  },
  {
   "cell_type": "code",
   "execution_count": null,
   "metadata": {
    "ExecuteTime": {
     "end_time": "2021-04-18T21:02:50.419575Z",
     "start_time": "2021-04-18T21:02:50.385486Z"
    },
    "hidden": true,
    "scrolled": true
   },
   "outputs": [],
   "source": [
    "## Overwriting csv file from a dataframe (no header)\n",
    "def write_csv_from_df(df, filepath, filename):\n",
    "    \n",
    "    ## Extracting df contents as list\n",
    "    mdata_list = [df.index[0]]\n",
    "    [mdata_list.append(val) for val in df.iloc[0, :]]\n",
    "    \n",
    "    ## Creating and writing csv file with extracted list\n",
    "    with open(filepath + filename, mode=\"w\") as metadata_file:\n",
    "        metadata_writer = csv.writer(metadata_file, delimiter=\",\", quotechar='\"', quoting=csv.QUOTE_MINIMAL)\n",
    "        metadata_writer.writerow(mdata_list)"
   ]
  },
  {
   "cell_type": "code",
   "execution_count": null,
   "metadata": {
    "ExecuteTime": {
     "end_time": "2021-04-18T21:03:15.646264Z",
     "start_time": "2021-04-18T21:03:15.615713Z"
    },
    "hidden": true,
    "scrolled": true
   },
   "outputs": [],
   "source": [
    "filepath = \"metadata_test_dir/\""
   ]
  },
  {
   "cell_type": "code",
   "execution_count": null,
   "metadata": {
    "ExecuteTime": {
     "end_time": "2021-04-18T21:03:33.289795Z",
     "start_time": "2021-04-18T21:03:33.257274Z"
    },
    "hidden": true,
    "scrolled": true
   },
   "outputs": [],
   "source": [
    "filename = \"transformation_metadata_2.csv\""
   ]
  },
  {
   "cell_type": "code",
   "execution_count": null,
   "metadata": {
    "ExecuteTime": {
     "end_time": "2021-04-18T21:04:01.172280Z",
     "start_time": "2021-04-18T21:04:01.141235Z"
    },
    "hidden": true,
    "scrolled": true
   },
   "outputs": [],
   "source": [
    "write_csv_from_df(dfx, filepath, filename)"
   ]
  },
  {
   "cell_type": "code",
   "execution_count": null,
   "metadata": {
    "ExecuteTime": {
     "end_time": "2021-04-18T21:04:08.791578Z",
     "start_time": "2021-04-18T21:04:08.759013Z"
    },
    "hidden": true,
    "scrolled": true
   },
   "outputs": [],
   "source": [
    "dfx"
   ]
  },
  {
   "cell_type": "markdown",
   "metadata": {},
   "source": [
    "#### Model selection pickle"
   ]
  },
  {
   "cell_type": "code",
   "execution_count": null,
   "metadata": {
    "ExecuteTime": {
     "end_time": "2021-04-25T19:15:38.582976Z",
     "start_time": "2021-04-25T19:15:38.428480Z"
    },
    "scrolled": true
   },
   "outputs": [],
   "source": [
    "s3_creds = get_s3_credentials(\"../conf/local/credentials.yaml\")\n",
    "\n",
    "session = boto3.Session(\n",
    "    aws_access_key_id=s3_creds['aws_access_key_id'],\n",
    "    aws_secret_access_key=s3_creds['aws_secret_access_key']\n",
    ")\n",
    "s3 = session.client('s3')"
   ]
  },
  {
   "cell_type": "code",
   "execution_count": null,
   "metadata": {
    "ExecuteTime": {
     "end_time": "2021-04-25T19:17:59.714432Z",
     "start_time": "2021-04-25T19:17:59.682214Z"
    },
    "scrolled": true
   },
   "outputs": [],
   "source": [
    "bucket = \"data-product-architecture-equipo-9\"\n",
    "key =\"model_selection\""
   ]
  },
  {
   "cell_type": "code",
   "execution_count": null,
   "metadata": {
    "ExecuteTime": {
     "end_time": "2021-04-25T19:18:00.501803Z",
     "start_time": "2021-04-25T19:18:00.087493Z"
    },
    "scrolled": true
   },
   "outputs": [],
   "source": [
    "objects = s3.list_objects_v2(Bucket=bucket, Prefix=key)['Contents']\n",
    "objects"
   ]
  },
  {
   "cell_type": "code",
   "execution_count": null,
   "metadata": {
    "ExecuteTime": {
     "end_time": "2021-04-25T19:18:19.448124Z",
     "start_time": "2021-04-25T19:18:19.414286Z"
    },
    "scrolled": true
   },
   "outputs": [],
   "source": [
    "obj_path = [file[\"Key\"] for file in objects if \"trained\" in file[\"Key\"]][0]\n",
    "obj_path"
   ]
  },
  {
   "cell_type": "code",
   "execution_count": null,
   "metadata": {
    "ExecuteTime": {
     "end_time": "2021-04-25T19:18:25.027805Z",
     "start_time": "2021-04-25T19:18:24.634151Z"
    },
    "scrolled": true
   },
   "outputs": [],
   "source": [
    "response = s3.get_object(\n",
    "    Bucket=bucket,\n",
    "    Key=obj_path\n",
    ")\n",
    "response"
   ]
  },
  {
   "cell_type": "code",
   "execution_count": null,
   "metadata": {
    "ExecuteTime": {
     "end_time": "2021-04-25T19:18:30.216891Z",
     "start_time": "2021-04-25T19:18:30.182289Z"
    },
    "scrolled": true
   },
   "outputs": [],
   "source": [
    "body = response[\"Body\"].read()"
   ]
  },
  {
   "cell_type": "code",
   "execution_count": null,
   "metadata": {
    "ExecuteTime": {
     "end_time": "2021-04-25T19:19:05.844264Z",
     "start_time": "2021-04-25T19:19:05.803510Z"
    },
    "scrolled": true
   },
   "outputs": [],
   "source": [
    "model = pickle.loads(body)\n",
    "model"
   ]
  },
  {
   "cell_type": "code",
   "execution_count": null,
   "metadata": {
    "ExecuteTime": {
     "end_time": "2021-04-25T19:19:40.378681Z",
     "start_time": "2021-04-25T19:19:40.345366Z"
    },
    "scrolled": true
   },
   "outputs": [],
   "source": [
    "str(model[\"best_trained_model\"])"
   ]
  },
  {
   "cell_type": "code",
   "execution_count": null,
   "metadata": {
    "ExecuteTime": {
     "end_time": "2021-04-25T19:22:56.479040Z",
     "start_time": "2021-04-25T19:22:56.438939Z"
    },
    "scrolled": true
   },
   "outputs": [],
   "source": [
    "model[\"best_trained_model\"]"
   ]
  },
  {
   "cell_type": "markdown",
   "metadata": {
    "heading_collapsed": true
   },
   "source": [
    "### Creating dummy metadata"
   ]
  },
  {
   "cell_type": "markdown",
   "metadata": {
    "heading_collapsed": true,
    "hidden": true
   },
   "source": [
    "#### Line 1"
   ]
  },
  {
   "cell_type": "code",
   "execution_count": null,
   "metadata": {
    "ExecuteTime": {
     "end_time": "2021-04-18T21:00:52.235990Z",
     "start_time": "2021-04-18T21:00:52.203522Z"
    },
    "hidden": true,
    "scrolled": true
   },
   "outputs": [],
   "source": [
    "meta_1 = str(datetime.now())"
   ]
  },
  {
   "cell_type": "code",
   "execution_count": null,
   "metadata": {
    "ExecuteTime": {
     "end_time": "2021-04-18T21:00:52.660839Z",
     "start_time": "2021-04-18T21:00:52.629989Z"
    },
    "hidden": true,
    "scrolled": true
   },
   "outputs": [],
   "source": [
    "meta_2 = str(10)"
   ]
  },
  {
   "cell_type": "code",
   "execution_count": null,
   "metadata": {
    "ExecuteTime": {
     "end_time": "2021-04-18T21:00:53.028530Z",
     "start_time": "2021-04-18T21:00:52.998058Z"
    },
    "hidden": true,
    "scrolled": true
   },
   "outputs": [],
   "source": [
    "meta_3 = \"carnegie\""
   ]
  },
  {
   "cell_type": "code",
   "execution_count": null,
   "metadata": {
    "ExecuteTime": {
     "end_time": "2021-04-18T21:00:54.472631Z",
     "start_time": "2021-04-18T21:00:54.439758Z"
    },
    "hidden": true,
    "scrolled": true
   },
   "outputs": [],
   "source": [
    "meta_comp = \",\".join([meta_1, meta_2, meta_3])\n",
    "meta_comp"
   ]
  },
  {
   "cell_type": "code",
   "execution_count": null,
   "metadata": {
    "ExecuteTime": {
     "end_time": "2021-04-18T21:00:59.191304Z",
     "start_time": "2021-04-18T21:00:59.159316Z"
    },
    "hidden": true,
    "scrolled": true
   },
   "outputs": [],
   "source": [
    "import csv\n",
    "with open(\"transformation_metadata.csv\", mode=\"w\") as metadata_file:\n",
    "    metadata_writer = csv.writer(metadata_file, delimiter=\",\", quotechar='\"', quoting=csv.QUOTE_MINIMAL)\n",
    "    metadata_writer.writerow([meta_1, meta_2, meta_3])"
   ]
  },
  {
   "cell_type": "markdown",
   "metadata": {
    "hidden": true
   },
   "source": [
    "#### Creating string based on dictionary keys for metadata"
   ]
  },
  {
   "cell_type": "code",
   "execution_count": null,
   "metadata": {
    "ExecuteTime": {
     "end_time": "2021-04-25T16:42:49.100499Z",
     "start_time": "2021-04-25T16:42:49.066219Z"
    },
    "hidden": true,
    "scrolled": true
   },
   "outputs": [],
   "source": [
    "\" | \".join([mdl for mdl in models_dict])"
   ]
  },
  {
   "cell_type": "markdown",
   "metadata": {
    "heading_collapsed": "true",
    "tags": []
   },
   "source": [
    "## Saving dictionary of dataframes as pickle"
   ]
  },
  {
   "cell_type": "markdown",
   "metadata": {
    "heading_collapsed": "true",
    "hidden": true,
    "tags": []
   },
   "source": [
    "### Creating dictionary of dataframes"
   ]
  },
  {
   "cell_type": "code",
   "execution_count": null,
   "metadata": {
    "ExecuteTime": {
     "end_time": "2021-04-22T17:11:20.639397Z",
     "start_time": "2021-04-22T17:11:20.599895Z"
    },
    "hidden": true,
    "scrolled": true
   },
   "outputs": [],
   "source": [
    "dfx1 = {\n",
    "    \"col1_df1\": list(range(1, 11)),\n",
    "    \"col2_df1\": list(\"htkdlekdjc\"),\n",
    "}\n",
    "dfx1 = pd.DataFrame.from_dict(dfx1)\n",
    "dfx1"
   ]
  },
  {
   "cell_type": "code",
   "execution_count": null,
   "metadata": {
    "ExecuteTime": {
     "end_time": "2021-04-22T17:11:43.883990Z",
     "start_time": "2021-04-22T17:11:43.847122Z"
    },
    "hidden": true,
    "scrolled": true
   },
   "outputs": [],
   "source": [
    "dfx2 = {\n",
    "    \"col1_df2\": list(range(11, 21)),\n",
    "    \"col2_df2\": list(\"jfldurytgc\"),\n",
    "}\n",
    "dfx2 = pd.DataFrame.from_dict(dfx2)\n",
    "dfx2"
   ]
  },
  {
   "cell_type": "code",
   "execution_count": null,
   "metadata": {
    "ExecuteTime": {
     "end_time": "2021-04-22T17:12:15.464789Z",
     "start_time": "2021-04-22T17:12:15.427697Z"
    },
    "hidden": true,
    "scrolled": true
   },
   "outputs": [],
   "source": [
    "df_dict = {\n",
    "    \"dfx1\": dfx1,\n",
    "    \"dfx2\": dfx2\n",
    "}\n",
    "df_dict"
   ]
  },
  {
   "cell_type": "code",
   "execution_count": null,
   "metadata": {
    "ExecuteTime": {
     "end_time": "2021-04-22T17:12:46.110517Z",
     "start_time": "2021-04-22T17:12:46.074460Z"
    },
    "hidden": true,
    "scrolled": true
   },
   "outputs": [],
   "source": [
    "df_dict['dfx2']"
   ]
  },
  {
   "cell_type": "markdown",
   "metadata": {
    "heading_collapsed": "true",
    "hidden": true,
    "tags": []
   },
   "source": [
    "### Storing dictionary as pickle variable and unpickling"
   ]
  },
  {
   "cell_type": "code",
   "execution_count": null,
   "metadata": {
    "ExecuteTime": {
     "end_time": "2021-04-22T17:14:46.260645Z",
     "start_time": "2021-04-22T17:14:46.227826Z"
    },
    "hidden": true,
    "scrolled": true
   },
   "outputs": [],
   "source": [
    "df_dict_pkl = pickle.dumps(df_dict)"
   ]
  },
  {
   "cell_type": "code",
   "execution_count": null,
   "metadata": {
    "ExecuteTime": {
     "end_time": "2021-04-22T17:15:20.175728Z",
     "start_time": "2021-04-22T17:15:20.143097Z"
    },
    "hidden": true,
    "scrolled": true
   },
   "outputs": [],
   "source": [
    "df_dict_x = pickle.loads(df_dict_pkl)"
   ]
  },
  {
   "cell_type": "code",
   "execution_count": null,
   "metadata": {
    "ExecuteTime": {
     "end_time": "2021-04-22T17:15:40.053049Z",
     "start_time": "2021-04-22T17:15:40.014095Z"
    },
    "hidden": true,
    "scrolled": true
   },
   "outputs": [],
   "source": [
    "df_dict_x['dfx2']"
   ]
  },
  {
   "cell_type": "markdown",
   "metadata": {
    "heading_collapsed": "true",
    "hidden": true,
    "tags": []
   },
   "source": [
    "### Storing dictionary as pickle in local memory and unpickling"
   ]
  },
  {
   "cell_type": "code",
   "execution_count": null,
   "metadata": {
    "ExecuteTime": {
     "end_time": "2021-04-22T17:17:28.717382Z",
     "start_time": "2021-04-22T17:17:28.684183Z"
    },
    "hidden": true,
    "scrolled": true
   },
   "outputs": [],
   "source": [
    "pkl_file = \"../data/pickles/test_df_dict_pkl.pkl\""
   ]
  },
  {
   "cell_type": "code",
   "execution_count": null,
   "metadata": {
    "ExecuteTime": {
     "end_time": "2021-04-22T17:19:18.255198Z",
     "start_time": "2021-04-22T17:19:18.220864Z"
    },
    "hidden": true,
    "scrolled": true
   },
   "outputs": [],
   "source": [
    "pickle.dump(df_dict, open(pkl_file, \"wb\"))"
   ]
  },
  {
   "cell_type": "code",
   "execution_count": null,
   "metadata": {
    "ExecuteTime": {
     "end_time": "2021-04-22T17:20:41.795420Z",
     "start_time": "2021-04-22T17:20:41.762737Z"
    },
    "hidden": true,
    "scrolled": true
   },
   "outputs": [],
   "source": [
    "df_dict_x = pickle.load(open(pkl_file, \"rb\"))"
   ]
  },
  {
   "cell_type": "code",
   "execution_count": null,
   "metadata": {
    "ExecuteTime": {
     "end_time": "2021-04-22T17:20:47.636340Z",
     "start_time": "2021-04-22T17:20:47.598904Z"
    },
    "hidden": true,
    "scrolled": true
   },
   "outputs": [],
   "source": [
    "df_dict_x['dfx2']"
   ]
  },
  {
   "cell_type": "markdown",
   "metadata": {
    "hidden": true
   },
   "source": [
    "---"
   ]
  },
  {
   "cell_type": "markdown",
   "metadata": {
    "tags": []
   },
   "source": [
    "## Inspecting modules results"
   ]
  },
  {
   "cell_type": "markdown",
   "metadata": {
    "tags": []
   },
   "source": [
    "### Data ingested"
   ]
  },
  {
   "cell_type": "code",
   "execution_count": 39,
   "metadata": {
    "scrolled": true
   },
   "outputs": [],
   "source": [
    "pth = \"../data/raw/Food_Inspections.csv\""
   ]
  },
  {
   "cell_type": "code",
   "execution_count": 40,
   "metadata": {
    "scrolled": true
   },
   "outputs": [],
   "source": [
    "dfx = pd.read_csv(pth)"
   ]
  },
  {
   "cell_type": "code",
   "execution_count": 41,
   "metadata": {
    "scrolled": true,
    "tags": []
   },
   "outputs": [
    {
     "data": {
      "text/html": [
       "<div>\n",
       "<style scoped>\n",
       "    .dataframe tbody tr th:only-of-type {\n",
       "        vertical-align: middle;\n",
       "    }\n",
       "\n",
       "    .dataframe tbody tr th {\n",
       "        vertical-align: top;\n",
       "    }\n",
       "\n",
       "    .dataframe thead th {\n",
       "        text-align: right;\n",
       "    }\n",
       "</style>\n",
       "<table border=\"1\" class=\"dataframe\">\n",
       "  <thead>\n",
       "    <tr style=\"text-align: right;\">\n",
       "      <th></th>\n",
       "      <th>Inspection ID</th>\n",
       "      <th>DBA Name</th>\n",
       "      <th>AKA Name</th>\n",
       "      <th>License#</th>\n",
       "      <th>Facility Type</th>\n",
       "      <th>Risk</th>\n",
       "      <th>Address</th>\n",
       "      <th>City</th>\n",
       "      <th>State</th>\n",
       "      <th>Zip</th>\n",
       "      <th>Inspection Date</th>\n",
       "      <th>Inspection Type</th>\n",
       "      <th>Results</th>\n",
       "      <th>Violations</th>\n",
       "      <th>Latitude</th>\n",
       "      <th>Longitude</th>\n",
       "      <th>Location</th>\n",
       "    </tr>\n",
       "  </thead>\n",
       "  <tbody>\n",
       "    <tr>\n",
       "      <th>0</th>\n",
       "      <td>2453552</td>\n",
       "      <td>CLAMP DOWN BURGERS</td>\n",
       "      <td>NaN</td>\n",
       "      <td>2749943.0</td>\n",
       "      <td>NaN</td>\n",
       "      <td>Risk 2 (Medium)</td>\n",
       "      <td>1742 W DIVISION ST</td>\n",
       "      <td>CHICAGO</td>\n",
       "      <td>IL</td>\n",
       "      <td>60622.0</td>\n",
       "      <td>10/20/2020</td>\n",
       "      <td>License</td>\n",
       "      <td>No Entry</td>\n",
       "      <td>NaN</td>\n",
       "      <td>41.903387</td>\n",
       "      <td>-87.671740</td>\n",
       "      <td>(-87.67174026586648, 41.903386755553484)</td>\n",
       "    </tr>\n",
       "    <tr>\n",
       "      <th>1</th>\n",
       "      <td>2386633</td>\n",
       "      <td>JIN JU</td>\n",
       "      <td>JIN JU</td>\n",
       "      <td>27137.0</td>\n",
       "      <td>Restaurant</td>\n",
       "      <td>Risk 1 (High)</td>\n",
       "      <td>5203 N CLARK ST</td>\n",
       "      <td>CHICAGO</td>\n",
       "      <td>IL</td>\n",
       "      <td>60640.0</td>\n",
       "      <td>08/28/2020</td>\n",
       "      <td>Canvass</td>\n",
       "      <td>No Entry</td>\n",
       "      <td>NaN</td>\n",
       "      <td>41.976301</td>\n",
       "      <td>-87.668276</td>\n",
       "      <td>(-87.66827593789948, 41.97630115368914)</td>\n",
       "    </tr>\n",
       "    <tr>\n",
       "      <th>2</th>\n",
       "      <td>2386595</td>\n",
       "      <td>LA BIZNAGA #2</td>\n",
       "      <td>LA BIZNAGA #2</td>\n",
       "      <td>2708992.0</td>\n",
       "      <td>NaN</td>\n",
       "      <td>Risk 1 (High)</td>\n",
       "      <td>2949 W BELMONT AVE</td>\n",
       "      <td>CHICAGO</td>\n",
       "      <td>IL</td>\n",
       "      <td>60618.0</td>\n",
       "      <td>08/27/2020</td>\n",
       "      <td>Complaint</td>\n",
       "      <td>No Entry</td>\n",
       "      <td>NaN</td>\n",
       "      <td>41.939256</td>\n",
       "      <td>-87.702270</td>\n",
       "      <td>(-87.70226967930802, 41.939255926667535)</td>\n",
       "    </tr>\n",
       "    <tr>\n",
       "      <th>3</th>\n",
       "      <td>2386464</td>\n",
       "      <td>Uni Sushi Bristo</td>\n",
       "      <td>Uni Sushi Bistro</td>\n",
       "      <td>2262637.0</td>\n",
       "      <td>Restaurant</td>\n",
       "      <td>Risk 1 (High)</td>\n",
       "      <td>1752 W NORTH AVE</td>\n",
       "      <td>CHICAGO</td>\n",
       "      <td>IL</td>\n",
       "      <td>60622.0</td>\n",
       "      <td>08/25/2020</td>\n",
       "      <td>Complaint</td>\n",
       "      <td>No Entry</td>\n",
       "      <td>NaN</td>\n",
       "      <td>41.910676</td>\n",
       "      <td>-87.672205</td>\n",
       "      <td>(-87.67220465807979, 41.91067561170382)</td>\n",
       "    </tr>\n",
       "    <tr>\n",
       "      <th>4</th>\n",
       "      <td>2386398</td>\n",
       "      <td>KIKI'S BISTRO</td>\n",
       "      <td>KIKI'S BISTRO</td>\n",
       "      <td>22899.0</td>\n",
       "      <td>Restaurant</td>\n",
       "      <td>Risk 1 (High)</td>\n",
       "      <td>900 N FRANKLIN ST</td>\n",
       "      <td>CHICAGO</td>\n",
       "      <td>IL</td>\n",
       "      <td>60610.0</td>\n",
       "      <td>08/24/2020</td>\n",
       "      <td>Canvass</td>\n",
       "      <td>No Entry</td>\n",
       "      <td>NaN</td>\n",
       "      <td>41.898998</td>\n",
       "      <td>-87.635921</td>\n",
       "      <td>(-87.63592067312285, 41.89899799424835)</td>\n",
       "    </tr>\n",
       "    <tr>\n",
       "      <th>...</th>\n",
       "      <td>...</td>\n",
       "      <td>...</td>\n",
       "      <td>...</td>\n",
       "      <td>...</td>\n",
       "      <td>...</td>\n",
       "      <td>...</td>\n",
       "      <td>...</td>\n",
       "      <td>...</td>\n",
       "      <td>...</td>\n",
       "      <td>...</td>\n",
       "      <td>...</td>\n",
       "      <td>...</td>\n",
       "      <td>...</td>\n",
       "      <td>...</td>\n",
       "      <td>...</td>\n",
       "      <td>...</td>\n",
       "      <td>...</td>\n",
       "    </tr>\n",
       "    <tr>\n",
       "      <th>215062</th>\n",
       "      <td>229233</td>\n",
       "      <td>ZULLO'S MARKETS, LLC</td>\n",
       "      <td>ZULLO'S MARKET</td>\n",
       "      <td>2016915.0</td>\n",
       "      <td>Restaurant</td>\n",
       "      <td>Risk 2 (Medium)</td>\n",
       "      <td>131 N Clinton ST</td>\n",
       "      <td>CHICAGO</td>\n",
       "      <td>IL</td>\n",
       "      <td>60661.0</td>\n",
       "      <td>02/18/2010</td>\n",
       "      <td>License</td>\n",
       "      <td>Fail</td>\n",
       "      <td>NaN</td>\n",
       "      <td>41.884188</td>\n",
       "      <td>-87.641120</td>\n",
       "      <td>(-87.64111966683218, 41.884187507127805)</td>\n",
       "    </tr>\n",
       "    <tr>\n",
       "      <th>215063</th>\n",
       "      <td>68205</td>\n",
       "      <td>LA FONDA CHIQUITA TLC</td>\n",
       "      <td>LA FONDA CHIQUITA</td>\n",
       "      <td>2017215.0</td>\n",
       "      <td>Restaurant</td>\n",
       "      <td>Risk 1 (High)</td>\n",
       "      <td>5940 W DIVERSEY AVE</td>\n",
       "      <td>CHICAGO</td>\n",
       "      <td>IL</td>\n",
       "      <td>60639.0</td>\n",
       "      <td>02/09/2010</td>\n",
       "      <td>License</td>\n",
       "      <td>Fail</td>\n",
       "      <td>12. HAND WASHING FACILITIES: WITH SOAP AND SAN...</td>\n",
       "      <td>41.931260</td>\n",
       "      <td>-87.775203</td>\n",
       "      <td>(-87.77520287598688, 41.93125971874477)</td>\n",
       "    </tr>\n",
       "    <tr>\n",
       "      <th>215064</th>\n",
       "      <td>88234</td>\n",
       "      <td>KABAB CUISINE 2</td>\n",
       "      <td>KABAB CUISINE 2</td>\n",
       "      <td>2014076.0</td>\n",
       "      <td>Restaurant</td>\n",
       "      <td>Risk 1 (High)</td>\n",
       "      <td>6320 N LINCOLN AVE</td>\n",
       "      <td>CHICAGO</td>\n",
       "      <td>IL</td>\n",
       "      <td>60659.0</td>\n",
       "      <td>02/01/2010</td>\n",
       "      <td>License Re-Inspection</td>\n",
       "      <td>Pass</td>\n",
       "      <td>NaN</td>\n",
       "      <td>41.996139</td>\n",
       "      <td>-87.716968</td>\n",
       "      <td>(-87.71696834498202, 41.996139331170895)</td>\n",
       "    </tr>\n",
       "    <tr>\n",
       "      <th>215065</th>\n",
       "      <td>74311</td>\n",
       "      <td>MARGARITA DISTRIBUTORS</td>\n",
       "      <td>NaN</td>\n",
       "      <td>2017298.0</td>\n",
       "      <td>Wholesale</td>\n",
       "      <td>Risk 3 (Low)</td>\n",
       "      <td>2332 S BLUE ISLAND AVE BLDG</td>\n",
       "      <td>CHICAGO</td>\n",
       "      <td>IL</td>\n",
       "      <td>60608.0</td>\n",
       "      <td>02/19/2010</td>\n",
       "      <td>License Re-Inspection</td>\n",
       "      <td>Pass</td>\n",
       "      <td>NaN</td>\n",
       "      <td>41.849940</td>\n",
       "      <td>-87.672421</td>\n",
       "      <td>(-87.67242100722251, 41.84994008002549)</td>\n",
       "    </tr>\n",
       "    <tr>\n",
       "      <th>215066</th>\n",
       "      <td>67838</td>\n",
       "      <td>OUR LADY OF LOURDES</td>\n",
       "      <td>OUR LADY OF LOURDES</td>\n",
       "      <td>42577.0</td>\n",
       "      <td>Daycare (Under 2 Years)</td>\n",
       "      <td>Risk 1 (High)</td>\n",
       "      <td>1449 S KEELER AVE</td>\n",
       "      <td>CHICAGO</td>\n",
       "      <td>IL</td>\n",
       "      <td>60623.0</td>\n",
       "      <td>01/12/2010</td>\n",
       "      <td>Canvass</td>\n",
       "      <td>Fail</td>\n",
       "      <td>18. NO EVIDENCE OF RODENT OR INSECT OUTER OPEN...</td>\n",
       "      <td>41.861003</td>\n",
       "      <td>-87.729762</td>\n",
       "      <td>(-87.72976247742804, 41.861003270876026)</td>\n",
       "    </tr>\n",
       "  </tbody>\n",
       "</table>\n",
       "<p>215067 rows × 17 columns</p>\n",
       "</div>"
      ],
      "text/plain": [
       "        Inspection ID                DBA Name             AKA Name   License#  \\\n",
       "0             2453552      CLAMP DOWN BURGERS                  NaN  2749943.0   \n",
       "1             2386633                  JIN JU               JIN JU    27137.0   \n",
       "2             2386595           LA BIZNAGA #2        LA BIZNAGA #2  2708992.0   \n",
       "3             2386464        Uni Sushi Bristo     Uni Sushi Bistro  2262637.0   \n",
       "4             2386398           KIKI'S BISTRO        KIKI'S BISTRO    22899.0   \n",
       "...               ...                     ...                  ...        ...   \n",
       "215062         229233    ZULLO'S MARKETS, LLC       ZULLO'S MARKET  2016915.0   \n",
       "215063          68205   LA FONDA CHIQUITA TLC    LA FONDA CHIQUITA  2017215.0   \n",
       "215064          88234         KABAB CUISINE 2      KABAB CUISINE 2  2014076.0   \n",
       "215065          74311  MARGARITA DISTRIBUTORS                  NaN  2017298.0   \n",
       "215066          67838     OUR LADY OF LOURDES  OUR LADY OF LOURDES    42577.0   \n",
       "\n",
       "                  Facility Type             Risk  \\\n",
       "0                           NaN  Risk 2 (Medium)   \n",
       "1                    Restaurant    Risk 1 (High)   \n",
       "2                           NaN    Risk 1 (High)   \n",
       "3                    Restaurant    Risk 1 (High)   \n",
       "4                    Restaurant    Risk 1 (High)   \n",
       "...                         ...              ...   \n",
       "215062               Restaurant  Risk 2 (Medium)   \n",
       "215063               Restaurant    Risk 1 (High)   \n",
       "215064               Restaurant    Risk 1 (High)   \n",
       "215065                Wholesale     Risk 3 (Low)   \n",
       "215066  Daycare (Under 2 Years)    Risk 1 (High)   \n",
       "\n",
       "                             Address     City State      Zip Inspection Date  \\\n",
       "0                1742 W DIVISION ST   CHICAGO    IL  60622.0      10/20/2020   \n",
       "1                   5203 N CLARK ST   CHICAGO    IL  60640.0      08/28/2020   \n",
       "2                2949 W BELMONT AVE   CHICAGO    IL  60618.0      08/27/2020   \n",
       "3                  1752 W NORTH AVE   CHICAGO    IL  60622.0      08/25/2020   \n",
       "4                 900 N FRANKLIN ST   CHICAGO    IL  60610.0      08/24/2020   \n",
       "...                              ...      ...   ...      ...             ...   \n",
       "215062             131 N Clinton ST   CHICAGO    IL  60661.0      02/18/2010   \n",
       "215063          5940 W DIVERSEY AVE   CHICAGO    IL  60639.0      02/09/2010   \n",
       "215064           6320 N LINCOLN AVE   CHICAGO    IL  60659.0      02/01/2010   \n",
       "215065  2332 S BLUE ISLAND AVE BLDG   CHICAGO    IL  60608.0      02/19/2010   \n",
       "215066            1449 S KEELER AVE   CHICAGO    IL  60623.0      01/12/2010   \n",
       "\n",
       "              Inspection Type   Results  \\\n",
       "0                     License  No Entry   \n",
       "1                     Canvass  No Entry   \n",
       "2                   Complaint  No Entry   \n",
       "3                   Complaint  No Entry   \n",
       "4                     Canvass  No Entry   \n",
       "...                       ...       ...   \n",
       "215062                License      Fail   \n",
       "215063                License      Fail   \n",
       "215064  License Re-Inspection      Pass   \n",
       "215065  License Re-Inspection      Pass   \n",
       "215066                Canvass      Fail   \n",
       "\n",
       "                                               Violations   Latitude  \\\n",
       "0                                                     NaN  41.903387   \n",
       "1                                                     NaN  41.976301   \n",
       "2                                                     NaN  41.939256   \n",
       "3                                                     NaN  41.910676   \n",
       "4                                                     NaN  41.898998   \n",
       "...                                                   ...        ...   \n",
       "215062                                                NaN  41.884188   \n",
       "215063  12. HAND WASHING FACILITIES: WITH SOAP AND SAN...  41.931260   \n",
       "215064                                                NaN  41.996139   \n",
       "215065                                                NaN  41.849940   \n",
       "215066  18. NO EVIDENCE OF RODENT OR INSECT OUTER OPEN...  41.861003   \n",
       "\n",
       "        Longitude                                  Location  \n",
       "0      -87.671740  (-87.67174026586648, 41.903386755553484)  \n",
       "1      -87.668276   (-87.66827593789948, 41.97630115368914)  \n",
       "2      -87.702270  (-87.70226967930802, 41.939255926667535)  \n",
       "3      -87.672205   (-87.67220465807979, 41.91067561170382)  \n",
       "4      -87.635921   (-87.63592067312285, 41.89899799424835)  \n",
       "...           ...                                       ...  \n",
       "215062 -87.641120  (-87.64111966683218, 41.884187507127805)  \n",
       "215063 -87.775203   (-87.77520287598688, 41.93125971874477)  \n",
       "215064 -87.716968  (-87.71696834498202, 41.996139331170895)  \n",
       "215065 -87.672421   (-87.67242100722251, 41.84994008002549)  \n",
       "215066 -87.729762  (-87.72976247742804, 41.861003270876026)  \n",
       "\n",
       "[215067 rows x 17 columns]"
      ]
     },
     "execution_count": 41,
     "metadata": {},
     "output_type": "execute_result"
    }
   ],
   "source": [
    "dfx"
   ]
  },
  {
   "cell_type": "markdown",
   "metadata": {
    "tags": []
   },
   "source": [
    "### Extraction dataframe"
   ]
  },
  {
   "cell_type": "code",
   "execution_count": 42,
   "metadata": {
    "scrolled": true
   },
   "outputs": [],
   "source": [
    "pth = \"../data/pickles/ingest_df.pkl\""
   ]
  },
  {
   "cell_type": "code",
   "execution_count": 43,
   "metadata": {
    "scrolled": true,
    "tags": []
   },
   "outputs": [],
   "source": [
    "dfx = pickle.load(open(pth, \"rb\"))"
   ]
  },
  {
   "cell_type": "code",
   "execution_count": 44,
   "metadata": {
    "scrolled": true
   },
   "outputs": [
    {
     "data": {
      "text/html": [
       "<div>\n",
       "<style scoped>\n",
       "    .dataframe tbody tr th:only-of-type {\n",
       "        vertical-align: middle;\n",
       "    }\n",
       "\n",
       "    .dataframe tbody tr th {\n",
       "        vertical-align: top;\n",
       "    }\n",
       "\n",
       "    .dataframe thead th {\n",
       "        text-align: right;\n",
       "    }\n",
       "</style>\n",
       "<table border=\"1\" class=\"dataframe\">\n",
       "  <thead>\n",
       "    <tr style=\"text-align: right;\">\n",
       "      <th></th>\n",
       "      <th>facility-type</th>\n",
       "      <th>risk</th>\n",
       "      <th>city</th>\n",
       "      <th>zip</th>\n",
       "      <th>inspection-type</th>\n",
       "      <th>results</th>\n",
       "      <th>violations</th>\n",
       "      <th>label</th>\n",
       "    </tr>\n",
       "    <tr>\n",
       "      <th>inspection-id</th>\n",
       "      <th></th>\n",
       "      <th></th>\n",
       "      <th></th>\n",
       "      <th></th>\n",
       "      <th></th>\n",
       "      <th></th>\n",
       "      <th></th>\n",
       "      <th></th>\n",
       "    </tr>\n",
       "  </thead>\n",
       "  <tbody>\n",
       "    <tr>\n",
       "      <th>2453552</th>\n",
       "      <td>nan</td>\n",
       "      <td>risk_2_-medium-</td>\n",
       "      <td>chicago</td>\n",
       "      <td>60622.0</td>\n",
       "      <td>license</td>\n",
       "      <td>no_entry</td>\n",
       "      <td>nan</td>\n",
       "      <td>0</td>\n",
       "    </tr>\n",
       "    <tr>\n",
       "      <th>2386633</th>\n",
       "      <td>restaurant</td>\n",
       "      <td>risk_1_-high-</td>\n",
       "      <td>chicago</td>\n",
       "      <td>60640.0</td>\n",
       "      <td>canvass</td>\n",
       "      <td>no_entry</td>\n",
       "      <td>nan</td>\n",
       "      <td>0</td>\n",
       "    </tr>\n",
       "    <tr>\n",
       "      <th>2386595</th>\n",
       "      <td>nan</td>\n",
       "      <td>risk_1_-high-</td>\n",
       "      <td>chicago</td>\n",
       "      <td>60618.0</td>\n",
       "      <td>complaint</td>\n",
       "      <td>no_entry</td>\n",
       "      <td>nan</td>\n",
       "      <td>0</td>\n",
       "    </tr>\n",
       "    <tr>\n",
       "      <th>2386464</th>\n",
       "      <td>restaurant</td>\n",
       "      <td>risk_1_-high-</td>\n",
       "      <td>chicago</td>\n",
       "      <td>60622.0</td>\n",
       "      <td>complaint</td>\n",
       "      <td>no_entry</td>\n",
       "      <td>nan</td>\n",
       "      <td>0</td>\n",
       "    </tr>\n",
       "    <tr>\n",
       "      <th>2386398</th>\n",
       "      <td>restaurant</td>\n",
       "      <td>risk_1_-high-</td>\n",
       "      <td>chicago</td>\n",
       "      <td>60610.0</td>\n",
       "      <td>canvass</td>\n",
       "      <td>no_entry</td>\n",
       "      <td>nan</td>\n",
       "      <td>0</td>\n",
       "    </tr>\n",
       "    <tr>\n",
       "      <th>...</th>\n",
       "      <td>...</td>\n",
       "      <td>...</td>\n",
       "      <td>...</td>\n",
       "      <td>...</td>\n",
       "      <td>...</td>\n",
       "      <td>...</td>\n",
       "      <td>...</td>\n",
       "      <td>...</td>\n",
       "    </tr>\n",
       "    <tr>\n",
       "      <th>229233</th>\n",
       "      <td>restaurant</td>\n",
       "      <td>risk_2_-medium-</td>\n",
       "      <td>chicago</td>\n",
       "      <td>60661.0</td>\n",
       "      <td>license</td>\n",
       "      <td>fail</td>\n",
       "      <td>nan</td>\n",
       "      <td>0</td>\n",
       "    </tr>\n",
       "    <tr>\n",
       "      <th>68205</th>\n",
       "      <td>restaurant</td>\n",
       "      <td>risk_1_-high-</td>\n",
       "      <td>chicago</td>\n",
       "      <td>60639.0</td>\n",
       "      <td>license</td>\n",
       "      <td>fail</td>\n",
       "      <td>12._hand_washing_facilities-_with_soap_and_san...</td>\n",
       "      <td>0</td>\n",
       "    </tr>\n",
       "    <tr>\n",
       "      <th>88234</th>\n",
       "      <td>restaurant</td>\n",
       "      <td>risk_1_-high-</td>\n",
       "      <td>chicago</td>\n",
       "      <td>60659.0</td>\n",
       "      <td>license_re-inspection</td>\n",
       "      <td>pass</td>\n",
       "      <td>nan</td>\n",
       "      <td>1</td>\n",
       "    </tr>\n",
       "    <tr>\n",
       "      <th>74311</th>\n",
       "      <td>wholesale</td>\n",
       "      <td>risk_3_-low-</td>\n",
       "      <td>chicago</td>\n",
       "      <td>60608.0</td>\n",
       "      <td>license_re-inspection</td>\n",
       "      <td>pass</td>\n",
       "      <td>nan</td>\n",
       "      <td>1</td>\n",
       "    </tr>\n",
       "    <tr>\n",
       "      <th>67838</th>\n",
       "      <td>daycare_-under_2_years-</td>\n",
       "      <td>risk_1_-high-</td>\n",
       "      <td>chicago</td>\n",
       "      <td>60623.0</td>\n",
       "      <td>canvass</td>\n",
       "      <td>fail</td>\n",
       "      <td>18._no_evidence_of_rodent_or_insect_outer_open...</td>\n",
       "      <td>0</td>\n",
       "    </tr>\n",
       "  </tbody>\n",
       "</table>\n",
       "<p>215067 rows × 8 columns</p>\n",
       "</div>"
      ],
      "text/plain": [
       "                         facility-type             risk     city      zip  \\\n",
       "inspection-id                                                               \n",
       "2453552                            nan  risk_2_-medium-  chicago  60622.0   \n",
       "2386633                     restaurant    risk_1_-high-  chicago  60640.0   \n",
       "2386595                            nan    risk_1_-high-  chicago  60618.0   \n",
       "2386464                     restaurant    risk_1_-high-  chicago  60622.0   \n",
       "2386398                     restaurant    risk_1_-high-  chicago  60610.0   \n",
       "...                                ...              ...      ...      ...   \n",
       "229233                      restaurant  risk_2_-medium-  chicago  60661.0   \n",
       "68205                       restaurant    risk_1_-high-  chicago  60639.0   \n",
       "88234                       restaurant    risk_1_-high-  chicago  60659.0   \n",
       "74311                        wholesale     risk_3_-low-  chicago  60608.0   \n",
       "67838          daycare_-under_2_years-    risk_1_-high-  chicago  60623.0   \n",
       "\n",
       "                     inspection-type   results  \\\n",
       "inspection-id                                    \n",
       "2453552                      license  no_entry   \n",
       "2386633                      canvass  no_entry   \n",
       "2386595                    complaint  no_entry   \n",
       "2386464                    complaint  no_entry   \n",
       "2386398                      canvass  no_entry   \n",
       "...                              ...       ...   \n",
       "229233                       license      fail   \n",
       "68205                        license      fail   \n",
       "88234          license_re-inspection      pass   \n",
       "74311          license_re-inspection      pass   \n",
       "67838                        canvass      fail   \n",
       "\n",
       "                                                      violations  label  \n",
       "inspection-id                                                            \n",
       "2453552                                                      nan      0  \n",
       "2386633                                                      nan      0  \n",
       "2386595                                                      nan      0  \n",
       "2386464                                                      nan      0  \n",
       "2386398                                                      nan      0  \n",
       "...                                                          ...    ...  \n",
       "229233                                                       nan      0  \n",
       "68205          12._hand_washing_facilities-_with_soap_and_san...      0  \n",
       "88234                                                        nan      1  \n",
       "74311                                                        nan      1  \n",
       "67838          18._no_evidence_of_rodent_or_insect_outer_open...      0  \n",
       "\n",
       "[215067 rows x 8 columns]"
      ]
     },
     "execution_count": 44,
     "metadata": {},
     "output_type": "execute_result"
    }
   ],
   "source": [
    "dfx"
   ]
  },
  {
   "cell_type": "raw",
   "metadata": {},
   "source": [
    "dfx[\"results\"].value_counts()\n",
    "dfx.loc[dfx[\"results\"] == \"no_entry\", [\"results\", \"label\"]][[\"label\"]].value_counts()"
   ]
  },
  {
   "cell_type": "markdown",
   "metadata": {
    "tags": []
   },
   "source": [
    "### Transformation df"
   ]
  },
  {
   "cell_type": "code",
   "execution_count": 45,
   "metadata": {
    "scrolled": true
   },
   "outputs": [],
   "source": [
    "pth = \"../data/pickles/transformation_df.pkl\""
   ]
  },
  {
   "cell_type": "code",
   "execution_count": 46,
   "metadata": {
    "scrolled": true,
    "tags": []
   },
   "outputs": [],
   "source": [
    "dfx = pickle.load(open(pth, \"rb\"))"
   ]
  },
  {
   "cell_type": "code",
   "execution_count": 47,
   "metadata": {
    "scrolled": true
   },
   "outputs": [
    {
     "data": {
      "text/html": [
       "<div>\n",
       "<style scoped>\n",
       "    .dataframe tbody tr th:only-of-type {\n",
       "        vertical-align: middle;\n",
       "    }\n",
       "\n",
       "    .dataframe tbody tr th {\n",
       "        vertical-align: top;\n",
       "    }\n",
       "\n",
       "    .dataframe thead th {\n",
       "        text-align: right;\n",
       "    }\n",
       "</style>\n",
       "<table border=\"1\" class=\"dataframe\">\n",
       "  <thead>\n",
       "    <tr style=\"text-align: right;\">\n",
       "      <th></th>\n",
       "      <th>facility-type</th>\n",
       "      <th>risk</th>\n",
       "      <th>city</th>\n",
       "      <th>zip</th>\n",
       "      <th>inspection-type</th>\n",
       "      <th>results</th>\n",
       "      <th>violations</th>\n",
       "      <th>label</th>\n",
       "      <th>serious_violations</th>\n",
       "      <th>zip-income-class</th>\n",
       "    </tr>\n",
       "    <tr>\n",
       "      <th>inspection-id</th>\n",
       "      <th></th>\n",
       "      <th></th>\n",
       "      <th></th>\n",
       "      <th></th>\n",
       "      <th></th>\n",
       "      <th></th>\n",
       "      <th></th>\n",
       "      <th></th>\n",
       "      <th></th>\n",
       "      <th></th>\n",
       "    </tr>\n",
       "  </thead>\n",
       "  <tbody>\n",
       "    <tr>\n",
       "      <th>2453552</th>\n",
       "      <td>facility-type_other</td>\n",
       "      <td>risk_2_-medium-</td>\n",
       "      <td>chicago</td>\n",
       "      <td>60622.0</td>\n",
       "      <td>license</td>\n",
       "      <td>no_entry</td>\n",
       "      <td>-_nan</td>\n",
       "      <td>0</td>\n",
       "      <td>no_result</td>\n",
       "      <td>Other</td>\n",
       "    </tr>\n",
       "    <tr>\n",
       "      <th>2386633</th>\n",
       "      <td>restaurant_bar</td>\n",
       "      <td>risk_1_-high-</td>\n",
       "      <td>chicago</td>\n",
       "      <td>60640.0</td>\n",
       "      <td>canvass</td>\n",
       "      <td>no_entry</td>\n",
       "      <td>-_nan</td>\n",
       "      <td>0</td>\n",
       "      <td>no_result</td>\n",
       "      <td>Other</td>\n",
       "    </tr>\n",
       "    <tr>\n",
       "      <th>2386595</th>\n",
       "      <td>facility-type_other</td>\n",
       "      <td>risk_1_-high-</td>\n",
       "      <td>chicago</td>\n",
       "      <td>60618.0</td>\n",
       "      <td>complaint</td>\n",
       "      <td>no_entry</td>\n",
       "      <td>-_nan</td>\n",
       "      <td>0</td>\n",
       "      <td>no_result</td>\n",
       "      <td>Other</td>\n",
       "    </tr>\n",
       "    <tr>\n",
       "      <th>2386464</th>\n",
       "      <td>restaurant_bar</td>\n",
       "      <td>risk_1_-high-</td>\n",
       "      <td>chicago</td>\n",
       "      <td>60622.0</td>\n",
       "      <td>complaint</td>\n",
       "      <td>no_entry</td>\n",
       "      <td>-_nan</td>\n",
       "      <td>0</td>\n",
       "      <td>no_result</td>\n",
       "      <td>Other</td>\n",
       "    </tr>\n",
       "    <tr>\n",
       "      <th>2386398</th>\n",
       "      <td>restaurant_bar</td>\n",
       "      <td>risk_1_-high-</td>\n",
       "      <td>chicago</td>\n",
       "      <td>60610.0</td>\n",
       "      <td>canvass</td>\n",
       "      <td>no_entry</td>\n",
       "      <td>-_nan</td>\n",
       "      <td>0</td>\n",
       "      <td>no_result</td>\n",
       "      <td>Other</td>\n",
       "    </tr>\n",
       "    <tr>\n",
       "      <th>...</th>\n",
       "      <td>...</td>\n",
       "      <td>...</td>\n",
       "      <td>...</td>\n",
       "      <td>...</td>\n",
       "      <td>...</td>\n",
       "      <td>...</td>\n",
       "      <td>...</td>\n",
       "      <td>...</td>\n",
       "      <td>...</td>\n",
       "      <td>...</td>\n",
       "    </tr>\n",
       "    <tr>\n",
       "      <th>229233</th>\n",
       "      <td>restaurant_bar</td>\n",
       "      <td>risk_2_-medium-</td>\n",
       "      <td>chicago</td>\n",
       "      <td>60661.0</td>\n",
       "      <td>license</td>\n",
       "      <td>fail</td>\n",
       "      <td>-_nan</td>\n",
       "      <td>0</td>\n",
       "      <td>no_result</td>\n",
       "      <td>Other</td>\n",
       "    </tr>\n",
       "    <tr>\n",
       "      <th>68205</th>\n",
       "      <td>restaurant_bar</td>\n",
       "      <td>risk_1_-high-</td>\n",
       "      <td>chicago</td>\n",
       "      <td>60639.0</td>\n",
       "      <td>license</td>\n",
       "      <td>fail</td>\n",
       "      <td>-_12._hand_washing_facilities-_with_soap_and_s...</td>\n",
       "      <td>0</td>\n",
       "      <td>serious_violations</td>\n",
       "      <td>Other</td>\n",
       "    </tr>\n",
       "    <tr>\n",
       "      <th>88234</th>\n",
       "      <td>restaurant_bar</td>\n",
       "      <td>risk_1_-high-</td>\n",
       "      <td>chicago</td>\n",
       "      <td>60659.0</td>\n",
       "      <td>license</td>\n",
       "      <td>pass</td>\n",
       "      <td>-_nan</td>\n",
       "      <td>1</td>\n",
       "      <td>no_result</td>\n",
       "      <td>Other</td>\n",
       "    </tr>\n",
       "    <tr>\n",
       "      <th>74311</th>\n",
       "      <td>facility-type_other</td>\n",
       "      <td>risk_3_-low-</td>\n",
       "      <td>chicago</td>\n",
       "      <td>60608.0</td>\n",
       "      <td>license</td>\n",
       "      <td>pass</td>\n",
       "      <td>-_nan</td>\n",
       "      <td>1</td>\n",
       "      <td>no_result</td>\n",
       "      <td>Other</td>\n",
       "    </tr>\n",
       "    <tr>\n",
       "      <th>67838</th>\n",
       "      <td>daycare</td>\n",
       "      <td>risk_1_-high-</td>\n",
       "      <td>chicago</td>\n",
       "      <td>60623.0</td>\n",
       "      <td>canvass</td>\n",
       "      <td>fail</td>\n",
       "      <td>-_18._no_evidence_of_rodent_or_insect_outer_op...</td>\n",
       "      <td>0</td>\n",
       "      <td>serious_violations</td>\n",
       "      <td>Other</td>\n",
       "    </tr>\n",
       "  </tbody>\n",
       "</table>\n",
       "<p>215067 rows × 10 columns</p>\n",
       "</div>"
      ],
      "text/plain": [
       "                     facility-type             risk     city      zip  \\\n",
       "inspection-id                                                           \n",
       "2453552        facility-type_other  risk_2_-medium-  chicago  60622.0   \n",
       "2386633             restaurant_bar    risk_1_-high-  chicago  60640.0   \n",
       "2386595        facility-type_other    risk_1_-high-  chicago  60618.0   \n",
       "2386464             restaurant_bar    risk_1_-high-  chicago  60622.0   \n",
       "2386398             restaurant_bar    risk_1_-high-  chicago  60610.0   \n",
       "...                            ...              ...      ...      ...   \n",
       "229233              restaurant_bar  risk_2_-medium-  chicago  60661.0   \n",
       "68205               restaurant_bar    risk_1_-high-  chicago  60639.0   \n",
       "88234               restaurant_bar    risk_1_-high-  chicago  60659.0   \n",
       "74311          facility-type_other     risk_3_-low-  chicago  60608.0   \n",
       "67838                      daycare    risk_1_-high-  chicago  60623.0   \n",
       "\n",
       "              inspection-type   results  \\\n",
       "inspection-id                             \n",
       "2453552               license  no_entry   \n",
       "2386633               canvass  no_entry   \n",
       "2386595             complaint  no_entry   \n",
       "2386464             complaint  no_entry   \n",
       "2386398               canvass  no_entry   \n",
       "...                       ...       ...   \n",
       "229233                license      fail   \n",
       "68205                 license      fail   \n",
       "88234                 license      pass   \n",
       "74311                 license      pass   \n",
       "67838                 canvass      fail   \n",
       "\n",
       "                                                      violations  label  \\\n",
       "inspection-id                                                             \n",
       "2453552                                                    -_nan      0   \n",
       "2386633                                                    -_nan      0   \n",
       "2386595                                                    -_nan      0   \n",
       "2386464                                                    -_nan      0   \n",
       "2386398                                                    -_nan      0   \n",
       "...                                                          ...    ...   \n",
       "229233                                                     -_nan      0   \n",
       "68205          -_12._hand_washing_facilities-_with_soap_and_s...      0   \n",
       "88234                                                      -_nan      1   \n",
       "74311                                                      -_nan      1   \n",
       "67838          -_18._no_evidence_of_rodent_or_insect_outer_op...      0   \n",
       "\n",
       "               serious_violations zip-income-class  \n",
       "inspection-id                                       \n",
       "2453552                 no_result            Other  \n",
       "2386633                 no_result            Other  \n",
       "2386595                 no_result            Other  \n",
       "2386464                 no_result            Other  \n",
       "2386398                 no_result            Other  \n",
       "...                           ...              ...  \n",
       "229233                  no_result            Other  \n",
       "68205          serious_violations            Other  \n",
       "88234                   no_result            Other  \n",
       "74311                   no_result            Other  \n",
       "67838          serious_violations            Other  \n",
       "\n",
       "[215067 rows x 10 columns]"
      ]
     },
     "execution_count": 47,
     "metadata": {},
     "output_type": "execute_result"
    }
   ],
   "source": [
    "dfx"
   ]
  },
  {
   "cell_type": "markdown",
   "metadata": {
    "tags": []
   },
   "source": [
    "### Feature engineering picke"
   ]
  },
  {
   "cell_type": "code",
   "execution_count": 48,
   "metadata": {
    "scrolled": true
   },
   "outputs": [],
   "source": [
    "pth = \"../data/pickles/fe_results.pkl\""
   ]
  },
  {
   "cell_type": "code",
   "execution_count": 49,
   "metadata": {
    "scrolled": true,
    "tags": []
   },
   "outputs": [],
   "source": [
    "fe_results = pickle.load(open(pth, \"rb\"))"
   ]
  },
  {
   "cell_type": "code",
   "execution_count": 50,
   "metadata": {
    "scrolled": true
   },
   "outputs": [
    {
     "data": {
      "text/plain": [
       "<215067x15 sparse matrix of type '<class 'numpy.float64'>'\n",
       "\twith 860268 stored elements in Compressed Sparse Row format>"
      ]
     },
     "execution_count": 50,
     "metadata": {},
     "output_type": "execute_result"
    }
   ],
   "source": [
    "fe_results[\"df_imp_engineered_features\"]"
   ]
  },
  {
   "cell_type": "code",
   "execution_count": 51,
   "metadata": {
    "scrolled": true
   },
   "outputs": [
    {
     "data": {
      "text/plain": [
       "inspection-id\n",
       "2453552    0\n",
       "2386633    0\n",
       "2386595    0\n",
       "2386464    0\n",
       "2386398    0\n",
       "          ..\n",
       "229233     0\n",
       "68205      0\n",
       "88234      1\n",
       "74311      1\n",
       "67838      0\n",
       "Name: label, Length: 215067, dtype: int64"
      ]
     },
     "execution_count": 51,
     "metadata": {},
     "output_type": "execute_result"
    }
   ],
   "source": [
    "fe_results[\"data_labels\"]"
   ]
  },
  {
   "cell_type": "code",
   "execution_count": 52,
   "metadata": {
    "scrolled": true
   },
   "outputs": [
    {
     "data": {
      "text/plain": [
       "{'facility-type': ['daycare', 'facility-type_other', 'restaurant_bar'],\n",
       " 'risk': ['all', 'nan', 'risk_1_-high-', 'risk_2_-medium-', 'risk_3_-low-'],\n",
       " 'city': ['chicago', 'city_other'],\n",
       " 'inspection-type': ['canvass',\n",
       "  'complaint',\n",
       "  'inspection',\n",
       "  'inspection-type_other',\n",
       "  'license'],\n",
       " 'serious_violations': ['no_result',\n",
       "  'no_serious_violations',\n",
       "  'serious_violations'],\n",
       " 'zip-income-class': ['Other']}"
      ]
     },
     "execution_count": 52,
     "metadata": {},
     "output_type": "execute_result"
    }
   ],
   "source": [
    "fe_results[\"ohe_reference\"]"
   ]
  },
  {
   "cell_type": "markdown",
   "metadata": {
    "tags": []
   },
   "source": [
    "### Models training pickle"
   ]
  },
  {
   "cell_type": "code",
   "execution_count": 53,
   "metadata": {
    "scrolled": true
   },
   "outputs": [],
   "source": [
    "pth = \"../data/pickles/mt_results.pkl\""
   ]
  },
  {
   "cell_type": "code",
   "execution_count": 54,
   "metadata": {
    "scrolled": true,
    "tags": []
   },
   "outputs": [],
   "source": [
    "mt_results = pickle.load(open(pth, \"rb\"))"
   ]
  },
  {
   "cell_type": "code",
   "execution_count": 55,
   "metadata": {
    "scrolled": true
   },
   "outputs": [
    {
     "data": {
      "text/plain": [
       "inspection-id\n",
       "471453     1\n",
       "1300944    1\n",
       "1386417    1\n",
       "1096383    0\n",
       "1954085    0\n",
       "          ..\n",
       "1279267    0\n",
       "664331     1\n",
       "285128     0\n",
       "1588991    0\n",
       "1538063    1\n",
       "Name: label, Length: 150546, dtype: int64"
      ]
     },
     "execution_count": 55,
     "metadata": {},
     "output_type": "execute_result"
    }
   ],
   "source": [
    "mt_results[\"training_labels\"]"
   ]
  },
  {
   "cell_type": "code",
   "execution_count": 56,
   "metadata": {
    "scrolled": true
   },
   "outputs": [
    {
     "data": {
      "text/plain": [
       "inspection-id\n",
       "1441528    0\n",
       "2315524    0\n",
       "1343273    1\n",
       "2315994    1\n",
       "1360669    0\n",
       "          ..\n",
       "2366295    1\n",
       "2232251    0\n",
       "920208     1\n",
       "1946275    1\n",
       "2233134    0\n",
       "Name: label, Length: 64521, dtype: int64"
      ]
     },
     "execution_count": 56,
     "metadata": {},
     "output_type": "execute_result"
    }
   ],
   "source": [
    "mt_results[\"test_labels\"]"
   ]
  },
  {
   "cell_type": "markdown",
   "metadata": {
    "tags": []
   },
   "source": [
    "### Model selection pickle"
   ]
  },
  {
   "cell_type": "code",
   "execution_count": 57,
   "metadata": {
    "scrolled": true
   },
   "outputs": [],
   "source": [
    "pth = \"../data/pickles/ms_results.pkl\""
   ]
  },
  {
   "cell_type": "code",
   "execution_count": 58,
   "metadata": {
    "scrolled": true,
    "tags": []
   },
   "outputs": [],
   "source": [
    "ms_results = pickle.load(open(pth, \"rb\"))"
   ]
  },
  {
   "cell_type": "code",
   "execution_count": 59,
   "metadata": {
    "scrolled": true
   },
   "outputs": [
    {
     "data": {
      "text/plain": [
       "array([1, 1, 1, ..., 1, 1, 0])"
      ]
     },
     "execution_count": 59,
     "metadata": {},
     "output_type": "execute_result"
    }
   ],
   "source": [
    "ms_results[\"model_test_predict_labels\"]"
   ]
  },
  {
   "cell_type": "code",
   "execution_count": 60,
   "metadata": {
    "scrolled": true
   },
   "outputs": [
    {
     "data": {
      "text/plain": [
       "array([[0.20655924, 0.79344076],\n",
       "       [0.20655924, 0.79344076],\n",
       "       [0.23003207, 0.76996793],\n",
       "       ...,\n",
       "       [0.28165049, 0.71834951],\n",
       "       [0.17910383, 0.82089617],\n",
       "       [0.71460451, 0.28539549]])"
      ]
     },
     "execution_count": 60,
     "metadata": {},
     "output_type": "execute_result"
    }
   ],
   "source": [
    "ms_results[\"model_test_predict_scores\"]"
   ]
  },
  {
   "cell_type": "markdown",
   "metadata": {
    "hidden": true
   },
   "source": [
    "---"
   ]
  },
  {
   "cell_type": "markdown",
   "metadata": {
    "tags": []
   },
   "source": [
    "## Building aequitas dataframe"
   ]
  },
  {
   "cell_type": "markdown",
   "metadata": {},
   "source": [
    "### Creating initial dataframe with unique ID's and real test labels"
   ]
  },
  {
   "cell_type": "code",
   "execution_count": 67,
   "metadata": {
    "scrolled": true
   },
   "outputs": [],
   "source": [
    "dfx = mt_results[\"test_labels\"].to_frame()\n",
    "dfx.rename(columns={\"label\": \"test_real_labels\"}, inplace=True)"
   ]
  },
  {
   "cell_type": "markdown",
   "metadata": {},
   "source": [
    "### Adding the labels predicted by best model"
   ]
  },
  {
   "cell_type": "code",
   "execution_count": 79,
   "metadata": {},
   "outputs": [],
   "source": [
    "dfx[\"model_test_predict_labels\"] = ms_results[\"model_test_predict_labels\"]"
   ]
  },
  {
   "cell_type": "markdown",
   "metadata": {},
   "source": [
    "### Adding zip and reference group"
   ]
  },
  {
   "cell_type": "code",
   "execution_count": 86,
   "metadata": {},
   "outputs": [],
   "source": [
    "rc = [\"zip\", \"zip-income-class\"]"
   ]
  },
  {
   "cell_type": "code",
   "execution_count": 81,
   "metadata": {
    "scrolled": true
   },
   "outputs": [],
   "source": [
    "pth = \"../data/pickles/transformation_df.pkl\""
   ]
  },
  {
   "cell_type": "code",
   "execution_count": 84,
   "metadata": {
    "scrolled": true,
    "tags": []
   },
   "outputs": [],
   "source": [
    "dfxx = pickle.load(open(pth, \"rb\"))"
   ]
  },
  {
   "cell_type": "code",
   "execution_count": 88,
   "metadata": {},
   "outputs": [],
   "source": [
    "dfxx = dfxx.loc[:, rc]"
   ]
  },
  {
   "cell_type": "markdown",
   "metadata": {},
   "source": [
    "#### Merging with labels dataframe"
   ]
  },
  {
   "cell_type": "code",
   "execution_count": null,
   "metadata": {},
   "outputs": [],
   "source": [
    "dfx.join(dfxx, how=\"inner\")"
   ]
  },
  {
   "cell_type": "markdown",
   "metadata": {
    "hidden": true
   },
   "source": [
    "---"
   ]
  },
  {
   "cell_type": "markdown",
   "metadata": {
    "tags": []
   },
   "source": [
    "## *Notes*"
   ]
  },
  {
   "cell_type": "markdown",
   "metadata": {},
   "source": [
    "---\n",
    "---"
   ]
  }
 ],
 "metadata": {
  "celltoolbar": "Initialization Cell",
  "kernelspec": {
   "display_name": "Python 3",
   "language": "python",
   "name": "python3"
  },
  "language_info": {
   "codemirror_mode": {
    "name": "ipython",
    "version": 3
   },
   "file_extension": ".py",
   "mimetype": "text/x-python",
   "name": "python",
   "nbconvert_exporter": "python",
   "pygments_lexer": "ipython3",
   "version": "3.8.6"
  },
  "toc": {
   "base_numbering": 1,
   "nav_menu": {},
   "number_sections": true,
   "sideBar": true,
   "skip_h1_title": false,
   "title_cell": "Table of Contents",
   "title_sidebar": "Contents",
   "toc_cell": false,
   "toc_position": {},
   "toc_section_display": true,
   "toc_window_display": false
  },
  "toc-autonumbering": true,
  "toc-showcode": false,
  "toc-showmarkdowntxt": false
 },
 "nbformat": 4,
 "nbformat_minor": 4
}
