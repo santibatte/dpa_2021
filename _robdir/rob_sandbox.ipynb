{
 "cells": [
  {
   "cell_type": "markdown",
   "metadata": {},
   "source": [
    "# Notebook with test code"
   ]
  },
  {
   "cell_type": "markdown",
   "metadata": {},
   "source": [
    "---"
   ]
  },
  {
   "cell_type": "markdown",
   "metadata": {},
   "source": [
    "## Imports"
   ]
  },
  {
   "cell_type": "markdown",
   "metadata": {},
   "source": [
    "### Standard library imports"
   ]
  },
  {
   "cell_type": "code",
   "execution_count": 1,
   "metadata": {
    "ExecuteTime": {
     "end_time": "2021-04-25T19:12:47.218534Z",
     "start_time": "2021-04-25T19:12:47.183462Z"
    },
    "init_cell": true
   },
   "outputs": [],
   "source": [
    "import yaml\n",
    "\n",
    "import sys\n",
    "\n",
    "from datetime import (date, datetime)\n",
    "\n",
    "import os\n",
    "\n",
    "import pickle\n",
    "\n",
    "import re"
   ]
  },
  {
   "cell_type": "markdown",
   "metadata": {},
   "source": [
    "### Third party libraries"
   ]
  },
  {
   "cell_type": "code",
   "execution_count": 2,
   "metadata": {
    "ExecuteTime": {
     "end_time": "2021-04-25T19:12:47.837715Z",
     "start_time": "2021-04-25T19:12:47.220896Z"
    },
    "init_cell": true
   },
   "outputs": [],
   "source": [
    "import boto3\n",
    "\n",
    "import pandas as pd"
   ]
  },
  {
   "cell_type": "markdown",
   "metadata": {},
   "source": [
    "### Local application imports"
   ]
  },
  {
   "cell_type": "code",
   "execution_count": 3,
   "metadata": {
    "ExecuteTime": {
     "end_time": "2021-04-25T19:12:47.844430Z",
     "start_time": "2021-04-25T19:12:47.840781Z"
    },
    "init_cell": true
   },
   "outputs": [],
   "source": [
    "sys.path.append(\"../\")"
   ]
  },
  {
   "cell_type": "code",
   "execution_count": 4,
   "metadata": {
    "ExecuteTime": {
     "end_time": "2021-04-25T19:12:49.913992Z",
     "start_time": "2021-04-25T19:12:47.846822Z"
    },
    "init_cell": true
   },
   "outputs": [],
   "source": [
    "%load_ext autoreload\n",
    "%autoreload 2\n",
    "\n",
    "from src.etl.ingesta_almacenamiento import (\n",
    "    \n",
    "    ## Functions\n",
    "    get_client,\n",
    "    ingesta_inicial,\n",
    "    ingesta_consecutiva,\n",
    "    get_s3_resource,\n",
    "    request_data_to_API,\n",
    "    get_s3_credentials,\n",
    "    \n",
    ")\n",
    "\n",
    "\n",
    "from src.utils.utils import (\n",
    "\n",
    "    get_api_token\n",
    "\n",
    ")\n",
    "\n",
    "\n",
    "from src.utils.data_dict import (\n",
    "    data_dict\n",
    ")\n",
    "\n",
    "from src.utils.params_ml import(\n",
    "    models_dict\n",
    ")"
   ]
  },
  {
   "cell_type": "markdown",
   "metadata": {},
   "source": [
    "---"
   ]
  },
  {
   "cell_type": "markdown",
   "metadata": {
    "heading_collapsed": true
   },
   "source": [
    "## AWS base examples"
   ]
  },
  {
   "cell_type": "markdown",
   "metadata": {},
   "source": [
    "### S3"
   ]
  },
  {
   "cell_type": "markdown",
   "metadata": {
    "heading_collapsed": true,
    "hidden": true
   },
   "source": [
    "#### Initial configuration"
   ]
  },
  {
   "cell_type": "markdown",
   "metadata": {
    "heading_collapsed": true,
    "hidden": true
   },
   "source": [
    "##### Resource"
   ]
  },
  {
   "cell_type": "raw",
   "metadata": {
    "ExecuteTime": {
     "end_time": "2021-02-20T01:41:59.230292Z",
     "start_time": "2021-02-20T01:41:59.115804Z"
    },
    "hidden": true
   },
   "source": [
    "ses = boto3.session.Session(profile_name=\"robper_dpa\")"
   ]
  },
  {
   "cell_type": "raw",
   "metadata": {
    "ExecuteTime": {
     "end_time": "2021-02-20T01:41:59.696177Z",
     "start_time": "2021-02-20T01:41:59.343490Z"
    },
    "hidden": true
   },
   "source": [
    "s3 = ses.resource(\"s3\")"
   ]
  },
  {
   "cell_type": "raw",
   "metadata": {
    "ExecuteTime": {
     "end_time": "2021-02-20T01:42:00.309962Z",
     "start_time": "2021-02-20T01:41:59.697962Z"
    },
    "hidden": true
   },
   "source": [
    "[buck.name for buck in s3.buckets.all()]"
   ]
  },
  {
   "cell_type": "raw",
   "metadata": {
    "ExecuteTime": {
     "end_time": "2021-02-18T16:07:32.833948Z",
     "start_time": "2021-02-18T16:07:32.812791Z"
    },
    "hidden": true
   },
   "source": [
    "# este archivo yaml vive en tu conf/local/credentials.yaml\n",
    "# este va en src/utils general.py\n",
    "def read_yaml_file(yaml_file):\n",
    "    \"\"\" load yaml cofigurations \"\"\"\n",
    "\n",
    "    config = None\n",
    "    try: \n",
    "        with open (yaml_file, 'r') as f:\n",
    "            config = yaml.safe_load(f)\n",
    "    except:\n",
    "        raise FileNotFoundError('Couldnt load the file')\n",
    "    \n",
    "    return config"
   ]
  },
  {
   "cell_type": "raw",
   "metadata": {
    "ExecuteTime": {
     "end_time": "2021-02-18T16:07:33.153905Z",
     "start_time": "2021-02-18T16:07:33.134152Z"
    },
    "hidden": true
   },
   "source": [
    "# este va en src/utils general.py\n",
    "def get_s3_credentials(credentials_file):\n",
    "    credentials = read_yaml_file(credentials_file)\n",
    "    s3_creds = credentials['s3']\n",
    "\n",
    "    return s3_creds"
   ]
  },
  {
   "cell_type": "markdown",
   "metadata": {
    "heading_collapsed": true,
    "hidden": true
   },
   "source": [
    "##### Client"
   ]
  },
  {
   "cell_type": "code",
   "execution_count": 6,
   "metadata": {
    "ExecuteTime": {
     "end_time": "2021-04-25T19:15:38.582976Z",
     "start_time": "2021-04-25T19:15:38.428480Z"
    },
    "hidden": true
   },
   "outputs": [],
   "source": [
    "s3_creds = get_s3_credentials(\"../conf/local/credentials.yaml\")\n",
    "\n",
    "session = boto3.Session(\n",
    "    aws_access_key_id=s3_creds['aws_access_key_id'],\n",
    "    aws_secret_access_key=s3_creds['aws_secret_access_key']\n",
    ")\n",
    "s3 = session.client('s3')"
   ]
  },
  {
   "cell_type": "markdown",
   "metadata": {
    "heading_collapsed": true,
    "hidden": true
   },
   "source": [
    "#### Connecting to existing bucket and viewing contents"
   ]
  },
  {
   "cell_type": "code",
   "execution_count": null,
   "metadata": {
    "ExecuteTime": {
     "end_time": "2021-04-18T15:39:07.650300Z",
     "start_time": "2021-04-18T15:39:07.616571Z"
    },
    "hidden": true
   },
   "outputs": [],
   "source": [
    "bucket = \"data-product-architecture-equipo-9\"\n",
    "key =\"ingestion/consecutive\""
   ]
  },
  {
   "cell_type": "code",
   "execution_count": null,
   "metadata": {
    "ExecuteTime": {
     "end_time": "2021-04-18T15:39:11.029859Z",
     "start_time": "2021-04-18T15:39:10.068873Z"
    },
    "hidden": true,
    "scrolled": true
   },
   "outputs": [],
   "source": [
    "objects = s3.list_objects_v2(Bucket=bucket, Prefix=key)['Contents']\n",
    "objects"
   ]
  },
  {
   "cell_type": "markdown",
   "metadata": {
    "heading_collapsed": true,
    "hidden": true
   },
   "source": [
    "#### Reading pickle from S3"
   ]
  },
  {
   "cell_type": "code",
   "execution_count": null,
   "metadata": {
    "ExecuteTime": {
     "end_time": "2021-04-18T15:39:42.125004Z",
     "start_time": "2021-04-18T15:39:42.093731Z"
    },
    "hidden": true,
    "scrolled": true
   },
   "outputs": [],
   "source": [
    "obj_path = [file[\"Key\"] for file in objects if \"2021-03-18\" in file[\"Key\"]][0]\n",
    "obj_path"
   ]
  },
  {
   "cell_type": "code",
   "execution_count": null,
   "metadata": {
    "ExecuteTime": {
     "end_time": "2021-04-18T15:39:47.721149Z",
     "start_time": "2021-04-18T15:39:45.188918Z"
    },
    "hidden": true,
    "scrolled": true
   },
   "outputs": [],
   "source": [
    "response = s3.get_object(\n",
    "    Bucket=bucket,\n",
    "    Key=obj_path\n",
    ")\n",
    "response"
   ]
  },
  {
   "cell_type": "code",
   "execution_count": null,
   "metadata": {
    "ExecuteTime": {
     "end_time": "2021-04-18T15:40:04.004085Z",
     "start_time": "2021-04-18T15:39:59.540606Z"
    },
    "hidden": true
   },
   "outputs": [],
   "source": [
    "body = response[\"Body\"].read()"
   ]
  },
  {
   "cell_type": "raw",
   "metadata": {
    "ExecuteTime": {
     "end_time": "2021-04-18T14:13:27.781264Z",
     "start_time": "2021-04-18T14:13:27.727017Z"
    },
    "hidden": true
   },
   "source": [
    "body"
   ]
  },
  {
   "cell_type": "markdown",
   "metadata": {
    "hidden": true
   },
   "source": [
    "---"
   ]
  },
  {
   "cell_type": "code",
   "execution_count": null,
   "metadata": {
    "ExecuteTime": {
     "end_time": "2021-04-18T15:40:33.949622Z",
     "start_time": "2021-04-18T15:40:33.513698Z"
    },
    "hidden": true
   },
   "outputs": [],
   "source": [
    "pickle.loads(pickle.loads(body))"
   ]
  },
  {
   "cell_type": "raw",
   "metadata": {
    "ExecuteTime": {
     "end_time": "2021-04-18T14:14:10.730987Z",
     "start_time": "2021-04-18T14:14:09.180941Z"
    },
    "hidden": true
   },
   "source": [
    "pickle.loads(response[\"Body\"].read())"
   ]
  },
  {
   "cell_type": "raw",
   "metadata": {
    "ExecuteTime": {
     "end_time": "2021-04-18T13:07:50.164005Z",
     "start_time": "2021-04-18T13:07:50.130148Z"
    },
    "hidden": true
   },
   "source": [
    "from io import BytesIO\n",
    "import pickle\n",
    "\n",
    "pickle.load(BytesIO(body))"
   ]
  },
  {
   "cell_type": "raw",
   "metadata": {
    "ExecuteTime": {
     "end_time": "2021-04-18T13:11:48.175336Z",
     "start_time": "2021-04-18T13:11:48.135735Z"
    },
    "hidden": true
   },
   "source": [
    "import cPickle\n",
    "cPickle.loads(body)"
   ]
  },
  {
   "cell_type": "markdown",
   "metadata": {
    "heading_collapsed": true,
    "hidden": true
   },
   "source": [
    "#### Creating bucket"
   ]
  },
  {
   "cell_type": "code",
   "execution_count": null,
   "metadata": {
    "ExecuteTime": {
     "end_time": "2021-04-18T15:14:11.966042Z",
     "start_time": "2021-04-18T15:14:10.575056Z"
    },
    "hidden": true
   },
   "outputs": [],
   "source": [
    "bucket_name = \"comdline-test-bucket-rob\"\n",
    "\n",
    "s3.create_bucket(\n",
    "    Bucket=bucket_name,\n",
    "    CreateBucketConfiguration={'LocationConstraint': 'us-west-2'},\n",
    "    ACL=\"private\"\n",
    ")"
   ]
  },
  {
   "cell_type": "markdown",
   "metadata": {
    "heading_collapsed": true,
    "hidden": true
   },
   "source": [
    "#### Uploading file to bucket"
   ]
  },
  {
   "cell_type": "code",
   "execution_count": null,
   "metadata": {
    "ExecuteTime": {
     "end_time": "2021-02-18T01:47:41.937898Z",
     "start_time": "2021-02-18T01:47:41.935447Z"
    },
    "hidden": true
   },
   "outputs": [],
   "source": [
    "file_to_upload = \"../../admin/test_file3_for_s3.txt\"\n",
    "file_name = file_to_upload.split(sep=\"/\")[-1]"
   ]
  },
  {
   "cell_type": "code",
   "execution_count": null,
   "metadata": {
    "ExecuteTime": {
     "end_time": "2021-02-18T01:48:39.542875Z",
     "start_time": "2021-02-18T01:48:39.079182Z"
    },
    "hidden": true
   },
   "outputs": [],
   "source": [
    "# s3.upload_file(file_to_upload, bucket_name, file_name)\n",
    "\n",
    "s3.meta.client.upload_file(file_to_upload, bucket_name, file_name)"
   ]
  },
  {
   "cell_type": "code",
   "execution_count": null,
   "metadata": {
    "ExecuteTime": {
     "end_time": "2021-02-18T01:49:03.922917Z",
     "start_time": "2021-02-18T01:49:03.491793Z"
    },
    "hidden": true
   },
   "outputs": [],
   "source": [
    "[obj for obj in s3.Bucket(bucket_name).objects.all()]"
   ]
  },
  {
   "cell_type": "markdown",
   "metadata": {
    "heading_collapsed": true,
    "hidden": true
   },
   "source": [
    "#### Downloading files from bucket"
   ]
  },
  {
   "cell_type": "code",
   "execution_count": null,
   "metadata": {
    "ExecuteTime": {
     "end_time": "2021-02-18T01:51:37.417192Z",
     "start_time": "2021-02-18T01:51:36.946491Z"
    },
    "hidden": true
   },
   "outputs": [],
   "source": [
    "path_to_download = \"/Users/rp_mbp/Documents/ReposRob_RobPer/ITAMmcd/semestre_2/Arquitectura_Prod_Dat/Venv_ArqPD/repos/dpa_2021/_robdir/\" + file_name\n",
    "\n",
    "s3.meta.client.download_file(bucket_name, file_name, path_to_download)"
   ]
  },
  {
   "cell_type": "markdown",
   "metadata": {
    "heading_collapsed": true,
    "hidden": true
   },
   "source": [
    "#### Deleting bucket files"
   ]
  },
  {
   "cell_type": "code",
   "execution_count": null,
   "metadata": {
    "ExecuteTime": {
     "end_time": "2021-02-18T01:52:49.940565Z",
     "start_time": "2021-02-18T01:52:49.589748Z"
    },
    "hidden": true
   },
   "outputs": [],
   "source": [
    "s3.Object(bucket_name, file_name).delete()"
   ]
  },
  {
   "cell_type": "markdown",
   "metadata": {
    "hidden": true
   },
   "source": [
    "---"
   ]
  },
  {
   "cell_type": "markdown",
   "metadata": {
    "hidden": true
   },
   "source": [
    "#### Deleting bucket"
   ]
  },
  {
   "cell_type": "markdown",
   "metadata": {},
   "source": [
    "## Downloading and storing Chicago data"
   ]
  },
  {
   "cell_type": "markdown",
   "metadata": {},
   "source": [
    "#### Interacting with API"
   ]
  },
  {
   "cell_type": "code",
   "execution_count": 74,
   "metadata": {
    "ExecuteTime": {
     "end_time": "2021-04-19T16:55:11.613802Z",
     "start_time": "2021-04-19T16:55:11.579989Z"
    },
    "hidden": true
   },
   "outputs": [],
   "source": [
    "dataset_id = \"4ijn-s7e5\""
   ]
  },
  {
   "cell_type": "code",
   "execution_count": 75,
   "metadata": {
    "ExecuteTime": {
     "end_time": "2021-04-19T16:55:12.143166Z",
     "start_time": "2021-04-19T16:55:12.105837Z"
    },
    "hidden": true
   },
   "outputs": [
    {
     "data": {
      "text/plain": [
       "'5HfsId12lhMMzSlYANoAq451w'"
      ]
     },
     "execution_count": 75,
     "metadata": {},
     "output_type": "execute_result"
    }
   ],
   "source": [
    "token = get_api_token(\"../conf/local/credentials.yaml\")\n",
    "token"
   ]
  },
  {
   "cell_type": "code",
   "execution_count": 76,
   "metadata": {
    "ExecuteTime": {
     "end_time": "2021-04-19T16:55:12.993650Z",
     "start_time": "2021-04-19T16:55:12.958706Z"
    },
    "hidden": true
   },
   "outputs": [
    {
     "data": {
      "text/plain": [
       "<sodapy.socrata.Socrata at 0x1713eb7c0>"
      ]
     },
     "execution_count": 76,
     "metadata": {},
     "output_type": "execute_result"
    }
   ],
   "source": [
    "client = get_client(token)\n",
    "client"
   ]
  },
  {
   "cell_type": "raw",
   "metadata": {
    "ExecuteTime": {
     "end_time": "2021-02-22T23:32:13.384573Z",
     "start_time": "2021-02-22T23:32:13.365595Z"
    }
   },
   "source": [
    "y = client.get_all(dataset_id)"
   ]
  },
  {
   "cell_type": "code",
   "execution_count": 77,
   "metadata": {
    "ExecuteTime": {
     "end_time": "2021-04-19T16:55:14.304034Z",
     "start_time": "2021-04-19T16:55:14.269556Z"
    },
    "hidden": true
   },
   "outputs": [],
   "source": [
    "most_rec_date = '2021-04-10'"
   ]
  },
  {
   "cell_type": "code",
   "execution_count": 78,
   "metadata": {
    "ExecuteTime": {
     "end_time": "2021-04-19T16:55:14.750294Z",
     "start_time": "2021-04-19T16:55:14.713859Z"
    },
    "hidden": true
   },
   "outputs": [
    {
     "data": {
      "text/plain": [
       "\"inspection_date >= '2021-04-10'\""
      ]
     },
     "execution_count": 78,
     "metadata": {},
     "output_type": "execute_result"
    }
   ],
   "source": [
    "soql_query = \"inspection_date >= '{}'\".format(most_rec_date)\n",
    "soql_query"
   ]
  },
  {
   "cell_type": "code",
   "execution_count": 79,
   "metadata": {
    "ExecuteTime": {
     "end_time": "2021-04-19T16:55:18.580540Z",
     "start_time": "2021-04-19T16:55:15.226479Z"
    },
    "hidden": true
   },
   "outputs": [],
   "source": [
    "x = client.get(dataset_id, \n",
    "               limit=10,\n",
    "               where=soql_query\n",
    "              )"
   ]
  },
  {
   "cell_type": "code",
   "execution_count": 80,
   "metadata": {
    "ExecuteTime": {
     "end_time": "2021-04-19T16:55:18.620995Z",
     "start_time": "2021-04-19T16:55:18.582205Z"
    },
    "hidden": true
   },
   "outputs": [
    {
     "data": {
      "text/plain": [
       "[{'inspection_id': '2498101',\n",
       "  'dba_name': 'LEXINGTON BETTY SMOKEHOUSE',\n",
       "  'aka_name': 'LEXINGTON BETTY SMOKEHOUSE',\n",
       "  'license_': '2717939',\n",
       "  'facility_type': 'Restaurant',\n",
       "  'risk': 'Risk 1 (High)',\n",
       "  'address': '756 E 111TH ST ',\n",
       "  'city': 'CHICAGO',\n",
       "  'state': 'IL',\n",
       "  'zip': '60628',\n",
       "  'inspection_date': '2021-04-12T00:00:00.000',\n",
       "  'inspection_type': 'Non-Inspection',\n",
       "  'results': 'No Entry',\n",
       "  'latitude': '41.69297593328423',\n",
       "  'longitude': '-87.60266451724692',\n",
       "  'location': {'latitude': '-87.60266451724692',\n",
       "   'longitude': '41.69297593328423'}},\n",
       " {'inspection_id': '2498054',\n",
       "  'dba_name': 'KINGS  GYROS #2',\n",
       "  'aka_name': 'KINGS  GYROS #2',\n",
       "  'license_': '1985223',\n",
       "  'facility_type': 'Restaurant',\n",
       "  'risk': 'Risk 1 (High)',\n",
       "  'address': '5233 N MILWAUKEE AVE ',\n",
       "  'city': 'CHICAGO',\n",
       "  'state': 'IL',\n",
       "  'zip': '60630',\n",
       "  'inspection_date': '2021-04-12T00:00:00.000',\n",
       "  'inspection_type': 'Canvass',\n",
       "  'results': 'Out of Business',\n",
       "  'latitude': '41.97547236947101',\n",
       "  'longitude': '-87.76738848299047',\n",
       "  'location': {'latitude': '-87.76738848299047',\n",
       "   'longitude': '41.97547236947101'}},\n",
       " {'inspection_id': '2498080',\n",
       "  'dba_name': 'RUBYS SOULFOOD EXPRESS',\n",
       "  'aka_name': 'RUBYS SOULFOOD EXPRESS',\n",
       "  'license_': '2723468',\n",
       "  'facility_type': 'Restaurant',\n",
       "  'risk': 'Risk 1 (High)',\n",
       "  'address': '11028 S HALSTED ST ',\n",
       "  'city': 'CHICAGO',\n",
       "  'state': 'IL',\n",
       "  'zip': '60628',\n",
       "  'inspection_date': '2021-04-12T00:00:00.000',\n",
       "  'inspection_type': 'Canvass',\n",
       "  'results': 'Fail',\n",
       "  'violations': '1. PERSON IN CHARGE PRESENT, DEMONSTRATES KNOWLEDGE, AND PERFORMS DUTIES - Comments: NO PERSON IN CHARGE | 2. CITY OF CHICAGO FOOD SERVICE SANITATION CERTIFICATE - Comments: OBSERVED NO CITY OF CHICAGO FOOD SANITATION CERTIFICATE POSTED OR PROVIDED AT THIS TIME OF INSPECTION. INSTRUCTED A VALID CITY OF CHICAGO FOOD SANITATION CERTIFICATE MUST BE POSTED ON SITE. PRIORITY FOUNDATION ISSUED 7-38-012. | 3. MANAGEMENT, FOOD EMPLOYEE AND CONDITIONAL EMPLOYEE; KNOWLEDGE, RESPONSIBILITIES AND REPORTING - Comments: OBSERVED NO PROOF OF EMPLOYEES HEALTH POLICY FOR EMPLOYEES HEALTH. PRIORITY FOUNDATION ISSUED. | 22. PROPER COLD HOLDING TEMPERATURES - Comments: OBSERVED IMPROPER COLD TEMPERATURES OF ( TCS) FOODS INSIDE COOLER. APPROC 4LBS OF COOKED JERK CHICKEN AT 54.0F,PAN OF SPAGHETTI WITH SAUCE AT 59.0F, 15LBS OF COOKED MACARONI/ CHEESE AT 62.0F, LARGE PAN PREP YESTERDAY, APPROX,(10LBS) MACARONI AND CHEESE PREPARED WITH MILK AND EGGS AT 50.0F,10LBS OF COOKED SPAGHETTI (PASTA) AT 49.0F, 20LBS OF TURKEY GRAVY AT 57.0F, 10 LBS OF BEFF GRAVY AT 57.0F, 1LB OF BAKED DRESSING AT 62.0F, APPROX 10LBS OF RAW EGGS AT 50.0F. ALL FOODS REMOVED AND DISCARDED BY PIC AT COST APPROX $ 250.00-COS. PRIORITY VIOLATION ISSUED 7-38-005 | 33. PROPER COOLING METHODS USED; ADEQUATE EQUIPMENT FOR TEMPERATURE CONTROL - Comments: OBSERVED 2 COLD HOLDING UNITS BEING USED MAINTAINING IMPROPER COLD TEMPERATURES. REFRIGERATOR MAINTAINING IMPROPER TEMPERATURE OF 56.0F AND COOLER MAINTAINING IMPROPER TEMPERATURE OF 52.0F. INSTRUCTED ALL COLD HOLDING UNITS MUST MAINTAIN 41.0F OR BELOW.INSTRUCTED TO USE ADDITIONAL COOLER ON SITE THAT 41.0F.  BOTH COOLERS WILL BE TAGED HELD FOR INSPECTION UNTIL TAG IS REMOVED BY THE HEALTH DEPT - COS. PRIORITY VIOLATION ISSUED 7-38-005. | 36. THERMOMETERS PROVIDED & ACCURATE | 38. INSECTS, RODENTS, & ANIMALS NOT PRESENT - Comments:  EVIDENCE OF IMPROPER PEST CONTROL ON SITE. OBSERVED 42 MICE DROPPINGS ON FLOORS AROUND HOT WATER TANK,AROUND AND BEHIND COOLERS IN REAR. INSTRUCTED TO CLEAN/ SANITIZE ALL AREAS. RECOMMENED PEST SERVICE. PRIORITY FOUNDATION ISSUED 7-38-020(A). | 38. INSECTS, RODENTS, & ANIMALS NOT PRESENT - Comments: OBSERVED REAR ENTRY DOOR NOT RODENT PROOF AT BOTTOM AREA. INSTRUCTED TO REPAIR TO BE TIGHT-FITTING. | 41. WIPING CLOTHS: PROPERLY USED & STORED | 49. NON-FOOD/FOOD CONTACT SURFACES CLEAN - Comments: OBSERVED COOKING EQUIPMENT NOT CLEAN OF DEBRIS, GRASE. MUST CLEAN/MAINTAIN. | 51. PLUMBING INSTALLED; PROPER BACKFLOW DEVICES - Comments: OBSERVED LEAKY FAUCETS AT 3 COMP SINK. INSTRUCTED TO REPAIR. | 51. PLUMBING INSTALLED; PROPER BACKFLOW DEVICES - Comments: INSTRUCTED TO REINSTALL MOP SINK IN REAR. | 53. TOILET FACILITIES: PROPERLY CONSTRUCTED, SUPPLIED, & CLEANED - Comments: ALL WASHROOMS USED BY FEMALES MUST HAVE A COVERED RECEPTACLE FOR SANITARY NAPKINS. MUST PROVIDE. | 57. ALL FOOD EMPLOYEES HAVE FOOD HANDLER TRAINING - Comments: OBSERVED NO PROOF OF FOOD HANDLER TRAINING FOR EMPLOYEES. MUST PROVIDE. | 58. ALLERGEN TRAINING AS REQUIRED - Comments: OBSERVED NO PROOF OF ALLERGEN TRAINING. MUST PROVIDE FOR CERTIFIED FOOD MANAGER.',\n",
       "  'latitude': '41.6932926013791',\n",
       "  'longitude': '-87.64255435412615',\n",
       "  'location': {'latitude': '-87.64255435412615',\n",
       "   'longitude': '41.6932926013791'}},\n",
       " {'inspection_id': '2498091',\n",
       "  'dba_name': 'Colemon, Johnnie',\n",
       "  'aka_name': 'Colemon, Johnnie',\n",
       "  'license_': '26751',\n",
       "  'facility_type': 'School',\n",
       "  'risk': 'Risk 1 (High)',\n",
       "  'address': '1441 W 119th St  (11900S) ',\n",
       "  'city': 'CHICAGO',\n",
       "  'state': 'IL',\n",
       "  'zip': '60643',\n",
       "  'inspection_date': '2021-04-12T00:00:00.000',\n",
       "  'inspection_type': 'Canvass',\n",
       "  'results': 'Pass',\n",
       "  'violations': '53. TOILET FACILITIES: PROPERLY CONSTRUCTED, SUPPLIED, & CLEANED - Comments: OBSERVED NO COVERED WASTE RECEPTACLES IN WOMEN STAFF AND GIRLS WASHROOMS. INSTRUCTED MANAGER TO PROVIDE.',\n",
       "  'latitude': '41.6774778561333',\n",
       "  'longitude': '-87.6581201090055',\n",
       "  'location': {'latitude': '-87.6581201090055',\n",
       "   'longitude': '41.6774778561333'}},\n",
       " {'inspection_id': '2498093',\n",
       "  'dba_name': 'CHAPPELL SCHOOL',\n",
       "  'aka_name': 'CHAPPELL SCHOOL',\n",
       "  'license_': '22681',\n",
       "  'facility_type': 'School',\n",
       "  'risk': 'Risk 1 (High)',\n",
       "  'address': '2135 W Foster AVE ',\n",
       "  'city': 'CHICAGO',\n",
       "  'state': 'IL',\n",
       "  'zip': '60625',\n",
       "  'inspection_date': '2021-04-12T00:00:00.000',\n",
       "  'inspection_type': 'Canvass Re-Inspection',\n",
       "  'results': 'Fail',\n",
       "  'violations': \"10. ADEQUATE HANDWASHING SINKS PROPERLY SUPPLIED AND ACCESSIBLE - Comments: 5-202.12(A)  OBSERVED NO HOT WATER PROVIDED AT THE HAND WASHING SINK IN THE 2ND FLOOR GIRLS' WASHROOM IN THE NEW BUILDING.  THE WATER TEMPERATURE AT THE HAND WASHING SINK WAS AT 58F.  MANAGEMENT INSTRUCTED TO PROVIDE HOT WATER ABOVE 100F AT ALL HAND WASHING SINKS.  PRIORITY 7-38-030(C). | 38. INSECTS, RODENTS, & ANIMALS NOT PRESENT - Comments: 6-501.111  OBSERVED EVIDENCE OF PEST ACTIVITY IN THE CLASSROOMS.  OBSERVED 10 MOUSE DROPPINGS IN THE BOTTOM SHELF OF THE WOODEN ART CABINET IN ROOM 107. MANAGEMENT INSTRUCTED TO CLEAN AND REMOVE ALL RODENT DROPPINGS FROM ALL AFFECTED AREAS. ADDITIONAL PEST CONTROL SERVICE IS NEEDED TO ELIMINATE THE PEST ACTIVITY FROM THE BUILDING. PRIORITY FOUNDATION 7-38-020(A).\",\n",
       "  'latitude': '41.97586700298142',\n",
       "  'longitude': '-87.68325437820378',\n",
       "  'location': {'latitude': '-87.68325437820378',\n",
       "   'longitude': '41.97586700298142'}},\n",
       " {'inspection_id': '2498133',\n",
       "  'dba_name': 'HONEYBAKED HAM AND CAFE',\n",
       "  'aka_name': 'HONEYBAKED HAM AND CAFE',\n",
       "  'license_': '2060329',\n",
       "  'facility_type': 'Restaurant',\n",
       "  'risk': 'Risk 1 (High)',\n",
       "  'address': '2815 N ASHLAND AVE ',\n",
       "  'city': 'CHICAGO',\n",
       "  'state': 'IL',\n",
       "  'zip': '60657',\n",
       "  'inspection_date': '2021-04-12T00:00:00.000',\n",
       "  'inspection_type': 'Canvass',\n",
       "  'results': 'Pass',\n",
       "  'violations': '41. WIPING CLOTHS: PROPERLY USED & STORED - Comments: SOILED WIPING CLOTHS MUST BE HELD IN THE CONTAINER OF THE SANITIZING SOLUTION BETWEEN USE. | 55. PHYSICAL FACILITIES INSTALLED, MAINTAINED & CLEAN - Comments: MISSING VENTILATION COVER ABOVE THE UTILITY SERVICE SINK. MUST REPLACE.',\n",
       "  'latitude': '41.93289126306049',\n",
       "  'longitude': '-87.66826723143315',\n",
       "  'location': {'latitude': '-87.66826723143315',\n",
       "   'longitude': '41.93289126306049'}},\n",
       " {'inspection_id': '2498113',\n",
       "  'dba_name': 'HOT DOG EXPRESS',\n",
       "  'aka_name': 'HOT DOG EXPRESS (T2  E5)',\n",
       "  'license_': '1909525',\n",
       "  'facility_type': 'Restaurant',\n",
       "  'risk': 'Risk 2 (Medium)',\n",
       "  'address': '11601 W TOUHY AVE ',\n",
       "  'city': 'CHICAGO',\n",
       "  'state': 'IL',\n",
       "  'zip': '60666',\n",
       "  'inspection_date': '2021-04-12T00:00:00.000',\n",
       "  'inspection_type': 'Canvass',\n",
       "  'results': 'Pass',\n",
       "  'violations': '55. PHYSICAL FACILITIES INSTALLED, MAINTAINED & CLEAN - Comments: INSTRUCTED TO CLEAN AND REORGANIZE CABINET UNDER PREP TABLE (NEXT TO HAND SINK) IN PREP AREA TO PREVENT PEST HARBORAGE.',\n",
       "  'latitude': '42.008536400868735',\n",
       "  'longitude': '-87.91442843927047',\n",
       "  'location': {'latitude': '-87.91442843927047',\n",
       "   'longitude': '42.008536400868735'}},\n",
       " {'inspection_id': '2498083',\n",
       "  'dba_name': 'SUBWAY SANDWICH',\n",
       "  'aka_name': 'SUBWAY SANDWICH',\n",
       "  'license_': '55059',\n",
       "  'facility_type': 'Restaurant',\n",
       "  'risk': 'Risk 1 (High)',\n",
       "  'address': '1958 W PETERSON AVE ',\n",
       "  'city': 'CHICAGO',\n",
       "  'state': 'IL',\n",
       "  'zip': '60660',\n",
       "  'inspection_date': '2021-04-12T00:00:00.000',\n",
       "  'inspection_type': 'Canvass',\n",
       "  'results': 'Pass',\n",
       "  'violations': '49. NON-FOOD/FOOD CONTACT SURFACES CLEAN - Comments: FOUND TABLES AT CUSTOMER AREAS NOT CLEAN(STICKY). MUST CLEAN. | 55. PHYSICAL FACILITIES INSTALLED, MAINTAINED & CLEAN - Comments: FOUND CLUTTER STORED ON TOP OF WALK IN COOLERS(USED ICE TEA MACHINE, TOOLS,ETC.)MUST REMOVE.',\n",
       "  'latitude': '41.990792415942835',\n",
       "  'longitude': '-87.67936519400483',\n",
       "  'location': {'latitude': '-87.67936519400483',\n",
       "   'longitude': '41.990792415942835'}},\n",
       " {'inspection_id': '2498086',\n",
       "  'dba_name': 'ELSIETECATERING',\n",
       "  'aka_name': 'ELSIETECATERING',\n",
       "  'license_': '2663526',\n",
       "  'facility_type': 'Catering',\n",
       "  'risk': 'Risk 1 (High)',\n",
       "  'address': '3817 S KEDZIE AVE ',\n",
       "  'city': 'CHICAGO',\n",
       "  'state': 'IL',\n",
       "  'zip': '60632',\n",
       "  'inspection_date': '2021-04-12T00:00:00.000',\n",
       "  'inspection_type': 'Canvass',\n",
       "  'results': 'Pass',\n",
       "  'violations': '47. FOOD & NON-FOOD CONTACT SURFACES CLEANABLE, PROPERLY DESIGNED, CONSTRUCTED & USED - Comments: RAW WOOD STORAGE SHELVES ON SITE. INSTD TO SEAL/PAINT SAME SO AS BE A NON POROUS, EASILY CLEANABLE SURFACE | 53. TOILET FACILITIES: PROPERLY CONSTRUCTED, SUPPLIED, & CLEANED - Comments: MISSING COVER FOR RECEPTACLES IN TOILET. INSTD TO PROVIDE COVERS AND MAINTAIN',\n",
       "  'latitude': '41.82381861968802',\n",
       "  'longitude': '-87.70428542093514',\n",
       "  'location': {'latitude': '-87.70428542093514',\n",
       "   'longitude': '41.82381861968802'}},\n",
       " {'inspection_id': '2498072',\n",
       "  'dba_name': \"FOX'S BEVERLY PUB\",\n",
       "  'aka_name': \"FOX'S BEVERLY PUB\",\n",
       "  'license_': '149',\n",
       "  'facility_type': 'Restaurant',\n",
       "  'risk': 'Risk 1 (High)',\n",
       "  'address': '9956 S WESTERN AVE ',\n",
       "  'city': 'CHICAGO',\n",
       "  'state': 'IL',\n",
       "  'zip': '60643',\n",
       "  'inspection_date': '2021-04-12T00:00:00.000',\n",
       "  'inspection_type': 'Canvass',\n",
       "  'results': 'Pass w/ Conditions',\n",
       "  'violations': '5. PROCEDURES FOR RESPONDING TO VOMITING AND DIARRHEAL EVENTS - Comments: OBSERVED NO SUPPLIES FOR RESPONDING TO VOMITING AND DIARRHEAL EVENTS. INSTRUCTED MANAGER TO PROVIDE. PRIORITY FOUNDATION 7-38-005 | 22. PROPER COLD HOLDING TEMPERATURES - Comments: OBSERVED RAW SAUSAGE 51.4F AND COOKED CHICKEN 48.5F STORED AT IMPROPER TEMPERATURE IN PIZZA PREP COOLER. INSTRUCTED MANAGER TO DISCARD APPROXIMATELY 10LBS AND $20 OF PRODUCT. ALL COLD TCS FOOD MUST MAINTAIN 41F OR BELOW. PRIORITY 7-38-005 CITATION ISSUED | 25. CONSUMER ADVISORY PROVIDED FOR RAW/UNDERCOOKED FOOD - Comments: OBSERVED NO DISCLOSURE/REMINDER FOR CONSUMER ADVISORY ON MENU. INSTRUCTED MANAGER TO PROVIDE DISCLOSURE ON MENU. PRIORITY FOUNDATION 7-38-005 | 33. PROPER COOLING METHODS USED; ADEQUATE EQUIPMENT FOR TEMPERATURE CONTROL - Comments: OBSERVED PIZZA PREP COOLER NOT MAINTAINING PROPER TEMPERATURE 49.2F. INSTRUCTED MANAGER TO REPAIR AND MAINTAIN COOLER AT 41F OR BELOW. PREP COOLER IS TAGGED HELD FOR INSPECTION AND MUST NOT BE USED UNTIL REINSPECTED BY CHICAGO DEPARTMENT OF HEALTH. PRIORITY 7-38-005 CITATION ISSUED. | 39. CONTAMINATION PREVENTED DURING FOOD PREPARATION, STORAGE & DISPLAY - Comments: OBSERVED FOOD ITEMS STORED ON FLOOR IN WALK-IN COOLER. INSTRUCTED MANAGER TO ELEVATE ALL STOCK SIX INCHES OFF FLOOR. | 43. IN-USE UTENSILS: PROPERLY STORED - Comments: OBSERVED ICE SCOOP LAYING ON TOP OF ICE IN BAR. INSTRUCTED MANAGER TO STORE ICE SCOOP HANDLE UP ABOVE ICE TO PREVENT CONTAMINATION. | 47. FOOD & NON-FOOD CONTACT SURFACES CLEANABLE, PROPERLY DESIGNED, CONSTRUCTED & USED - Comments: OBSERVED PEELING PAINT ON SHELVING UNITS IN DRY STORAGE AREA. INSTRUCTED MANAGER TO PAINT/SEAL SHELVING AND MAINTAIN. | 47. FOOD & NON-FOOD CONTACT SURFACES CLEANABLE, PROPERLY DESIGNED, CONSTRUCTED & USED - Comments: OBSERVED MILK CRATES USED AS SHELVING UNITS IN BASEMENT STORAGE AND WALK-IN COOLER. INSTRUCTED MANAGER TO PROVIDE ADEQUATE SHELVING FOR STORAGE. | 47. FOOD & NON-FOOD CONTACT SURFACES CLEANABLE, PROPERLY DESIGNED, CONSTRUCTED & USED - Comments: OBSERVED ICE BUILDUP ON COMPRESSOR UNIT INSIDE PIZZA PREP COOLER. INSTRUCTED MANAGER TO REPAIR AND MAINTAIN. | 48. WAREWASHING FACILITIES: INSTALLED, MAINTAINED & USED; TEST STRIPS - Comments: OBSERVED NO TEST STRIPS FOR HIGH TEMPERATURE DISHMACHINE. INSTRUCTED MANAGER TO PROVIDE TO TEST UTENSIL SURFACE TEMPERATURE IN HOT WATER MECHANICAL OPERATIONS. PRIORITY FOUNDATION 7-38-005 | 49. NON-FOOD/FOOD CONTACT SURFACES CLEAN - Comments: OBSERVED RESIDUE ON INTERIOR SURFACES OF ICE MACHINE IN BASEMENT, DUST BUILDUP ON INTERIOR SURFACES OF PIZZA OVEN AND EXTERIOR SURFACES OF BULK CONTAINERS AND COOLERS IN PIZZA PREP AREA. INSTRUCTED MANAGER TO CLEAN AND MAINTAIN. | 51. PLUMBING INSTALLED; PROPER BACKFLOW DEVICES - Comments: OBSERVED LEAKING HOT WATER HANDLE ON HAND WASHING SINK IN PIZZA PREP AREA. | 55. PHYSICAL FACILITIES INSTALLED, MAINTAINED & CLEAN - Comments: OBSERVED PEELING PAINT ON WALL BEHIND 3-COMPARTMENT SINK IN BASEMENT PREP AREA. INSTRUCTED MANAGER TO REPAIR AND MAINTAIN. | 56. ADEQUATE VENTILATION & LIGHTING; DESIGNATED AREAS USED - Comments: OBSERVED DAMAGED LIGHT SHIELD IN BASEMENT PREP AREA. INSTRUCTED MANAGER TO REPLACE. | 56. ADEQUATE VENTILATION & LIGHTING; DESIGNATED AREAS USED - Comments: OBSERVED VENTILATION FAN NOT OPERABLE IN MEN WASHROOM. INSTRUCTED MANAGER TO REPAIR AND MAINTAIN.',\n",
       "  'latitude': '41.71201213322909',\n",
       "  'longitude': '-87.68193540843004',\n",
       "  'location': {'latitude': '-87.68193540843004',\n",
       "   'longitude': '41.71201213322909'}}]"
      ]
     },
     "execution_count": 80,
     "metadata": {},
     "output_type": "execute_result"
    }
   ],
   "source": [
    "x"
   ]
  },
  {
   "cell_type": "code",
   "execution_count": 81,
   "metadata": {
    "ExecuteTime": {
     "end_time": "2021-04-19T16:55:24.421987Z",
     "start_time": "2021-04-19T16:55:24.388137Z"
    },
    "hidden": true
   },
   "outputs": [
    {
     "data": {
      "text/plain": [
       "10"
      ]
     },
     "execution_count": 81,
     "metadata": {},
     "output_type": "execute_result"
    }
   ],
   "source": [
    "len(x)"
   ]
  },
  {
   "cell_type": "code",
   "execution_count": 82,
   "metadata": {
    "ExecuteTime": {
     "end_time": "2021-04-28T00:15:50.533369Z",
     "start_time": "2021-04-28T00:15:50.446050Z"
    },
    "scrolled": true
   },
   "outputs": [
    {
     "data": {
      "text/html": [
       "<div>\n",
       "<style scoped>\n",
       "    .dataframe tbody tr th:only-of-type {\n",
       "        vertical-align: middle;\n",
       "    }\n",
       "\n",
       "    .dataframe tbody tr th {\n",
       "        vertical-align: top;\n",
       "    }\n",
       "\n",
       "    .dataframe thead th {\n",
       "        text-align: right;\n",
       "    }\n",
       "</style>\n",
       "<table border=\"1\" class=\"dataframe\">\n",
       "  <thead>\n",
       "    <tr style=\"text-align: right;\">\n",
       "      <th></th>\n",
       "      <th>inspection_id</th>\n",
       "      <th>dba_name</th>\n",
       "      <th>aka_name</th>\n",
       "      <th>license_</th>\n",
       "      <th>facility_type</th>\n",
       "      <th>risk</th>\n",
       "      <th>address</th>\n",
       "      <th>city</th>\n",
       "      <th>state</th>\n",
       "      <th>zip</th>\n",
       "      <th>inspection_date</th>\n",
       "      <th>inspection_type</th>\n",
       "      <th>results</th>\n",
       "      <th>latitude</th>\n",
       "      <th>longitude</th>\n",
       "      <th>location</th>\n",
       "      <th>violations</th>\n",
       "    </tr>\n",
       "  </thead>\n",
       "  <tbody>\n",
       "    <tr>\n",
       "      <th>0</th>\n",
       "      <td>2498101</td>\n",
       "      <td>LEXINGTON BETTY SMOKEHOUSE</td>\n",
       "      <td>LEXINGTON BETTY SMOKEHOUSE</td>\n",
       "      <td>2717939</td>\n",
       "      <td>Restaurant</td>\n",
       "      <td>Risk 1 (High)</td>\n",
       "      <td>756 E 111TH ST</td>\n",
       "      <td>CHICAGO</td>\n",
       "      <td>IL</td>\n",
       "      <td>60628</td>\n",
       "      <td>2021-04-12T00:00:00.000</td>\n",
       "      <td>Non-Inspection</td>\n",
       "      <td>No Entry</td>\n",
       "      <td>41.69297593328423</td>\n",
       "      <td>-87.60266451724692</td>\n",
       "      <td>{'latitude': '-87.60266451724692', 'longitude'...</td>\n",
       "      <td>NaN</td>\n",
       "    </tr>\n",
       "    <tr>\n",
       "      <th>1</th>\n",
       "      <td>2498054</td>\n",
       "      <td>KINGS  GYROS #2</td>\n",
       "      <td>KINGS  GYROS #2</td>\n",
       "      <td>1985223</td>\n",
       "      <td>Restaurant</td>\n",
       "      <td>Risk 1 (High)</td>\n",
       "      <td>5233 N MILWAUKEE AVE</td>\n",
       "      <td>CHICAGO</td>\n",
       "      <td>IL</td>\n",
       "      <td>60630</td>\n",
       "      <td>2021-04-12T00:00:00.000</td>\n",
       "      <td>Canvass</td>\n",
       "      <td>Out of Business</td>\n",
       "      <td>41.97547236947101</td>\n",
       "      <td>-87.76738848299047</td>\n",
       "      <td>{'latitude': '-87.76738848299047', 'longitude'...</td>\n",
       "      <td>NaN</td>\n",
       "    </tr>\n",
       "    <tr>\n",
       "      <th>2</th>\n",
       "      <td>2498080</td>\n",
       "      <td>RUBYS SOULFOOD EXPRESS</td>\n",
       "      <td>RUBYS SOULFOOD EXPRESS</td>\n",
       "      <td>2723468</td>\n",
       "      <td>Restaurant</td>\n",
       "      <td>Risk 1 (High)</td>\n",
       "      <td>11028 S HALSTED ST</td>\n",
       "      <td>CHICAGO</td>\n",
       "      <td>IL</td>\n",
       "      <td>60628</td>\n",
       "      <td>2021-04-12T00:00:00.000</td>\n",
       "      <td>Canvass</td>\n",
       "      <td>Fail</td>\n",
       "      <td>41.6932926013791</td>\n",
       "      <td>-87.64255435412615</td>\n",
       "      <td>{'latitude': '-87.64255435412615', 'longitude'...</td>\n",
       "      <td>1. PERSON IN CHARGE PRESENT, DEMONSTRATES KNOW...</td>\n",
       "    </tr>\n",
       "    <tr>\n",
       "      <th>3</th>\n",
       "      <td>2498091</td>\n",
       "      <td>Colemon, Johnnie</td>\n",
       "      <td>Colemon, Johnnie</td>\n",
       "      <td>26751</td>\n",
       "      <td>School</td>\n",
       "      <td>Risk 1 (High)</td>\n",
       "      <td>1441 W 119th St  (11900S)</td>\n",
       "      <td>CHICAGO</td>\n",
       "      <td>IL</td>\n",
       "      <td>60643</td>\n",
       "      <td>2021-04-12T00:00:00.000</td>\n",
       "      <td>Canvass</td>\n",
       "      <td>Pass</td>\n",
       "      <td>41.6774778561333</td>\n",
       "      <td>-87.6581201090055</td>\n",
       "      <td>{'latitude': '-87.6581201090055', 'longitude':...</td>\n",
       "      <td>53. TOILET FACILITIES: PROPERLY CONSTRUCTED, S...</td>\n",
       "    </tr>\n",
       "    <tr>\n",
       "      <th>4</th>\n",
       "      <td>2498093</td>\n",
       "      <td>CHAPPELL SCHOOL</td>\n",
       "      <td>CHAPPELL SCHOOL</td>\n",
       "      <td>22681</td>\n",
       "      <td>School</td>\n",
       "      <td>Risk 1 (High)</td>\n",
       "      <td>2135 W Foster AVE</td>\n",
       "      <td>CHICAGO</td>\n",
       "      <td>IL</td>\n",
       "      <td>60625</td>\n",
       "      <td>2021-04-12T00:00:00.000</td>\n",
       "      <td>Canvass Re-Inspection</td>\n",
       "      <td>Fail</td>\n",
       "      <td>41.97586700298142</td>\n",
       "      <td>-87.68325437820378</td>\n",
       "      <td>{'latitude': '-87.68325437820378', 'longitude'...</td>\n",
       "      <td>10. ADEQUATE HANDWASHING SINKS PROPERLY SUPPLI...</td>\n",
       "    </tr>\n",
       "    <tr>\n",
       "      <th>5</th>\n",
       "      <td>2498133</td>\n",
       "      <td>HONEYBAKED HAM AND CAFE</td>\n",
       "      <td>HONEYBAKED HAM AND CAFE</td>\n",
       "      <td>2060329</td>\n",
       "      <td>Restaurant</td>\n",
       "      <td>Risk 1 (High)</td>\n",
       "      <td>2815 N ASHLAND AVE</td>\n",
       "      <td>CHICAGO</td>\n",
       "      <td>IL</td>\n",
       "      <td>60657</td>\n",
       "      <td>2021-04-12T00:00:00.000</td>\n",
       "      <td>Canvass</td>\n",
       "      <td>Pass</td>\n",
       "      <td>41.93289126306049</td>\n",
       "      <td>-87.66826723143315</td>\n",
       "      <td>{'latitude': '-87.66826723143315', 'longitude'...</td>\n",
       "      <td>41. WIPING CLOTHS: PROPERLY USED &amp; STORED - Co...</td>\n",
       "    </tr>\n",
       "    <tr>\n",
       "      <th>6</th>\n",
       "      <td>2498113</td>\n",
       "      <td>HOT DOG EXPRESS</td>\n",
       "      <td>HOT DOG EXPRESS (T2  E5)</td>\n",
       "      <td>1909525</td>\n",
       "      <td>Restaurant</td>\n",
       "      <td>Risk 2 (Medium)</td>\n",
       "      <td>11601 W TOUHY AVE</td>\n",
       "      <td>CHICAGO</td>\n",
       "      <td>IL</td>\n",
       "      <td>60666</td>\n",
       "      <td>2021-04-12T00:00:00.000</td>\n",
       "      <td>Canvass</td>\n",
       "      <td>Pass</td>\n",
       "      <td>42.008536400868735</td>\n",
       "      <td>-87.91442843927047</td>\n",
       "      <td>{'latitude': '-87.91442843927047', 'longitude'...</td>\n",
       "      <td>55. PHYSICAL FACILITIES INSTALLED, MAINTAINED ...</td>\n",
       "    </tr>\n",
       "    <tr>\n",
       "      <th>7</th>\n",
       "      <td>2498083</td>\n",
       "      <td>SUBWAY SANDWICH</td>\n",
       "      <td>SUBWAY SANDWICH</td>\n",
       "      <td>55059</td>\n",
       "      <td>Restaurant</td>\n",
       "      <td>Risk 1 (High)</td>\n",
       "      <td>1958 W PETERSON AVE</td>\n",
       "      <td>CHICAGO</td>\n",
       "      <td>IL</td>\n",
       "      <td>60660</td>\n",
       "      <td>2021-04-12T00:00:00.000</td>\n",
       "      <td>Canvass</td>\n",
       "      <td>Pass</td>\n",
       "      <td>41.990792415942835</td>\n",
       "      <td>-87.67936519400483</td>\n",
       "      <td>{'latitude': '-87.67936519400483', 'longitude'...</td>\n",
       "      <td>49. NON-FOOD/FOOD CONTACT SURFACES CLEAN - Com...</td>\n",
       "    </tr>\n",
       "    <tr>\n",
       "      <th>8</th>\n",
       "      <td>2498086</td>\n",
       "      <td>ELSIETECATERING</td>\n",
       "      <td>ELSIETECATERING</td>\n",
       "      <td>2663526</td>\n",
       "      <td>Catering</td>\n",
       "      <td>Risk 1 (High)</td>\n",
       "      <td>3817 S KEDZIE AVE</td>\n",
       "      <td>CHICAGO</td>\n",
       "      <td>IL</td>\n",
       "      <td>60632</td>\n",
       "      <td>2021-04-12T00:00:00.000</td>\n",
       "      <td>Canvass</td>\n",
       "      <td>Pass</td>\n",
       "      <td>41.82381861968802</td>\n",
       "      <td>-87.70428542093514</td>\n",
       "      <td>{'latitude': '-87.70428542093514', 'longitude'...</td>\n",
       "      <td>47. FOOD &amp; NON-FOOD CONTACT SURFACES CLEANABLE...</td>\n",
       "    </tr>\n",
       "    <tr>\n",
       "      <th>9</th>\n",
       "      <td>2498072</td>\n",
       "      <td>FOX'S BEVERLY PUB</td>\n",
       "      <td>FOX'S BEVERLY PUB</td>\n",
       "      <td>149</td>\n",
       "      <td>Restaurant</td>\n",
       "      <td>Risk 1 (High)</td>\n",
       "      <td>9956 S WESTERN AVE</td>\n",
       "      <td>CHICAGO</td>\n",
       "      <td>IL</td>\n",
       "      <td>60643</td>\n",
       "      <td>2021-04-12T00:00:00.000</td>\n",
       "      <td>Canvass</td>\n",
       "      <td>Pass w/ Conditions</td>\n",
       "      <td>41.71201213322909</td>\n",
       "      <td>-87.68193540843004</td>\n",
       "      <td>{'latitude': '-87.68193540843004', 'longitude'...</td>\n",
       "      <td>5. PROCEDURES FOR RESPONDING TO VOMITING AND D...</td>\n",
       "    </tr>\n",
       "  </tbody>\n",
       "</table>\n",
       "</div>"
      ],
      "text/plain": [
       "  inspection_id                    dba_name                    aka_name  \\\n",
       "0       2498101  LEXINGTON BETTY SMOKEHOUSE  LEXINGTON BETTY SMOKEHOUSE   \n",
       "1       2498054             KINGS  GYROS #2             KINGS  GYROS #2   \n",
       "2       2498080      RUBYS SOULFOOD EXPRESS      RUBYS SOULFOOD EXPRESS   \n",
       "3       2498091            Colemon, Johnnie            Colemon, Johnnie   \n",
       "4       2498093             CHAPPELL SCHOOL             CHAPPELL SCHOOL   \n",
       "5       2498133     HONEYBAKED HAM AND CAFE     HONEYBAKED HAM AND CAFE   \n",
       "6       2498113             HOT DOG EXPRESS    HOT DOG EXPRESS (T2  E5)   \n",
       "7       2498083             SUBWAY SANDWICH             SUBWAY SANDWICH   \n",
       "8       2498086             ELSIETECATERING             ELSIETECATERING   \n",
       "9       2498072           FOX'S BEVERLY PUB           FOX'S BEVERLY PUB   \n",
       "\n",
       "  license_ facility_type             risk                     address  \\\n",
       "0  2717939    Restaurant    Risk 1 (High)             756 E 111TH ST    \n",
       "1  1985223    Restaurant    Risk 1 (High)       5233 N MILWAUKEE AVE    \n",
       "2  2723468    Restaurant    Risk 1 (High)         11028 S HALSTED ST    \n",
       "3    26751        School    Risk 1 (High)  1441 W 119th St  (11900S)    \n",
       "4    22681        School    Risk 1 (High)          2135 W Foster AVE    \n",
       "5  2060329    Restaurant    Risk 1 (High)         2815 N ASHLAND AVE    \n",
       "6  1909525    Restaurant  Risk 2 (Medium)          11601 W TOUHY AVE    \n",
       "7    55059    Restaurant    Risk 1 (High)        1958 W PETERSON AVE    \n",
       "8  2663526      Catering    Risk 1 (High)          3817 S KEDZIE AVE    \n",
       "9      149    Restaurant    Risk 1 (High)         9956 S WESTERN AVE    \n",
       "\n",
       "      city state    zip          inspection_date        inspection_type  \\\n",
       "0  CHICAGO    IL  60628  2021-04-12T00:00:00.000         Non-Inspection   \n",
       "1  CHICAGO    IL  60630  2021-04-12T00:00:00.000                Canvass   \n",
       "2  CHICAGO    IL  60628  2021-04-12T00:00:00.000                Canvass   \n",
       "3  CHICAGO    IL  60643  2021-04-12T00:00:00.000                Canvass   \n",
       "4  CHICAGO    IL  60625  2021-04-12T00:00:00.000  Canvass Re-Inspection   \n",
       "5  CHICAGO    IL  60657  2021-04-12T00:00:00.000                Canvass   \n",
       "6  CHICAGO    IL  60666  2021-04-12T00:00:00.000                Canvass   \n",
       "7  CHICAGO    IL  60660  2021-04-12T00:00:00.000                Canvass   \n",
       "8  CHICAGO    IL  60632  2021-04-12T00:00:00.000                Canvass   \n",
       "9  CHICAGO    IL  60643  2021-04-12T00:00:00.000                Canvass   \n",
       "\n",
       "              results            latitude           longitude  \\\n",
       "0            No Entry   41.69297593328423  -87.60266451724692   \n",
       "1     Out of Business   41.97547236947101  -87.76738848299047   \n",
       "2                Fail    41.6932926013791  -87.64255435412615   \n",
       "3                Pass    41.6774778561333   -87.6581201090055   \n",
       "4                Fail   41.97586700298142  -87.68325437820378   \n",
       "5                Pass   41.93289126306049  -87.66826723143315   \n",
       "6                Pass  42.008536400868735  -87.91442843927047   \n",
       "7                Pass  41.990792415942835  -87.67936519400483   \n",
       "8                Pass   41.82381861968802  -87.70428542093514   \n",
       "9  Pass w/ Conditions   41.71201213322909  -87.68193540843004   \n",
       "\n",
       "                                            location  \\\n",
       "0  {'latitude': '-87.60266451724692', 'longitude'...   \n",
       "1  {'latitude': '-87.76738848299047', 'longitude'...   \n",
       "2  {'latitude': '-87.64255435412615', 'longitude'...   \n",
       "3  {'latitude': '-87.6581201090055', 'longitude':...   \n",
       "4  {'latitude': '-87.68325437820378', 'longitude'...   \n",
       "5  {'latitude': '-87.66826723143315', 'longitude'...   \n",
       "6  {'latitude': '-87.91442843927047', 'longitude'...   \n",
       "7  {'latitude': '-87.67936519400483', 'longitude'...   \n",
       "8  {'latitude': '-87.70428542093514', 'longitude'...   \n",
       "9  {'latitude': '-87.68193540843004', 'longitude'...   \n",
       "\n",
       "                                          violations  \n",
       "0                                                NaN  \n",
       "1                                                NaN  \n",
       "2  1. PERSON IN CHARGE PRESENT, DEMONSTRATES KNOW...  \n",
       "3  53. TOILET FACILITIES: PROPERLY CONSTRUCTED, S...  \n",
       "4  10. ADEQUATE HANDWASHING SINKS PROPERLY SUPPLI...  \n",
       "5  41. WIPING CLOTHS: PROPERLY USED & STORED - Co...  \n",
       "6  55. PHYSICAL FACILITIES INSTALLED, MAINTAINED ...  \n",
       "7  49. NON-FOOD/FOOD CONTACT SURFACES CLEAN - Com...  \n",
       "8  47. FOOD & NON-FOOD CONTACT SURFACES CLEANABLE...  \n",
       "9  5. PROCEDURES FOR RESPONDING TO VOMITING AND D...  "
      ]
     },
     "execution_count": 82,
     "metadata": {},
     "output_type": "execute_result"
    }
   ],
   "source": [
    "xx = pd.DataFrame(x)\n",
    "xx"
   ]
  },
  {
   "cell_type": "code",
   "execution_count": 24,
   "metadata": {
    "ExecuteTime": {
     "end_time": "2021-04-19T23:50:01.749771Z",
     "start_time": "2021-04-19T23:50:01.713265Z"
    }
   },
   "outputs": [
    {
     "data": {
      "text/plain": [
       "'(10, 17)'"
      ]
     },
     "execution_count": 24,
     "metadata": {},
     "output_type": "execute_result"
    }
   ],
   "source": [
    "str(xx.shape)"
   ]
  },
  {
   "cell_type": "markdown",
   "metadata": {},
   "source": [
    "##### Using \"dumps\""
   ]
  },
  {
   "cell_type": "code",
   "execution_count": null,
   "metadata": {
    "ExecuteTime": {
     "end_time": "2021-04-18T13:59:45.201573Z",
     "start_time": "2021-04-18T13:59:45.167429Z"
    }
   },
   "outputs": [],
   "source": [
    "xx = pickle.dumps(x)"
   ]
  },
  {
   "cell_type": "code",
   "execution_count": null,
   "metadata": {
    "ExecuteTime": {
     "end_time": "2021-04-18T13:59:47.215146Z",
     "start_time": "2021-04-18T13:59:47.182791Z"
    }
   },
   "outputs": [],
   "source": [
    "xx"
   ]
  },
  {
   "cell_type": "code",
   "execution_count": null,
   "metadata": {
    "ExecuteTime": {
     "end_time": "2021-04-18T13:59:43.014898Z",
     "start_time": "2021-04-18T13:59:42.977758Z"
    }
   },
   "outputs": [],
   "source": [
    "pickle.loads(xx)"
   ]
  },
  {
   "cell_type": "markdown",
   "metadata": {},
   "source": [
    "##### Using \"dump\""
   ]
  },
  {
   "cell_type": "code",
   "execution_count": null,
   "metadata": {
    "ExecuteTime": {
     "end_time": "2021-04-18T16:08:33.267087Z",
     "start_time": "2021-04-18T16:08:33.185950Z"
    }
   },
   "outputs": [],
   "source": [
    "pkl_store_loc = !pwd\n",
    "pkl_store_loc = pkl_store_loc[0] + \"/prueba_pickle.pkl\""
   ]
  },
  {
   "cell_type": "code",
   "execution_count": null,
   "metadata": {
    "ExecuteTime": {
     "end_time": "2021-04-18T16:08:40.538238Z",
     "start_time": "2021-04-18T16:08:40.503675Z"
    }
   },
   "outputs": [],
   "source": [
    "pkl_store_loc"
   ]
  },
  {
   "cell_type": "code",
   "execution_count": null,
   "metadata": {
    "ExecuteTime": {
     "end_time": "2021-04-18T12:51:41.090507Z",
     "start_time": "2021-04-18T12:51:41.051734Z"
    }
   },
   "outputs": [],
   "source": [
    "pickle.dump(x, open(pkl_store_loc, 'wb'))"
   ]
  },
  {
   "cell_type": "code",
   "execution_count": null,
   "metadata": {
    "ExecuteTime": {
     "end_time": "2021-04-18T16:08:51.997677Z",
     "start_time": "2021-04-18T16:08:51.958849Z"
    }
   },
   "outputs": [],
   "source": [
    "pickle.load(open(pkl_store_loc, \"rb\"))"
   ]
  },
  {
   "cell_type": "markdown",
   "metadata": {},
   "source": [
    "##### Storing data in S3"
   ]
  },
  {
   "cell_type": "code",
   "execution_count": null,
   "metadata": {
    "ExecuteTime": {
     "end_time": "2021-04-18T15:15:45.098251Z",
     "start_time": "2021-04-18T15:15:45.014079Z"
    }
   },
   "outputs": [],
   "source": [
    "pkl_store_loc = !pwd\n",
    "pkl_store_loc = pkl_store_loc[0] + \"/prueba_pickle.pkl\"\n",
    "pkl_store_loc"
   ]
  },
  {
   "cell_type": "code",
   "execution_count": null,
   "metadata": {
    "ExecuteTime": {
     "end_time": "2021-04-18T15:37:44.901831Z",
     "start_time": "2021-04-18T15:37:44.870736Z"
    }
   },
   "outputs": [],
   "source": [
    "## Storing file locally\n",
    "pickle.dump(x, open(pkl_store_loc, \"wb\"))"
   ]
  },
  {
   "cell_type": "code",
   "execution_count": null,
   "metadata": {
    "ExecuteTime": {
     "end_time": "2021-04-18T15:38:06.829271Z",
     "start_time": "2021-04-18T15:38:06.798723Z"
    }
   },
   "outputs": [],
   "source": [
    "## Loading file from local and saving as variable\n",
    "xx = pickle.dumps(pickle.load(open(pkl_store_loc, \"rb\")))"
   ]
  },
  {
   "cell_type": "code",
   "execution_count": null,
   "metadata": {
    "ExecuteTime": {
     "end_time": "2021-04-18T15:38:13.290006Z",
     "start_time": "2021-04-18T15:38:12.427452Z"
    }
   },
   "outputs": [],
   "source": [
    "## Saving pickle in s3\n",
    "s3.put_object(\n",
    "    Bucket=bucket_name,\n",
    "    Key=\"test_pickle.pkl\",\n",
    "    Body=xx\n",
    ")"
   ]
  },
  {
   "cell_type": "markdown",
   "metadata": {
    "heading_collapsed": true
   },
   "source": [
    "##### Downloading data from s3 and unpickling"
   ]
  },
  {
   "cell_type": "code",
   "execution_count": null,
   "metadata": {
    "ExecuteTime": {
     "end_time": "2021-04-18T15:38:28.524852Z",
     "start_time": "2021-04-18T15:38:27.999544Z"
    },
    "hidden": true,
    "scrolled": true
   },
   "outputs": [],
   "source": [
    "res_xx = s3.get_object(\n",
    "    Bucket=bucket_name,\n",
    "    Key=\"test_pickle.pkl\"\n",
    ")\n",
    "res_xx"
   ]
  },
  {
   "cell_type": "code",
   "execution_count": null,
   "metadata": {
    "ExecuteTime": {
     "end_time": "2021-04-18T15:38:31.752858Z",
     "start_time": "2021-04-18T15:38:31.721848Z"
    },
    "hidden": true
   },
   "outputs": [],
   "source": [
    "body = res_xx[\"Body\"].read()"
   ]
  },
  {
   "cell_type": "code",
   "execution_count": null,
   "metadata": {
    "ExecuteTime": {
     "end_time": "2021-04-18T15:38:34.859373Z",
     "start_time": "2021-04-18T15:38:34.820720Z"
    },
    "hidden": true
   },
   "outputs": [],
   "source": [
    "pickle.loads(body)"
   ]
  },
  {
   "cell_type": "markdown",
   "metadata": {
    "heading_collapsed": true
   },
   "source": [
    "#### Uploading info"
   ]
  },
  {
   "cell_type": "raw",
   "metadata": {
    "ExecuteTime": {
     "end_time": "2021-02-18T17:34:43.908085Z",
     "start_time": "2021-02-18T17:34:39.580493Z"
    },
    "hidden": true
   },
   "source": [
    "# guardar_ingesta(bucket_name, hist_ingest_path)\n",
    "guardar_ingesta(bucket_name, cont_ingest_path)"
   ]
  },
  {
   "cell_type": "markdown",
   "metadata": {
    "heading_collapsed": true
   },
   "source": [
    "#### Checking aws s3 contents"
   ]
  },
  {
   "cell_type": "code",
   "execution_count": 5,
   "metadata": {
    "ExecuteTime": {
     "end_time": "2021-04-25T19:12:50.363343Z",
     "start_time": "2021-04-25T19:12:49.915866Z"
    },
    "hidden": true,
    "init_cell": true
   },
   "outputs": [
    {
     "ename": "FileNotFoundError",
     "evalue": "Couldnt load the file",
     "output_type": "error",
     "traceback": [
      "\u001b[0;31m-----------\u001b[0m",
      "\u001b[0;31mFileNotFoundError\u001b[0mTraceback (most recent call last)",
      "\u001b[0;32m~/Documents/ReposRob_RobPer/ITAMmcd/semestre_2/Arquitectura_Prod_Dat/Venv_ArqPD/repos/dpa_2021/src/utils/utils.py\u001b[0m in \u001b[0;36mread_yaml_file\u001b[0;34m(yaml_file)\u001b[0m\n\u001b[1;32m    155\u001b[0m     \u001b[0;32mtry\u001b[0m\u001b[0;34m:\u001b[0m\u001b[0;34m\u001b[0m\u001b[0;34m\u001b[0m\u001b[0m\n\u001b[0;32m--> 156\u001b[0;31m         \u001b[0;32mwith\u001b[0m \u001b[0mopen\u001b[0m \u001b[0;34m(\u001b[0m\u001b[0myaml_file\u001b[0m\u001b[0;34m,\u001b[0m \u001b[0;34m'r'\u001b[0m\u001b[0;34m)\u001b[0m \u001b[0;32mas\u001b[0m \u001b[0mf\u001b[0m\u001b[0;34m:\u001b[0m\u001b[0;34m\u001b[0m\u001b[0;34m\u001b[0m\u001b[0m\n\u001b[0m\u001b[1;32m    157\u001b[0m             \u001b[0mconfig\u001b[0m \u001b[0;34m=\u001b[0m \u001b[0myaml\u001b[0m\u001b[0;34m.\u001b[0m\u001b[0msafe_load\u001b[0m\u001b[0;34m(\u001b[0m\u001b[0mf\u001b[0m\u001b[0;34m)\u001b[0m\u001b[0;34m\u001b[0m\u001b[0;34m\u001b[0m\u001b[0m\n",
      "\u001b[0;31mFileNotFoundError\u001b[0m: [Errno 2] No such file or directory: 'conf/local/credentials.yaml'",
      "\nDuring handling of the above exception, another exception occurred:\n",
      "\u001b[0;31mFileNotFoundError\u001b[0mTraceback (most recent call last)",
      "\u001b[0;32m<ipython-input-5-5dd7f3a14a67>\u001b[0m in \u001b[0;36m<module>\u001b[0;34m\u001b[0m\n\u001b[0;32m----> 1\u001b[0;31m \u001b[0ms3\u001b[0m \u001b[0;34m=\u001b[0m \u001b[0mget_s3_resource\u001b[0m\u001b[0;34m(\u001b[0m\u001b[0;34m)\u001b[0m\u001b[0;34m\u001b[0m\u001b[0;34m\u001b[0m\u001b[0m\n\u001b[0m",
      "\u001b[0;32m~/Documents/ReposRob_RobPer/ITAMmcd/semestre_2/Arquitectura_Prod_Dat/Venv_ArqPD/repos/dpa_2021/src/utils/utils.py\u001b[0m in \u001b[0;36mget_s3_resource\u001b[0;34m()\u001b[0m\n\u001b[1;32m    208\u001b[0m     \"\"\"\n\u001b[1;32m    209\u001b[0m \u001b[0;34m\u001b[0m\u001b[0m\n\u001b[0;32m--> 210\u001b[0;31m     \u001b[0ms3_creds\u001b[0m \u001b[0;34m=\u001b[0m \u001b[0mget_s3_credentials\u001b[0m\u001b[0;34m(\u001b[0m\u001b[0;34m\"conf/local/credentials.yaml\"\u001b[0m\u001b[0;34m)\u001b[0m\u001b[0;34m\u001b[0m\u001b[0;34m\u001b[0m\u001b[0m\n\u001b[0m\u001b[1;32m    211\u001b[0m \u001b[0;34m\u001b[0m\u001b[0m\n\u001b[1;32m    212\u001b[0m     session = boto3.Session(\n",
      "\u001b[0;32m~/Documents/ReposRob_RobPer/ITAMmcd/semestre_2/Arquitectura_Prod_Dat/Venv_ArqPD/repos/dpa_2021/src/utils/utils.py\u001b[0m in \u001b[0;36mget_s3_credentials\u001b[0;34m(credentials_file)\u001b[0m\n\u001b[1;32m    168\u001b[0m     \u001b[0mGet\u001b[0m \u001b[0ms3\u001b[0m \u001b[0mcredentials\u001b[0m\u001b[0;34m\u001b[0m\u001b[0;34m\u001b[0m\u001b[0m\n\u001b[1;32m    169\u001b[0m     \"\"\"\n\u001b[0;32m--> 170\u001b[0;31m     \u001b[0mcredentials\u001b[0m \u001b[0;34m=\u001b[0m \u001b[0mread_yaml_file\u001b[0m\u001b[0;34m(\u001b[0m\u001b[0mcredentials_file\u001b[0m\u001b[0;34m)\u001b[0m\u001b[0;34m\u001b[0m\u001b[0;34m\u001b[0m\u001b[0m\n\u001b[0m\u001b[1;32m    171\u001b[0m     \u001b[0ms3_creds\u001b[0m \u001b[0;34m=\u001b[0m \u001b[0mcredentials\u001b[0m\u001b[0;34m[\u001b[0m\u001b[0;34m's3'\u001b[0m\u001b[0;34m]\u001b[0m\u001b[0;34m\u001b[0m\u001b[0;34m\u001b[0m\u001b[0m\n\u001b[1;32m    172\u001b[0m \u001b[0;34m\u001b[0m\u001b[0m\n",
      "\u001b[0;32m~/Documents/ReposRob_RobPer/ITAMmcd/semestre_2/Arquitectura_Prod_Dat/Venv_ArqPD/repos/dpa_2021/src/utils/utils.py\u001b[0m in \u001b[0;36mread_yaml_file\u001b[0;34m(yaml_file)\u001b[0m\n\u001b[1;32m    157\u001b[0m             \u001b[0mconfig\u001b[0m \u001b[0;34m=\u001b[0m \u001b[0myaml\u001b[0m\u001b[0;34m.\u001b[0m\u001b[0msafe_load\u001b[0m\u001b[0;34m(\u001b[0m\u001b[0mf\u001b[0m\u001b[0;34m)\u001b[0m\u001b[0;34m\u001b[0m\u001b[0;34m\u001b[0m\u001b[0m\n\u001b[1;32m    158\u001b[0m     \u001b[0;32mexcept\u001b[0m\u001b[0;34m:\u001b[0m\u001b[0;34m\u001b[0m\u001b[0;34m\u001b[0m\u001b[0m\n\u001b[0;32m--> 159\u001b[0;31m         \u001b[0;32mraise\u001b[0m \u001b[0mFileNotFoundError\u001b[0m\u001b[0;34m(\u001b[0m\u001b[0;34m'Couldnt load the file'\u001b[0m\u001b[0;34m)\u001b[0m\u001b[0;34m\u001b[0m\u001b[0;34m\u001b[0m\u001b[0m\n\u001b[0m\u001b[1;32m    160\u001b[0m \u001b[0;34m\u001b[0m\u001b[0m\n\u001b[1;32m    161\u001b[0m     \u001b[0;32mreturn\u001b[0m \u001b[0mconfig\u001b[0m\u001b[0;34m\u001b[0m\u001b[0;34m\u001b[0m\u001b[0m\n",
      "\u001b[0;31mFileNotFoundError\u001b[0m: Couldnt load the file"
     ]
    }
   ],
   "source": [
    "s3 = get_s3_resource()"
   ]
  },
  {
   "cell_type": "code",
   "execution_count": null,
   "metadata": {
    "ExecuteTime": {
     "end_time": "2021-02-23T01:44:59.242276Z",
     "start_time": "2021-02-23T01:44:59.217982Z"
    },
    "hidden": true
   },
   "outputs": [],
   "source": [
    "cont_ingest_path"
   ]
  },
  {
   "cell_type": "code",
   "execution_count": null,
   "metadata": {
    "ExecuteTime": {
     "end_time": "2021-02-23T01:55:15.367770Z",
     "start_time": "2021-02-23T01:55:14.999648Z"
    },
    "hidden": true,
    "scrolled": true
   },
   "outputs": [],
   "source": [
    "objects = s3.list_objects_v2(Bucket=bucket_name, Prefix=cont_ingest_path)['Contents']\n",
    "objects"
   ]
  },
  {
   "cell_type": "code",
   "execution_count": null,
   "metadata": {
    "ExecuteTime": {
     "end_time": "2021-02-23T01:55:15.390063Z",
     "start_time": "2021-02-23T01:55:15.369571Z"
    },
    "hidden": true
   },
   "outputs": [],
   "source": [
    "objects.append(\n",
    " {'Key': 'ingestion/consecutive/consecutive-inspections-2021-02-22.pkl',\n",
    "  'LastModified': \"datetime.datetime(2021, 2, 22, 2, 53, 54, tzinfo=tzutc())\",\n",
    "  'ETag': '\"79cff7864a646f1dfd4d51b4e732a226\"',\n",
    "  'Size': 1152660,\n",
    "  'StorageClass': 'STANDARD'}\n",
    ")\n",
    "\n",
    "objects.append(\n",
    " {'Key': 'ingestion/consecutive/consecutive-inspections-2021-02-15.pkl',\n",
    "  'LastModified': \"datetime.datetime(2021, 2, 22, 2, 53, 54, tzinfo=tzutc())\",\n",
    "  'ETag': '\"79cff7864a646f1dfd4d51b4e732a226\"',\n",
    "  'Size': 1152660,\n",
    "  'StorageClass': 'STANDARD'}\n",
    ")\n",
    "\n",
    "objects.append(\n",
    " {'Key': 'ingestion/consecutive/consecutive-inspections-2021-02-10.pkl',\n",
    "  'LastModified': \"datetime.datetime(2021, 2, 22, 2, 53, 54, tzinfo=tzutc())\",\n",
    "  'ETag': '\"79cff7864a646f1dfd4d51b4e732a226\"',\n",
    "  'Size': 1152660,\n",
    "  'StorageClass': 'STANDARD'}\n",
    ")"
   ]
  },
  {
   "cell_type": "code",
   "execution_count": null,
   "metadata": {
    "ExecuteTime": {
     "end_time": "2021-02-23T02:09:47.057743Z",
     "start_time": "2021-02-23T02:09:47.033152Z"
    },
    "hidden": true
   },
   "outputs": [],
   "source": [
    "rex = str(cont_dat_prefix) + \"(.*).pkl\"\n",
    "\n",
    "lx = [datetime.strptime(re.search(rex, obj[\"Key\"]).group(1), '%Y-%m-%d') for obj in objects if cont_dat_prefix in obj[\"Key\"]]\n",
    "most_rec_date = datetime.strftime(max(lx), '%Y-%m-%d')\n",
    "most_rec_date"
   ]
  },
  {
   "cell_type": "code",
   "execution_count": null,
   "metadata": {
    "ExecuteTime": {
     "end_time": "2021-02-23T01:46:19.553156Z",
     "start_time": "2021-02-23T01:46:18.658626Z"
    },
    "hidden": true
   },
   "outputs": [],
   "source": [
    "s3x = pickle.loads(s3.get_object(Bucket=bucket_name, Key=(cont_ingest_path + \"consecutive-inspections-2021-02-21.pkl\"))['Body'].read())"
   ]
  },
  {
   "cell_type": "raw",
   "metadata": {
    "ExecuteTime": {
     "end_time": "2021-02-23T00:00:30.371652Z",
     "start_time": "2021-02-23T00:00:29.847983Z"
    },
    "hidden": true
   },
   "source": [
    "s3x"
   ]
  },
  {
   "cell_type": "code",
   "execution_count": null,
   "metadata": {
    "ExecuteTime": {
     "end_time": "2021-02-23T01:46:25.020555Z",
     "start_time": "2021-02-23T01:46:24.907838Z"
    },
    "hidden": true,
    "scrolled": true
   },
   "outputs": [],
   "source": [
    "dfx = pd.DataFrame(s3x)\n",
    "dfx"
   ]
  },
  {
   "cell_type": "code",
   "execution_count": null,
   "metadata": {
    "ExecuteTime": {
     "end_time": "2021-02-23T01:46:34.414740Z",
     "start_time": "2021-02-23T01:46:34.366147Z"
    },
    "hidden": true
   },
   "outputs": [],
   "source": [
    "dfx[\"inspection_date\"] = pd.to_datetime(dfx[\"inspection_date\"])"
   ]
  },
  {
   "cell_type": "code",
   "execution_count": null,
   "metadata": {
    "ExecuteTime": {
     "end_time": "2021-02-23T01:46:34.685530Z",
     "start_time": "2021-02-23T01:46:34.658404Z"
    },
    "hidden": true
   },
   "outputs": [],
   "source": [
    "print(\"max date: \", max(dfx[\"inspection_date\"]))\n",
    "print(\"min date: \", min(dfx[\"inspection_date\"]))"
   ]
  },
  {
   "cell_type": "code",
   "execution_count": null,
   "metadata": {
    "ExecuteTime": {
     "end_time": "2021-02-23T00:10:59.859142Z",
     "start_time": "2021-02-23T00:10:59.342740Z"
    },
    "hidden": true,
    "scrolled": true
   },
   "outputs": [],
   "source": [
    "dfx.groupby(pd.Grouper(key=\"inspection_date\")).count()[[\"inspection_id\"]]"
   ]
  },
  {
   "cell_type": "markdown",
   "metadata": {
    "hidden": true
   },
   "source": [
    "---"
   ]
  },
  {
   "cell_type": "markdown",
   "metadata": {
    "heading_collapsed": true
   },
   "source": [
    "## Creating local directories for temporal data"
   ]
  },
  {
   "cell_type": "code",
   "execution_count": null,
   "metadata": {
    "ExecuteTime": {
     "end_time": "2021-03-17T00:56:51.332125Z",
     "start_time": "2021-03-17T00:56:51.251984Z"
    },
    "hidden": true
   },
   "outputs": [],
   "source": [
    "base_path = \"../src/pipeline/luigi/ingestion_tmp/\""
   ]
  },
  {
   "cell_type": "markdown",
   "metadata": {
    "heading_collapsed": true,
    "hidden": true
   },
   "source": [
    "### Find most recent ingestion"
   ]
  },
  {
   "cell_type": "markdown",
   "metadata": {
    "heading_collapsed": true,
    "hidden": true
   },
   "source": [
    "#### Case 1: There is previous consecutive downloads"
   ]
  },
  {
   "cell_type": "code",
   "execution_count": null,
   "metadata": {
    "ExecuteTime": {
     "end_time": "2021-03-17T02:26:09.354291Z",
     "start_time": "2021-03-17T02:26:09.317452Z"
    },
    "hidden": true
   },
   "outputs": [],
   "source": [
    "lyrs = [ydir[-4:] for ydir in os.listdir(base_path + \"consecutive\") if \"YEAR=\" in ydir]\n",
    "lyrs"
   ]
  },
  {
   "cell_type": "code",
   "execution_count": null,
   "metadata": {
    "ExecuteTime": {
     "end_time": "2021-03-17T02:26:09.961062Z",
     "start_time": "2021-03-17T02:26:09.926635Z"
    },
    "hidden": true
   },
   "outputs": [],
   "source": [
    "mr_yr = max(lyrs)\n",
    "mr_yr"
   ]
  },
  {
   "cell_type": "code",
   "execution_count": null,
   "metadata": {
    "ExecuteTime": {
     "end_time": "2021-03-17T02:26:10.733106Z",
     "start_time": "2021-03-17T02:26:10.699043Z"
    },
    "hidden": true
   },
   "outputs": [],
   "source": [
    "lmths = [mdir[-2:] for mdir in os.listdir(base_path + \"consecutive\" + \"/\" + \"YEAR=\" + mr_yr) if \"MONTH=\" in mdir]\n",
    "lmths"
   ]
  },
  {
   "cell_type": "code",
   "execution_count": null,
   "metadata": {
    "ExecuteTime": {
     "end_time": "2021-03-17T01:14:25.389256Z",
     "start_time": "2021-03-17T01:14:25.356397Z"
    },
    "hidden": true
   },
   "outputs": [],
   "source": [
    "mr_mth = max(lmths)\n",
    "mr_mth"
   ]
  },
  {
   "cell_type": "code",
   "execution_count": null,
   "metadata": {
    "ExecuteTime": {
     "end_time": "2021-03-17T01:30:05.401109Z",
     "start_time": "2021-03-17T01:30:05.368159Z"
    },
    "hidden": true
   },
   "outputs": [],
   "source": [
    "lings = [ing for ing in os.listdir(base_path + \"consecutive\" + \"/\" + \"YEAR=\" + mr_yr + \"/\" + \"MONTH=\" + mr_mth)]\n",
    "lings"
   ]
  },
  {
   "cell_type": "raw",
   "metadata": {
    "ExecuteTime": {
     "end_time": "2021-03-17T01:30:05.401109Z",
     "start_time": "2021-03-17T01:30:05.368159Z"
    },
    "hidden": true
   },
   "source": [
    "lings = ['consecutive_inspections_2021-03-05.pkl',\n",
    " 'consecutive_inspections_2021-03-10.pkl',\n",
    " 'consecutive_inspections_2021-03-16.pkl',\n",
    " 'consecutive_inspections_2021-02-11.pkl',\n",
    " 'consecutive_inspections_2021-02-04.pkl',\n",
    " 'consecutive_inspections_2020-12-25.pkl'\n",
    "        ]\n",
    "lings"
   ]
  },
  {
   "cell_type": "code",
   "execution_count": null,
   "metadata": {
    "ExecuteTime": {
     "end_time": "2021-03-17T01:30:09.268405Z",
     "start_time": "2021-03-17T01:30:09.236752Z"
    },
    "hidden": true
   },
   "outputs": [],
   "source": [
    "regex = \"consecutive_inspections_\" + \"(.*).pkl\""
   ]
  },
  {
   "cell_type": "code",
   "execution_count": null,
   "metadata": {
    "ExecuteTime": {
     "end_time": "2021-03-17T01:30:13.588024Z",
     "start_time": "2021-03-17T01:30:13.553942Z"
    },
    "hidden": true
   },
   "outputs": [],
   "source": [
    "min([re.search(regex, ing).group(1) for ing in lings])"
   ]
  },
  {
   "cell_type": "code",
   "execution_count": null,
   "metadata": {
    "ExecuteTime": {
     "end_time": "2021-03-17T17:11:23.863934Z",
     "start_time": "2021-03-17T17:11:23.746569Z"
    },
    "hidden": true
   },
   "outputs": [],
   "source": [
    "lx = ['.DS_Store', 'consecutive_inspections_2021-03-05.pkl', 'consecutive_inspections_2021-03-10.pkl']\n",
    "lx"
   ]
  },
  {
   "cell_type": "code",
   "execution_count": null,
   "metadata": {
    "ExecuteTime": {
     "end_time": "2021-03-17T17:11:35.081836Z",
     "start_time": "2021-03-17T17:11:35.047204Z"
    },
    "hidden": true
   },
   "outputs": [],
   "source": [
    "cont_dat_prefix = \"consecutive_inspections_\""
   ]
  },
  {
   "cell_type": "code",
   "execution_count": null,
   "metadata": {
    "ExecuteTime": {
     "end_time": "2021-03-17T17:11:43.184093Z",
     "start_time": "2021-03-17T17:11:43.149782Z"
    },
    "hidden": true
   },
   "outputs": [],
   "source": [
    "regex = cont_dat_prefix + \"(.*).pkl\""
   ]
  },
  {
   "cell_type": "code",
   "execution_count": null,
   "metadata": {
    "ExecuteTime": {
     "end_time": "2021-03-17T17:12:44.455594Z",
     "start_time": "2021-03-17T17:12:44.420865Z"
    },
    "hidden": true
   },
   "outputs": [],
   "source": [
    "lx"
   ]
  },
  {
   "cell_type": "code",
   "execution_count": null,
   "metadata": {
    "ExecuteTime": {
     "end_time": "2021-03-17T17:12:46.804479Z",
     "start_time": "2021-03-17T17:12:46.769480Z"
    },
    "hidden": true
   },
   "outputs": [],
   "source": [
    "lings"
   ]
  },
  {
   "cell_type": "code",
   "execution_count": null,
   "metadata": {
    "ExecuteTime": {
     "end_time": "2021-03-17T17:13:28.580587Z",
     "start_time": "2021-03-17T17:13:28.530894Z"
    },
    "hidden": true
   },
   "outputs": [],
   "source": [
    "most_recent_ing = max([re.search(regex, ing).group(1) for ing in lx if \".pkl\" in ing])\n",
    "most_recent_ing"
   ]
  },
  {
   "cell_type": "markdown",
   "metadata": {
    "hidden": true
   },
   "source": [
    "#### Additional notes"
   ]
  },
  {
   "cell_type": "code",
   "execution_count": null,
   "metadata": {
    "ExecuteTime": {
     "end_time": "2021-03-17T22:51:20.933443Z",
     "start_time": "2021-03-17T22:51:20.887879Z"
    },
    "hidden": true
   },
   "outputs": [],
   "source": [
    "x = date.today().strftime('%Y-%m-%d')"
   ]
  },
  {
   "cell_type": "code",
   "execution_count": null,
   "metadata": {
    "ExecuteTime": {
     "end_time": "2021-03-17T22:52:29.058939Z",
     "start_time": "2021-03-17T22:52:29.025587Z"
    },
    "hidden": true
   },
   "outputs": [],
   "source": [
    "x[5:7]"
   ]
  },
  {
   "cell_type": "markdown",
   "metadata": {
    "hidden": true
   },
   "source": [
    "---"
   ]
  },
  {
   "cell_type": "markdown",
   "metadata": {
    "heading_collapsed": true
   },
   "source": [
    "## Creating .csv files with metadata"
   ]
  },
  {
   "cell_type": "markdown",
   "metadata": {},
   "source": [
    "### Working with previous metadata pickle"
   ]
  },
  {
   "cell_type": "markdown",
   "metadata": {
    "heading_collapsed": true
   },
   "source": [
    "#### Transformation pickle"
   ]
  },
  {
   "cell_type": "code",
   "execution_count": null,
   "metadata": {
    "ExecuteTime": {
     "end_time": "2021-04-18T20:46:12.248706Z",
     "start_time": "2021-04-18T20:46:12.217816Z"
    },
    "hidden": true
   },
   "outputs": [],
   "source": [
    "pkl_meta = \"../results/metadata/transform_metadata.pkl\""
   ]
  },
  {
   "cell_type": "code",
   "execution_count": null,
   "metadata": {
    "ExecuteTime": {
     "end_time": "2021-04-18T20:46:12.589608Z",
     "start_time": "2021-04-18T20:46:12.540238Z"
    },
    "hidden": true
   },
   "outputs": [],
   "source": [
    "dfx = pickle.load(open(pkl_meta, \"rb\"))\n",
    "dfx"
   ]
  },
  {
   "cell_type": "code",
   "execution_count": null,
   "metadata": {
    "ExecuteTime": {
     "end_time": "2021-04-18T20:51:40.874609Z",
     "start_time": "2021-04-18T20:51:40.839324Z"
    },
    "hidden": true
   },
   "outputs": [],
   "source": [
    "mx = [dfx.index[0]]\n",
    "mx"
   ]
  },
  {
   "cell_type": "code",
   "execution_count": null,
   "metadata": {
    "ExecuteTime": {
     "end_time": "2021-04-18T20:51:40.909217Z",
     "start_time": "2021-04-18T20:51:40.876628Z"
    },
    "hidden": true
   },
   "outputs": [],
   "source": [
    "[mx.append(val) for val in dfx.iloc[0, :]]"
   ]
  },
  {
   "cell_type": "code",
   "execution_count": null,
   "metadata": {
    "ExecuteTime": {
     "end_time": "2021-04-18T20:51:41.631785Z",
     "start_time": "2021-04-18T20:51:41.600098Z"
    },
    "hidden": true
   },
   "outputs": [],
   "source": [
    "mx"
   ]
  },
  {
   "cell_type": "code",
   "execution_count": null,
   "metadata": {
    "ExecuteTime": {
     "end_time": "2021-04-18T21:02:50.419575Z",
     "start_time": "2021-04-18T21:02:50.385486Z"
    },
    "hidden": true
   },
   "outputs": [],
   "source": [
    "## Overwriting csv file from a dataframe (no header)\n",
    "def write_csv_from_df(df, filepath, filename):\n",
    "    \n",
    "    ## Extracting df contents as list\n",
    "    mdata_list = [df.index[0]]\n",
    "    [mdata_list.append(val) for val in df.iloc[0, :]]\n",
    "    \n",
    "    ## Creating and writing csv file with extracted list\n",
    "    with open(filepath + filename, mode=\"w\") as metadata_file:\n",
    "        metadata_writer = csv.writer(metadata_file, delimiter=\",\", quotechar='\"', quoting=csv.QUOTE_MINIMAL)\n",
    "        metadata_writer.writerow(mdata_list)"
   ]
  },
  {
   "cell_type": "code",
   "execution_count": null,
   "metadata": {
    "ExecuteTime": {
     "end_time": "2021-04-18T21:03:15.646264Z",
     "start_time": "2021-04-18T21:03:15.615713Z"
    },
    "hidden": true
   },
   "outputs": [],
   "source": [
    "filepath = \"metadata_test_dir/\""
   ]
  },
  {
   "cell_type": "code",
   "execution_count": null,
   "metadata": {
    "ExecuteTime": {
     "end_time": "2021-04-18T21:03:33.289795Z",
     "start_time": "2021-04-18T21:03:33.257274Z"
    },
    "hidden": true
   },
   "outputs": [],
   "source": [
    "filename = \"transformation_metadata_2.csv\""
   ]
  },
  {
   "cell_type": "code",
   "execution_count": null,
   "metadata": {
    "ExecuteTime": {
     "end_time": "2021-04-18T21:04:01.172280Z",
     "start_time": "2021-04-18T21:04:01.141235Z"
    },
    "hidden": true
   },
   "outputs": [],
   "source": [
    "write_csv_from_df(dfx, filepath, filename)"
   ]
  },
  {
   "cell_type": "code",
   "execution_count": null,
   "metadata": {
    "ExecuteTime": {
     "end_time": "2021-04-18T21:04:08.791578Z",
     "start_time": "2021-04-18T21:04:08.759013Z"
    },
    "hidden": true
   },
   "outputs": [],
   "source": [
    "dfx"
   ]
  },
  {
   "cell_type": "markdown",
   "metadata": {},
   "source": [
    "#### Model selection pickle"
   ]
  },
  {
   "cell_type": "code",
   "execution_count": 6,
   "metadata": {
    "ExecuteTime": {
     "end_time": "2021-04-25T19:15:38.582976Z",
     "start_time": "2021-04-25T19:15:38.428480Z"
    }
   },
   "outputs": [],
   "source": [
    "s3_creds = get_s3_credentials(\"../conf/local/credentials.yaml\")\n",
    "\n",
    "session = boto3.Session(\n",
    "    aws_access_key_id=s3_creds['aws_access_key_id'],\n",
    "    aws_secret_access_key=s3_creds['aws_secret_access_key']\n",
    ")\n",
    "s3 = session.client('s3')"
   ]
  },
  {
   "cell_type": "code",
   "execution_count": 12,
   "metadata": {
    "ExecuteTime": {
     "end_time": "2021-04-25T19:17:59.714432Z",
     "start_time": "2021-04-25T19:17:59.682214Z"
    }
   },
   "outputs": [],
   "source": [
    "bucket = \"data-product-architecture-equipo-9\"\n",
    "key =\"model_selection\""
   ]
  },
  {
   "cell_type": "code",
   "execution_count": 13,
   "metadata": {
    "ExecuteTime": {
     "end_time": "2021-04-25T19:18:00.501803Z",
     "start_time": "2021-04-25T19:18:00.087493Z"
    },
    "scrolled": true
   },
   "outputs": [
    {
     "data": {
      "text/plain": [
       "[{'Key': 'model_selection/trained_model_2021-04-25.pkl',\n",
       "  'LastModified': datetime.datetime(2021, 4, 25, 19, 4, 52, tzinfo=tzutc()),\n",
       "  'ETag': '\"67661198a0290f2b58f8c536a6aa1dca\"',\n",
       "  'Size': 18758,\n",
       "  'StorageClass': 'STANDARD'}]"
      ]
     },
     "execution_count": 13,
     "metadata": {},
     "output_type": "execute_result"
    }
   ],
   "source": [
    "objects = s3.list_objects_v2(Bucket=bucket, Prefix=key)['Contents']\n",
    "objects"
   ]
  },
  {
   "cell_type": "code",
   "execution_count": 14,
   "metadata": {
    "ExecuteTime": {
     "end_time": "2021-04-25T19:18:19.448124Z",
     "start_time": "2021-04-25T19:18:19.414286Z"
    },
    "scrolled": true
   },
   "outputs": [
    {
     "data": {
      "text/plain": [
       "'model_selection/trained_model_2021-04-25.pkl'"
      ]
     },
     "execution_count": 14,
     "metadata": {},
     "output_type": "execute_result"
    }
   ],
   "source": [
    "obj_path = [file[\"Key\"] for file in objects if \"trained\" in file[\"Key\"]][0]\n",
    "obj_path"
   ]
  },
  {
   "cell_type": "code",
   "execution_count": 15,
   "metadata": {
    "ExecuteTime": {
     "end_time": "2021-04-25T19:18:25.027805Z",
     "start_time": "2021-04-25T19:18:24.634151Z"
    },
    "scrolled": true
   },
   "outputs": [
    {
     "data": {
      "text/plain": [
       "{'ResponseMetadata': {'RequestId': '3NV1TEHC56S24YVD',\n",
       "  'HostId': 'mv3pOiGYUqrko8pc6slazP3OlotVaB6QUrbu59nHG02JuV1SGI1Qjh5oqKPETWwpahJcfLRnJgc=',\n",
       "  'HTTPStatusCode': 200,\n",
       "  'HTTPHeaders': {'x-amz-id-2': 'mv3pOiGYUqrko8pc6slazP3OlotVaB6QUrbu59nHG02JuV1SGI1Qjh5oqKPETWwpahJcfLRnJgc=',\n",
       "   'x-amz-request-id': '3NV1TEHC56S24YVD',\n",
       "   'date': 'Sun, 25 Apr 2021 19:18:26 GMT',\n",
       "   'last-modified': 'Sun, 25 Apr 2021 19:04:52 GMT',\n",
       "   'etag': '\"67661198a0290f2b58f8c536a6aa1dca\"',\n",
       "   'accept-ranges': 'bytes',\n",
       "   'content-type': 'binary/octet-stream',\n",
       "   'content-length': '18758',\n",
       "   'server': 'AmazonS3'},\n",
       "  'RetryAttempts': 0},\n",
       " 'AcceptRanges': 'bytes',\n",
       " 'LastModified': datetime.datetime(2021, 4, 25, 19, 4, 52, tzinfo=tzutc()),\n",
       " 'ContentLength': 18758,\n",
       " 'ETag': '\"67661198a0290f2b58f8c536a6aa1dca\"',\n",
       " 'ContentType': 'binary/octet-stream',\n",
       " 'Metadata': {},\n",
       " 'Body': <botocore.response.StreamingBody at 0x16f18de80>}"
      ]
     },
     "execution_count": 15,
     "metadata": {},
     "output_type": "execute_result"
    }
   ],
   "source": [
    "response = s3.get_object(\n",
    "    Bucket=bucket,\n",
    "    Key=obj_path\n",
    ")\n",
    "response"
   ]
  },
  {
   "cell_type": "code",
   "execution_count": 16,
   "metadata": {
    "ExecuteTime": {
     "end_time": "2021-04-25T19:18:30.216891Z",
     "start_time": "2021-04-25T19:18:30.182289Z"
    }
   },
   "outputs": [],
   "source": [
    "body = response[\"Body\"].read()"
   ]
  },
  {
   "cell_type": "code",
   "execution_count": 18,
   "metadata": {
    "ExecuteTime": {
     "end_time": "2021-04-25T19:19:05.844264Z",
     "start_time": "2021-04-25T19:19:05.803510Z"
    }
   },
   "outputs": [
    {
     "data": {
      "text/plain": [
       "{'best_trained_model': DecisionTreeClassifier(max_depth=10, min_samples_leaf=5, random_state=2222),\n",
       " 'model_test_predict_labels': array([1, 1, 0, 1, 0, 1, 0, 1, 1, 1, 0, 0, 1, 1, 0, 1, 1, 1, 1, 0, 1, 0,\n",
       "        1, 1, 0, 0, 1, 0, 0, 1, 1, 1, 0, 0, 0, 1, 1, 1, 1, 1, 1, 1, 0, 0,\n",
       "        1, 1, 1, 1, 0, 0, 1, 1, 1, 1, 1, 1, 1, 1, 1, 1, 0, 1, 0, 1, 1, 1,\n",
       "        1, 1, 1, 0, 1, 1, 1, 1, 1, 0, 1, 1, 1, 0, 1, 1, 1, 1, 1, 1, 1, 0,\n",
       "        0, 1, 1, 1, 1, 1, 1, 1, 1, 1, 1, 1, 1, 1, 1, 1, 1, 1, 1, 1, 1, 1,\n",
       "        1, 0, 1, 1, 1, 0, 1, 1, 1, 1, 1, 1, 1, 1, 1, 1, 1, 1, 1, 1, 1, 0,\n",
       "        1, 1, 1, 1, 1, 0, 1, 1, 1, 0, 1, 1, 0, 1, 1, 0, 1, 0, 1, 0, 0, 1,\n",
       "        1, 0, 1, 1, 1, 1, 1, 1, 0, 0, 1, 1, 1, 1, 1, 0, 1, 0, 1, 0, 0, 1,\n",
       "        1, 1, 1, 1, 0, 0, 0, 0, 1, 0, 1, 0, 1, 0, 0, 1, 0, 0, 1, 1, 1, 1,\n",
       "        1, 0, 1, 1, 0, 1, 1, 1, 0, 1, 1, 1, 1, 1, 0, 1, 0, 0, 0, 1, 1, 0,\n",
       "        1, 1, 0, 1, 0, 1, 1, 1, 1, 0, 1, 1, 1, 1, 1, 0, 1, 0, 0, 1, 0, 1,\n",
       "        1, 1, 1, 0, 1, 0, 0, 1, 1, 1, 1, 1, 1, 1, 0, 1, 1, 1, 0, 1, 0, 1,\n",
       "        0, 1, 1, 1, 0, 1, 0, 0, 1, 1, 0, 0, 1, 0, 1, 1, 1, 0, 1, 1, 1, 1,\n",
       "        1, 0, 1, 1, 1, 1, 1, 0, 1, 0, 1, 1, 1, 1, 1, 1, 1, 1, 1, 0, 1, 1,\n",
       "        1, 0, 0, 1, 0, 1, 0, 0, 0, 1, 1, 1, 1, 1, 0, 1, 1, 0, 1, 1, 1, 0,\n",
       "        1, 0, 1, 0, 1, 1, 1, 1, 1, 1, 1, 1, 1, 0, 0, 1, 1, 0, 1, 1, 1, 0,\n",
       "        1, 0, 0, 1, 1, 1, 1, 1, 1, 0, 1, 1, 0, 0, 0, 1, 1, 1, 0, 1, 1, 1,\n",
       "        1, 1, 0, 1, 1, 1, 0, 1, 1, 1, 1, 1, 1, 0, 0, 0, 1, 1, 1, 1, 1, 1,\n",
       "        0, 1, 1, 0, 0, 1, 0, 0, 1, 1, 1, 1, 1, 0, 1, 1, 1, 1, 0, 1, 1, 0,\n",
       "        1, 1, 1, 0, 0, 1, 1, 1, 1, 1, 1, 1, 1, 1, 0, 0, 1, 1, 0, 0, 1, 1,\n",
       "        1, 0, 0, 1, 0, 0, 1, 0, 1, 1, 1, 1, 1, 1, 0, 1, 1, 1, 1, 0, 1, 1,\n",
       "        0, 0, 1, 1, 1, 1, 0, 0, 1, 1, 1, 0, 1, 0, 1, 1, 0, 1, 1, 1, 0, 1,\n",
       "        0, 1, 1, 1, 1, 0, 1, 1, 1, 0, 1, 1, 1, 1, 0, 0, 1, 1, 1, 1, 1, 1,\n",
       "        1, 1, 1, 0, 1, 1, 0, 1, 1, 1, 1, 1, 1, 1, 0, 0, 1, 0, 1, 1, 1, 1,\n",
       "        1, 1, 0, 1, 1, 1, 1, 1, 0, 0, 1, 1, 1, 1, 1, 1, 1, 0]),\n",
       " 'model_test_predict_scores': array([[0.22222222, 0.77777778],\n",
       "        [0.11111111, 0.88888889],\n",
       "        [0.54285714, 0.45714286],\n",
       "        ...,\n",
       "        [0.33333333, 0.66666667],\n",
       "        [0.29496403, 0.70503597],\n",
       "        [0.54545455, 0.45454545]])}"
      ]
     },
     "execution_count": 18,
     "metadata": {},
     "output_type": "execute_result"
    }
   ],
   "source": [
    "model = pickle.loads(body)\n",
    "model"
   ]
  },
  {
   "cell_type": "code",
   "execution_count": 21,
   "metadata": {
    "ExecuteTime": {
     "end_time": "2021-04-25T19:19:40.378681Z",
     "start_time": "2021-04-25T19:19:40.345366Z"
    }
   },
   "outputs": [
    {
     "data": {
      "text/plain": [
       "'DecisionTreeClassifier(max_depth=10, min_samples_leaf=5, random_state=2222)'"
      ]
     },
     "execution_count": 21,
     "metadata": {},
     "output_type": "execute_result"
    }
   ],
   "source": [
    "str(model[\"best_trained_model\"])"
   ]
  },
  {
   "cell_type": "code",
   "execution_count": 24,
   "metadata": {
    "ExecuteTime": {
     "end_time": "2021-04-25T19:22:56.479040Z",
     "start_time": "2021-04-25T19:22:56.438939Z"
    }
   },
   "outputs": [
    {
     "ename": "TypeError",
     "evalue": "score() missing 2 required positional arguments: 'X' and 'y'",
     "output_type": "error",
     "traceback": [
      "\u001b[0;31m-----------\u001b[0m",
      "\u001b[0;31mTypeError\u001b[0mTraceback (most recent call last)",
      "\u001b[0;32m<ipython-input-24-82969a94c519>\u001b[0m in \u001b[0;36m<module>\u001b[0;34m\u001b[0m\n\u001b[0;32m----> 1\u001b[0;31m \u001b[0mmodel\u001b[0m\u001b[0;34m[\u001b[0m\u001b[0;34m\"best_trained_model\"\u001b[0m\u001b[0;34m]\u001b[0m\u001b[0;34m.\u001b[0m\u001b[0mscore\u001b[0m\u001b[0;34m(\u001b[0m\u001b[0;34m)\u001b[0m\u001b[0;34m\u001b[0m\u001b[0;34m\u001b[0m\u001b[0m\n\u001b[0m",
      "\u001b[0;31mTypeError\u001b[0m: score() missing 2 required positional arguments: 'X' and 'y'"
     ]
    }
   ],
   "source": [
    "model[\"best_trained_model\"]"
   ]
  },
  {
   "cell_type": "markdown",
   "metadata": {
    "heading_collapsed": true
   },
   "source": [
    "### Creating dummy metadata"
   ]
  },
  {
   "cell_type": "markdown",
   "metadata": {
    "heading_collapsed": true,
    "hidden": true
   },
   "source": [
    "#### Line 1"
   ]
  },
  {
   "cell_type": "code",
   "execution_count": null,
   "metadata": {
    "ExecuteTime": {
     "end_time": "2021-04-18T21:00:52.235990Z",
     "start_time": "2021-04-18T21:00:52.203522Z"
    },
    "hidden": true
   },
   "outputs": [],
   "source": [
    "meta_1 = str(datetime.now())"
   ]
  },
  {
   "cell_type": "code",
   "execution_count": null,
   "metadata": {
    "ExecuteTime": {
     "end_time": "2021-04-18T21:00:52.660839Z",
     "start_time": "2021-04-18T21:00:52.629989Z"
    },
    "hidden": true
   },
   "outputs": [],
   "source": [
    "meta_2 = str(10)"
   ]
  },
  {
   "cell_type": "code",
   "execution_count": null,
   "metadata": {
    "ExecuteTime": {
     "end_time": "2021-04-18T21:00:53.028530Z",
     "start_time": "2021-04-18T21:00:52.998058Z"
    },
    "hidden": true
   },
   "outputs": [],
   "source": [
    "meta_3 = \"carnegie\""
   ]
  },
  {
   "cell_type": "code",
   "execution_count": null,
   "metadata": {
    "ExecuteTime": {
     "end_time": "2021-04-18T21:00:54.472631Z",
     "start_time": "2021-04-18T21:00:54.439758Z"
    },
    "hidden": true
   },
   "outputs": [],
   "source": [
    "meta_comp = \",\".join([meta_1, meta_2, meta_3])\n",
    "meta_comp"
   ]
  },
  {
   "cell_type": "code",
   "execution_count": null,
   "metadata": {
    "ExecuteTime": {
     "end_time": "2021-04-18T21:00:59.191304Z",
     "start_time": "2021-04-18T21:00:59.159316Z"
    },
    "hidden": true
   },
   "outputs": [],
   "source": [
    "import csv\n",
    "with open(\"transformation_metadata.csv\", mode=\"w\") as metadata_file:\n",
    "    metadata_writer = csv.writer(metadata_file, delimiter=\",\", quotechar='\"', quoting=csv.QUOTE_MINIMAL)\n",
    "    metadata_writer.writerow([meta_1, meta_2, meta_3])"
   ]
  },
  {
   "cell_type": "markdown",
   "metadata": {
    "hidden": true
   },
   "source": [
    "#### Creating string based on dictionary keys for metadata"
   ]
  },
  {
   "cell_type": "code",
   "execution_count": 10,
   "metadata": {
    "ExecuteTime": {
     "end_time": "2021-04-25T16:42:49.100499Z",
     "start_time": "2021-04-25T16:42:49.066219Z"
    },
    "hidden": true
   },
   "outputs": [
    {
     "data": {
      "text/plain": [
       "'random_forest | decision_tree'"
      ]
     },
     "execution_count": 10,
     "metadata": {},
     "output_type": "execute_result"
    }
   ],
   "source": [
    "\" | \".join([mdl for mdl in models_dict])"
   ]
  },
  {
   "cell_type": "markdown",
   "metadata": {
    "heading_collapsed": true
   },
   "source": [
    "## Saving dictionary of dataframes as pickle"
   ]
  },
  {
   "cell_type": "markdown",
   "metadata": {
    "heading_collapsed": true,
    "hidden": true
   },
   "source": [
    "### Creating dictionary of dataframes"
   ]
  },
  {
   "cell_type": "code",
   "execution_count": 9,
   "metadata": {
    "ExecuteTime": {
     "end_time": "2021-04-22T17:11:20.639397Z",
     "start_time": "2021-04-22T17:11:20.599895Z"
    },
    "hidden": true
   },
   "outputs": [
    {
     "data": {
      "text/html": [
       "<div>\n",
       "<style scoped>\n",
       "    .dataframe tbody tr th:only-of-type {\n",
       "        vertical-align: middle;\n",
       "    }\n",
       "\n",
       "    .dataframe tbody tr th {\n",
       "        vertical-align: top;\n",
       "    }\n",
       "\n",
       "    .dataframe thead th {\n",
       "        text-align: right;\n",
       "    }\n",
       "</style>\n",
       "<table border=\"1\" class=\"dataframe\">\n",
       "  <thead>\n",
       "    <tr style=\"text-align: right;\">\n",
       "      <th></th>\n",
       "      <th>col1_df1</th>\n",
       "      <th>col2_df1</th>\n",
       "    </tr>\n",
       "  </thead>\n",
       "  <tbody>\n",
       "    <tr>\n",
       "      <th>0</th>\n",
       "      <td>1</td>\n",
       "      <td>h</td>\n",
       "    </tr>\n",
       "    <tr>\n",
       "      <th>1</th>\n",
       "      <td>2</td>\n",
       "      <td>t</td>\n",
       "    </tr>\n",
       "    <tr>\n",
       "      <th>2</th>\n",
       "      <td>3</td>\n",
       "      <td>k</td>\n",
       "    </tr>\n",
       "    <tr>\n",
       "      <th>3</th>\n",
       "      <td>4</td>\n",
       "      <td>d</td>\n",
       "    </tr>\n",
       "    <tr>\n",
       "      <th>4</th>\n",
       "      <td>5</td>\n",
       "      <td>l</td>\n",
       "    </tr>\n",
       "    <tr>\n",
       "      <th>5</th>\n",
       "      <td>6</td>\n",
       "      <td>e</td>\n",
       "    </tr>\n",
       "    <tr>\n",
       "      <th>6</th>\n",
       "      <td>7</td>\n",
       "      <td>k</td>\n",
       "    </tr>\n",
       "    <tr>\n",
       "      <th>7</th>\n",
       "      <td>8</td>\n",
       "      <td>d</td>\n",
       "    </tr>\n",
       "    <tr>\n",
       "      <th>8</th>\n",
       "      <td>9</td>\n",
       "      <td>j</td>\n",
       "    </tr>\n",
       "    <tr>\n",
       "      <th>9</th>\n",
       "      <td>10</td>\n",
       "      <td>c</td>\n",
       "    </tr>\n",
       "  </tbody>\n",
       "</table>\n",
       "</div>"
      ],
      "text/plain": [
       "   col1_df1 col2_df1\n",
       "0         1        h\n",
       "1         2        t\n",
       "2         3        k\n",
       "3         4        d\n",
       "4         5        l\n",
       "5         6        e\n",
       "6         7        k\n",
       "7         8        d\n",
       "8         9        j\n",
       "9        10        c"
      ]
     },
     "execution_count": 9,
     "metadata": {},
     "output_type": "execute_result"
    }
   ],
   "source": [
    "dfx1 = {\n",
    "    \"col1_df1\": list(range(1, 11)),\n",
    "    \"col2_df1\": list(\"htkdlekdjc\"),\n",
    "}\n",
    "dfx1 = pd.DataFrame.from_dict(dfx1)\n",
    "dfx1"
   ]
  },
  {
   "cell_type": "code",
   "execution_count": 10,
   "metadata": {
    "ExecuteTime": {
     "end_time": "2021-04-22T17:11:43.883990Z",
     "start_time": "2021-04-22T17:11:43.847122Z"
    },
    "hidden": true
   },
   "outputs": [
    {
     "data": {
      "text/html": [
       "<div>\n",
       "<style scoped>\n",
       "    .dataframe tbody tr th:only-of-type {\n",
       "        vertical-align: middle;\n",
       "    }\n",
       "\n",
       "    .dataframe tbody tr th {\n",
       "        vertical-align: top;\n",
       "    }\n",
       "\n",
       "    .dataframe thead th {\n",
       "        text-align: right;\n",
       "    }\n",
       "</style>\n",
       "<table border=\"1\" class=\"dataframe\">\n",
       "  <thead>\n",
       "    <tr style=\"text-align: right;\">\n",
       "      <th></th>\n",
       "      <th>col1_df2</th>\n",
       "      <th>col2_df2</th>\n",
       "    </tr>\n",
       "  </thead>\n",
       "  <tbody>\n",
       "    <tr>\n",
       "      <th>0</th>\n",
       "      <td>11</td>\n",
       "      <td>j</td>\n",
       "    </tr>\n",
       "    <tr>\n",
       "      <th>1</th>\n",
       "      <td>12</td>\n",
       "      <td>f</td>\n",
       "    </tr>\n",
       "    <tr>\n",
       "      <th>2</th>\n",
       "      <td>13</td>\n",
       "      <td>l</td>\n",
       "    </tr>\n",
       "    <tr>\n",
       "      <th>3</th>\n",
       "      <td>14</td>\n",
       "      <td>d</td>\n",
       "    </tr>\n",
       "    <tr>\n",
       "      <th>4</th>\n",
       "      <td>15</td>\n",
       "      <td>u</td>\n",
       "    </tr>\n",
       "    <tr>\n",
       "      <th>5</th>\n",
       "      <td>16</td>\n",
       "      <td>r</td>\n",
       "    </tr>\n",
       "    <tr>\n",
       "      <th>6</th>\n",
       "      <td>17</td>\n",
       "      <td>y</td>\n",
       "    </tr>\n",
       "    <tr>\n",
       "      <th>7</th>\n",
       "      <td>18</td>\n",
       "      <td>t</td>\n",
       "    </tr>\n",
       "    <tr>\n",
       "      <th>8</th>\n",
       "      <td>19</td>\n",
       "      <td>g</td>\n",
       "    </tr>\n",
       "    <tr>\n",
       "      <th>9</th>\n",
       "      <td>20</td>\n",
       "      <td>c</td>\n",
       "    </tr>\n",
       "  </tbody>\n",
       "</table>\n",
       "</div>"
      ],
      "text/plain": [
       "   col1_df2 col2_df2\n",
       "0        11        j\n",
       "1        12        f\n",
       "2        13        l\n",
       "3        14        d\n",
       "4        15        u\n",
       "5        16        r\n",
       "6        17        y\n",
       "7        18        t\n",
       "8        19        g\n",
       "9        20        c"
      ]
     },
     "execution_count": 10,
     "metadata": {},
     "output_type": "execute_result"
    }
   ],
   "source": [
    "dfx2 = {\n",
    "    \"col1_df2\": list(range(11, 21)),\n",
    "    \"col2_df2\": list(\"jfldurytgc\"),\n",
    "}\n",
    "dfx2 = pd.DataFrame.from_dict(dfx2)\n",
    "dfx2"
   ]
  },
  {
   "cell_type": "code",
   "execution_count": 11,
   "metadata": {
    "ExecuteTime": {
     "end_time": "2021-04-22T17:12:15.464789Z",
     "start_time": "2021-04-22T17:12:15.427697Z"
    },
    "hidden": true
   },
   "outputs": [
    {
     "data": {
      "text/plain": [
       "{'dfx1':    col1_df1 col2_df1\n",
       " 0         1        h\n",
       " 1         2        t\n",
       " 2         3        k\n",
       " 3         4        d\n",
       " 4         5        l\n",
       " 5         6        e\n",
       " 6         7        k\n",
       " 7         8        d\n",
       " 8         9        j\n",
       " 9        10        c,\n",
       " 'dfx2':    col1_df2 col2_df2\n",
       " 0        11        j\n",
       " 1        12        f\n",
       " 2        13        l\n",
       " 3        14        d\n",
       " 4        15        u\n",
       " 5        16        r\n",
       " 6        17        y\n",
       " 7        18        t\n",
       " 8        19        g\n",
       " 9        20        c}"
      ]
     },
     "execution_count": 11,
     "metadata": {},
     "output_type": "execute_result"
    }
   ],
   "source": [
    "df_dict = {\n",
    "    \"dfx1\": dfx1,\n",
    "    \"dfx2\": dfx2\n",
    "}\n",
    "df_dict"
   ]
  },
  {
   "cell_type": "code",
   "execution_count": 13,
   "metadata": {
    "ExecuteTime": {
     "end_time": "2021-04-22T17:12:46.110517Z",
     "start_time": "2021-04-22T17:12:46.074460Z"
    },
    "hidden": true
   },
   "outputs": [
    {
     "data": {
      "text/html": [
       "<div>\n",
       "<style scoped>\n",
       "    .dataframe tbody tr th:only-of-type {\n",
       "        vertical-align: middle;\n",
       "    }\n",
       "\n",
       "    .dataframe tbody tr th {\n",
       "        vertical-align: top;\n",
       "    }\n",
       "\n",
       "    .dataframe thead th {\n",
       "        text-align: right;\n",
       "    }\n",
       "</style>\n",
       "<table border=\"1\" class=\"dataframe\">\n",
       "  <thead>\n",
       "    <tr style=\"text-align: right;\">\n",
       "      <th></th>\n",
       "      <th>col1_df2</th>\n",
       "      <th>col2_df2</th>\n",
       "    </tr>\n",
       "  </thead>\n",
       "  <tbody>\n",
       "    <tr>\n",
       "      <th>0</th>\n",
       "      <td>11</td>\n",
       "      <td>j</td>\n",
       "    </tr>\n",
       "    <tr>\n",
       "      <th>1</th>\n",
       "      <td>12</td>\n",
       "      <td>f</td>\n",
       "    </tr>\n",
       "    <tr>\n",
       "      <th>2</th>\n",
       "      <td>13</td>\n",
       "      <td>l</td>\n",
       "    </tr>\n",
       "    <tr>\n",
       "      <th>3</th>\n",
       "      <td>14</td>\n",
       "      <td>d</td>\n",
       "    </tr>\n",
       "    <tr>\n",
       "      <th>4</th>\n",
       "      <td>15</td>\n",
       "      <td>u</td>\n",
       "    </tr>\n",
       "    <tr>\n",
       "      <th>5</th>\n",
       "      <td>16</td>\n",
       "      <td>r</td>\n",
       "    </tr>\n",
       "    <tr>\n",
       "      <th>6</th>\n",
       "      <td>17</td>\n",
       "      <td>y</td>\n",
       "    </tr>\n",
       "    <tr>\n",
       "      <th>7</th>\n",
       "      <td>18</td>\n",
       "      <td>t</td>\n",
       "    </tr>\n",
       "    <tr>\n",
       "      <th>8</th>\n",
       "      <td>19</td>\n",
       "      <td>g</td>\n",
       "    </tr>\n",
       "    <tr>\n",
       "      <th>9</th>\n",
       "      <td>20</td>\n",
       "      <td>c</td>\n",
       "    </tr>\n",
       "  </tbody>\n",
       "</table>\n",
       "</div>"
      ],
      "text/plain": [
       "   col1_df2 col2_df2\n",
       "0        11        j\n",
       "1        12        f\n",
       "2        13        l\n",
       "3        14        d\n",
       "4        15        u\n",
       "5        16        r\n",
       "6        17        y\n",
       "7        18        t\n",
       "8        19        g\n",
       "9        20        c"
      ]
     },
     "execution_count": 13,
     "metadata": {},
     "output_type": "execute_result"
    }
   ],
   "source": [
    "df_dict['dfx2']"
   ]
  },
  {
   "cell_type": "markdown",
   "metadata": {
    "hidden": true
   },
   "source": [
    "### Storing dictionary as pickle variable and unpickling"
   ]
  },
  {
   "cell_type": "code",
   "execution_count": 16,
   "metadata": {
    "ExecuteTime": {
     "end_time": "2021-04-22T17:14:46.260645Z",
     "start_time": "2021-04-22T17:14:46.227826Z"
    },
    "hidden": true
   },
   "outputs": [],
   "source": [
    "df_dict_pkl = pickle.dumps(df_dict)"
   ]
  },
  {
   "cell_type": "code",
   "execution_count": 19,
   "metadata": {
    "ExecuteTime": {
     "end_time": "2021-04-22T17:15:20.175728Z",
     "start_time": "2021-04-22T17:15:20.143097Z"
    },
    "hidden": true
   },
   "outputs": [],
   "source": [
    "df_dict_x = pickle.loads(df_dict_pkl)"
   ]
  },
  {
   "cell_type": "code",
   "execution_count": 21,
   "metadata": {
    "ExecuteTime": {
     "end_time": "2021-04-22T17:15:40.053049Z",
     "start_time": "2021-04-22T17:15:40.014095Z"
    },
    "hidden": true,
    "scrolled": true
   },
   "outputs": [
    {
     "data": {
      "text/html": [
       "<div>\n",
       "<style scoped>\n",
       "    .dataframe tbody tr th:only-of-type {\n",
       "        vertical-align: middle;\n",
       "    }\n",
       "\n",
       "    .dataframe tbody tr th {\n",
       "        vertical-align: top;\n",
       "    }\n",
       "\n",
       "    .dataframe thead th {\n",
       "        text-align: right;\n",
       "    }\n",
       "</style>\n",
       "<table border=\"1\" class=\"dataframe\">\n",
       "  <thead>\n",
       "    <tr style=\"text-align: right;\">\n",
       "      <th></th>\n",
       "      <th>col1_df2</th>\n",
       "      <th>col2_df2</th>\n",
       "    </tr>\n",
       "  </thead>\n",
       "  <tbody>\n",
       "    <tr>\n",
       "      <th>0</th>\n",
       "      <td>11</td>\n",
       "      <td>j</td>\n",
       "    </tr>\n",
       "    <tr>\n",
       "      <th>1</th>\n",
       "      <td>12</td>\n",
       "      <td>f</td>\n",
       "    </tr>\n",
       "    <tr>\n",
       "      <th>2</th>\n",
       "      <td>13</td>\n",
       "      <td>l</td>\n",
       "    </tr>\n",
       "    <tr>\n",
       "      <th>3</th>\n",
       "      <td>14</td>\n",
       "      <td>d</td>\n",
       "    </tr>\n",
       "    <tr>\n",
       "      <th>4</th>\n",
       "      <td>15</td>\n",
       "      <td>u</td>\n",
       "    </tr>\n",
       "    <tr>\n",
       "      <th>5</th>\n",
       "      <td>16</td>\n",
       "      <td>r</td>\n",
       "    </tr>\n",
       "    <tr>\n",
       "      <th>6</th>\n",
       "      <td>17</td>\n",
       "      <td>y</td>\n",
       "    </tr>\n",
       "    <tr>\n",
       "      <th>7</th>\n",
       "      <td>18</td>\n",
       "      <td>t</td>\n",
       "    </tr>\n",
       "    <tr>\n",
       "      <th>8</th>\n",
       "      <td>19</td>\n",
       "      <td>g</td>\n",
       "    </tr>\n",
       "    <tr>\n",
       "      <th>9</th>\n",
       "      <td>20</td>\n",
       "      <td>c</td>\n",
       "    </tr>\n",
       "  </tbody>\n",
       "</table>\n",
       "</div>"
      ],
      "text/plain": [
       "   col1_df2 col2_df2\n",
       "0        11        j\n",
       "1        12        f\n",
       "2        13        l\n",
       "3        14        d\n",
       "4        15        u\n",
       "5        16        r\n",
       "6        17        y\n",
       "7        18        t\n",
       "8        19        g\n",
       "9        20        c"
      ]
     },
     "execution_count": 21,
     "metadata": {},
     "output_type": "execute_result"
    }
   ],
   "source": [
    "df_dict_x['dfx2']"
   ]
  },
  {
   "cell_type": "markdown",
   "metadata": {
    "hidden": true
   },
   "source": [
    "### Storing dictionary as pickle in local memory and unpickling"
   ]
  },
  {
   "cell_type": "code",
   "execution_count": 24,
   "metadata": {
    "ExecuteTime": {
     "end_time": "2021-04-22T17:17:28.717382Z",
     "start_time": "2021-04-22T17:17:28.684183Z"
    },
    "hidden": true
   },
   "outputs": [],
   "source": [
    "pkl_file = \"../data/pickles/test_df_dict_pkl.pkl\""
   ]
  },
  {
   "cell_type": "code",
   "execution_count": 28,
   "metadata": {
    "ExecuteTime": {
     "end_time": "2021-04-22T17:19:18.255198Z",
     "start_time": "2021-04-22T17:19:18.220864Z"
    },
    "hidden": true
   },
   "outputs": [],
   "source": [
    "pickle.dump(df_dict, open(pkl_file, \"wb\"))"
   ]
  },
  {
   "cell_type": "code",
   "execution_count": 33,
   "metadata": {
    "ExecuteTime": {
     "end_time": "2021-04-22T17:20:41.795420Z",
     "start_time": "2021-04-22T17:20:41.762737Z"
    },
    "hidden": true
   },
   "outputs": [],
   "source": [
    "df_dict_x = pickle.load(open(pkl_file, \"rb\"))"
   ]
  },
  {
   "cell_type": "code",
   "execution_count": 35,
   "metadata": {
    "ExecuteTime": {
     "end_time": "2021-04-22T17:20:47.636340Z",
     "start_time": "2021-04-22T17:20:47.598904Z"
    },
    "hidden": true,
    "scrolled": true
   },
   "outputs": [
    {
     "data": {
      "text/html": [
       "<div>\n",
       "<style scoped>\n",
       "    .dataframe tbody tr th:only-of-type {\n",
       "        vertical-align: middle;\n",
       "    }\n",
       "\n",
       "    .dataframe tbody tr th {\n",
       "        vertical-align: top;\n",
       "    }\n",
       "\n",
       "    .dataframe thead th {\n",
       "        text-align: right;\n",
       "    }\n",
       "</style>\n",
       "<table border=\"1\" class=\"dataframe\">\n",
       "  <thead>\n",
       "    <tr style=\"text-align: right;\">\n",
       "      <th></th>\n",
       "      <th>col1_df2</th>\n",
       "      <th>col2_df2</th>\n",
       "    </tr>\n",
       "  </thead>\n",
       "  <tbody>\n",
       "    <tr>\n",
       "      <th>0</th>\n",
       "      <td>11</td>\n",
       "      <td>j</td>\n",
       "    </tr>\n",
       "    <tr>\n",
       "      <th>1</th>\n",
       "      <td>12</td>\n",
       "      <td>f</td>\n",
       "    </tr>\n",
       "    <tr>\n",
       "      <th>2</th>\n",
       "      <td>13</td>\n",
       "      <td>l</td>\n",
       "    </tr>\n",
       "    <tr>\n",
       "      <th>3</th>\n",
       "      <td>14</td>\n",
       "      <td>d</td>\n",
       "    </tr>\n",
       "    <tr>\n",
       "      <th>4</th>\n",
       "      <td>15</td>\n",
       "      <td>u</td>\n",
       "    </tr>\n",
       "    <tr>\n",
       "      <th>5</th>\n",
       "      <td>16</td>\n",
       "      <td>r</td>\n",
       "    </tr>\n",
       "    <tr>\n",
       "      <th>6</th>\n",
       "      <td>17</td>\n",
       "      <td>y</td>\n",
       "    </tr>\n",
       "    <tr>\n",
       "      <th>7</th>\n",
       "      <td>18</td>\n",
       "      <td>t</td>\n",
       "    </tr>\n",
       "    <tr>\n",
       "      <th>8</th>\n",
       "      <td>19</td>\n",
       "      <td>g</td>\n",
       "    </tr>\n",
       "    <tr>\n",
       "      <th>9</th>\n",
       "      <td>20</td>\n",
       "      <td>c</td>\n",
       "    </tr>\n",
       "  </tbody>\n",
       "</table>\n",
       "</div>"
      ],
      "text/plain": [
       "   col1_df2 col2_df2\n",
       "0        11        j\n",
       "1        12        f\n",
       "2        13        l\n",
       "3        14        d\n",
       "4        15        u\n",
       "5        16        r\n",
       "6        17        y\n",
       "7        18        t\n",
       "8        19        g\n",
       "9        20        c"
      ]
     },
     "execution_count": 35,
     "metadata": {},
     "output_type": "execute_result"
    }
   ],
   "source": [
    "df_dict_x['dfx2']"
   ]
  },
  {
   "cell_type": "markdown",
   "metadata": {
    "hidden": true
   },
   "source": [
    "---"
   ]
  },
  {
   "cell_type": "markdown",
   "metadata": {},
   "source": [
    "## *Notes*"
   ]
  },
  {
   "cell_type": "markdown",
   "metadata": {},
   "source": [
    "---\n",
    "---"
   ]
  }
 ],
 "metadata": {
  "celltoolbar": "Initialization Cell",
  "kernelspec": {
   "display_name": "Python 3",
   "language": "python",
   "name": "python3"
  },
  "language_info": {
   "codemirror_mode": {
    "name": "ipython",
    "version": 3
   },
   "file_extension": ".py",
   "mimetype": "text/x-python",
   "name": "python",
   "nbconvert_exporter": "python",
   "pygments_lexer": "ipython3",
   "version": "3.8.5"
  },
  "toc": {
   "base_numbering": 1,
   "nav_menu": {},
   "number_sections": true,
   "sideBar": true,
   "skip_h1_title": false,
   "title_cell": "Table of Contents",
   "title_sidebar": "Contents",
   "toc_cell": false,
   "toc_position": {},
   "toc_section_display": true,
   "toc_window_display": false
  }
 },
 "nbformat": 4,
 "nbformat_minor": 4
}
