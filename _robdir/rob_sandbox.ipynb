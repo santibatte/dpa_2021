{
 "cells": [
  {
   "cell_type": "markdown",
   "metadata": {},
   "source": [
    "# Notebook with test code"
   ]
  },
  {
   "cell_type": "markdown",
   "metadata": {},
   "source": [
    "---"
   ]
  },
  {
   "cell_type": "markdown",
   "metadata": {},
   "source": [
    "## Imports"
   ]
  },
  {
   "cell_type": "markdown",
   "metadata": {},
   "source": [
    "### Standard library imports"
   ]
  },
  {
   "cell_type": "code",
   "execution_count": 1,
   "metadata": {
    "ExecuteTime": {
     "end_time": "2021-04-22T17:40:24.087169Z",
     "start_time": "2021-04-22T17:40:24.051988Z"
    },
    "init_cell": true
   },
   "outputs": [],
   "source": [
    "import yaml\n",
    "\n",
    "import sys\n",
    "\n",
    "from datetime import (date, datetime)\n",
    "\n",
    "import os\n",
    "\n",
    "import pickle\n",
    "\n",
    "import re"
   ]
  },
  {
   "cell_type": "markdown",
   "metadata": {},
   "source": [
    "### Third party libraries"
   ]
  },
  {
   "cell_type": "code",
   "execution_count": 2,
   "metadata": {
    "ExecuteTime": {
     "end_time": "2021-04-22T17:40:24.736412Z",
     "start_time": "2021-04-22T17:40:24.089142Z"
    },
    "init_cell": true
   },
   "outputs": [],
   "source": [
    "import boto3\n",
    "\n",
    "import pandas as pd"
   ]
  },
  {
   "cell_type": "markdown",
   "metadata": {},
   "source": [
    "### Local application imports"
   ]
  },
  {
   "cell_type": "code",
   "execution_count": 3,
   "metadata": {
    "ExecuteTime": {
     "end_time": "2021-04-22T17:40:24.741747Z",
     "start_time": "2021-04-22T17:40:24.738986Z"
    },
    "init_cell": true
   },
   "outputs": [],
   "source": [
    "sys.path.append(\"../\")"
   ]
  },
  {
   "cell_type": "code",
   "execution_count": 4,
   "metadata": {
    "ExecuteTime": {
     "end_time": "2021-04-22T17:40:26.754934Z",
     "start_time": "2021-04-22T17:40:24.744789Z"
    },
    "init_cell": true
   },
   "outputs": [],
   "source": [
    "%load_ext autoreload\n",
    "%autoreload 2\n",
    "\n",
    "from src.etl.ingesta_almacenamiento import (\n",
    "    \n",
    "    ## Functions\n",
    "    get_client,\n",
    "    ingesta_inicial,\n",
    "    ingesta_consecutiva,\n",
    "    get_s3_resource,\n",
    "    request_data_to_API,\n",
    "    get_s3_credentials,\n",
    "    \n",
    ")\n",
    "\n",
    "\n",
    "from src.utils.utils import (\n",
    "\n",
    "    get_api_token\n",
    "\n",
    ")\n",
    "\n",
    "\n",
    "from src.utils.data_dict import (\n",
    "    data_dict\n",
    ")"
   ]
  },
  {
   "cell_type": "markdown",
   "metadata": {},
   "source": [
    "---"
   ]
  },
  {
   "cell_type": "markdown",
   "metadata": {
    "heading_collapsed": true
   },
   "source": [
    "## AWS base examples"
   ]
  },
  {
   "cell_type": "markdown",
   "metadata": {
    "heading_collapsed": true,
    "hidden": true
   },
   "source": [
    "### S3"
   ]
  },
  {
   "cell_type": "markdown",
   "metadata": {
    "heading_collapsed": true,
    "hidden": true
   },
   "source": [
    "#### Initial configuration"
   ]
  },
  {
   "cell_type": "markdown",
   "metadata": {
    "heading_collapsed": true,
    "hidden": true
   },
   "source": [
    "##### Resource"
   ]
  },
  {
   "cell_type": "raw",
   "metadata": {
    "ExecuteTime": {
     "end_time": "2021-02-20T01:41:59.230292Z",
     "start_time": "2021-02-20T01:41:59.115804Z"
    },
    "hidden": true
   },
   "source": [
    "ses = boto3.session.Session(profile_name=\"robper_dpa\")"
   ]
  },
  {
   "cell_type": "raw",
   "metadata": {
    "ExecuteTime": {
     "end_time": "2021-02-20T01:41:59.696177Z",
     "start_time": "2021-02-20T01:41:59.343490Z"
    },
    "hidden": true
   },
   "source": [
    "s3 = ses.resource(\"s3\")"
   ]
  },
  {
   "cell_type": "raw",
   "metadata": {
    "ExecuteTime": {
     "end_time": "2021-02-20T01:42:00.309962Z",
     "start_time": "2021-02-20T01:41:59.697962Z"
    },
    "hidden": true
   },
   "source": [
    "[buck.name for buck in s3.buckets.all()]"
   ]
  },
  {
   "cell_type": "raw",
   "metadata": {
    "ExecuteTime": {
     "end_time": "2021-02-18T16:07:32.833948Z",
     "start_time": "2021-02-18T16:07:32.812791Z"
    },
    "hidden": true
   },
   "source": [
    "# este archivo yaml vive en tu conf/local/credentials.yaml\n",
    "# este va en src/utils general.py\n",
    "def read_yaml_file(yaml_file):\n",
    "    \"\"\" load yaml cofigurations \"\"\"\n",
    "\n",
    "    config = None\n",
    "    try: \n",
    "        with open (yaml_file, 'r') as f:\n",
    "            config = yaml.safe_load(f)\n",
    "    except:\n",
    "        raise FileNotFoundError('Couldnt load the file')\n",
    "    \n",
    "    return config"
   ]
  },
  {
   "cell_type": "raw",
   "metadata": {
    "ExecuteTime": {
     "end_time": "2021-02-18T16:07:33.153905Z",
     "start_time": "2021-02-18T16:07:33.134152Z"
    },
    "hidden": true
   },
   "source": [
    "# este va en src/utils general.py\n",
    "def get_s3_credentials(credentials_file):\n",
    "    credentials = read_yaml_file(credentials_file)\n",
    "    s3_creds = credentials['s3']\n",
    "\n",
    "    return s3_creds"
   ]
  },
  {
   "cell_type": "markdown",
   "metadata": {
    "heading_collapsed": true,
    "hidden": true
   },
   "source": [
    "##### Client"
   ]
  },
  {
   "cell_type": "code",
   "execution_count": null,
   "metadata": {
    "ExecuteTime": {
     "end_time": "2021-04-18T14:13:12.961762Z",
     "start_time": "2021-04-18T14:13:12.694245Z"
    },
    "hidden": true
   },
   "outputs": [],
   "source": [
    "s3_creds = get_s3_credentials(\"../conf/local/credentials.yaml\")\n",
    "\n",
    "session = boto3.Session(\n",
    "    aws_access_key_id=s3_creds['aws_access_key_id'],\n",
    "    aws_secret_access_key=s3_creds['aws_secret_access_key']\n",
    ")\n",
    "s3 = session.client('s3')"
   ]
  },
  {
   "cell_type": "markdown",
   "metadata": {
    "heading_collapsed": true,
    "hidden": true
   },
   "source": [
    "#### Connecting to existing bucket and viewing contents"
   ]
  },
  {
   "cell_type": "code",
   "execution_count": null,
   "metadata": {
    "ExecuteTime": {
     "end_time": "2021-04-18T15:39:07.650300Z",
     "start_time": "2021-04-18T15:39:07.616571Z"
    },
    "hidden": true
   },
   "outputs": [],
   "source": [
    "bucket = \"data-product-architecture-equipo-9\"\n",
    "key =\"ingestion/consecutive\""
   ]
  },
  {
   "cell_type": "code",
   "execution_count": null,
   "metadata": {
    "ExecuteTime": {
     "end_time": "2021-04-18T15:39:11.029859Z",
     "start_time": "2021-04-18T15:39:10.068873Z"
    },
    "hidden": true,
    "scrolled": true
   },
   "outputs": [],
   "source": [
    "objects = s3.list_objects_v2(Bucket=bucket, Prefix=key)['Contents']\n",
    "objects"
   ]
  },
  {
   "cell_type": "markdown",
   "metadata": {
    "heading_collapsed": true,
    "hidden": true
   },
   "source": [
    "#### Reading pickle from S3"
   ]
  },
  {
   "cell_type": "code",
   "execution_count": null,
   "metadata": {
    "ExecuteTime": {
     "end_time": "2021-04-18T15:39:42.125004Z",
     "start_time": "2021-04-18T15:39:42.093731Z"
    },
    "hidden": true,
    "scrolled": true
   },
   "outputs": [],
   "source": [
    "obj_path = [file[\"Key\"] for file in objects if \"2021-03-18\" in file[\"Key\"]][0]\n",
    "obj_path"
   ]
  },
  {
   "cell_type": "code",
   "execution_count": null,
   "metadata": {
    "ExecuteTime": {
     "end_time": "2021-04-18T15:39:47.721149Z",
     "start_time": "2021-04-18T15:39:45.188918Z"
    },
    "hidden": true,
    "scrolled": true
   },
   "outputs": [],
   "source": [
    "response = s3.get_object(\n",
    "    Bucket=bucket,\n",
    "    Key=obj_path\n",
    ")\n",
    "response"
   ]
  },
  {
   "cell_type": "code",
   "execution_count": null,
   "metadata": {
    "ExecuteTime": {
     "end_time": "2021-04-18T15:40:04.004085Z",
     "start_time": "2021-04-18T15:39:59.540606Z"
    },
    "hidden": true
   },
   "outputs": [],
   "source": [
    "body = response[\"Body\"].read()"
   ]
  },
  {
   "cell_type": "raw",
   "metadata": {
    "ExecuteTime": {
     "end_time": "2021-04-18T14:13:27.781264Z",
     "start_time": "2021-04-18T14:13:27.727017Z"
    },
    "hidden": true
   },
   "source": [
    "body"
   ]
  },
  {
   "cell_type": "markdown",
   "metadata": {
    "hidden": true
   },
   "source": [
    "---"
   ]
  },
  {
   "cell_type": "code",
   "execution_count": null,
   "metadata": {
    "ExecuteTime": {
     "end_time": "2021-04-18T15:40:33.949622Z",
     "start_time": "2021-04-18T15:40:33.513698Z"
    },
    "hidden": true
   },
   "outputs": [],
   "source": [
    "pickle.loads(pickle.loads(body))"
   ]
  },
  {
   "cell_type": "raw",
   "metadata": {
    "ExecuteTime": {
     "end_time": "2021-04-18T14:14:10.730987Z",
     "start_time": "2021-04-18T14:14:09.180941Z"
    },
    "hidden": true
   },
   "source": [
    "pickle.loads(response[\"Body\"].read())"
   ]
  },
  {
   "cell_type": "raw",
   "metadata": {
    "ExecuteTime": {
     "end_time": "2021-04-18T13:07:50.164005Z",
     "start_time": "2021-04-18T13:07:50.130148Z"
    },
    "hidden": true
   },
   "source": [
    "from io import BytesIO\n",
    "import pickle\n",
    "\n",
    "pickle.load(BytesIO(body))"
   ]
  },
  {
   "cell_type": "raw",
   "metadata": {
    "ExecuteTime": {
     "end_time": "2021-04-18T13:11:48.175336Z",
     "start_time": "2021-04-18T13:11:48.135735Z"
    },
    "hidden": true
   },
   "source": [
    "import cPickle\n",
    "cPickle.loads(body)"
   ]
  },
  {
   "cell_type": "markdown",
   "metadata": {
    "heading_collapsed": true,
    "hidden": true
   },
   "source": [
    "#### Creating bucket"
   ]
  },
  {
   "cell_type": "code",
   "execution_count": null,
   "metadata": {
    "ExecuteTime": {
     "end_time": "2021-04-18T15:14:11.966042Z",
     "start_time": "2021-04-18T15:14:10.575056Z"
    },
    "hidden": true
   },
   "outputs": [],
   "source": [
    "bucket_name = \"comdline-test-bucket-rob\"\n",
    "\n",
    "s3.create_bucket(\n",
    "    Bucket=bucket_name,\n",
    "    CreateBucketConfiguration={'LocationConstraint': 'us-west-2'},\n",
    "    ACL=\"private\"\n",
    ")"
   ]
  },
  {
   "cell_type": "markdown",
   "metadata": {
    "heading_collapsed": true,
    "hidden": true
   },
   "source": [
    "#### Uploading file to bucket"
   ]
  },
  {
   "cell_type": "code",
   "execution_count": null,
   "metadata": {
    "ExecuteTime": {
     "end_time": "2021-02-18T01:47:41.937898Z",
     "start_time": "2021-02-18T01:47:41.935447Z"
    },
    "hidden": true
   },
   "outputs": [],
   "source": [
    "file_to_upload = \"../../admin/test_file3_for_s3.txt\"\n",
    "file_name = file_to_upload.split(sep=\"/\")[-1]"
   ]
  },
  {
   "cell_type": "code",
   "execution_count": null,
   "metadata": {
    "ExecuteTime": {
     "end_time": "2021-02-18T01:48:39.542875Z",
     "start_time": "2021-02-18T01:48:39.079182Z"
    },
    "hidden": true
   },
   "outputs": [],
   "source": [
    "# s3.upload_file(file_to_upload, bucket_name, file_name)\n",
    "\n",
    "s3.meta.client.upload_file(file_to_upload, bucket_name, file_name)"
   ]
  },
  {
   "cell_type": "code",
   "execution_count": null,
   "metadata": {
    "ExecuteTime": {
     "end_time": "2021-02-18T01:49:03.922917Z",
     "start_time": "2021-02-18T01:49:03.491793Z"
    },
    "hidden": true
   },
   "outputs": [],
   "source": [
    "[obj for obj in s3.Bucket(bucket_name).objects.all()]"
   ]
  },
  {
   "cell_type": "markdown",
   "metadata": {
    "heading_collapsed": true,
    "hidden": true
   },
   "source": [
    "#### Downloading files from bucket"
   ]
  },
  {
   "cell_type": "code",
   "execution_count": null,
   "metadata": {
    "ExecuteTime": {
     "end_time": "2021-02-18T01:51:37.417192Z",
     "start_time": "2021-02-18T01:51:36.946491Z"
    },
    "hidden": true
   },
   "outputs": [],
   "source": [
    "path_to_download = \"/Users/rp_mbp/Documents/ReposRob_RobPer/ITAMmcd/semestre_2/Arquitectura_Prod_Dat/Venv_ArqPD/repos/dpa_2021/_robdir/\" + file_name\n",
    "\n",
    "s3.meta.client.download_file(bucket_name, file_name, path_to_download)"
   ]
  },
  {
   "cell_type": "markdown",
   "metadata": {
    "heading_collapsed": true,
    "hidden": true
   },
   "source": [
    "#### Deleting bucket files"
   ]
  },
  {
   "cell_type": "code",
   "execution_count": null,
   "metadata": {
    "ExecuteTime": {
     "end_time": "2021-02-18T01:52:49.940565Z",
     "start_time": "2021-02-18T01:52:49.589748Z"
    },
    "hidden": true
   },
   "outputs": [],
   "source": [
    "s3.Object(bucket_name, file_name).delete()"
   ]
  },
  {
   "cell_type": "markdown",
   "metadata": {
    "hidden": true
   },
   "source": [
    "---"
   ]
  },
  {
   "cell_type": "markdown",
   "metadata": {
    "hidden": true
   },
   "source": [
    "#### Deleting bucket"
   ]
  },
  {
   "cell_type": "markdown",
   "metadata": {
    "heading_collapsed": true
   },
   "source": [
    "## Downloading and storing Chicago data"
   ]
  },
  {
   "cell_type": "markdown",
   "metadata": {
    "hidden": true
   },
   "source": [
    "#### Interacting with API"
   ]
  },
  {
   "cell_type": "code",
   "execution_count": 12,
   "metadata": {
    "ExecuteTime": {
     "end_time": "2021-04-19T16:55:11.613802Z",
     "start_time": "2021-04-19T16:55:11.579989Z"
    },
    "hidden": true
   },
   "outputs": [],
   "source": [
    "dataset_id = \"4ijn-s7e5\""
   ]
  },
  {
   "cell_type": "code",
   "execution_count": 13,
   "metadata": {
    "ExecuteTime": {
     "end_time": "2021-04-19T16:55:12.143166Z",
     "start_time": "2021-04-19T16:55:12.105837Z"
    },
    "hidden": true
   },
   "outputs": [
    {
     "data": {
      "text/plain": [
       "'5HfsId12lhMMzSlYANoAq451w'"
      ]
     },
     "execution_count": 13,
     "metadata": {},
     "output_type": "execute_result"
    }
   ],
   "source": [
    "token = get_api_token(\"../conf/local/credentials.yaml\")\n",
    "token"
   ]
  },
  {
   "cell_type": "code",
   "execution_count": 14,
   "metadata": {
    "ExecuteTime": {
     "end_time": "2021-04-19T16:55:12.993650Z",
     "start_time": "2021-04-19T16:55:12.958706Z"
    },
    "hidden": true
   },
   "outputs": [
    {
     "data": {
      "text/plain": [
       "<sodapy.socrata.Socrata at 0x15fc2fc10>"
      ]
     },
     "execution_count": 14,
     "metadata": {},
     "output_type": "execute_result"
    }
   ],
   "source": [
    "client = get_client(token)\n",
    "client"
   ]
  },
  {
   "cell_type": "raw",
   "metadata": {
    "ExecuteTime": {
     "end_time": "2021-02-22T23:32:13.384573Z",
     "start_time": "2021-02-22T23:32:13.365595Z"
    },
    "hidden": true
   },
   "source": [
    "y = client.get_all(dataset_id)"
   ]
  },
  {
   "cell_type": "code",
   "execution_count": 15,
   "metadata": {
    "ExecuteTime": {
     "end_time": "2021-04-19T16:55:14.304034Z",
     "start_time": "2021-04-19T16:55:14.269556Z"
    },
    "hidden": true
   },
   "outputs": [],
   "source": [
    "most_rec_date = '2021-04-10'"
   ]
  },
  {
   "cell_type": "code",
   "execution_count": 16,
   "metadata": {
    "ExecuteTime": {
     "end_time": "2021-04-19T16:55:14.750294Z",
     "start_time": "2021-04-19T16:55:14.713859Z"
    },
    "hidden": true
   },
   "outputs": [
    {
     "data": {
      "text/plain": [
       "\"inspection_date >= '2021-04-10'\""
      ]
     },
     "execution_count": 16,
     "metadata": {},
     "output_type": "execute_result"
    }
   ],
   "source": [
    "soql_query = \"inspection_date >= '{}'\".format(most_rec_date)\n",
    "soql_query"
   ]
  },
  {
   "cell_type": "code",
   "execution_count": 17,
   "metadata": {
    "ExecuteTime": {
     "end_time": "2021-04-19T16:55:18.580540Z",
     "start_time": "2021-04-19T16:55:15.226479Z"
    },
    "hidden": true
   },
   "outputs": [],
   "source": [
    "x = client.get(dataset_id, \n",
    "               limit=10,\n",
    "               where=soql_query\n",
    "              )"
   ]
  },
  {
   "cell_type": "code",
   "execution_count": 18,
   "metadata": {
    "ExecuteTime": {
     "end_time": "2021-04-19T16:55:18.620995Z",
     "start_time": "2021-04-19T16:55:18.582205Z"
    },
    "hidden": true
   },
   "outputs": [
    {
     "data": {
      "text/plain": [
       "[{'inspection_id': '2500305',\n",
       "  'dba_name': '7-ELEVEN #38948H',\n",
       "  'aka_name': '7-ELEVEN',\n",
       "  'license_': '2738590',\n",
       "  'facility_type': 'Grocery Store',\n",
       "  'risk': 'Risk 2 (Medium)',\n",
       "  'address': '2366 N DAMEN AVE ',\n",
       "  'city': 'CHICAGO',\n",
       "  'state': 'IL',\n",
       "  'zip': '60647',\n",
       "  'inspection_date': '2021-04-16T00:00:00.000',\n",
       "  'inspection_type': 'Canvass',\n",
       "  'results': 'Out of Business',\n",
       "  'latitude': '41.924737806379355',\n",
       "  'longitude': '-87.67802914773546',\n",
       "  'location': {'latitude': '-87.67802914773546',\n",
       "   'longitude': '41.924737806379355'}},\n",
       " {'inspection_id': '2500264',\n",
       "  'dba_name': 'UNCLE REMUS',\n",
       "  'aka_name': 'UNCLE REMUS PLUS GUILTY PLEASURES',\n",
       "  'license_': '2642353',\n",
       "  'facility_type': 'Restaurant',\n",
       "  'risk': 'Risk 1 (High)',\n",
       "  'address': '4731 W MADISON ST ',\n",
       "  'city': 'CHICAGO',\n",
       "  'state': 'IL',\n",
       "  'zip': '60644',\n",
       "  'inspection_date': '2021-04-15T00:00:00.000',\n",
       "  'inspection_type': 'Complaint Re-Inspection',\n",
       "  'results': 'Pass',\n",
       "  'latitude': '41.88040118054544',\n",
       "  'longitude': '-87.74408951751022',\n",
       "  'location': {'latitude': '-87.74408951751022',\n",
       "   'longitude': '41.88040118054544'}},\n",
       " {'inspection_id': '2500241',\n",
       "  'dba_name': 'DUNKIN DONUTS',\n",
       "  'aka_name': 'DUNKIN DONUTS (T2  F9)',\n",
       "  'license_': '2630933',\n",
       "  'facility_type': 'Restaurant',\n",
       "  'risk': 'Risk 2 (Medium)',\n",
       "  'address': '11601 W TOUHY AVE ',\n",
       "  'city': 'CHICAGO',\n",
       "  'state': 'IL',\n",
       "  'zip': '60666',\n",
       "  'inspection_date': '2021-04-14T00:00:00.000',\n",
       "  'inspection_type': 'Canvass',\n",
       "  'results': 'Pass',\n",
       "  'violations': '36. THERMOMETERS PROVIDED & ACCURATE - Comments: INSTRUCTED TO PROVIDE THERMOMETER VISIBLE AND ACCURATE INSIDE ALL COOLERS.',\n",
       "  'latitude': '42.008536400868735',\n",
       "  'longitude': '-87.91442843927047',\n",
       "  'location': {'latitude': '-87.91442843927047',\n",
       "   'longitude': '42.008536400868735'}},\n",
       " {'inspection_id': '2500239',\n",
       "  'dba_name': 'CRAGIN PUBLIC COFFEE',\n",
       "  'aka_name': 'CRAGIN PUBLIC COFFEE',\n",
       "  'license_': '2780866',\n",
       "  'facility_type': 'Restaurant',\n",
       "  'risk': 'Risk 2 (Medium)',\n",
       "  'address': '3150 N CENTRAL AVE ',\n",
       "  'city': 'CHICAGO',\n",
       "  'state': 'IL',\n",
       "  'zip': '60634',\n",
       "  'inspection_date': '2021-04-14T00:00:00.000',\n",
       "  'inspection_type': 'License',\n",
       "  'results': 'Fail',\n",
       "  'violations': '3. MANAGEMENT, FOOD EMPLOYEE AND CONDITIONAL EMPLOYEE; KNOWLEDGE, RESPONSIBILITIES AND REPORTING - Comments: OBSERVED NO WRITTEN EMPLOYEE HEALTH POLICY ON THE PREMISES. MANAGEMENT INSTRUCTED TO PROVIDE A SIGNED EMPLOYEE HEALTH POLICY FOR EACH EMPLOYEE. PRIORITY FOUNDATION VIOLATION 7-38-010, NO CITATION ISSUED. | 5. PROCEDURES FOR RESPONDING TO VOMITING AND DIARRHEAL EVENTS - Comments: OBSERVED NO PROCEDURE/PLAN FOR RESPONDING TO VOMITING AND DIARRHEAL EVENTS. INSTRUCTED TO PROVIDE AND MAINTAIN REQUIRED PROCEDURE/PLAN AND APPROPRIATE SUPPLIES OR KIT. (NECESSARY ITEMS AT A MINIMUM: GLOVES, FACE MASKS, DISPOSABLE MOPS, AND APPROPRIATE SANITIZER/SPRAY THAT IS EFFECTIVE AGAINST NOROVIRUS). PRIORITY FOUNDATION VIOLATION 7-38-005, NO CITATION ISSUED. | 10. ADEQUATE HANDWASHING SINKS PROPERLY SUPPLIED AND ACCESSIBLE - Comments: INSTRUCTED MANAGEMENT TO PROVIDE A HANDWASHING SINK ACCESSIBLE TO THE REAR 3-COMPARTMENT SINK AREA WITH HOT AND COLD RUNNING WATER, SUPPLIED WITH SOAP AND HAND PAPERTOWELS. PRIORITY FOUNDATION VIOLATION 7-38-030(C), NO CITATION ISSUED. | 36. THERMOMETERS PROVIDED & ACCURATE - Comments: OBSERVED NO METAL STEM THERMOMETER FOR TAKING FOOD TEMPERATURES.MUST PROVIDE AND MAINTAIN.PRIORITY FOUNDATION VIOLATION 7-38-005,NO CITATION ISSUED. | 38. INSECTS, RODENTS, & ANIMALS NOT PRESENT - Comments: OBSERVED NO LICENSED PEST CONTROL LOGBOOK AVAILABLE ON THE PREMISES.INSTRUCTED TO PROVIDE A PEST CONTROL LOG BOOK WITH ALL REQUIRED DOCUMENTS  (CONTRACT/SERVICE AGREEMENT, SERVICE REPORT, CHEMICALS USED ETC.) PRIORITY FOUNDATION VIOLATION 7-38-020 (C),NO CITATION ISSUED. | 39. CONTAMINATION PREVENTED DURING FOOD PREPARATION, STORAGE & DISPLAY - Comments: OBSERVED THE COFFEE PREPARATION AREA NOT PROTECTED FROM CONTAMINATION BY THE PUBLIC. MUST PROVIDE A PHYSICAL BARRIER AT THE ENTRANCE TO PREVENT CUSTOMERS FROM ENTERING THE COFFEE PREPARATION AREA.PRIORITY FOUNDATION VIOLATION 7-38-005,NO CITATION ISSUED. | 48. WAREWASHING FACILITIES: INSTALLED, MAINTAINED & USED; TEST STRIPS - Comments: OBSERVED LARGE PLASTIC CONTAINERS TOO LARGE TO FULLY SUBMERGE IN EXISTING 3- COMPARTMENT SINK TO PROPERLY WASH, RINSE AND SANITIZE.INSTRUCTED MANAGEMENT TO REMOVE OVERSIZED FOOD EQUIPMENTS;MULTI-USE KITCHEN UTENSILS OR REPLACE 3-COMPARTMENT SINK SINK COMPARTMENTS MUST BE LARGE ENOUGH TO COMPLETELY SUBMERGE THE LARGEST PIECE OF EQUIPMENT AND UTENSILS AS REQUIRED OR PROVIDE AN APPROVED METHOD (AND DEMONSTRATE) TO PROPERLY WASH, RINSE AND SANITIZE ALL UTENSILS. PRIORITY FOUNDATION VIOLATION 7-38-025,NO CITATION ISSUED.   | 51. PLUMBING INSTALLED; PROPER BACKFLOW DEVICES - Comments: BACKFLOW PREVENTION DEVICES NOT LOCATED AT ICE MACHINE, HOT WATER DISPENSER AND COFFEE/ESPRESSO MACHINE.MUST INSTALL SO BACKFLOW PREVENTION DEVICES MAY BE LOCATED TO BE SERVICED AND MAINTAINED. | 53. TOILET FACILITIES: PROPERLY CONSTRUCTED, SUPPLIED, & CLEANED - Comments: OBSERVED NO COVERED WASTE RECEPTACLE PROVIDED IN THE UNISEX WASHROOM. MUST PROVIDE AND MAINTAIN. | 55. PHYSICAL FACILITIES INSTALLED, MAINTAINED & CLEAN - Comments: OBSERVED EXPOSED ROUGH BRICK WALLS WITH CRACKS, CREVICES AND OPENINGS BEHIND THE FRONT COFFEE PREP AREA. INSTRUCTED TO REPAIR, FINISH AND SEAL EXPOSED BRICK WALLS FROM FLOOR TO CEILING TO BE SMOOTH, NON-ABSORBENT AND EASILY CLEANABLE SURFACES. | 55. PHYSICAL FACILITIES INSTALLED, MAINTAINED & CLEAN - Comments: OBSERVED NOTICEABLE OPENINGS HOLES ON FLOOR THROUGHOUT THE DINING AREAS MUST BE SEALED SO AS SURFACES ARE SMOOTH,AND EASILY CLEANABLE AND NON-ABSORBENT. | 56. ADEQUATE VENTILATION & LIGHTING; DESIGNATED AREAS USED - Comments: INSTRUCTED TO PROVIDE LIGHT SHIELDS WITH END-CAPS FOR LIGHT ALL FIXTURES BEHIND FRONT COFFEE PREP/3-COMPARTMENT SINK AREAS OR SHATTER-PROOF LIGHT BULBS. ',\n",
       "  'latitude': '41.93825446024883',\n",
       "  'longitude': '-87.76663539027273',\n",
       "  'location': {'latitude': '-87.76663539027273',\n",
       "   'longitude': '41.93825446024883'}},\n",
       " {'inspection_id': '2498204',\n",
       "  'dba_name': 'IRISH AMERICAN HERITAGE CENTER',\n",
       "  'aka_name': 'IRISH AMERICAN HERITAGE CENTER',\n",
       "  'license_': '40543',\n",
       "  'facility_type': 'Restaurant',\n",
       "  'risk': 'Risk 1 (High)',\n",
       "  'address': '4626 N KNOX AVE ',\n",
       "  'city': 'CHICAGO',\n",
       "  'state': 'IL',\n",
       "  'zip': '60630',\n",
       "  'inspection_date': '2021-04-14T00:00:00.000',\n",
       "  'inspection_type': 'Non-Inspection',\n",
       "  'results': 'No Entry',\n",
       "  'latitude': '41.965242580480265',\n",
       "  'longitude': '-87.74411673243358',\n",
       "  'location': {'latitude': '-87.74411673243358',\n",
       "   'longitude': '41.965242580480265'}},\n",
       " {'inspection_id': '2498188',\n",
       "  'dba_name': 'EL TEXCAL RESTAURANT',\n",
       "  'aka_name': 'EL TEXCAL RESTAURANT',\n",
       "  'license_': '2652423',\n",
       "  'facility_type': 'Restaurant',\n",
       "  'risk': 'Risk 1 (High)',\n",
       "  'address': '3700 W LAWRENCE AVE ',\n",
       "  'city': 'CHICAGO',\n",
       "  'state': 'IL',\n",
       "  'zip': '60625',\n",
       "  'inspection_date': '2021-04-14T00:00:00.000',\n",
       "  'inspection_type': 'Canvass Re-Inspection',\n",
       "  'results': 'Pass',\n",
       "  'latitude': '41.96843111302068',\n",
       "  'longitude': '-87.72076005083134',\n",
       "  'location': {'latitude': '-87.72076005083134',\n",
       "   'longitude': '41.96843111302068'}},\n",
       " {'inspection_id': '2498186',\n",
       "  'dba_name': \"HOLIDAY INN CHICAGO O'HARE\",\n",
       "  'aka_name': 'HOLIDAY INN/BAR LOUIE',\n",
       "  'license_': '1518913',\n",
       "  'facility_type': 'Restaurant',\n",
       "  'risk': 'Risk 1 (High)',\n",
       "  'address': '5615 N CUMBERLAND AVE ',\n",
       "  'city': 'CHICAGO',\n",
       "  'state': 'IL',\n",
       "  'zip': '60631',\n",
       "  'inspection_date': '2021-04-13T00:00:00.000',\n",
       "  'inspection_type': 'Complaint',\n",
       "  'results': 'Fail',\n",
       "  'violations': '2. CITY OF CHICAGO FOOD SERVICE SANITATION CERTIFICATE - Comments: FOUND NO CERTIFIED FOOD MANAGER ON SITE WHILE TCS FOODS (BEEF, CHICKEN, SALAD, SANDWICHES ETC) ARE BEING PREPARED AND SERVED. INSTRUCTED PERSON IN CHARGE, A CERIFIED FOOD MANAGER WITH CITY OF CHICAGO FOODSERVICE SANITATION CERTIFICATE MUST BE PRESENT WHEN HANDLING TCS FOODS. PRIORITY FOUNDATION VIOLATION 7-38-012    CITATION ISSUED  | 3. MANAGEMENT, FOOD EMPLOYEE AND CONDITIONAL EMPLOYEE; KNOWLEDGE, RESPONSIBILITIES AND REPORTING - Comments: FOUND NO EMPLOYEE HEALTH POLICY/TRAINING ON SITE. INSTRUCTED TO PROVIDE A SIGNED EMPLOYEE HEALTH POLICY FOR EACH EMPLOYEE. PRIORITY FOUNDATION VIOLATION 7-38-010    NO CITATION ISSUED | 25. CONSUMER ADVISORY PROVIDED FOR RAW/UNDERCOOKED FOOD - Comments: FOUND NO CONSUMER ADVISORY OR DISCLOSURE AND REMINDER POSTED AND ON MENUS FOR RAW/UNDERCOOKED FOODS. INSTRUCTED TO PROVIDE.   PRIORITY FOUNDATION VIOLATION 7-38-005    NO CITATION ISSUED   | 36. THERMOMETERS PROVIDED & ACCURATE - Comments: INSTRUCTED TO PROVIDE THERMOMETER VISIBLE AND ACCURATE INSIDE (2) PREP COOLER IN PREP/COOKING LINE. | 49. NON-FOOD/FOOD CONTACT SURFACES CLEAN - Comments: INSTRUCTED TO DETAIL CLEAN AND MAINTAIN HOT HOLDING PREP LINE WITH GREASE AND  DRIED FOOD DEBRIS ACCUMULATION. | 52. SEWAGE & WASTE WATER PROPERLY DISPOSED - Comments: FOUND 4 COMPARTMENT SINK IN REAR DISHWASHING AREA NOT PROPERLY MAINTAINED. WASTE WATER AND FOOD DEBRIS BACKING UP FROM ONE COMPARTMENT INTO ANOTHER COMPARTMENT WHEN WATER IS RELEASED FROM ONE COMPARTMENT. INSTRUCTED TO FIX AND MAINTAIN. INSTRUCTED TO TEMPORARILY USE HIGH TEMPERATURE DISHWASHING MACHINE (FINAL SANITIZING RINSE OF 190F). ISSUED 2 DAY NOTICE. PRIORITY VIOLATION   7-38-030 (C)    CITATION ISSUED | 54. GARBAGE & REFUSE PROPERLY DISPOSED; FACILITIES MAINTAINED - Comments: INSTRUCTED TO DETAIL CLEAN AND MAINTAIN REAR OUTSIDE GARBAGE AREA. NOTED SOME LITTER ON GROUND. | 55. PHYSICAL FACILITIES INSTALLED, MAINTAINED & CLEAN - Comments: INSTRUCTED TO DETAIL CLEAN AND MAINTAIN LIGHTSHIELDS WITH DEAD INSECTS ABOVE REAR PREP AREA. | 55. PHYSICAL FACILITIES INSTALLED, MAINTAINED & CLEAN - Comments: INSTRUCTED TO DETAIL CLEAN AND MAINTAIN FLOORS WITH EXCESSIVE DRIED FOOD DEBRIS UNDERNEATH DISHMACHINE IN REAR PREP/DISHWASHING AREA | 60. PREVIOUS CORE VIOLATION CORRECTED - Comments: PREVIOUS CORE VIOLATION NOT CORRECTED FROM INSPECTION REPORT# 2454074 ISSUED ON 10-30-2020 PRIORITY FOUNDATION VIOLATION 7-42-090  NO CITATION ISSUED  #47 - NOTED COVER FOR ICE BIN BEHIND BAR NOT CLOSING PROPERLY. INSTRUCTED TO PROVIDE TIGHT FITTING COVER/LID FOR ICE BIN.\\t #47 - NOTED CUTTING BOARD ON TOP OF (2) PREP COOLER IN PREP/COOKING LINE WITH STAIN AND DEEP SEAMS. INSTRUCTED TO REFINISH OR REPLACE. #49 - INSTRUCTED TO DETAIL CLEAN AND MAINTAIN STORAGE METAL RACKS WITH EXCESSIVE MOLDLIKE ACCUMULATION INSIDE WALK-IN COOLER.\\t #55 - INSTRUCTED TO REPAIR LOOSE FLOOR TILES BY THE DISHMACHINE IN PREP/DISHWASHING AREA. #55 - INSTRUCTED TO DETAIL CLEAN AND MAINTAIN FLOORS UNDER AND AROUND ICE BIN BEHIND THE BAR TO PREVENT PEST HARBORAGE. #57 - FOOD HANDLER (S) WITH NO PROOF OF FOOD HANDLER TRAINING CERTIFICATE. INSTRUCTED TO PROVIDE. #58 - FOUND NO APPROVED ALLERGEN TRAINING IN ACCORDANCE WITH PA 100-0367 ON SITE. INSTRUCTED ANY PERSON WITH CITY OF CHICAGO FOOD SERVICE SANITATION CERTIFICATE TO COMPLY WITH ALLERGEN TRAINING.   | 61. SUMMARY REPORT DISPLAYED AND VISIBLE TO THE PUBLIC - Comments: FOUND NO INSPECTION SUMMARY REPORT (10-30-2020) POSTED ON PREMISE. INSTRUCTED MANAGER, A SUMMARY REPORT MUST BE DISPLAYED AND VISIBLE TO THE PUBLIC.  PRIORITY FOUNDATION VIOLATION 7-42-010 7-42-010 (B)    NO  CITATION ISSUED',\n",
       "  'latitude': '41.98142816417737',\n",
       "  'longitude': '-87.83643430209348',\n",
       "  'location': {'latitude': '-87.83643430209348',\n",
       "   'longitude': '41.98142816417737'}},\n",
       " {'inspection_id': '2498184',\n",
       "  'dba_name': 'BLUE BOTTLE COFFEE',\n",
       "  'aka_name': 'BLUE BOTTLE COFFEE',\n",
       "  'license_': '2776561',\n",
       "  'risk': 'Risk 2 (Medium)',\n",
       "  'address': '313 W WOLF POINT PLZ ',\n",
       "  'city': 'CHICAGO',\n",
       "  'state': 'IL',\n",
       "  'zip': '60654',\n",
       "  'inspection_date': '2021-04-13T00:00:00.000',\n",
       "  'inspection_type': 'License',\n",
       "  'results': 'Not Ready',\n",
       "  'latitude': '41.88780561739225',\n",
       "  'longitude': '-87.63682820571593',\n",
       "  'location': {'latitude': '-87.63682820571593',\n",
       "   'longitude': '41.88780561739225'}},\n",
       " {'inspection_id': '2498202',\n",
       "  'dba_name': 'TATAS TACOS',\n",
       "  'aka_name': 'TATAS TACOS',\n",
       "  'license_': '2781098',\n",
       "  'facility_type': 'Restaurant',\n",
       "  'risk': 'Risk 1 (High)',\n",
       "  'address': '2826 N LINCOLN AVE ',\n",
       "  'city': 'CHICAGO',\n",
       "  'state': 'IL',\n",
       "  'zip': '60657',\n",
       "  'inspection_date': '2021-04-13T00:00:00.000',\n",
       "  'inspection_type': 'License',\n",
       "  'results': 'Pass',\n",
       "  'latitude': '41.93310149870225',\n",
       "  'longitude': '-87.65968295657315',\n",
       "  'location': {'latitude': '-87.65968295657315',\n",
       "   'longitude': '41.93310149870225'}},\n",
       " {'inspection_id': '2500253',\n",
       "  'dba_name': 'RealGood Stuff Co',\n",
       "  'aka_name': 'Real Good Stuff',\n",
       "  'license_': '2780825',\n",
       "  'facility_type': 'Restaurant',\n",
       "  'risk': 'Risk 3 (Low)',\n",
       "  'address': '2275 N LINCOLN AVE ',\n",
       "  'city': 'CHICAGO',\n",
       "  'state': 'IL',\n",
       "  'zip': '60614',\n",
       "  'inspection_date': '2021-04-13T00:00:00.000',\n",
       "  'inspection_type': 'License Re-Inspection',\n",
       "  'results': 'Pass w/ Conditions',\n",
       "  'latitude': '41.92361620972698',\n",
       "  'longitude': '-87.64599112233753',\n",
       "  'location': {'latitude': '-87.64599112233753',\n",
       "   'longitude': '41.92361620972698'}}]"
      ]
     },
     "execution_count": 18,
     "metadata": {},
     "output_type": "execute_result"
    }
   ],
   "source": [
    "x"
   ]
  },
  {
   "cell_type": "code",
   "execution_count": 19,
   "metadata": {
    "ExecuteTime": {
     "end_time": "2021-04-19T16:55:24.421987Z",
     "start_time": "2021-04-19T16:55:24.388137Z"
    },
    "hidden": true
   },
   "outputs": [
    {
     "data": {
      "text/plain": [
       "10"
      ]
     },
     "execution_count": 19,
     "metadata": {},
     "output_type": "execute_result"
    }
   ],
   "source": [
    "len(x)"
   ]
  },
  {
   "cell_type": "code",
   "execution_count": 21,
   "metadata": {
    "ExecuteTime": {
     "end_time": "2021-04-19T23:49:53.870155Z",
     "start_time": "2021-04-19T23:49:53.703397Z"
    },
    "hidden": true,
    "scrolled": true
   },
   "outputs": [
    {
     "data": {
      "text/html": [
       "<div>\n",
       "<style scoped>\n",
       "    .dataframe tbody tr th:only-of-type {\n",
       "        vertical-align: middle;\n",
       "    }\n",
       "\n",
       "    .dataframe tbody tr th {\n",
       "        vertical-align: top;\n",
       "    }\n",
       "\n",
       "    .dataframe thead th {\n",
       "        text-align: right;\n",
       "    }\n",
       "</style>\n",
       "<table border=\"1\" class=\"dataframe\">\n",
       "  <thead>\n",
       "    <tr style=\"text-align: right;\">\n",
       "      <th></th>\n",
       "      <th>inspection_id</th>\n",
       "      <th>dba_name</th>\n",
       "      <th>aka_name</th>\n",
       "      <th>license_</th>\n",
       "      <th>facility_type</th>\n",
       "      <th>risk</th>\n",
       "      <th>address</th>\n",
       "      <th>city</th>\n",
       "      <th>state</th>\n",
       "      <th>zip</th>\n",
       "      <th>inspection_date</th>\n",
       "      <th>inspection_type</th>\n",
       "      <th>results</th>\n",
       "      <th>latitude</th>\n",
       "      <th>longitude</th>\n",
       "      <th>location</th>\n",
       "      <th>violations</th>\n",
       "    </tr>\n",
       "  </thead>\n",
       "  <tbody>\n",
       "    <tr>\n",
       "      <th>0</th>\n",
       "      <td>2500305</td>\n",
       "      <td>7-ELEVEN #38948H</td>\n",
       "      <td>7-ELEVEN</td>\n",
       "      <td>2738590</td>\n",
       "      <td>Grocery Store</td>\n",
       "      <td>Risk 2 (Medium)</td>\n",
       "      <td>2366 N DAMEN AVE</td>\n",
       "      <td>CHICAGO</td>\n",
       "      <td>IL</td>\n",
       "      <td>60647</td>\n",
       "      <td>2021-04-16T00:00:00.000</td>\n",
       "      <td>Canvass</td>\n",
       "      <td>Out of Business</td>\n",
       "      <td>41.924737806379355</td>\n",
       "      <td>-87.67802914773546</td>\n",
       "      <td>{'latitude': '-87.67802914773546', 'longitude'...</td>\n",
       "      <td>NaN</td>\n",
       "    </tr>\n",
       "    <tr>\n",
       "      <th>1</th>\n",
       "      <td>2500264</td>\n",
       "      <td>UNCLE REMUS</td>\n",
       "      <td>UNCLE REMUS PLUS GUILTY PLEASURES</td>\n",
       "      <td>2642353</td>\n",
       "      <td>Restaurant</td>\n",
       "      <td>Risk 1 (High)</td>\n",
       "      <td>4731 W MADISON ST</td>\n",
       "      <td>CHICAGO</td>\n",
       "      <td>IL</td>\n",
       "      <td>60644</td>\n",
       "      <td>2021-04-15T00:00:00.000</td>\n",
       "      <td>Complaint Re-Inspection</td>\n",
       "      <td>Pass</td>\n",
       "      <td>41.88040118054544</td>\n",
       "      <td>-87.74408951751022</td>\n",
       "      <td>{'latitude': '-87.74408951751022', 'longitude'...</td>\n",
       "      <td>NaN</td>\n",
       "    </tr>\n",
       "    <tr>\n",
       "      <th>2</th>\n",
       "      <td>2500241</td>\n",
       "      <td>DUNKIN DONUTS</td>\n",
       "      <td>DUNKIN DONUTS (T2  F9)</td>\n",
       "      <td>2630933</td>\n",
       "      <td>Restaurant</td>\n",
       "      <td>Risk 2 (Medium)</td>\n",
       "      <td>11601 W TOUHY AVE</td>\n",
       "      <td>CHICAGO</td>\n",
       "      <td>IL</td>\n",
       "      <td>60666</td>\n",
       "      <td>2021-04-14T00:00:00.000</td>\n",
       "      <td>Canvass</td>\n",
       "      <td>Pass</td>\n",
       "      <td>42.008536400868735</td>\n",
       "      <td>-87.91442843927047</td>\n",
       "      <td>{'latitude': '-87.91442843927047', 'longitude'...</td>\n",
       "      <td>36. THERMOMETERS PROVIDED &amp; ACCURATE - Comment...</td>\n",
       "    </tr>\n",
       "    <tr>\n",
       "      <th>3</th>\n",
       "      <td>2500239</td>\n",
       "      <td>CRAGIN PUBLIC COFFEE</td>\n",
       "      <td>CRAGIN PUBLIC COFFEE</td>\n",
       "      <td>2780866</td>\n",
       "      <td>Restaurant</td>\n",
       "      <td>Risk 2 (Medium)</td>\n",
       "      <td>3150 N CENTRAL AVE</td>\n",
       "      <td>CHICAGO</td>\n",
       "      <td>IL</td>\n",
       "      <td>60634</td>\n",
       "      <td>2021-04-14T00:00:00.000</td>\n",
       "      <td>License</td>\n",
       "      <td>Fail</td>\n",
       "      <td>41.93825446024883</td>\n",
       "      <td>-87.76663539027273</td>\n",
       "      <td>{'latitude': '-87.76663539027273', 'longitude'...</td>\n",
       "      <td>3. MANAGEMENT, FOOD EMPLOYEE AND CONDITIONAL E...</td>\n",
       "    </tr>\n",
       "    <tr>\n",
       "      <th>4</th>\n",
       "      <td>2498204</td>\n",
       "      <td>IRISH AMERICAN HERITAGE CENTER</td>\n",
       "      <td>IRISH AMERICAN HERITAGE CENTER</td>\n",
       "      <td>40543</td>\n",
       "      <td>Restaurant</td>\n",
       "      <td>Risk 1 (High)</td>\n",
       "      <td>4626 N KNOX AVE</td>\n",
       "      <td>CHICAGO</td>\n",
       "      <td>IL</td>\n",
       "      <td>60630</td>\n",
       "      <td>2021-04-14T00:00:00.000</td>\n",
       "      <td>Non-Inspection</td>\n",
       "      <td>No Entry</td>\n",
       "      <td>41.965242580480265</td>\n",
       "      <td>-87.74411673243358</td>\n",
       "      <td>{'latitude': '-87.74411673243358', 'longitude'...</td>\n",
       "      <td>NaN</td>\n",
       "    </tr>\n",
       "    <tr>\n",
       "      <th>5</th>\n",
       "      <td>2498188</td>\n",
       "      <td>EL TEXCAL RESTAURANT</td>\n",
       "      <td>EL TEXCAL RESTAURANT</td>\n",
       "      <td>2652423</td>\n",
       "      <td>Restaurant</td>\n",
       "      <td>Risk 1 (High)</td>\n",
       "      <td>3700 W LAWRENCE AVE</td>\n",
       "      <td>CHICAGO</td>\n",
       "      <td>IL</td>\n",
       "      <td>60625</td>\n",
       "      <td>2021-04-14T00:00:00.000</td>\n",
       "      <td>Canvass Re-Inspection</td>\n",
       "      <td>Pass</td>\n",
       "      <td>41.96843111302068</td>\n",
       "      <td>-87.72076005083134</td>\n",
       "      <td>{'latitude': '-87.72076005083134', 'longitude'...</td>\n",
       "      <td>NaN</td>\n",
       "    </tr>\n",
       "    <tr>\n",
       "      <th>6</th>\n",
       "      <td>2498186</td>\n",
       "      <td>HOLIDAY INN CHICAGO O'HARE</td>\n",
       "      <td>HOLIDAY INN/BAR LOUIE</td>\n",
       "      <td>1518913</td>\n",
       "      <td>Restaurant</td>\n",
       "      <td>Risk 1 (High)</td>\n",
       "      <td>5615 N CUMBERLAND AVE</td>\n",
       "      <td>CHICAGO</td>\n",
       "      <td>IL</td>\n",
       "      <td>60631</td>\n",
       "      <td>2021-04-13T00:00:00.000</td>\n",
       "      <td>Complaint</td>\n",
       "      <td>Fail</td>\n",
       "      <td>41.98142816417737</td>\n",
       "      <td>-87.83643430209348</td>\n",
       "      <td>{'latitude': '-87.83643430209348', 'longitude'...</td>\n",
       "      <td>2. CITY OF CHICAGO FOOD SERVICE SANITATION CER...</td>\n",
       "    </tr>\n",
       "    <tr>\n",
       "      <th>7</th>\n",
       "      <td>2498184</td>\n",
       "      <td>BLUE BOTTLE COFFEE</td>\n",
       "      <td>BLUE BOTTLE COFFEE</td>\n",
       "      <td>2776561</td>\n",
       "      <td>NaN</td>\n",
       "      <td>Risk 2 (Medium)</td>\n",
       "      <td>313 W WOLF POINT PLZ</td>\n",
       "      <td>CHICAGO</td>\n",
       "      <td>IL</td>\n",
       "      <td>60654</td>\n",
       "      <td>2021-04-13T00:00:00.000</td>\n",
       "      <td>License</td>\n",
       "      <td>Not Ready</td>\n",
       "      <td>41.88780561739225</td>\n",
       "      <td>-87.63682820571593</td>\n",
       "      <td>{'latitude': '-87.63682820571593', 'longitude'...</td>\n",
       "      <td>NaN</td>\n",
       "    </tr>\n",
       "    <tr>\n",
       "      <th>8</th>\n",
       "      <td>2498202</td>\n",
       "      <td>TATAS TACOS</td>\n",
       "      <td>TATAS TACOS</td>\n",
       "      <td>2781098</td>\n",
       "      <td>Restaurant</td>\n",
       "      <td>Risk 1 (High)</td>\n",
       "      <td>2826 N LINCOLN AVE</td>\n",
       "      <td>CHICAGO</td>\n",
       "      <td>IL</td>\n",
       "      <td>60657</td>\n",
       "      <td>2021-04-13T00:00:00.000</td>\n",
       "      <td>License</td>\n",
       "      <td>Pass</td>\n",
       "      <td>41.93310149870225</td>\n",
       "      <td>-87.65968295657315</td>\n",
       "      <td>{'latitude': '-87.65968295657315', 'longitude'...</td>\n",
       "      <td>NaN</td>\n",
       "    </tr>\n",
       "    <tr>\n",
       "      <th>9</th>\n",
       "      <td>2500253</td>\n",
       "      <td>RealGood Stuff Co</td>\n",
       "      <td>Real Good Stuff</td>\n",
       "      <td>2780825</td>\n",
       "      <td>Restaurant</td>\n",
       "      <td>Risk 3 (Low)</td>\n",
       "      <td>2275 N LINCOLN AVE</td>\n",
       "      <td>CHICAGO</td>\n",
       "      <td>IL</td>\n",
       "      <td>60614</td>\n",
       "      <td>2021-04-13T00:00:00.000</td>\n",
       "      <td>License Re-Inspection</td>\n",
       "      <td>Pass w/ Conditions</td>\n",
       "      <td>41.92361620972698</td>\n",
       "      <td>-87.64599112233753</td>\n",
       "      <td>{'latitude': '-87.64599112233753', 'longitude'...</td>\n",
       "      <td>NaN</td>\n",
       "    </tr>\n",
       "  </tbody>\n",
       "</table>\n",
       "</div>"
      ],
      "text/plain": [
       "  inspection_id                        dba_name  \\\n",
       "0       2500305                7-ELEVEN #38948H   \n",
       "1       2500264                     UNCLE REMUS   \n",
       "2       2500241                   DUNKIN DONUTS   \n",
       "3       2500239            CRAGIN PUBLIC COFFEE   \n",
       "4       2498204  IRISH AMERICAN HERITAGE CENTER   \n",
       "5       2498188            EL TEXCAL RESTAURANT   \n",
       "6       2498186      HOLIDAY INN CHICAGO O'HARE   \n",
       "7       2498184              BLUE BOTTLE COFFEE   \n",
       "8       2498202                     TATAS TACOS   \n",
       "9       2500253               RealGood Stuff Co   \n",
       "\n",
       "                            aka_name license_  facility_type             risk  \\\n",
       "0                           7-ELEVEN  2738590  Grocery Store  Risk 2 (Medium)   \n",
       "1  UNCLE REMUS PLUS GUILTY PLEASURES  2642353     Restaurant    Risk 1 (High)   \n",
       "2             DUNKIN DONUTS (T2  F9)  2630933     Restaurant  Risk 2 (Medium)   \n",
       "3               CRAGIN PUBLIC COFFEE  2780866     Restaurant  Risk 2 (Medium)   \n",
       "4     IRISH AMERICAN HERITAGE CENTER    40543     Restaurant    Risk 1 (High)   \n",
       "5               EL TEXCAL RESTAURANT  2652423     Restaurant    Risk 1 (High)   \n",
       "6              HOLIDAY INN/BAR LOUIE  1518913     Restaurant    Risk 1 (High)   \n",
       "7                 BLUE BOTTLE COFFEE  2776561            NaN  Risk 2 (Medium)   \n",
       "8                        TATAS TACOS  2781098     Restaurant    Risk 1 (High)   \n",
       "9                    Real Good Stuff  2780825     Restaurant     Risk 3 (Low)   \n",
       "\n",
       "                  address     city state    zip          inspection_date  \\\n",
       "0       2366 N DAMEN AVE   CHICAGO    IL  60647  2021-04-16T00:00:00.000   \n",
       "1      4731 W MADISON ST   CHICAGO    IL  60644  2021-04-15T00:00:00.000   \n",
       "2      11601 W TOUHY AVE   CHICAGO    IL  60666  2021-04-14T00:00:00.000   \n",
       "3     3150 N CENTRAL AVE   CHICAGO    IL  60634  2021-04-14T00:00:00.000   \n",
       "4        4626 N KNOX AVE   CHICAGO    IL  60630  2021-04-14T00:00:00.000   \n",
       "5    3700 W LAWRENCE AVE   CHICAGO    IL  60625  2021-04-14T00:00:00.000   \n",
       "6  5615 N CUMBERLAND AVE   CHICAGO    IL  60631  2021-04-13T00:00:00.000   \n",
       "7   313 W WOLF POINT PLZ   CHICAGO    IL  60654  2021-04-13T00:00:00.000   \n",
       "8     2826 N LINCOLN AVE   CHICAGO    IL  60657  2021-04-13T00:00:00.000   \n",
       "9     2275 N LINCOLN AVE   CHICAGO    IL  60614  2021-04-13T00:00:00.000   \n",
       "\n",
       "           inspection_type             results            latitude  \\\n",
       "0                  Canvass     Out of Business  41.924737806379355   \n",
       "1  Complaint Re-Inspection                Pass   41.88040118054544   \n",
       "2                  Canvass                Pass  42.008536400868735   \n",
       "3                  License                Fail   41.93825446024883   \n",
       "4           Non-Inspection            No Entry  41.965242580480265   \n",
       "5    Canvass Re-Inspection                Pass   41.96843111302068   \n",
       "6                Complaint                Fail   41.98142816417737   \n",
       "7                  License           Not Ready   41.88780561739225   \n",
       "8                  License                Pass   41.93310149870225   \n",
       "9    License Re-Inspection  Pass w/ Conditions   41.92361620972698   \n",
       "\n",
       "            longitude                                           location  \\\n",
       "0  -87.67802914773546  {'latitude': '-87.67802914773546', 'longitude'...   \n",
       "1  -87.74408951751022  {'latitude': '-87.74408951751022', 'longitude'...   \n",
       "2  -87.91442843927047  {'latitude': '-87.91442843927047', 'longitude'...   \n",
       "3  -87.76663539027273  {'latitude': '-87.76663539027273', 'longitude'...   \n",
       "4  -87.74411673243358  {'latitude': '-87.74411673243358', 'longitude'...   \n",
       "5  -87.72076005083134  {'latitude': '-87.72076005083134', 'longitude'...   \n",
       "6  -87.83643430209348  {'latitude': '-87.83643430209348', 'longitude'...   \n",
       "7  -87.63682820571593  {'latitude': '-87.63682820571593', 'longitude'...   \n",
       "8  -87.65968295657315  {'latitude': '-87.65968295657315', 'longitude'...   \n",
       "9  -87.64599112233753  {'latitude': '-87.64599112233753', 'longitude'...   \n",
       "\n",
       "                                          violations  \n",
       "0                                                NaN  \n",
       "1                                                NaN  \n",
       "2  36. THERMOMETERS PROVIDED & ACCURATE - Comment...  \n",
       "3  3. MANAGEMENT, FOOD EMPLOYEE AND CONDITIONAL E...  \n",
       "4                                                NaN  \n",
       "5                                                NaN  \n",
       "6  2. CITY OF CHICAGO FOOD SERVICE SANITATION CER...  \n",
       "7                                                NaN  \n",
       "8                                                NaN  \n",
       "9                                                NaN  "
      ]
     },
     "execution_count": 21,
     "metadata": {},
     "output_type": "execute_result"
    }
   ],
   "source": [
    "xx = pd.DataFrame(x)\n",
    "xx"
   ]
  },
  {
   "cell_type": "code",
   "execution_count": 24,
   "metadata": {
    "ExecuteTime": {
     "end_time": "2021-04-19T23:50:01.749771Z",
     "start_time": "2021-04-19T23:50:01.713265Z"
    },
    "hidden": true
   },
   "outputs": [
    {
     "data": {
      "text/plain": [
       "'(10, 17)'"
      ]
     },
     "execution_count": 24,
     "metadata": {},
     "output_type": "execute_result"
    }
   ],
   "source": [
    "str(xx.shape)"
   ]
  },
  {
   "cell_type": "markdown",
   "metadata": {
    "hidden": true
   },
   "source": [
    "##### Using \"dumps\""
   ]
  },
  {
   "cell_type": "code",
   "execution_count": null,
   "metadata": {
    "ExecuteTime": {
     "end_time": "2021-04-18T13:59:45.201573Z",
     "start_time": "2021-04-18T13:59:45.167429Z"
    },
    "hidden": true
   },
   "outputs": [],
   "source": [
    "xx = pickle.dumps(x)"
   ]
  },
  {
   "cell_type": "code",
   "execution_count": null,
   "metadata": {
    "ExecuteTime": {
     "end_time": "2021-04-18T13:59:47.215146Z",
     "start_time": "2021-04-18T13:59:47.182791Z"
    },
    "hidden": true
   },
   "outputs": [],
   "source": [
    "xx"
   ]
  },
  {
   "cell_type": "code",
   "execution_count": null,
   "metadata": {
    "ExecuteTime": {
     "end_time": "2021-04-18T13:59:43.014898Z",
     "start_time": "2021-04-18T13:59:42.977758Z"
    },
    "hidden": true
   },
   "outputs": [],
   "source": [
    "pickle.loads(xx)"
   ]
  },
  {
   "cell_type": "markdown",
   "metadata": {
    "hidden": true
   },
   "source": [
    "##### Using \"dump\""
   ]
  },
  {
   "cell_type": "code",
   "execution_count": null,
   "metadata": {
    "ExecuteTime": {
     "end_time": "2021-04-18T16:08:33.267087Z",
     "start_time": "2021-04-18T16:08:33.185950Z"
    },
    "hidden": true
   },
   "outputs": [],
   "source": [
    "pkl_store_loc = !pwd\n",
    "pkl_store_loc = pkl_store_loc[0] + \"/prueba_pickle.pkl\""
   ]
  },
  {
   "cell_type": "code",
   "execution_count": null,
   "metadata": {
    "ExecuteTime": {
     "end_time": "2021-04-18T16:08:40.538238Z",
     "start_time": "2021-04-18T16:08:40.503675Z"
    },
    "hidden": true
   },
   "outputs": [],
   "source": [
    "pkl_store_loc"
   ]
  },
  {
   "cell_type": "code",
   "execution_count": null,
   "metadata": {
    "ExecuteTime": {
     "end_time": "2021-04-18T12:51:41.090507Z",
     "start_time": "2021-04-18T12:51:41.051734Z"
    },
    "hidden": true
   },
   "outputs": [],
   "source": [
    "pickle.dump(x, open(pkl_store_loc, 'wb'))"
   ]
  },
  {
   "cell_type": "code",
   "execution_count": null,
   "metadata": {
    "ExecuteTime": {
     "end_time": "2021-04-18T16:08:51.997677Z",
     "start_time": "2021-04-18T16:08:51.958849Z"
    },
    "hidden": true
   },
   "outputs": [],
   "source": [
    "pickle.load(open(pkl_store_loc, \"rb\"))"
   ]
  },
  {
   "cell_type": "markdown",
   "metadata": {
    "hidden": true
   },
   "source": [
    "##### Storing data in S3"
   ]
  },
  {
   "cell_type": "code",
   "execution_count": null,
   "metadata": {
    "ExecuteTime": {
     "end_time": "2021-04-18T15:15:45.098251Z",
     "start_time": "2021-04-18T15:15:45.014079Z"
    },
    "hidden": true
   },
   "outputs": [],
   "source": [
    "pkl_store_loc = !pwd\n",
    "pkl_store_loc = pkl_store_loc[0] + \"/prueba_pickle.pkl\"\n",
    "pkl_store_loc"
   ]
  },
  {
   "cell_type": "code",
   "execution_count": null,
   "metadata": {
    "ExecuteTime": {
     "end_time": "2021-04-18T15:37:44.901831Z",
     "start_time": "2021-04-18T15:37:44.870736Z"
    },
    "hidden": true
   },
   "outputs": [],
   "source": [
    "## Storing file locally\n",
    "pickle.dump(x, open(pkl_store_loc, \"wb\"))"
   ]
  },
  {
   "cell_type": "code",
   "execution_count": null,
   "metadata": {
    "ExecuteTime": {
     "end_time": "2021-04-18T15:38:06.829271Z",
     "start_time": "2021-04-18T15:38:06.798723Z"
    },
    "hidden": true
   },
   "outputs": [],
   "source": [
    "## Loading file from local and saving as variable\n",
    "xx = pickle.dumps(pickle.load(open(pkl_store_loc, \"rb\")))"
   ]
  },
  {
   "cell_type": "code",
   "execution_count": null,
   "metadata": {
    "ExecuteTime": {
     "end_time": "2021-04-18T15:38:13.290006Z",
     "start_time": "2021-04-18T15:38:12.427452Z"
    },
    "hidden": true
   },
   "outputs": [],
   "source": [
    "## Saving pickle in s3\n",
    "s3.put_object(\n",
    "    Bucket=bucket_name,\n",
    "    Key=\"test_pickle.pkl\",\n",
    "    Body=xx\n",
    ")"
   ]
  },
  {
   "cell_type": "markdown",
   "metadata": {
    "heading_collapsed": true,
    "hidden": true
   },
   "source": [
    "##### Downloading data from s3 and unpickling"
   ]
  },
  {
   "cell_type": "code",
   "execution_count": null,
   "metadata": {
    "ExecuteTime": {
     "end_time": "2021-04-18T15:38:28.524852Z",
     "start_time": "2021-04-18T15:38:27.999544Z"
    },
    "hidden": true,
    "scrolled": true
   },
   "outputs": [],
   "source": [
    "res_xx = s3.get_object(\n",
    "    Bucket=bucket_name,\n",
    "    Key=\"test_pickle.pkl\"\n",
    ")\n",
    "res_xx"
   ]
  },
  {
   "cell_type": "code",
   "execution_count": null,
   "metadata": {
    "ExecuteTime": {
     "end_time": "2021-04-18T15:38:31.752858Z",
     "start_time": "2021-04-18T15:38:31.721848Z"
    },
    "hidden": true
   },
   "outputs": [],
   "source": [
    "body = res_xx[\"Body\"].read()"
   ]
  },
  {
   "cell_type": "code",
   "execution_count": null,
   "metadata": {
    "ExecuteTime": {
     "end_time": "2021-04-18T15:38:34.859373Z",
     "start_time": "2021-04-18T15:38:34.820720Z"
    },
    "hidden": true
   },
   "outputs": [],
   "source": [
    "pickle.loads(body)"
   ]
  },
  {
   "cell_type": "markdown",
   "metadata": {
    "heading_collapsed": true,
    "hidden": true
   },
   "source": [
    "#### Uploading info"
   ]
  },
  {
   "cell_type": "raw",
   "metadata": {
    "ExecuteTime": {
     "end_time": "2021-02-18T17:34:43.908085Z",
     "start_time": "2021-02-18T17:34:39.580493Z"
    },
    "hidden": true
   },
   "source": [
    "# guardar_ingesta(bucket_name, hist_ingest_path)\n",
    "guardar_ingesta(bucket_name, cont_ingest_path)"
   ]
  },
  {
   "cell_type": "markdown",
   "metadata": {
    "heading_collapsed": true,
    "hidden": true
   },
   "source": [
    "#### Checking aws s3 contents"
   ]
  },
  {
   "cell_type": "code",
   "execution_count": 5,
   "metadata": {
    "ExecuteTime": {
     "end_time": "2021-04-22T17:40:27.183976Z",
     "start_time": "2021-04-22T17:40:26.756467Z"
    },
    "hidden": true,
    "init_cell": true
   },
   "outputs": [
    {
     "ename": "FileNotFoundError",
     "evalue": "Couldnt load the file",
     "output_type": "error",
     "traceback": [
      "\u001b[0;31m--------\u001b[0m",
      "\u001b[0;31mFileNotFoundError\u001b[0mTraceback (most recent call last)",
      "\u001b[0;32m~/Documents/ReposRob_RobPer/ITAMmcd/semestre_2/Arquitectura_Prod_Dat/Venv_ArqPD/repos/dpa_2021/src/utils/utils.py\u001b[0m in \u001b[0;36mread_yaml_file\u001b[0;34m(yaml_file)\u001b[0m\n\u001b[1;32m    155\u001b[0m     \u001b[0;32mtry\u001b[0m\u001b[0;34m:\u001b[0m\u001b[0;34m\u001b[0m\u001b[0;34m\u001b[0m\u001b[0m\n\u001b[0;32m--> 156\u001b[0;31m         \u001b[0;32mwith\u001b[0m \u001b[0mopen\u001b[0m \u001b[0;34m(\u001b[0m\u001b[0myaml_file\u001b[0m\u001b[0;34m,\u001b[0m \u001b[0;34m'r'\u001b[0m\u001b[0;34m)\u001b[0m \u001b[0;32mas\u001b[0m \u001b[0mf\u001b[0m\u001b[0;34m:\u001b[0m\u001b[0;34m\u001b[0m\u001b[0;34m\u001b[0m\u001b[0m\n\u001b[0m\u001b[1;32m    157\u001b[0m             \u001b[0mconfig\u001b[0m \u001b[0;34m=\u001b[0m \u001b[0myaml\u001b[0m\u001b[0;34m.\u001b[0m\u001b[0msafe_load\u001b[0m\u001b[0;34m(\u001b[0m\u001b[0mf\u001b[0m\u001b[0;34m)\u001b[0m\u001b[0;34m\u001b[0m\u001b[0;34m\u001b[0m\u001b[0m\n",
      "\u001b[0;31mFileNotFoundError\u001b[0m: [Errno 2] No such file or directory: 'conf/local/credentials.yaml'",
      "\nDuring handling of the above exception, another exception occurred:\n",
      "\u001b[0;31mFileNotFoundError\u001b[0mTraceback (most recent call last)",
      "\u001b[0;32m<ipython-input-5-5dd7f3a14a67>\u001b[0m in \u001b[0;36m<module>\u001b[0;34m\u001b[0m\n\u001b[0;32m----> 1\u001b[0;31m \u001b[0ms3\u001b[0m \u001b[0;34m=\u001b[0m \u001b[0mget_s3_resource\u001b[0m\u001b[0;34m(\u001b[0m\u001b[0;34m)\u001b[0m\u001b[0;34m\u001b[0m\u001b[0;34m\u001b[0m\u001b[0m\n\u001b[0m",
      "\u001b[0;32m~/Documents/ReposRob_RobPer/ITAMmcd/semestre_2/Arquitectura_Prod_Dat/Venv_ArqPD/repos/dpa_2021/src/utils/utils.py\u001b[0m in \u001b[0;36mget_s3_resource\u001b[0;34m()\u001b[0m\n\u001b[1;32m    208\u001b[0m     \"\"\"\n\u001b[1;32m    209\u001b[0m \u001b[0;34m\u001b[0m\u001b[0m\n\u001b[0;32m--> 210\u001b[0;31m     \u001b[0ms3_creds\u001b[0m \u001b[0;34m=\u001b[0m \u001b[0mget_s3_credentials\u001b[0m\u001b[0;34m(\u001b[0m\u001b[0;34m\"conf/local/credentials.yaml\"\u001b[0m\u001b[0;34m)\u001b[0m\u001b[0;34m\u001b[0m\u001b[0;34m\u001b[0m\u001b[0m\n\u001b[0m\u001b[1;32m    211\u001b[0m \u001b[0;34m\u001b[0m\u001b[0m\n\u001b[1;32m    212\u001b[0m     session = boto3.Session(\n",
      "\u001b[0;32m~/Documents/ReposRob_RobPer/ITAMmcd/semestre_2/Arquitectura_Prod_Dat/Venv_ArqPD/repos/dpa_2021/src/utils/utils.py\u001b[0m in \u001b[0;36mget_s3_credentials\u001b[0;34m(credentials_file)\u001b[0m\n\u001b[1;32m    168\u001b[0m     \u001b[0mGet\u001b[0m \u001b[0ms3\u001b[0m \u001b[0mcredentials\u001b[0m\u001b[0;34m\u001b[0m\u001b[0;34m\u001b[0m\u001b[0m\n\u001b[1;32m    169\u001b[0m     \"\"\"\n\u001b[0;32m--> 170\u001b[0;31m     \u001b[0mcredentials\u001b[0m \u001b[0;34m=\u001b[0m \u001b[0mread_yaml_file\u001b[0m\u001b[0;34m(\u001b[0m\u001b[0mcredentials_file\u001b[0m\u001b[0;34m)\u001b[0m\u001b[0;34m\u001b[0m\u001b[0;34m\u001b[0m\u001b[0m\n\u001b[0m\u001b[1;32m    171\u001b[0m     \u001b[0ms3_creds\u001b[0m \u001b[0;34m=\u001b[0m \u001b[0mcredentials\u001b[0m\u001b[0;34m[\u001b[0m\u001b[0;34m's3'\u001b[0m\u001b[0;34m]\u001b[0m\u001b[0;34m\u001b[0m\u001b[0;34m\u001b[0m\u001b[0m\n\u001b[1;32m    172\u001b[0m \u001b[0;34m\u001b[0m\u001b[0m\n",
      "\u001b[0;32m~/Documents/ReposRob_RobPer/ITAMmcd/semestre_2/Arquitectura_Prod_Dat/Venv_ArqPD/repos/dpa_2021/src/utils/utils.py\u001b[0m in \u001b[0;36mread_yaml_file\u001b[0;34m(yaml_file)\u001b[0m\n\u001b[1;32m    157\u001b[0m             \u001b[0mconfig\u001b[0m \u001b[0;34m=\u001b[0m \u001b[0myaml\u001b[0m\u001b[0;34m.\u001b[0m\u001b[0msafe_load\u001b[0m\u001b[0;34m(\u001b[0m\u001b[0mf\u001b[0m\u001b[0;34m)\u001b[0m\u001b[0;34m\u001b[0m\u001b[0;34m\u001b[0m\u001b[0m\n\u001b[1;32m    158\u001b[0m     \u001b[0;32mexcept\u001b[0m\u001b[0;34m:\u001b[0m\u001b[0;34m\u001b[0m\u001b[0;34m\u001b[0m\u001b[0m\n\u001b[0;32m--> 159\u001b[0;31m         \u001b[0;32mraise\u001b[0m \u001b[0mFileNotFoundError\u001b[0m\u001b[0;34m(\u001b[0m\u001b[0;34m'Couldnt load the file'\u001b[0m\u001b[0;34m)\u001b[0m\u001b[0;34m\u001b[0m\u001b[0;34m\u001b[0m\u001b[0m\n\u001b[0m\u001b[1;32m    160\u001b[0m \u001b[0;34m\u001b[0m\u001b[0m\n\u001b[1;32m    161\u001b[0m     \u001b[0;32mreturn\u001b[0m \u001b[0mconfig\u001b[0m\u001b[0;34m\u001b[0m\u001b[0;34m\u001b[0m\u001b[0m\n",
      "\u001b[0;31mFileNotFoundError\u001b[0m: Couldnt load the file"
     ]
    }
   ],
   "source": [
    "s3 = get_s3_resource()"
   ]
  },
  {
   "cell_type": "code",
   "execution_count": null,
   "metadata": {
    "ExecuteTime": {
     "end_time": "2021-02-23T01:44:59.242276Z",
     "start_time": "2021-02-23T01:44:59.217982Z"
    },
    "hidden": true
   },
   "outputs": [],
   "source": [
    "cont_ingest_path"
   ]
  },
  {
   "cell_type": "code",
   "execution_count": null,
   "metadata": {
    "ExecuteTime": {
     "end_time": "2021-02-23T01:55:15.367770Z",
     "start_time": "2021-02-23T01:55:14.999648Z"
    },
    "hidden": true,
    "scrolled": true
   },
   "outputs": [],
   "source": [
    "objects = s3.list_objects_v2(Bucket=bucket_name, Prefix=cont_ingest_path)['Contents']\n",
    "objects"
   ]
  },
  {
   "cell_type": "code",
   "execution_count": null,
   "metadata": {
    "ExecuteTime": {
     "end_time": "2021-02-23T01:55:15.390063Z",
     "start_time": "2021-02-23T01:55:15.369571Z"
    },
    "hidden": true
   },
   "outputs": [],
   "source": [
    "objects.append(\n",
    " {'Key': 'ingestion/consecutive/consecutive-inspections-2021-02-22.pkl',\n",
    "  'LastModified': \"datetime.datetime(2021, 2, 22, 2, 53, 54, tzinfo=tzutc())\",\n",
    "  'ETag': '\"79cff7864a646f1dfd4d51b4e732a226\"',\n",
    "  'Size': 1152660,\n",
    "  'StorageClass': 'STANDARD'}\n",
    ")\n",
    "\n",
    "objects.append(\n",
    " {'Key': 'ingestion/consecutive/consecutive-inspections-2021-02-15.pkl',\n",
    "  'LastModified': \"datetime.datetime(2021, 2, 22, 2, 53, 54, tzinfo=tzutc())\",\n",
    "  'ETag': '\"79cff7864a646f1dfd4d51b4e732a226\"',\n",
    "  'Size': 1152660,\n",
    "  'StorageClass': 'STANDARD'}\n",
    ")\n",
    "\n",
    "objects.append(\n",
    " {'Key': 'ingestion/consecutive/consecutive-inspections-2021-02-10.pkl',\n",
    "  'LastModified': \"datetime.datetime(2021, 2, 22, 2, 53, 54, tzinfo=tzutc())\",\n",
    "  'ETag': '\"79cff7864a646f1dfd4d51b4e732a226\"',\n",
    "  'Size': 1152660,\n",
    "  'StorageClass': 'STANDARD'}\n",
    ")"
   ]
  },
  {
   "cell_type": "code",
   "execution_count": null,
   "metadata": {
    "ExecuteTime": {
     "end_time": "2021-02-23T02:09:47.057743Z",
     "start_time": "2021-02-23T02:09:47.033152Z"
    },
    "hidden": true
   },
   "outputs": [],
   "source": [
    "rex = str(cont_dat_prefix) + \"(.*).pkl\"\n",
    "\n",
    "lx = [datetime.strptime(re.search(rex, obj[\"Key\"]).group(1), '%Y-%m-%d') for obj in objects if cont_dat_prefix in obj[\"Key\"]]\n",
    "most_rec_date = datetime.strftime(max(lx), '%Y-%m-%d')\n",
    "most_rec_date"
   ]
  },
  {
   "cell_type": "code",
   "execution_count": null,
   "metadata": {
    "ExecuteTime": {
     "end_time": "2021-02-23T01:46:19.553156Z",
     "start_time": "2021-02-23T01:46:18.658626Z"
    },
    "hidden": true
   },
   "outputs": [],
   "source": [
    "s3x = pickle.loads(s3.get_object(Bucket=bucket_name, Key=(cont_ingest_path + \"consecutive-inspections-2021-02-21.pkl\"))['Body'].read())"
   ]
  },
  {
   "cell_type": "raw",
   "metadata": {
    "ExecuteTime": {
     "end_time": "2021-02-23T00:00:30.371652Z",
     "start_time": "2021-02-23T00:00:29.847983Z"
    },
    "hidden": true
   },
   "source": [
    "s3x"
   ]
  },
  {
   "cell_type": "code",
   "execution_count": null,
   "metadata": {
    "ExecuteTime": {
     "end_time": "2021-02-23T01:46:25.020555Z",
     "start_time": "2021-02-23T01:46:24.907838Z"
    },
    "hidden": true,
    "scrolled": true
   },
   "outputs": [],
   "source": [
    "dfx = pd.DataFrame(s3x)\n",
    "dfx"
   ]
  },
  {
   "cell_type": "code",
   "execution_count": null,
   "metadata": {
    "ExecuteTime": {
     "end_time": "2021-02-23T01:46:34.414740Z",
     "start_time": "2021-02-23T01:46:34.366147Z"
    },
    "hidden": true
   },
   "outputs": [],
   "source": [
    "dfx[\"inspection_date\"] = pd.to_datetime(dfx[\"inspection_date\"])"
   ]
  },
  {
   "cell_type": "code",
   "execution_count": null,
   "metadata": {
    "ExecuteTime": {
     "end_time": "2021-02-23T01:46:34.685530Z",
     "start_time": "2021-02-23T01:46:34.658404Z"
    },
    "hidden": true
   },
   "outputs": [],
   "source": [
    "print(\"max date: \", max(dfx[\"inspection_date\"]))\n",
    "print(\"min date: \", min(dfx[\"inspection_date\"]))"
   ]
  },
  {
   "cell_type": "code",
   "execution_count": null,
   "metadata": {
    "ExecuteTime": {
     "end_time": "2021-02-23T00:10:59.859142Z",
     "start_time": "2021-02-23T00:10:59.342740Z"
    },
    "hidden": true,
    "scrolled": true
   },
   "outputs": [],
   "source": [
    "dfx.groupby(pd.Grouper(key=\"inspection_date\")).count()[[\"inspection_id\"]]"
   ]
  },
  {
   "cell_type": "markdown",
   "metadata": {
    "hidden": true
   },
   "source": [
    "---"
   ]
  },
  {
   "cell_type": "markdown",
   "metadata": {
    "heading_collapsed": true
   },
   "source": [
    "## Creating local directories for temporal data"
   ]
  },
  {
   "cell_type": "code",
   "execution_count": null,
   "metadata": {
    "ExecuteTime": {
     "end_time": "2021-03-17T00:56:51.332125Z",
     "start_time": "2021-03-17T00:56:51.251984Z"
    },
    "hidden": true
   },
   "outputs": [],
   "source": [
    "base_path = \"../src/pipeline/luigi/ingestion_tmp/\""
   ]
  },
  {
   "cell_type": "markdown",
   "metadata": {
    "heading_collapsed": true,
    "hidden": true
   },
   "source": [
    "### Find most recent ingestion"
   ]
  },
  {
   "cell_type": "markdown",
   "metadata": {
    "heading_collapsed": true,
    "hidden": true
   },
   "source": [
    "#### Case 1: There is previous consecutive downloads"
   ]
  },
  {
   "cell_type": "code",
   "execution_count": null,
   "metadata": {
    "ExecuteTime": {
     "end_time": "2021-03-17T02:26:09.354291Z",
     "start_time": "2021-03-17T02:26:09.317452Z"
    },
    "hidden": true
   },
   "outputs": [],
   "source": [
    "lyrs = [ydir[-4:] for ydir in os.listdir(base_path + \"consecutive\") if \"YEAR=\" in ydir]\n",
    "lyrs"
   ]
  },
  {
   "cell_type": "code",
   "execution_count": null,
   "metadata": {
    "ExecuteTime": {
     "end_time": "2021-03-17T02:26:09.961062Z",
     "start_time": "2021-03-17T02:26:09.926635Z"
    },
    "hidden": true
   },
   "outputs": [],
   "source": [
    "mr_yr = max(lyrs)\n",
    "mr_yr"
   ]
  },
  {
   "cell_type": "code",
   "execution_count": null,
   "metadata": {
    "ExecuteTime": {
     "end_time": "2021-03-17T02:26:10.733106Z",
     "start_time": "2021-03-17T02:26:10.699043Z"
    },
    "hidden": true
   },
   "outputs": [],
   "source": [
    "lmths = [mdir[-2:] for mdir in os.listdir(base_path + \"consecutive\" + \"/\" + \"YEAR=\" + mr_yr) if \"MONTH=\" in mdir]\n",
    "lmths"
   ]
  },
  {
   "cell_type": "code",
   "execution_count": null,
   "metadata": {
    "ExecuteTime": {
     "end_time": "2021-03-17T01:14:25.389256Z",
     "start_time": "2021-03-17T01:14:25.356397Z"
    },
    "hidden": true
   },
   "outputs": [],
   "source": [
    "mr_mth = max(lmths)\n",
    "mr_mth"
   ]
  },
  {
   "cell_type": "code",
   "execution_count": null,
   "metadata": {
    "ExecuteTime": {
     "end_time": "2021-03-17T01:30:05.401109Z",
     "start_time": "2021-03-17T01:30:05.368159Z"
    },
    "hidden": true
   },
   "outputs": [],
   "source": [
    "lings = [ing for ing in os.listdir(base_path + \"consecutive\" + \"/\" + \"YEAR=\" + mr_yr + \"/\" + \"MONTH=\" + mr_mth)]\n",
    "lings"
   ]
  },
  {
   "cell_type": "raw",
   "metadata": {
    "ExecuteTime": {
     "end_time": "2021-03-17T01:30:05.401109Z",
     "start_time": "2021-03-17T01:30:05.368159Z"
    },
    "hidden": true
   },
   "source": [
    "lings = ['consecutive_inspections_2021-03-05.pkl',\n",
    " 'consecutive_inspections_2021-03-10.pkl',\n",
    " 'consecutive_inspections_2021-03-16.pkl',\n",
    " 'consecutive_inspections_2021-02-11.pkl',\n",
    " 'consecutive_inspections_2021-02-04.pkl',\n",
    " 'consecutive_inspections_2020-12-25.pkl'\n",
    "        ]\n",
    "lings"
   ]
  },
  {
   "cell_type": "code",
   "execution_count": null,
   "metadata": {
    "ExecuteTime": {
     "end_time": "2021-03-17T01:30:09.268405Z",
     "start_time": "2021-03-17T01:30:09.236752Z"
    },
    "hidden": true
   },
   "outputs": [],
   "source": [
    "regex = \"consecutive_inspections_\" + \"(.*).pkl\""
   ]
  },
  {
   "cell_type": "code",
   "execution_count": null,
   "metadata": {
    "ExecuteTime": {
     "end_time": "2021-03-17T01:30:13.588024Z",
     "start_time": "2021-03-17T01:30:13.553942Z"
    },
    "hidden": true
   },
   "outputs": [],
   "source": [
    "min([re.search(regex, ing).group(1) for ing in lings])"
   ]
  },
  {
   "cell_type": "code",
   "execution_count": null,
   "metadata": {
    "ExecuteTime": {
     "end_time": "2021-03-17T17:11:23.863934Z",
     "start_time": "2021-03-17T17:11:23.746569Z"
    },
    "hidden": true
   },
   "outputs": [],
   "source": [
    "lx = ['.DS_Store', 'consecutive_inspections_2021-03-05.pkl', 'consecutive_inspections_2021-03-10.pkl']\n",
    "lx"
   ]
  },
  {
   "cell_type": "code",
   "execution_count": null,
   "metadata": {
    "ExecuteTime": {
     "end_time": "2021-03-17T17:11:35.081836Z",
     "start_time": "2021-03-17T17:11:35.047204Z"
    },
    "hidden": true
   },
   "outputs": [],
   "source": [
    "cont_dat_prefix = \"consecutive_inspections_\""
   ]
  },
  {
   "cell_type": "code",
   "execution_count": null,
   "metadata": {
    "ExecuteTime": {
     "end_time": "2021-03-17T17:11:43.184093Z",
     "start_time": "2021-03-17T17:11:43.149782Z"
    },
    "hidden": true
   },
   "outputs": [],
   "source": [
    "regex = cont_dat_prefix + \"(.*).pkl\""
   ]
  },
  {
   "cell_type": "code",
   "execution_count": null,
   "metadata": {
    "ExecuteTime": {
     "end_time": "2021-03-17T17:12:44.455594Z",
     "start_time": "2021-03-17T17:12:44.420865Z"
    },
    "hidden": true
   },
   "outputs": [],
   "source": [
    "lx"
   ]
  },
  {
   "cell_type": "code",
   "execution_count": null,
   "metadata": {
    "ExecuteTime": {
     "end_time": "2021-03-17T17:12:46.804479Z",
     "start_time": "2021-03-17T17:12:46.769480Z"
    },
    "hidden": true
   },
   "outputs": [],
   "source": [
    "lings"
   ]
  },
  {
   "cell_type": "code",
   "execution_count": null,
   "metadata": {
    "ExecuteTime": {
     "end_time": "2021-03-17T17:13:28.580587Z",
     "start_time": "2021-03-17T17:13:28.530894Z"
    },
    "hidden": true
   },
   "outputs": [],
   "source": [
    "most_recent_ing = max([re.search(regex, ing).group(1) for ing in lx if \".pkl\" in ing])\n",
    "most_recent_ing"
   ]
  },
  {
   "cell_type": "markdown",
   "metadata": {
    "hidden": true
   },
   "source": [
    "#### Additional notes"
   ]
  },
  {
   "cell_type": "code",
   "execution_count": null,
   "metadata": {
    "ExecuteTime": {
     "end_time": "2021-03-17T22:51:20.933443Z",
     "start_time": "2021-03-17T22:51:20.887879Z"
    },
    "hidden": true
   },
   "outputs": [],
   "source": [
    "x = date.today().strftime('%Y-%m-%d')"
   ]
  },
  {
   "cell_type": "code",
   "execution_count": null,
   "metadata": {
    "ExecuteTime": {
     "end_time": "2021-03-17T22:52:29.058939Z",
     "start_time": "2021-03-17T22:52:29.025587Z"
    },
    "hidden": true
   },
   "outputs": [],
   "source": [
    "x[5:7]"
   ]
  },
  {
   "cell_type": "markdown",
   "metadata": {
    "hidden": true
   },
   "source": [
    "---"
   ]
  },
  {
   "cell_type": "markdown",
   "metadata": {
    "heading_collapsed": true
   },
   "source": [
    "## Creating .csv files with metadata"
   ]
  },
  {
   "cell_type": "markdown",
   "metadata": {
    "heading_collapsed": true,
    "hidden": true
   },
   "source": [
    "### Working with previous metadata pickle"
   ]
  },
  {
   "cell_type": "code",
   "execution_count": null,
   "metadata": {
    "ExecuteTime": {
     "end_time": "2021-04-18T20:46:12.248706Z",
     "start_time": "2021-04-18T20:46:12.217816Z"
    },
    "hidden": true
   },
   "outputs": [],
   "source": [
    "pkl_meta = \"../results/metadata/transform_metadata.pkl\""
   ]
  },
  {
   "cell_type": "code",
   "execution_count": null,
   "metadata": {
    "ExecuteTime": {
     "end_time": "2021-04-18T20:46:12.589608Z",
     "start_time": "2021-04-18T20:46:12.540238Z"
    },
    "hidden": true
   },
   "outputs": [],
   "source": [
    "dfx = pickle.load(open(pkl_meta, \"rb\"))\n",
    "dfx"
   ]
  },
  {
   "cell_type": "code",
   "execution_count": null,
   "metadata": {
    "ExecuteTime": {
     "end_time": "2021-04-18T20:51:40.874609Z",
     "start_time": "2021-04-18T20:51:40.839324Z"
    },
    "hidden": true
   },
   "outputs": [],
   "source": [
    "mx = [dfx.index[0]]\n",
    "mx"
   ]
  },
  {
   "cell_type": "code",
   "execution_count": null,
   "metadata": {
    "ExecuteTime": {
     "end_time": "2021-04-18T20:51:40.909217Z",
     "start_time": "2021-04-18T20:51:40.876628Z"
    },
    "hidden": true
   },
   "outputs": [],
   "source": [
    "[mx.append(val) for val in dfx.iloc[0, :]]"
   ]
  },
  {
   "cell_type": "code",
   "execution_count": null,
   "metadata": {
    "ExecuteTime": {
     "end_time": "2021-04-18T20:51:41.631785Z",
     "start_time": "2021-04-18T20:51:41.600098Z"
    },
    "hidden": true
   },
   "outputs": [],
   "source": [
    "mx"
   ]
  },
  {
   "cell_type": "code",
   "execution_count": null,
   "metadata": {
    "ExecuteTime": {
     "end_time": "2021-04-18T21:02:50.419575Z",
     "start_time": "2021-04-18T21:02:50.385486Z"
    },
    "hidden": true
   },
   "outputs": [],
   "source": [
    "## Overwriting csv file from a dataframe (no header)\n",
    "def write_csv_from_df(df, filepath, filename):\n",
    "    \n",
    "    ## Extracting df contents as list\n",
    "    mdata_list = [df.index[0]]\n",
    "    [mdata_list.append(val) for val in df.iloc[0, :]]\n",
    "    \n",
    "    ## Creating and writing csv file with extracted list\n",
    "    with open(filepath + filename, mode=\"w\") as metadata_file:\n",
    "        metadata_writer = csv.writer(metadata_file, delimiter=\",\", quotechar='\"', quoting=csv.QUOTE_MINIMAL)\n",
    "        metadata_writer.writerow(mdata_list)"
   ]
  },
  {
   "cell_type": "code",
   "execution_count": null,
   "metadata": {
    "ExecuteTime": {
     "end_time": "2021-04-18T21:03:15.646264Z",
     "start_time": "2021-04-18T21:03:15.615713Z"
    },
    "hidden": true
   },
   "outputs": [],
   "source": [
    "filepath = \"metadata_test_dir/\""
   ]
  },
  {
   "cell_type": "code",
   "execution_count": null,
   "metadata": {
    "ExecuteTime": {
     "end_time": "2021-04-18T21:03:33.289795Z",
     "start_time": "2021-04-18T21:03:33.257274Z"
    },
    "hidden": true
   },
   "outputs": [],
   "source": [
    "filename = \"transformation_metadata_2.csv\""
   ]
  },
  {
   "cell_type": "code",
   "execution_count": null,
   "metadata": {
    "ExecuteTime": {
     "end_time": "2021-04-18T21:04:01.172280Z",
     "start_time": "2021-04-18T21:04:01.141235Z"
    },
    "hidden": true
   },
   "outputs": [],
   "source": [
    "write_csv_from_df(dfx, filepath, filename)"
   ]
  },
  {
   "cell_type": "code",
   "execution_count": null,
   "metadata": {
    "ExecuteTime": {
     "end_time": "2021-04-18T21:04:08.791578Z",
     "start_time": "2021-04-18T21:04:08.759013Z"
    },
    "hidden": true
   },
   "outputs": [],
   "source": [
    "dfx"
   ]
  },
  {
   "cell_type": "markdown",
   "metadata": {
    "heading_collapsed": true,
    "hidden": true
   },
   "source": [
    "### Creating dummy metadata"
   ]
  },
  {
   "cell_type": "markdown",
   "metadata": {
    "heading_collapsed": true,
    "hidden": true
   },
   "source": [
    "#### Line 1"
   ]
  },
  {
   "cell_type": "code",
   "execution_count": null,
   "metadata": {
    "ExecuteTime": {
     "end_time": "2021-04-18T21:00:52.235990Z",
     "start_time": "2021-04-18T21:00:52.203522Z"
    },
    "hidden": true
   },
   "outputs": [],
   "source": [
    "meta_1 = str(datetime.now())"
   ]
  },
  {
   "cell_type": "code",
   "execution_count": null,
   "metadata": {
    "ExecuteTime": {
     "end_time": "2021-04-18T21:00:52.660839Z",
     "start_time": "2021-04-18T21:00:52.629989Z"
    },
    "hidden": true
   },
   "outputs": [],
   "source": [
    "meta_2 = str(10)"
   ]
  },
  {
   "cell_type": "code",
   "execution_count": null,
   "metadata": {
    "ExecuteTime": {
     "end_time": "2021-04-18T21:00:53.028530Z",
     "start_time": "2021-04-18T21:00:52.998058Z"
    },
    "hidden": true
   },
   "outputs": [],
   "source": [
    "meta_3 = \"carnegie\""
   ]
  },
  {
   "cell_type": "code",
   "execution_count": null,
   "metadata": {
    "ExecuteTime": {
     "end_time": "2021-04-18T21:00:54.472631Z",
     "start_time": "2021-04-18T21:00:54.439758Z"
    },
    "hidden": true
   },
   "outputs": [],
   "source": [
    "meta_comp = \",\".join([meta_1, meta_2, meta_3])\n",
    "meta_comp"
   ]
  },
  {
   "cell_type": "code",
   "execution_count": null,
   "metadata": {
    "ExecuteTime": {
     "end_time": "2021-04-18T21:00:59.191304Z",
     "start_time": "2021-04-18T21:00:59.159316Z"
    },
    "hidden": true
   },
   "outputs": [],
   "source": [
    "import csv\n",
    "with open(\"transformation_metadata.csv\", mode=\"w\") as metadata_file:\n",
    "    metadata_writer = csv.writer(metadata_file, delimiter=\",\", quotechar='\"', quoting=csv.QUOTE_MINIMAL)\n",
    "    metadata_writer.writerow([meta_1, meta_2, meta_3])"
   ]
  },
  {
   "cell_type": "markdown",
   "metadata": {},
   "source": [
    "## Saving dictionary of dataframes as pickle"
   ]
  },
  {
   "cell_type": "markdown",
   "metadata": {},
   "source": [
    "### Creating dictionary of dataframes"
   ]
  },
  {
   "cell_type": "code",
   "execution_count": 9,
   "metadata": {
    "ExecuteTime": {
     "end_time": "2021-04-22T17:11:20.639397Z",
     "start_time": "2021-04-22T17:11:20.599895Z"
    }
   },
   "outputs": [
    {
     "data": {
      "text/html": [
       "<div>\n",
       "<style scoped>\n",
       "    .dataframe tbody tr th:only-of-type {\n",
       "        vertical-align: middle;\n",
       "    }\n",
       "\n",
       "    .dataframe tbody tr th {\n",
       "        vertical-align: top;\n",
       "    }\n",
       "\n",
       "    .dataframe thead th {\n",
       "        text-align: right;\n",
       "    }\n",
       "</style>\n",
       "<table border=\"1\" class=\"dataframe\">\n",
       "  <thead>\n",
       "    <tr style=\"text-align: right;\">\n",
       "      <th></th>\n",
       "      <th>col1_df1</th>\n",
       "      <th>col2_df1</th>\n",
       "    </tr>\n",
       "  </thead>\n",
       "  <tbody>\n",
       "    <tr>\n",
       "      <th>0</th>\n",
       "      <td>1</td>\n",
       "      <td>h</td>\n",
       "    </tr>\n",
       "    <tr>\n",
       "      <th>1</th>\n",
       "      <td>2</td>\n",
       "      <td>t</td>\n",
       "    </tr>\n",
       "    <tr>\n",
       "      <th>2</th>\n",
       "      <td>3</td>\n",
       "      <td>k</td>\n",
       "    </tr>\n",
       "    <tr>\n",
       "      <th>3</th>\n",
       "      <td>4</td>\n",
       "      <td>d</td>\n",
       "    </tr>\n",
       "    <tr>\n",
       "      <th>4</th>\n",
       "      <td>5</td>\n",
       "      <td>l</td>\n",
       "    </tr>\n",
       "    <tr>\n",
       "      <th>5</th>\n",
       "      <td>6</td>\n",
       "      <td>e</td>\n",
       "    </tr>\n",
       "    <tr>\n",
       "      <th>6</th>\n",
       "      <td>7</td>\n",
       "      <td>k</td>\n",
       "    </tr>\n",
       "    <tr>\n",
       "      <th>7</th>\n",
       "      <td>8</td>\n",
       "      <td>d</td>\n",
       "    </tr>\n",
       "    <tr>\n",
       "      <th>8</th>\n",
       "      <td>9</td>\n",
       "      <td>j</td>\n",
       "    </tr>\n",
       "    <tr>\n",
       "      <th>9</th>\n",
       "      <td>10</td>\n",
       "      <td>c</td>\n",
       "    </tr>\n",
       "  </tbody>\n",
       "</table>\n",
       "</div>"
      ],
      "text/plain": [
       "   col1_df1 col2_df1\n",
       "0         1        h\n",
       "1         2        t\n",
       "2         3        k\n",
       "3         4        d\n",
       "4         5        l\n",
       "5         6        e\n",
       "6         7        k\n",
       "7         8        d\n",
       "8         9        j\n",
       "9        10        c"
      ]
     },
     "execution_count": 9,
     "metadata": {},
     "output_type": "execute_result"
    }
   ],
   "source": [
    "dfx1 = {\n",
    "    \"col1_df1\": list(range(1, 11)),\n",
    "    \"col2_df1\": list(\"htkdlekdjc\"),\n",
    "}\n",
    "dfx1 = pd.DataFrame.from_dict(dfx1)\n",
    "dfx1"
   ]
  },
  {
   "cell_type": "code",
   "execution_count": 10,
   "metadata": {
    "ExecuteTime": {
     "end_time": "2021-04-22T17:11:43.883990Z",
     "start_time": "2021-04-22T17:11:43.847122Z"
    }
   },
   "outputs": [
    {
     "data": {
      "text/html": [
       "<div>\n",
       "<style scoped>\n",
       "    .dataframe tbody tr th:only-of-type {\n",
       "        vertical-align: middle;\n",
       "    }\n",
       "\n",
       "    .dataframe tbody tr th {\n",
       "        vertical-align: top;\n",
       "    }\n",
       "\n",
       "    .dataframe thead th {\n",
       "        text-align: right;\n",
       "    }\n",
       "</style>\n",
       "<table border=\"1\" class=\"dataframe\">\n",
       "  <thead>\n",
       "    <tr style=\"text-align: right;\">\n",
       "      <th></th>\n",
       "      <th>col1_df2</th>\n",
       "      <th>col2_df2</th>\n",
       "    </tr>\n",
       "  </thead>\n",
       "  <tbody>\n",
       "    <tr>\n",
       "      <th>0</th>\n",
       "      <td>11</td>\n",
       "      <td>j</td>\n",
       "    </tr>\n",
       "    <tr>\n",
       "      <th>1</th>\n",
       "      <td>12</td>\n",
       "      <td>f</td>\n",
       "    </tr>\n",
       "    <tr>\n",
       "      <th>2</th>\n",
       "      <td>13</td>\n",
       "      <td>l</td>\n",
       "    </tr>\n",
       "    <tr>\n",
       "      <th>3</th>\n",
       "      <td>14</td>\n",
       "      <td>d</td>\n",
       "    </tr>\n",
       "    <tr>\n",
       "      <th>4</th>\n",
       "      <td>15</td>\n",
       "      <td>u</td>\n",
       "    </tr>\n",
       "    <tr>\n",
       "      <th>5</th>\n",
       "      <td>16</td>\n",
       "      <td>r</td>\n",
       "    </tr>\n",
       "    <tr>\n",
       "      <th>6</th>\n",
       "      <td>17</td>\n",
       "      <td>y</td>\n",
       "    </tr>\n",
       "    <tr>\n",
       "      <th>7</th>\n",
       "      <td>18</td>\n",
       "      <td>t</td>\n",
       "    </tr>\n",
       "    <tr>\n",
       "      <th>8</th>\n",
       "      <td>19</td>\n",
       "      <td>g</td>\n",
       "    </tr>\n",
       "    <tr>\n",
       "      <th>9</th>\n",
       "      <td>20</td>\n",
       "      <td>c</td>\n",
       "    </tr>\n",
       "  </tbody>\n",
       "</table>\n",
       "</div>"
      ],
      "text/plain": [
       "   col1_df2 col2_df2\n",
       "0        11        j\n",
       "1        12        f\n",
       "2        13        l\n",
       "3        14        d\n",
       "4        15        u\n",
       "5        16        r\n",
       "6        17        y\n",
       "7        18        t\n",
       "8        19        g\n",
       "9        20        c"
      ]
     },
     "execution_count": 10,
     "metadata": {},
     "output_type": "execute_result"
    }
   ],
   "source": [
    "dfx2 = {\n",
    "    \"col1_df2\": list(range(11, 21)),\n",
    "    \"col2_df2\": list(\"jfldurytgc\"),\n",
    "}\n",
    "dfx2 = pd.DataFrame.from_dict(dfx2)\n",
    "dfx2"
   ]
  },
  {
   "cell_type": "code",
   "execution_count": 11,
   "metadata": {
    "ExecuteTime": {
     "end_time": "2021-04-22T17:12:15.464789Z",
     "start_time": "2021-04-22T17:12:15.427697Z"
    }
   },
   "outputs": [
    {
     "data": {
      "text/plain": [
       "{'dfx1':    col1_df1 col2_df1\n",
       " 0         1        h\n",
       " 1         2        t\n",
       " 2         3        k\n",
       " 3         4        d\n",
       " 4         5        l\n",
       " 5         6        e\n",
       " 6         7        k\n",
       " 7         8        d\n",
       " 8         9        j\n",
       " 9        10        c,\n",
       " 'dfx2':    col1_df2 col2_df2\n",
       " 0        11        j\n",
       " 1        12        f\n",
       " 2        13        l\n",
       " 3        14        d\n",
       " 4        15        u\n",
       " 5        16        r\n",
       " 6        17        y\n",
       " 7        18        t\n",
       " 8        19        g\n",
       " 9        20        c}"
      ]
     },
     "execution_count": 11,
     "metadata": {},
     "output_type": "execute_result"
    }
   ],
   "source": [
    "df_dict = {\n",
    "    \"dfx1\": dfx1,\n",
    "    \"dfx2\": dfx2\n",
    "}\n",
    "df_dict"
   ]
  },
  {
   "cell_type": "code",
   "execution_count": 13,
   "metadata": {
    "ExecuteTime": {
     "end_time": "2021-04-22T17:12:46.110517Z",
     "start_time": "2021-04-22T17:12:46.074460Z"
    }
   },
   "outputs": [
    {
     "data": {
      "text/html": [
       "<div>\n",
       "<style scoped>\n",
       "    .dataframe tbody tr th:only-of-type {\n",
       "        vertical-align: middle;\n",
       "    }\n",
       "\n",
       "    .dataframe tbody tr th {\n",
       "        vertical-align: top;\n",
       "    }\n",
       "\n",
       "    .dataframe thead th {\n",
       "        text-align: right;\n",
       "    }\n",
       "</style>\n",
       "<table border=\"1\" class=\"dataframe\">\n",
       "  <thead>\n",
       "    <tr style=\"text-align: right;\">\n",
       "      <th></th>\n",
       "      <th>col1_df2</th>\n",
       "      <th>col2_df2</th>\n",
       "    </tr>\n",
       "  </thead>\n",
       "  <tbody>\n",
       "    <tr>\n",
       "      <th>0</th>\n",
       "      <td>11</td>\n",
       "      <td>j</td>\n",
       "    </tr>\n",
       "    <tr>\n",
       "      <th>1</th>\n",
       "      <td>12</td>\n",
       "      <td>f</td>\n",
       "    </tr>\n",
       "    <tr>\n",
       "      <th>2</th>\n",
       "      <td>13</td>\n",
       "      <td>l</td>\n",
       "    </tr>\n",
       "    <tr>\n",
       "      <th>3</th>\n",
       "      <td>14</td>\n",
       "      <td>d</td>\n",
       "    </tr>\n",
       "    <tr>\n",
       "      <th>4</th>\n",
       "      <td>15</td>\n",
       "      <td>u</td>\n",
       "    </tr>\n",
       "    <tr>\n",
       "      <th>5</th>\n",
       "      <td>16</td>\n",
       "      <td>r</td>\n",
       "    </tr>\n",
       "    <tr>\n",
       "      <th>6</th>\n",
       "      <td>17</td>\n",
       "      <td>y</td>\n",
       "    </tr>\n",
       "    <tr>\n",
       "      <th>7</th>\n",
       "      <td>18</td>\n",
       "      <td>t</td>\n",
       "    </tr>\n",
       "    <tr>\n",
       "      <th>8</th>\n",
       "      <td>19</td>\n",
       "      <td>g</td>\n",
       "    </tr>\n",
       "    <tr>\n",
       "      <th>9</th>\n",
       "      <td>20</td>\n",
       "      <td>c</td>\n",
       "    </tr>\n",
       "  </tbody>\n",
       "</table>\n",
       "</div>"
      ],
      "text/plain": [
       "   col1_df2 col2_df2\n",
       "0        11        j\n",
       "1        12        f\n",
       "2        13        l\n",
       "3        14        d\n",
       "4        15        u\n",
       "5        16        r\n",
       "6        17        y\n",
       "7        18        t\n",
       "8        19        g\n",
       "9        20        c"
      ]
     },
     "execution_count": 13,
     "metadata": {},
     "output_type": "execute_result"
    }
   ],
   "source": [
    "df_dict['dfx2']"
   ]
  },
  {
   "cell_type": "markdown",
   "metadata": {},
   "source": [
    "### Storing dictionary as pickle variable and unpickling"
   ]
  },
  {
   "cell_type": "code",
   "execution_count": 16,
   "metadata": {
    "ExecuteTime": {
     "end_time": "2021-04-22T17:14:46.260645Z",
     "start_time": "2021-04-22T17:14:46.227826Z"
    }
   },
   "outputs": [],
   "source": [
    "df_dict_pkl = pickle.dumps(df_dict)"
   ]
  },
  {
   "cell_type": "code",
   "execution_count": 19,
   "metadata": {
    "ExecuteTime": {
     "end_time": "2021-04-22T17:15:20.175728Z",
     "start_time": "2021-04-22T17:15:20.143097Z"
    }
   },
   "outputs": [],
   "source": [
    "df_dict_x = pickle.loads(df_dict_pkl)"
   ]
  },
  {
   "cell_type": "code",
   "execution_count": 21,
   "metadata": {
    "ExecuteTime": {
     "end_time": "2021-04-22T17:15:40.053049Z",
     "start_time": "2021-04-22T17:15:40.014095Z"
    },
    "scrolled": true
   },
   "outputs": [
    {
     "data": {
      "text/html": [
       "<div>\n",
       "<style scoped>\n",
       "    .dataframe tbody tr th:only-of-type {\n",
       "        vertical-align: middle;\n",
       "    }\n",
       "\n",
       "    .dataframe tbody tr th {\n",
       "        vertical-align: top;\n",
       "    }\n",
       "\n",
       "    .dataframe thead th {\n",
       "        text-align: right;\n",
       "    }\n",
       "</style>\n",
       "<table border=\"1\" class=\"dataframe\">\n",
       "  <thead>\n",
       "    <tr style=\"text-align: right;\">\n",
       "      <th></th>\n",
       "      <th>col1_df2</th>\n",
       "      <th>col2_df2</th>\n",
       "    </tr>\n",
       "  </thead>\n",
       "  <tbody>\n",
       "    <tr>\n",
       "      <th>0</th>\n",
       "      <td>11</td>\n",
       "      <td>j</td>\n",
       "    </tr>\n",
       "    <tr>\n",
       "      <th>1</th>\n",
       "      <td>12</td>\n",
       "      <td>f</td>\n",
       "    </tr>\n",
       "    <tr>\n",
       "      <th>2</th>\n",
       "      <td>13</td>\n",
       "      <td>l</td>\n",
       "    </tr>\n",
       "    <tr>\n",
       "      <th>3</th>\n",
       "      <td>14</td>\n",
       "      <td>d</td>\n",
       "    </tr>\n",
       "    <tr>\n",
       "      <th>4</th>\n",
       "      <td>15</td>\n",
       "      <td>u</td>\n",
       "    </tr>\n",
       "    <tr>\n",
       "      <th>5</th>\n",
       "      <td>16</td>\n",
       "      <td>r</td>\n",
       "    </tr>\n",
       "    <tr>\n",
       "      <th>6</th>\n",
       "      <td>17</td>\n",
       "      <td>y</td>\n",
       "    </tr>\n",
       "    <tr>\n",
       "      <th>7</th>\n",
       "      <td>18</td>\n",
       "      <td>t</td>\n",
       "    </tr>\n",
       "    <tr>\n",
       "      <th>8</th>\n",
       "      <td>19</td>\n",
       "      <td>g</td>\n",
       "    </tr>\n",
       "    <tr>\n",
       "      <th>9</th>\n",
       "      <td>20</td>\n",
       "      <td>c</td>\n",
       "    </tr>\n",
       "  </tbody>\n",
       "</table>\n",
       "</div>"
      ],
      "text/plain": [
       "   col1_df2 col2_df2\n",
       "0        11        j\n",
       "1        12        f\n",
       "2        13        l\n",
       "3        14        d\n",
       "4        15        u\n",
       "5        16        r\n",
       "6        17        y\n",
       "7        18        t\n",
       "8        19        g\n",
       "9        20        c"
      ]
     },
     "execution_count": 21,
     "metadata": {},
     "output_type": "execute_result"
    }
   ],
   "source": [
    "df_dict_x['dfx2']"
   ]
  },
  {
   "cell_type": "markdown",
   "metadata": {},
   "source": [
    "### Storing dictionary as pickle in local memory and unpickling"
   ]
  },
  {
   "cell_type": "code",
   "execution_count": 24,
   "metadata": {
    "ExecuteTime": {
     "end_time": "2021-04-22T17:17:28.717382Z",
     "start_time": "2021-04-22T17:17:28.684183Z"
    }
   },
   "outputs": [],
   "source": [
    "pkl_file = \"../data/pickles/test_df_dict_pkl.pkl\""
   ]
  },
  {
   "cell_type": "code",
   "execution_count": 28,
   "metadata": {
    "ExecuteTime": {
     "end_time": "2021-04-22T17:19:18.255198Z",
     "start_time": "2021-04-22T17:19:18.220864Z"
    }
   },
   "outputs": [],
   "source": [
    "pickle.dump(df_dict, open(pkl_file, \"wb\"))"
   ]
  },
  {
   "cell_type": "code",
   "execution_count": 33,
   "metadata": {
    "ExecuteTime": {
     "end_time": "2021-04-22T17:20:41.795420Z",
     "start_time": "2021-04-22T17:20:41.762737Z"
    }
   },
   "outputs": [],
   "source": [
    "df_dict_x = pickle.load(open(pkl_file, \"rb\"))"
   ]
  },
  {
   "cell_type": "code",
   "execution_count": 35,
   "metadata": {
    "ExecuteTime": {
     "end_time": "2021-04-22T17:20:47.636340Z",
     "start_time": "2021-04-22T17:20:47.598904Z"
    },
    "scrolled": true
   },
   "outputs": [
    {
     "data": {
      "text/html": [
       "<div>\n",
       "<style scoped>\n",
       "    .dataframe tbody tr th:only-of-type {\n",
       "        vertical-align: middle;\n",
       "    }\n",
       "\n",
       "    .dataframe tbody tr th {\n",
       "        vertical-align: top;\n",
       "    }\n",
       "\n",
       "    .dataframe thead th {\n",
       "        text-align: right;\n",
       "    }\n",
       "</style>\n",
       "<table border=\"1\" class=\"dataframe\">\n",
       "  <thead>\n",
       "    <tr style=\"text-align: right;\">\n",
       "      <th></th>\n",
       "      <th>col1_df2</th>\n",
       "      <th>col2_df2</th>\n",
       "    </tr>\n",
       "  </thead>\n",
       "  <tbody>\n",
       "    <tr>\n",
       "      <th>0</th>\n",
       "      <td>11</td>\n",
       "      <td>j</td>\n",
       "    </tr>\n",
       "    <tr>\n",
       "      <th>1</th>\n",
       "      <td>12</td>\n",
       "      <td>f</td>\n",
       "    </tr>\n",
       "    <tr>\n",
       "      <th>2</th>\n",
       "      <td>13</td>\n",
       "      <td>l</td>\n",
       "    </tr>\n",
       "    <tr>\n",
       "      <th>3</th>\n",
       "      <td>14</td>\n",
       "      <td>d</td>\n",
       "    </tr>\n",
       "    <tr>\n",
       "      <th>4</th>\n",
       "      <td>15</td>\n",
       "      <td>u</td>\n",
       "    </tr>\n",
       "    <tr>\n",
       "      <th>5</th>\n",
       "      <td>16</td>\n",
       "      <td>r</td>\n",
       "    </tr>\n",
       "    <tr>\n",
       "      <th>6</th>\n",
       "      <td>17</td>\n",
       "      <td>y</td>\n",
       "    </tr>\n",
       "    <tr>\n",
       "      <th>7</th>\n",
       "      <td>18</td>\n",
       "      <td>t</td>\n",
       "    </tr>\n",
       "    <tr>\n",
       "      <th>8</th>\n",
       "      <td>19</td>\n",
       "      <td>g</td>\n",
       "    </tr>\n",
       "    <tr>\n",
       "      <th>9</th>\n",
       "      <td>20</td>\n",
       "      <td>c</td>\n",
       "    </tr>\n",
       "  </tbody>\n",
       "</table>\n",
       "</div>"
      ],
      "text/plain": [
       "   col1_df2 col2_df2\n",
       "0        11        j\n",
       "1        12        f\n",
       "2        13        l\n",
       "3        14        d\n",
       "4        15        u\n",
       "5        16        r\n",
       "6        17        y\n",
       "7        18        t\n",
       "8        19        g\n",
       "9        20        c"
      ]
     },
     "execution_count": 35,
     "metadata": {},
     "output_type": "execute_result"
    }
   ],
   "source": [
    "df_dict_x['dfx2']"
   ]
  },
  {
   "cell_type": "markdown",
   "metadata": {},
   "source": [
    "---"
   ]
  },
  {
   "cell_type": "markdown",
   "metadata": {},
   "source": [
    "## *Notes*"
   ]
  },
  {
   "cell_type": "markdown",
   "metadata": {},
   "source": [
    "---\n",
    "---"
   ]
  }
 ],
 "metadata": {
  "celltoolbar": "Initialization Cell",
  "kernelspec": {
   "display_name": "Python 3",
   "language": "python",
   "name": "python3"
  },
  "language_info": {
   "codemirror_mode": {
    "name": "ipython",
    "version": 3
   },
   "file_extension": ".py",
   "mimetype": "text/x-python",
   "name": "python",
   "nbconvert_exporter": "python",
   "pygments_lexer": "ipython3",
   "version": "3.8.5"
  },
  "toc": {
   "base_numbering": 1,
   "nav_menu": {},
   "number_sections": true,
   "sideBar": true,
   "skip_h1_title": false,
   "title_cell": "Table of Contents",
   "title_sidebar": "Contents",
   "toc_cell": false,
   "toc_position": {},
   "toc_section_display": true,
   "toc_window_display": false
  }
 },
 "nbformat": 4,
 "nbformat_minor": 4
}
