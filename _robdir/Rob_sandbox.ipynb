{
 "cells": [
  {
   "cell_type": "markdown",
   "id": "alive-effort",
   "metadata": {},
   "source": [
    "# Rob sandbox"
   ]
  },
  {
   "cell_type": "markdown",
   "id": "japanese-satellite",
   "metadata": {},
   "source": [
    "## Imports"
   ]
  },
  {
   "cell_type": "markdown",
   "id": "every-prayer",
   "metadata": {},
   "source": [
    "#### Standard library imports"
   ]
  },
  {
   "cell_type": "code",
   "execution_count": 1,
   "id": "interstate-brother",
   "metadata": {
    "ExecuteTime": {
     "end_time": "2021-02-01T01:39:25.598441Z",
     "start_time": "2021-02-01T01:39:25.591378Z"
    }
   },
   "outputs": [],
   "source": [
    "import sys"
   ]
  },
  {
   "cell_type": "markdown",
   "id": "vulnerable-genre",
   "metadata": {},
   "source": [
    "#### Third party imports"
   ]
  },
  {
   "cell_type": "code",
   "execution_count": 2,
   "id": "hired-orange",
   "metadata": {
    "ExecuteTime": {
     "end_time": "2021-02-01T01:39:26.045325Z",
     "start_time": "2021-02-01T01:39:25.600426Z"
    }
   },
   "outputs": [],
   "source": [
    "import pandas as pd\n",
    "pd.set_option('display.max_columns', 500)"
   ]
  },
  {
   "cell_type": "markdown",
   "id": "prostate-gabriel",
   "metadata": {},
   "source": [
    "#### Local application imports"
   ]
  },
  {
   "cell_type": "code",
   "execution_count": 3,
   "id": "romance-agriculture",
   "metadata": {
    "ExecuteTime": {
     "end_time": "2021-02-01T01:39:26.050136Z",
     "start_time": "2021-02-01T01:39:26.047713Z"
    }
   },
   "outputs": [],
   "source": [
    "sys.path.append(\"../\")"
   ]
  },
  {
   "cell_type": "code",
   "execution_count": 4,
   "id": "continued-maintenance",
   "metadata": {
    "ExecuteTime": {
     "end_time": "2021-02-01T01:39:27.414568Z",
     "start_time": "2021-02-01T01:39:26.052504Z"
    }
   },
   "outputs": [],
   "source": [
    "%reload_ext autoreload\n",
    "%autoreload 2\n",
    "\n",
    "from src.utils.utils import (\n",
    "    clean_col_names\n",
    ")"
   ]
  },
  {
   "cell_type": "markdown",
   "id": "velvet-climate",
   "metadata": {},
   "source": [
    "---"
   ]
  },
  {
   "cell_type": "markdown",
   "id": "oriental-leadership",
   "metadata": {},
   "source": [
    "## Data"
   ]
  },
  {
   "cell_type": "code",
   "execution_count": 5,
   "id": "fitting-legislation",
   "metadata": {
    "ExecuteTime": {
     "end_time": "2021-02-01T01:39:31.508642Z",
     "start_time": "2021-02-01T01:39:29.342251Z"
    },
    "scrolled": true
   },
   "outputs": [],
   "source": [
    "df = pd.read_csv(\"Food_Inspections.csv\")"
   ]
  },
  {
   "cell_type": "markdown",
   "id": "alpha-backup",
   "metadata": {},
   "source": [
    "---"
   ]
  },
  {
   "cell_type": "markdown",
   "id": "expired-liberal",
   "metadata": {},
   "source": [
    "## Exploring data"
   ]
  },
  {
   "cell_type": "code",
   "execution_count": null,
   "id": "current-avatar",
   "metadata": {
    "ExecuteTime": {
     "end_time": "2021-02-01T01:29:41.493506Z",
     "start_time": "2021-02-01T01:29:41.463564Z"
    },
    "scrolled": true
   },
   "outputs": [],
   "source": [
    "df"
   ]
  },
  {
   "cell_type": "code",
   "execution_count": null,
   "id": "metropolitan-builder",
   "metadata": {
    "ExecuteTime": {
     "end_time": "2021-02-01T01:29:41.601709Z",
     "start_time": "2021-02-01T01:29:41.495730Z"
    }
   },
   "outputs": [],
   "source": [
    "df.info()"
   ]
  },
  {
   "cell_type": "code",
   "execution_count": null,
   "id": "suspected-quilt",
   "metadata": {
    "ExecuteTime": {
     "end_time": "2021-02-01T01:32:29.873287Z",
     "start_time": "2021-02-01T01:32:29.735726Z"
    }
   },
   "outputs": [],
   "source": [
    "df[\"Violations\"].unique()"
   ]
  },
  {
   "cell_type": "code",
   "execution_count": null,
   "id": "adjustable-scout",
   "metadata": {
    "ExecuteTime": {
     "end_time": "2021-02-01T01:24:37.104307Z",
     "start_time": "2021-02-01T01:24:37.089635Z"
    }
   },
   "outputs": [],
   "source": [
    "len(list(df[\"Facility Type\"].unique()))"
   ]
  },
  {
   "cell_type": "markdown",
   "id": "vital-health",
   "metadata": {},
   "source": [
    "---\n",
    "---"
   ]
  }
 ],
 "metadata": {
  "kernelspec": {
   "display_name": "Python 3",
   "language": "python",
   "name": "python3"
  },
  "language_info": {
   "codemirror_mode": {
    "name": "ipython",
    "version": 3
   },
   "file_extension": ".py",
   "mimetype": "text/x-python",
   "name": "python",
   "nbconvert_exporter": "python",
   "pygments_lexer": "ipython3",
   "version": "3.8.5"
  }
 },
 "nbformat": 4,
 "nbformat_minor": 5
}
