{
 "cells": [
  {
   "cell_type": "markdown",
   "id": "alive-effort",
   "metadata": {},
   "source": [
    "# Rob sandbox"
   ]
  },
  {
   "cell_type": "markdown",
   "id": "japanese-satellite",
   "metadata": {},
   "source": [
    "## Imports"
   ]
  },
  {
   "cell_type": "markdown",
   "id": "every-prayer",
   "metadata": {},
   "source": [
    "#### Standard library imports"
   ]
  },
  {
   "cell_type": "markdown",
   "id": "vulnerable-genre",
   "metadata": {},
   "source": [
    "#### Third party imports"
   ]
  },
  {
   "cell_type": "code",
   "execution_count": 2,
   "id": "hired-orange",
   "metadata": {
    "ExecuteTime": {
     "end_time": "2021-01-15T18:24:05.707038Z",
     "start_time": "2021-01-15T18:23:57.032393Z"
    }
   },
   "outputs": [],
   "source": [
    "import pandas as pd\n",
    "pd.set_option('display.max_columns', 500)"
   ]
  },
  {
   "cell_type": "markdown",
   "id": "prostate-gabriel",
   "metadata": {},
   "source": [
    "#### Local application imports"
   ]
  },
  {
   "cell_type": "markdown",
   "id": "velvet-climate",
   "metadata": {},
   "source": [
    "---"
   ]
  },
  {
   "cell_type": "markdown",
   "id": "oriental-leadership",
   "metadata": {},
   "source": [
    "## Data"
   ]
  },
  {
   "cell_type": "code",
   "execution_count": 5,
   "id": "fitting-legislation",
   "metadata": {
    "ExecuteTime": {
     "end_time": "2021-01-15T18:24:48.361339Z",
     "start_time": "2021-01-15T18:24:46.160599Z"
    },
    "scrolled": true
   },
   "outputs": [],
   "source": [
    "df = pd.read_csv(\"Food_Inspections.csv\")"
   ]
  },
  {
   "cell_type": "markdown",
   "id": "alpha-backup",
   "metadata": {},
   "source": [
    "---"
   ]
  },
  {
   "cell_type": "markdown",
   "id": "expired-liberal",
   "metadata": {},
   "source": [
    "## Exploring data"
   ]
  },
  {
   "cell_type": "code",
   "execution_count": 6,
   "id": "current-avatar",
   "metadata": {
    "ExecuteTime": {
     "end_time": "2021-01-15T18:25:02.696066Z",
     "start_time": "2021-01-15T18:25:02.661877Z"
    },
    "scrolled": true
   },
   "outputs": [
    {
     "data": {
      "text/html": [
       "<div>\n",
       "<style scoped>\n",
       "    .dataframe tbody tr th:only-of-type {\n",
       "        vertical-align: middle;\n",
       "    }\n",
       "\n",
       "    .dataframe tbody tr th {\n",
       "        vertical-align: top;\n",
       "    }\n",
       "\n",
       "    .dataframe thead th {\n",
       "        text-align: right;\n",
       "    }\n",
       "</style>\n",
       "<table border=\"1\" class=\"dataframe\">\n",
       "  <thead>\n",
       "    <tr style=\"text-align: right;\">\n",
       "      <th></th>\n",
       "      <th>Inspection ID</th>\n",
       "      <th>DBA Name</th>\n",
       "      <th>AKA Name</th>\n",
       "      <th>License #</th>\n",
       "      <th>Facility Type</th>\n",
       "      <th>Risk</th>\n",
       "      <th>Address</th>\n",
       "      <th>City</th>\n",
       "      <th>State</th>\n",
       "      <th>Zip</th>\n",
       "      <th>Inspection Date</th>\n",
       "      <th>Inspection Type</th>\n",
       "      <th>Results</th>\n",
       "      <th>Violations</th>\n",
       "      <th>Latitude</th>\n",
       "      <th>Longitude</th>\n",
       "      <th>Location</th>\n",
       "    </tr>\n",
       "  </thead>\n",
       "  <tbody>\n",
       "    <tr>\n",
       "      <th>0</th>\n",
       "      <td>2453552</td>\n",
       "      <td>CLAMP DOWN BURGERS</td>\n",
       "      <td>NaN</td>\n",
       "      <td>2749943.0</td>\n",
       "      <td>NaN</td>\n",
       "      <td>Risk 2 (Medium)</td>\n",
       "      <td>1742 W DIVISION ST</td>\n",
       "      <td>CHICAGO</td>\n",
       "      <td>IL</td>\n",
       "      <td>60622.0</td>\n",
       "      <td>10/20/2020</td>\n",
       "      <td>License</td>\n",
       "      <td>No Entry</td>\n",
       "      <td>NaN</td>\n",
       "      <td>41.903387</td>\n",
       "      <td>-87.671740</td>\n",
       "      <td>(-87.67174026586648, 41.903386755553484)</td>\n",
       "    </tr>\n",
       "    <tr>\n",
       "      <th>1</th>\n",
       "      <td>2386633</td>\n",
       "      <td>JIN JU</td>\n",
       "      <td>JIN JU</td>\n",
       "      <td>27137.0</td>\n",
       "      <td>Restaurant</td>\n",
       "      <td>Risk 1 (High)</td>\n",
       "      <td>5203 N CLARK ST</td>\n",
       "      <td>CHICAGO</td>\n",
       "      <td>IL</td>\n",
       "      <td>60640.0</td>\n",
       "      <td>08/28/2020</td>\n",
       "      <td>Canvass</td>\n",
       "      <td>No Entry</td>\n",
       "      <td>NaN</td>\n",
       "      <td>41.976301</td>\n",
       "      <td>-87.668276</td>\n",
       "      <td>(-87.66827593789948, 41.97630115368914)</td>\n",
       "    </tr>\n",
       "    <tr>\n",
       "      <th>2</th>\n",
       "      <td>2386595</td>\n",
       "      <td>LA BIZNAGA #2</td>\n",
       "      <td>LA BIZNAGA #2</td>\n",
       "      <td>2708992.0</td>\n",
       "      <td>NaN</td>\n",
       "      <td>Risk 1 (High)</td>\n",
       "      <td>2949 W BELMONT AVE</td>\n",
       "      <td>CHICAGO</td>\n",
       "      <td>IL</td>\n",
       "      <td>60618.0</td>\n",
       "      <td>08/27/2020</td>\n",
       "      <td>Complaint</td>\n",
       "      <td>No Entry</td>\n",
       "      <td>NaN</td>\n",
       "      <td>41.939256</td>\n",
       "      <td>-87.702270</td>\n",
       "      <td>(-87.70226967930802, 41.939255926667535)</td>\n",
       "    </tr>\n",
       "    <tr>\n",
       "      <th>3</th>\n",
       "      <td>2386464</td>\n",
       "      <td>Uni Sushi Bristo</td>\n",
       "      <td>Uni Sushi Bistro</td>\n",
       "      <td>2262637.0</td>\n",
       "      <td>Restaurant</td>\n",
       "      <td>Risk 1 (High)</td>\n",
       "      <td>1752 W NORTH AVE</td>\n",
       "      <td>CHICAGO</td>\n",
       "      <td>IL</td>\n",
       "      <td>60622.0</td>\n",
       "      <td>08/25/2020</td>\n",
       "      <td>Complaint</td>\n",
       "      <td>No Entry</td>\n",
       "      <td>NaN</td>\n",
       "      <td>41.910676</td>\n",
       "      <td>-87.672205</td>\n",
       "      <td>(-87.67220465807979, 41.91067561170382)</td>\n",
       "    </tr>\n",
       "    <tr>\n",
       "      <th>4</th>\n",
       "      <td>2386398</td>\n",
       "      <td>KIKI'S BISTRO</td>\n",
       "      <td>KIKI'S BISTRO</td>\n",
       "      <td>22899.0</td>\n",
       "      <td>Restaurant</td>\n",
       "      <td>Risk 1 (High)</td>\n",
       "      <td>900 N FRANKLIN ST</td>\n",
       "      <td>CHICAGO</td>\n",
       "      <td>IL</td>\n",
       "      <td>60610.0</td>\n",
       "      <td>08/24/2020</td>\n",
       "      <td>Canvass</td>\n",
       "      <td>No Entry</td>\n",
       "      <td>NaN</td>\n",
       "      <td>41.898998</td>\n",
       "      <td>-87.635921</td>\n",
       "      <td>(-87.63592067312285, 41.89899799424835)</td>\n",
       "    </tr>\n",
       "    <tr>\n",
       "      <th>...</th>\n",
       "      <td>...</td>\n",
       "      <td>...</td>\n",
       "      <td>...</td>\n",
       "      <td>...</td>\n",
       "      <td>...</td>\n",
       "      <td>...</td>\n",
       "      <td>...</td>\n",
       "      <td>...</td>\n",
       "      <td>...</td>\n",
       "      <td>...</td>\n",
       "      <td>...</td>\n",
       "      <td>...</td>\n",
       "      <td>...</td>\n",
       "      <td>...</td>\n",
       "      <td>...</td>\n",
       "      <td>...</td>\n",
       "      <td>...</td>\n",
       "    </tr>\n",
       "    <tr>\n",
       "      <th>215062</th>\n",
       "      <td>229233</td>\n",
       "      <td>ZULLO'S MARKETS, LLC</td>\n",
       "      <td>ZULLO'S MARKET</td>\n",
       "      <td>2016915.0</td>\n",
       "      <td>Restaurant</td>\n",
       "      <td>Risk 2 (Medium)</td>\n",
       "      <td>131 N Clinton ST</td>\n",
       "      <td>CHICAGO</td>\n",
       "      <td>IL</td>\n",
       "      <td>60661.0</td>\n",
       "      <td>02/18/2010</td>\n",
       "      <td>License</td>\n",
       "      <td>Fail</td>\n",
       "      <td>NaN</td>\n",
       "      <td>41.884188</td>\n",
       "      <td>-87.641120</td>\n",
       "      <td>(-87.64111966683218, 41.884187507127805)</td>\n",
       "    </tr>\n",
       "    <tr>\n",
       "      <th>215063</th>\n",
       "      <td>68205</td>\n",
       "      <td>LA FONDA CHIQUITA TLC</td>\n",
       "      <td>LA FONDA CHIQUITA</td>\n",
       "      <td>2017215.0</td>\n",
       "      <td>Restaurant</td>\n",
       "      <td>Risk 1 (High)</td>\n",
       "      <td>5940 W DIVERSEY AVE</td>\n",
       "      <td>CHICAGO</td>\n",
       "      <td>IL</td>\n",
       "      <td>60639.0</td>\n",
       "      <td>02/09/2010</td>\n",
       "      <td>License</td>\n",
       "      <td>Fail</td>\n",
       "      <td>12. HAND WASHING FACILITIES: WITH SOAP AND SAN...</td>\n",
       "      <td>41.931260</td>\n",
       "      <td>-87.775203</td>\n",
       "      <td>(-87.77520287598688, 41.93125971874477)</td>\n",
       "    </tr>\n",
       "    <tr>\n",
       "      <th>215064</th>\n",
       "      <td>88234</td>\n",
       "      <td>KABAB CUISINE 2</td>\n",
       "      <td>KABAB CUISINE 2</td>\n",
       "      <td>2014076.0</td>\n",
       "      <td>Restaurant</td>\n",
       "      <td>Risk 1 (High)</td>\n",
       "      <td>6320 N LINCOLN AVE</td>\n",
       "      <td>CHICAGO</td>\n",
       "      <td>IL</td>\n",
       "      <td>60659.0</td>\n",
       "      <td>02/01/2010</td>\n",
       "      <td>License Re-Inspection</td>\n",
       "      <td>Pass</td>\n",
       "      <td>NaN</td>\n",
       "      <td>41.996139</td>\n",
       "      <td>-87.716968</td>\n",
       "      <td>(-87.71696834498202, 41.996139331170895)</td>\n",
       "    </tr>\n",
       "    <tr>\n",
       "      <th>215065</th>\n",
       "      <td>74311</td>\n",
       "      <td>MARGARITA DISTRIBUTORS</td>\n",
       "      <td>NaN</td>\n",
       "      <td>2017298.0</td>\n",
       "      <td>Wholesale</td>\n",
       "      <td>Risk 3 (Low)</td>\n",
       "      <td>2332 S BLUE ISLAND AVE BLDG</td>\n",
       "      <td>CHICAGO</td>\n",
       "      <td>IL</td>\n",
       "      <td>60608.0</td>\n",
       "      <td>02/19/2010</td>\n",
       "      <td>License Re-Inspection</td>\n",
       "      <td>Pass</td>\n",
       "      <td>NaN</td>\n",
       "      <td>41.849940</td>\n",
       "      <td>-87.672421</td>\n",
       "      <td>(-87.67242100722251, 41.84994008002549)</td>\n",
       "    </tr>\n",
       "    <tr>\n",
       "      <th>215066</th>\n",
       "      <td>67838</td>\n",
       "      <td>OUR LADY OF LOURDES</td>\n",
       "      <td>OUR LADY OF LOURDES</td>\n",
       "      <td>42577.0</td>\n",
       "      <td>Daycare (Under 2 Years)</td>\n",
       "      <td>Risk 1 (High)</td>\n",
       "      <td>1449 S KEELER AVE</td>\n",
       "      <td>CHICAGO</td>\n",
       "      <td>IL</td>\n",
       "      <td>60623.0</td>\n",
       "      <td>01/12/2010</td>\n",
       "      <td>Canvass</td>\n",
       "      <td>Fail</td>\n",
       "      <td>18. NO EVIDENCE OF RODENT OR INSECT OUTER OPEN...</td>\n",
       "      <td>41.861003</td>\n",
       "      <td>-87.729762</td>\n",
       "      <td>(-87.72976247742804, 41.861003270876026)</td>\n",
       "    </tr>\n",
       "  </tbody>\n",
       "</table>\n",
       "<p>215067 rows × 17 columns</p>\n",
       "</div>"
      ],
      "text/plain": [
       "        Inspection ID                DBA Name             AKA Name  License #  \\\n",
       "0             2453552      CLAMP DOWN BURGERS                  NaN  2749943.0   \n",
       "1             2386633                  JIN JU               JIN JU    27137.0   \n",
       "2             2386595           LA BIZNAGA #2        LA BIZNAGA #2  2708992.0   \n",
       "3             2386464        Uni Sushi Bristo     Uni Sushi Bistro  2262637.0   \n",
       "4             2386398           KIKI'S BISTRO        KIKI'S BISTRO    22899.0   \n",
       "...               ...                     ...                  ...        ...   \n",
       "215062         229233    ZULLO'S MARKETS, LLC       ZULLO'S MARKET  2016915.0   \n",
       "215063          68205   LA FONDA CHIQUITA TLC    LA FONDA CHIQUITA  2017215.0   \n",
       "215064          88234         KABAB CUISINE 2      KABAB CUISINE 2  2014076.0   \n",
       "215065          74311  MARGARITA DISTRIBUTORS                  NaN  2017298.0   \n",
       "215066          67838     OUR LADY OF LOURDES  OUR LADY OF LOURDES    42577.0   \n",
       "\n",
       "                  Facility Type             Risk  \\\n",
       "0                           NaN  Risk 2 (Medium)   \n",
       "1                    Restaurant    Risk 1 (High)   \n",
       "2                           NaN    Risk 1 (High)   \n",
       "3                    Restaurant    Risk 1 (High)   \n",
       "4                    Restaurant    Risk 1 (High)   \n",
       "...                         ...              ...   \n",
       "215062               Restaurant  Risk 2 (Medium)   \n",
       "215063               Restaurant    Risk 1 (High)   \n",
       "215064               Restaurant    Risk 1 (High)   \n",
       "215065                Wholesale     Risk 3 (Low)   \n",
       "215066  Daycare (Under 2 Years)    Risk 1 (High)   \n",
       "\n",
       "                             Address     City State      Zip Inspection Date  \\\n",
       "0                1742 W DIVISION ST   CHICAGO    IL  60622.0      10/20/2020   \n",
       "1                   5203 N CLARK ST   CHICAGO    IL  60640.0      08/28/2020   \n",
       "2                2949 W BELMONT AVE   CHICAGO    IL  60618.0      08/27/2020   \n",
       "3                  1752 W NORTH AVE   CHICAGO    IL  60622.0      08/25/2020   \n",
       "4                 900 N FRANKLIN ST   CHICAGO    IL  60610.0      08/24/2020   \n",
       "...                              ...      ...   ...      ...             ...   \n",
       "215062             131 N Clinton ST   CHICAGO    IL  60661.0      02/18/2010   \n",
       "215063          5940 W DIVERSEY AVE   CHICAGO    IL  60639.0      02/09/2010   \n",
       "215064           6320 N LINCOLN AVE   CHICAGO    IL  60659.0      02/01/2010   \n",
       "215065  2332 S BLUE ISLAND AVE BLDG   CHICAGO    IL  60608.0      02/19/2010   \n",
       "215066            1449 S KEELER AVE   CHICAGO    IL  60623.0      01/12/2010   \n",
       "\n",
       "              Inspection Type   Results  \\\n",
       "0                     License  No Entry   \n",
       "1                     Canvass  No Entry   \n",
       "2                   Complaint  No Entry   \n",
       "3                   Complaint  No Entry   \n",
       "4                     Canvass  No Entry   \n",
       "...                       ...       ...   \n",
       "215062                License      Fail   \n",
       "215063                License      Fail   \n",
       "215064  License Re-Inspection      Pass   \n",
       "215065  License Re-Inspection      Pass   \n",
       "215066                Canvass      Fail   \n",
       "\n",
       "                                               Violations   Latitude  \\\n",
       "0                                                     NaN  41.903387   \n",
       "1                                                     NaN  41.976301   \n",
       "2                                                     NaN  41.939256   \n",
       "3                                                     NaN  41.910676   \n",
       "4                                                     NaN  41.898998   \n",
       "...                                                   ...        ...   \n",
       "215062                                                NaN  41.884188   \n",
       "215063  12. HAND WASHING FACILITIES: WITH SOAP AND SAN...  41.931260   \n",
       "215064                                                NaN  41.996139   \n",
       "215065                                                NaN  41.849940   \n",
       "215066  18. NO EVIDENCE OF RODENT OR INSECT OUTER OPEN...  41.861003   \n",
       "\n",
       "        Longitude                                  Location  \n",
       "0      -87.671740  (-87.67174026586648, 41.903386755553484)  \n",
       "1      -87.668276   (-87.66827593789948, 41.97630115368914)  \n",
       "2      -87.702270  (-87.70226967930802, 41.939255926667535)  \n",
       "3      -87.672205   (-87.67220465807979, 41.91067561170382)  \n",
       "4      -87.635921   (-87.63592067312285, 41.89899799424835)  \n",
       "...           ...                                       ...  \n",
       "215062 -87.641120  (-87.64111966683218, 41.884187507127805)  \n",
       "215063 -87.775203   (-87.77520287598688, 41.93125971874477)  \n",
       "215064 -87.716968  (-87.71696834498202, 41.996139331170895)  \n",
       "215065 -87.672421   (-87.67242100722251, 41.84994008002549)  \n",
       "215066 -87.729762  (-87.72976247742804, 41.861003270876026)  \n",
       "\n",
       "[215067 rows x 17 columns]"
      ]
     },
     "execution_count": 6,
     "metadata": {},
     "output_type": "execute_result"
    }
   ],
   "source": [
    "df"
   ]
  },
  {
   "cell_type": "code",
   "execution_count": 13,
   "id": "metropolitan-builder",
   "metadata": {
    "ExecuteTime": {
     "end_time": "2021-01-15T18:33:22.904593Z",
     "start_time": "2021-01-15T18:33:22.674745Z"
    }
   },
   "outputs": [
    {
     "name": "stdout",
     "output_type": "stream",
     "text": [
      "<class 'pandas.core.frame.DataFrame'>\n",
      "RangeIndex: 215067 entries, 0 to 215066\n",
      "Data columns (total 17 columns):\n",
      " #   Column           Non-Null Count   Dtype  \n",
      "---  ------           --------------   -----  \n",
      " 0   Inspection ID    215067 non-null  int64  \n",
      " 1   DBA Name         215067 non-null  object \n",
      " 2   AKA Name         212581 non-null  object \n",
      " 3   License #        215050 non-null  float64\n",
      " 4   Facility Type    210178 non-null  object \n",
      " 5   Risk             214998 non-null  object \n",
      " 6   Address          215067 non-null  object \n",
      " 7   City             214909 non-null  object \n",
      " 8   State            215017 non-null  object \n",
      " 9   Zip              215015 non-null  float64\n",
      " 10  Inspection Date  215067 non-null  object \n",
      " 11  Inspection Type  215066 non-null  object \n",
      " 12  Results          215067 non-null  object \n",
      " 13  Violations       157643 non-null  object \n",
      " 14  Latitude         214357 non-null  float64\n",
      " 15  Longitude        214357 non-null  float64\n",
      " 16  Location         214357 non-null  object \n",
      "dtypes: float64(4), int64(1), object(12)\n",
      "memory usage: 27.9+ MB\n"
     ]
    }
   ],
   "source": [
    "df.info()"
   ]
  },
  {
   "cell_type": "code",
   "execution_count": 12,
   "id": "adjustable-scout",
   "metadata": {
    "ExecuteTime": {
     "end_time": "2021-01-15T18:33:03.186203Z",
     "start_time": "2021-01-15T18:33:03.171702Z"
    }
   },
   "outputs": [
    {
     "data": {
      "text/plain": [
       "501"
      ]
     },
     "execution_count": 12,
     "metadata": {},
     "output_type": "execute_result"
    }
   ],
   "source": [
    "len(list(df[\"Facility Type\"].unique()))"
   ]
  },
  {
   "cell_type": "markdown",
   "id": "vital-health",
   "metadata": {},
   "source": [
    "---\n",
    "---"
   ]
  }
 ],
 "metadata": {
  "kernelspec": {
   "display_name": "Python 3",
   "language": "python",
   "name": "python3"
  },
  "language_info": {
   "codemirror_mode": {
    "name": "ipython",
    "version": 3
   },
   "file_extension": ".py",
   "mimetype": "text/x-python",
   "name": "python",
   "nbconvert_exporter": "python",
   "pygments_lexer": "ipython3",
   "version": "3.8.5"
  }
 },
 "nbformat": 4,
 "nbformat_minor": 5
}
