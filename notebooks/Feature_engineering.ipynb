{
 "cells": [
  {
   "cell_type": "markdown",
   "metadata": {},
   "source": [
    "## Feature Engeneering "
   ]
  },
  {
   "cell_type": "code",
   "execution_count": 1,
   "metadata": {},
   "outputs": [],
   "source": [
    "import pandas as pd\n",
    "pd.options.display.max_columns = 25\n",
    "\n"
   ]
  },
  {
   "cell_type": "code",
   "execution_count": 2,
   "metadata": {},
   "outputs": [],
   "source": [
    "import sys \n",
    "sys.path.append(\"../..\")\n",
    "from dpa_2021.src.utils.utils import *"
   ]
  },
  {
   "cell_type": "code",
   "execution_count": 3,
   "metadata": {
    "scrolled": true
   },
   "outputs": [
    {
     "data": {
      "text/html": [
       "<div>\n",
       "<style scoped>\n",
       "    .dataframe tbody tr th:only-of-type {\n",
       "        vertical-align: middle;\n",
       "    }\n",
       "\n",
       "    .dataframe tbody tr th {\n",
       "        vertical-align: top;\n",
       "    }\n",
       "\n",
       "    .dataframe thead th {\n",
       "        text-align: right;\n",
       "    }\n",
       "</style>\n",
       "<table border=\"1\" class=\"dataframe\">\n",
       "  <thead>\n",
       "    <tr style=\"text-align: right;\">\n",
       "      <th></th>\n",
       "      <th>Inspection ID</th>\n",
       "      <th>DBA Name</th>\n",
       "      <th>AKA Name</th>\n",
       "      <th>License #</th>\n",
       "      <th>Facility Type</th>\n",
       "      <th>Risk</th>\n",
       "      <th>Address</th>\n",
       "      <th>City</th>\n",
       "      <th>State</th>\n",
       "      <th>Zip</th>\n",
       "      <th>Inspection Date</th>\n",
       "      <th>Inspection Type</th>\n",
       "      <th>Results</th>\n",
       "      <th>Violations</th>\n",
       "      <th>Latitude</th>\n",
       "      <th>Longitude</th>\n",
       "      <th>Location</th>\n",
       "    </tr>\n",
       "  </thead>\n",
       "  <tbody>\n",
       "    <tr>\n",
       "      <th>0</th>\n",
       "      <td>2473009</td>\n",
       "      <td>JENI'S SPLENDID ICE CREAMS</td>\n",
       "      <td>JENI'S SPLENDID ICE CREAMS</td>\n",
       "      <td>2767260.0</td>\n",
       "      <td>Restaurant</td>\n",
       "      <td>Risk 2 (Medium)</td>\n",
       "      <td>2512 N MILKWAUKEE AVE</td>\n",
       "      <td>CHICAGO</td>\n",
       "      <td>IL</td>\n",
       "      <td>60647.0</td>\n",
       "      <td>01/22/2021</td>\n",
       "      <td>License</td>\n",
       "      <td>Pass</td>\n",
       "      <td>NaN</td>\n",
       "      <td>NaN</td>\n",
       "      <td>NaN</td>\n",
       "      <td>NaN</td>\n",
       "    </tr>\n",
       "    <tr>\n",
       "      <th>1</th>\n",
       "      <td>2457202</td>\n",
       "      <td>PI18EN</td>\n",
       "      <td>PI18EN</td>\n",
       "      <td>2626471.0</td>\n",
       "      <td>Restaurant</td>\n",
       "      <td>Risk 1 (High)</td>\n",
       "      <td>1519 W 18TH ST</td>\n",
       "      <td>CHICAGO</td>\n",
       "      <td>IL</td>\n",
       "      <td>60608.0</td>\n",
       "      <td>11/30/2020</td>\n",
       "      <td>Non-Inspection</td>\n",
       "      <td>No Entry</td>\n",
       "      <td>NaN</td>\n",
       "      <td>41.857714</td>\n",
       "      <td>-87.664542</td>\n",
       "      <td>(-87.66454238198166, 41.8577138739859)</td>\n",
       "    </tr>\n",
       "    <tr>\n",
       "      <th>2</th>\n",
       "      <td>2453552</td>\n",
       "      <td>CLAMP DOWN BURGERS</td>\n",
       "      <td>NaN</td>\n",
       "      <td>2749943.0</td>\n",
       "      <td>NaN</td>\n",
       "      <td>Risk 2 (Medium)</td>\n",
       "      <td>1742 W DIVISION ST</td>\n",
       "      <td>CHICAGO</td>\n",
       "      <td>IL</td>\n",
       "      <td>60622.0</td>\n",
       "      <td>10/20/2020</td>\n",
       "      <td>License</td>\n",
       "      <td>No Entry</td>\n",
       "      <td>NaN</td>\n",
       "      <td>41.903387</td>\n",
       "      <td>-87.671740</td>\n",
       "      <td>(-87.67174026586648, 41.903386755553484)</td>\n",
       "    </tr>\n",
       "    <tr>\n",
       "      <th>3</th>\n",
       "      <td>2401262</td>\n",
       "      <td>Fleming Branch</td>\n",
       "      <td>Fleming Branch</td>\n",
       "      <td>23462.0</td>\n",
       "      <td>School</td>\n",
       "      <td>Risk 1 (High)</td>\n",
       "      <td>4918 W 64th ST</td>\n",
       "      <td>CHICAGO</td>\n",
       "      <td>IL</td>\n",
       "      <td>60638.0</td>\n",
       "      <td>09/16/2020</td>\n",
       "      <td>Canvass</td>\n",
       "      <td>Pass</td>\n",
       "      <td>NaN</td>\n",
       "      <td>41.776651</td>\n",
       "      <td>-87.745551</td>\n",
       "      <td>(-87.74555107977419, 41.7766510612827)</td>\n",
       "    </tr>\n",
       "    <tr>\n",
       "      <th>4</th>\n",
       "      <td>2387142</td>\n",
       "      <td>Pritzker</td>\n",
       "      <td>Pritzker</td>\n",
       "      <td>25871.0</td>\n",
       "      <td>School</td>\n",
       "      <td>Risk 1 (High)</td>\n",
       "      <td>2009 W Schiller ST</td>\n",
       "      <td>CHICAGO</td>\n",
       "      <td>IL</td>\n",
       "      <td>60622.0</td>\n",
       "      <td>09/14/2020</td>\n",
       "      <td>Canvass</td>\n",
       "      <td>Pass</td>\n",
       "      <td>NaN</td>\n",
       "      <td>41.907025</td>\n",
       "      <td>-87.677796</td>\n",
       "      <td>(-87.67779554588037, 41.907025004582245)</td>\n",
       "    </tr>\n",
       "  </tbody>\n",
       "</table>\n",
       "</div>"
      ],
      "text/plain": [
       "   Inspection ID                    DBA Name                    AKA Name  \\\n",
       "0        2473009  JENI'S SPLENDID ICE CREAMS  JENI'S SPLENDID ICE CREAMS   \n",
       "1        2457202                      PI18EN                      PI18EN   \n",
       "2        2453552          CLAMP DOWN BURGERS                         NaN   \n",
       "3        2401262              Fleming Branch              Fleming Branch   \n",
       "4        2387142                    Pritzker                    Pritzker   \n",
       "\n",
       "   License # Facility Type             Risk                 Address     City  \\\n",
       "0  2767260.0    Restaurant  Risk 2 (Medium)  2512 N MILKWAUKEE AVE   CHICAGO   \n",
       "1  2626471.0    Restaurant    Risk 1 (High)         1519 W 18TH ST   CHICAGO   \n",
       "2  2749943.0           NaN  Risk 2 (Medium)     1742 W DIVISION ST   CHICAGO   \n",
       "3    23462.0        School    Risk 1 (High)         4918 W 64th ST   CHICAGO   \n",
       "4    25871.0        School    Risk 1 (High)     2009 W Schiller ST   CHICAGO   \n",
       "\n",
       "  State      Zip Inspection Date Inspection Type   Results Violations  \\\n",
       "0    IL  60647.0      01/22/2021         License      Pass        NaN   \n",
       "1    IL  60608.0      11/30/2020  Non-Inspection  No Entry        NaN   \n",
       "2    IL  60622.0      10/20/2020         License  No Entry        NaN   \n",
       "3    IL  60638.0      09/16/2020         Canvass      Pass        NaN   \n",
       "4    IL  60622.0      09/14/2020         Canvass      Pass        NaN   \n",
       "\n",
       "    Latitude  Longitude                                  Location  \n",
       "0        NaN        NaN                                       NaN  \n",
       "1  41.857714 -87.664542    (-87.66454238198166, 41.8577138739859)  \n",
       "2  41.903387 -87.671740  (-87.67174026586648, 41.903386755553484)  \n",
       "3  41.776651 -87.745551    (-87.74555107977419, 41.7766510612827)  \n",
       "4  41.907025 -87.677796  (-87.67779554588037, 41.907025004582245)  "
      ]
     },
     "execution_count": 3,
     "metadata": {},
     "output_type": "execute_result"
    }
   ],
   "source": [
    "df= pd.read_csv('../data/Food_Inspections.csv')\n",
    "df.head()"
   ]
  },
  {
   "cell_type": "markdown",
   "metadata": {},
   "source": [
    "## Nos quedamos con las siguientes variables :\n",
    "\n",
    "(Todas son variables son  categóricas )\n",
    "\n",
    "- Risk \n",
    "- Facility type (agrupar con regex por nombres similares de categorías; y categorías top y other) \n",
    "- City (simplificada, chicago y other) (regex para chicago) \n",
    "- Inspection type (agrupar con regex y categorías top pero respetar cateogorías más imoprtantes, sobre todo, REINSPECTION, no agrupar ) .  \n",
    "- Violations (regex, buscar los códigos vinculados con violación grave, categorías \"tiene violación grave o no\").\n"
   ]
  },
  {
   "cell_type": "markdown",
   "metadata": {},
   "source": [
    "## Descartar variables:"
   ]
  },
  {
   "cell_type": "markdown",
   "metadata": {},
   "source": [
    " - inspection ID\n",
    " - AKA name\n",
    " - DBA name\n",
    " - Licence #\n",
    " - Address\n",
    " - \n",
    " - State\n",
    " - Latitude\n",
    " - Longitud\n",
    " - Location"
   ]
  },
  {
   "cell_type": "markdown",
   "metadata": {},
   "source": [
    " "
   ]
  },
  {
   "cell_type": "code",
   "execution_count": 14,
   "metadata": {},
   "outputs": [
    {
     "data": {
      "text/plain": [
       "52"
      ]
     },
     "execution_count": 14,
     "metadata": {},
     "output_type": "execute_result"
    }
   ],
   "source": [
    "df['zip'].isna().sum()"
   ]
  },
  {
   "cell_type": "markdown",
   "metadata": {},
   "source": [
    " - City, convertir a Chicago y Other"
   ]
  },
  {
   "cell_type": "code",
   "execution_count": 63,
   "metadata": {},
   "outputs": [
    {
     "data": {
      "text/plain": [
       "215626"
      ]
     },
     "execution_count": 63,
     "metadata": {},
     "output_type": "execute_result"
    }
   ],
   "source": [
    "len(df)"
   ]
  },
  {
   "cell_type": "code",
   "execution_count": 4,
   "metadata": {},
   "outputs": [
    {
     "data": {
      "text/html": [
       "<div>\n",
       "<style scoped>\n",
       "    .dataframe tbody tr th:only-of-type {\n",
       "        vertical-align: middle;\n",
       "    }\n",
       "\n",
       "    .dataframe tbody tr th {\n",
       "        vertical-align: top;\n",
       "    }\n",
       "\n",
       "    .dataframe thead th {\n",
       "        text-align: right;\n",
       "    }\n",
       "</style>\n",
       "<table border=\"1\" class=\"dataframe\">\n",
       "  <thead>\n",
       "    <tr style=\"text-align: right;\">\n",
       "      <th></th>\n",
       "      <th>inspection_id</th>\n",
       "      <th>dba_name</th>\n",
       "      <th>aka_name</th>\n",
       "      <th>license_#</th>\n",
       "      <th>facility_type</th>\n",
       "      <th>risk</th>\n",
       "      <th>address</th>\n",
       "      <th>city</th>\n",
       "      <th>state</th>\n",
       "      <th>zip</th>\n",
       "      <th>inspection_date</th>\n",
       "      <th>inspection_type</th>\n",
       "      <th>results</th>\n",
       "      <th>violations</th>\n",
       "      <th>latitude</th>\n",
       "      <th>longitude</th>\n",
       "      <th>location</th>\n",
       "    </tr>\n",
       "  </thead>\n",
       "  <tbody>\n",
       "    <tr>\n",
       "      <th>0</th>\n",
       "      <td>2473009</td>\n",
       "      <td>JENI'S SPLENDID ICE CREAMS</td>\n",
       "      <td>JENI'S SPLENDID ICE CREAMS</td>\n",
       "      <td>2767260.0</td>\n",
       "      <td>Restaurant</td>\n",
       "      <td>Risk 2 (Medium)</td>\n",
       "      <td>2512 N MILKWAUKEE AVE</td>\n",
       "      <td>CHICAGO</td>\n",
       "      <td>IL</td>\n",
       "      <td>60647.0</td>\n",
       "      <td>01/22/2021</td>\n",
       "      <td>License</td>\n",
       "      <td>Pass</td>\n",
       "      <td>NaN</td>\n",
       "      <td>NaN</td>\n",
       "      <td>NaN</td>\n",
       "      <td>NaN</td>\n",
       "    </tr>\n",
       "    <tr>\n",
       "      <th>1</th>\n",
       "      <td>2457202</td>\n",
       "      <td>PI18EN</td>\n",
       "      <td>PI18EN</td>\n",
       "      <td>2626471.0</td>\n",
       "      <td>Restaurant</td>\n",
       "      <td>Risk 1 (High)</td>\n",
       "      <td>1519 W 18TH ST</td>\n",
       "      <td>CHICAGO</td>\n",
       "      <td>IL</td>\n",
       "      <td>60608.0</td>\n",
       "      <td>11/30/2020</td>\n",
       "      <td>Non-Inspection</td>\n",
       "      <td>No Entry</td>\n",
       "      <td>NaN</td>\n",
       "      <td>41.857714</td>\n",
       "      <td>-87.664542</td>\n",
       "      <td>(-87.66454238198166, 41.8577138739859)</td>\n",
       "    </tr>\n",
       "    <tr>\n",
       "      <th>2</th>\n",
       "      <td>2453552</td>\n",
       "      <td>CLAMP DOWN BURGERS</td>\n",
       "      <td>NaN</td>\n",
       "      <td>2749943.0</td>\n",
       "      <td>NaN</td>\n",
       "      <td>Risk 2 (Medium)</td>\n",
       "      <td>1742 W DIVISION ST</td>\n",
       "      <td>CHICAGO</td>\n",
       "      <td>IL</td>\n",
       "      <td>60622.0</td>\n",
       "      <td>10/20/2020</td>\n",
       "      <td>License</td>\n",
       "      <td>No Entry</td>\n",
       "      <td>NaN</td>\n",
       "      <td>41.903387</td>\n",
       "      <td>-87.671740</td>\n",
       "      <td>(-87.67174026586648, 41.903386755553484)</td>\n",
       "    </tr>\n",
       "    <tr>\n",
       "      <th>3</th>\n",
       "      <td>2401262</td>\n",
       "      <td>Fleming Branch</td>\n",
       "      <td>Fleming Branch</td>\n",
       "      <td>23462.0</td>\n",
       "      <td>School</td>\n",
       "      <td>Risk 1 (High)</td>\n",
       "      <td>4918 W 64th ST</td>\n",
       "      <td>CHICAGO</td>\n",
       "      <td>IL</td>\n",
       "      <td>60638.0</td>\n",
       "      <td>09/16/2020</td>\n",
       "      <td>Canvass</td>\n",
       "      <td>Pass</td>\n",
       "      <td>NaN</td>\n",
       "      <td>41.776651</td>\n",
       "      <td>-87.745551</td>\n",
       "      <td>(-87.74555107977419, 41.7766510612827)</td>\n",
       "    </tr>\n",
       "    <tr>\n",
       "      <th>4</th>\n",
       "      <td>2387142</td>\n",
       "      <td>Pritzker</td>\n",
       "      <td>Pritzker</td>\n",
       "      <td>25871.0</td>\n",
       "      <td>School</td>\n",
       "      <td>Risk 1 (High)</td>\n",
       "      <td>2009 W Schiller ST</td>\n",
       "      <td>CHICAGO</td>\n",
       "      <td>IL</td>\n",
       "      <td>60622.0</td>\n",
       "      <td>09/14/2020</td>\n",
       "      <td>Canvass</td>\n",
       "      <td>Pass</td>\n",
       "      <td>NaN</td>\n",
       "      <td>41.907025</td>\n",
       "      <td>-87.677796</td>\n",
       "      <td>(-87.67779554588037, 41.907025004582245)</td>\n",
       "    </tr>\n",
       "    <tr>\n",
       "      <th>...</th>\n",
       "      <td>...</td>\n",
       "      <td>...</td>\n",
       "      <td>...</td>\n",
       "      <td>...</td>\n",
       "      <td>...</td>\n",
       "      <td>...</td>\n",
       "      <td>...</td>\n",
       "      <td>...</td>\n",
       "      <td>...</td>\n",
       "      <td>...</td>\n",
       "      <td>...</td>\n",
       "      <td>...</td>\n",
       "      <td>...</td>\n",
       "      <td>...</td>\n",
       "      <td>...</td>\n",
       "      <td>...</td>\n",
       "      <td>...</td>\n",
       "    </tr>\n",
       "    <tr>\n",
       "      <th>215621</th>\n",
       "      <td>215236</td>\n",
       "      <td>MANNY'S CAFE MIDWAY</td>\n",
       "      <td>MANNY'S CAFE MIDWAY</td>\n",
       "      <td>1197659.0</td>\n",
       "      <td>Restaurant</td>\n",
       "      <td>Risk 1 (High)</td>\n",
       "      <td>5700 S CICERO AVE</td>\n",
       "      <td>CHICAGO</td>\n",
       "      <td>IL</td>\n",
       "      <td>60638.0</td>\n",
       "      <td>02/25/2010</td>\n",
       "      <td>Canvass</td>\n",
       "      <td>Pass</td>\n",
       "      <td>NaN</td>\n",
       "      <td>41.789329</td>\n",
       "      <td>-87.741646</td>\n",
       "      <td>(-87.74164564419637, 41.789329323265385)</td>\n",
       "    </tr>\n",
       "    <tr>\n",
       "      <th>215622</th>\n",
       "      <td>197282</td>\n",
       "      <td>WALGREENS #09001</td>\n",
       "      <td>WALGREENS</td>\n",
       "      <td>2003065.0</td>\n",
       "      <td>Grocery Store</td>\n",
       "      <td>Risk 3 (Low)</td>\n",
       "      <td>191 N CLARK ST</td>\n",
       "      <td>CHICAGO</td>\n",
       "      <td>IL</td>\n",
       "      <td>60601.0</td>\n",
       "      <td>02/18/2010</td>\n",
       "      <td>License-Task Force</td>\n",
       "      <td>Pass</td>\n",
       "      <td>NaN</td>\n",
       "      <td>41.885491</td>\n",
       "      <td>-87.630822</td>\n",
       "      <td>(-87.63082227177384, 41.88549078428762)</td>\n",
       "    </tr>\n",
       "    <tr>\n",
       "      <th>215623</th>\n",
       "      <td>197256</td>\n",
       "      <td>CALIFORNIA PIZZA KITCHEN ASAP</td>\n",
       "      <td>CALIFORNIA PIZZA KITCHEN ASAP</td>\n",
       "      <td>1676087.0</td>\n",
       "      <td>Restaurant</td>\n",
       "      <td>Risk 1 (High)</td>\n",
       "      <td>30 N LA SALLE ST</td>\n",
       "      <td>CHICAGO</td>\n",
       "      <td>IL</td>\n",
       "      <td>60602.0</td>\n",
       "      <td>02/08/2010</td>\n",
       "      <td>Out of Business</td>\n",
       "      <td>Fail</td>\n",
       "      <td>NaN</td>\n",
       "      <td>41.882695</td>\n",
       "      <td>-87.632531</td>\n",
       "      <td>(-87.63253142666058, 41.88269466861121)</td>\n",
       "    </tr>\n",
       "    <tr>\n",
       "      <th>215624</th>\n",
       "      <td>176413</td>\n",
       "      <td>JACKSON SQUARE  NURSING &amp; REHABILITATION CENTER</td>\n",
       "      <td>JACKSON SQUARE  NURSING &amp; REHABILITATION CENTER</td>\n",
       "      <td>47398.0</td>\n",
       "      <td>Long Term Care</td>\n",
       "      <td>Risk 1 (High)</td>\n",
       "      <td>5130 W JACKSON BLVD</td>\n",
       "      <td>CHICAGO</td>\n",
       "      <td>IL</td>\n",
       "      <td>60644.0</td>\n",
       "      <td>02/26/2010</td>\n",
       "      <td>Canvass</td>\n",
       "      <td>Fail</td>\n",
       "      <td>18. NO EVIDENCE OF RODENT OR INSECT OUTER OPEN...</td>\n",
       "      <td>41.876771</td>\n",
       "      <td>-87.754771</td>\n",
       "      <td>(-87.75477136468453, 41.87677135996502)</td>\n",
       "    </tr>\n",
       "    <tr>\n",
       "      <th>215625</th>\n",
       "      <td>205209</td>\n",
       "      <td>COQ D OR</td>\n",
       "      <td>COQ D OR</td>\n",
       "      <td>27888.0</td>\n",
       "      <td>NaN</td>\n",
       "      <td>Risk 1 (High)</td>\n",
       "      <td>140 E WALTON PL</td>\n",
       "      <td>CHICAGO</td>\n",
       "      <td>IL</td>\n",
       "      <td>60611.0</td>\n",
       "      <td>01/21/2010</td>\n",
       "      <td>Out of Business</td>\n",
       "      <td>Pass</td>\n",
       "      <td>NaN</td>\n",
       "      <td>41.900118</td>\n",
       "      <td>-87.623981</td>\n",
       "      <td>(-87.62398051946951, 41.90011845725853)</td>\n",
       "    </tr>\n",
       "  </tbody>\n",
       "</table>\n",
       "<p>215626 rows × 17 columns</p>\n",
       "</div>"
      ],
      "text/plain": [
       "        inspection_id                                         dba_name  \\\n",
       "0             2473009                       JENI'S SPLENDID ICE CREAMS   \n",
       "1             2457202                                           PI18EN   \n",
       "2             2453552                               CLAMP DOWN BURGERS   \n",
       "3             2401262                                   Fleming Branch   \n",
       "4             2387142                                         Pritzker   \n",
       "...               ...                                              ...   \n",
       "215621         215236                              MANNY'S CAFE MIDWAY   \n",
       "215622         197282                                 WALGREENS #09001   \n",
       "215623         197256                    CALIFORNIA PIZZA KITCHEN ASAP   \n",
       "215624         176413  JACKSON SQUARE  NURSING & REHABILITATION CENTER   \n",
       "215625         205209                                         COQ D OR   \n",
       "\n",
       "                                               aka_name  license_#  \\\n",
       "0                            JENI'S SPLENDID ICE CREAMS  2767260.0   \n",
       "1                                                PI18EN  2626471.0   \n",
       "2                                                   NaN  2749943.0   \n",
       "3                                        Fleming Branch    23462.0   \n",
       "4                                              Pritzker    25871.0   \n",
       "...                                                 ...        ...   \n",
       "215621                              MANNY'S CAFE MIDWAY  1197659.0   \n",
       "215622                                        WALGREENS  2003065.0   \n",
       "215623                    CALIFORNIA PIZZA KITCHEN ASAP  1676087.0   \n",
       "215624  JACKSON SQUARE  NURSING & REHABILITATION CENTER    47398.0   \n",
       "215625                                         COQ D OR    27888.0   \n",
       "\n",
       "         facility_type             risk                 address     city  \\\n",
       "0           Restaurant  Risk 2 (Medium)  2512 N MILKWAUKEE AVE   CHICAGO   \n",
       "1           Restaurant    Risk 1 (High)         1519 W 18TH ST   CHICAGO   \n",
       "2                  NaN  Risk 2 (Medium)     1742 W DIVISION ST   CHICAGO   \n",
       "3               School    Risk 1 (High)         4918 W 64th ST   CHICAGO   \n",
       "4               School    Risk 1 (High)     2009 W Schiller ST   CHICAGO   \n",
       "...                ...              ...                     ...      ...   \n",
       "215621      Restaurant    Risk 1 (High)      5700 S CICERO AVE   CHICAGO   \n",
       "215622   Grocery Store     Risk 3 (Low)         191 N CLARK ST   CHICAGO   \n",
       "215623      Restaurant    Risk 1 (High)       30 N LA SALLE ST   CHICAGO   \n",
       "215624  Long Term Care    Risk 1 (High)    5130 W JACKSON BLVD   CHICAGO   \n",
       "215625             NaN    Risk 1 (High)        140 E WALTON PL   CHICAGO   \n",
       "\n",
       "       state      zip inspection_date     inspection_type   results  \\\n",
       "0         IL  60647.0      01/22/2021             License      Pass   \n",
       "1         IL  60608.0      11/30/2020      Non-Inspection  No Entry   \n",
       "2         IL  60622.0      10/20/2020             License  No Entry   \n",
       "3         IL  60638.0      09/16/2020             Canvass      Pass   \n",
       "4         IL  60622.0      09/14/2020             Canvass      Pass   \n",
       "...      ...      ...             ...                 ...       ...   \n",
       "215621    IL  60638.0      02/25/2010             Canvass      Pass   \n",
       "215622    IL  60601.0      02/18/2010  License-Task Force      Pass   \n",
       "215623    IL  60602.0      02/08/2010     Out of Business      Fail   \n",
       "215624    IL  60644.0      02/26/2010             Canvass      Fail   \n",
       "215625    IL  60611.0      01/21/2010     Out of Business      Pass   \n",
       "\n",
       "                                               violations   latitude  \\\n",
       "0                                                     NaN        NaN   \n",
       "1                                                     NaN  41.857714   \n",
       "2                                                     NaN  41.903387   \n",
       "3                                                     NaN  41.776651   \n",
       "4                                                     NaN  41.907025   \n",
       "...                                                   ...        ...   \n",
       "215621                                                NaN  41.789329   \n",
       "215622                                                NaN  41.885491   \n",
       "215623                                                NaN  41.882695   \n",
       "215624  18. NO EVIDENCE OF RODENT OR INSECT OUTER OPEN...  41.876771   \n",
       "215625                                                NaN  41.900118   \n",
       "\n",
       "        longitude                                  location  \n",
       "0             NaN                                       NaN  \n",
       "1      -87.664542    (-87.66454238198166, 41.8577138739859)  \n",
       "2      -87.671740  (-87.67174026586648, 41.903386755553484)  \n",
       "3      -87.745551    (-87.74555107977419, 41.7766510612827)  \n",
       "4      -87.677796  (-87.67779554588037, 41.907025004582245)  \n",
       "...           ...                                       ...  \n",
       "215621 -87.741646  (-87.74164564419637, 41.789329323265385)  \n",
       "215622 -87.630822   (-87.63082227177384, 41.88549078428762)  \n",
       "215623 -87.632531   (-87.63253142666058, 41.88269466861121)  \n",
       "215624 -87.754771   (-87.75477136468453, 41.87677135996502)  \n",
       "215625 -87.623981   (-87.62398051946951, 41.90011845725853)  \n",
       "\n",
       "[215626 rows x 17 columns]"
      ]
     },
     "execution_count": 4,
     "metadata": {},
     "output_type": "execute_result"
    }
   ],
   "source": [
    "clean_col_names(df)"
   ]
  },
  {
   "cell_type": "markdown",
   "metadata": {},
   "source": [
    "## Categoricas para convertir a One Hot Encoding: \n",
    " - risk\n",
    " - inspection_type\n",
    " - results\n",
    " - Facility_type (pasamos de 500 a 68 categorias antes de OHE)"
   ]
  },
  {
   "cell_type": "markdown",
   "metadata": {},
   "source": [
    "## transformacion de fecha: \n",
    " - inspection_date"
   ]
  },
  {
   "cell_type": "code",
   "execution_count": 4,
   "metadata": {},
   "outputs": [],
   "source": []
  },
  {
   "cell_type": "code",
   "execution_count": 5,
   "metadata": {},
   "outputs": [],
   "source": [
    "# Results es nuestra label, no le queremos hacer nada? \n",
    "# O la queremos convertir en PASS vs. Fail y sacar todos los demás ? \n"
   ]
  },
  {
   "cell_type": "code",
   "execution_count": null,
   "metadata": {},
   "outputs": [],
   "source": [
    "## Crear una nueva variable a partir del barrio en que se encuentra? \n",
    "## O con el zip code está bien ? "
   ]
  },
  {
   "cell_type": "code",
   "execution_count": 6,
   "metadata": {},
   "outputs": [],
   "source": [
    "## Qué transformacion se le hace a la variable DATE ?"
   ]
  },
  {
   "cell_type": "code",
   "execution_count": null,
   "metadata": {},
   "outputs": [],
   "source": [
    "## Violations, se le podría hacer un análisis de sentimiento? al tipo de comentario que se deja. .. y clasificarlo... \n",
    "##en una variable numérica\n"
   ]
  },
  {
   "cell_type": "code",
   "execution_count": 13,
   "metadata": {},
   "outputs": [
    {
     "data": {
      "text/plain": [
       "Index(['inspection_id', 'dba_name', 'aka_name', 'license_#', 'facility_type',\n",
       "       'risk', 'address', 'city', 'state', 'zip', 'inspection_date',\n",
       "       'inspection_type', 'results', 'violations', 'latitude', 'longitude',\n",
       "       'location'],\n",
       "      dtype='object')"
      ]
     },
     "execution_count": 13,
     "metadata": {},
     "output_type": "execute_result"
    }
   ],
   "source": [
    "df.columns"
   ]
  },
  {
   "cell_type": "code",
   "execution_count": null,
   "metadata": {},
   "outputs": [],
   "source": []
  },
  {
   "cell_type": "markdown",
   "metadata": {},
   "source": [
    "# Variables independientes muy correlacionadas: "
   ]
  },
  {
   "cell_type": "markdown",
   "metadata": {},
   "source": [
    "## dba y aka "
   ]
  },
  {
   "cell_type": "markdown",
   "metadata": {},
   "source": [
    "Estas dos variables son muy similares, con cuál nos quedamos ? \n",
    "(dos variables independientes muy correlacionadas entre sí)"
   ]
  },
  {
   "cell_type": "code",
   "execution_count": 180,
   "metadata": {},
   "outputs": [
    {
     "data": {
      "text/plain": [
       "2488"
      ]
     },
     "execution_count": 180,
     "metadata": {},
     "output_type": "execute_result"
    }
   ],
   "source": [
    "df['aka_name'].isna().sum()"
   ]
  },
  {
   "cell_type": "code",
   "execution_count": 181,
   "metadata": {},
   "outputs": [
    {
     "data": {
      "text/plain": [
       "0"
      ]
     },
     "execution_count": 181,
     "metadata": {},
     "output_type": "execute_result"
    }
   ],
   "source": [
    "df['dba_name'].isna().sum()\n"
   ]
  },
  {
   "cell_type": "code",
   "execution_count": 182,
   "metadata": {},
   "outputs": [
    {
     "data": {
      "text/plain": [
       "28478"
      ]
     },
     "execution_count": 182,
     "metadata": {},
     "output_type": "execute_result"
    }
   ],
   "source": [
    "df['dba_name'].nunique()"
   ]
  },
  {
   "cell_type": "code",
   "execution_count": 183,
   "metadata": {},
   "outputs": [
    {
     "data": {
      "text/plain": [
       "27094"
      ]
     },
     "execution_count": 183,
     "metadata": {},
     "output_type": "execute_result"
    }
   ],
   "source": [
    "df['aka_name'].nunique()"
   ]
  },
  {
   "cell_type": "markdown",
   "metadata": {},
   "source": [
    "### Nos conviene quedarnos con dba_name por no tener nas y por tener más valores únicos. "
   ]
  },
  {
   "cell_type": "code",
   "execution_count": null,
   "metadata": {},
   "outputs": [],
   "source": []
  },
  {
   "cell_type": "markdown",
   "metadata": {},
   "source": [
    "## Adress Longitude latitude location "
   ]
  },
  {
   "cell_type": "markdown",
   "metadata": {},
   "source": [
    "Estas tres variables están muy correlacionadas entre sí, dan la misma información habría que pensar con cuál quedarse."
   ]
  },
  {
   "cell_type": "code",
   "execution_count": null,
   "metadata": {},
   "outputs": [],
   "source": []
  },
  {
   "cell_type": "code",
   "execution_count": null,
   "metadata": {},
   "outputs": [],
   "source": []
  },
  {
   "cell_type": "code",
   "execution_count": null,
   "metadata": {},
   "outputs": [],
   "source": []
  },
  {
   "cell_type": "markdown",
   "metadata": {},
   "source": [
    "## Inspection date "
   ]
  },
  {
   "cell_type": "code",
   "execution_count": null,
   "metadata": {},
   "outputs": [],
   "source": []
  },
  {
   "cell_type": "code",
   "execution_count": null,
   "metadata": {},
   "outputs": [],
   "source": []
  },
  {
   "cell_type": "code",
   "execution_count": null,
   "metadata": {},
   "outputs": [],
   "source": []
  },
  {
   "cell_type": "code",
   "execution_count": null,
   "metadata": {},
   "outputs": [],
   "source": []
  },
  {
   "cell_type": "markdown",
   "metadata": {},
   "source": [
    "## License_#"
   ]
  },
  {
   "cell_type": "code",
   "execution_count": null,
   "metadata": {},
   "outputs": [],
   "source": []
  },
  {
   "cell_type": "code",
   "execution_count": 5,
   "metadata": {},
   "outputs": [
    {
     "data": {
      "text/plain": [
       "215609"
      ]
     },
     "execution_count": 5,
     "metadata": {},
     "output_type": "execute_result"
    }
   ],
   "source": [
    "df['license_#'].count()"
   ]
  },
  {
   "cell_type": "code",
   "execution_count": 6,
   "metadata": {},
   "outputs": [
    {
     "data": {
      "text/plain": [
       "39140"
      ]
     },
     "execution_count": 6,
     "metadata": {},
     "output_type": "execute_result"
    }
   ],
   "source": [
    "df['license_#'].nunique()"
   ]
  },
  {
   "cell_type": "markdown",
   "metadata": {},
   "source": [
    " - Hay más licencias que lugares, dba_name. "
   ]
  },
  {
   "cell_type": "code",
   "execution_count": null,
   "metadata": {},
   "outputs": [],
   "source": [
    "df.rename(columns={\"A\": \"a\", \"B\": \"c\"})"
   ]
  },
  {
   "cell_type": "markdown",
   "metadata": {},
   "source": [
    "## Cambiar nombre de la variable: "
   ]
  },
  {
   "cell_type": "code",
   "execution_count": 164,
   "metadata": {},
   "outputs": [],
   "source": [
    "df.rename(columns= {'license_#':'license_number'}, inplace=True)"
   ]
  },
  {
   "cell_type": "markdown",
   "metadata": {},
   "source": [
    "## debería ser una variable categórica: "
   ]
  },
  {
   "cell_type": "code",
   "execution_count": 165,
   "metadata": {},
   "outputs": [],
   "source": [
    "df['license_number'] = df.license_number.astype('category')\n",
    "\n"
   ]
  },
  {
   "cell_type": "code",
   "execution_count": 166,
   "metadata": {},
   "outputs": [
    {
     "data": {
      "text/plain": [
       "Index(['inspection_id', 'dba_name', 'aka_name', 'license_number',\n",
       "       'facility_type', 'risk', 'address', 'city', 'state', 'zip',\n",
       "       'inspection_date', 'inspection_type', 'results', 'violations',\n",
       "       'latitude', 'longitude', 'location'],\n",
       "      dtype='object')"
      ]
     },
     "execution_count": 166,
     "metadata": {},
     "output_type": "execute_result"
    }
   ],
   "source": [
    "df.columns"
   ]
  },
  {
   "cell_type": "code",
   "execution_count": 168,
   "metadata": {},
   "outputs": [
    {
     "data": {
      "text/plain": [
       "0.0          545\n",
       "1354323.0    198\n",
       "14616.0      176\n",
       "1574001.0     83\n",
       "1974745.0     59\n",
       "            ... \n",
       "1948711.0      1\n",
       "1948787.0      1\n",
       "1948812.0      1\n",
       "1948819.0      1\n",
       "9999999.0      1\n",
       "Name: license_number, Length: 39140, dtype: int64"
      ]
     },
     "execution_count": 168,
     "metadata": {},
     "output_type": "execute_result"
    }
   ],
   "source": [
    "top100=df['license_number'].value_counts().sort_values(ascending=False)\n",
    "top100"
   ]
  },
  {
   "cell_type": "code",
   "execution_count": 169,
   "metadata": {},
   "outputs": [
    {
     "data": {
      "text/plain": [
       "pandas.core.series.Series"
      ]
     },
     "execution_count": 169,
     "metadata": {},
     "output_type": "execute_result"
    }
   ],
   "source": [
    "type(top100)"
   ]
  },
  {
   "cell_type": "code",
   "execution_count": 174,
   "metadata": {},
   "outputs": [
    {
     "data": {
      "text/html": [
       "<div>\n",
       "<style scoped>\n",
       "    .dataframe tbody tr th:only-of-type {\n",
       "        vertical-align: middle;\n",
       "    }\n",
       "\n",
       "    .dataframe tbody tr th {\n",
       "        vertical-align: top;\n",
       "    }\n",
       "\n",
       "    .dataframe thead th {\n",
       "        text-align: right;\n",
       "    }\n",
       "</style>\n",
       "<table border=\"1\" class=\"dataframe\">\n",
       "  <thead>\n",
       "    <tr style=\"text-align: right;\">\n",
       "      <th></th>\n",
       "      <th>license_number</th>\n",
       "    </tr>\n",
       "  </thead>\n",
       "  <tbody>\n",
       "    <tr>\n",
       "      <th>0.0</th>\n",
       "      <td>545</td>\n",
       "    </tr>\n",
       "    <tr>\n",
       "      <th>1354323.0</th>\n",
       "      <td>198</td>\n",
       "    </tr>\n",
       "    <tr>\n",
       "      <th>14616.0</th>\n",
       "      <td>176</td>\n",
       "    </tr>\n",
       "    <tr>\n",
       "      <th>1574001.0</th>\n",
       "      <td>83</td>\n",
       "    </tr>\n",
       "    <tr>\n",
       "      <th>1974745.0</th>\n",
       "      <td>59</td>\n",
       "    </tr>\n",
       "    <tr>\n",
       "      <th>...</th>\n",
       "      <td>...</td>\n",
       "    </tr>\n",
       "    <tr>\n",
       "      <th>1916161.0</th>\n",
       "      <td>24</td>\n",
       "    </tr>\n",
       "    <tr>\n",
       "      <th>1649172.0</th>\n",
       "      <td>24</td>\n",
       "    </tr>\n",
       "    <tr>\n",
       "      <th>1884173.0</th>\n",
       "      <td>24</td>\n",
       "    </tr>\n",
       "    <tr>\n",
       "      <th>2068942.0</th>\n",
       "      <td>24</td>\n",
       "    </tr>\n",
       "    <tr>\n",
       "      <th>1768213.0</th>\n",
       "      <td>24</td>\n",
       "    </tr>\n",
       "  </tbody>\n",
       "</table>\n",
       "<p>300 rows × 1 columns</p>\n",
       "</div>"
      ],
      "text/plain": [
       "           license_number\n",
       "0.0                   545\n",
       "1354323.0             198\n",
       "14616.0               176\n",
       "1574001.0              83\n",
       "1974745.0              59\n",
       "...                   ...\n",
       "1916161.0              24\n",
       "1649172.0              24\n",
       "1884173.0              24\n",
       "2068942.0              24\n",
       "1768213.0              24\n",
       "\n",
       "[300 rows x 1 columns]"
      ]
     },
     "execution_count": 174,
     "metadata": {},
     "output_type": "execute_result"
    }
   ],
   "source": [
    "top100.to_frame()[:300]"
   ]
  },
  {
   "cell_type": "markdown",
   "metadata": {},
   "source": [
    "### Facility type"
   ]
  },
  {
   "cell_type": "markdown",
   "metadata": {},
   "source": [
    "### Son 500 categorias, pero veamos su proporcion: "
   ]
  },
  {
   "cell_type": "code",
   "execution_count": 7,
   "metadata": {},
   "outputs": [
    {
     "data": {
      "text/plain": [
       "500"
      ]
     },
     "execution_count": 7,
     "metadata": {},
     "output_type": "execute_result"
    }
   ],
   "source": [
    "df['facility_type'].nunique()"
   ]
  },
  {
   "cell_type": "code",
   "execution_count": 8,
   "metadata": {},
   "outputs": [],
   "source": [
    "## Elijo las top 67 categorias que son las que tienen al menos 20 valores:\n",
    "top67=df['facility_type'].value_counts()[:67].sort_values(ascending=False)\n"
   ]
  },
  {
   "cell_type": "code",
   "execution_count": 9,
   "metadata": {},
   "outputs": [
    {
     "data": {
      "text/plain": [
       "Restaurant                      143606\n",
       "Grocery Store                    28146\n",
       "School                           13220\n",
       "Children's Services Facility      3733\n",
       "Bakery                            3164\n",
       "                                 ...  \n",
       "GAS STATION/MINI MART               21\n",
       "Live Poultry                        21\n",
       "SUPPORTIVE LIVING                   21\n",
       "Grocery(Sushi prep)                 20\n",
       "ROOF TOP                            20\n",
       "Name: facility_type, Length: 67, dtype: int64"
      ]
     },
     "execution_count": 9,
     "metadata": {},
     "output_type": "execute_result"
    }
   ],
   "source": [
    "top67"
   ]
  },
  {
   "cell_type": "code",
   "execution_count": 125,
   "metadata": {},
   "outputs": [],
   "source": [
    "## Pasamos de 500 categor'ias a 68 quedandonos con ls 67 más importantes y lo demás lo ponemos en other:\n",
    "relevant_categories=top67.to_frame().index.values.tolist() \n",
    "df.loc[~df[\"facility_type\"].isin(relevant_categories), \"facility_type\"] = \"Other\"\n"
   ]
  },
  {
   "cell_type": "code",
   "execution_count": 126,
   "metadata": {},
   "outputs": [
    {
     "data": {
      "text/plain": [
       "68"
      ]
     },
     "execution_count": 126,
     "metadata": {},
     "output_type": "execute_result"
    }
   ],
   "source": [
    "df['facility_type'].nunique()"
   ]
  },
  {
   "cell_type": "code",
   "execution_count": null,
   "metadata": {},
   "outputs": [],
   "source": []
  },
  {
   "cell_type": "code",
   "execution_count": null,
   "metadata": {},
   "outputs": [],
   "source": []
  },
  {
   "cell_type": "markdown",
   "metadata": {},
   "source": [
    "## inspection_type"
   ]
  },
  {
   "cell_type": "code",
   "execution_count": 128,
   "metadata": {},
   "outputs": [
    {
     "data": {
      "text/plain": [
       "98"
      ]
     },
     "execution_count": 128,
     "metadata": {},
     "output_type": "execute_result"
    }
   ],
   "source": [
    "df['inspection_type'].nunique()"
   ]
  },
  {
   "cell_type": "code",
   "execution_count": null,
   "metadata": {},
   "outputs": [],
   "source": [
    "df['inspection_type'] = df['inspection_type'].str.upper() \n"
   ]
  },
  {
   "cell_type": "code",
   "execution_count": null,
   "metadata": {},
   "outputs": [],
   "source": [
    "df['inspection_type'].nunique()"
   ]
  },
  {
   "cell_type": "code",
   "execution_count": 141,
   "metadata": {},
   "outputs": [
    {
     "data": {
      "text/plain": [
       "CANVASS                                   114518\n",
       "LICENSE                                    28362\n",
       "CANVASS RE-INSPECTION                      22875\n",
       "COMPLAINT                                  19961\n",
       "LICENSE RE-INSPECTION                       9650\n",
       "COMPLAINT RE-INSPECTION                     8222\n",
       "SHORT FORM COMPLAINT                        7274\n",
       "SUSPECTED FOOD POISONING                     876\n",
       "CONSULTATION                                 674\n",
       "LICENSE-TASK FORCE                           604\n",
       "TAG REMOVAL                                  603\n",
       "RECENT INSPECTION                            367\n",
       "OUT OF BUSINESS                              306\n",
       "TASK FORCE LIQUOR 1475                       252\n",
       "NON-INSPECTION                               249\n",
       "SUSPECTED FOOD POISONING RE-INSPECTION       193\n",
       "COMPLAINT-FIRE                               161\n",
       "SHORT FORM FIRE-COMPLAINT                    113\n",
       "NO ENTRY                                      72\n",
       "SPECIAL EVENTS (FESTIVALS)                    63\n",
       "PACKAGE LIQUOR 1474                           44\n",
       "COMPLAINT-FIRE RE-INSPECTION                  44\n",
       "LICENSE REQUEST                               19\n",
       "PRE-LICENSE CONSULTATION                      15\n",
       "NOT READY                                     11\n",
       "Name: inspection_type, dtype: int64"
      ]
     },
     "execution_count": 141,
     "metadata": {},
     "output_type": "execute_result"
    }
   ],
   "source": [
    "top25=df['inspection_type'].value_counts()[:25].sort_values(ascending=False)\n",
    "top25"
   ]
  },
  {
   "cell_type": "code",
   "execution_count": 142,
   "metadata": {},
   "outputs": [],
   "source": [
    "## Pasamos de 500 categor'ias a 68 quedandonos con ls 67 más importantes y lo demás lo ponemos en other:\n",
    "relevant_categories_inspection=top25.to_frame().index.values.tolist() \n",
    "df.loc[~df[\"inspection_type\"].isin(relevant_categories_inspection), \"inspection_type\"] = \"Other\"\n"
   ]
  },
  {
   "cell_type": "code",
   "execution_count": 143,
   "metadata": {},
   "outputs": [
    {
     "data": {
      "text/plain": [
       "26"
      ]
     },
     "execution_count": 143,
     "metadata": {},
     "output_type": "execute_result"
    }
   ],
   "source": [
    "df['inspection_type'].nunique()"
   ]
  },
  {
   "cell_type": "code",
   "execution_count": null,
   "metadata": {},
   "outputs": [],
   "source": []
  },
  {
   "cell_type": "markdown",
   "metadata": {},
   "source": [
    "# Convertir a mayusculas: "
   ]
  },
  {
   "cell_type": "markdown",
   "metadata": {},
   "source": [
    "### Se tienen 300 categorias menos en DBA pasando a mayuscula:"
   ]
  },
  {
   "cell_type": "code",
   "execution_count": 56,
   "metadata": {},
   "outputs": [
    {
     "data": {
      "text/plain": [
       "28772"
      ]
     },
     "execution_count": 56,
     "metadata": {},
     "output_type": "execute_result"
    }
   ],
   "source": [
    "df['dba_name'].nunique()"
   ]
  },
  {
   "cell_type": "code",
   "execution_count": 58,
   "metadata": {},
   "outputs": [
    {
     "data": {
      "text/plain": [
       "215626"
      ]
     },
     "execution_count": 58,
     "metadata": {},
     "output_type": "execute_result"
    }
   ],
   "source": [
    "df['dba_name'].count()"
   ]
  },
  {
   "cell_type": "code",
   "execution_count": 59,
   "metadata": {},
   "outputs": [],
   "source": [
    "df['dba_name'] = df['dba_name'].str.upper() \n"
   ]
  },
  {
   "cell_type": "code",
   "execution_count": 60,
   "metadata": {},
   "outputs": [
    {
     "data": {
      "text/plain": [
       "28478"
      ]
     },
     "execution_count": 60,
     "metadata": {},
     "output_type": "execute_result"
    }
   ],
   "source": [
    "df['dba_name'].nunique()"
   ]
  },
  {
   "cell_type": "code",
   "execution_count": null,
   "metadata": {},
   "outputs": [],
   "source": []
  },
  {
   "cell_type": "code",
   "execution_count": null,
   "metadata": {},
   "outputs": [],
   "source": []
  },
  {
   "cell_type": "markdown",
   "metadata": {},
   "source": [
    "### Se obtienen casi 300 categorías menos llevandolo a mayuscula: "
   ]
  },
  {
   "cell_type": "code",
   "execution_count": 57,
   "metadata": {},
   "outputs": [
    {
     "data": {
      "text/plain": [
       "27380"
      ]
     },
     "execution_count": 57,
     "metadata": {},
     "output_type": "execute_result"
    }
   ],
   "source": [
    "df['aka_name'].nunique()"
   ]
  },
  {
   "cell_type": "code",
   "execution_count": 61,
   "metadata": {},
   "outputs": [],
   "source": [
    "df['aka_name'] = df['aka_name'].str.upper() \n"
   ]
  },
  {
   "cell_type": "code",
   "execution_count": 62,
   "metadata": {},
   "outputs": [
    {
     "data": {
      "text/plain": [
       "27094"
      ]
     },
     "execution_count": 62,
     "metadata": {},
     "output_type": "execute_result"
    }
   ],
   "source": [
    "df['aka_name'].nunique()"
   ]
  },
  {
   "cell_type": "code",
   "execution_count": null,
   "metadata": {},
   "outputs": [],
   "source": []
  },
  {
   "cell_type": "code",
   "execution_count": null,
   "metadata": {},
   "outputs": [],
   "source": [
    "df['inspection_type'] = df['inspection_type'].str.upper() \n"
   ]
  },
  {
   "cell_type": "code",
   "execution_count": null,
   "metadata": {},
   "outputs": [],
   "source": []
  },
  {
   "cell_type": "code",
   "execution_count": 26,
   "metadata": {},
   "outputs": [
    {
     "data": {
      "text/plain": [
       "array(['License', 'Non-Inspection', 'Canvass', 'Canvass Re-Inspection',\n",
       "       'Complaint', 'Short Form Complaint', 'Complaint Re-Inspection',\n",
       "       'License Re-Inspection', 'Suspected Food Poisoning',\n",
       "       'Recent Inspection', nan, 'Consultation', 'Complaint-Fire',\n",
       "       'Short Form Fire-Complaint', 'License-Task Force',\n",
       "       'Complaint-Fire Re-inspection',\n",
       "       'Suspected Food Poisoning Re-inspection', 'Package Liquor 1474',\n",
       "       'Out of Business', 'Tag Removal', 'Task Force Liquor 1475',\n",
       "       'No Entry', 'LICENSE REQUEST', 'out ofbusiness',\n",
       "       'TASK FORCE LIQUOR (1481)', 'TASK FORCE LIQUOR 1470',\n",
       "       'OFFICE ASSIGNMENT', 'COVID COMPLAINT', 'Not Ready',\n",
       "       'Recent inspection', 'Special Events (Festivals)',\n",
       "       'fire complaint', 'FIRE', 'KITCHEN CLOSED FOR RENOVATION', 'O.B.',\n",
       "       'License consultation', 'CORRECTIVE ACTION',\n",
       "       'LICENSE CONSULTATION', 'LICENSE CANCELED BY OWNER',\n",
       "       'OWNER SUSPENDED OPERATION/LICENSE', 'Illegal Operation',\n",
       "       'TWO PEOPLE ATE AND GOT SICK.', 'Pre-License Consultation',\n",
       "       'No entry', 'CANVASS SPECIAL EVENTS',\n",
       "       'CANVASS SCHOOL/SPECIAL EVENT', 'OUT OF BUSINESS', 'NO ENTRY',\n",
       "       'ADDENDUM', 'Task Force for liquor 1474', 'Sample Collection',\n",
       "       'license task 1474', '1315 license reinspection', 'FIRE/COMPLAIN',\n",
       "       'TASK FORCE NIGHT', 'Task Force Liquor Catering', 'SFP',\n",
       "       'Task force liquor inspection 1474', 'CANVAS', 'SFP/Complaint',\n",
       "       'no entry', 'SFP/COMPLAINT', 'SMOKING COMPLAINT', 'expansion',\n",
       "       'CANVASS', 'SFP RECENTLY INSPECTED', 'TAVERN 1470', 'CITF',\n",
       "       'LICENSE RENEWAL INSPECTION FOR DAYCARE', 'LICENSE/NOT READY',\n",
       "       'CANVASS RE INSPECTION OF CLOSE UP', 'LICENSE RENEWAL FOR DAYCARE',\n",
       "       'LICENSE TASK FORCE / NOT -FOR-PROFIT CLU', 'KIDS CAFE',\n",
       "       'NO ENTRY-SHORT COMPLAINT)', 'TASKFORCE',\n",
       "       'LICENSE TASK FORCE / NOT -FOR-PROFIT CLUB',\n",
       "       'LICENSE WRONG ADDRESS', 'TASK FORCE PACKAGE LIQUOR',\n",
       "       'TASTE OF CHICAGO', 'Summer Feeding', 'CANVASS/SPECIAL EVENT',\n",
       "       'LIQUOR CATERING', 'LICENSE DAYCARE 1586', 'citation re-issued',\n",
       "       'task force(1470) liquor tavern', 'error save',\n",
       "       'DAY CARE LICENSE RENEWAL', 'CHANGED COURT DATE',\n",
       "       'REINSPECTION OF 48 HOUR NOTICE',\n",
       "       'CLOSE-UP/COMPLAINT REINSPECTION', 'CANVASS FOR RIB FEST',\n",
       "       'RECALL INSPECTION', 'REINSPECTION',\n",
       "       'finish complaint inspection from 5-18-10', 'LICENSE',\n",
       "       'Business Not Located', 'Special Task Force',\n",
       "       'RE-INSPECTION OF CLOSE-UP', 'license', 'sfp/complaint',\n",
       "       'HACCP QUESTIONAIRE', 'Duplicated', 'TASK FORCE LIQUOR 1474',\n",
       "       'TASK FORCE PACKAGE GOODS 1474', \"Kids Cafe'\",\n",
       "       'LIQOUR TASK FORCE NOT READY', 'POSSIBLE FBI', 'task force',\n",
       "       'SPECIAL TASK FORCE', 'TASK FORCE NOT READY'], dtype=object)"
      ]
     },
     "execution_count": 26,
     "metadata": {},
     "output_type": "execute_result"
    }
   ],
   "source": [
    "df['inspection_type'].unique()\n",
    "\n",
    "## Convertir todo a mayuscula. "
   ]
  },
  {
   "cell_type": "code",
   "execution_count": 22,
   "metadata": {},
   "outputs": [
    {
     "data": {
      "text/plain": [
       "array(['IL', nan, 'NY', 'WI', 'IN'], dtype=object)"
      ]
     },
     "execution_count": 22,
     "metadata": {},
     "output_type": "execute_result"
    }
   ],
   "source": [
    "df['state'].unique()"
   ]
  },
  {
   "cell_type": "code",
   "execution_count": 23,
   "metadata": {},
   "outputs": [
    {
     "data": {
      "text/plain": [
       "array(['CHICAGO', 'Chicago', 'SCHAUMBURG', 'ALGONQUIN', 'ELMHURST',\n",
       "       'CHICAGO.', 'WILMETTE', 'chicago', nan, 'ELK GROVE VILLAGE',\n",
       "       'BLOOMINGDALE', 'CICERO', 'SKOKIE', 'JUSTICE', 'TINLEY PARK',\n",
       "       'INACTIVE', 'DES PLAINES', 'LAKE ZURICH', 'WORTH', 'ALSIP',\n",
       "       'CCHICAGO', 'OAK PARK', 'CHICAGOCHICAGO', 'EVANSTON',\n",
       "       'CHICAGOHICAGO', '312CHICAGO', 'CHicago', 'BERWYN',\n",
       "       'chicagoBEDFORD PARK', 'BRIDGEVIEW', 'NEW YORK', 'NEW HOLSTEIN',\n",
       "       'NILES NILES', 'GRIFFITH', 'WADSWORTH', 'LANSING', 'WHEATON',\n",
       "       'ROSEMONT', 'CALUMET CITY', 'HIGHLAND PARK', 'PLAINFIELD',\n",
       "       'PALOS PARK', 'MAYWOOD', 'LAKE BLUFF', 'SCHILLER PARK',\n",
       "       'BANNOCKBURNDEERFIELD', 'CHCICAGO', 'Norridge', 'CHARLES A HAYES',\n",
       "       'CHICAGOI', 'CHCHICAGO', 'COUNTRY CLUB HILLS', 'CHICAGO HEIGHTS',\n",
       "       'SUMMIT', 'LOMBARD', 'WESTMONT', 'OOLYMPIA FIELDS',\n",
       "       'EAST HAZEL CREST', 'BOLINGBROOK', 'STREAMWOOD', 'BURNHAM',\n",
       "       'OAK LAWN', 'OLYMPIA FIELDS', 'alsip', 'GLENCOE', 'NAPERVILLE',\n",
       "       'BROADVIEW', 'BLUE ISLAND', 'FRANKFORT', 'Maywood',\n",
       "       'EVERGREEN PARK'], dtype=object)"
      ]
     },
     "execution_count": 23,
     "metadata": {},
     "output_type": "execute_result"
    }
   ],
   "source": [
    "df['city'].unique()"
   ]
  },
  {
   "cell_type": "markdown",
   "metadata": {},
   "source": [
    "## Transforma City con regex"
   ]
  },
  {
   "cell_type": "markdown",
   "metadata": {},
   "source": []
  },
  {
   "cell_type": "code",
   "execution_count": 34,
   "metadata": {},
   "outputs": [],
   "source": [
    "# esta transformacion elimina 12 categorías de CITY chicago, que estaban diferentemente escritas \n",
    "# Pasan de 70 a 58 en nuestro data set: \n",
    "\n",
    "df.loc[df['city'].str.contains('chic', case=False, na=False), 'city'] = 'CHICAGO'\n"
   ]
  },
  {
   "cell_type": "code",
   "execution_count": 35,
   "metadata": {},
   "outputs": [
    {
     "data": {
      "text/plain": [
       "58"
      ]
     },
     "execution_count": 35,
     "metadata": {},
     "output_type": "execute_result"
    }
   ],
   "source": [
    "df['city'].nunique()"
   ]
  },
  {
   "cell_type": "code",
   "execution_count": 36,
   "metadata": {},
   "outputs": [
    {
     "data": {
      "text/plain": [
       "array(['CHICAGO', 'SCHAUMBURG', 'ALGONQUIN', 'ELMHURST', 'WILMETTE', nan,\n",
       "       'ELK GROVE VILLAGE', 'BLOOMINGDALE', 'CICERO', 'SKOKIE', 'JUSTICE',\n",
       "       'TINLEY PARK', 'INACTIVE', 'DES PLAINES', 'LAKE ZURICH', 'WORTH',\n",
       "       'ALSIP', 'OAK PARK', 'EVANSTON', 'BERWYN', 'BRIDGEVIEW',\n",
       "       'NEW YORK', 'NEW HOLSTEIN', 'NILES NILES', 'GRIFFITH', 'WADSWORTH',\n",
       "       'LANSING', 'WHEATON', 'ROSEMONT', 'CALUMET CITY', 'HIGHLAND PARK',\n",
       "       'PLAINFIELD', 'PALOS PARK', 'MAYWOOD', 'LAKE BLUFF',\n",
       "       'SCHILLER PARK', 'BANNOCKBURNDEERFIELD', 'CHCICAGO', 'Norridge',\n",
       "       'CHARLES A HAYES', 'COUNTRY CLUB HILLS', 'SUMMIT', 'LOMBARD',\n",
       "       'WESTMONT', 'OOLYMPIA FIELDS', 'EAST HAZEL CREST', 'BOLINGBROOK',\n",
       "       'STREAMWOOD', 'BURNHAM', 'OAK LAWN', 'OLYMPIA FIELDS', 'alsip',\n",
       "       'GLENCOE', 'NAPERVILLE', 'BROADVIEW', 'BLUE ISLAND', 'FRANKFORT',\n",
       "       'Maywood', 'EVERGREEN PARK'], dtype=object)"
      ]
     },
     "execution_count": 36,
     "metadata": {},
     "output_type": "execute_result"
    }
   ],
   "source": [
    "df['city'].unique()"
   ]
  },
  {
   "cell_type": "markdown",
   "metadata": {},
   "source": [
    "### Reduce 12 categorías que eran lo mismo pero estaban en mayuscula o minuscula: "
   ]
  },
  {
   "cell_type": "code",
   "execution_count": null,
   "metadata": {},
   "outputs": [],
   "source": []
  },
  {
   "cell_type": "markdown",
   "metadata": {},
   "source": [
    "# Pipeline para seleccion de variables"
   ]
  },
  {
   "cell_type": "code",
   "execution_count": null,
   "metadata": {},
   "outputs": [],
   "source": []
  },
  {
   "cell_type": "code",
   "execution_count": 187,
   "metadata": {},
   "outputs": [
    {
     "data": {
      "text/html": [
       "<div>\n",
       "<style scoped>\n",
       "    .dataframe tbody tr th:only-of-type {\n",
       "        vertical-align: middle;\n",
       "    }\n",
       "\n",
       "    .dataframe tbody tr th {\n",
       "        vertical-align: top;\n",
       "    }\n",
       "\n",
       "    .dataframe thead th {\n",
       "        text-align: right;\n",
       "    }\n",
       "</style>\n",
       "<table border=\"1\" class=\"dataframe\">\n",
       "  <thead>\n",
       "    <tr style=\"text-align: right;\">\n",
       "      <th></th>\n",
       "      <th>inspection_id</th>\n",
       "      <th>dba_name</th>\n",
       "      <th>aka_name</th>\n",
       "      <th>license_number</th>\n",
       "      <th>facility_type</th>\n",
       "      <th>risk</th>\n",
       "      <th>address</th>\n",
       "      <th>city</th>\n",
       "      <th>state</th>\n",
       "      <th>zip</th>\n",
       "      <th>inspection_date</th>\n",
       "      <th>inspection_type</th>\n",
       "      <th>results</th>\n",
       "      <th>violations</th>\n",
       "      <th>latitude</th>\n",
       "      <th>longitude</th>\n",
       "      <th>location</th>\n",
       "    </tr>\n",
       "  </thead>\n",
       "  <tbody>\n",
       "    <tr>\n",
       "      <th>0</th>\n",
       "      <td>2473009</td>\n",
       "      <td>JENI'S SPLENDID ICE CREAMS</td>\n",
       "      <td>JENI'S SPLENDID ICE CREAMS</td>\n",
       "      <td>2767260.0</td>\n",
       "      <td>Restaurant</td>\n",
       "      <td>Risk 2 (Medium)</td>\n",
       "      <td>2512 N MILKWAUKEE AVE</td>\n",
       "      <td>CHICAGO</td>\n",
       "      <td>IL</td>\n",
       "      <td>60647.0</td>\n",
       "      <td>01/22/2021</td>\n",
       "      <td>LICENSE</td>\n",
       "      <td>Pass</td>\n",
       "      <td>NaN</td>\n",
       "      <td>NaN</td>\n",
       "      <td>NaN</td>\n",
       "      <td>NaN</td>\n",
       "    </tr>\n",
       "    <tr>\n",
       "      <th>1</th>\n",
       "      <td>2457202</td>\n",
       "      <td>PI18EN</td>\n",
       "      <td>PI18EN</td>\n",
       "      <td>2626471.0</td>\n",
       "      <td>Restaurant</td>\n",
       "      <td>Risk 1 (High)</td>\n",
       "      <td>1519 W 18TH ST</td>\n",
       "      <td>CHICAGO</td>\n",
       "      <td>IL</td>\n",
       "      <td>60608.0</td>\n",
       "      <td>11/30/2020</td>\n",
       "      <td>NON-INSPECTION</td>\n",
       "      <td>No Entry</td>\n",
       "      <td>NaN</td>\n",
       "      <td>41.857714</td>\n",
       "      <td>-87.664542</td>\n",
       "      <td>(-87.66454238198166, 41.8577138739859)</td>\n",
       "    </tr>\n",
       "    <tr>\n",
       "      <th>2</th>\n",
       "      <td>2453552</td>\n",
       "      <td>CLAMP DOWN BURGERS</td>\n",
       "      <td>NaN</td>\n",
       "      <td>2749943.0</td>\n",
       "      <td>Other</td>\n",
       "      <td>Risk 2 (Medium)</td>\n",
       "      <td>1742 W DIVISION ST</td>\n",
       "      <td>CHICAGO</td>\n",
       "      <td>IL</td>\n",
       "      <td>60622.0</td>\n",
       "      <td>10/20/2020</td>\n",
       "      <td>LICENSE</td>\n",
       "      <td>No Entry</td>\n",
       "      <td>NaN</td>\n",
       "      <td>41.903387</td>\n",
       "      <td>-87.671740</td>\n",
       "      <td>(-87.67174026586648, 41.903386755553484)</td>\n",
       "    </tr>\n",
       "    <tr>\n",
       "      <th>3</th>\n",
       "      <td>2401262</td>\n",
       "      <td>FLEMING BRANCH</td>\n",
       "      <td>FLEMING BRANCH</td>\n",
       "      <td>23462.0</td>\n",
       "      <td>School</td>\n",
       "      <td>Risk 1 (High)</td>\n",
       "      <td>4918 W 64th ST</td>\n",
       "      <td>CHICAGO</td>\n",
       "      <td>IL</td>\n",
       "      <td>60638.0</td>\n",
       "      <td>09/16/2020</td>\n",
       "      <td>CANVASS</td>\n",
       "      <td>Pass</td>\n",
       "      <td>NaN</td>\n",
       "      <td>41.776651</td>\n",
       "      <td>-87.745551</td>\n",
       "      <td>(-87.74555107977419, 41.7766510612827)</td>\n",
       "    </tr>\n",
       "    <tr>\n",
       "      <th>4</th>\n",
       "      <td>2387142</td>\n",
       "      <td>PRITZKER</td>\n",
       "      <td>PRITZKER</td>\n",
       "      <td>25871.0</td>\n",
       "      <td>School</td>\n",
       "      <td>Risk 1 (High)</td>\n",
       "      <td>2009 W Schiller ST</td>\n",
       "      <td>CHICAGO</td>\n",
       "      <td>IL</td>\n",
       "      <td>60622.0</td>\n",
       "      <td>09/14/2020</td>\n",
       "      <td>CANVASS</td>\n",
       "      <td>Pass</td>\n",
       "      <td>NaN</td>\n",
       "      <td>41.907025</td>\n",
       "      <td>-87.677796</td>\n",
       "      <td>(-87.67779554588037, 41.907025004582245)</td>\n",
       "    </tr>\n",
       "  </tbody>\n",
       "</table>\n",
       "</div>"
      ],
      "text/plain": [
       "   inspection_id                    dba_name                    aka_name  \\\n",
       "0        2473009  JENI'S SPLENDID ICE CREAMS  JENI'S SPLENDID ICE CREAMS   \n",
       "1        2457202                      PI18EN                      PI18EN   \n",
       "2        2453552          CLAMP DOWN BURGERS                         NaN   \n",
       "3        2401262              FLEMING BRANCH              FLEMING BRANCH   \n",
       "4        2387142                    PRITZKER                    PRITZKER   \n",
       "\n",
       "  license_number facility_type             risk                 address  \\\n",
       "0      2767260.0    Restaurant  Risk 2 (Medium)  2512 N MILKWAUKEE AVE    \n",
       "1      2626471.0    Restaurant    Risk 1 (High)         1519 W 18TH ST    \n",
       "2      2749943.0         Other  Risk 2 (Medium)     1742 W DIVISION ST    \n",
       "3        23462.0        School    Risk 1 (High)         4918 W 64th ST    \n",
       "4        25871.0        School    Risk 1 (High)     2009 W Schiller ST    \n",
       "\n",
       "      city state      zip inspection_date inspection_type   results  \\\n",
       "0  CHICAGO    IL  60647.0      01/22/2021         LICENSE      Pass   \n",
       "1  CHICAGO    IL  60608.0      11/30/2020  NON-INSPECTION  No Entry   \n",
       "2  CHICAGO    IL  60622.0      10/20/2020         LICENSE  No Entry   \n",
       "3  CHICAGO    IL  60638.0      09/16/2020         CANVASS      Pass   \n",
       "4  CHICAGO    IL  60622.0      09/14/2020         CANVASS      Pass   \n",
       "\n",
       "  violations   latitude  longitude                                  location  \n",
       "0        NaN        NaN        NaN                                       NaN  \n",
       "1        NaN  41.857714 -87.664542    (-87.66454238198166, 41.8577138739859)  \n",
       "2        NaN  41.903387 -87.671740  (-87.67174026586648, 41.903386755553484)  \n",
       "3        NaN  41.776651 -87.745551    (-87.74555107977419, 41.7766510612827)  \n",
       "4        NaN  41.907025 -87.677796  (-87.67779554588037, 41.907025004582245)  "
      ]
     },
     "execution_count": 187,
     "metadata": {},
     "output_type": "execute_result"
    }
   ],
   "source": [
    "df.head(5)"
   ]
  },
  {
   "cell_type": "markdown",
   "metadata": {},
   "source": [
    "## sklearn imports"
   ]
  },
  {
   "cell_type": "code",
   "execution_count": 237,
   "metadata": {},
   "outputs": [],
   "source": [
    "from sklearn.preprocessing import (\n",
    "    OneHotEncoder,\n",
    "    StandardScaler\n",
    ")\n",
    "from sklearn.pipeline import Pipeline\n",
    "from sklearn.compose import ColumnTransformer\n",
    "from sklearn.model_selection import (\n",
    "    GridSearchCV,\n",
    "    TimeSeriesSplit\n",
    ")\n",
    "from sklearn.model_selection import (\n",
    "    train_test_split,\n",
    "    cross_val_score\n",
    ")\n",
    "from sklearn.ensemble import RandomForestClassifier\n"
   ]
  },
  {
   "cell_type": "code",
   "execution_count": 245,
   "metadata": {},
   "outputs": [],
   "source": [
    "sys.path.append(\"/../\")"
   ]
  },
  {
   "cell_type": "code",
   "execution_count": 246,
   "metadata": {},
   "outputs": [
    {
     "data": {
      "text/plain": [
       "'/Users/sansansansan/repos_itam/dpa_2021/notebooks'"
      ]
     },
     "execution_count": 246,
     "metadata": {},
     "output_type": "execute_result"
    }
   ],
   "source": [
    "pwd"
   ]
  },
  {
   "cell_type": "markdown",
   "metadata": {},
   "source": [
    "## por que le tengo que poner el _ml para que funcione el IMPORT __?? "
   ]
  },
  {
   "cell_type": "code",
   "execution_count": 252,
   "metadata": {},
   "outputs": [],
   "source": [
    "from src.utils.params_ml import time_series_splits, evaluation_metric"
   ]
  },
  {
   "cell_type": "markdown",
   "metadata": {},
   "source": [
    "## One Hot Encoding "
   ]
  },
  {
   "cell_type": "code",
   "execution_count": 205,
   "metadata": {},
   "outputs": [],
   "source": [
    "df_features= df.loc[:, df.columns != 'results']"
   ]
  },
  {
   "cell_type": "code",
   "execution_count": 228,
   "metadata": {},
   "outputs": [],
   "source": [
    "df_labels= df.loc[:, df.columns == 'results']"
   ]
  },
  {
   "cell_type": "code",
   "execution_count": 200,
   "metadata": {},
   "outputs": [],
   "source": [
    "categoric_pipeline = Pipeline([\n",
    "    ('hotencode',OneHotEncoder())\n",
    "])"
   ]
  },
  {
   "cell_type": "code",
   "execution_count": 202,
   "metadata": {},
   "outputs": [],
   "source": [
    "## elijo los features \n",
    "cat_features = ['risk','inspection_type','facility_type']"
   ]
  },
  {
   "cell_type": "code",
   "execution_count": 207,
   "metadata": {},
   "outputs": [],
   "source": [
    "pipeline = ColumnTransformer(transformers=[('categoric', categoric_pipeline, cat_features)],\n",
    "        remainder='passthrough', sparse_threshold=0)\n"
   ]
  },
  {
   "cell_type": "code",
   "execution_count": 208,
   "metadata": {},
   "outputs": [],
   "source": [
    "df_features_prc = pipeline.fit_transform(df_features)"
   ]
  },
  {
   "cell_type": "code",
   "execution_count": 209,
   "metadata": {},
   "outputs": [
    {
     "data": {
      "text/plain": [
       "numpy.ndarray"
      ]
     },
     "execution_count": 209,
     "metadata": {},
     "output_type": "execute_result"
    }
   ],
   "source": [
    "type(df_features_prc)"
   ]
  },
  {
   "cell_type": "code",
   "execution_count": 211,
   "metadata": {},
   "outputs": [
    {
     "data": {
      "text/plain": [
       "215626"
      ]
     },
     "execution_count": 211,
     "metadata": {},
     "output_type": "execute_result"
    }
   ],
   "source": [
    "len(df_features_prc)"
   ]
  },
  {
   "cell_type": "code",
   "execution_count": null,
   "metadata": {},
   "outputs": [],
   "source": [
    "np.shape(df_features_prc)"
   ]
  },
  {
   "cell_type": "code",
   "execution_count": null,
   "metadata": {},
   "outputs": [],
   "source": []
  },
  {
   "cell_type": "code",
   "execution_count": 213,
   "metadata": {},
   "outputs": [],
   "source": [
    "import numpy as np"
   ]
  },
  {
   "cell_type": "code",
   "execution_count": 214,
   "metadata": {},
   "outputs": [
    {
     "data": {
      "text/plain": [
       "(215626, 112)"
      ]
     },
     "execution_count": 214,
     "metadata": {},
     "output_type": "execute_result"
    }
   ],
   "source": []
  },
  {
   "cell_type": "code",
   "execution_count": 215,
   "metadata": {},
   "outputs": [
    {
     "data": {
      "text/plain": [
       "array([[0.0, 0.0, 1.0, ..., nan, nan, nan],\n",
       "       [0.0, 1.0, 0.0, ..., 41.8577138739859, -87.66454238198166,\n",
       "        '(-87.66454238198166, 41.8577138739859)'],\n",
       "       [0.0, 0.0, 1.0, ..., 41.90338675555349, -87.67174026586648,\n",
       "        '(-87.67174026586648, 41.903386755553484)'],\n",
       "       ...,\n",
       "       [0.0, 1.0, 0.0, ..., 41.88269466861121, -87.63253142666058,\n",
       "        '(-87.63253142666058, 41.88269466861121)'],\n",
       "       [0.0, 1.0, 0.0, ..., 41.87677135996502, -87.75477136468453,\n",
       "        '(-87.75477136468453, 41.87677135996502)'],\n",
       "       [0.0, 1.0, 0.0, ..., 41.90011845725853, -87.62398051946951,\n",
       "        '(-87.62398051946951, 41.90011845725853)']], dtype=object)"
      ]
     },
     "execution_count": 215,
     "metadata": {},
     "output_type": "execute_result"
    }
   ],
   "source": [
    "df_features_prc"
   ]
  },
  {
   "cell_type": "code",
   "execution_count": null,
   "metadata": {},
   "outputs": [],
   "source": [
    "## Selecting and training model - Random Forrest\n",
    "#model = models_dict[\"random_forest\"][\"model\"]"
   ]
  },
  {
   "cell_type": "code",
   "execution_count": 229,
   "metadata": {},
   "outputs": [],
   "source": [
    "X_train, X_test, y_train, y_test = train_test_split(df_features_prc, df_labels, test_size=0.3)"
   ]
  },
  {
   "cell_type": "code",
   "execution_count": 233,
   "metadata": {},
   "outputs": [],
   "source": [
    "models_dict = {\n",
    "    \"random_forest\": {\n",
    "        \"model\": RandomForestClassifier(\n",
    "            max_features=6,\n",
    "            n_estimators=10,\n",
    "            max_leaf_nodes=10,\n",
    "            oob_score=True,\n",
    "            n_jobs=-1,\n",
    "            random_state=1111),\n",
    "        \"param_grid\": {\n",
    "            \"n_estimators\": [100, 300, 500, 800],\n",
    "            \"min_samples_leaf\": [3, 5, 7],\n",
    "            \"criterion\": ['gini']\n",
    "        }\n",
    "    }\n",
    "}\n"
   ]
  },
  {
   "cell_type": "code",
   "execution_count": 235,
   "metadata": {},
   "outputs": [
    {
     "name": "stdout",
     "output_type": "stream",
     "text": [
      "\n",
      "++ The model that will be used is: RandomForestClassifier(max_features=6, max_leaf_nodes=10, n_estimators=10,\n",
      "                       n_jobs=-1, oob_score=True, random_state=1111)\n",
      "\n"
     ]
    }
   ],
   "source": [
    "model = models_dict[\"random_forest\"][\"model\"]\n",
    "print(\"\\n++ The model that will be used is: {}\\n\".format(model))"
   ]
  },
  {
   "cell_type": "code",
   "execution_count": 253,
   "metadata": {},
   "outputs": [],
   "source": [
    "grid_search = GridSearchCV(model,\n",
    "                           models_dict[\"random_forest\"][\"param_grid\"],\n",
    "                           cv=TimeSeriesSplit(n_splits=time_series_splits),\n",
    "                           scoring=evaluation_metric,\n",
    "                           return_train_score=True,\n",
    "                           n_jobs=-1\n",
    "                           )"
   ]
  },
  {
   "cell_type": "code",
   "execution_count": 254,
   "metadata": {},
   "outputs": [
    {
     "name": "stderr",
     "output_type": "stream",
     "text": [
      "/Users/sansansansan/.pyenv/versions/3.7.4/envs/dpa/lib/python3.7/site-packages/sklearn/model_selection/_search.py:921: UserWarning: One or more of the test scores are non-finite: [nan nan nan nan nan nan nan nan nan nan nan nan]\n",
      "  category=UserWarning\n",
      "/Users/sansansansan/.pyenv/versions/3.7.4/envs/dpa/lib/python3.7/site-packages/sklearn/model_selection/_search.py:921: UserWarning: One or more of the train scores are non-finite: [nan nan nan nan nan nan nan nan nan nan nan nan]\n",
      "  category=UserWarning\n"
     ]
    },
    {
     "ename": "ValueError",
     "evalue": "could not convert string to float: 'PINKBERRY - STATE STREET SERIES'",
     "output_type": "error",
     "traceback": [
      "\u001b[0;31m---------------------------------------------------------------------------\u001b[0m",
      "\u001b[0;31mValueError\u001b[0m                                Traceback (most recent call last)",
      "\u001b[0;32m<ipython-input-254-231b374c92ba>\u001b[0m in \u001b[0;36m<module>\u001b[0;34m\u001b[0m\n\u001b[0;32m----> 1\u001b[0;31m \u001b[0mgrid_search\u001b[0m\u001b[0;34m.\u001b[0m\u001b[0mfit\u001b[0m\u001b[0;34m(\u001b[0m\u001b[0mX_train\u001b[0m\u001b[0;34m,\u001b[0m \u001b[0my_train\u001b[0m\u001b[0;34m)\u001b[0m\u001b[0;34m\u001b[0m\u001b[0;34m\u001b[0m\u001b[0m\n\u001b[0m",
      "\u001b[0;32m~/.pyenv/versions/3.7.4/envs/dpa/lib/python3.7/site-packages/sklearn/utils/validation.py\u001b[0m in \u001b[0;36minner_f\u001b[0;34m(*args, **kwargs)\u001b[0m\n\u001b[1;32m     61\u001b[0m             \u001b[0mextra_args\u001b[0m \u001b[0;34m=\u001b[0m \u001b[0mlen\u001b[0m\u001b[0;34m(\u001b[0m\u001b[0margs\u001b[0m\u001b[0;34m)\u001b[0m \u001b[0;34m-\u001b[0m \u001b[0mlen\u001b[0m\u001b[0;34m(\u001b[0m\u001b[0mall_args\u001b[0m\u001b[0;34m)\u001b[0m\u001b[0;34m\u001b[0m\u001b[0;34m\u001b[0m\u001b[0m\n\u001b[1;32m     62\u001b[0m             \u001b[0;32mif\u001b[0m \u001b[0mextra_args\u001b[0m \u001b[0;34m<=\u001b[0m \u001b[0;36m0\u001b[0m\u001b[0;34m:\u001b[0m\u001b[0;34m\u001b[0m\u001b[0;34m\u001b[0m\u001b[0m\n\u001b[0;32m---> 63\u001b[0;31m                 \u001b[0;32mreturn\u001b[0m \u001b[0mf\u001b[0m\u001b[0;34m(\u001b[0m\u001b[0;34m*\u001b[0m\u001b[0margs\u001b[0m\u001b[0;34m,\u001b[0m \u001b[0;34m**\u001b[0m\u001b[0mkwargs\u001b[0m\u001b[0;34m)\u001b[0m\u001b[0;34m\u001b[0m\u001b[0;34m\u001b[0m\u001b[0m\n\u001b[0m\u001b[1;32m     64\u001b[0m \u001b[0;34m\u001b[0m\u001b[0m\n\u001b[1;32m     65\u001b[0m             \u001b[0;31m# extra_args > 0\u001b[0m\u001b[0;34m\u001b[0m\u001b[0;34m\u001b[0m\u001b[0;34m\u001b[0m\u001b[0m\n",
      "\u001b[0;32m~/.pyenv/versions/3.7.4/envs/dpa/lib/python3.7/site-packages/sklearn/model_selection/_search.py\u001b[0m in \u001b[0;36mfit\u001b[0;34m(self, X, y, groups, **fit_params)\u001b[0m\n\u001b[1;32m    878\u001b[0m             \u001b[0mrefit_start_time\u001b[0m \u001b[0;34m=\u001b[0m \u001b[0mtime\u001b[0m\u001b[0;34m.\u001b[0m\u001b[0mtime\u001b[0m\u001b[0;34m(\u001b[0m\u001b[0;34m)\u001b[0m\u001b[0;34m\u001b[0m\u001b[0;34m\u001b[0m\u001b[0m\n\u001b[1;32m    879\u001b[0m             \u001b[0;32mif\u001b[0m \u001b[0my\u001b[0m \u001b[0;32mis\u001b[0m \u001b[0;32mnot\u001b[0m \u001b[0;32mNone\u001b[0m\u001b[0;34m:\u001b[0m\u001b[0;34m\u001b[0m\u001b[0;34m\u001b[0m\u001b[0m\n\u001b[0;32m--> 880\u001b[0;31m                 \u001b[0mself\u001b[0m\u001b[0;34m.\u001b[0m\u001b[0mbest_estimator_\u001b[0m\u001b[0;34m.\u001b[0m\u001b[0mfit\u001b[0m\u001b[0;34m(\u001b[0m\u001b[0mX\u001b[0m\u001b[0;34m,\u001b[0m \u001b[0my\u001b[0m\u001b[0;34m,\u001b[0m \u001b[0;34m**\u001b[0m\u001b[0mfit_params\u001b[0m\u001b[0;34m)\u001b[0m\u001b[0;34m\u001b[0m\u001b[0;34m\u001b[0m\u001b[0m\n\u001b[0m\u001b[1;32m    881\u001b[0m             \u001b[0;32melse\u001b[0m\u001b[0;34m:\u001b[0m\u001b[0;34m\u001b[0m\u001b[0;34m\u001b[0m\u001b[0m\n\u001b[1;32m    882\u001b[0m                 \u001b[0mself\u001b[0m\u001b[0;34m.\u001b[0m\u001b[0mbest_estimator_\u001b[0m\u001b[0;34m.\u001b[0m\u001b[0mfit\u001b[0m\u001b[0;34m(\u001b[0m\u001b[0mX\u001b[0m\u001b[0;34m,\u001b[0m \u001b[0;34m**\u001b[0m\u001b[0mfit_params\u001b[0m\u001b[0;34m)\u001b[0m\u001b[0;34m\u001b[0m\u001b[0;34m\u001b[0m\u001b[0m\n",
      "\u001b[0;32m~/.pyenv/versions/3.7.4/envs/dpa/lib/python3.7/site-packages/sklearn/ensemble/_forest.py\u001b[0m in \u001b[0;36mfit\u001b[0;34m(self, X, y, sample_weight)\u001b[0m\n\u001b[1;32m    303\u001b[0m             )\n\u001b[1;32m    304\u001b[0m         X, y = self._validate_data(X, y, multi_output=True,\n\u001b[0;32m--> 305\u001b[0;31m                                    accept_sparse=\"csc\", dtype=DTYPE)\n\u001b[0m\u001b[1;32m    306\u001b[0m         \u001b[0;32mif\u001b[0m \u001b[0msample_weight\u001b[0m \u001b[0;32mis\u001b[0m \u001b[0;32mnot\u001b[0m \u001b[0;32mNone\u001b[0m\u001b[0;34m:\u001b[0m\u001b[0;34m\u001b[0m\u001b[0;34m\u001b[0m\u001b[0m\n\u001b[1;32m    307\u001b[0m             \u001b[0msample_weight\u001b[0m \u001b[0;34m=\u001b[0m \u001b[0m_check_sample_weight\u001b[0m\u001b[0;34m(\u001b[0m\u001b[0msample_weight\u001b[0m\u001b[0;34m,\u001b[0m \u001b[0mX\u001b[0m\u001b[0;34m)\u001b[0m\u001b[0;34m\u001b[0m\u001b[0;34m\u001b[0m\u001b[0m\n",
      "\u001b[0;32m~/.pyenv/versions/3.7.4/envs/dpa/lib/python3.7/site-packages/sklearn/base.py\u001b[0m in \u001b[0;36m_validate_data\u001b[0;34m(self, X, y, reset, validate_separately, **check_params)\u001b[0m\n\u001b[1;32m    431\u001b[0m                 \u001b[0my\u001b[0m \u001b[0;34m=\u001b[0m \u001b[0mcheck_array\u001b[0m\u001b[0;34m(\u001b[0m\u001b[0my\u001b[0m\u001b[0;34m,\u001b[0m \u001b[0;34m**\u001b[0m\u001b[0mcheck_y_params\u001b[0m\u001b[0;34m)\u001b[0m\u001b[0;34m\u001b[0m\u001b[0;34m\u001b[0m\u001b[0m\n\u001b[1;32m    432\u001b[0m             \u001b[0;32melse\u001b[0m\u001b[0;34m:\u001b[0m\u001b[0;34m\u001b[0m\u001b[0;34m\u001b[0m\u001b[0m\n\u001b[0;32m--> 433\u001b[0;31m                 \u001b[0mX\u001b[0m\u001b[0;34m,\u001b[0m \u001b[0my\u001b[0m \u001b[0;34m=\u001b[0m \u001b[0mcheck_X_y\u001b[0m\u001b[0;34m(\u001b[0m\u001b[0mX\u001b[0m\u001b[0;34m,\u001b[0m \u001b[0my\u001b[0m\u001b[0;34m,\u001b[0m \u001b[0;34m**\u001b[0m\u001b[0mcheck_params\u001b[0m\u001b[0;34m)\u001b[0m\u001b[0;34m\u001b[0m\u001b[0;34m\u001b[0m\u001b[0m\n\u001b[0m\u001b[1;32m    434\u001b[0m             \u001b[0mout\u001b[0m \u001b[0;34m=\u001b[0m \u001b[0mX\u001b[0m\u001b[0;34m,\u001b[0m \u001b[0my\u001b[0m\u001b[0;34m\u001b[0m\u001b[0;34m\u001b[0m\u001b[0m\n\u001b[1;32m    435\u001b[0m \u001b[0;34m\u001b[0m\u001b[0m\n",
      "\u001b[0;32m~/.pyenv/versions/3.7.4/envs/dpa/lib/python3.7/site-packages/sklearn/utils/validation.py\u001b[0m in \u001b[0;36minner_f\u001b[0;34m(*args, **kwargs)\u001b[0m\n\u001b[1;32m     61\u001b[0m             \u001b[0mextra_args\u001b[0m \u001b[0;34m=\u001b[0m \u001b[0mlen\u001b[0m\u001b[0;34m(\u001b[0m\u001b[0margs\u001b[0m\u001b[0;34m)\u001b[0m \u001b[0;34m-\u001b[0m \u001b[0mlen\u001b[0m\u001b[0;34m(\u001b[0m\u001b[0mall_args\u001b[0m\u001b[0;34m)\u001b[0m\u001b[0;34m\u001b[0m\u001b[0;34m\u001b[0m\u001b[0m\n\u001b[1;32m     62\u001b[0m             \u001b[0;32mif\u001b[0m \u001b[0mextra_args\u001b[0m \u001b[0;34m<=\u001b[0m \u001b[0;36m0\u001b[0m\u001b[0;34m:\u001b[0m\u001b[0;34m\u001b[0m\u001b[0;34m\u001b[0m\u001b[0m\n\u001b[0;32m---> 63\u001b[0;31m                 \u001b[0;32mreturn\u001b[0m \u001b[0mf\u001b[0m\u001b[0;34m(\u001b[0m\u001b[0;34m*\u001b[0m\u001b[0margs\u001b[0m\u001b[0;34m,\u001b[0m \u001b[0;34m**\u001b[0m\u001b[0mkwargs\u001b[0m\u001b[0;34m)\u001b[0m\u001b[0;34m\u001b[0m\u001b[0;34m\u001b[0m\u001b[0m\n\u001b[0m\u001b[1;32m     64\u001b[0m \u001b[0;34m\u001b[0m\u001b[0m\n\u001b[1;32m     65\u001b[0m             \u001b[0;31m# extra_args > 0\u001b[0m\u001b[0;34m\u001b[0m\u001b[0;34m\u001b[0m\u001b[0;34m\u001b[0m\u001b[0m\n",
      "\u001b[0;32m~/.pyenv/versions/3.7.4/envs/dpa/lib/python3.7/site-packages/sklearn/utils/validation.py\u001b[0m in \u001b[0;36mcheck_X_y\u001b[0;34m(X, y, accept_sparse, accept_large_sparse, dtype, order, copy, force_all_finite, ensure_2d, allow_nd, multi_output, ensure_min_samples, ensure_min_features, y_numeric, estimator)\u001b[0m\n\u001b[1;32m    819\u001b[0m                     \u001b[0mensure_min_samples\u001b[0m\u001b[0;34m=\u001b[0m\u001b[0mensure_min_samples\u001b[0m\u001b[0;34m,\u001b[0m\u001b[0;34m\u001b[0m\u001b[0;34m\u001b[0m\u001b[0m\n\u001b[1;32m    820\u001b[0m                     \u001b[0mensure_min_features\u001b[0m\u001b[0;34m=\u001b[0m\u001b[0mensure_min_features\u001b[0m\u001b[0;34m,\u001b[0m\u001b[0;34m\u001b[0m\u001b[0;34m\u001b[0m\u001b[0m\n\u001b[0;32m--> 821\u001b[0;31m                     estimator=estimator)\n\u001b[0m\u001b[1;32m    822\u001b[0m     \u001b[0;32mif\u001b[0m \u001b[0mmulti_output\u001b[0m\u001b[0;34m:\u001b[0m\u001b[0;34m\u001b[0m\u001b[0;34m\u001b[0m\u001b[0m\n\u001b[1;32m    823\u001b[0m         y = check_array(y, accept_sparse='csr', force_all_finite=True,\n",
      "\u001b[0;32m~/.pyenv/versions/3.7.4/envs/dpa/lib/python3.7/site-packages/sklearn/utils/validation.py\u001b[0m in \u001b[0;36minner_f\u001b[0;34m(*args, **kwargs)\u001b[0m\n\u001b[1;32m     61\u001b[0m             \u001b[0mextra_args\u001b[0m \u001b[0;34m=\u001b[0m \u001b[0mlen\u001b[0m\u001b[0;34m(\u001b[0m\u001b[0margs\u001b[0m\u001b[0;34m)\u001b[0m \u001b[0;34m-\u001b[0m \u001b[0mlen\u001b[0m\u001b[0;34m(\u001b[0m\u001b[0mall_args\u001b[0m\u001b[0;34m)\u001b[0m\u001b[0;34m\u001b[0m\u001b[0;34m\u001b[0m\u001b[0m\n\u001b[1;32m     62\u001b[0m             \u001b[0;32mif\u001b[0m \u001b[0mextra_args\u001b[0m \u001b[0;34m<=\u001b[0m \u001b[0;36m0\u001b[0m\u001b[0;34m:\u001b[0m\u001b[0;34m\u001b[0m\u001b[0;34m\u001b[0m\u001b[0m\n\u001b[0;32m---> 63\u001b[0;31m                 \u001b[0;32mreturn\u001b[0m \u001b[0mf\u001b[0m\u001b[0;34m(\u001b[0m\u001b[0;34m*\u001b[0m\u001b[0margs\u001b[0m\u001b[0;34m,\u001b[0m \u001b[0;34m**\u001b[0m\u001b[0mkwargs\u001b[0m\u001b[0;34m)\u001b[0m\u001b[0;34m\u001b[0m\u001b[0;34m\u001b[0m\u001b[0m\n\u001b[0m\u001b[1;32m     64\u001b[0m \u001b[0;34m\u001b[0m\u001b[0m\n\u001b[1;32m     65\u001b[0m             \u001b[0;31m# extra_args > 0\u001b[0m\u001b[0;34m\u001b[0m\u001b[0;34m\u001b[0m\u001b[0;34m\u001b[0m\u001b[0m\n",
      "\u001b[0;32m~/.pyenv/versions/3.7.4/envs/dpa/lib/python3.7/site-packages/sklearn/utils/validation.py\u001b[0m in \u001b[0;36mcheck_array\u001b[0;34m(array, accept_sparse, accept_large_sparse, dtype, order, copy, force_all_finite, ensure_2d, allow_nd, ensure_min_samples, ensure_min_features, estimator)\u001b[0m\n\u001b[1;32m    614\u001b[0m                     \u001b[0marray\u001b[0m \u001b[0;34m=\u001b[0m \u001b[0marray\u001b[0m\u001b[0;34m.\u001b[0m\u001b[0mastype\u001b[0m\u001b[0;34m(\u001b[0m\u001b[0mdtype\u001b[0m\u001b[0;34m,\u001b[0m \u001b[0mcasting\u001b[0m\u001b[0;34m=\u001b[0m\u001b[0;34m\"unsafe\"\u001b[0m\u001b[0;34m,\u001b[0m \u001b[0mcopy\u001b[0m\u001b[0;34m=\u001b[0m\u001b[0;32mFalse\u001b[0m\u001b[0;34m)\u001b[0m\u001b[0;34m\u001b[0m\u001b[0;34m\u001b[0m\u001b[0m\n\u001b[1;32m    615\u001b[0m                 \u001b[0;32melse\u001b[0m\u001b[0;34m:\u001b[0m\u001b[0;34m\u001b[0m\u001b[0;34m\u001b[0m\u001b[0m\n\u001b[0;32m--> 616\u001b[0;31m                     \u001b[0marray\u001b[0m \u001b[0;34m=\u001b[0m \u001b[0mnp\u001b[0m\u001b[0;34m.\u001b[0m\u001b[0masarray\u001b[0m\u001b[0;34m(\u001b[0m\u001b[0marray\u001b[0m\u001b[0;34m,\u001b[0m \u001b[0morder\u001b[0m\u001b[0;34m=\u001b[0m\u001b[0morder\u001b[0m\u001b[0;34m,\u001b[0m \u001b[0mdtype\u001b[0m\u001b[0;34m=\u001b[0m\u001b[0mdtype\u001b[0m\u001b[0;34m)\u001b[0m\u001b[0;34m\u001b[0m\u001b[0;34m\u001b[0m\u001b[0m\n\u001b[0m\u001b[1;32m    617\u001b[0m             \u001b[0;32mexcept\u001b[0m \u001b[0mComplexWarning\u001b[0m \u001b[0;32mas\u001b[0m \u001b[0mcomplex_warning\u001b[0m\u001b[0;34m:\u001b[0m\u001b[0;34m\u001b[0m\u001b[0;34m\u001b[0m\u001b[0m\n\u001b[1;32m    618\u001b[0m                 raise ValueError(\"Complex data not supported\\n\"\n",
      "\u001b[0;32m~/.pyenv/versions/3.7.4/envs/dpa/lib/python3.7/site-packages/numpy/core/_asarray.py\u001b[0m in \u001b[0;36masarray\u001b[0;34m(a, dtype, order)\u001b[0m\n\u001b[1;32m     81\u001b[0m \u001b[0;34m\u001b[0m\u001b[0m\n\u001b[1;32m     82\u001b[0m     \"\"\"\n\u001b[0;32m---> 83\u001b[0;31m     \u001b[0;32mreturn\u001b[0m \u001b[0marray\u001b[0m\u001b[0;34m(\u001b[0m\u001b[0ma\u001b[0m\u001b[0;34m,\u001b[0m \u001b[0mdtype\u001b[0m\u001b[0;34m,\u001b[0m \u001b[0mcopy\u001b[0m\u001b[0;34m=\u001b[0m\u001b[0;32mFalse\u001b[0m\u001b[0;34m,\u001b[0m \u001b[0morder\u001b[0m\u001b[0;34m=\u001b[0m\u001b[0morder\u001b[0m\u001b[0;34m)\u001b[0m\u001b[0;34m\u001b[0m\u001b[0;34m\u001b[0m\u001b[0m\n\u001b[0m\u001b[1;32m     84\u001b[0m \u001b[0;34m\u001b[0m\u001b[0m\n\u001b[1;32m     85\u001b[0m \u001b[0;34m\u001b[0m\u001b[0m\n",
      "\u001b[0;31mValueError\u001b[0m: could not convert string to float: 'PINKBERRY - STATE STREET SERIES'"
     ]
    }
   ],
   "source": [
    "grid_search.fit(X_train, y_train)"
   ]
  },
  {
   "cell_type": "code",
   "execution_count": null,
   "metadata": {},
   "outputs": [],
   "source": [
    "print(\"\\n++ Grid search results:\\n\")\n",
    "print(\"    ++++ Best parameters: {}\".format(grid_search.best_params_))\n",
    "print(\"    ++++ Best estimator: {}\".format(grid_search.best_estimator_))\n",
    "print(\"    ++++ Number of features in best estimator: {} \\n\".format(grid_search.best_estimator_.n_features_))\n",
    "print(\"    ++++ Best estimator score: {}\\n\".format(grid_search.best_score_))\n",
    "print(\"    ++++ Best estimator oob score: {}\\n\".format(grid_search.best_estimator_.oob_score_))"
   ]
  },
  {
   "cell_type": "code",
   "execution_count": null,
   "metadata": {},
   "outputs": [],
   "source": []
  }
 ],
 "metadata": {
  "kernelspec": {
   "display_name": "Python 3",
   "language": "python",
   "name": "python3"
  },
  "language_info": {
   "codemirror_mode": {
    "name": "ipython",
    "version": 3
   },
   "file_extension": ".py",
   "mimetype": "text/x-python",
   "name": "python",
   "nbconvert_exporter": "python",
   "pygments_lexer": "ipython3",
   "version": "3.7.4"
  }
 },
 "nbformat": 4,
 "nbformat_minor": 4
}
