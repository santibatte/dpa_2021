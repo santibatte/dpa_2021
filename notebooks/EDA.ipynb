{
 "cells": [
  {
   "cell_type": "markdown",
   "metadata": {},
   "source": [
    "# Data Product Arquitecture - Food Inspections Project"
   ]
  },
  {
   "cell_type": "markdown",
   "metadata": {},
   "source": [
    "Team:\n",
    "\n",
    "* Jóse Roberto Pérez - 173013\n",
    "* Santiago Battezzati - 197727\n",
    "* Carlos Geovany Pérez - 197614\n",
    "* Mariana Lugo - 118626"
   ]
  },
  {
   "cell_type": "markdown",
   "metadata": {},
   "source": [
    "## Imports"
   ]
  },
  {
   "cell_type": "markdown",
   "metadata": {},
   "source": [
    "#### Standard library imports"
   ]
  },
  {
   "cell_type": "code",
   "execution_count": 1,
   "metadata": {
    "ExecuteTime": {
     "end_time": "2021-02-09T22:53:58.833637Z",
     "start_time": "2021-02-09T22:53:58.827694Z"
    }
   },
   "outputs": [],
   "source": [
    "import os\n",
    "import sys\n",
    "from datetime import datetime"
   ]
  },
  {
   "cell_type": "markdown",
   "metadata": {},
   "source": [
    "#### Third party imports"
   ]
  },
  {
   "cell_type": "code",
   "execution_count": 2,
   "metadata": {
    "ExecuteTime": {
     "end_time": "2021-02-09T22:54:05.294794Z",
     "start_time": "2021-02-09T22:53:59.261962Z"
    }
   },
   "outputs": [],
   "source": [
    "import pandas as pd\n",
    "from pandas_profiling import ProfileReport\n",
    "pd.options.display.max_columns = 25\n",
    "\n",
    "import seaborn as sns"
   ]
  },
  {
   "cell_type": "markdown",
   "metadata": {},
   "source": [
    "#### Local application imports"
   ]
  },
  {
   "cell_type": "code",
   "execution_count": 3,
   "metadata": {
    "ExecuteTime": {
     "end_time": "2021-02-09T22:54:05.299159Z",
     "start_time": "2021-02-09T22:54:05.296330Z"
    }
   },
   "outputs": [],
   "source": [
    "sys.path.append(\"../\")"
   ]
  },
  {
   "cell_type": "code",
   "execution_count": 21,
   "metadata": {
    "ExecuteTime": {
     "end_time": "2021-02-09T23:13:42.410394Z",
     "start_time": "2021-02-09T23:13:42.322926Z"
    },
    "init_cell": true
   },
   "outputs": [],
   "source": [
    "%reload_ext autoreload\n",
    "%autoreload 2\n",
    "\n",
    "from src.utils.utils import *"
   ]
  },
  {
   "cell_type": "markdown",
   "metadata": {},
   "source": [
    "---"
   ]
  },
  {
   "cell_type": "markdown",
   "metadata": {},
   "source": [
    "## Importing and cleaning data\n",
    "Food Inspections in Chicago: https://data.cityofchicago.org/Health-Human-Services/Food-Inspections/4ijn-s7e5"
   ]
  },
  {
   "cell_type": "code",
   "execution_count": 36,
   "metadata": {
    "ExecuteTime": {
     "end_time": "2021-02-09T23:19:47.818031Z",
     "start_time": "2021-02-09T23:19:45.613648Z"
    }
   },
   "outputs": [
    {
     "data": {
      "text/html": [
       "<div>\n",
       "<style scoped>\n",
       "    .dataframe tbody tr th:only-of-type {\n",
       "        vertical-align: middle;\n",
       "    }\n",
       "\n",
       "    .dataframe tbody tr th {\n",
       "        vertical-align: top;\n",
       "    }\n",
       "\n",
       "    .dataframe thead th {\n",
       "        text-align: right;\n",
       "    }\n",
       "</style>\n",
       "<table border=\"1\" class=\"dataframe\">\n",
       "  <thead>\n",
       "    <tr style=\"text-align: right;\">\n",
       "      <th></th>\n",
       "      <th>Inspection ID</th>\n",
       "      <th>DBA Name</th>\n",
       "      <th>AKA Name</th>\n",
       "      <th>License #</th>\n",
       "      <th>Facility Type</th>\n",
       "      <th>Risk</th>\n",
       "      <th>Address</th>\n",
       "      <th>City</th>\n",
       "      <th>State</th>\n",
       "      <th>Zip</th>\n",
       "      <th>Inspection Date</th>\n",
       "      <th>Inspection Type</th>\n",
       "      <th>Results</th>\n",
       "      <th>Violations</th>\n",
       "      <th>Latitude</th>\n",
       "      <th>Longitude</th>\n",
       "      <th>Location</th>\n",
       "    </tr>\n",
       "  </thead>\n",
       "  <tbody>\n",
       "    <tr>\n",
       "      <th>0</th>\n",
       "      <td>2453552</td>\n",
       "      <td>CLAMP DOWN BURGERS</td>\n",
       "      <td>NaN</td>\n",
       "      <td>2749943.0</td>\n",
       "      <td>NaN</td>\n",
       "      <td>Risk 2 (Medium)</td>\n",
       "      <td>1742 W DIVISION ST</td>\n",
       "      <td>CHICAGO</td>\n",
       "      <td>IL</td>\n",
       "      <td>60622.0</td>\n",
       "      <td>10/20/2020</td>\n",
       "      <td>License</td>\n",
       "      <td>No Entry</td>\n",
       "      <td>NaN</td>\n",
       "      <td>41.903387</td>\n",
       "      <td>-87.671740</td>\n",
       "      <td>(-87.67174026586648, 41.903386755553484)</td>\n",
       "    </tr>\n",
       "    <tr>\n",
       "      <th>1</th>\n",
       "      <td>2386633</td>\n",
       "      <td>JIN JU</td>\n",
       "      <td>JIN JU</td>\n",
       "      <td>27137.0</td>\n",
       "      <td>Restaurant</td>\n",
       "      <td>Risk 1 (High)</td>\n",
       "      <td>5203 N CLARK ST</td>\n",
       "      <td>CHICAGO</td>\n",
       "      <td>IL</td>\n",
       "      <td>60640.0</td>\n",
       "      <td>08/28/2020</td>\n",
       "      <td>Canvass</td>\n",
       "      <td>No Entry</td>\n",
       "      <td>NaN</td>\n",
       "      <td>41.976301</td>\n",
       "      <td>-87.668276</td>\n",
       "      <td>(-87.66827593789948, 41.97630115368914)</td>\n",
       "    </tr>\n",
       "    <tr>\n",
       "      <th>2</th>\n",
       "      <td>2386595</td>\n",
       "      <td>LA BIZNAGA #2</td>\n",
       "      <td>LA BIZNAGA #2</td>\n",
       "      <td>2708992.0</td>\n",
       "      <td>NaN</td>\n",
       "      <td>Risk 1 (High)</td>\n",
       "      <td>2949 W BELMONT AVE</td>\n",
       "      <td>CHICAGO</td>\n",
       "      <td>IL</td>\n",
       "      <td>60618.0</td>\n",
       "      <td>08/27/2020</td>\n",
       "      <td>Complaint</td>\n",
       "      <td>No Entry</td>\n",
       "      <td>NaN</td>\n",
       "      <td>41.939256</td>\n",
       "      <td>-87.702270</td>\n",
       "      <td>(-87.70226967930802, 41.939255926667535)</td>\n",
       "    </tr>\n",
       "    <tr>\n",
       "      <th>3</th>\n",
       "      <td>2386464</td>\n",
       "      <td>Uni Sushi Bristo</td>\n",
       "      <td>Uni Sushi Bistro</td>\n",
       "      <td>2262637.0</td>\n",
       "      <td>Restaurant</td>\n",
       "      <td>Risk 1 (High)</td>\n",
       "      <td>1752 W NORTH AVE</td>\n",
       "      <td>CHICAGO</td>\n",
       "      <td>IL</td>\n",
       "      <td>60622.0</td>\n",
       "      <td>08/25/2020</td>\n",
       "      <td>Complaint</td>\n",
       "      <td>No Entry</td>\n",
       "      <td>NaN</td>\n",
       "      <td>41.910676</td>\n",
       "      <td>-87.672205</td>\n",
       "      <td>(-87.67220465807979, 41.91067561170382)</td>\n",
       "    </tr>\n",
       "    <tr>\n",
       "      <th>4</th>\n",
       "      <td>2386398</td>\n",
       "      <td>KIKI'S BISTRO</td>\n",
       "      <td>KIKI'S BISTRO</td>\n",
       "      <td>22899.0</td>\n",
       "      <td>Restaurant</td>\n",
       "      <td>Risk 1 (High)</td>\n",
       "      <td>900 N FRANKLIN ST</td>\n",
       "      <td>CHICAGO</td>\n",
       "      <td>IL</td>\n",
       "      <td>60610.0</td>\n",
       "      <td>08/24/2020</td>\n",
       "      <td>Canvass</td>\n",
       "      <td>No Entry</td>\n",
       "      <td>NaN</td>\n",
       "      <td>41.898998</td>\n",
       "      <td>-87.635921</td>\n",
       "      <td>(-87.63592067312285, 41.89899799424835)</td>\n",
       "    </tr>\n",
       "  </tbody>\n",
       "</table>\n",
       "</div>"
      ],
      "text/plain": [
       "   Inspection ID            DBA Name          AKA Name  License #  \\\n",
       "0        2453552  CLAMP DOWN BURGERS               NaN  2749943.0   \n",
       "1        2386633              JIN JU            JIN JU    27137.0   \n",
       "2        2386595       LA BIZNAGA #2     LA BIZNAGA #2  2708992.0   \n",
       "3        2386464    Uni Sushi Bristo  Uni Sushi Bistro  2262637.0   \n",
       "4        2386398       KIKI'S BISTRO     KIKI'S BISTRO    22899.0   \n",
       "\n",
       "  Facility Type             Risk              Address     City State      Zip  \\\n",
       "0           NaN  Risk 2 (Medium)  1742 W DIVISION ST   CHICAGO    IL  60622.0   \n",
       "1    Restaurant    Risk 1 (High)     5203 N CLARK ST   CHICAGO    IL  60640.0   \n",
       "2           NaN    Risk 1 (High)  2949 W BELMONT AVE   CHICAGO    IL  60618.0   \n",
       "3    Restaurant    Risk 1 (High)    1752 W NORTH AVE   CHICAGO    IL  60622.0   \n",
       "4    Restaurant    Risk 1 (High)   900 N FRANKLIN ST   CHICAGO    IL  60610.0   \n",
       "\n",
       "  Inspection Date Inspection Type   Results Violations   Latitude  Longitude  \\\n",
       "0      10/20/2020         License  No Entry        NaN  41.903387 -87.671740   \n",
       "1      08/28/2020         Canvass  No Entry        NaN  41.976301 -87.668276   \n",
       "2      08/27/2020       Complaint  No Entry        NaN  41.939256 -87.702270   \n",
       "3      08/25/2020       Complaint  No Entry        NaN  41.910676 -87.672205   \n",
       "4      08/24/2020         Canvass  No Entry        NaN  41.898998 -87.635921   \n",
       "\n",
       "                                   Location  \n",
       "0  (-87.67174026586648, 41.903386755553484)  \n",
       "1   (-87.66827593789948, 41.97630115368914)  \n",
       "2  (-87.70226967930802, 41.939255926667535)  \n",
       "3   (-87.67220465807979, 41.91067561170382)  \n",
       "4   (-87.63592067312285, 41.89899799424835)  "
      ]
     },
     "execution_count": 36,
     "metadata": {},
     "output_type": "execute_result"
    }
   ],
   "source": [
    "df = pd.read_csv('../data/Food_Inspections.csv')\n",
    "df.head()"
   ]
  },
  {
   "cell_type": "raw",
   "metadata": {
    "ExecuteTime": {
     "end_time": "2021-02-01T02:14:02.439989Z",
     "start_time": "2021-02-01T02:14:02.369791Z"
    }
   },
   "source": [
    "profile = ProfileReport(df, title=\"Pandas Profiling Report\")"
   ]
  },
  {
   "cell_type": "markdown",
   "metadata": {},
   "source": [
    "Limpieza de nombres de las columnas:"
   ]
  },
  {
   "cell_type": "code",
   "execution_count": 37,
   "metadata": {
    "ExecuteTime": {
     "end_time": "2021-02-09T23:20:20.348644Z",
     "start_time": "2021-02-09T23:20:20.240282Z"
    },
    "scrolled": true
   },
   "outputs": [
    {
     "data": {
      "text/html": [
       "<div>\n",
       "<style scoped>\n",
       "    .dataframe tbody tr th:only-of-type {\n",
       "        vertical-align: middle;\n",
       "    }\n",
       "\n",
       "    .dataframe tbody tr th {\n",
       "        vertical-align: top;\n",
       "    }\n",
       "\n",
       "    .dataframe thead th {\n",
       "        text-align: right;\n",
       "    }\n",
       "</style>\n",
       "<table border=\"1\" class=\"dataframe\">\n",
       "  <thead>\n",
       "    <tr style=\"text-align: right;\">\n",
       "      <th></th>\n",
       "      <th>inspection_id</th>\n",
       "      <th>dba_name</th>\n",
       "      <th>aka_name</th>\n",
       "      <th>license_#</th>\n",
       "      <th>facility_type</th>\n",
       "      <th>risk</th>\n",
       "      <th>address</th>\n",
       "      <th>city</th>\n",
       "      <th>state</th>\n",
       "      <th>zip</th>\n",
       "      <th>inspection_date</th>\n",
       "      <th>inspection_type</th>\n",
       "      <th>results</th>\n",
       "      <th>violations</th>\n",
       "      <th>latitude</th>\n",
       "      <th>longitude</th>\n",
       "      <th>location</th>\n",
       "    </tr>\n",
       "  </thead>\n",
       "  <tbody>\n",
       "    <tr>\n",
       "      <th>0</th>\n",
       "      <td>2453552</td>\n",
       "      <td>CLAMP DOWN BURGERS</td>\n",
       "      <td>NaN</td>\n",
       "      <td>2749943.0</td>\n",
       "      <td>NaN</td>\n",
       "      <td>Risk 2 (Medium)</td>\n",
       "      <td>1742 W DIVISION ST</td>\n",
       "      <td>CHICAGO</td>\n",
       "      <td>IL</td>\n",
       "      <td>60622.0</td>\n",
       "      <td>10/20/2020</td>\n",
       "      <td>License</td>\n",
       "      <td>No Entry</td>\n",
       "      <td>NaN</td>\n",
       "      <td>41.903387</td>\n",
       "      <td>-87.671740</td>\n",
       "      <td>(-87.67174026586648, 41.903386755553484)</td>\n",
       "    </tr>\n",
       "    <tr>\n",
       "      <th>1</th>\n",
       "      <td>2386633</td>\n",
       "      <td>JIN JU</td>\n",
       "      <td>JIN JU</td>\n",
       "      <td>27137.0</td>\n",
       "      <td>Restaurant</td>\n",
       "      <td>Risk 1 (High)</td>\n",
       "      <td>5203 N CLARK ST</td>\n",
       "      <td>CHICAGO</td>\n",
       "      <td>IL</td>\n",
       "      <td>60640.0</td>\n",
       "      <td>08/28/2020</td>\n",
       "      <td>Canvass</td>\n",
       "      <td>No Entry</td>\n",
       "      <td>NaN</td>\n",
       "      <td>41.976301</td>\n",
       "      <td>-87.668276</td>\n",
       "      <td>(-87.66827593789948, 41.97630115368914)</td>\n",
       "    </tr>\n",
       "    <tr>\n",
       "      <th>2</th>\n",
       "      <td>2386595</td>\n",
       "      <td>LA BIZNAGA #2</td>\n",
       "      <td>LA BIZNAGA #2</td>\n",
       "      <td>2708992.0</td>\n",
       "      <td>NaN</td>\n",
       "      <td>Risk 1 (High)</td>\n",
       "      <td>2949 W BELMONT AVE</td>\n",
       "      <td>CHICAGO</td>\n",
       "      <td>IL</td>\n",
       "      <td>60618.0</td>\n",
       "      <td>08/27/2020</td>\n",
       "      <td>Complaint</td>\n",
       "      <td>No Entry</td>\n",
       "      <td>NaN</td>\n",
       "      <td>41.939256</td>\n",
       "      <td>-87.702270</td>\n",
       "      <td>(-87.70226967930802, 41.939255926667535)</td>\n",
       "    </tr>\n",
       "    <tr>\n",
       "      <th>3</th>\n",
       "      <td>2386464</td>\n",
       "      <td>Uni Sushi Bristo</td>\n",
       "      <td>Uni Sushi Bistro</td>\n",
       "      <td>2262637.0</td>\n",
       "      <td>Restaurant</td>\n",
       "      <td>Risk 1 (High)</td>\n",
       "      <td>1752 W NORTH AVE</td>\n",
       "      <td>CHICAGO</td>\n",
       "      <td>IL</td>\n",
       "      <td>60622.0</td>\n",
       "      <td>08/25/2020</td>\n",
       "      <td>Complaint</td>\n",
       "      <td>No Entry</td>\n",
       "      <td>NaN</td>\n",
       "      <td>41.910676</td>\n",
       "      <td>-87.672205</td>\n",
       "      <td>(-87.67220465807979, 41.91067561170382)</td>\n",
       "    </tr>\n",
       "    <tr>\n",
       "      <th>4</th>\n",
       "      <td>2386398</td>\n",
       "      <td>KIKI'S BISTRO</td>\n",
       "      <td>KIKI'S BISTRO</td>\n",
       "      <td>22899.0</td>\n",
       "      <td>Restaurant</td>\n",
       "      <td>Risk 1 (High)</td>\n",
       "      <td>900 N FRANKLIN ST</td>\n",
       "      <td>CHICAGO</td>\n",
       "      <td>IL</td>\n",
       "      <td>60610.0</td>\n",
       "      <td>08/24/2020</td>\n",
       "      <td>Canvass</td>\n",
       "      <td>No Entry</td>\n",
       "      <td>NaN</td>\n",
       "      <td>41.898998</td>\n",
       "      <td>-87.635921</td>\n",
       "      <td>(-87.63592067312285, 41.89899799424835)</td>\n",
       "    </tr>\n",
       "    <tr>\n",
       "      <th>...</th>\n",
       "      <td>...</td>\n",
       "      <td>...</td>\n",
       "      <td>...</td>\n",
       "      <td>...</td>\n",
       "      <td>...</td>\n",
       "      <td>...</td>\n",
       "      <td>...</td>\n",
       "      <td>...</td>\n",
       "      <td>...</td>\n",
       "      <td>...</td>\n",
       "      <td>...</td>\n",
       "      <td>...</td>\n",
       "      <td>...</td>\n",
       "      <td>...</td>\n",
       "      <td>...</td>\n",
       "      <td>...</td>\n",
       "      <td>...</td>\n",
       "    </tr>\n",
       "    <tr>\n",
       "      <th>215062</th>\n",
       "      <td>229233</td>\n",
       "      <td>ZULLO'S MARKETS, LLC</td>\n",
       "      <td>ZULLO'S MARKET</td>\n",
       "      <td>2016915.0</td>\n",
       "      <td>Restaurant</td>\n",
       "      <td>Risk 2 (Medium)</td>\n",
       "      <td>131 N Clinton ST</td>\n",
       "      <td>CHICAGO</td>\n",
       "      <td>IL</td>\n",
       "      <td>60661.0</td>\n",
       "      <td>02/18/2010</td>\n",
       "      <td>License</td>\n",
       "      <td>Fail</td>\n",
       "      <td>NaN</td>\n",
       "      <td>41.884188</td>\n",
       "      <td>-87.641120</td>\n",
       "      <td>(-87.64111966683218, 41.884187507127805)</td>\n",
       "    </tr>\n",
       "    <tr>\n",
       "      <th>215063</th>\n",
       "      <td>68205</td>\n",
       "      <td>LA FONDA CHIQUITA TLC</td>\n",
       "      <td>LA FONDA CHIQUITA</td>\n",
       "      <td>2017215.0</td>\n",
       "      <td>Restaurant</td>\n",
       "      <td>Risk 1 (High)</td>\n",
       "      <td>5940 W DIVERSEY AVE</td>\n",
       "      <td>CHICAGO</td>\n",
       "      <td>IL</td>\n",
       "      <td>60639.0</td>\n",
       "      <td>02/09/2010</td>\n",
       "      <td>License</td>\n",
       "      <td>Fail</td>\n",
       "      <td>12. HAND WASHING FACILITIES: WITH SOAP AND SAN...</td>\n",
       "      <td>41.931260</td>\n",
       "      <td>-87.775203</td>\n",
       "      <td>(-87.77520287598688, 41.93125971874477)</td>\n",
       "    </tr>\n",
       "    <tr>\n",
       "      <th>215064</th>\n",
       "      <td>88234</td>\n",
       "      <td>KABAB CUISINE 2</td>\n",
       "      <td>KABAB CUISINE 2</td>\n",
       "      <td>2014076.0</td>\n",
       "      <td>Restaurant</td>\n",
       "      <td>Risk 1 (High)</td>\n",
       "      <td>6320 N LINCOLN AVE</td>\n",
       "      <td>CHICAGO</td>\n",
       "      <td>IL</td>\n",
       "      <td>60659.0</td>\n",
       "      <td>02/01/2010</td>\n",
       "      <td>License Re-Inspection</td>\n",
       "      <td>Pass</td>\n",
       "      <td>NaN</td>\n",
       "      <td>41.996139</td>\n",
       "      <td>-87.716968</td>\n",
       "      <td>(-87.71696834498202, 41.996139331170895)</td>\n",
       "    </tr>\n",
       "    <tr>\n",
       "      <th>215065</th>\n",
       "      <td>74311</td>\n",
       "      <td>MARGARITA DISTRIBUTORS</td>\n",
       "      <td>NaN</td>\n",
       "      <td>2017298.0</td>\n",
       "      <td>Wholesale</td>\n",
       "      <td>Risk 3 (Low)</td>\n",
       "      <td>2332 S BLUE ISLAND AVE BLDG</td>\n",
       "      <td>CHICAGO</td>\n",
       "      <td>IL</td>\n",
       "      <td>60608.0</td>\n",
       "      <td>02/19/2010</td>\n",
       "      <td>License Re-Inspection</td>\n",
       "      <td>Pass</td>\n",
       "      <td>NaN</td>\n",
       "      <td>41.849940</td>\n",
       "      <td>-87.672421</td>\n",
       "      <td>(-87.67242100722251, 41.84994008002549)</td>\n",
       "    </tr>\n",
       "    <tr>\n",
       "      <th>215066</th>\n",
       "      <td>67838</td>\n",
       "      <td>OUR LADY OF LOURDES</td>\n",
       "      <td>OUR LADY OF LOURDES</td>\n",
       "      <td>42577.0</td>\n",
       "      <td>Daycare (Under 2 Years)</td>\n",
       "      <td>Risk 1 (High)</td>\n",
       "      <td>1449 S KEELER AVE</td>\n",
       "      <td>CHICAGO</td>\n",
       "      <td>IL</td>\n",
       "      <td>60623.0</td>\n",
       "      <td>01/12/2010</td>\n",
       "      <td>Canvass</td>\n",
       "      <td>Fail</td>\n",
       "      <td>18. NO EVIDENCE OF RODENT OR INSECT OUTER OPEN...</td>\n",
       "      <td>41.861003</td>\n",
       "      <td>-87.729762</td>\n",
       "      <td>(-87.72976247742804, 41.861003270876026)</td>\n",
       "    </tr>\n",
       "  </tbody>\n",
       "</table>\n",
       "<p>215067 rows × 17 columns</p>\n",
       "</div>"
      ],
      "text/plain": [
       "        inspection_id                dba_name             aka_name  license_#  \\\n",
       "0             2453552      CLAMP DOWN BURGERS                  NaN  2749943.0   \n",
       "1             2386633                  JIN JU               JIN JU    27137.0   \n",
       "2             2386595           LA BIZNAGA #2        LA BIZNAGA #2  2708992.0   \n",
       "3             2386464        Uni Sushi Bristo     Uni Sushi Bistro  2262637.0   \n",
       "4             2386398           KIKI'S BISTRO        KIKI'S BISTRO    22899.0   \n",
       "...               ...                     ...                  ...        ...   \n",
       "215062         229233    ZULLO'S MARKETS, LLC       ZULLO'S MARKET  2016915.0   \n",
       "215063          68205   LA FONDA CHIQUITA TLC    LA FONDA CHIQUITA  2017215.0   \n",
       "215064          88234         KABAB CUISINE 2      KABAB CUISINE 2  2014076.0   \n",
       "215065          74311  MARGARITA DISTRIBUTORS                  NaN  2017298.0   \n",
       "215066          67838     OUR LADY OF LOURDES  OUR LADY OF LOURDES    42577.0   \n",
       "\n",
       "                  facility_type             risk  \\\n",
       "0                           NaN  Risk 2 (Medium)   \n",
       "1                    Restaurant    Risk 1 (High)   \n",
       "2                           NaN    Risk 1 (High)   \n",
       "3                    Restaurant    Risk 1 (High)   \n",
       "4                    Restaurant    Risk 1 (High)   \n",
       "...                         ...              ...   \n",
       "215062               Restaurant  Risk 2 (Medium)   \n",
       "215063               Restaurant    Risk 1 (High)   \n",
       "215064               Restaurant    Risk 1 (High)   \n",
       "215065                Wholesale     Risk 3 (Low)   \n",
       "215066  Daycare (Under 2 Years)    Risk 1 (High)   \n",
       "\n",
       "                             address     city state      zip inspection_date  \\\n",
       "0                1742 W DIVISION ST   CHICAGO    IL  60622.0      10/20/2020   \n",
       "1                   5203 N CLARK ST   CHICAGO    IL  60640.0      08/28/2020   \n",
       "2                2949 W BELMONT AVE   CHICAGO    IL  60618.0      08/27/2020   \n",
       "3                  1752 W NORTH AVE   CHICAGO    IL  60622.0      08/25/2020   \n",
       "4                 900 N FRANKLIN ST   CHICAGO    IL  60610.0      08/24/2020   \n",
       "...                              ...      ...   ...      ...             ...   \n",
       "215062             131 N Clinton ST   CHICAGO    IL  60661.0      02/18/2010   \n",
       "215063          5940 W DIVERSEY AVE   CHICAGO    IL  60639.0      02/09/2010   \n",
       "215064           6320 N LINCOLN AVE   CHICAGO    IL  60659.0      02/01/2010   \n",
       "215065  2332 S BLUE ISLAND AVE BLDG   CHICAGO    IL  60608.0      02/19/2010   \n",
       "215066            1449 S KEELER AVE   CHICAGO    IL  60623.0      01/12/2010   \n",
       "\n",
       "              inspection_type   results  \\\n",
       "0                     License  No Entry   \n",
       "1                     Canvass  No Entry   \n",
       "2                   Complaint  No Entry   \n",
       "3                   Complaint  No Entry   \n",
       "4                     Canvass  No Entry   \n",
       "...                       ...       ...   \n",
       "215062                License      Fail   \n",
       "215063                License      Fail   \n",
       "215064  License Re-Inspection      Pass   \n",
       "215065  License Re-Inspection      Pass   \n",
       "215066                Canvass      Fail   \n",
       "\n",
       "                                               violations   latitude  \\\n",
       "0                                                     NaN  41.903387   \n",
       "1                                                     NaN  41.976301   \n",
       "2                                                     NaN  41.939256   \n",
       "3                                                     NaN  41.910676   \n",
       "4                                                     NaN  41.898998   \n",
       "...                                                   ...        ...   \n",
       "215062                                                NaN  41.884188   \n",
       "215063  12. HAND WASHING FACILITIES: WITH SOAP AND SAN...  41.931260   \n",
       "215064                                                NaN  41.996139   \n",
       "215065                                                NaN  41.849940   \n",
       "215066  18. NO EVIDENCE OF RODENT OR INSECT OUTER OPEN...  41.861003   \n",
       "\n",
       "        longitude                                  location  \n",
       "0      -87.671740  (-87.67174026586648, 41.903386755553484)  \n",
       "1      -87.668276   (-87.66827593789948, 41.97630115368914)  \n",
       "2      -87.702270  (-87.70226967930802, 41.939255926667535)  \n",
       "3      -87.672205   (-87.67220465807979, 41.91067561170382)  \n",
       "4      -87.635921   (-87.63592067312285, 41.89899799424835)  \n",
       "...           ...                                       ...  \n",
       "215062 -87.641120  (-87.64111966683218, 41.884187507127805)  \n",
       "215063 -87.775203   (-87.77520287598688, 41.93125971874477)  \n",
       "215064 -87.716968  (-87.71696834498202, 41.996139331170895)  \n",
       "215065 -87.672421   (-87.67242100722251, 41.84994008002549)  \n",
       "215066 -87.729762  (-87.72976247742804, 41.861003270876026)  \n",
       "\n",
       "[215067 rows x 17 columns]"
      ]
     },
     "execution_count": 37,
     "metadata": {},
     "output_type": "execute_result"
    }
   ],
   "source": [
    "clean_col_names(df)"
   ]
  },
  {
   "cell_type": "markdown",
   "metadata": {},
   "source": [
    "**Número de variables:**"
   ]
  },
  {
   "cell_type": "code",
   "execution_count": 38,
   "metadata": {
    "ExecuteTime": {
     "end_time": "2021-02-09T23:20:22.073401Z",
     "start_time": "2021-02-09T23:20:21.994067Z"
    }
   },
   "outputs": [
    {
     "name": "stdout",
     "output_type": "stream",
     "text": [
      "Número de variables en los datos --> 17\n"
     ]
    }
   ],
   "source": [
    "count_vars(df)"
   ]
  },
  {
   "cell_type": "markdown",
   "metadata": {},
   "source": [
    "**Número de observaciones:**"
   ]
  },
  {
   "cell_type": "code",
   "execution_count": 39,
   "metadata": {
    "ExecuteTime": {
     "end_time": "2021-02-09T23:20:22.450473Z",
     "start_time": "2021-02-09T23:20:22.369608Z"
    }
   },
   "outputs": [
    {
     "name": "stdout",
     "output_type": "stream",
     "text": [
      "Número de observaciones en los datos --> 215067\n"
     ]
    }
   ],
   "source": [
    "count_obs(df)"
   ]
  },
  {
   "cell_type": "markdown",
   "metadata": {},
   "source": [
    "**¿Qué variables son?**"
   ]
  },
  {
   "cell_type": "code",
   "execution_count": 40,
   "metadata": {
    "ExecuteTime": {
     "end_time": "2021-02-09T23:20:23.609860Z",
     "start_time": "2021-02-09T23:20:22.849457Z"
    }
   },
   "outputs": [
    {
     "data": {
      "text/plain": [
       "inspection_id      215067\n",
       "dba_name            28748\n",
       "aka_name            27355\n",
       "license_#           39103\n",
       "facility_type         500\n",
       "risk                    4\n",
       "address             18522\n",
       "city                   70\n",
       "state                   4\n",
       "zip                   112\n",
       "inspection_date      2796\n",
       "inspection_type       110\n",
       "results                 7\n",
       "violations         156694\n",
       "latitude            17246\n",
       "longitude           17246\n",
       "location            17246\n",
       "dtype: int64"
      ]
     },
     "execution_count": 40,
     "metadata": {},
     "output_type": "execute_result"
    }
   ],
   "source": [
    "count_unique_obs(df)"
   ]
  },
  {
   "cell_type": "code",
   "execution_count": 41,
   "metadata": {
    "ExecuteTime": {
     "end_time": "2021-02-09T23:20:26.366510Z",
     "start_time": "2021-02-09T23:20:24.507089Z"
    }
   },
   "outputs": [
    {
     "name": "stdout",
     "output_type": "stream",
     "text": [
      "*********************************\n",
      "Variable Categorica dba_name\n",
      "*********************************\n"
     ]
    },
    {
     "data": {
      "text/html": [
       "<div>\n",
       "<style scoped>\n",
       "    .dataframe tbody tr th:only-of-type {\n",
       "        vertical-align: middle;\n",
       "    }\n",
       "\n",
       "    .dataframe tbody tr th {\n",
       "        vertical-align: top;\n",
       "    }\n",
       "\n",
       "    .dataframe thead th {\n",
       "        text-align: right;\n",
       "    }\n",
       "</style>\n",
       "<table border=\"1\" class=\"dataframe\">\n",
       "  <thead>\n",
       "    <tr style=\"text-align: right;\">\n",
       "      <th>Info</th>\n",
       "      <th>dba_name</th>\n",
       "    </tr>\n",
       "  </thead>\n",
       "  <tbody>\n",
       "    <tr>\n",
       "      <th>Num_Registros</th>\n",
       "      <td>215067</td>\n",
       "    </tr>\n",
       "    <tr>\n",
       "      <th>Num_de_categorias</th>\n",
       "      <td>28748</td>\n",
       "    </tr>\n",
       "    <tr>\n",
       "      <th>Moda</th>\n",
       "      <td>SUBWAY</td>\n",
       "    </tr>\n",
       "    <tr>\n",
       "      <th>Valores_faltantes</th>\n",
       "      <td>0</td>\n",
       "    </tr>\n",
       "    <tr>\n",
       "      <th>Top1</th>\n",
       "      <td>[SUBWAY, 2905]</td>\n",
       "    </tr>\n",
       "    <tr>\n",
       "      <th>Top2</th>\n",
       "      <td>[DUNKIN DONUTS, 1578]</td>\n",
       "    </tr>\n",
       "    <tr>\n",
       "      <th>Top3</th>\n",
       "      <td>[MCDONALD'S, 614]</td>\n",
       "    </tr>\n",
       "  </tbody>\n",
       "</table>\n",
       "</div>"
      ],
      "text/plain": [
       "Info                            dba_name\n",
       "Num_Registros                     215067\n",
       "Num_de_categorias                  28748\n",
       "Moda                              SUBWAY\n",
       "Valores_faltantes                      0\n",
       "Top1                      [SUBWAY, 2905]\n",
       "Top2               [DUNKIN DONUTS, 1578]\n",
       "Top3                   [MCDONALD'S, 614]"
      ]
     },
     "metadata": {},
     "output_type": "display_data"
    },
    {
     "name": "stdout",
     "output_type": "stream",
     "text": [
      "None\n",
      "Valores de las categorias y sus proporciones\n"
     ]
    },
    {
     "data": {
      "text/html": [
       "<div>\n",
       "<style scoped>\n",
       "    .dataframe tbody tr th:only-of-type {\n",
       "        vertical-align: middle;\n",
       "    }\n",
       "\n",
       "    .dataframe tbody tr th {\n",
       "        vertical-align: top;\n",
       "    }\n",
       "\n",
       "    .dataframe thead th {\n",
       "        text-align: right;\n",
       "    }\n",
       "</style>\n",
       "<table border=\"1\" class=\"dataframe\">\n",
       "  <thead>\n",
       "    <tr style=\"text-align: right;\">\n",
       "      <th></th>\n",
       "      <th>Observaciones</th>\n",
       "      <th>proporción</th>\n",
       "    </tr>\n",
       "    <tr>\n",
       "      <th>Categoría</th>\n",
       "      <th></th>\n",
       "      <th></th>\n",
       "    </tr>\n",
       "  </thead>\n",
       "  <tbody>\n",
       "    <tr>\n",
       "      <th>SUBWAY</th>\n",
       "      <td>2905</td>\n",
       "      <td>1.4%</td>\n",
       "    </tr>\n",
       "    <tr>\n",
       "      <th>DUNKIN DONUTS</th>\n",
       "      <td>1578</td>\n",
       "      <td>0.7%</td>\n",
       "    </tr>\n",
       "    <tr>\n",
       "      <th>MCDONALD'S</th>\n",
       "      <td>614</td>\n",
       "      <td>0.3%</td>\n",
       "    </tr>\n",
       "    <tr>\n",
       "      <th>7-ELEVEN</th>\n",
       "      <td>469</td>\n",
       "      <td>0.2%</td>\n",
       "    </tr>\n",
       "    <tr>\n",
       "      <th>CHIPOTLE MEXICAN GRILL</th>\n",
       "      <td>344</td>\n",
       "      <td>0.2%</td>\n",
       "    </tr>\n",
       "    <tr>\n",
       "      <th>...</th>\n",
       "      <td>...</td>\n",
       "      <td>...</td>\n",
       "    </tr>\n",
       "    <tr>\n",
       "      <th>SUGAR</th>\n",
       "      <td>1</td>\n",
       "      <td>0.0%</td>\n",
       "    </tr>\n",
       "    <tr>\n",
       "      <th>BIRDIE PAK PRODUCTS INC</th>\n",
       "      <td>1</td>\n",
       "      <td>0.0%</td>\n",
       "    </tr>\n",
       "    <tr>\n",
       "      <th>KING FISH &amp; WING</th>\n",
       "      <td>1</td>\n",
       "      <td>0.0%</td>\n",
       "    </tr>\n",
       "    <tr>\n",
       "      <th>TACOS REYNA</th>\n",
       "      <td>1</td>\n",
       "      <td>0.0%</td>\n",
       "    </tr>\n",
       "    <tr>\n",
       "      <th>LATERMINAL JESUS MINI MARKET</th>\n",
       "      <td>1</td>\n",
       "      <td>0.0%</td>\n",
       "    </tr>\n",
       "  </tbody>\n",
       "</table>\n",
       "<p>28748 rows × 2 columns</p>\n",
       "</div>"
      ],
      "text/plain": [
       "                              Observaciones proporción\n",
       "Categoría                                             \n",
       "SUBWAY                                 2905       1.4%\n",
       "DUNKIN DONUTS                          1578       0.7%\n",
       "MCDONALD'S                              614       0.3%\n",
       "7-ELEVEN                                469       0.2%\n",
       "CHIPOTLE MEXICAN GRILL                  344       0.2%\n",
       "...                                     ...        ...\n",
       "SUGAR                                     1       0.0%\n",
       "BIRDIE PAK PRODUCTS INC                   1       0.0%\n",
       "KING FISH & WING                          1       0.0%\n",
       "TACOS REYNA                               1       0.0%\n",
       "LATERMINAL JESUS MINI MARKET              1       0.0%\n",
       "\n",
       "[28748 rows x 2 columns]"
      ]
     },
     "metadata": {},
     "output_type": "display_data"
    },
    {
     "name": "stdout",
     "output_type": "stream",
     "text": [
      "None\n",
      "\n",
      "\n",
      "\n",
      "*********************************\n",
      "Variable Categorica aka_name\n",
      "*********************************\n"
     ]
    },
    {
     "data": {
      "text/html": [
       "<div>\n",
       "<style scoped>\n",
       "    .dataframe tbody tr th:only-of-type {\n",
       "        vertical-align: middle;\n",
       "    }\n",
       "\n",
       "    .dataframe tbody tr th {\n",
       "        vertical-align: top;\n",
       "    }\n",
       "\n",
       "    .dataframe thead th {\n",
       "        text-align: right;\n",
       "    }\n",
       "</style>\n",
       "<table border=\"1\" class=\"dataframe\">\n",
       "  <thead>\n",
       "    <tr style=\"text-align: right;\">\n",
       "      <th>Info</th>\n",
       "      <th>aka_name</th>\n",
       "    </tr>\n",
       "  </thead>\n",
       "  <tbody>\n",
       "    <tr>\n",
       "      <th>Num_Registros</th>\n",
       "      <td>215067</td>\n",
       "    </tr>\n",
       "    <tr>\n",
       "      <th>Num_de_categorias</th>\n",
       "      <td>27355</td>\n",
       "    </tr>\n",
       "    <tr>\n",
       "      <th>Moda</th>\n",
       "      <td>SUBWAY</td>\n",
       "    </tr>\n",
       "    <tr>\n",
       "      <th>Valores_faltantes</th>\n",
       "      <td>2486</td>\n",
       "    </tr>\n",
       "    <tr>\n",
       "      <th>Top1</th>\n",
       "      <td>[SUBWAY, 3565]</td>\n",
       "    </tr>\n",
       "    <tr>\n",
       "      <th>Top2</th>\n",
       "      <td>[DUNKIN DONUTS, 1586]</td>\n",
       "    </tr>\n",
       "    <tr>\n",
       "      <th>Top3</th>\n",
       "      <td>[7-ELEVEN, 882]</td>\n",
       "    </tr>\n",
       "  </tbody>\n",
       "</table>\n",
       "</div>"
      ],
      "text/plain": [
       "Info                            aka_name\n",
       "Num_Registros                     215067\n",
       "Num_de_categorias                  27355\n",
       "Moda                              SUBWAY\n",
       "Valores_faltantes                   2486\n",
       "Top1                      [SUBWAY, 3565]\n",
       "Top2               [DUNKIN DONUTS, 1586]\n",
       "Top3                     [7-ELEVEN, 882]"
      ]
     },
     "metadata": {},
     "output_type": "display_data"
    },
    {
     "name": "stdout",
     "output_type": "stream",
     "text": [
      "None\n",
      "Valores de las categorias y sus proporciones\n"
     ]
    },
    {
     "data": {
      "text/html": [
       "<div>\n",
       "<style scoped>\n",
       "    .dataframe tbody tr th:only-of-type {\n",
       "        vertical-align: middle;\n",
       "    }\n",
       "\n",
       "    .dataframe tbody tr th {\n",
       "        vertical-align: top;\n",
       "    }\n",
       "\n",
       "    .dataframe thead th {\n",
       "        text-align: right;\n",
       "    }\n",
       "</style>\n",
       "<table border=\"1\" class=\"dataframe\">\n",
       "  <thead>\n",
       "    <tr style=\"text-align: right;\">\n",
       "      <th></th>\n",
       "      <th>Observaciones</th>\n",
       "      <th>proporción</th>\n",
       "    </tr>\n",
       "    <tr>\n",
       "      <th>Categoría</th>\n",
       "      <th></th>\n",
       "      <th></th>\n",
       "    </tr>\n",
       "  </thead>\n",
       "  <tbody>\n",
       "    <tr>\n",
       "      <th>SUBWAY</th>\n",
       "      <td>3565</td>\n",
       "      <td>1.7%</td>\n",
       "    </tr>\n",
       "    <tr>\n",
       "      <th>DUNKIN DONUTS</th>\n",
       "      <td>1586</td>\n",
       "      <td>0.7%</td>\n",
       "    </tr>\n",
       "    <tr>\n",
       "      <th>7-ELEVEN</th>\n",
       "      <td>882</td>\n",
       "      <td>0.4%</td>\n",
       "    </tr>\n",
       "    <tr>\n",
       "      <th>MCDONALD'S</th>\n",
       "      <td>834</td>\n",
       "      <td>0.4%</td>\n",
       "    </tr>\n",
       "    <tr>\n",
       "      <th>BURGER KING</th>\n",
       "      <td>448</td>\n",
       "      <td>0.2%</td>\n",
       "    </tr>\n",
       "    <tr>\n",
       "      <th>...</th>\n",
       "      <td>...</td>\n",
       "      <td>...</td>\n",
       "    </tr>\n",
       "    <tr>\n",
       "      <th>WALGREENS #807</th>\n",
       "      <td>1</td>\n",
       "      <td>0.0%</td>\n",
       "    </tr>\n",
       "    <tr>\n",
       "      <th>CLOUD COOKIE</th>\n",
       "      <td>1</td>\n",
       "      <td>0.0%</td>\n",
       "    </tr>\n",
       "    <tr>\n",
       "      <th>CORDI-MARIAN CENTER</th>\n",
       "      <td>1</td>\n",
       "      <td>0.0%</td>\n",
       "    </tr>\n",
       "    <tr>\n",
       "      <th>DONG WON HERBS</th>\n",
       "      <td>1</td>\n",
       "      <td>0.0%</td>\n",
       "    </tr>\n",
       "    <tr>\n",
       "      <th>BEATRICE LIQUOR &amp; GROCERY</th>\n",
       "      <td>1</td>\n",
       "      <td>0.0%</td>\n",
       "    </tr>\n",
       "  </tbody>\n",
       "</table>\n",
       "<p>27355 rows × 2 columns</p>\n",
       "</div>"
      ],
      "text/plain": [
       "                           Observaciones proporción\n",
       "Categoría                                          \n",
       "SUBWAY                              3565       1.7%\n",
       "DUNKIN DONUTS                       1586       0.7%\n",
       "7-ELEVEN                             882       0.4%\n",
       "MCDONALD'S                           834       0.4%\n",
       "BURGER KING                          448       0.2%\n",
       "...                                  ...        ...\n",
       "WALGREENS #807                         1       0.0%\n",
       "CLOUD COOKIE                           1       0.0%\n",
       "CORDI-MARIAN CENTER                    1       0.0%\n",
       "DONG WON HERBS                         1       0.0%\n",
       "BEATRICE LIQUOR & GROCERY              1       0.0%\n",
       "\n",
       "[27355 rows x 2 columns]"
      ]
     },
     "metadata": {},
     "output_type": "display_data"
    },
    {
     "name": "stdout",
     "output_type": "stream",
     "text": [
      "None\n",
      "\n",
      "\n",
      "\n",
      "*********************************\n",
      "Variable Categorica facility_type\n",
      "*********************************\n"
     ]
    },
    {
     "data": {
      "text/html": [
       "<div>\n",
       "<style scoped>\n",
       "    .dataframe tbody tr th:only-of-type {\n",
       "        vertical-align: middle;\n",
       "    }\n",
       "\n",
       "    .dataframe tbody tr th {\n",
       "        vertical-align: top;\n",
       "    }\n",
       "\n",
       "    .dataframe thead th {\n",
       "        text-align: right;\n",
       "    }\n",
       "</style>\n",
       "<table border=\"1\" class=\"dataframe\">\n",
       "  <thead>\n",
       "    <tr style=\"text-align: right;\">\n",
       "      <th>Info</th>\n",
       "      <th>facility_type</th>\n",
       "    </tr>\n",
       "  </thead>\n",
       "  <tbody>\n",
       "    <tr>\n",
       "      <th>Num_Registros</th>\n",
       "      <td>215067</td>\n",
       "    </tr>\n",
       "    <tr>\n",
       "      <th>Num_de_categorias</th>\n",
       "      <td>500</td>\n",
       "    </tr>\n",
       "    <tr>\n",
       "      <th>Moda</th>\n",
       "      <td>Restaurant</td>\n",
       "    </tr>\n",
       "    <tr>\n",
       "      <th>Valores_faltantes</th>\n",
       "      <td>4889</td>\n",
       "    </tr>\n",
       "    <tr>\n",
       "      <th>Top1</th>\n",
       "      <td>[Restaurant, 143207]</td>\n",
       "    </tr>\n",
       "    <tr>\n",
       "      <th>Top2</th>\n",
       "      <td>[Grocery Store, 28084]</td>\n",
       "    </tr>\n",
       "    <tr>\n",
       "      <th>Top3</th>\n",
       "      <td>[School, 13206]</td>\n",
       "    </tr>\n",
       "  </tbody>\n",
       "</table>\n",
       "</div>"
      ],
      "text/plain": [
       "Info                        facility_type\n",
       "Num_Registros                      215067\n",
       "Num_de_categorias                     500\n",
       "Moda                           Restaurant\n",
       "Valores_faltantes                    4889\n",
       "Top1                 [Restaurant, 143207]\n",
       "Top2               [Grocery Store, 28084]\n",
       "Top3                      [School, 13206]"
      ]
     },
     "metadata": {},
     "output_type": "display_data"
    },
    {
     "name": "stdout",
     "output_type": "stream",
     "text": [
      "None\n",
      "Valores de las categorias y sus proporciones\n"
     ]
    },
    {
     "data": {
      "text/html": [
       "<div>\n",
       "<style scoped>\n",
       "    .dataframe tbody tr th:only-of-type {\n",
       "        vertical-align: middle;\n",
       "    }\n",
       "\n",
       "    .dataframe tbody tr th {\n",
       "        vertical-align: top;\n",
       "    }\n",
       "\n",
       "    .dataframe thead th {\n",
       "        text-align: right;\n",
       "    }\n",
       "</style>\n",
       "<table border=\"1\" class=\"dataframe\">\n",
       "  <thead>\n",
       "    <tr style=\"text-align: right;\">\n",
       "      <th></th>\n",
       "      <th>Observaciones</th>\n",
       "      <th>proporción</th>\n",
       "    </tr>\n",
       "    <tr>\n",
       "      <th>Categoría</th>\n",
       "      <th></th>\n",
       "      <th></th>\n",
       "    </tr>\n",
       "  </thead>\n",
       "  <tbody>\n",
       "    <tr>\n",
       "      <th>Restaurant</th>\n",
       "      <td>143207</td>\n",
       "      <td>66.6%</td>\n",
       "    </tr>\n",
       "    <tr>\n",
       "      <th>Grocery Store</th>\n",
       "      <td>28084</td>\n",
       "      <td>13.1%</td>\n",
       "    </tr>\n",
       "    <tr>\n",
       "      <th>School</th>\n",
       "      <td>13206</td>\n",
       "      <td>6.1%</td>\n",
       "    </tr>\n",
       "    <tr>\n",
       "      <th>Children's Services Facility</th>\n",
       "      <td>3707</td>\n",
       "      <td>1.7%</td>\n",
       "    </tr>\n",
       "    <tr>\n",
       "      <th>Bakery</th>\n",
       "      <td>3153</td>\n",
       "      <td>1.5%</td>\n",
       "    </tr>\n",
       "    <tr>\n",
       "      <th>...</th>\n",
       "      <td>...</td>\n",
       "      <td>...</td>\n",
       "    </tr>\n",
       "    <tr>\n",
       "      <th>GAS STATION FOOD STORE</th>\n",
       "      <td>1</td>\n",
       "      <td>0.0%</td>\n",
       "    </tr>\n",
       "    <tr>\n",
       "      <th>LAUNDROMAT</th>\n",
       "      <td>1</td>\n",
       "      <td>0.0%</td>\n",
       "    </tr>\n",
       "    <tr>\n",
       "      <th>GROCERY &amp; RESTAURANT</th>\n",
       "      <td>1</td>\n",
       "      <td>0.0%</td>\n",
       "    </tr>\n",
       "    <tr>\n",
       "      <th>PROTEIN SHAKE BAR</th>\n",
       "      <td>1</td>\n",
       "      <td>0.0%</td>\n",
       "    </tr>\n",
       "    <tr>\n",
       "      <th>TAVERN/LIQUOR</th>\n",
       "      <td>1</td>\n",
       "      <td>0.0%</td>\n",
       "    </tr>\n",
       "  </tbody>\n",
       "</table>\n",
       "<p>500 rows × 2 columns</p>\n",
       "</div>"
      ],
      "text/plain": [
       "                              Observaciones proporción\n",
       "Categoría                                             \n",
       "Restaurant                           143207      66.6%\n",
       "Grocery Store                         28084      13.1%\n",
       "School                                13206       6.1%\n",
       "Children's Services Facility           3707       1.7%\n",
       "Bakery                                 3153       1.5%\n",
       "...                                     ...        ...\n",
       "GAS STATION FOOD STORE                    1       0.0%\n",
       "LAUNDROMAT                                1       0.0%\n",
       "GROCERY & RESTAURANT                      1       0.0%\n",
       "PROTEIN SHAKE BAR                         1       0.0%\n",
       "TAVERN/LIQUOR                             1       0.0%\n",
       "\n",
       "[500 rows x 2 columns]"
      ]
     },
     "metadata": {},
     "output_type": "display_data"
    },
    {
     "name": "stdout",
     "output_type": "stream",
     "text": [
      "None\n",
      "\n",
      "\n",
      "\n",
      "*********************************\n",
      "Variable Categorica risk\n",
      "*********************************\n"
     ]
    },
    {
     "data": {
      "text/html": [
       "<div>\n",
       "<style scoped>\n",
       "    .dataframe tbody tr th:only-of-type {\n",
       "        vertical-align: middle;\n",
       "    }\n",
       "\n",
       "    .dataframe tbody tr th {\n",
       "        vertical-align: top;\n",
       "    }\n",
       "\n",
       "    .dataframe thead th {\n",
       "        text-align: right;\n",
       "    }\n",
       "</style>\n",
       "<table border=\"1\" class=\"dataframe\">\n",
       "  <thead>\n",
       "    <tr style=\"text-align: right;\">\n",
       "      <th>Info</th>\n",
       "      <th>risk</th>\n",
       "    </tr>\n",
       "  </thead>\n",
       "  <tbody>\n",
       "    <tr>\n",
       "      <th>Num_Registros</th>\n",
       "      <td>215067</td>\n",
       "    </tr>\n",
       "    <tr>\n",
       "      <th>Num_de_categorias</th>\n",
       "      <td>4</td>\n",
       "    </tr>\n",
       "    <tr>\n",
       "      <th>Moda</th>\n",
       "      <td>Risk 1 (High)</td>\n",
       "    </tr>\n",
       "    <tr>\n",
       "      <th>Valores_faltantes</th>\n",
       "      <td>69</td>\n",
       "    </tr>\n",
       "    <tr>\n",
       "      <th>Top1</th>\n",
       "      <td>[Risk 1 (High), 153815]</td>\n",
       "    </tr>\n",
       "    <tr>\n",
       "      <th>Top2</th>\n",
       "      <td>[Risk 2 (Medium), 41971]</td>\n",
       "    </tr>\n",
       "    <tr>\n",
       "      <th>Top3</th>\n",
       "      <td>[Risk 3 (Low), 19184]</td>\n",
       "    </tr>\n",
       "  </tbody>\n",
       "</table>\n",
       "</div>"
      ],
      "text/plain": [
       "Info                                   risk\n",
       "Num_Registros                        215067\n",
       "Num_de_categorias                         4\n",
       "Moda                          Risk 1 (High)\n",
       "Valores_faltantes                        69\n",
       "Top1                [Risk 1 (High), 153815]\n",
       "Top2               [Risk 2 (Medium), 41971]\n",
       "Top3                  [Risk 3 (Low), 19184]"
      ]
     },
     "metadata": {},
     "output_type": "display_data"
    },
    {
     "name": "stdout",
     "output_type": "stream",
     "text": [
      "None\n",
      "Valores de las categorias y sus proporciones\n"
     ]
    },
    {
     "data": {
      "text/html": [
       "<div>\n",
       "<style scoped>\n",
       "    .dataframe tbody tr th:only-of-type {\n",
       "        vertical-align: middle;\n",
       "    }\n",
       "\n",
       "    .dataframe tbody tr th {\n",
       "        vertical-align: top;\n",
       "    }\n",
       "\n",
       "    .dataframe thead th {\n",
       "        text-align: right;\n",
       "    }\n",
       "</style>\n",
       "<table border=\"1\" class=\"dataframe\">\n",
       "  <thead>\n",
       "    <tr style=\"text-align: right;\">\n",
       "      <th></th>\n",
       "      <th>Observaciones</th>\n",
       "      <th>proporción</th>\n",
       "    </tr>\n",
       "    <tr>\n",
       "      <th>Categoría</th>\n",
       "      <th></th>\n",
       "      <th></th>\n",
       "    </tr>\n",
       "  </thead>\n",
       "  <tbody>\n",
       "    <tr>\n",
       "      <th>Risk 1 (High)</th>\n",
       "      <td>153815</td>\n",
       "      <td>71.5%</td>\n",
       "    </tr>\n",
       "    <tr>\n",
       "      <th>Risk 2 (Medium)</th>\n",
       "      <td>41971</td>\n",
       "      <td>19.5%</td>\n",
       "    </tr>\n",
       "    <tr>\n",
       "      <th>Risk 3 (Low)</th>\n",
       "      <td>19184</td>\n",
       "      <td>8.9%</td>\n",
       "    </tr>\n",
       "    <tr>\n",
       "      <th>All</th>\n",
       "      <td>28</td>\n",
       "      <td>0.0%</td>\n",
       "    </tr>\n",
       "  </tbody>\n",
       "</table>\n",
       "</div>"
      ],
      "text/plain": [
       "                 Observaciones proporción\n",
       "Categoría                                \n",
       "Risk 1 (High)           153815      71.5%\n",
       "Risk 2 (Medium)          41971      19.5%\n",
       "Risk 3 (Low)             19184       8.9%\n",
       "All                         28       0.0%"
      ]
     },
     "metadata": {},
     "output_type": "display_data"
    },
    {
     "name": "stdout",
     "output_type": "stream",
     "text": [
      "None\n",
      "\n",
      "\n",
      "\n",
      "*********************************\n",
      "Variable Categorica address\n",
      "*********************************\n"
     ]
    },
    {
     "data": {
      "text/html": [
       "<div>\n",
       "<style scoped>\n",
       "    .dataframe tbody tr th:only-of-type {\n",
       "        vertical-align: middle;\n",
       "    }\n",
       "\n",
       "    .dataframe tbody tr th {\n",
       "        vertical-align: top;\n",
       "    }\n",
       "\n",
       "    .dataframe thead th {\n",
       "        text-align: right;\n",
       "    }\n",
       "</style>\n",
       "<table border=\"1\" class=\"dataframe\">\n",
       "  <thead>\n",
       "    <tr style=\"text-align: right;\">\n",
       "      <th>Info</th>\n",
       "      <th>address</th>\n",
       "    </tr>\n",
       "  </thead>\n",
       "  <tbody>\n",
       "    <tr>\n",
       "      <th>Num_Registros</th>\n",
       "      <td>215067</td>\n",
       "    </tr>\n",
       "    <tr>\n",
       "      <th>Num_de_categorias</th>\n",
       "      <td>18522</td>\n",
       "    </tr>\n",
       "    <tr>\n",
       "      <th>Moda</th>\n",
       "      <td>11601 W TOUHY AVE</td>\n",
       "    </tr>\n",
       "    <tr>\n",
       "      <th>Valores_faltantes</th>\n",
       "      <td>0</td>\n",
       "    </tr>\n",
       "    <tr>\n",
       "      <th>Top1</th>\n",
       "      <td>[11601 W TOUHY AVE , 2674]</td>\n",
       "    </tr>\n",
       "    <tr>\n",
       "      <th>Top2</th>\n",
       "      <td>[5700 S CICERO AVE , 593]</td>\n",
       "    </tr>\n",
       "    <tr>\n",
       "      <th>Top3</th>\n",
       "      <td>[500 W MADISON ST , 465]</td>\n",
       "    </tr>\n",
       "  </tbody>\n",
       "</table>\n",
       "</div>"
      ],
      "text/plain": [
       "Info                                  address\n",
       "Num_Registros                          215067\n",
       "Num_de_categorias                       18522\n",
       "Moda                       11601 W TOUHY AVE \n",
       "Valores_faltantes                           0\n",
       "Top1               [11601 W TOUHY AVE , 2674]\n",
       "Top2                [5700 S CICERO AVE , 593]\n",
       "Top3                 [500 W MADISON ST , 465]"
      ]
     },
     "metadata": {},
     "output_type": "display_data"
    },
    {
     "name": "stdout",
     "output_type": "stream",
     "text": [
      "None\n",
      "Valores de las categorias y sus proporciones\n"
     ]
    },
    {
     "data": {
      "text/html": [
       "<div>\n",
       "<style scoped>\n",
       "    .dataframe tbody tr th:only-of-type {\n",
       "        vertical-align: middle;\n",
       "    }\n",
       "\n",
       "    .dataframe tbody tr th {\n",
       "        vertical-align: top;\n",
       "    }\n",
       "\n",
       "    .dataframe thead th {\n",
       "        text-align: right;\n",
       "    }\n",
       "</style>\n",
       "<table border=\"1\" class=\"dataframe\">\n",
       "  <thead>\n",
       "    <tr style=\"text-align: right;\">\n",
       "      <th></th>\n",
       "      <th>Observaciones</th>\n",
       "      <th>proporción</th>\n",
       "    </tr>\n",
       "    <tr>\n",
       "      <th>Categoría</th>\n",
       "      <th></th>\n",
       "      <th></th>\n",
       "    </tr>\n",
       "  </thead>\n",
       "  <tbody>\n",
       "    <tr>\n",
       "      <th>11601 W TOUHY AVE</th>\n",
       "      <td>2674</td>\n",
       "      <td>1.2%</td>\n",
       "    </tr>\n",
       "    <tr>\n",
       "      <th>5700 S CICERO AVE</th>\n",
       "      <td>593</td>\n",
       "      <td>0.3%</td>\n",
       "    </tr>\n",
       "    <tr>\n",
       "      <th>500 W MADISON ST</th>\n",
       "      <td>465</td>\n",
       "      <td>0.2%</td>\n",
       "    </tr>\n",
       "    <tr>\n",
       "      <th>2300 S THROOP ST</th>\n",
       "      <td>410</td>\n",
       "      <td>0.2%</td>\n",
       "    </tr>\n",
       "    <tr>\n",
       "      <th>324 N LEAVITT ST</th>\n",
       "      <td>391</td>\n",
       "      <td>0.2%</td>\n",
       "    </tr>\n",
       "    <tr>\n",
       "      <th>...</th>\n",
       "      <td>...</td>\n",
       "      <td>...</td>\n",
       "    </tr>\n",
       "    <tr>\n",
       "      <th>1811 W HARRISON ST</th>\n",
       "      <td>1</td>\n",
       "      <td>0.0%</td>\n",
       "    </tr>\n",
       "    <tr>\n",
       "      <th>1313 W MORSE AVE</th>\n",
       "      <td>1</td>\n",
       "      <td>0.0%</td>\n",
       "    </tr>\n",
       "    <tr>\n",
       "      <th>5300 N DAMEN AVE</th>\n",
       "      <td>1</td>\n",
       "      <td>0.0%</td>\n",
       "    </tr>\n",
       "    <tr>\n",
       "      <th>4221 W IRVING PARK RD</th>\n",
       "      <td>1</td>\n",
       "      <td>0.0%</td>\n",
       "    </tr>\n",
       "    <tr>\n",
       "      <th>1958 W NORTH AVE</th>\n",
       "      <td>1</td>\n",
       "      <td>0.0%</td>\n",
       "    </tr>\n",
       "  </tbody>\n",
       "</table>\n",
       "<p>18522 rows × 2 columns</p>\n",
       "</div>"
      ],
      "text/plain": [
       "                        Observaciones proporción\n",
       "Categoría                                       \n",
       "11601 W TOUHY AVE                2674       1.2%\n",
       "5700 S CICERO AVE                 593       0.3%\n",
       "500 W MADISON ST                  465       0.2%\n",
       "2300 S THROOP ST                  410       0.2%\n",
       "324 N LEAVITT ST                  391       0.2%\n",
       "...                               ...        ...\n",
       "1811 W HARRISON ST                  1       0.0%\n",
       "1313 W MORSE AVE                    1       0.0%\n",
       "5300 N DAMEN AVE                    1       0.0%\n",
       "4221 W IRVING PARK RD               1       0.0%\n",
       "1958 W NORTH AVE                    1       0.0%\n",
       "\n",
       "[18522 rows x 2 columns]"
      ]
     },
     "metadata": {},
     "output_type": "display_data"
    },
    {
     "name": "stdout",
     "output_type": "stream",
     "text": [
      "None\n",
      "\n",
      "\n",
      "\n",
      "*********************************\n",
      "Variable Categorica city\n",
      "*********************************\n"
     ]
    },
    {
     "data": {
      "text/html": [
       "<div>\n",
       "<style scoped>\n",
       "    .dataframe tbody tr th:only-of-type {\n",
       "        vertical-align: middle;\n",
       "    }\n",
       "\n",
       "    .dataframe tbody tr th {\n",
       "        vertical-align: top;\n",
       "    }\n",
       "\n",
       "    .dataframe thead th {\n",
       "        text-align: right;\n",
       "    }\n",
       "</style>\n",
       "<table border=\"1\" class=\"dataframe\">\n",
       "  <thead>\n",
       "    <tr style=\"text-align: right;\">\n",
       "      <th>Info</th>\n",
       "      <th>city</th>\n",
       "    </tr>\n",
       "  </thead>\n",
       "  <tbody>\n",
       "    <tr>\n",
       "      <th>Num_Registros</th>\n",
       "      <td>215067</td>\n",
       "    </tr>\n",
       "    <tr>\n",
       "      <th>Num_de_categorias</th>\n",
       "      <td>70</td>\n",
       "    </tr>\n",
       "    <tr>\n",
       "      <th>Moda</th>\n",
       "      <td>CHICAGO</td>\n",
       "    </tr>\n",
       "    <tr>\n",
       "      <th>Valores_faltantes</th>\n",
       "      <td>158</td>\n",
       "    </tr>\n",
       "    <tr>\n",
       "      <th>Top1</th>\n",
       "      <td>[CHICAGO, 214166]</td>\n",
       "    </tr>\n",
       "    <tr>\n",
       "      <th>Top2</th>\n",
       "      <td>[Chicago, 345]</td>\n",
       "    </tr>\n",
       "    <tr>\n",
       "      <th>Top3</th>\n",
       "      <td>[chicago, 111]</td>\n",
       "    </tr>\n",
       "  </tbody>\n",
       "</table>\n",
       "</div>"
      ],
      "text/plain": [
       "Info                            city\n",
       "Num_Registros                 215067\n",
       "Num_de_categorias                 70\n",
       "Moda                         CHICAGO\n",
       "Valores_faltantes                158\n",
       "Top1               [CHICAGO, 214166]\n",
       "Top2                  [Chicago, 345]\n",
       "Top3                  [chicago, 111]"
      ]
     },
     "metadata": {},
     "output_type": "display_data"
    },
    {
     "name": "stdout",
     "output_type": "stream",
     "text": [
      "None\n",
      "Valores de las categorias y sus proporciones\n"
     ]
    },
    {
     "data": {
      "text/html": [
       "<div>\n",
       "<style scoped>\n",
       "    .dataframe tbody tr th:only-of-type {\n",
       "        vertical-align: middle;\n",
       "    }\n",
       "\n",
       "    .dataframe tbody tr th {\n",
       "        vertical-align: top;\n",
       "    }\n",
       "\n",
       "    .dataframe thead th {\n",
       "        text-align: right;\n",
       "    }\n",
       "</style>\n",
       "<table border=\"1\" class=\"dataframe\">\n",
       "  <thead>\n",
       "    <tr style=\"text-align: right;\">\n",
       "      <th></th>\n",
       "      <th>Observaciones</th>\n",
       "      <th>proporción</th>\n",
       "    </tr>\n",
       "    <tr>\n",
       "      <th>Categoría</th>\n",
       "      <th></th>\n",
       "      <th></th>\n",
       "    </tr>\n",
       "  </thead>\n",
       "  <tbody>\n",
       "    <tr>\n",
       "      <th>CHICAGO</th>\n",
       "      <td>214166</td>\n",
       "      <td>99.6%</td>\n",
       "    </tr>\n",
       "    <tr>\n",
       "      <th>Chicago</th>\n",
       "      <td>345</td>\n",
       "      <td>0.2%</td>\n",
       "    </tr>\n",
       "    <tr>\n",
       "      <th>chicago</th>\n",
       "      <td>111</td>\n",
       "      <td>0.1%</td>\n",
       "    </tr>\n",
       "    <tr>\n",
       "      <th>CCHICAGO</th>\n",
       "      <td>48</td>\n",
       "      <td>0.0%</td>\n",
       "    </tr>\n",
       "    <tr>\n",
       "      <th>SCHAUMBURG</th>\n",
       "      <td>27</td>\n",
       "      <td>0.0%</td>\n",
       "    </tr>\n",
       "    <tr>\n",
       "      <th>...</th>\n",
       "      <td>...</td>\n",
       "      <td>...</td>\n",
       "    </tr>\n",
       "    <tr>\n",
       "      <th>WESTMONT</th>\n",
       "      <td>1</td>\n",
       "      <td>0.0%</td>\n",
       "    </tr>\n",
       "    <tr>\n",
       "      <th>LAKE BLUFF</th>\n",
       "      <td>1</td>\n",
       "      <td>0.0%</td>\n",
       "    </tr>\n",
       "    <tr>\n",
       "      <th>PALOS PARK</th>\n",
       "      <td>1</td>\n",
       "      <td>0.0%</td>\n",
       "    </tr>\n",
       "    <tr>\n",
       "      <th>WHEATON</th>\n",
       "      <td>1</td>\n",
       "      <td>0.0%</td>\n",
       "    </tr>\n",
       "    <tr>\n",
       "      <th>OAK LAWN</th>\n",
       "      <td>1</td>\n",
       "      <td>0.0%</td>\n",
       "    </tr>\n",
       "  </tbody>\n",
       "</table>\n",
       "<p>70 rows × 2 columns</p>\n",
       "</div>"
      ],
      "text/plain": [
       "            Observaciones proporción\n",
       "Categoría                           \n",
       "CHICAGO            214166      99.6%\n",
       "Chicago               345       0.2%\n",
       "chicago               111       0.1%\n",
       "CCHICAGO               48       0.0%\n",
       "SCHAUMBURG             27       0.0%\n",
       "...                   ...        ...\n",
       "WESTMONT                1       0.0%\n",
       "LAKE BLUFF              1       0.0%\n",
       "PALOS PARK              1       0.0%\n",
       "WHEATON                 1       0.0%\n",
       "OAK LAWN                1       0.0%\n",
       "\n",
       "[70 rows x 2 columns]"
      ]
     },
     "metadata": {},
     "output_type": "display_data"
    },
    {
     "name": "stdout",
     "output_type": "stream",
     "text": [
      "None\n",
      "\n",
      "\n",
      "\n",
      "*********************************\n",
      "Variable Categorica state\n",
      "*********************************\n"
     ]
    },
    {
     "data": {
      "text/html": [
       "<div>\n",
       "<style scoped>\n",
       "    .dataframe tbody tr th:only-of-type {\n",
       "        vertical-align: middle;\n",
       "    }\n",
       "\n",
       "    .dataframe tbody tr th {\n",
       "        vertical-align: top;\n",
       "    }\n",
       "\n",
       "    .dataframe thead th {\n",
       "        text-align: right;\n",
       "    }\n",
       "</style>\n",
       "<table border=\"1\" class=\"dataframe\">\n",
       "  <thead>\n",
       "    <tr style=\"text-align: right;\">\n",
       "      <th>Info</th>\n",
       "      <th>state</th>\n",
       "    </tr>\n",
       "  </thead>\n",
       "  <tbody>\n",
       "    <tr>\n",
       "      <th>Num_Registros</th>\n",
       "      <td>215067</td>\n",
       "    </tr>\n",
       "    <tr>\n",
       "      <th>Num_de_categorias</th>\n",
       "      <td>4</td>\n",
       "    </tr>\n",
       "    <tr>\n",
       "      <th>Moda</th>\n",
       "      <td>IL</td>\n",
       "    </tr>\n",
       "    <tr>\n",
       "      <th>Valores_faltantes</th>\n",
       "      <td>50</td>\n",
       "    </tr>\n",
       "    <tr>\n",
       "      <th>Top1</th>\n",
       "      <td>[IL, 215014]</td>\n",
       "    </tr>\n",
       "    <tr>\n",
       "      <th>Top2</th>\n",
       "      <td>[NY, 1]</td>\n",
       "    </tr>\n",
       "    <tr>\n",
       "      <th>Top3</th>\n",
       "      <td>[IN, 1]</td>\n",
       "    </tr>\n",
       "  </tbody>\n",
       "</table>\n",
       "</div>"
      ],
      "text/plain": [
       "Info                      state\n",
       "Num_Registros            215067\n",
       "Num_de_categorias             4\n",
       "Moda                         IL\n",
       "Valores_faltantes            50\n",
       "Top1               [IL, 215014]\n",
       "Top2                    [NY, 1]\n",
       "Top3                    [IN, 1]"
      ]
     },
     "metadata": {},
     "output_type": "display_data"
    },
    {
     "name": "stdout",
     "output_type": "stream",
     "text": [
      "None\n",
      "Valores de las categorias y sus proporciones\n"
     ]
    },
    {
     "data": {
      "text/html": [
       "<div>\n",
       "<style scoped>\n",
       "    .dataframe tbody tr th:only-of-type {\n",
       "        vertical-align: middle;\n",
       "    }\n",
       "\n",
       "    .dataframe tbody tr th {\n",
       "        vertical-align: top;\n",
       "    }\n",
       "\n",
       "    .dataframe thead th {\n",
       "        text-align: right;\n",
       "    }\n",
       "</style>\n",
       "<table border=\"1\" class=\"dataframe\">\n",
       "  <thead>\n",
       "    <tr style=\"text-align: right;\">\n",
       "      <th></th>\n",
       "      <th>Observaciones</th>\n",
       "      <th>proporción</th>\n",
       "    </tr>\n",
       "    <tr>\n",
       "      <th>Categoría</th>\n",
       "      <th></th>\n",
       "      <th></th>\n",
       "    </tr>\n",
       "  </thead>\n",
       "  <tbody>\n",
       "    <tr>\n",
       "      <th>IL</th>\n",
       "      <td>215014</td>\n",
       "      <td>100.0%</td>\n",
       "    </tr>\n",
       "    <tr>\n",
       "      <th>NY</th>\n",
       "      <td>1</td>\n",
       "      <td>0.0%</td>\n",
       "    </tr>\n",
       "    <tr>\n",
       "      <th>IN</th>\n",
       "      <td>1</td>\n",
       "      <td>0.0%</td>\n",
       "    </tr>\n",
       "    <tr>\n",
       "      <th>WI</th>\n",
       "      <td>1</td>\n",
       "      <td>0.0%</td>\n",
       "    </tr>\n",
       "  </tbody>\n",
       "</table>\n",
       "</div>"
      ],
      "text/plain": [
       "           Observaciones proporción\n",
       "Categoría                          \n",
       "IL                215014     100.0%\n",
       "NY                     1       0.0%\n",
       "IN                     1       0.0%\n",
       "WI                     1       0.0%"
      ]
     },
     "metadata": {},
     "output_type": "display_data"
    },
    {
     "name": "stdout",
     "output_type": "stream",
     "text": [
      "None\n",
      "\n",
      "\n",
      "\n",
      "*********************************\n",
      "Variable Categorica inspection_type\n",
      "*********************************\n"
     ]
    },
    {
     "data": {
      "text/html": [
       "<div>\n",
       "<style scoped>\n",
       "    .dataframe tbody tr th:only-of-type {\n",
       "        vertical-align: middle;\n",
       "    }\n",
       "\n",
       "    .dataframe tbody tr th {\n",
       "        vertical-align: top;\n",
       "    }\n",
       "\n",
       "    .dataframe thead th {\n",
       "        text-align: right;\n",
       "    }\n",
       "</style>\n",
       "<table border=\"1\" class=\"dataframe\">\n",
       "  <thead>\n",
       "    <tr style=\"text-align: right;\">\n",
       "      <th>Info</th>\n",
       "      <th>inspection_type</th>\n",
       "    </tr>\n",
       "  </thead>\n",
       "  <tbody>\n",
       "    <tr>\n",
       "      <th>Num_Registros</th>\n",
       "      <td>215067</td>\n",
       "    </tr>\n",
       "    <tr>\n",
       "      <th>Num_de_categorias</th>\n",
       "      <td>110</td>\n",
       "    </tr>\n",
       "    <tr>\n",
       "      <th>Moda</th>\n",
       "      <td>Canvass</td>\n",
       "    </tr>\n",
       "    <tr>\n",
       "      <th>Valores_faltantes</th>\n",
       "      <td>1</td>\n",
       "    </tr>\n",
       "    <tr>\n",
       "      <th>Top1</th>\n",
       "      <td>[Canvass, 114224]</td>\n",
       "    </tr>\n",
       "    <tr>\n",
       "      <th>Top2</th>\n",
       "      <td>[License, 28292]</td>\n",
       "    </tr>\n",
       "    <tr>\n",
       "      <th>Top3</th>\n",
       "      <td>[Canvass Re-Inspection, 22824]</td>\n",
       "    </tr>\n",
       "  </tbody>\n",
       "</table>\n",
       "</div>"
      ],
      "text/plain": [
       "Info                              inspection_type\n",
       "Num_Registros                              215067\n",
       "Num_de_categorias                             110\n",
       "Moda                                      Canvass\n",
       "Valores_faltantes                               1\n",
       "Top1                            [Canvass, 114224]\n",
       "Top2                             [License, 28292]\n",
       "Top3               [Canvass Re-Inspection, 22824]"
      ]
     },
     "metadata": {},
     "output_type": "display_data"
    },
    {
     "name": "stdout",
     "output_type": "stream",
     "text": [
      "None\n",
      "Valores de las categorias y sus proporciones\n"
     ]
    },
    {
     "data": {
      "text/html": [
       "<div>\n",
       "<style scoped>\n",
       "    .dataframe tbody tr th:only-of-type {\n",
       "        vertical-align: middle;\n",
       "    }\n",
       "\n",
       "    .dataframe tbody tr th {\n",
       "        vertical-align: top;\n",
       "    }\n",
       "\n",
       "    .dataframe thead th {\n",
       "        text-align: right;\n",
       "    }\n",
       "</style>\n",
       "<table border=\"1\" class=\"dataframe\">\n",
       "  <thead>\n",
       "    <tr style=\"text-align: right;\">\n",
       "      <th></th>\n",
       "      <th>Observaciones</th>\n",
       "      <th>proporción</th>\n",
       "    </tr>\n",
       "    <tr>\n",
       "      <th>Categoría</th>\n",
       "      <th></th>\n",
       "      <th></th>\n",
       "    </tr>\n",
       "  </thead>\n",
       "  <tbody>\n",
       "    <tr>\n",
       "      <th>Canvass</th>\n",
       "      <td>114224</td>\n",
       "      <td>53.1%</td>\n",
       "    </tr>\n",
       "    <tr>\n",
       "      <th>License</th>\n",
       "      <td>28292</td>\n",
       "      <td>13.2%</td>\n",
       "    </tr>\n",
       "    <tr>\n",
       "      <th>Canvass Re-Inspection</th>\n",
       "      <td>22824</td>\n",
       "      <td>10.6%</td>\n",
       "    </tr>\n",
       "    <tr>\n",
       "      <th>Complaint</th>\n",
       "      <td>19908</td>\n",
       "      <td>9.3%</td>\n",
       "    </tr>\n",
       "    <tr>\n",
       "      <th>License Re-Inspection</th>\n",
       "      <td>9631</td>\n",
       "      <td>4.5%</td>\n",
       "    </tr>\n",
       "    <tr>\n",
       "      <th>...</th>\n",
       "      <td>...</td>\n",
       "      <td>...</td>\n",
       "    </tr>\n",
       "    <tr>\n",
       "      <th>citation re-issued</th>\n",
       "      <td>1</td>\n",
       "      <td>0.0%</td>\n",
       "    </tr>\n",
       "    <tr>\n",
       "      <th>CANVASS RE INSPECTION OF CLOSE UP</th>\n",
       "      <td>1</td>\n",
       "      <td>0.0%</td>\n",
       "    </tr>\n",
       "    <tr>\n",
       "      <th>CANVASS SPECIAL EVENTS</th>\n",
       "      <td>1</td>\n",
       "      <td>0.0%</td>\n",
       "    </tr>\n",
       "    <tr>\n",
       "      <th>CANVAS</th>\n",
       "      <td>1</td>\n",
       "      <td>0.0%</td>\n",
       "    </tr>\n",
       "    <tr>\n",
       "      <th>CANVASS FOR RIB FEST</th>\n",
       "      <td>1</td>\n",
       "      <td>0.0%</td>\n",
       "    </tr>\n",
       "  </tbody>\n",
       "</table>\n",
       "<p>110 rows × 2 columns</p>\n",
       "</div>"
      ],
      "text/plain": [
       "                                   Observaciones proporción\n",
       "Categoría                                                  \n",
       "Canvass                                   114224      53.1%\n",
       "License                                    28292      13.2%\n",
       "Canvass Re-Inspection                      22824      10.6%\n",
       "Complaint                                  19908       9.3%\n",
       "License Re-Inspection                       9631       4.5%\n",
       "...                                          ...        ...\n",
       "citation re-issued                             1       0.0%\n",
       "CANVASS RE INSPECTION OF CLOSE UP              1       0.0%\n",
       "CANVASS SPECIAL EVENTS                         1       0.0%\n",
       "CANVAS                                         1       0.0%\n",
       "CANVASS FOR RIB FEST                           1       0.0%\n",
       "\n",
       "[110 rows x 2 columns]"
      ]
     },
     "metadata": {},
     "output_type": "display_data"
    },
    {
     "name": "stdout",
     "output_type": "stream",
     "text": [
      "None\n",
      "\n",
      "\n",
      "\n",
      "*********************************\n",
      "Variable Categorica results\n",
      "*********************************\n"
     ]
    },
    {
     "data": {
      "text/html": [
       "<div>\n",
       "<style scoped>\n",
       "    .dataframe tbody tr th:only-of-type {\n",
       "        vertical-align: middle;\n",
       "    }\n",
       "\n",
       "    .dataframe tbody tr th {\n",
       "        vertical-align: top;\n",
       "    }\n",
       "\n",
       "    .dataframe thead th {\n",
       "        text-align: right;\n",
       "    }\n",
       "</style>\n",
       "<table border=\"1\" class=\"dataframe\">\n",
       "  <thead>\n",
       "    <tr style=\"text-align: right;\">\n",
       "      <th>Info</th>\n",
       "      <th>results</th>\n",
       "    </tr>\n",
       "  </thead>\n",
       "  <tbody>\n",
       "    <tr>\n",
       "      <th>Num_Registros</th>\n",
       "      <td>215067</td>\n",
       "    </tr>\n",
       "    <tr>\n",
       "      <th>Num_de_categorias</th>\n",
       "      <td>7</td>\n",
       "    </tr>\n",
       "    <tr>\n",
       "      <th>Moda</th>\n",
       "      <td>Pass</td>\n",
       "    </tr>\n",
       "    <tr>\n",
       "      <th>Valores_faltantes</th>\n",
       "      <td>0</td>\n",
       "    </tr>\n",
       "    <tr>\n",
       "      <th>Top1</th>\n",
       "      <td>[Pass, 112619]</td>\n",
       "    </tr>\n",
       "    <tr>\n",
       "      <th>Top2</th>\n",
       "      <td>[Fail, 41511]</td>\n",
       "    </tr>\n",
       "    <tr>\n",
       "      <th>Top3</th>\n",
       "      <td>[Pass w/ Conditions, 32540]</td>\n",
       "    </tr>\n",
       "  </tbody>\n",
       "</table>\n",
       "</div>"
      ],
      "text/plain": [
       "Info                                   results\n",
       "Num_Registros                           215067\n",
       "Num_de_categorias                            7\n",
       "Moda                                      Pass\n",
       "Valores_faltantes                            0\n",
       "Top1                            [Pass, 112619]\n",
       "Top2                             [Fail, 41511]\n",
       "Top3               [Pass w/ Conditions, 32540]"
      ]
     },
     "metadata": {},
     "output_type": "display_data"
    },
    {
     "name": "stdout",
     "output_type": "stream",
     "text": [
      "None\n",
      "Valores de las categorias y sus proporciones\n"
     ]
    },
    {
     "data": {
      "text/html": [
       "<div>\n",
       "<style scoped>\n",
       "    .dataframe tbody tr th:only-of-type {\n",
       "        vertical-align: middle;\n",
       "    }\n",
       "\n",
       "    .dataframe tbody tr th {\n",
       "        vertical-align: top;\n",
       "    }\n",
       "\n",
       "    .dataframe thead th {\n",
       "        text-align: right;\n",
       "    }\n",
       "</style>\n",
       "<table border=\"1\" class=\"dataframe\">\n",
       "  <thead>\n",
       "    <tr style=\"text-align: right;\">\n",
       "      <th></th>\n",
       "      <th>Observaciones</th>\n",
       "      <th>proporción</th>\n",
       "    </tr>\n",
       "    <tr>\n",
       "      <th>Categoría</th>\n",
       "      <th></th>\n",
       "      <th></th>\n",
       "    </tr>\n",
       "  </thead>\n",
       "  <tbody>\n",
       "    <tr>\n",
       "      <th>Pass</th>\n",
       "      <td>112619</td>\n",
       "      <td>52.4%</td>\n",
       "    </tr>\n",
       "    <tr>\n",
       "      <th>Fail</th>\n",
       "      <td>41511</td>\n",
       "      <td>19.3%</td>\n",
       "    </tr>\n",
       "    <tr>\n",
       "      <th>Pass w/ Conditions</th>\n",
       "      <td>32540</td>\n",
       "      <td>15.1%</td>\n",
       "    </tr>\n",
       "    <tr>\n",
       "      <th>Out of Business</th>\n",
       "      <td>18706</td>\n",
       "      <td>8.7%</td>\n",
       "    </tr>\n",
       "    <tr>\n",
       "      <th>No Entry</th>\n",
       "      <td>7332</td>\n",
       "      <td>3.4%</td>\n",
       "    </tr>\n",
       "    <tr>\n",
       "      <th>Not Ready</th>\n",
       "      <td>2287</td>\n",
       "      <td>1.1%</td>\n",
       "    </tr>\n",
       "    <tr>\n",
       "      <th>Business Not Located</th>\n",
       "      <td>72</td>\n",
       "      <td>0.0%</td>\n",
       "    </tr>\n",
       "  </tbody>\n",
       "</table>\n",
       "</div>"
      ],
      "text/plain": [
       "                      Observaciones proporción\n",
       "Categoría                                     \n",
       "Pass                         112619      52.4%\n",
       "Fail                          41511      19.3%\n",
       "Pass w/ Conditions            32540      15.1%\n",
       "Out of Business               18706       8.7%\n",
       "No Entry                       7332       3.4%\n",
       "Not Ready                      2287       1.1%\n",
       "Business Not Located             72       0.0%"
      ]
     },
     "metadata": {},
     "output_type": "display_data"
    },
    {
     "name": "stdout",
     "output_type": "stream",
     "text": [
      "None\n",
      "\n",
      "\n",
      "\n",
      "*********************************\n",
      "Variable Categorica violations\n",
      "*********************************\n"
     ]
    },
    {
     "data": {
      "text/html": [
       "<div>\n",
       "<style scoped>\n",
       "    .dataframe tbody tr th:only-of-type {\n",
       "        vertical-align: middle;\n",
       "    }\n",
       "\n",
       "    .dataframe tbody tr th {\n",
       "        vertical-align: top;\n",
       "    }\n",
       "\n",
       "    .dataframe thead th {\n",
       "        text-align: right;\n",
       "    }\n",
       "</style>\n",
       "<table border=\"1\" class=\"dataframe\">\n",
       "  <thead>\n",
       "    <tr style=\"text-align: right;\">\n",
       "      <th>Info</th>\n",
       "      <th>violations</th>\n",
       "    </tr>\n",
       "  </thead>\n",
       "  <tbody>\n",
       "    <tr>\n",
       "      <th>Num_Registros</th>\n",
       "      <td>215067</td>\n",
       "    </tr>\n",
       "    <tr>\n",
       "      <th>Num_de_categorias</th>\n",
       "      <td>156694</td>\n",
       "    </tr>\n",
       "    <tr>\n",
       "      <th>Moda</th>\n",
       "      <td>32. FOOD AND NON-FOOD CONTACT SURFACES PROPERL...</td>\n",
       "    </tr>\n",
       "    <tr>\n",
       "      <th>Valores_faltantes</th>\n",
       "      <td>57424</td>\n",
       "    </tr>\n",
       "    <tr>\n",
       "      <th>Top1</th>\n",
       "      <td>[32. FOOD AND NON-FOOD CONTACT SURFACES PROPER...</td>\n",
       "    </tr>\n",
       "    <tr>\n",
       "      <th>Top2</th>\n",
       "      <td>[30. FOOD IN ORIGINAL CONTAINER, PROPERLY LABE...</td>\n",
       "    </tr>\n",
       "    <tr>\n",
       "      <th>Top3</th>\n",
       "      <td>[45. FOOD HANDLER REQUIREMENTS MET - Comments:...</td>\n",
       "    </tr>\n",
       "  </tbody>\n",
       "</table>\n",
       "</div>"
      ],
      "text/plain": [
       "Info                                                      violations\n",
       "Num_Registros                                                 215067\n",
       "Num_de_categorias                                             156694\n",
       "Moda               32. FOOD AND NON-FOOD CONTACT SURFACES PROPERL...\n",
       "Valores_faltantes                                              57424\n",
       "Top1               [32. FOOD AND NON-FOOD CONTACT SURFACES PROPER...\n",
       "Top2               [30. FOOD IN ORIGINAL CONTAINER, PROPERLY LABE...\n",
       "Top3               [45. FOOD HANDLER REQUIREMENTS MET - Comments:..."
      ]
     },
     "metadata": {},
     "output_type": "display_data"
    },
    {
     "name": "stdout",
     "output_type": "stream",
     "text": [
      "None\n",
      "Valores de las categorias y sus proporciones\n"
     ]
    },
    {
     "data": {
      "text/html": [
       "<div>\n",
       "<style scoped>\n",
       "    .dataframe tbody tr th:only-of-type {\n",
       "        vertical-align: middle;\n",
       "    }\n",
       "\n",
       "    .dataframe tbody tr th {\n",
       "        vertical-align: top;\n",
       "    }\n",
       "\n",
       "    .dataframe thead th {\n",
       "        text-align: right;\n",
       "    }\n",
       "</style>\n",
       "<table border=\"1\" class=\"dataframe\">\n",
       "  <thead>\n",
       "    <tr style=\"text-align: right;\">\n",
       "      <th></th>\n",
       "      <th>Observaciones</th>\n",
       "      <th>proporción</th>\n",
       "    </tr>\n",
       "    <tr>\n",
       "      <th>Categoría</th>\n",
       "      <th></th>\n",
       "      <th></th>\n",
       "    </tr>\n",
       "  </thead>\n",
       "  <tbody>\n",
       "    <tr>\n",
       "      <th>32. FOOD AND NON-FOOD CONTACT SURFACES PROPERLY DESIGNED, CONSTRUCTED AND MAINTAINED - Comments: VIOLATION STILL PENDING</th>\n",
       "      <td>11</td>\n",
       "      <td>0.0%</td>\n",
       "    </tr>\n",
       "    <tr>\n",
       "      <th>30. FOOD IN ORIGINAL CONTAINER, PROPERLY LABELED: CUSTOMER ADVISORY POSTED AS NEEDED - Comments: OBSERVED NO DBA NAME ON THE LATERAL SIDE OF THE CART, INSTRUCTED TO PROVIDE BUSINESS NAME LEGIBLY PAINTED IN LETTERS AT LEAST TWO INCHES IN HEIGHT IN A CONSPICUOUS PLACE ON EACH LATERAL SIDE OF CART.</th>\n",
       "      <td>10</td>\n",
       "      <td>0.0%</td>\n",
       "    </tr>\n",
       "    <tr>\n",
       "      <th>45. FOOD HANDLER REQUIREMENTS MET - Comments: ALL FOOD HANDLING EMPLOYEES MUST SHOW PROOF OF FOOD HANDLER TRAINING.  MUST PROVIDE.</th>\n",
       "      <td>10</td>\n",
       "      <td>0.0%</td>\n",
       "    </tr>\n",
       "    <tr>\n",
       "      <th>3. MANAGEMENT, FOOD EMPLOYEE AND CONDITIONAL EMPLOYEE; KNOWLEDGE, RESPONSIBILITIES AND REPORTING - Comments: 2-102.14(N)  FOUND NO EMPLOYEE HEALTH POLICY AT PREMISES. PRIORITY FOUNDATION. NO CITATION ISSUED. 7-38-010. MUST PROVIDE. | 5. PROCEDURES FOR RESPONDING TO VOMITING AND DIARRHEAL EVENTS - Comments: 2-501.11 FOUND NO VOMIT AND DIARRHEA CLEAN UP POLICY.  PRIORITY FOUNDATION. NO CITATION ISSUED.7-38-005. MUST PROVIDE.</th>\n",
       "      <td>7</td>\n",
       "      <td>0.0%</td>\n",
       "    </tr>\n",
       "    <tr>\n",
       "      <th>45. FOOD HANDLER REQUIREMENTS MET - Comments: ALL FOOD HANDLING EMPLOYEES MUST SHOW PROOF OF FOOD HANDLER TRAINING. MUST PROVIDE.</th>\n",
       "      <td>7</td>\n",
       "      <td>0.0%</td>\n",
       "    </tr>\n",
       "    <tr>\n",
       "      <th>...</th>\n",
       "      <td>...</td>\n",
       "      <td>...</td>\n",
       "    </tr>\n",
       "    <tr>\n",
       "      <th>5. PROCEDURES FOR RESPONDING TO VOMITING AND DIARRHEAL EVENTS - Comments: OBSERVED INCOMPLETE KIT FOR THE CLEAN UP OF VOMIT AND DIARRHEAL EVENTS. MUST PROVIDE A SANITIZER THAT IS EFFECTIVE AGAINST NOROVIRUS. PRIORITY FOUNDATION VIOLATION 7-38-005. NO CITATION ISSUED.\\t | 49. NON-FOOD/FOOD CONTACT SURFACES CLEAN - Comments: OBSERVED EXCESSIVE GREASE AND DUST ON CORDS BEHIND OVENS AND ON BACK OF 1 DOOR UPRIGHT FREEZER. OBSERVED EXCESSIVE DEBRIS ON BAKERY SHELVES IN PREP AREA. OBSERVED EXCESSIVE BUILD UP ON SHELVES INSIDE WALK IN COOLER. MUST DETAIL CLEAN AND SANITIZE ALL EQUIPMENT. MUST MAINTAIN SAME. | 55. PHYSICAL FACILITIES INSTALLED, MAINTAINED &amp; CLEAN - Comments: OBSERVED EXCESSIVE DEBRIS (COFFEE GRINDS, DUST, DIRT, FOOD, ETC.) ON FLOORS ALONG WALLS, BEHIND EQUIPMENT THROUGHOUT PREP AREA. MUST PULL ALL EQUIPMENT AWAY FROM WALLS TO DETAIL CLEAN FLOORS. OBSERVED LIQUID ON FLOOR OF WALK IN COOLER. MUST CLEAN AND SANITIZE. MUST KEEP CLEAN AND DRY. MUST MAINTAIN SAME.\\t</th>\n",
       "      <td>1</td>\n",
       "      <td>0.0%</td>\n",
       "    </tr>\n",
       "    <tr>\n",
       "      <th>57. ALL FOOD EMPLOYEES HAVE FOOD HANDLER TRAINING - Comments: FOUND NO PROOF OFFOOD HANDLER TRAINING ON SITE. MUST PROOF OF FOOD HANDLER TRAINING FOR ALL FOOD HANDLERS.</th>\n",
       "      <td>1</td>\n",
       "      <td>0.0%</td>\n",
       "    </tr>\n",
       "    <tr>\n",
       "      <th>18. NO EVIDENCE OF RODENT OR INSECT OUTER OPENINGS PROTECTED/RODENT PROOFED, A WRITTEN LOG SHALL BE MAINTAINED AVAILABLE TO THE INSPECTORS - Comments: FOUND THE REAR EXIT DOOR LEADING TO THE OUTSIDE BETWEEN THE STORAGE AREA AND RESTAURANT NOT RODENT PROOFED AS REQUIRED.  A 1/4 INCH GAP WAS OBSERVED AS THE DOOR SWEEP DID NOT COMPLETELY SEAL THE BOTTOM OF THE DOOR; ADVISED TO INSTALL A THRESH HOLE TO COMPLETELY SEAL BOTTOM OF DOOR.  ALSO OBSESRVED TWENTY MOUSE DROPPINGS ON THE FLOOR UNDER THE STAIRS WHERE THIS DOOR IS LOCATED THAT IS NOT RODENT PROOFED; EXCESSIVE CLUTTER FOUND HERE; MUST CLEAN AND REMOVE DROPPINGS AND EXCESSIVE CLUTTER.  SERIOUS VIOLATION 7-38-020 ISSUED. | 21. * CERTIFIED FOOD MANAGER ON SITE WHEN POTENTIALLY HAZARDOUS FOODS ARE  PREPARED AND SERVED - Comments: NO CITY OF CHICAGO FOOD SERVICE MANAGER ON DUTY AS REQUIRED WHILE POTENTIALLY HAZARDOUS FOODS (SHRIMP, SEAFOOD, FISH) ARE BEING PREPARED AND SERVED; MUST HAVE A CITY OF CHICAGO CERTIFIED MANAGER ON DUTY AT ALL TIMES.  SERIOUS VIOLATION 7-38-012 ISSUED. | 29. PREVIOUS MINOR VIOLATION(S) CORRECTED 7-42-090 - Comments: PREVIOUS MINOR VIOLATIONS NOT CORRECTED FROM JULY 17, 2014 AS DESCRIBED:   #32 RUSTY SURFACES ON INTERIOR BOTTOM OF UPRIGHT COOLER; REMOVE SAME.  #36 LIGHT OUT IN MAIN PREP AREA; REPLACE SAME.  #40 METAL STEM THERMOMETER MISSING FOR FOOD HANDLER; PROVIDE SAME.  #41 EXCESSIVE CLUTTER IN BASEMENT; INSTRUCTED TO REMOVE ANY UNNECESSARY ARTICLES AND ORGANIZE AREA.  SERIOUS VIOLATION 7-42-090 ISSUED. | 32. FOOD AND NON-FOOD CONTACT SURFACES PROPERLY DESIGNED, CONSTRUCTED AND MAINTAINED - Comments: BUMPED UP TO A SERIOUS. | 32. FOOD AND NON-FOOD CONTACT SURFACES PROPERLY DESIGNED, CONSTRUCTED AND MAINTAINED - Comments: MUST CLEAN THE EXTERIOR OF ALL COOKING EQUIPMENT.  CLEAN THE INTERIOR OF THE FRYER TO REMOVE GREASE AND REPAIR THE DOOR OF THE FRYER THAT IS IN POOR REPAIR AT THE BOTTOM OF THE FRYER. | 34. FLOORS: CONSTRUCTED PER CODE, CLEANED, GOOD REPAIR, COVING INSTALLED, DUST-LESS CLEANING METHODS USED - Comments: FLOORS NEED DETAIL CLEANING IN THE FOLLOWING AREAS:  KITCHEN AROUND AND BEHIND EQUIPMENT, STORAGE ROOM UNDER SHELVES AND BASEMENT AREA.  CLEAN AND MAINTAIN. | 35. WALLS, CEILINGS, ATTACHED EQUIPMENT CONSTRUCTED PER CODE: GOOD REPAIR, SURFACES CLEAN AND DUST-LESS CLEANING METHODS - Comments: OBSERVED THE VENTILATION FANS ON THE CEILINGS OF THE WASHROOMS NOT CLEAN; CLEAN TO REMOVE DUST OBSERVED.  GREASE OBSERVED ON VENTS ABOVE THE KITCHEN COOKING EQUIPMENT; MUST CLEAN AND MAINTAIN.  OBSERVED A PORTION OF THE CEILING IN THE REAR STORAGE AREA IN POOR REPAIR; REPAIR CEILING. | 36. LIGHTING: REQUIRED MINIMUM FOOT-CANDLES OF LIGHT PROVIDED, FIXTURES SHIELDED - Comments: BUMPED UP TO A SERIOUS. | 38. VENTILATION: ROOMS AND EQUIPMENT VENTED AS REQUIRED: PLUMBING: INSTALLED AND MAINTAINED - Comments: OBSERVED LEAKING AT THE COLD WATER KNOB WHEN RUNNING IN THE MENS WASHROOM; MUST REPAIR. | 38. VENTILATION: ROOMS AND EQUIPMENT VENTED AS REQUIRED: PLUMBING: INSTALLED AND MAINTAINED - Comments: BUMPED UP TO A SERIOUS. | 40. REFRIGERATION AND METAL STEM THERMOMETERS PROVIDED AND CONSPICUOUS - Comments: BUMPED UP TO A SERIOUS. | 41. PREMISES MAINTAINED FREE OF LITTER, UNNECESSARY ARTICLES, CLEANING  EQUIPMENT PROPERLY STORED - Comments: BUMPED UP TO A SERIOUS. | 41. PREMISES MAINTAINED FREE OF LITTER, UNNECESSARY ARTICLES, CLEANING  EQUIPMENT PROPERLY STORED - Comments: FOUND EXCESSIVE CLUTTER IN THE REAR STORAGE AREA BETWEEN THE RESTAURANT AND REAR DOOR; MUST REMOVE UNNECESSARY ITEMS.  FOUND EXCESSIVE CLUTTER UNDERNEATH THE STAIRS IN THE REAR STORAGE AREA AS DESCRIBED IN VIOLATION #18; MUST REMOVE.  MUST REMOVE STANDING WATER FROM MOP BUCKETS WHEN NOT IN USE.  INSTRUCTED ON PROPER STORAGE OF WET MOPS WHEN NOT IN USE; HANG TO DRY.</th>\n",
       "      <td>1</td>\n",
       "      <td>0.0%</td>\n",
       "    </tr>\n",
       "    <tr>\n",
       "      <th>29. PREVIOUS MINOR VIOLATION(S) CORRECTED 7-42-090 - Comments: FOUND PREVIOUS MINOR VIOLATION NOT CORRECTED FROM REPORT DATED 5-4-17 INSPECTION # 2049807. VIOLATION 38. FOUND NO BACKFLOW PREVENTION DEVICES INSTALLED AT WATERLINES FOR ICE MACHINE, ESPRESSO MACHINE, AND COFFEE DRIP MACHINE. SERIOUS VIOLATION.7-42-090. MUST PROVIDE. | 45. FOOD HANDLER REQUIREMENTS MET - Comments: FOUND FOODHANDLER AT PREMISES WITH NO FOOD HANDLER TRAINING CERTIFICATE. MUST PROVIDE.</th>\n",
       "      <td>1</td>\n",
       "      <td>0.0%</td>\n",
       "    </tr>\n",
       "    <tr>\n",
       "      <th>34. FLOORS: CONSTRUCTED PER CODE, CLEANED, GOOD REPAIR, COVING INSTALLED, DUST-LESS CLEANING METHODS USED - Comments: FLOORS STILL NEED DETAIL CLEANING THROUGH OUT. FLOORS INSIDE THE WALK IN FREEZER TO REMOVE SPILLS AND ICE BUILD UP.</th>\n",
       "      <td>1</td>\n",
       "      <td>0.0%</td>\n",
       "    </tr>\n",
       "  </tbody>\n",
       "</table>\n",
       "<p>156694 rows × 2 columns</p>\n",
       "</div>"
      ],
      "text/plain": [
       "                                                    Observaciones proporción\n",
       "Categoría                                                                   \n",
       "32. FOOD AND NON-FOOD CONTACT SURFACES PROPERLY...             11       0.0%\n",
       "30. FOOD IN ORIGINAL CONTAINER, PROPERLY LABELE...             10       0.0%\n",
       "45. FOOD HANDLER REQUIREMENTS MET - Comments: A...             10       0.0%\n",
       "3. MANAGEMENT, FOOD EMPLOYEE AND CONDITIONAL EM...              7       0.0%\n",
       "45. FOOD HANDLER REQUIREMENTS MET - Comments: A...              7       0.0%\n",
       "...                                                           ...        ...\n",
       "5. PROCEDURES FOR RESPONDING TO VOMITING AND DI...              1       0.0%\n",
       "57. ALL FOOD EMPLOYEES HAVE FOOD HANDLER TRAINI...              1       0.0%\n",
       "18. NO EVIDENCE OF RODENT OR INSECT OUTER OPENI...              1       0.0%\n",
       "29. PREVIOUS MINOR VIOLATION(S) CORRECTED 7-42-...              1       0.0%\n",
       "34. FLOORS: CONSTRUCTED PER CODE, CLEANED, GOOD...              1       0.0%\n",
       "\n",
       "[156694 rows x 2 columns]"
      ]
     },
     "metadata": {},
     "output_type": "display_data"
    },
    {
     "name": "stdout",
     "output_type": "stream",
     "text": [
      "None\n",
      "\n",
      "\n",
      "\n"
     ]
    }
   ],
   "source": [
    "cat_vars=['dba_name','aka_name','facility_type','risk','address','city','state','inspection_type',\n",
    "          'results','violations']\n",
    "data_profiling_categ(df, cat_vars)"
   ]
  },
  {
   "cell_type": "markdown",
   "metadata": {},
   "source": [
    "### Análisis de texto\n",
    "Issue #13 GitHub"
   ]
  },
  {
   "cell_type": "markdown",
   "metadata": {},
   "source": [
    "#### 1. Limpieza de campo `facility_type`"
   ]
  },
  {
   "cell_type": "code",
   "execution_count": 43,
   "metadata": {
    "ExecuteTime": {
     "end_time": "2021-02-09T23:20:30.140759Z",
     "start_time": "2021-02-09T23:20:30.036529Z"
    }
   },
   "outputs": [
    {
     "name": "stdout",
     "output_type": "stream",
     "text": [
      "501\n"
     ]
    },
    {
     "data": {
      "text/plain": [
       "array([nan, 'Restaurant', \"Children's Services Facility\", 'Grocery Store',\n",
       "       'GAS STATION', 'Bakery', 'Long Term Care', 'Mobile Food Preparer',\n",
       "       'School', 'Golden Diner', 'HOSTEL', 'school cafeteria',\n",
       "       'Daycare (2 - 6 Years)', 'Daycare Above and Under 2 Years',\n",
       "       'Hospital', 'Pop-Up Establishment Host-Tier II', 'Catering',\n",
       "       'BREWERY', 'Liquor', 'TAVERN', 'Daycare Combo 1586',\n",
       "       'Mobile Food Dispenser', 'SCHOOL', 'VENDING COMMISSARY',\n",
       "       'Shared Kitchen User (Long Term)', 'COFFEE SHOP', 'Shared Kitchen',\n",
       "       'LIQUOR/COFFEE KIOSK', 'SUPPORTIVE LIVING',\n",
       "       'Daycare (Under 2 Years)', 'Mobile Prepared Food Vendor',\n",
       "       'meat packing', 'CHARTER SCHOOL', 'PRIVATE SCHOOL',\n",
       "       'Mobile Frozen Desserts Vendor', 'GROCERY STORE/COOKING SCHOOL',\n",
       "       'CHURCH (SPECIAL EVENTS)', 'Special Event', 'STADIUM', 'Wholesale',\n",
       "       'RESTAURANT/GROCERY STORE', 'bar', 'DISTRIBUTION CENTER',\n",
       "       'Wrigley Roof Top', 'DAYCARE', 'PREPACAKAGED FOODS',\n",
       "       'DAYCARE 2 YRS TO 12 YRS', 'Other', '1023', 'BANQUET HALL',\n",
       "       'GROCERY/DRUG STORE', 'PUSH CARTS', 'Private School',\n",
       "       'COOKING SCHOOL', 'LIQUOR STORE', \"CHILDERN'S SERVICES  FACILITY\",\n",
       "       'THEATER', 'BREWPUB', 'CHURCH', 'WINE STORE', 'COFFEE CART',\n",
       "       'MOVIE THEATER', 'RESTAURANT/BAR', 'BANQUET FACILITY', 'ROOF TOP',\n",
       "       'MOBILE FROZEN DESSERT VENDOR', 'BAR/GRILL',\n",
       "       'Shared Kitchen User (Short Term)', 'Shelter',\n",
       "       'CULINARY ARTS SCHOOL', 'CUSTOM POULTRY SLAUGHTER', 'TAVERN GRILL',\n",
       "       'GROCERY/RESTAURANT', 'School Cafeteria', 'MOVIE THEATRE',\n",
       "       'TAVERN-LIQUOR', 'video store', 'banquet hall',\n",
       "       'UNIVERSITY CAFETERIA', 'GROCERY/TAQUERIA', 'Pool',\n",
       "       'DRUG STORE/GROCERY', 'ROOFTOPS', 'NIGHT CLUB',\n",
       "       'GROCERY STORE/DELI', 'COLLEGE', 'KIOSK', 'CATERING/CAFE',\n",
       "       'tavern', 'RETAIL', 'grocery/butcher', 'Long Term Care Facility',\n",
       "       'PANTRY', 'COFFEE VENDING MACHINE', 'HOTEL', 'SUMMER FEEDING',\n",
       "       'Navy Pier Kiosk', 'ICE CREAM PARLOR', 'Catering and Wholesale',\n",
       "       'CULINARY SCHOOL', 'NURSING HOME', 'LIVE POULTRY', 'KITCHEN',\n",
       "       'GREENHOUSE', 'SHAKES/TEAS', 'EVENT CENTER', 'ROOF TOPS',\n",
       "       'PASTRY school', 'REHAB CENTER', 'PRIVATE CLUB',\n",
       "       'CONVENIENCE STORE', 'LIQUOR/GROCERY STORE/BAR',\n",
       "       'MOBILE FOOD DESSERTS VENDOR', \"CHILDERN'S SERVICE FACILITY\",\n",
       "       'NUTRITION SHAKES', 'DOLLAR STORE WITH GROCERY', 'BUTCHER SHOP',\n",
       "       'GROCERY STORE/GAS STATION', 'AFTER SCHOOL PROGRAM',\n",
       "       'WRIGLEY ROOFTOP', 'MOBILE PUSH CART',\n",
       "       'A-Not-For-Profit Chef Training Program', 'BAR',\n",
       "       'CHILDRENS SERVICES FACILITY', 'Banquet', 'DINING HALL',\n",
       "       'Coffee shop', 'PRIVATE EVENT SPACE',\n",
       "       \"1023-CHILDREN'S SERVICES FACILITY\", 'ART CENTER',\n",
       "       'Herbalife Nutrition', 'HEALTH FOOD STORE', 'GAS STATION/GROCERY',\n",
       "       'COMMISSARY', 'SUPPORTIVE LIVING FACILITY', 'ROOFTOP',\n",
       "       'CANDY STORE', 'Pop-Up Food Establishment User-Tier III',\n",
       "       'DELI/GROCERY', 'GYM STORE', 'butcher shop', 'HEALTH CARE STORE',\n",
       "       'CHARITY AID KITCHEN', 'health club', 'Live Poultry', 'STORE',\n",
       "       'GROCERY/DELI', 'PACKAGED HEALTH FOODS', 'DELI/GROCERY STORE',\n",
       "       'blockbuster video', 'GENERAL STORE', 'GAS STATION FOOD STORE',\n",
       "       'PALETERIA', 'CONVENIENCE/GAS STATION', 'GAS STATION/RESTAURANT',\n",
       "       'Daycare Night', 'WHOLESALE & RETAIL', 'GAS STATION STORE',\n",
       "       'grocery/dollar store', 'CONVENIENT STORE', 'GAS STATION/FOOD',\n",
       "       'DRUG STORE', 'UNUSED STORAGE', 'GROCERY/GAS STATION',\n",
       "       'convenience', 'CONVNIENCE STORE', 'gas station',\n",
       "       'GAS STATION/STORE', 'Banquet Hall',\n",
       "       'PREPACKAGE MEAL DISTRIBUTOR (1006 Retail)', 'Grocery(Sushi prep)',\n",
       "       'Tavern', 'PHARMACY', 'convenience/drug store', 'HERBALIFE',\n",
       "       'liquor store', 'FITNESS CENTER', 'CATERING/BANQUET',\n",
       "       'REPACKAGING PLANT', 'SERVICE GAS STATION', 'Grocery & Restaurant',\n",
       "       'CHARTER', 'Tavern/Bar', 'donut shop', 'MFD TRUCK',\n",
       "       'POULTRY SLAUGHTER', 'PASTRY SCHOOL', 'ICE CREAM SHOP',\n",
       "       \"1023 CHILDERN'S SERVICES FACILITY\", 'MILK TEA', 'HERBAL DRINKS',\n",
       "       'HERBAL LIFE SHOP', 'BANQUET HALL/CATERING', 'HAIR SALON',\n",
       "       'grocery delivery service', 'Theater & Restaurant',\n",
       "       'Daycare (2 Years)', 'hooka lounge', 'cooking school',\n",
       "       'PUBLIC SHCOOL', 'BANQUET', 'ICE CREAM', 'JUICE BAR/GROCERY',\n",
       "       'RETAIL STORE OFFERS COOKING CLASSES', 'GROCERY STORE',\n",
       "       'HERBALIFE/ZUMBA', 'CAFE/STORE', 'EVENT SPACE',\n",
       "       '15 monts to 5 years old', 'GAS STATION/CONVENIENCE STORE',\n",
       "       'Restaurant(protein shake bar)', 'EXERCISE AND NUTRITION BAR',\n",
       "       'JUICE BAR', 'GYM', \"1023 CHILDREN'S SERVICES FACILITY\",\n",
       "       'convenience store', 'GROCERY STORE /PHARMACY',\n",
       "       'LOUNGE/BANQUET HALL', 'coffee shop', 'MOBILE FOOD',\n",
       "       'Pop-Up Food Establishment User-Tier II', 'ASSISTED LIVING',\n",
       "       'Airport Lounge', 'KITCHEN DEMO', 'banquets', 'Banquet/kitchen',\n",
       "       'TAVERN/STORE', 'HERBAL LIFE', 'NOT-FOR-PROFIT CLUB',\n",
       "       'HIGH SCHOOL KITCHEN', 'THEATRE', 'Herabalife',\n",
       "       'COMMISARY RESTAURANT', 'Assisted Living Senior Care',\n",
       "       'SUSHI COUNTER', \"O'Hare Kiosk\", 'DOLLAR TREE', 'TEACHING SCHOOL',\n",
       "       'smoothie bar', 'SENIOR DAY CARE', 'CATERED LIQUOR',\n",
       "       'youth housing', 'FOOD BOOTH', 'Church', 'CHURCH/SPECIAL EVENTS',\n",
       "       \"1023 CHILDERN'S SERVICE FACILITY\", 'HELICOPTER TERMINAL',\n",
       "       'FRENCH MARKET SPACE', 'FROZEN DESSERT PUSHCARTS', 'DAY CARE 2-14',\n",
       "       'GROCERY/BAKERY', 'SLAUGHTER HOUSE/ GROCERY', 'ADULT DAYCARE',\n",
       "       'Poultry Slaughter', 'CANDY SHOP', 'GROCERY/SERVICE GAS STATION',\n",
       "       'DELI/BAKERY', 'CULINARY CLASS ROOMS', 'Assisted Living',\n",
       "       'CHURCH KITCHEN', 'MOBILE DESSERTS VENDOR', 'BANQUET ROOM',\n",
       "       'CAFETERIA', 'CHARTER SCHOOL CAFETERIA', 'GROCERY(GAS STATION)',\n",
       "       'Food Pantry', '1475 LIQUOR', 'MOBILE FROZEN DESSERTS VENDOR',\n",
       "       'REGULATED BUSINESS', 'PREP INSIDE SCHOOL', 'EVENT VENU',\n",
       "       'CANDY/GELATO', 'TOBACCO STORE', 'DOLLAR STORE',\n",
       "       'Animal Shelter Cafe Permit', 'RIVERWALK', 'Lounge',\n",
       "       'Banquet Dining', 'VENDING MACHINE', 'FITNESS STUDIO',\n",
       "       'GROCERY STORE/BAKERY', 'BEVERAGE/SILVERWARE WAREHOUSE',\n",
       "       'HERBAL MEDICINE', 'CHURCH/SPECIAL EVENT',\n",
       "       'RESTAURANT.BANQUET HALLS', 'Internet Cafe', 'CLOTHING STORE',\n",
       "       'COFFEE KIOSK', 'Shuffleboard Club with Bar', 'WAREHOUSE',\n",
       "       'Laundromat', 'CHINESE HERBS', 'Rest/GYM', 'REST/GROCERY',\n",
       "       'GROCERY& RESTAURANT', 'HERBALIFE STORE', 'FURNITURE STORE',\n",
       "       'fish market', 'Banquet rooms', 'GROCERY', 'GAS STATION/MINI MART',\n",
       "       'BEFORE AND AFTER SCHOOL PROGRAM', 'JUICE AND SALAD BAR',\n",
       "       'Cafeteria', 'COLD/FROZEN FOOD STORAGE', 'COFFEE  SHOP',\n",
       "       'POPCORN CORN', 'Gift Shop', 'cafeteria', 'GROCERY AND BUTCHER',\n",
       "       'LIQOUR BREWERY TASTING', 'SUMMER FEEDING PREP AREA',\n",
       "       'NORTHERLY ISLAND', 'DAYCARE COMBO', 'RESTAURANT AND LIQUOR',\n",
       "       'COFFEE/TEA', 'DOLLAR & GROCERY STORE', 'employee kitchen',\n",
       "       'DISTRIBUTOR', 'HEALTH CENTER', 'fitness center', 'TRUCK',\n",
       "       'PRE PACKAGED', 'HOT DOG STATION', 'weight loss program',\n",
       "       'WEIGHT LOSS PROGRAM', 'RESTAURANT/BAR/THEATER', 'HERBALCAL',\n",
       "       'MOBILPREPARED FOOD VENDOR', 'RETAIL WINE/WINE BAR',\n",
       "       'MOBILE FOOD TRUCK', 'COMMISSARY FOR SOFT SERVE ICE CREAM TRUCKS',\n",
       "       'GOLF COURSE CONNCESSION STAND', 'DAYCARE 6 WKS-5YRS',\n",
       "       'SOCIAL CLUB', 'snack shop', 'MASSAGE BAR', 'SERVICE BAR/THEATRE',\n",
       "       'SMOKEHOUSE', 'TAP room/tavern/liquor store', 'HERBAL',\n",
       "       'ART GALLERY', 'CONVENIENCE', 'SPA', 'Museum/Gallery',\n",
       "       'Long-Term Care', 'GELATO SHOP', 'GAS STATION/STORE GROCERY',\n",
       "       'BAKERY/DELI', 'CELL PHONE STORE', 'GROCERY STORE / GAS STATION',\n",
       "       'RETAIL FOOD/GAS STATION', 'GROCERY/CAFE', 'DRUG/FOOD STORE',\n",
       "       'URBAN FARM', 'RESTAURANT/HOSPITAL', 'grocery', 'TEA STORE',\n",
       "       'COFFEE ROASTER', 'GROCERY/ RESTAURANT', 'dollar store',\n",
       "       'HERBAL REMEDY', 'CITY OF CHICAGO COLLEGE',\n",
       "       'GROCERY STORE/ RESTAURANT', 'PUSHCART', 'NUTRITION/HERBALIFE',\n",
       "       'Adult Family Care Center', 'BOWLING LANES/BANQUETS',\n",
       "       'Mobile frozen dessert vendor',\n",
       "       \"1023 CHILDERN'S SERVICE S FACILITY\", 'REST/ROOFTOP',\n",
       "       'TEMPORARY KIOSK', 'GOLF COURSE', 'Dollar store', 'DAY CARE 1023',\n",
       "       'PACKAGED FOOD DISTRIBUTION', 'VFW HALL', 'RETAIL STORE',\n",
       "       'GROCERY/LIQUOR STORE', 'RESTAURANT/BAKERY',\n",
       "       'GAS STATION/ GROCERY STORE', 'PACKAGED LIQUOR', 'BAKERY/GROCERY',\n",
       "       'HEALTH CENTER/NUTRITION CLASSES', 'ART GALLERY W/WINE AND BEER',\n",
       "       'HOT DOG CART', '1584-DAY CARE ABOVE 2 YEARS', 'DAY CARE', 'Deli',\n",
       "       'day spa', 'night club', 'coffee', 'POPCORN SHOP',\n",
       "       'RIVERWALK CAFE', 'WINE TASTING BAR', 'MUSIC VENUE', 'newsstand',\n",
       "       'Mobile Frozen Dessert Disp/Non-motorized', 'MAIN KITCHEN',\n",
       "       '1005 NURSING HOME', 'PROTEIN SHAKE BAR',\n",
       "       'CHILDERN ACTIVITY FACILITY', 'NON -PROFIT', 'Commissary',\n",
       "       'RESTAURANT/GROCERY', 'theater', 'CATERED EVENTS',\n",
       "       'CHARTER SCHOOL/CAFETERIA', 'LIQUORE STORE/BAR', 'THEATER/BAR',\n",
       "       'MOBILE DESSERT CART', 'GAS STATION /GROCERY', 'CAT/LIQUOR',\n",
       "       'NEWSSTAND', 'MOBILE DESSERT VENDOR', 'BOOK STORE',\n",
       "       'RESTUARANT AND BAR', 'GROCERY STORE/TAQUERIA',\n",
       "       'GAS STATION /SUBWAY MINI MART.', 'CAR WASH', 'CAFE',\n",
       "       'Illegal Vendor', 'Gas station', 'CHICAGO PARK DISTRICT',\n",
       "       'Food Vending Machines', 'TAVERN/RESTAURANT', 'ROOM SERVICE',\n",
       "       'grocery & restaurant', 'BOYS AND GIRLS CLUB', 'TAVERN/1006',\n",
       "       'HERBAL STORE', 'ALTERNATIVE SCHOOL', 'TENT RSTAURANT',\n",
       "       'MOBILE FROZEN DESSERTS DISPENSER-NON-MOTORIZED', 'warehouse',\n",
       "       'Ice cream', 'Long-Term Care Facility',\n",
       "       'FROZEN DESSERTS DISPENSER-NON-MOTORIZED', 'LAUNDROMAT',\n",
       "       'banquets/room service', 'CHURCH/DAY CARE',\n",
       "       'Mobile Frozen Dessert Dispenser_non  Motorized.',\n",
       "       'MOBILE FROZEN DESSERTS DISPENSER-NON-MOTOR', 'Church Kitchen',\n",
       "       'FROZEN DESSERTS DISPENSER -NON MOTORIZED',\n",
       "       'MOBILE FROZEN DESSERTS DISPENSER-NON- MOTORIZED',\n",
       "       'NON-FOR PROFIT BASEMENT KIT', 'NOT FOR PROFIT',\n",
       "       'MEXICAN CANDY STORE', 'DAYCARE 2-6, UNDER 6', 'NAIL SHOP',\n",
       "       'after school program', 'BAKERY/ RESTAURANT', 'FOOD PANTRY',\n",
       "       'live butcher', 'Meat Market', 'SHARED KITCHEN USER (LONG TREM)',\n",
       "       'FOOD PANTRY/CHURCH', 'drug treatment facility',\n",
       "       'LIQUOR CONSUMPTION ON PREMISES.', 'AFTER SCHOOL CARE',\n",
       "       'Day Care Combo (1586)', 'MOBIL FOOD 1315', 'NP-KIOSK',\n",
       "       'RESTAURANT/LIQUOR', 'watermelon house', 'Nutrition Store',\n",
       "       'DAYCARE 1586', 'ASSISSTED LIVING', 'PALETERIA /ICECREAM SHOP',\n",
       "       'Social Club', 'LONG TERM CARE FACILITY',\n",
       "       'CHURCH/AFTER SCHOOL PROGRAM', 'unlicensed facility',\n",
       "       'bakery/restaurant', '(gas station)', 'GROCERY & RESTAURANT',\n",
       "       'PEDDLER', 'HOOKA BAR', 'Convenience Store', 'KIDS CAFE',\n",
       "       '(convenience store)', 'PRODUCE STAND', 'tavern/restaurant',\n",
       "       'GROCERY/LIQUOR', \"FARMER'S MARKET\", 'DRUG STORE/W/ FOOD',\n",
       "       'COMMIASARY', 'ROOFTOP PATIO', 'SOUP KITCHEN', 'LINITED BUSINESS',\n",
       "       'CANDY MAKER', 'PRODUCE VENDOR', 'candy/gelato',\n",
       "       'UNLICENSED FACILITY', 'incubator', 'Candy', 'religious',\n",
       "       'TAVERN/LIQUOR', \"Kids Cafe'\", 'WHOLESALE BAKERY'], dtype=object)"
      ]
     },
     "execution_count": 43,
     "metadata": {},
     "output_type": "execute_result"
    }
   ],
   "source": [
    "print(len(df[\"facility_type\"].unique()))\n",
    "df[\"facility_type\"].unique()"
   ]
  },
  {
   "cell_type": "code",
   "execution_count": 56,
   "metadata": {
    "ExecuteTime": {
     "end_time": "2021-02-09T23:26:20.343386Z",
     "start_time": "2021-02-09T23:26:20.243842Z"
    }
   },
   "outputs": [],
   "source": [
    "df[\"facility_type\"].fillna(\"nan\", inplace=True)"
   ]
  },
  {
   "cell_type": "code",
   "execution_count": 57,
   "metadata": {
    "ExecuteTime": {
     "end_time": "2021-02-09T23:26:21.212521Z",
     "start_time": "2021-02-09T23:26:20.629084Z"
    }
   },
   "outputs": [],
   "source": [
    "df[\"facility_type\"] = df[\"facility_type\"].apply(lambda x: clean_txt(x))"
   ]
  },
  {
   "cell_type": "code",
   "execution_count": 60,
   "metadata": {
    "ExecuteTime": {
     "end_time": "2021-02-09T23:29:18.679597Z",
     "start_time": "2021-02-09T23:29:18.558159Z"
    }
   },
   "outputs": [
    {
     "name": "stdout",
     "output_type": "stream",
     "text": [
      "448\n"
     ]
    },
    {
     "data": {
      "text/plain": [
       "restaurant                      143207\n",
       "grocery_store                    28088\n",
       "school                           13219\n",
       "nan                               4889\n",
       "children-s_services_facility      3707\n",
       "                                 ...  \n",
       "grocery-liquor                       1\n",
       "religious                            1\n",
       "mobil_food_1315                      1\n",
       "kids_cafe-                           1\n",
       "health_club                          1\n",
       "Name: facility_type, Length: 448, dtype: int64"
      ]
     },
     "execution_count": 60,
     "metadata": {},
     "output_type": "execute_result"
    }
   ],
   "source": [
    "print(len(df[\"facility_type\"].unique()))\n",
    "df[\"facility_type\"].value_counts()"
   ]
  },
  {
   "cell_type": "code",
   "execution_count": 63,
   "metadata": {
    "ExecuteTime": {
     "end_time": "2021-02-09T23:29:46.649046Z",
     "start_time": "2021-02-09T23:29:46.545290Z"
    }
   },
   "outputs": [
    {
     "data": {
      "text/html": [
       "<div>\n",
       "<style scoped>\n",
       "    .dataframe tbody tr th:only-of-type {\n",
       "        vertical-align: middle;\n",
       "    }\n",
       "\n",
       "    .dataframe tbody tr th {\n",
       "        vertical-align: top;\n",
       "    }\n",
       "\n",
       "    .dataframe thead th {\n",
       "        text-align: right;\n",
       "    }\n",
       "</style>\n",
       "<table border=\"1\" class=\"dataframe\">\n",
       "  <thead>\n",
       "    <tr style=\"text-align: right;\">\n",
       "      <th></th>\n",
       "      <th>facility_type</th>\n",
       "    </tr>\n",
       "  </thead>\n",
       "  <tbody>\n",
       "    <tr>\n",
       "      <th>restaurant</th>\n",
       "      <td>143207</td>\n",
       "    </tr>\n",
       "    <tr>\n",
       "      <th>grocery_store</th>\n",
       "      <td>28088</td>\n",
       "    </tr>\n",
       "    <tr>\n",
       "      <th>school</th>\n",
       "      <td>13219</td>\n",
       "    </tr>\n",
       "    <tr>\n",
       "      <th>nan</th>\n",
       "      <td>4889</td>\n",
       "    </tr>\n",
       "    <tr>\n",
       "      <th>children-s_services_facility</th>\n",
       "      <td>3707</td>\n",
       "    </tr>\n",
       "    <tr>\n",
       "      <th>...</th>\n",
       "      <td>...</td>\n",
       "    </tr>\n",
       "    <tr>\n",
       "      <th>grocery-liquor</th>\n",
       "      <td>1</td>\n",
       "    </tr>\n",
       "    <tr>\n",
       "      <th>religious</th>\n",
       "      <td>1</td>\n",
       "    </tr>\n",
       "    <tr>\n",
       "      <th>mobil_food_1315</th>\n",
       "      <td>1</td>\n",
       "    </tr>\n",
       "    <tr>\n",
       "      <th>kids_cafe-</th>\n",
       "      <td>1</td>\n",
       "    </tr>\n",
       "    <tr>\n",
       "      <th>health_club</th>\n",
       "      <td>1</td>\n",
       "    </tr>\n",
       "  </tbody>\n",
       "</table>\n",
       "<p>448 rows × 1 columns</p>\n",
       "</div>"
      ],
      "text/plain": [
       "                              facility_type\n",
       "restaurant                           143207\n",
       "grocery_store                         28088\n",
       "school                                13219\n",
       "nan                                    4889\n",
       "children-s_services_facility           3707\n",
       "...                                     ...\n",
       "grocery-liquor                            1\n",
       "religious                                 1\n",
       "mobil_food_1315                           1\n",
       "kids_cafe-                                1\n",
       "health_club                               1\n",
       "\n",
       "[448 rows x 1 columns]"
      ]
     },
     "execution_count": 63,
     "metadata": {},
     "output_type": "execute_result"
    }
   ],
   "source": [
    "dfx = df[\"facility_type\"].value_counts().to_frame()\n",
    "dfx"
   ]
  },
  {
   "cell_type": "code",
   "execution_count": 69,
   "metadata": {
    "ExecuteTime": {
     "end_time": "2021-02-09T23:37:22.472747Z",
     "start_time": "2021-02-09T23:37:22.390174Z"
    }
   },
   "outputs": [
    {
     "data": {
      "text/plain": [
       "2        66\n",
       "1        63\n",
       "3        59\n",
       "4        30\n",
       "5        26\n",
       "         ..\n",
       "57        1\n",
       "63        1\n",
       "65        1\n",
       "66        1\n",
       "28088     1\n",
       "Name: facility_type, Length: 78, dtype: int64"
      ]
     },
     "execution_count": 69,
     "metadata": {},
     "output_type": "execute_result"
    }
   ],
   "source": [
    "dfx[\"facility_type\"].value_counts()"
   ]
  },
  {
   "cell_type": "code",
   "execution_count": 78,
   "metadata": {
    "ExecuteTime": {
     "end_time": "2021-02-09T23:46:17.058585Z",
     "start_time": "2021-02-09T23:46:16.964053Z"
    },
    "scrolled": true
   },
   "outputs": [
    {
     "data": {
      "text/html": [
       "<div>\n",
       "<style scoped>\n",
       "    .dataframe tbody tr th:only-of-type {\n",
       "        vertical-align: middle;\n",
       "    }\n",
       "\n",
       "    .dataframe tbody tr th {\n",
       "        vertical-align: top;\n",
       "    }\n",
       "\n",
       "    .dataframe thead th {\n",
       "        text-align: right;\n",
       "    }\n",
       "</style>\n",
       "<table border=\"1\" class=\"dataframe\">\n",
       "  <thead>\n",
       "    <tr style=\"text-align: right;\">\n",
       "      <th></th>\n",
       "      <th>facility_type</th>\n",
       "    </tr>\n",
       "  </thead>\n",
       "  <tbody>\n",
       "    <tr>\n",
       "      <th>restaurant</th>\n",
       "      <td>143207</td>\n",
       "    </tr>\n",
       "    <tr>\n",
       "      <th>grocery-restaurant</th>\n",
       "      <td>57</td>\n",
       "    </tr>\n",
       "    <tr>\n",
       "      <th>restaurant-bar</th>\n",
       "      <td>41</td>\n",
       "    </tr>\n",
       "    <tr>\n",
       "      <th>grocery_-_restaurant</th>\n",
       "      <td>29</td>\n",
       "    </tr>\n",
       "    <tr>\n",
       "      <th>restaurant-grocery_store</th>\n",
       "      <td>27</td>\n",
       "    </tr>\n",
       "    <tr>\n",
       "      <th>gas_station-restaurant</th>\n",
       "      <td>15</td>\n",
       "    </tr>\n",
       "    <tr>\n",
       "      <th>grocery-_restaurant</th>\n",
       "      <td>13</td>\n",
       "    </tr>\n",
       "    <tr>\n",
       "      <th>restaurant-hospital</th>\n",
       "      <td>11</td>\n",
       "    </tr>\n",
       "    <tr>\n",
       "      <th>restaurant.banquet_halls</th>\n",
       "      <td>9</td>\n",
       "    </tr>\n",
       "    <tr>\n",
       "      <th>rest-grocery</th>\n",
       "      <td>9</td>\n",
       "    </tr>\n",
       "    <tr>\n",
       "      <th>grocery_store-_restaurant</th>\n",
       "      <td>9</td>\n",
       "    </tr>\n",
       "    <tr>\n",
       "      <th>restaurant-protein_shake_bar-</th>\n",
       "      <td>9</td>\n",
       "    </tr>\n",
       "    <tr>\n",
       "      <th>restuarant_and_bar</th>\n",
       "      <td>9</td>\n",
       "    </tr>\n",
       "    <tr>\n",
       "      <th>theater_-_restaurant</th>\n",
       "      <td>8</td>\n",
       "    </tr>\n",
       "    <tr>\n",
       "      <th>rest-rooftop</th>\n",
       "      <td>8</td>\n",
       "    </tr>\n",
       "    <tr>\n",
       "      <th>restaurant-bakery</th>\n",
       "      <td>7</td>\n",
       "    </tr>\n",
       "    <tr>\n",
       "      <th>rest-gym</th>\n",
       "      <td>7</td>\n",
       "    </tr>\n",
       "    <tr>\n",
       "      <th>restaurant-grocery</th>\n",
       "      <td>4</td>\n",
       "    </tr>\n",
       "    <tr>\n",
       "      <th>commisary_restaurant</th>\n",
       "      <td>3</td>\n",
       "    </tr>\n",
       "    <tr>\n",
       "      <th>tavern-restaurant</th>\n",
       "      <td>3</td>\n",
       "    </tr>\n",
       "    <tr>\n",
       "      <th>bakery-restaurant</th>\n",
       "      <td>2</td>\n",
       "    </tr>\n",
       "    <tr>\n",
       "      <th>restaurant-bar-theater</th>\n",
       "      <td>2</td>\n",
       "    </tr>\n",
       "    <tr>\n",
       "      <th>bakery-_restaurant</th>\n",
       "      <td>2</td>\n",
       "    </tr>\n",
       "    <tr>\n",
       "      <th>restaurant-liquor</th>\n",
       "      <td>2</td>\n",
       "    </tr>\n",
       "    <tr>\n",
       "      <th>restaurant_and_liquor</th>\n",
       "      <td>1</td>\n",
       "    </tr>\n",
       "  </tbody>\n",
       "</table>\n",
       "</div>"
      ],
      "text/plain": [
       "                               facility_type\n",
       "restaurant                            143207\n",
       "grocery-restaurant                        57\n",
       "restaurant-bar                            41\n",
       "grocery_-_restaurant                      29\n",
       "restaurant-grocery_store                  27\n",
       "gas_station-restaurant                    15\n",
       "grocery-_restaurant                       13\n",
       "restaurant-hospital                       11\n",
       "restaurant.banquet_halls                   9\n",
       "rest-grocery                               9\n",
       "grocery_store-_restaurant                  9\n",
       "restaurant-protein_shake_bar-              9\n",
       "restuarant_and_bar                         9\n",
       "theater_-_restaurant                       8\n",
       "rest-rooftop                               8\n",
       "restaurant-bakery                          7\n",
       "rest-gym                                   7\n",
       "restaurant-grocery                         4\n",
       "commisary_restaurant                       3\n",
       "tavern-restaurant                          3\n",
       "bakery-restaurant                          2\n",
       "restaurant-bar-theater                     2\n",
       "bakery-_restaurant                         2\n",
       "restaurant-liquor                          2\n",
       "restaurant_and_liquor                      1"
      ]
     },
     "execution_count": 78,
     "metadata": {},
     "output_type": "execute_result"
    }
   ],
   "source": [
    "mr1 = dfx[\"facility_type\"] <= 1\n",
    "mr2 = dfx.index.str.contains(\"rest\")\n",
    "dfx.loc[(mr2), :][:50]"
   ]
  },
  {
   "cell_type": "code",
   "execution_count": 59,
   "metadata": {
    "ExecuteTime": {
     "end_time": "2021-02-09T23:28:34.878940Z",
     "start_time": "2021-02-09T23:28:34.598165Z"
    }
   },
   "outputs": [
    {
     "data": {
      "text/html": [
       "<div>\n",
       "<style scoped>\n",
       "    .dataframe tbody tr th:only-of-type {\n",
       "        vertical-align: middle;\n",
       "    }\n",
       "\n",
       "    .dataframe tbody tr th {\n",
       "        vertical-align: top;\n",
       "    }\n",
       "\n",
       "    .dataframe thead th {\n",
       "        text-align: right;\n",
       "    }\n",
       "</style>\n",
       "<table border=\"1\" class=\"dataframe\">\n",
       "  <thead>\n",
       "    <tr style=\"text-align: right;\">\n",
       "      <th></th>\n",
       "      <th>facility_type</th>\n",
       "    </tr>\n",
       "  </thead>\n",
       "  <tbody>\n",
       "    <tr>\n",
       "      <th>146</th>\n",
       "      <td>daycare_-2_-_6_years-</td>\n",
       "    </tr>\n",
       "    <tr>\n",
       "      <th>148</th>\n",
       "      <td>daycare_above_and_under_2_years</td>\n",
       "    </tr>\n",
       "    <tr>\n",
       "      <th>156</th>\n",
       "      <td>daycare_-2_-_6_years-</td>\n",
       "    </tr>\n",
       "    <tr>\n",
       "      <th>217</th>\n",
       "      <td>daycare_-2_-_6_years-</td>\n",
       "    </tr>\n",
       "    <tr>\n",
       "      <th>240</th>\n",
       "      <td>daycare_above_and_under_2_years</td>\n",
       "    </tr>\n",
       "    <tr>\n",
       "      <th>...</th>\n",
       "      <td>...</td>\n",
       "    </tr>\n",
       "    <tr>\n",
       "      <th>214998</th>\n",
       "      <td>daycare_-2_-_6_years-</td>\n",
       "    </tr>\n",
       "    <tr>\n",
       "      <th>214999</th>\n",
       "      <td>daycare_-2_-_6_years-</td>\n",
       "    </tr>\n",
       "    <tr>\n",
       "      <th>215023</th>\n",
       "      <td>daycare_-2_-_6_years-</td>\n",
       "    </tr>\n",
       "    <tr>\n",
       "      <th>215045</th>\n",
       "      <td>daycare_-2_-_6_years-</td>\n",
       "    </tr>\n",
       "    <tr>\n",
       "      <th>215066</th>\n",
       "      <td>daycare_-under_2_years-</td>\n",
       "    </tr>\n",
       "  </tbody>\n",
       "</table>\n",
       "<p>6653 rows × 1 columns</p>\n",
       "</div>"
      ],
      "text/plain": [
       "                          facility_type\n",
       "146               daycare_-2_-_6_years-\n",
       "148     daycare_above_and_under_2_years\n",
       "156               daycare_-2_-_6_years-\n",
       "217               daycare_-2_-_6_years-\n",
       "240     daycare_above_and_under_2_years\n",
       "...                                 ...\n",
       "214998            daycare_-2_-_6_years-\n",
       "214999            daycare_-2_-_6_years-\n",
       "215023            daycare_-2_-_6_years-\n",
       "215045            daycare_-2_-_6_years-\n",
       "215066          daycare_-under_2_years-\n",
       "\n",
       "[6653 rows x 1 columns]"
      ]
     },
     "execution_count": 59,
     "metadata": {},
     "output_type": "execute_result"
    }
   ],
   "source": [
    "mr1 = df[\"facility_type\"].str.contains(\"day\")\n",
    "df.loc[mr1, [\"facility_type\"]]"
   ]
  },
  {
   "cell_type": "markdown",
   "metadata": {},
   "source": [
    "**Notas de análisis:**\n",
    "- @9/Feb/2020\n",
    "    - Una vez limpiados los textos, la cantidad de únicos pasó de 501 a 448.\n",
    "    - Tal vez podríamos agrupar las categorías por aparición de palabras clave (e.g. `daycare` OR `day_care`).\n",
    "    - Todas las que caigan fuera de las categorías, serán incluidas en una reserva llamada \"Otros\"\n",
    "    - Podría valer la pena hacer un análisis de clústering para agrupar palabras por similitudes y así definir las categorías. (tal vez va a ser difícil hacer estas asociaciones.)"
   ]
  },
  {
   "cell_type": "markdown",
   "metadata": {},
   "source": [
    "#### 2. Limpieza de campo `inspection_date`"
   ]
  },
  {
   "cell_type": "markdown",
   "metadata": {},
   "source": [
    "#### 3. Limpieza de campo `violations`"
   ]
  },
  {
   "cell_type": "markdown",
   "metadata": {},
   "source": [
    "---"
   ]
  },
  {
   "cell_type": "markdown",
   "metadata": {
    "heading_collapsed": true
   },
   "source": [
    "## 1. ¿Cuáles son los tipos 10 de establecimientos que más violaciones cometen? (Facility Type)\n"
   ]
  },
  {
   "cell_type": "code",
   "execution_count": null,
   "metadata": {
    "hidden": true
   },
   "outputs": [],
   "source": [
    "conteos_ft=df.groupby([\"results\",\"facility_type\"]).size().reset_index(name=\"counts\")\n",
    "conteos_ft=conteos_ft.pivot(\"facility_type\",\"results\",\"counts\")\n",
    "conteos_ft=conteos_ft.fillna(0)\n",
    "conteos_ft['Total']=conteos_ft.sum(1)\n",
    "conteos_ft =conteos_ft.sort_values('Fail',ascending=False)\n",
    "conteos_ft"
   ]
  },
  {
   "cell_type": "code",
   "execution_count": null,
   "metadata": {
    "hidden": true
   },
   "outputs": [],
   "source": [
    "n = 10\n",
    "top10=df['facility_type'].value_counts()[:10].sort_values(ascending=False)\n",
    "top10"
   ]
  },
  {
   "cell_type": "markdown",
   "metadata": {
    "hidden": true
   },
   "source": [
    "Se muestra el porcentaje del tipo de establecimiento acuerdo con el resultado de la inspección:"
   ]
  },
  {
   "cell_type": "code",
   "execution_count": null,
   "metadata": {
    "hidden": true
   },
   "outputs": [],
   "source": [
    "proporciones_ft=round(conteos_ft.iloc[:,0:7].apply(lambda x: x/x.sum()*100, axis=1),2)\n",
    "proporciones_ft=proporciones_ft.sort_values('Fail',ascending=False)\n",
    "proporciones_ft"
   ]
  },
  {
   "cell_type": "markdown",
   "metadata": {
    "heading_collapsed": true
   },
   "source": [
    "## 2. ¿Qué tipo de inspección detecta más establecimientos fuera de regla? (Inspection Type)"
   ]
  },
  {
   "cell_type": "code",
   "execution_count": null,
   "metadata": {
    "hidden": true
   },
   "outputs": [],
   "source": [
    "conteos_it=df.groupby([\"results\",\"inspection_type\"]).size().reset_index(name=\"counts\")\n",
    "conteos_it=conteos_it.pivot(\"inspection_type\",\"results\",\"counts\")\n",
    "conteos_it=conteos_it.fillna(0)\n",
    "conteos_it['Total']=conteos_it.sum(1)\n",
    "conteos_it =conteos_it.sort_values('Fail',ascending=False)\n",
    "conteos_it"
   ]
  },
  {
   "cell_type": "markdown",
   "metadata": {
    "hidden": true
   },
   "source": [
    "Se muestra el porcentaje del tipo de inspección de acuerdo con los resultados:"
   ]
  },
  {
   "cell_type": "code",
   "execution_count": null,
   "metadata": {
    "hidden": true
   },
   "outputs": [],
   "source": [
    "proporciones_it=round(conteos_it.iloc[:,0:7].apply(lambda x: x/x.sum()*100, axis=1),2)\n",
    "proporciones_it=proporciones_it.sort_values('Fail',ascending=False)\n",
    "proporciones_it"
   ]
  },
  {
   "cell_type": "markdown",
   "metadata": {
    "hidden": true
   },
   "source": [
    "Se muestra el top 20 de tipos de inspección con un porcentaje mayor de inspecciones no reprobadas."
   ]
  },
  {
   "cell_type": "code",
   "execution_count": null,
   "metadata": {
    "hidden": true
   },
   "outputs": [],
   "source": [
    "top20=proporciones_it.iloc[0:19,:]\n",
    "top20"
   ]
  },
  {
   "cell_type": "markdown",
   "metadata": {
    "heading_collapsed": true
   },
   "source": [
    "## 3. Relación entre el riesgo y resultado, ¿los más riesgosos no pasan la insepección?"
   ]
  },
  {
   "cell_type": "code",
   "execution_count": null,
   "metadata": {
    "hidden": true
   },
   "outputs": [],
   "source": [
    "rr=df.groupby(['results','risk']).size().reset_index(name=\"counts\")\n",
    "rr=rr.pivot(\"results\", \"risk\",\"counts\")\n",
    "rr=rr.fillna(0)\n",
    "rr['Total']=rr.sum(1)\n",
    "rr =rr.sort_values('Risk 1 (High)',ascending=False)\n",
    "rr"
   ]
  },
  {
   "cell_type": "code",
   "execution_count": null,
   "metadata": {
    "hidden": true
   },
   "outputs": [],
   "source": [
    "prop=round(rr.iloc[:,0:4].apply(lambda x: x/x.sum()*100, axis=1),2)\n",
    "prop"
   ]
  },
  {
   "cell_type": "code",
   "execution_count": null,
   "metadata": {
    "hidden": true
   },
   "outputs": [],
   "source": [
    "prop.plot(kind='bar',stacked=True)"
   ]
  },
  {
   "cell_type": "markdown",
   "metadata": {
    "heading_collapsed": true
   },
   "source": [
    "## 4. ¿Cómo es el comportamiento de las inspecciones en el tiempo?"
   ]
  },
  {
   "cell_type": "markdown",
   "metadata": {
    "hidden": true
   },
   "source": [
    "Se separa inspection_date en tres diferentes columnas: day, month, year y las agrega al dataframe:"
   ]
  },
  {
   "cell_type": "code",
   "execution_count": null,
   "metadata": {
    "hidden": true
   },
   "outputs": [],
   "source": [
    "fecha= df.inspection_date.str.split(\"/\", n=2,expand=True)\n",
    "df['day']=fecha[1]\n",
    "df['month']=fecha[0]\n",
    "df['year']=fecha[2]"
   ]
  },
  {
   "cell_type": "code",
   "execution_count": null,
   "metadata": {
    "hidden": true
   },
   "outputs": [],
   "source": [
    "df['inspection_date'] = pd.to_datetime(df['inspection_date'])"
   ]
  },
  {
   "cell_type": "code",
   "execution_count": null,
   "metadata": {
    "hidden": true
   },
   "outputs": [],
   "source": [
    "# Columnas de year, month y counts\n",
    "fecha_separated = df.groupby(['year','month']).size().reset_index(name=\"conteos\")\n",
    "# Hacemos tabla donde las columnas son años y las filas mes \n",
    "fecha_separated_p = fecha_separated.pivot(\"month\", \"year\",\"conteos\")\n",
    "# Graficamos \n",
    "sns.set(style='whitegrid',rc={'figure.figsize':(10,10)},palette='Set3')\n",
    "h =sns.lineplot(data=fecha_separated_p,linewidth = 3,dashes=False)\n",
    "plt.legend(fontsize='x-large', title_fontsize='40',loc='lower right')\n",
    "h.set(xlabel='Meses',ylabel='Conteos de Inspecciones')\n",
    "plt.show()"
   ]
  },
  {
   "cell_type": "markdown",
   "metadata": {
    "heading_collapsed": true
   },
   "source": [
    "## 5. ¿Cómo es el comportamiento por tipo de resultados en el tiempo?"
   ]
  },
  {
   "cell_type": "code",
   "execution_count": null,
   "metadata": {
    "hidden": true
   },
   "outputs": [],
   "source": [
    "fecha_separated2 = df.groupby(['year','month','results']).size().reset_index(name=\"counts\")\n",
    "fecha_separated2['date']= fecha_separated2['year']+'-'+fecha_separated2['month']\n",
    "g=fecha_separated2.drop(['year','month'],1)\n",
    "g=g.set_index('date')\n",
    "sns.set(style='whitegrid',rc={'figure.figsize':(20,10)},palette='Set2')\n",
    "sns.lineplot(x='date',y='counts',hue='results',data=g,linewidth = 2)\n",
    "plt.xticks(rotation= 90,size=8)\n",
    "plt.show()"
   ]
  },
  {
   "cell_type": "markdown",
   "metadata": {
    "hidden": true
   },
   "source": [
    "Se muestra el comportamiento anterior en porcentaje de inspecciones:"
   ]
  },
  {
   "cell_type": "code",
   "execution_count": null,
   "metadata": {
    "hidden": true
   },
   "outputs": [],
   "source": [
    "g2=fecha_separated2.drop(['year','month'],1)\n",
    "g2=g2.pivot(\"date\", \"results\",\"counts\")\n",
    "g2=g2.fillna(0)\n",
    "g2['total']=g2.sum(1)\n",
    "prop2=round(g2.iloc[:,0:5].apply(lambda x: x/x.sum()*100, axis=1),2)\n",
    "sns.set(style='whitegrid',rc={'figure.figsize':(20,10)},palette='Set2')\n",
    "h =sns.lineplot(data=prop2,linewidth = 2,dashes=False,marker='o')\n",
    "plt.xticks(rotation= 90)\n",
    "plt.legend(fontsize='x-large', title_fontsize='40')\n",
    "plt.show()"
   ]
  },
  {
   "cell_type": "markdown",
   "metadata": {
    "heading_collapsed": true
   },
   "source": [
    "## 6. ¿Es importante la temporalidad de año, mes y día para las inspecciones?"
   ]
  },
  {
   "cell_type": "markdown",
   "metadata": {
    "hidden": true
   },
   "source": [
    "Con variable inspection_date en formato tiempo creamos conteos del número de inspecciones hechas por día:"
   ]
  },
  {
   "cell_type": "code",
   "execution_count": null,
   "metadata": {
    "hidden": true
   },
   "outputs": [],
   "source": [
    "conteos_fechas = df.groupby(['inspection_date']).size().reset_index(name='conteos')\n",
    "# hacemos que inspection_date sea el identificador de las filas\n",
    "conteos_fechas = conteos_fechas.set_index('inspection_date')\n"
   ]
  },
  {
   "cell_type": "code",
   "execution_count": null,
   "metadata": {
    "hidden": true
   },
   "outputs": [],
   "source": [
    "# Separamos los días, meses, años\n",
    "conteos_fechas.insert(1, 'year', conteos_fechas.index.year)\n",
    "conteos_fechas.insert(2, 'month', conteos_fechas.index.month)\n",
    "conteos_fechas.insert(3, 'day', conteos_fechas.index.day)\n",
    "conteos_fechas = conteos_fechas.copy()"
   ]
  },
  {
   "cell_type": "code",
   "execution_count": null,
   "metadata": {
    "hidden": true
   },
   "outputs": [],
   "source": [
    "# Graficamos\n",
    "fig, axs = plt.subplots(figsize=(30,20),ncols=6, nrows=2)\n",
    "heatmaps(conteos_fechas,2010,axs[0][0],'no','Day')\n",
    "heatmaps(conteos_fechas,2011,axs[0][1],'no','')\n",
    "heatmaps(conteos_fechas,2012,axs[0][2],'no','')\n",
    "heatmaps(conteos_fechas,2013,axs[0][3],'no','')\n",
    "heatmaps(conteos_fechas,2014,axs[0][4],'no','')\n",
    "heatmaps(conteos_fechas,2015,axs[0][5],'yes','')\n",
    "heatmaps(conteos_fechas,2016,axs[1][0],'no','')\n",
    "heatmaps(conteos_fechas,2017,axs[1][1],'no','')\n",
    "heatmaps(conteos_fechas,2018,axs[1][2],'no','')\n",
    "heatmaps(conteos_fechas,2019,axs[1][3],'no','')\n",
    "heatmaps(conteos_fechas,2020,axs[1][4],'no','')\n",
    "heatmaps(conteos_fechas,2021,axs[1][5],'yes','')"
   ]
  },
  {
   "cell_type": "markdown",
   "metadata": {
    "hidden": true
   },
   "source": [
    "**Vemos si para si existe un patrón temporal en el universo de inspecciones que resultaron como reprobadas (Results=\"Fail\"):**"
   ]
  },
  {
   "cell_type": "code",
   "execution_count": null,
   "metadata": {
    "hidden": true
   },
   "outputs": [],
   "source": [
    "fail=df[df.results==\"Fail\"]\n",
    "len(fail)"
   ]
  },
  {
   "cell_type": "code",
   "execution_count": null,
   "metadata": {
    "hidden": true
   },
   "outputs": [],
   "source": [
    "conteos_f = fail.groupby(['inspection_date']).size().reset_index(name='conteos')\n",
    "conteos_f= conteos_f.set_index('inspection_date')\n",
    "conteos_f.insert(1, 'year', conteos_f.index.year)\n",
    "conteos_f.insert(2, 'month', conteos_f.index.month)\n",
    "conteos_f.insert(3, 'day', conteos_f.index.day)\n",
    "conteos_f = conteos_f.copy()"
   ]
  },
  {
   "cell_type": "code",
   "execution_count": null,
   "metadata": {
    "hidden": true
   },
   "outputs": [],
   "source": [
    "fig, axs = plt.subplots(figsize=(30,20),ncols=6, nrows=2)\n",
    "heatmaps(conteos_f,2010,axs[0][0],'no','Day')\n",
    "heatmaps(conteos_f,2011,axs[0][1],'no','')\n",
    "heatmaps(conteos_f,2012,axs[0][2],'no','')\n",
    "heatmaps(conteos_f,2013,axs[0][3],'no','')\n",
    "heatmaps(conteos_f,2014,axs[0][4],'no','')\n",
    "heatmaps(conteos_f,2015,axs[0][5],'yes','')\n",
    "heatmaps(conteos_f,2016,axs[1][0],'no','Day')\n",
    "heatmaps(conteos_f,2017,axs[1][1],'no','')\n",
    "heatmaps(conteos_f,2018,axs[1][2],'no','')\n",
    "heatmaps(conteos_f,2019,axs[1][3],'no','')\n",
    "heatmaps(conteos_f,2020,axs[1][4],'yes','')\n",
    "heatmaps(conteos_f,2021,axs[1][5],'yes','')"
   ]
  },
  {
   "cell_type": "markdown",
   "metadata": {
    "heading_collapsed": true
   },
   "source": [
    "## 7. Mapa"
   ]
  },
  {
   "cell_type": "code",
   "execution_count": null,
   "metadata": {
    "hidden": true
   },
   "outputs": [],
   "source": [
    "sns.set(style='whitegrid',rc={'figure.figsize':(20,10)},palette='Set1')\n",
    "s = sns.lmplot(x='longitude',y='latitude',data=df,hue='results',col='results',fit_reg=False,height=6,\n",
    "               scatter_kws={\"s\":1,\"alpha\":.5})"
   ]
  },
  {
   "cell_type": "code",
   "execution_count": null,
   "metadata": {
    "hidden": true
   },
   "outputs": [],
   "source": [
    "cols = ['Results','Latitude','Longitude']\n",
    "rest = pd.read_csv('../data/Food_Inspections.csv', usecols=cols)"
   ]
  },
  {
   "cell_type": "markdown",
   "metadata": {
    "hidden": true
   },
   "source": [
    "Eliminamos los registros sin coordenadas completas:"
   ]
  },
  {
   "cell_type": "code",
   "execution_count": null,
   "metadata": {
    "hidden": true
   },
   "outputs": [],
   "source": [
    "rest = rest.dropna(subset=['Latitude'])\n",
    "rest = rest.dropna(subset=['Longitude'])"
   ]
  },
  {
   "cell_type": "markdown",
   "metadata": {
    "hidden": true
   },
   "source": [
    "Filtramos únicamente aquellos registros que pasaron o no pasaron la prueba"
   ]
  },
  {
   "cell_type": "code",
   "execution_count": null,
   "metadata": {
    "hidden": true
   },
   "outputs": [],
   "source": [
    "passed = rest[rest['Results']=='Pass']\n",
    "failed = rest[rest['Results']=='Fail']"
   ]
  },
  {
   "cell_type": "code",
   "execution_count": null,
   "metadata": {
    "hidden": true
   },
   "outputs": [],
   "source": [
    "len(passed), len(failed)"
   ]
  },
  {
   "cell_type": "markdown",
   "metadata": {
    "hidden": true
   },
   "source": [
    "Imagen de la ciudad de chicago:"
   ]
  },
  {
   "cell_type": "code",
   "execution_count": null,
   "metadata": {
    "hidden": true
   },
   "outputs": [],
   "source": [
    "chicago = plt.imread('../images/chicago.png')"
   ]
  },
  {
   "cell_type": "code",
   "execution_count": null,
   "metadata": {
    "hidden": true
   },
   "outputs": [],
   "source": [
    "boundires = ((rest.Longitude.min(),   rest.Longitude.max(),      \n",
    "         rest.Latitude.min(), rest.Latitude.max()))"
   ]
  },
  {
   "cell_type": "code",
   "execution_count": null,
   "metadata": {
    "hidden": true
   },
   "outputs": [],
   "source": [
    "fig, ax = plt.subplots(1,2, sharex=True, sharey=True, figsize = (20,20))\n",
    "\n",
    "ax[0].scatter(passed.Longitude, passed.Latitude, zorder=2, alpha=0.1, c='b', s=2)\n",
    "ax[0].imshow(chicago, zorder=0, extent=boundires, aspect='equal')\n",
    "ax[0].title.set_text('Results: Pass')\n",
    "\n",
    "ax[1].scatter(failed.Longitude, failed.Latitude, zorder=2, alpha=0.1, c='r', s=2)\n",
    "ax[1].imshow(chicago, zorder=0, extent=boundires, aspect='equal')\n",
    "ax[1].title.set_text('Results: Fail')\n",
    "\n",
    "plt.show()"
   ]
  },
  {
   "cell_type": "markdown",
   "metadata": {
    "hidden": true
   },
   "source": [
    "---\n",
    "---"
   ]
  }
 ],
 "metadata": {
  "celltoolbar": "Initialization Cell",
  "kernelspec": {
   "display_name": "Python 3",
   "language": "python",
   "name": "python3"
  },
  "language_info": {
   "codemirror_mode": {
    "name": "ipython",
    "version": 3
   },
   "file_extension": ".py",
   "mimetype": "text/x-python",
   "name": "python",
   "nbconvert_exporter": "python",
   "pygments_lexer": "ipython3",
   "version": "3.8.5"
  },
  "notify_time": "5",
  "toc": {
   "base_numbering": 1,
   "nav_menu": {},
   "number_sections": true,
   "sideBar": true,
   "skip_h1_title": false,
   "title_cell": "Table of Contents",
   "title_sidebar": "Contents",
   "toc_cell": false,
   "toc_position": {},
   "toc_section_display": true,
   "toc_window_display": false
  }
 },
 "nbformat": 4,
 "nbformat_minor": 4
}
