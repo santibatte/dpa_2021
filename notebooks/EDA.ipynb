{
 "cells": [
  {
   "cell_type": "markdown",
   "metadata": {},
   "source": [
    "# Data Product Arquitecture - Food Inspections Project"
   ]
  },
  {
   "cell_type": "markdown",
   "metadata": {},
   "source": [
    "Team:\n",
    "\n",
    "* Jóse Roberto Pérez - 173013\n",
    "* Santiago Battezzati - 197727\n",
    "* Carlos Geovany Pérez - 197614\n",
    "* Mariana Lugo - 118626"
   ]
  },
  {
   "cell_type": "markdown",
   "metadata": {},
   "source": [
    "## Imports"
   ]
  },
  {
   "cell_type": "markdown",
   "metadata": {},
   "source": [
    "#### Standard library imports"
   ]
  },
  {
   "cell_type": "code",
   "execution_count": 109,
   "metadata": {
    "ExecuteTime": {
     "end_time": "2021-03-08T00:35:22.746725Z",
     "start_time": "2021-03-08T00:35:22.652937Z"
    },
    "init_cell": true
   },
   "outputs": [],
   "source": [
    "import os\n",
    "import sys\n",
    "from datetime import datetime\n",
    "import re"
   ]
  },
  {
   "cell_type": "markdown",
   "metadata": {},
   "source": [
    "#### Third party imports"
   ]
  },
  {
   "cell_type": "code",
   "execution_count": 2,
   "metadata": {
    "ExecuteTime": {
     "end_time": "2021-03-08T00:03:14.484136Z",
     "start_time": "2021-03-08T00:03:12.639112Z"
    },
    "init_cell": true
   },
   "outputs": [],
   "source": [
    "import pandas as pd\n",
    "from pandas_profiling import ProfileReport\n",
    "pd.options.display.max_columns = 25\n",
    "\n",
    "import matplotlib.pyplot as plt\n",
    "import seaborn as sns"
   ]
  },
  {
   "cell_type": "markdown",
   "metadata": {},
   "source": [
    "#### Local application imports"
   ]
  },
  {
   "cell_type": "code",
   "execution_count": 3,
   "metadata": {
    "ExecuteTime": {
     "end_time": "2021-03-08T00:03:14.489174Z",
     "start_time": "2021-03-08T00:03:14.485720Z"
    },
    "init_cell": true
   },
   "outputs": [],
   "source": [
    "sys.path.append(\"../\")"
   ]
  },
  {
   "cell_type": "code",
   "execution_count": 4,
   "metadata": {
    "ExecuteTime": {
     "end_time": "2021-03-08T00:03:14.781283Z",
     "start_time": "2021-03-08T00:03:14.492737Z"
    },
    "init_cell": true
   },
   "outputs": [],
   "source": [
    "%reload_ext autoreload\n",
    "%autoreload 2\n",
    "\n",
    "from src.utils.utils import *"
   ]
  },
  {
   "cell_type": "markdown",
   "metadata": {},
   "source": [
    "---"
   ]
  },
  {
   "cell_type": "markdown",
   "metadata": {},
   "source": [
    "## Importing and cleaning data\n",
    "Food Inspections in Chicago: https://data.cityofchicago.org/Health-Human-Services/Food-Inspections/4ijn-s7e5"
   ]
  },
  {
   "cell_type": "code",
   "execution_count": 5,
   "metadata": {
    "ExecuteTime": {
     "end_time": "2021-03-08T00:03:16.924737Z",
     "start_time": "2021-03-08T00:03:14.782933Z"
    },
    "init_cell": true
   },
   "outputs": [
    {
     "data": {
      "text/html": [
       "<div>\n",
       "<style scoped>\n",
       "    .dataframe tbody tr th:only-of-type {\n",
       "        vertical-align: middle;\n",
       "    }\n",
       "\n",
       "    .dataframe tbody tr th {\n",
       "        vertical-align: top;\n",
       "    }\n",
       "\n",
       "    .dataframe thead th {\n",
       "        text-align: right;\n",
       "    }\n",
       "</style>\n",
       "<table border=\"1\" class=\"dataframe\">\n",
       "  <thead>\n",
       "    <tr style=\"text-align: right;\">\n",
       "      <th></th>\n",
       "      <th>Inspection ID</th>\n",
       "      <th>DBA Name</th>\n",
       "      <th>AKA Name</th>\n",
       "      <th>License #</th>\n",
       "      <th>Facility Type</th>\n",
       "      <th>Risk</th>\n",
       "      <th>Address</th>\n",
       "      <th>City</th>\n",
       "      <th>State</th>\n",
       "      <th>Zip</th>\n",
       "      <th>Inspection Date</th>\n",
       "      <th>Inspection Type</th>\n",
       "      <th>Results</th>\n",
       "      <th>Violations</th>\n",
       "      <th>Latitude</th>\n",
       "      <th>Longitude</th>\n",
       "      <th>Location</th>\n",
       "    </tr>\n",
       "  </thead>\n",
       "  <tbody>\n",
       "    <tr>\n",
       "      <th>0</th>\n",
       "      <td>2453552</td>\n",
       "      <td>CLAMP DOWN BURGERS</td>\n",
       "      <td>NaN</td>\n",
       "      <td>2749943.0</td>\n",
       "      <td>NaN</td>\n",
       "      <td>Risk 2 (Medium)</td>\n",
       "      <td>1742 W DIVISION ST</td>\n",
       "      <td>CHICAGO</td>\n",
       "      <td>IL</td>\n",
       "      <td>60622.0</td>\n",
       "      <td>10/20/2020</td>\n",
       "      <td>License</td>\n",
       "      <td>No Entry</td>\n",
       "      <td>NaN</td>\n",
       "      <td>41.903387</td>\n",
       "      <td>-87.671740</td>\n",
       "      <td>(-87.67174026586648, 41.903386755553484)</td>\n",
       "    </tr>\n",
       "    <tr>\n",
       "      <th>1</th>\n",
       "      <td>2386633</td>\n",
       "      <td>JIN JU</td>\n",
       "      <td>JIN JU</td>\n",
       "      <td>27137.0</td>\n",
       "      <td>Restaurant</td>\n",
       "      <td>Risk 1 (High)</td>\n",
       "      <td>5203 N CLARK ST</td>\n",
       "      <td>CHICAGO</td>\n",
       "      <td>IL</td>\n",
       "      <td>60640.0</td>\n",
       "      <td>08/28/2020</td>\n",
       "      <td>Canvass</td>\n",
       "      <td>No Entry</td>\n",
       "      <td>NaN</td>\n",
       "      <td>41.976301</td>\n",
       "      <td>-87.668276</td>\n",
       "      <td>(-87.66827593789948, 41.97630115368914)</td>\n",
       "    </tr>\n",
       "    <tr>\n",
       "      <th>2</th>\n",
       "      <td>2386595</td>\n",
       "      <td>LA BIZNAGA #2</td>\n",
       "      <td>LA BIZNAGA #2</td>\n",
       "      <td>2708992.0</td>\n",
       "      <td>NaN</td>\n",
       "      <td>Risk 1 (High)</td>\n",
       "      <td>2949 W BELMONT AVE</td>\n",
       "      <td>CHICAGO</td>\n",
       "      <td>IL</td>\n",
       "      <td>60618.0</td>\n",
       "      <td>08/27/2020</td>\n",
       "      <td>Complaint</td>\n",
       "      <td>No Entry</td>\n",
       "      <td>NaN</td>\n",
       "      <td>41.939256</td>\n",
       "      <td>-87.702270</td>\n",
       "      <td>(-87.70226967930802, 41.939255926667535)</td>\n",
       "    </tr>\n",
       "    <tr>\n",
       "      <th>3</th>\n",
       "      <td>2386464</td>\n",
       "      <td>Uni Sushi Bristo</td>\n",
       "      <td>Uni Sushi Bistro</td>\n",
       "      <td>2262637.0</td>\n",
       "      <td>Restaurant</td>\n",
       "      <td>Risk 1 (High)</td>\n",
       "      <td>1752 W NORTH AVE</td>\n",
       "      <td>CHICAGO</td>\n",
       "      <td>IL</td>\n",
       "      <td>60622.0</td>\n",
       "      <td>08/25/2020</td>\n",
       "      <td>Complaint</td>\n",
       "      <td>No Entry</td>\n",
       "      <td>NaN</td>\n",
       "      <td>41.910676</td>\n",
       "      <td>-87.672205</td>\n",
       "      <td>(-87.67220465807979, 41.91067561170382)</td>\n",
       "    </tr>\n",
       "    <tr>\n",
       "      <th>4</th>\n",
       "      <td>2386398</td>\n",
       "      <td>KIKI'S BISTRO</td>\n",
       "      <td>KIKI'S BISTRO</td>\n",
       "      <td>22899.0</td>\n",
       "      <td>Restaurant</td>\n",
       "      <td>Risk 1 (High)</td>\n",
       "      <td>900 N FRANKLIN ST</td>\n",
       "      <td>CHICAGO</td>\n",
       "      <td>IL</td>\n",
       "      <td>60610.0</td>\n",
       "      <td>08/24/2020</td>\n",
       "      <td>Canvass</td>\n",
       "      <td>No Entry</td>\n",
       "      <td>NaN</td>\n",
       "      <td>41.898998</td>\n",
       "      <td>-87.635921</td>\n",
       "      <td>(-87.63592067312285, 41.89899799424835)</td>\n",
       "    </tr>\n",
       "  </tbody>\n",
       "</table>\n",
       "</div>"
      ],
      "text/plain": [
       "   Inspection ID            DBA Name          AKA Name  License #  \\\n",
       "0        2453552  CLAMP DOWN BURGERS               NaN  2749943.0   \n",
       "1        2386633              JIN JU            JIN JU    27137.0   \n",
       "2        2386595       LA BIZNAGA #2     LA BIZNAGA #2  2708992.0   \n",
       "3        2386464    Uni Sushi Bristo  Uni Sushi Bistro  2262637.0   \n",
       "4        2386398       KIKI'S BISTRO     KIKI'S BISTRO    22899.0   \n",
       "\n",
       "  Facility Type             Risk              Address     City State      Zip  \\\n",
       "0           NaN  Risk 2 (Medium)  1742 W DIVISION ST   CHICAGO    IL  60622.0   \n",
       "1    Restaurant    Risk 1 (High)     5203 N CLARK ST   CHICAGO    IL  60640.0   \n",
       "2           NaN    Risk 1 (High)  2949 W BELMONT AVE   CHICAGO    IL  60618.0   \n",
       "3    Restaurant    Risk 1 (High)    1752 W NORTH AVE   CHICAGO    IL  60622.0   \n",
       "4    Restaurant    Risk 1 (High)   900 N FRANKLIN ST   CHICAGO    IL  60610.0   \n",
       "\n",
       "  Inspection Date Inspection Type   Results Violations   Latitude  Longitude  \\\n",
       "0      10/20/2020         License  No Entry        NaN  41.903387 -87.671740   \n",
       "1      08/28/2020         Canvass  No Entry        NaN  41.976301 -87.668276   \n",
       "2      08/27/2020       Complaint  No Entry        NaN  41.939256 -87.702270   \n",
       "3      08/25/2020       Complaint  No Entry        NaN  41.910676 -87.672205   \n",
       "4      08/24/2020         Canvass  No Entry        NaN  41.898998 -87.635921   \n",
       "\n",
       "                                   Location  \n",
       "0  (-87.67174026586648, 41.903386755553484)  \n",
       "1   (-87.66827593789948, 41.97630115368914)  \n",
       "2  (-87.70226967930802, 41.939255926667535)  \n",
       "3   (-87.67220465807979, 41.91067561170382)  \n",
       "4   (-87.63592067312285, 41.89899799424835)  "
      ]
     },
     "execution_count": 5,
     "metadata": {},
     "output_type": "execute_result"
    }
   ],
   "source": [
    "df = pd.read_csv('../data/raw/Food_Inspections.csv')\n",
    "df.head()"
   ]
  },
  {
   "cell_type": "markdown",
   "metadata": {},
   "source": [
    "**Limpieza de nombres de las columnas:**"
   ]
  },
  {
   "cell_type": "code",
   "execution_count": 6,
   "metadata": {
    "ExecuteTime": {
     "end_time": "2021-03-08T00:03:19.101672Z",
     "start_time": "2021-03-08T00:03:19.044593Z"
    },
    "init_cell": true,
    "scrolled": true
   },
   "outputs": [
    {
     "data": {
      "text/html": [
       "<div>\n",
       "<style scoped>\n",
       "    .dataframe tbody tr th:only-of-type {\n",
       "        vertical-align: middle;\n",
       "    }\n",
       "\n",
       "    .dataframe tbody tr th {\n",
       "        vertical-align: top;\n",
       "    }\n",
       "\n",
       "    .dataframe thead th {\n",
       "        text-align: right;\n",
       "    }\n",
       "</style>\n",
       "<table border=\"1\" class=\"dataframe\">\n",
       "  <thead>\n",
       "    <tr style=\"text-align: right;\">\n",
       "      <th></th>\n",
       "      <th>inspection_id</th>\n",
       "      <th>dba_name</th>\n",
       "      <th>aka_name</th>\n",
       "      <th>license_#</th>\n",
       "      <th>facility_type</th>\n",
       "      <th>risk</th>\n",
       "      <th>address</th>\n",
       "      <th>city</th>\n",
       "      <th>state</th>\n",
       "      <th>zip</th>\n",
       "      <th>inspection_date</th>\n",
       "      <th>inspection_type</th>\n",
       "      <th>results</th>\n",
       "      <th>violations</th>\n",
       "      <th>latitude</th>\n",
       "      <th>longitude</th>\n",
       "      <th>location</th>\n",
       "    </tr>\n",
       "  </thead>\n",
       "  <tbody>\n",
       "    <tr>\n",
       "      <th>0</th>\n",
       "      <td>2453552</td>\n",
       "      <td>CLAMP DOWN BURGERS</td>\n",
       "      <td>NaN</td>\n",
       "      <td>2749943.0</td>\n",
       "      <td>NaN</td>\n",
       "      <td>Risk 2 (Medium)</td>\n",
       "      <td>1742 W DIVISION ST</td>\n",
       "      <td>CHICAGO</td>\n",
       "      <td>IL</td>\n",
       "      <td>60622.0</td>\n",
       "      <td>10/20/2020</td>\n",
       "      <td>License</td>\n",
       "      <td>No Entry</td>\n",
       "      <td>NaN</td>\n",
       "      <td>41.903387</td>\n",
       "      <td>-87.671740</td>\n",
       "      <td>(-87.67174026586648, 41.903386755553484)</td>\n",
       "    </tr>\n",
       "    <tr>\n",
       "      <th>1</th>\n",
       "      <td>2386633</td>\n",
       "      <td>JIN JU</td>\n",
       "      <td>JIN JU</td>\n",
       "      <td>27137.0</td>\n",
       "      <td>Restaurant</td>\n",
       "      <td>Risk 1 (High)</td>\n",
       "      <td>5203 N CLARK ST</td>\n",
       "      <td>CHICAGO</td>\n",
       "      <td>IL</td>\n",
       "      <td>60640.0</td>\n",
       "      <td>08/28/2020</td>\n",
       "      <td>Canvass</td>\n",
       "      <td>No Entry</td>\n",
       "      <td>NaN</td>\n",
       "      <td>41.976301</td>\n",
       "      <td>-87.668276</td>\n",
       "      <td>(-87.66827593789948, 41.97630115368914)</td>\n",
       "    </tr>\n",
       "    <tr>\n",
       "      <th>2</th>\n",
       "      <td>2386595</td>\n",
       "      <td>LA BIZNAGA #2</td>\n",
       "      <td>LA BIZNAGA #2</td>\n",
       "      <td>2708992.0</td>\n",
       "      <td>NaN</td>\n",
       "      <td>Risk 1 (High)</td>\n",
       "      <td>2949 W BELMONT AVE</td>\n",
       "      <td>CHICAGO</td>\n",
       "      <td>IL</td>\n",
       "      <td>60618.0</td>\n",
       "      <td>08/27/2020</td>\n",
       "      <td>Complaint</td>\n",
       "      <td>No Entry</td>\n",
       "      <td>NaN</td>\n",
       "      <td>41.939256</td>\n",
       "      <td>-87.702270</td>\n",
       "      <td>(-87.70226967930802, 41.939255926667535)</td>\n",
       "    </tr>\n",
       "    <tr>\n",
       "      <th>3</th>\n",
       "      <td>2386464</td>\n",
       "      <td>Uni Sushi Bristo</td>\n",
       "      <td>Uni Sushi Bistro</td>\n",
       "      <td>2262637.0</td>\n",
       "      <td>Restaurant</td>\n",
       "      <td>Risk 1 (High)</td>\n",
       "      <td>1752 W NORTH AVE</td>\n",
       "      <td>CHICAGO</td>\n",
       "      <td>IL</td>\n",
       "      <td>60622.0</td>\n",
       "      <td>08/25/2020</td>\n",
       "      <td>Complaint</td>\n",
       "      <td>No Entry</td>\n",
       "      <td>NaN</td>\n",
       "      <td>41.910676</td>\n",
       "      <td>-87.672205</td>\n",
       "      <td>(-87.67220465807979, 41.91067561170382)</td>\n",
       "    </tr>\n",
       "    <tr>\n",
       "      <th>4</th>\n",
       "      <td>2386398</td>\n",
       "      <td>KIKI'S BISTRO</td>\n",
       "      <td>KIKI'S BISTRO</td>\n",
       "      <td>22899.0</td>\n",
       "      <td>Restaurant</td>\n",
       "      <td>Risk 1 (High)</td>\n",
       "      <td>900 N FRANKLIN ST</td>\n",
       "      <td>CHICAGO</td>\n",
       "      <td>IL</td>\n",
       "      <td>60610.0</td>\n",
       "      <td>08/24/2020</td>\n",
       "      <td>Canvass</td>\n",
       "      <td>No Entry</td>\n",
       "      <td>NaN</td>\n",
       "      <td>41.898998</td>\n",
       "      <td>-87.635921</td>\n",
       "      <td>(-87.63592067312285, 41.89899799424835)</td>\n",
       "    </tr>\n",
       "    <tr>\n",
       "      <th>...</th>\n",
       "      <td>...</td>\n",
       "      <td>...</td>\n",
       "      <td>...</td>\n",
       "      <td>...</td>\n",
       "      <td>...</td>\n",
       "      <td>...</td>\n",
       "      <td>...</td>\n",
       "      <td>...</td>\n",
       "      <td>...</td>\n",
       "      <td>...</td>\n",
       "      <td>...</td>\n",
       "      <td>...</td>\n",
       "      <td>...</td>\n",
       "      <td>...</td>\n",
       "      <td>...</td>\n",
       "      <td>...</td>\n",
       "      <td>...</td>\n",
       "    </tr>\n",
       "    <tr>\n",
       "      <th>215062</th>\n",
       "      <td>229233</td>\n",
       "      <td>ZULLO'S MARKETS, LLC</td>\n",
       "      <td>ZULLO'S MARKET</td>\n",
       "      <td>2016915.0</td>\n",
       "      <td>Restaurant</td>\n",
       "      <td>Risk 2 (Medium)</td>\n",
       "      <td>131 N Clinton ST</td>\n",
       "      <td>CHICAGO</td>\n",
       "      <td>IL</td>\n",
       "      <td>60661.0</td>\n",
       "      <td>02/18/2010</td>\n",
       "      <td>License</td>\n",
       "      <td>Fail</td>\n",
       "      <td>NaN</td>\n",
       "      <td>41.884188</td>\n",
       "      <td>-87.641120</td>\n",
       "      <td>(-87.64111966683218, 41.884187507127805)</td>\n",
       "    </tr>\n",
       "    <tr>\n",
       "      <th>215063</th>\n",
       "      <td>68205</td>\n",
       "      <td>LA FONDA CHIQUITA TLC</td>\n",
       "      <td>LA FONDA CHIQUITA</td>\n",
       "      <td>2017215.0</td>\n",
       "      <td>Restaurant</td>\n",
       "      <td>Risk 1 (High)</td>\n",
       "      <td>5940 W DIVERSEY AVE</td>\n",
       "      <td>CHICAGO</td>\n",
       "      <td>IL</td>\n",
       "      <td>60639.0</td>\n",
       "      <td>02/09/2010</td>\n",
       "      <td>License</td>\n",
       "      <td>Fail</td>\n",
       "      <td>12. HAND WASHING FACILITIES: WITH SOAP AND SAN...</td>\n",
       "      <td>41.931260</td>\n",
       "      <td>-87.775203</td>\n",
       "      <td>(-87.77520287598688, 41.93125971874477)</td>\n",
       "    </tr>\n",
       "    <tr>\n",
       "      <th>215064</th>\n",
       "      <td>88234</td>\n",
       "      <td>KABAB CUISINE 2</td>\n",
       "      <td>KABAB CUISINE 2</td>\n",
       "      <td>2014076.0</td>\n",
       "      <td>Restaurant</td>\n",
       "      <td>Risk 1 (High)</td>\n",
       "      <td>6320 N LINCOLN AVE</td>\n",
       "      <td>CHICAGO</td>\n",
       "      <td>IL</td>\n",
       "      <td>60659.0</td>\n",
       "      <td>02/01/2010</td>\n",
       "      <td>License Re-Inspection</td>\n",
       "      <td>Pass</td>\n",
       "      <td>NaN</td>\n",
       "      <td>41.996139</td>\n",
       "      <td>-87.716968</td>\n",
       "      <td>(-87.71696834498202, 41.996139331170895)</td>\n",
       "    </tr>\n",
       "    <tr>\n",
       "      <th>215065</th>\n",
       "      <td>74311</td>\n",
       "      <td>MARGARITA DISTRIBUTORS</td>\n",
       "      <td>NaN</td>\n",
       "      <td>2017298.0</td>\n",
       "      <td>Wholesale</td>\n",
       "      <td>Risk 3 (Low)</td>\n",
       "      <td>2332 S BLUE ISLAND AVE BLDG</td>\n",
       "      <td>CHICAGO</td>\n",
       "      <td>IL</td>\n",
       "      <td>60608.0</td>\n",
       "      <td>02/19/2010</td>\n",
       "      <td>License Re-Inspection</td>\n",
       "      <td>Pass</td>\n",
       "      <td>NaN</td>\n",
       "      <td>41.849940</td>\n",
       "      <td>-87.672421</td>\n",
       "      <td>(-87.67242100722251, 41.84994008002549)</td>\n",
       "    </tr>\n",
       "    <tr>\n",
       "      <th>215066</th>\n",
       "      <td>67838</td>\n",
       "      <td>OUR LADY OF LOURDES</td>\n",
       "      <td>OUR LADY OF LOURDES</td>\n",
       "      <td>42577.0</td>\n",
       "      <td>Daycare (Under 2 Years)</td>\n",
       "      <td>Risk 1 (High)</td>\n",
       "      <td>1449 S KEELER AVE</td>\n",
       "      <td>CHICAGO</td>\n",
       "      <td>IL</td>\n",
       "      <td>60623.0</td>\n",
       "      <td>01/12/2010</td>\n",
       "      <td>Canvass</td>\n",
       "      <td>Fail</td>\n",
       "      <td>18. NO EVIDENCE OF RODENT OR INSECT OUTER OPEN...</td>\n",
       "      <td>41.861003</td>\n",
       "      <td>-87.729762</td>\n",
       "      <td>(-87.72976247742804, 41.861003270876026)</td>\n",
       "    </tr>\n",
       "  </tbody>\n",
       "</table>\n",
       "<p>215067 rows × 17 columns</p>\n",
       "</div>"
      ],
      "text/plain": [
       "        inspection_id                dba_name             aka_name  license_#  \\\n",
       "0             2453552      CLAMP DOWN BURGERS                  NaN  2749943.0   \n",
       "1             2386633                  JIN JU               JIN JU    27137.0   \n",
       "2             2386595           LA BIZNAGA #2        LA BIZNAGA #2  2708992.0   \n",
       "3             2386464        Uni Sushi Bristo     Uni Sushi Bistro  2262637.0   \n",
       "4             2386398           KIKI'S BISTRO        KIKI'S BISTRO    22899.0   \n",
       "...               ...                     ...                  ...        ...   \n",
       "215062         229233    ZULLO'S MARKETS, LLC       ZULLO'S MARKET  2016915.0   \n",
       "215063          68205   LA FONDA CHIQUITA TLC    LA FONDA CHIQUITA  2017215.0   \n",
       "215064          88234         KABAB CUISINE 2      KABAB CUISINE 2  2014076.0   \n",
       "215065          74311  MARGARITA DISTRIBUTORS                  NaN  2017298.0   \n",
       "215066          67838     OUR LADY OF LOURDES  OUR LADY OF LOURDES    42577.0   \n",
       "\n",
       "                  facility_type             risk  \\\n",
       "0                           NaN  Risk 2 (Medium)   \n",
       "1                    Restaurant    Risk 1 (High)   \n",
       "2                           NaN    Risk 1 (High)   \n",
       "3                    Restaurant    Risk 1 (High)   \n",
       "4                    Restaurant    Risk 1 (High)   \n",
       "...                         ...              ...   \n",
       "215062               Restaurant  Risk 2 (Medium)   \n",
       "215063               Restaurant    Risk 1 (High)   \n",
       "215064               Restaurant    Risk 1 (High)   \n",
       "215065                Wholesale     Risk 3 (Low)   \n",
       "215066  Daycare (Under 2 Years)    Risk 1 (High)   \n",
       "\n",
       "                             address     city state      zip inspection_date  \\\n",
       "0                1742 W DIVISION ST   CHICAGO    IL  60622.0      10/20/2020   \n",
       "1                   5203 N CLARK ST   CHICAGO    IL  60640.0      08/28/2020   \n",
       "2                2949 W BELMONT AVE   CHICAGO    IL  60618.0      08/27/2020   \n",
       "3                  1752 W NORTH AVE   CHICAGO    IL  60622.0      08/25/2020   \n",
       "4                 900 N FRANKLIN ST   CHICAGO    IL  60610.0      08/24/2020   \n",
       "...                              ...      ...   ...      ...             ...   \n",
       "215062             131 N Clinton ST   CHICAGO    IL  60661.0      02/18/2010   \n",
       "215063          5940 W DIVERSEY AVE   CHICAGO    IL  60639.0      02/09/2010   \n",
       "215064           6320 N LINCOLN AVE   CHICAGO    IL  60659.0      02/01/2010   \n",
       "215065  2332 S BLUE ISLAND AVE BLDG   CHICAGO    IL  60608.0      02/19/2010   \n",
       "215066            1449 S KEELER AVE   CHICAGO    IL  60623.0      01/12/2010   \n",
       "\n",
       "              inspection_type   results  \\\n",
       "0                     License  No Entry   \n",
       "1                     Canvass  No Entry   \n",
       "2                   Complaint  No Entry   \n",
       "3                   Complaint  No Entry   \n",
       "4                     Canvass  No Entry   \n",
       "...                       ...       ...   \n",
       "215062                License      Fail   \n",
       "215063                License      Fail   \n",
       "215064  License Re-Inspection      Pass   \n",
       "215065  License Re-Inspection      Pass   \n",
       "215066                Canvass      Fail   \n",
       "\n",
       "                                               violations   latitude  \\\n",
       "0                                                     NaN  41.903387   \n",
       "1                                                     NaN  41.976301   \n",
       "2                                                     NaN  41.939256   \n",
       "3                                                     NaN  41.910676   \n",
       "4                                                     NaN  41.898998   \n",
       "...                                                   ...        ...   \n",
       "215062                                                NaN  41.884188   \n",
       "215063  12. HAND WASHING FACILITIES: WITH SOAP AND SAN...  41.931260   \n",
       "215064                                                NaN  41.996139   \n",
       "215065                                                NaN  41.849940   \n",
       "215066  18. NO EVIDENCE OF RODENT OR INSECT OUTER OPEN...  41.861003   \n",
       "\n",
       "        longitude                                  location  \n",
       "0      -87.671740  (-87.67174026586648, 41.903386755553484)  \n",
       "1      -87.668276   (-87.66827593789948, 41.97630115368914)  \n",
       "2      -87.702270  (-87.70226967930802, 41.939255926667535)  \n",
       "3      -87.672205   (-87.67220465807979, 41.91067561170382)  \n",
       "4      -87.635921   (-87.63592067312285, 41.89899799424835)  \n",
       "...           ...                                       ...  \n",
       "215062 -87.641120  (-87.64111966683218, 41.884187507127805)  \n",
       "215063 -87.775203   (-87.77520287598688, 41.93125971874477)  \n",
       "215064 -87.716968  (-87.71696834498202, 41.996139331170895)  \n",
       "215065 -87.672421   (-87.67242100722251, 41.84994008002549)  \n",
       "215066 -87.729762  (-87.72976247742804, 41.861003270876026)  \n",
       "\n",
       "[215067 rows x 17 columns]"
      ]
     },
     "execution_count": 6,
     "metadata": {},
     "output_type": "execute_result"
    }
   ],
   "source": [
    "clean_col_names(df)"
   ]
  },
  {
   "cell_type": "markdown",
   "metadata": {},
   "source": [
    "### Exploración de variables"
   ]
  },
  {
   "cell_type": "raw",
   "metadata": {
    "ExecuteTime": {
     "end_time": "2021-02-01T02:14:02.439989Z",
     "start_time": "2021-02-01T02:14:02.369791Z"
    }
   },
   "source": [
    "profile = ProfileReport(df, title=\"Pandas Profiling Report\")"
   ]
  },
  {
   "cell_type": "markdown",
   "metadata": {},
   "source": [
    "**Número de variables:**"
   ]
  },
  {
   "cell_type": "code",
   "execution_count": null,
   "metadata": {
    "ExecuteTime": {
     "end_time": "2021-02-09T23:20:22.073401Z",
     "start_time": "2021-02-09T23:20:21.994067Z"
    }
   },
   "outputs": [],
   "source": [
    "count_vars(df)"
   ]
  },
  {
   "cell_type": "markdown",
   "metadata": {},
   "source": [
    "**Número de observaciones:**"
   ]
  },
  {
   "cell_type": "code",
   "execution_count": null,
   "metadata": {
    "ExecuteTime": {
     "end_time": "2021-02-09T23:20:22.450473Z",
     "start_time": "2021-02-09T23:20:22.369608Z"
    }
   },
   "outputs": [],
   "source": [
    "count_obs(df)"
   ]
  },
  {
   "cell_type": "markdown",
   "metadata": {},
   "source": [
    "**¿Qué variables son?**"
   ]
  },
  {
   "cell_type": "code",
   "execution_count": null,
   "metadata": {
    "ExecuteTime": {
     "end_time": "2021-02-09T23:20:23.609860Z",
     "start_time": "2021-02-09T23:20:22.849457Z"
    }
   },
   "outputs": [],
   "source": [
    "count_unique_obs(df)"
   ]
  },
  {
   "cell_type": "code",
   "execution_count": null,
   "metadata": {
    "ExecuteTime": {
     "end_time": "2021-02-09T23:20:26.366510Z",
     "start_time": "2021-02-09T23:20:24.507089Z"
    }
   },
   "outputs": [],
   "source": [
    "cat_vars=['dba_name','aka_name','facility_type','risk','address','city','state','inspection_type',\n",
    "          'results','violations']\n",
    "data_profiling_categ(df, cat_vars)"
   ]
  },
  {
   "cell_type": "markdown",
   "metadata": {},
   "source": [
    "### Análisis de texto\n",
    "Issue #13 GitHub"
   ]
  },
  {
   "cell_type": "markdown",
   "metadata": {
    "heading_collapsed": true
   },
   "source": [
    "#### 1. Limpieza de campo `facility_type`"
   ]
  },
  {
   "cell_type": "code",
   "execution_count": 72,
   "metadata": {
    "ExecuteTime": {
     "end_time": "2021-03-08T00:27:31.725796Z",
     "start_time": "2021-03-08T00:27:31.635157Z"
    },
    "hidden": true
   },
   "outputs": [
    {
     "name": "stdout",
     "output_type": "stream",
     "text": [
      "448\n"
     ]
    },
    {
     "data": {
      "text/plain": [
       "array(['nan', 'restaurant', 'children-s_services_facility',\n",
       "       'grocery_store', 'gas_station', 'bakery', 'long_term_care',\n",
       "       'mobile_food_preparer', 'school', 'golden_diner', 'hostel',\n",
       "       'school_cafeteria', 'daycare_-2_-_6_years-',\n",
       "       'daycare_above_and_under_2_years', 'hospital',\n",
       "       'pop-up_establishment_host-tier_ii', 'catering', 'brewery',\n",
       "       'liquor', 'tavern', 'daycare_combo_1586', 'mobile_food_dispenser',\n",
       "       'vending_commissary', 'shared_kitchen_user_-long_term-',\n",
       "       'coffee_shop', 'shared_kitchen', 'liquor-coffee_kiosk',\n",
       "       'supportive_living', 'daycare_-under_2_years-',\n",
       "       'mobile_prepared_food_vendor', 'meat_packing', 'charter_school',\n",
       "       'private_school', 'mobile_frozen_desserts_vendor',\n",
       "       'grocery_store-cooking_school', 'church_-special_events-',\n",
       "       'special_event', 'stadium', 'wholesale',\n",
       "       'restaurant-grocery_store', 'bar', 'distribution_center',\n",
       "       'wrigley_roof_top', 'daycare', 'prepacakaged_foods',\n",
       "       'daycare_2_yrs_to_12_yrs', 'other', '1023', 'banquet_hall',\n",
       "       'grocery-drug_store', 'push_carts', 'cooking_school',\n",
       "       'liquor_store', 'childern-s_services__facility', 'theater',\n",
       "       'brewpub', 'church', 'wine_store', 'coffee_cart', 'movie_theater',\n",
       "       'restaurant-bar', 'banquet_facility', 'roof_top',\n",
       "       'mobile_frozen_dessert_vendor', 'bar-grill',\n",
       "       'shared_kitchen_user_-short_term-', 'shelter',\n",
       "       'culinary_arts_school', 'custom_poultry_slaughter', 'tavern_grill',\n",
       "       'grocery-restaurant', 'movie_theatre', 'tavern-liquor',\n",
       "       'video_store', 'university_cafeteria', 'grocery-taqueria', 'pool',\n",
       "       'drug_store-grocery', 'rooftops', 'night_club',\n",
       "       'grocery_store-deli', 'college', 'kiosk', 'catering-cafe',\n",
       "       'retail', 'grocery-butcher', 'long_term_care_facility', 'pantry',\n",
       "       'coffee_vending_machine', 'hotel', 'summer_feeding',\n",
       "       'navy_pier_kiosk', 'ice_cream_parlor', 'catering_and_wholesale',\n",
       "       'culinary_school', 'nursing_home', 'live_poultry', 'kitchen',\n",
       "       'greenhouse', 'shakes-teas', 'event_center', 'roof_tops',\n",
       "       'pastry_school', 'rehab_center', 'private_club',\n",
       "       'convenience_store', 'liquor-grocery_store-bar',\n",
       "       'mobile_food_desserts_vendor', 'childern-s_service_facility',\n",
       "       'nutrition_shakes', 'dollar_store_with_grocery', 'butcher_shop',\n",
       "       'grocery_store-gas_station', 'after_school_program',\n",
       "       'wrigley_rooftop', 'mobile_push_cart',\n",
       "       'a-not-for-profit_chef_training_program',\n",
       "       'childrens_services_facility', 'banquet', 'dining_hall',\n",
       "       'private_event_space', '1023-children-s_services_facility',\n",
       "       'art_center', 'herbalife_nutrition', 'health_food_store',\n",
       "       'gas_station-grocery', 'commissary', 'supportive_living_facility',\n",
       "       'rooftop', 'candy_store',\n",
       "       'pop-up_food_establishment_user-tier_iii', 'deli-grocery',\n",
       "       'gym_store', 'health_care_store', 'charity_aid_kitchen',\n",
       "       'health_club', 'store', 'grocery-deli', 'packaged_health_foods',\n",
       "       'deli-grocery_store', 'blockbuster_video', 'general_store',\n",
       "       'gas_station_food_store', 'paleteria', 'convenience-gas_station',\n",
       "       'gas_station-restaurant', 'daycare_night', 'wholesale_-_retail',\n",
       "       'gas_station_store', 'grocery-dollar_store', 'convenient_store',\n",
       "       'gas_station-food', 'drug_store', 'unused_storage',\n",
       "       'grocery-gas_station', 'convenience', 'convnience_store',\n",
       "       'gas_station-store', 'prepackage_meal_distributor_-1006_retail-',\n",
       "       'grocery-sushi_prep-', 'pharmacy', 'convenience-drug_store',\n",
       "       'herbalife', 'fitness_center', 'catering-banquet',\n",
       "       'repackaging_plant', 'service_gas_station', 'grocery_-_restaurant',\n",
       "       'charter', 'tavern-bar', 'donut_shop', 'mfd_truck',\n",
       "       'poultry_slaughter', 'ice_cream_shop',\n",
       "       '1023_childern-s_services_facility', 'milk_tea', 'herbal_drinks',\n",
       "       'herbal_life_shop', 'banquet_hall-catering', 'hair_salon',\n",
       "       'grocery_delivery_service', 'theater_-_restaurant',\n",
       "       'daycare_-2_years-', 'hooka_lounge', 'public_shcool', 'ice_cream',\n",
       "       'juice_bar-grocery', 'retail_store_offers_cooking_classes',\n",
       "       'herbalife-zumba', 'cafe-store', 'event_space',\n",
       "       '15_monts_to_5_years_old', 'gas_station-convenience_store',\n",
       "       'restaurant-protein_shake_bar-', 'exercise_and_nutrition_bar',\n",
       "       'juice_bar', 'gym', '1023_children-s_services_facility',\n",
       "       'grocery_store_-pharmacy', 'lounge-banquet_hall', 'mobile_food',\n",
       "       'pop-up_food_establishment_user-tier_ii', 'assisted_living',\n",
       "       'airport_lounge', 'kitchen_demo', 'banquets', 'banquet-kitchen',\n",
       "       'tavern-store', 'herbal_life', 'not-for-profit_club',\n",
       "       'high_school_kitchen', 'theatre', 'herabalife',\n",
       "       'commisary_restaurant', 'assisted_living_senior_care',\n",
       "       'sushi_counter', 'o-hare_kiosk', 'dollar_tree', 'teaching_school',\n",
       "       'smoothie_bar', 'senior_day_care', 'catered_liquor',\n",
       "       'youth_housing', 'food_booth', 'church-special_events',\n",
       "       '1023_childern-s_service_facility', 'helicopter_terminal',\n",
       "       'french_market_space', 'frozen_dessert_pushcarts', 'day_care_2-14',\n",
       "       'grocery-bakery', 'slaughter_house-_grocery', 'adult_daycare',\n",
       "       'candy_shop', 'grocery-service_gas_station', 'deli-bakery',\n",
       "       'culinary_class_rooms', 'church_kitchen', 'mobile_desserts_vendor',\n",
       "       'banquet_room', 'cafeteria', 'charter_school_cafeteria',\n",
       "       'grocery-gas_station-', 'food_pantry', '1475_liquor',\n",
       "       'regulated_business', 'prep_inside_school', 'event_venu',\n",
       "       'candy-gelato', 'tobacco_store', 'dollar_store',\n",
       "       'animal_shelter_cafe_permit', 'riverwalk', 'lounge',\n",
       "       'banquet_dining', 'vending_machine', 'fitness_studio',\n",
       "       'grocery_store-bakery', 'beverage-silverware_warehouse',\n",
       "       'herbal_medicine', 'church-special_event',\n",
       "       'restaurant.banquet_halls', 'internet_cafe', 'clothing_store',\n",
       "       'coffee_kiosk', 'shuffleboard_club_with_bar', 'warehouse',\n",
       "       'laundromat', 'chinese_herbs', 'rest-gym', 'rest-grocery',\n",
       "       'grocery-_restaurant', 'herbalife_store', 'furniture_store',\n",
       "       'fish_market', 'banquet_rooms', 'grocery', 'gas_station-mini_mart',\n",
       "       'before_and_after_school_program', 'juice_and_salad_bar',\n",
       "       'cold-frozen_food_storage', 'coffee__shop', 'popcorn_corn',\n",
       "       'gift_shop', 'grocery_and_butcher', 'liqour_brewery_tasting',\n",
       "       'summer_feeding_prep_area', 'northerly_island', 'daycare_combo',\n",
       "       'restaurant_and_liquor', 'coffee-tea', 'dollar_-_grocery_store',\n",
       "       'employee_kitchen', 'distributor', 'health_center', 'truck',\n",
       "       'pre_packaged', 'hot_dog_station', 'weight_loss_program',\n",
       "       'restaurant-bar-theater', 'herbalcal', 'mobilprepared_food_vendor',\n",
       "       'retail_wine-wine_bar', 'mobile_food_truck',\n",
       "       'commissary_for_soft_serve_ice_cream_trucks',\n",
       "       'golf_course_conncession_stand', 'daycare_6_wks-5yrs',\n",
       "       'social_club', 'snack_shop', 'massage_bar', 'service_bar-theatre',\n",
       "       'smokehouse', 'tap_room-tavern-liquor_store', 'herbal',\n",
       "       'art_gallery', 'spa', 'museum-gallery', 'long-term_care',\n",
       "       'gelato_shop', 'gas_station-store_grocery', 'bakery-deli',\n",
       "       'cell_phone_store', 'grocery_store_-_gas_station',\n",
       "       'retail_food-gas_station', 'grocery-cafe', 'drug-food_store',\n",
       "       'urban_farm', 'restaurant-hospital', 'tea_store', 'coffee_roaster',\n",
       "       'herbal_remedy', 'city_of_chicago_college',\n",
       "       'grocery_store-_restaurant', 'pushcart', 'nutrition-herbalife',\n",
       "       'adult_family_care_center', 'bowling_lanes-banquets',\n",
       "       '1023_childern-s_service_s_facility', 'rest-rooftop',\n",
       "       'temporary_kiosk', 'golf_course', 'day_care_1023',\n",
       "       'packaged_food_distribution', 'vfw_hall', 'retail_store',\n",
       "       'grocery-liquor_store', 'restaurant-bakery',\n",
       "       'gas_station-_grocery_store', 'packaged_liquor', 'bakery-grocery',\n",
       "       'health_center-nutrition_classes', 'art_gallery_w-wine_and_beer',\n",
       "       'hot_dog_cart', '1584-day_care_above_2_years', 'day_care', 'deli',\n",
       "       'day_spa', 'coffee', 'popcorn_shop', 'riverwalk_cafe',\n",
       "       'wine_tasting_bar', 'music_venue', 'newsstand',\n",
       "       'mobile_frozen_dessert_disp-non-motorized', 'main_kitchen',\n",
       "       '1005_nursing_home', 'protein_shake_bar',\n",
       "       'childern_activity_facility', 'non_-profit', 'restaurant-grocery',\n",
       "       'catered_events', 'charter_school-cafeteria', 'liquore_store-bar',\n",
       "       'theater-bar', 'mobile_dessert_cart', 'gas_station_-grocery',\n",
       "       'cat-liquor', 'mobile_dessert_vendor', 'book_store',\n",
       "       'restuarant_and_bar', 'grocery_store-taqueria',\n",
       "       'gas_station_-subway_mini_mart.', 'car_wash', 'cafe',\n",
       "       'illegal_vendor', 'chicago_park_district', 'food_vending_machines',\n",
       "       'tavern-restaurant', 'room_service', 'boys_and_girls_club',\n",
       "       'tavern-1006', 'herbal_store', 'alternative_school',\n",
       "       'tent_rstaurant', 'mobile_frozen_desserts_dispenser-non-motorized',\n",
       "       'long-term_care_facility',\n",
       "       'frozen_desserts_dispenser-non-motorized', 'banquets-room_service',\n",
       "       'church-day_care',\n",
       "       'mobile_frozen_dessert_dispenser-non__motorized.',\n",
       "       'mobile_frozen_desserts_dispenser-non-motor',\n",
       "       'frozen_desserts_dispenser_-non_motorized',\n",
       "       'mobile_frozen_desserts_dispenser-non-_motorized',\n",
       "       'non-for_profit_basement_kit', 'not_for_profit',\n",
       "       'mexican_candy_store', 'daycare_2-6-_under_6', 'nail_shop',\n",
       "       'bakery-_restaurant', 'live_butcher', 'meat_market',\n",
       "       'shared_kitchen_user_-long_trem-', 'food_pantry-church',\n",
       "       'drug_treatment_facility', 'liquor_consumption_on_premises.',\n",
       "       'after_school_care', 'day_care_combo_-1586-', 'mobil_food_1315',\n",
       "       'np-kiosk', 'restaurant-liquor', 'watermelon_house',\n",
       "       'nutrition_store', 'daycare_1586', 'assissted_living',\n",
       "       'paleteria_-icecream_shop', 'church-after_school_program',\n",
       "       'unlicensed_facility', 'bakery-restaurant', '-gas_station-',\n",
       "       'peddler', 'hooka_bar', 'kids_cafe', '-convenience_store-',\n",
       "       'produce_stand', 'grocery-liquor', 'farmer-s_market',\n",
       "       'drug_store-w-_food', 'commiasary', 'rooftop_patio',\n",
       "       'soup_kitchen', 'linited_business', 'candy_maker',\n",
       "       'produce_vendor', 'incubator', 'candy', 'religious', 'kids_cafe-',\n",
       "       'wholesale_bakery'], dtype=object)"
      ]
     },
     "execution_count": 72,
     "metadata": {},
     "output_type": "execute_result"
    }
   ],
   "source": [
    "print(len(df[\"facility_type\"].unique()))\n",
    "df[\"facility_type\"].unique()"
   ]
  },
  {
   "cell_type": "code",
   "execution_count": 73,
   "metadata": {
    "ExecuteTime": {
     "end_time": "2021-03-08T00:27:32.154191Z",
     "start_time": "2021-03-08T00:27:32.097975Z"
    },
    "hidden": true,
    "scrolled": true
   },
   "outputs": [
    {
     "data": {
      "text/html": [
       "<div>\n",
       "<style scoped>\n",
       "    .dataframe tbody tr th:only-of-type {\n",
       "        vertical-align: middle;\n",
       "    }\n",
       "\n",
       "    .dataframe tbody tr th {\n",
       "        vertical-align: top;\n",
       "    }\n",
       "\n",
       "    .dataframe thead th {\n",
       "        text-align: right;\n",
       "    }\n",
       "</style>\n",
       "<table border=\"1\" class=\"dataframe\">\n",
       "  <thead>\n",
       "    <tr style=\"text-align: right;\">\n",
       "      <th></th>\n",
       "      <th>facility_type</th>\n",
       "    </tr>\n",
       "  </thead>\n",
       "  <tbody>\n",
       "    <tr>\n",
       "      <th>restaurant</th>\n",
       "      <td>143207</td>\n",
       "    </tr>\n",
       "    <tr>\n",
       "      <th>grocery_store</th>\n",
       "      <td>28088</td>\n",
       "    </tr>\n",
       "    <tr>\n",
       "      <th>school</th>\n",
       "      <td>13219</td>\n",
       "    </tr>\n",
       "    <tr>\n",
       "      <th>nan</th>\n",
       "      <td>4889</td>\n",
       "    </tr>\n",
       "    <tr>\n",
       "      <th>children-s_services_facility</th>\n",
       "      <td>3707</td>\n",
       "    </tr>\n",
       "    <tr>\n",
       "      <th>...</th>\n",
       "      <td>...</td>\n",
       "    </tr>\n",
       "    <tr>\n",
       "      <th>day_spa</th>\n",
       "      <td>1</td>\n",
       "    </tr>\n",
       "    <tr>\n",
       "      <th>mobile_frozen_desserts_dispenser-non-_motorized</th>\n",
       "      <td>1</td>\n",
       "    </tr>\n",
       "    <tr>\n",
       "      <th>coffee_roaster</th>\n",
       "      <td>1</td>\n",
       "    </tr>\n",
       "    <tr>\n",
       "      <th>catered_liquor</th>\n",
       "      <td>1</td>\n",
       "    </tr>\n",
       "    <tr>\n",
       "      <th>greenhouse</th>\n",
       "      <td>1</td>\n",
       "    </tr>\n",
       "  </tbody>\n",
       "</table>\n",
       "<p>448 rows × 1 columns</p>\n",
       "</div>"
      ],
      "text/plain": [
       "                                                 facility_type\n",
       "restaurant                                              143207\n",
       "grocery_store                                            28088\n",
       "school                                                   13219\n",
       "nan                                                       4889\n",
       "children-s_services_facility                              3707\n",
       "...                                                        ...\n",
       "day_spa                                                      1\n",
       "mobile_frozen_desserts_dispenser-non-_motorized              1\n",
       "coffee_roaster                                               1\n",
       "catered_liquor                                               1\n",
       "greenhouse                                                   1\n",
       "\n",
       "[448 rows x 1 columns]"
      ]
     },
     "execution_count": 73,
     "metadata": {},
     "output_type": "execute_result"
    }
   ],
   "source": [
    "dfx = df[\"facility_type\"].value_counts().to_frame()\n",
    "dfx"
   ]
  },
  {
   "cell_type": "code",
   "execution_count": 78,
   "metadata": {
    "ExecuteTime": {
     "end_time": "2021-03-08T00:27:41.718747Z",
     "start_time": "2021-03-08T00:27:41.351559Z"
    },
    "hidden": true,
    "scrolled": false
   },
   "outputs": [
    {
     "name": "stderr",
     "output_type": "stream",
     "text": [
      "/Users/rp_mbp/Documents/ReposRob_RobPer/ITAMmcd/semestre_2/Arquitectura_Prod_Dat/Venv_ArqPD/lib/python3.8/site-packages/seaborn/distributions.py:2557: FutureWarning: `distplot` is a deprecated function and will be removed in a future version. Please adapt your code to use either `displot` (a figure-level function with similar flexibility) or `histplot` (an axes-level function for histograms).\n",
      "  warnings.warn(msg, FutureWarning)\n"
     ]
    },
    {
     "data": {
      "image/png": "[encoded data removed]",
      "text/plain": [
       "<Figure size 1080x504 with 2 Axes>"
      ]
     },
     "metadata": {
      "needs_background": "light"
     },
     "output_type": "display_data"
    }
   ],
   "source": [
    "fig, ax = plt.subplots(1, 2, figsize=(15, 7))\n",
    "\n",
    "\n",
    "## Distplot\n",
    "ax[0].set(xlim=(0, 40e3))\n",
    "sns.distplot(dfx[\"facility_type\"], ax=ax[0], color=\"red\")\n",
    "\n",
    "## Boxplot\n",
    "ax[1].set(ylim=(0, 75))\n",
    "sns.boxplot(data=dfx[\"facility_type\"], color=\"red\", ax=ax[1])\n",
    "\n",
    "\n",
    "plt.show()"
   ]
  },
  {
   "cell_type": "code",
   "execution_count": 79,
   "metadata": {
    "ExecuteTime": {
     "end_time": "2021-03-08T00:27:44.954872Z",
     "start_time": "2021-03-08T00:27:44.384809Z"
    },
    "hidden": true
   },
   "outputs": [],
   "source": [
    "df[\"facility_type\"].fillna(\"nan\", inplace=True)\n",
    "\n",
    "df[\"facility_type\"] = df[\"facility_type\"].apply(lambda x: clean_txt(x))"
   ]
  },
  {
   "cell_type": "code",
   "execution_count": 80,
   "metadata": {
    "ExecuteTime": {
     "end_time": "2021-03-08T00:27:45.026474Z",
     "start_time": "2021-03-08T00:27:44.956838Z"
    },
    "hidden": true
   },
   "outputs": [
    {
     "name": "stdout",
     "output_type": "stream",
     "text": [
      "443\n"
     ]
    },
    {
     "data": {
      "text/plain": [
       "restaurant                                 143207\n",
       "grocery-store                               28088\n",
       "school                                      13219\n",
       "nan                                          4889\n",
       "children-s-services-facility                 3707\n",
       "                                            ...  \n",
       "meat-market                                     1\n",
       "kids-cafe-                                      1\n",
       "gift-shop                                       1\n",
       "pop-up-food-establishment-user-tier-iii         1\n",
       "mobil-food-1315                                 1\n",
       "Name: facility_type, Length: 443, dtype: int64"
      ]
     },
     "execution_count": 80,
     "metadata": {},
     "output_type": "execute_result"
    }
   ],
   "source": [
    "print(len(df[\"facility_type\"].unique()))\n",
    "df[\"facility_type\"].value_counts()"
   ]
  },
  {
   "cell_type": "code",
   "execution_count": 81,
   "metadata": {
    "ExecuteTime": {
     "end_time": "2021-03-08T00:27:45.709613Z",
     "start_time": "2021-03-08T00:27:45.653883Z"
    },
    "hidden": true,
    "scrolled": true
   },
   "outputs": [
    {
     "data": {
      "text/html": [
       "<div>\n",
       "<style scoped>\n",
       "    .dataframe tbody tr th:only-of-type {\n",
       "        vertical-align: middle;\n",
       "    }\n",
       "\n",
       "    .dataframe tbody tr th {\n",
       "        vertical-align: top;\n",
       "    }\n",
       "\n",
       "    .dataframe thead th {\n",
       "        text-align: right;\n",
       "    }\n",
       "</style>\n",
       "<table border=\"1\" class=\"dataframe\">\n",
       "  <thead>\n",
       "    <tr style=\"text-align: right;\">\n",
       "      <th></th>\n",
       "      <th>facility_type</th>\n",
       "    </tr>\n",
       "  </thead>\n",
       "  <tbody>\n",
       "    <tr>\n",
       "      <th>restaurant</th>\n",
       "      <td>143207</td>\n",
       "    </tr>\n",
       "    <tr>\n",
       "      <th>grocery-store</th>\n",
       "      <td>28088</td>\n",
       "    </tr>\n",
       "    <tr>\n",
       "      <th>school</th>\n",
       "      <td>13219</td>\n",
       "    </tr>\n",
       "    <tr>\n",
       "      <th>nan</th>\n",
       "      <td>4889</td>\n",
       "    </tr>\n",
       "    <tr>\n",
       "      <th>children-s-services-facility</th>\n",
       "      <td>3707</td>\n",
       "    </tr>\n",
       "    <tr>\n",
       "      <th>...</th>\n",
       "      <td>...</td>\n",
       "    </tr>\n",
       "    <tr>\n",
       "      <th>meat-market</th>\n",
       "      <td>1</td>\n",
       "    </tr>\n",
       "    <tr>\n",
       "      <th>kids-cafe-</th>\n",
       "      <td>1</td>\n",
       "    </tr>\n",
       "    <tr>\n",
       "      <th>gift-shop</th>\n",
       "      <td>1</td>\n",
       "    </tr>\n",
       "    <tr>\n",
       "      <th>pop-up-food-establishment-user-tier-iii</th>\n",
       "      <td>1</td>\n",
       "    </tr>\n",
       "    <tr>\n",
       "      <th>mobil-food-1315</th>\n",
       "      <td>1</td>\n",
       "    </tr>\n",
       "  </tbody>\n",
       "</table>\n",
       "<p>443 rows × 1 columns</p>\n",
       "</div>"
      ],
      "text/plain": [
       "                                         facility_type\n",
       "restaurant                                      143207\n",
       "grocery-store                                    28088\n",
       "school                                           13219\n",
       "nan                                               4889\n",
       "children-s-services-facility                      3707\n",
       "...                                                ...\n",
       "meat-market                                          1\n",
       "kids-cafe-                                           1\n",
       "gift-shop                                            1\n",
       "pop-up-food-establishment-user-tier-iii              1\n",
       "mobil-food-1315                                      1\n",
       "\n",
       "[443 rows x 1 columns]"
      ]
     },
     "execution_count": 81,
     "metadata": {},
     "output_type": "execute_result"
    }
   ],
   "source": [
    "dfx = df[\"facility_type\"].value_counts().to_frame()\n",
    "dfx"
   ]
  },
  {
   "cell_type": "code",
   "execution_count": 88,
   "metadata": {
    "ExecuteTime": {
     "end_time": "2021-03-08T00:28:15.215261Z",
     "start_time": "2021-03-08T00:28:14.862869Z"
    },
    "hidden": true
   },
   "outputs": [
    {
     "name": "stderr",
     "output_type": "stream",
     "text": [
      "/Users/rp_mbp/Documents/ReposRob_RobPer/ITAMmcd/semestre_2/Arquitectura_Prod_Dat/Venv_ArqPD/lib/python3.8/site-packages/seaborn/distributions.py:2557: FutureWarning: `distplot` is a deprecated function and will be removed in a future version. Please adapt your code to use either `displot` (a figure-level function with similar flexibility) or `histplot` (an axes-level function for histograms).\n",
      "  warnings.warn(msg, FutureWarning)\n"
     ]
    },
    {
     "data": {
      "image/png": "[encoded data removed]",
      "text/plain": [
       "<Figure size 1080x504 with 2 Axes>"
      ]
     },
     "metadata": {
      "needs_background": "light"
     },
     "output_type": "display_data"
    }
   ],
   "source": [
    "fig, ax = plt.subplots(1, 2, figsize=(15, 7))\n",
    "\n",
    "\n",
    "## Distplot\n",
    "ax[0].set(xlim=(0, 40e3))\n",
    "sns.distplot(dfx[\"facility_type\"], ax=ax[0], color=\"blue\")\n",
    "\n",
    "## Boxplot\n",
    "ax[1].set(ylim=(0, 25))\n",
    "sns.boxplot(data=dfx[\"facility_type\"], color=\"blue\", ax=ax[1])\n",
    "\n",
    "\n",
    "plt.show()"
   ]
  },
  {
   "cell_type": "code",
   "execution_count": 89,
   "metadata": {
    "ExecuteTime": {
     "end_time": "2021-03-08T00:28:19.689240Z",
     "start_time": "2021-03-08T00:28:19.653769Z"
    },
    "hidden": true,
    "scrolled": true
   },
   "outputs": [
    {
     "data": {
      "text/html": [
       "<div>\n",
       "<style scoped>\n",
       "    .dataframe tbody tr th:only-of-type {\n",
       "        vertical-align: middle;\n",
       "    }\n",
       "\n",
       "    .dataframe tbody tr th {\n",
       "        vertical-align: top;\n",
       "    }\n",
       "\n",
       "    .dataframe thead th {\n",
       "        text-align: right;\n",
       "    }\n",
       "</style>\n",
       "<table border=\"1\" class=\"dataframe\">\n",
       "  <thead>\n",
       "    <tr style=\"text-align: right;\">\n",
       "      <th></th>\n",
       "      <th>facility_type</th>\n",
       "    </tr>\n",
       "  </thead>\n",
       "  <tbody>\n",
       "    <tr>\n",
       "      <th>restaurant</th>\n",
       "      <td>143207</td>\n",
       "    </tr>\n",
       "    <tr>\n",
       "      <th>grocery-restaurant</th>\n",
       "      <td>57</td>\n",
       "    </tr>\n",
       "    <tr>\n",
       "      <th>restaurant-bar</th>\n",
       "      <td>41</td>\n",
       "    </tr>\n",
       "    <tr>\n",
       "      <th>grocery---restaurant</th>\n",
       "      <td>29</td>\n",
       "    </tr>\n",
       "    <tr>\n",
       "      <th>restaurant-grocery-store</th>\n",
       "      <td>27</td>\n",
       "    </tr>\n",
       "    <tr>\n",
       "      <th>gas-station-restaurant</th>\n",
       "      <td>15</td>\n",
       "    </tr>\n",
       "    <tr>\n",
       "      <th>grocery--restaurant</th>\n",
       "      <td>13</td>\n",
       "    </tr>\n",
       "    <tr>\n",
       "      <th>restaurant-hospital</th>\n",
       "      <td>11</td>\n",
       "    </tr>\n",
       "    <tr>\n",
       "      <th>restaurant.banquet-halls</th>\n",
       "      <td>9</td>\n",
       "    </tr>\n",
       "    <tr>\n",
       "      <th>grocery-store--restaurant</th>\n",
       "      <td>9</td>\n",
       "    </tr>\n",
       "    <tr>\n",
       "      <th>restaurant-protein-shake-bar-</th>\n",
       "      <td>9</td>\n",
       "    </tr>\n",
       "    <tr>\n",
       "      <th>restuarant-and-bar</th>\n",
       "      <td>9</td>\n",
       "    </tr>\n",
       "    <tr>\n",
       "      <th>rest-grocery</th>\n",
       "      <td>9</td>\n",
       "    </tr>\n",
       "    <tr>\n",
       "      <th>rest-rooftop</th>\n",
       "      <td>8</td>\n",
       "    </tr>\n",
       "    <tr>\n",
       "      <th>theater---restaurant</th>\n",
       "      <td>8</td>\n",
       "    </tr>\n",
       "    <tr>\n",
       "      <th>restaurant-bakery</th>\n",
       "      <td>7</td>\n",
       "    </tr>\n",
       "    <tr>\n",
       "      <th>rest-gym</th>\n",
       "      <td>7</td>\n",
       "    </tr>\n",
       "    <tr>\n",
       "      <th>restaurant-grocery</th>\n",
       "      <td>4</td>\n",
       "    </tr>\n",
       "    <tr>\n",
       "      <th>tavern-restaurant</th>\n",
       "      <td>3</td>\n",
       "    </tr>\n",
       "    <tr>\n",
       "      <th>commisary-restaurant</th>\n",
       "      <td>3</td>\n",
       "    </tr>\n",
       "    <tr>\n",
       "      <th>restaurant-liquor</th>\n",
       "      <td>2</td>\n",
       "    </tr>\n",
       "    <tr>\n",
       "      <th>bakery-restaurant</th>\n",
       "      <td>2</td>\n",
       "    </tr>\n",
       "    <tr>\n",
       "      <th>bakery--restaurant</th>\n",
       "      <td>2</td>\n",
       "    </tr>\n",
       "    <tr>\n",
       "      <th>restaurant-bar-theater</th>\n",
       "      <td>2</td>\n",
       "    </tr>\n",
       "    <tr>\n",
       "      <th>restaurant-and-liquor</th>\n",
       "      <td>1</td>\n",
       "    </tr>\n",
       "  </tbody>\n",
       "</table>\n",
       "</div>"
      ],
      "text/plain": [
       "                               facility_type\n",
       "restaurant                            143207\n",
       "grocery-restaurant                        57\n",
       "restaurant-bar                            41\n",
       "grocery---restaurant                      29\n",
       "restaurant-grocery-store                  27\n",
       "gas-station-restaurant                    15\n",
       "grocery--restaurant                       13\n",
       "restaurant-hospital                       11\n",
       "restaurant.banquet-halls                   9\n",
       "grocery-store--restaurant                  9\n",
       "restaurant-protein-shake-bar-              9\n",
       "restuarant-and-bar                         9\n",
       "rest-grocery                               9\n",
       "rest-rooftop                               8\n",
       "theater---restaurant                       8\n",
       "restaurant-bakery                          7\n",
       "rest-gym                                   7\n",
       "restaurant-grocery                         4\n",
       "tavern-restaurant                          3\n",
       "commisary-restaurant                       3\n",
       "restaurant-liquor                          2\n",
       "bakery-restaurant                          2\n",
       "bakery--restaurant                         2\n",
       "restaurant-bar-theater                     2\n",
       "restaurant-and-liquor                      1"
      ]
     },
     "execution_count": 89,
     "metadata": {},
     "output_type": "execute_result"
    }
   ],
   "source": [
    "# mr1 = dfx[\"facility_type\"] <= 1\n",
    "mr2 = dfx.index.str.contains(\"rest\")\n",
    "dfx.loc[(mr2), :][:50]"
   ]
  },
  {
   "cell_type": "code",
   "execution_count": 90,
   "metadata": {
    "ExecuteTime": {
     "end_time": "2021-03-08T00:28:21.579111Z",
     "start_time": "2021-03-08T00:28:21.020251Z"
    },
    "hidden": true
   },
   "outputs": [
    {
     "data": {
      "text/html": [
       "<div>\n",
       "<style scoped>\n",
       "    .dataframe tbody tr th:only-of-type {\n",
       "        vertical-align: middle;\n",
       "    }\n",
       "\n",
       "    .dataframe tbody tr th {\n",
       "        vertical-align: top;\n",
       "    }\n",
       "\n",
       "    .dataframe thead th {\n",
       "        text-align: right;\n",
       "    }\n",
       "</style>\n",
       "<table border=\"1\" class=\"dataframe\">\n",
       "  <thead>\n",
       "    <tr style=\"text-align: right;\">\n",
       "      <th></th>\n",
       "      <th>facility_type</th>\n",
       "    </tr>\n",
       "  </thead>\n",
       "  <tbody>\n",
       "    <tr>\n",
       "      <th>146</th>\n",
       "      <td>daycare--2---6-years-</td>\n",
       "    </tr>\n",
       "    <tr>\n",
       "      <th>148</th>\n",
       "      <td>daycare-above-and-under-2-years</td>\n",
       "    </tr>\n",
       "    <tr>\n",
       "      <th>156</th>\n",
       "      <td>daycare--2---6-years-</td>\n",
       "    </tr>\n",
       "    <tr>\n",
       "      <th>217</th>\n",
       "      <td>daycare--2---6-years-</td>\n",
       "    </tr>\n",
       "    <tr>\n",
       "      <th>240</th>\n",
       "      <td>daycare-above-and-under-2-years</td>\n",
       "    </tr>\n",
       "    <tr>\n",
       "      <th>...</th>\n",
       "      <td>...</td>\n",
       "    </tr>\n",
       "    <tr>\n",
       "      <th>214998</th>\n",
       "      <td>daycare--2---6-years-</td>\n",
       "    </tr>\n",
       "    <tr>\n",
       "      <th>214999</th>\n",
       "      <td>daycare--2---6-years-</td>\n",
       "    </tr>\n",
       "    <tr>\n",
       "      <th>215023</th>\n",
       "      <td>daycare--2---6-years-</td>\n",
       "    </tr>\n",
       "    <tr>\n",
       "      <th>215045</th>\n",
       "      <td>daycare--2---6-years-</td>\n",
       "    </tr>\n",
       "    <tr>\n",
       "      <th>215066</th>\n",
       "      <td>daycare--under-2-years-</td>\n",
       "    </tr>\n",
       "  </tbody>\n",
       "</table>\n",
       "<p>6653 rows × 1 columns</p>\n",
       "</div>"
      ],
      "text/plain": [
       "                          facility_type\n",
       "146               daycare--2---6-years-\n",
       "148     daycare-above-and-under-2-years\n",
       "156               daycare--2---6-years-\n",
       "217               daycare--2---6-years-\n",
       "240     daycare-above-and-under-2-years\n",
       "...                                 ...\n",
       "214998            daycare--2---6-years-\n",
       "214999            daycare--2---6-years-\n",
       "215023            daycare--2---6-years-\n",
       "215045            daycare--2---6-years-\n",
       "215066          daycare--under-2-years-\n",
       "\n",
       "[6653 rows x 1 columns]"
      ]
     },
     "execution_count": 90,
     "metadata": {},
     "output_type": "execute_result"
    }
   ],
   "source": [
    "mr1 = df[\"facility_type\"].str.contains(\"day\")\n",
    "df.loc[mr1, [\"facility_type\"]]"
   ]
  },
  {
   "cell_type": "markdown",
   "metadata": {
    "hidden": true
   },
   "source": [
    "**Notas de análisis:**\n",
    "- @9/Feb/2020\n",
    "    - Una vez limpiados los textos, la cantidad de únicos pasó de 501 a 448.\n",
    "    - Tal vez podríamos agrupar las categorías por aparición de palabras clave (e.g. `daycare` OR `day_care`).\n",
    "    - Todas las que caigan fuera de las categorías, serán incluidas en una reserva llamada \"Otros\"\n",
    "    - Podría valer la pena hacer un análisis de clústering para agrupar palabras por similitudes y así definir las categorías. (tal vez va a ser difícil hacer estas asociaciones.)"
   ]
  },
  {
   "cell_type": "markdown",
   "metadata": {
    "heading_collapsed": true
   },
   "source": [
    "#### 2. Limpieza de campo `inspection_type`"
   ]
  },
  {
   "cell_type": "code",
   "execution_count": 91,
   "metadata": {
    "ExecuteTime": {
     "end_time": "2021-03-08T00:28:25.430590Z",
     "start_time": "2021-03-08T00:28:25.371720Z"
    },
    "hidden": true,
    "scrolled": true
   },
   "outputs": [
    {
     "name": "stdout",
     "output_type": "stream",
     "text": [
      "99\n"
     ]
    },
    {
     "data": {
      "text/plain": [
       "array(['license', 'canvass', 'complaint', 'canvass-re-inspection',\n",
       "       'complaint-re-inspection', 'suspected-food-poisoning',\n",
       "       'short-form-complaint', 'license-re-inspection',\n",
       "       'recent-inspection', 'not-ready', 'nan', 'consultation',\n",
       "       'task-force-liquor-1475', 'complaint-fire', 'license-task-force',\n",
       "       'suspected-food-poisoning-re-inspection',\n",
       "       'pre-license-consultation', 'package-liquor-1474', 'tag-removal',\n",
       "       'non-inspection', 'illegal-operation', 'no-entry-short-complaint-',\n",
       "       'out-of-business', 'no-entry', 'business-not-located',\n",
       "       'task-force-liquor-1474', 'covid-complaint', 'office-assignment',\n",
       "       'special-events--festivals-', 'fire-complaint', 'fire',\n",
       "       'complaint-fire-re-inspection', 'short-form-fire-complaint',\n",
       "       'kitchen-closed-for-renovation', 'o.b.', 'corrective-action',\n",
       "       'license-canceled-by-owner', 'license-consultation',\n",
       "       'owner-suspended-operation-license',\n",
       "       'two-people-ate-and-got-sick.', 'canvass-special-events',\n",
       "       'canvass-school-special-event', 'task-force-liquor-1470',\n",
       "       'license-not-ready', '1315-license-reinspection', 'addendum',\n",
       "       'fire-complain', 'task-force-for-liquor-1474',\n",
       "       'task-force-liquor-inspection-1474', 'sample-collection',\n",
       "       'license-task-1474', 'sfp', 'task-force-liquor-catering',\n",
       "       'task-force-1470--liquor-tavern', 'canvas', 'task-force-night',\n",
       "       'sfp-complaint', 'sfp-recently-inspected', 'tavern-1470',\n",
       "       'license-request', 'smoking-complaint', 'expansion',\n",
       "       'license-task-force---not--for-profit-club',\n",
       "       'license-renewal-for-daycare', 'canvass-re-inspection-of-close-up',\n",
       "       'license-renewal-inspection-for-daycare', 'citf', 'taskforce',\n",
       "       'license-task-force---not--for-profit-clu', 'kids-cafe',\n",
       "       'taste-of-chicago', 'error-save', 'citation-re-issued',\n",
       "       'canvass-special-event', 'task-force-package-liquor',\n",
       "       'out-ofbusiness', 'changed-court-date', 'summer-feeding',\n",
       "       'license-daycare-1586', 'day-care-license-renewal',\n",
       "       'license-wrong-address', 'liquor-catering', 'haccp-questionaire',\n",
       "       'reinspection-of-48-hour-notice', 'special-task-force',\n",
       "       'canvass-for-rib-fest', 'recall-inspection',\n",
       "       'finish-complaint-inspection-from-5-18-10', 'duplicated',\n",
       "       're-inspection-of-close-up', 'close-up-complaint-reinspection',\n",
       "       'reinspection', 'task-force', 'task-force-not-ready',\n",
       "       'task-force-liquor--1481-', 'kids-cafe-',\n",
       "       'liqour-task-force-not-ready', 'task-force-package-goods-1474',\n",
       "       'possible-fbi'], dtype=object)"
      ]
     },
     "execution_count": 91,
     "metadata": {},
     "output_type": "execute_result"
    }
   ],
   "source": [
    "print(len(df[\"inspection_type\"].unique()))\n",
    "df[\"inspection_type\"].unique()"
   ]
  },
  {
   "cell_type": "code",
   "execution_count": 92,
   "metadata": {
    "ExecuteTime": {
     "end_time": "2021-03-08T00:28:26.095333Z",
     "start_time": "2021-03-08T00:28:26.039529Z"
    },
    "hidden": true,
    "scrolled": true
   },
   "outputs": [
    {
     "data": {
      "text/html": [
       "<div>\n",
       "<style scoped>\n",
       "    .dataframe tbody tr th:only-of-type {\n",
       "        vertical-align: middle;\n",
       "    }\n",
       "\n",
       "    .dataframe tbody tr th {\n",
       "        vertical-align: top;\n",
       "    }\n",
       "\n",
       "    .dataframe thead th {\n",
       "        text-align: right;\n",
       "    }\n",
       "</style>\n",
       "<table border=\"1\" class=\"dataframe\">\n",
       "  <thead>\n",
       "    <tr style=\"text-align: right;\">\n",
       "      <th></th>\n",
       "      <th>inspection_type</th>\n",
       "    </tr>\n",
       "  </thead>\n",
       "  <tbody>\n",
       "    <tr>\n",
       "      <th>canvass</th>\n",
       "      <td>114225</td>\n",
       "    </tr>\n",
       "    <tr>\n",
       "      <th>license</th>\n",
       "      <td>28294</td>\n",
       "    </tr>\n",
       "    <tr>\n",
       "      <th>canvass-re-inspection</th>\n",
       "      <td>22824</td>\n",
       "    </tr>\n",
       "    <tr>\n",
       "      <th>complaint</th>\n",
       "      <td>19908</td>\n",
       "    </tr>\n",
       "    <tr>\n",
       "      <th>license-re-inspection</th>\n",
       "      <td>9631</td>\n",
       "    </tr>\n",
       "    <tr>\n",
       "      <th>...</th>\n",
       "      <td>...</td>\n",
       "    </tr>\n",
       "    <tr>\n",
       "      <th>task-force-not-ready</th>\n",
       "      <td>1</td>\n",
       "    </tr>\n",
       "    <tr>\n",
       "      <th>task-force-liquor--1481-</th>\n",
       "      <td>1</td>\n",
       "    </tr>\n",
       "    <tr>\n",
       "      <th>liqour-task-force-not-ready</th>\n",
       "      <td>1</td>\n",
       "    </tr>\n",
       "    <tr>\n",
       "      <th>finish-complaint-inspection-from-5-18-10</th>\n",
       "      <td>1</td>\n",
       "    </tr>\n",
       "    <tr>\n",
       "      <th>out-ofbusiness</th>\n",
       "      <td>1</td>\n",
       "    </tr>\n",
       "  </tbody>\n",
       "</table>\n",
       "<p>99 rows × 1 columns</p>\n",
       "</div>"
      ],
      "text/plain": [
       "                                          inspection_type\n",
       "canvass                                            114225\n",
       "license                                             28294\n",
       "canvass-re-inspection                               22824\n",
       "complaint                                           19908\n",
       "license-re-inspection                                9631\n",
       "...                                                   ...\n",
       "task-force-not-ready                                    1\n",
       "task-force-liquor--1481-                                1\n",
       "liqour-task-force-not-ready                             1\n",
       "finish-complaint-inspection-from-5-18-10                1\n",
       "out-ofbusiness                                          1\n",
       "\n",
       "[99 rows x 1 columns]"
      ]
     },
     "execution_count": 92,
     "metadata": {},
     "output_type": "execute_result"
    }
   ],
   "source": [
    "dfx = df[\"inspection_type\"].value_counts().to_frame()\n",
    "dfx"
   ]
  },
  {
   "cell_type": "code",
   "execution_count": 93,
   "metadata": {
    "ExecuteTime": {
     "end_time": "2021-03-08T00:28:27.514166Z",
     "start_time": "2021-03-08T00:28:27.139296Z"
    },
    "hidden": true
   },
   "outputs": [
    {
     "name": "stderr",
     "output_type": "stream",
     "text": [
      "/Users/rp_mbp/Documents/ReposRob_RobPer/ITAMmcd/semestre_2/Arquitectura_Prod_Dat/Venv_ArqPD/lib/python3.8/site-packages/seaborn/distributions.py:2557: FutureWarning: `distplot` is a deprecated function and will be removed in a future version. Please adapt your code to use either `displot` (a figure-level function with similar flexibility) or `histplot` (an axes-level function for histograms).\n",
      "  warnings.warn(msg, FutureWarning)\n"
     ]
    },
    {
     "data": {
      "image/png": "[encoded data removed]",
      "text/plain": [
       "<Figure size 1080x504 with 2 Axes>"
      ]
     },
     "metadata": {
      "needs_background": "light"
     },
     "output_type": "display_data"
    }
   ],
   "source": [
    "fig, ax = plt.subplots(1, 2, figsize=(15, 7))\n",
    "\n",
    "\n",
    "## Distplot\n",
    "ax[0].set(xlim=(0, 40e3))\n",
    "sns.distplot(dfx[\"inspection_type\"], ax=ax[0], color=\"red\")\n",
    "\n",
    "## Boxplot\n",
    "ax[1].set(ylim=(0, 15))\n",
    "sns.boxplot(data=dfx[\"inspection_type\"], color=\"red\", ax=ax[1])\n",
    "\n",
    "\n",
    "plt.show()"
   ]
  },
  {
   "cell_type": "code",
   "execution_count": 94,
   "metadata": {
    "ExecuteTime": {
     "end_time": "2021-03-08T00:28:28.374943Z",
     "start_time": "2021-03-08T00:28:27.805831Z"
    },
    "hidden": true
   },
   "outputs": [],
   "source": [
    "df[\"inspection_type\"].fillna(\"nan\", inplace=True)\n",
    "\n",
    "df[\"inspection_type\"] = df[\"inspection_type\"].apply(lambda x: clean_txt(x))"
   ]
  },
  {
   "cell_type": "code",
   "execution_count": 95,
   "metadata": {
    "ExecuteTime": {
     "end_time": "2021-03-08T00:28:28.446208Z",
     "start_time": "2021-03-08T00:28:28.376916Z"
    },
    "hidden": true
   },
   "outputs": [
    {
     "name": "stdout",
     "output_type": "stream",
     "text": [
      "99\n"
     ]
    },
    {
     "data": {
      "text/plain": [
       "canvass                                     114225\n",
       "license                                      28294\n",
       "canvass-re-inspection                        22824\n",
       "complaint                                    19908\n",
       "license-re-inspection                         9631\n",
       "                                             ...  \n",
       "task-force-not-ready                             1\n",
       "task-force-liquor--1481-                         1\n",
       "liqour-task-force-not-ready                      1\n",
       "finish-complaint-inspection-from-5-18-10         1\n",
       "out-ofbusiness                                   1\n",
       "Name: inspection_type, Length: 99, dtype: int64"
      ]
     },
     "execution_count": 95,
     "metadata": {},
     "output_type": "execute_result"
    }
   ],
   "source": [
    "print(len(df[\"inspection_type\"].unique()))\n",
    "df[\"inspection_type\"].value_counts()"
   ]
  },
  {
   "cell_type": "code",
   "execution_count": 96,
   "metadata": {
    "ExecuteTime": {
     "end_time": "2021-03-08T00:28:28.646885Z",
     "start_time": "2021-03-08T00:28:28.592183Z"
    },
    "hidden": true,
    "scrolled": true
   },
   "outputs": [
    {
     "data": {
      "text/html": [
       "<div>\n",
       "<style scoped>\n",
       "    .dataframe tbody tr th:only-of-type {\n",
       "        vertical-align: middle;\n",
       "    }\n",
       "\n",
       "    .dataframe tbody tr th {\n",
       "        vertical-align: top;\n",
       "    }\n",
       "\n",
       "    .dataframe thead th {\n",
       "        text-align: right;\n",
       "    }\n",
       "</style>\n",
       "<table border=\"1\" class=\"dataframe\">\n",
       "  <thead>\n",
       "    <tr style=\"text-align: right;\">\n",
       "      <th></th>\n",
       "      <th>inspection_type</th>\n",
       "    </tr>\n",
       "  </thead>\n",
       "  <tbody>\n",
       "    <tr>\n",
       "      <th>canvass</th>\n",
       "      <td>114225</td>\n",
       "    </tr>\n",
       "    <tr>\n",
       "      <th>license</th>\n",
       "      <td>28294</td>\n",
       "    </tr>\n",
       "    <tr>\n",
       "      <th>canvass-re-inspection</th>\n",
       "      <td>22824</td>\n",
       "    </tr>\n",
       "    <tr>\n",
       "      <th>complaint</th>\n",
       "      <td>19908</td>\n",
       "    </tr>\n",
       "    <tr>\n",
       "      <th>license-re-inspection</th>\n",
       "      <td>9631</td>\n",
       "    </tr>\n",
       "    <tr>\n",
       "      <th>...</th>\n",
       "      <td>...</td>\n",
       "    </tr>\n",
       "    <tr>\n",
       "      <th>task-force-not-ready</th>\n",
       "      <td>1</td>\n",
       "    </tr>\n",
       "    <tr>\n",
       "      <th>task-force-liquor--1481-</th>\n",
       "      <td>1</td>\n",
       "    </tr>\n",
       "    <tr>\n",
       "      <th>liqour-task-force-not-ready</th>\n",
       "      <td>1</td>\n",
       "    </tr>\n",
       "    <tr>\n",
       "      <th>finish-complaint-inspection-from-5-18-10</th>\n",
       "      <td>1</td>\n",
       "    </tr>\n",
       "    <tr>\n",
       "      <th>out-ofbusiness</th>\n",
       "      <td>1</td>\n",
       "    </tr>\n",
       "  </tbody>\n",
       "</table>\n",
       "<p>99 rows × 1 columns</p>\n",
       "</div>"
      ],
      "text/plain": [
       "                                          inspection_type\n",
       "canvass                                            114225\n",
       "license                                             28294\n",
       "canvass-re-inspection                               22824\n",
       "complaint                                           19908\n",
       "license-re-inspection                                9631\n",
       "...                                                   ...\n",
       "task-force-not-ready                                    1\n",
       "task-force-liquor--1481-                                1\n",
       "liqour-task-force-not-ready                             1\n",
       "finish-complaint-inspection-from-5-18-10                1\n",
       "out-ofbusiness                                          1\n",
       "\n",
       "[99 rows x 1 columns]"
      ]
     },
     "execution_count": 96,
     "metadata": {},
     "output_type": "execute_result"
    }
   ],
   "source": [
    "dfx = df[\"inspection_type\"].value_counts().to_frame()\n",
    "dfx"
   ]
  },
  {
   "cell_type": "code",
   "execution_count": 99,
   "metadata": {
    "ExecuteTime": {
     "end_time": "2021-03-08T00:28:35.715298Z",
     "start_time": "2021-03-08T00:28:34.693728Z"
    },
    "hidden": true
   },
   "outputs": [
    {
     "name": "stderr",
     "output_type": "stream",
     "text": [
      "/Users/rp_mbp/Documents/ReposRob_RobPer/ITAMmcd/semestre_2/Arquitectura_Prod_Dat/Venv_ArqPD/lib/python3.8/site-packages/seaborn/distributions.py:2557: FutureWarning: `distplot` is a deprecated function and will be removed in a future version. Please adapt your code to use either `displot` (a figure-level function with similar flexibility) or `histplot` (an axes-level function for histograms).\n",
      "  warnings.warn(msg, FutureWarning)\n"
     ]
    },
    {
     "data": {
      "image/png": "[encoded data removed]",
      "text/plain": [
       "<Figure size 1080x504 with 2 Axes>"
      ]
     },
     "metadata": {
      "needs_background": "light"
     },
     "output_type": "display_data"
    }
   ],
   "source": [
    "fig, ax = plt.subplots(1, 2, figsize=(15, 7))\n",
    "\n",
    "\n",
    "## Distplot\n",
    "ax[0].set(xlim=(0, 40e3))\n",
    "sns.distplot(dfx[\"inspection_type\"], ax=ax[0], color=\"blue\")\n",
    "\n",
    "## Boxplot\n",
    "ax[1].set(ylim=(0, 25))\n",
    "sns.boxplot(data=dfx[\"inspection_type\"], color=\"blue\", ax=ax[1])\n",
    "\n",
    "\n",
    "plt.show()"
   ]
  },
  {
   "cell_type": "code",
   "execution_count": 100,
   "metadata": {
    "ExecuteTime": {
     "end_time": "2021-03-08T00:28:39.776337Z",
     "start_time": "2021-03-08T00:28:39.743397Z"
    },
    "hidden": true
   },
   "outputs": [
    {
     "data": {
      "text/html": [
       "<div>\n",
       "<style scoped>\n",
       "    .dataframe tbody tr th:only-of-type {\n",
       "        vertical-align: middle;\n",
       "    }\n",
       "\n",
       "    .dataframe tbody tr th {\n",
       "        vertical-align: top;\n",
       "    }\n",
       "\n",
       "    .dataframe thead th {\n",
       "        text-align: right;\n",
       "    }\n",
       "</style>\n",
       "<table border=\"1\" class=\"dataframe\">\n",
       "  <thead>\n",
       "    <tr style=\"text-align: right;\">\n",
       "      <th></th>\n",
       "      <th>inspection_type</th>\n",
       "    </tr>\n",
       "  </thead>\n",
       "  <tbody>\n",
       "    <tr>\n",
       "      <th>canvass</th>\n",
       "      <td>114225</td>\n",
       "    </tr>\n",
       "    <tr>\n",
       "      <th>license</th>\n",
       "      <td>28294</td>\n",
       "    </tr>\n",
       "    <tr>\n",
       "      <th>canvass-re-inspection</th>\n",
       "      <td>22824</td>\n",
       "    </tr>\n",
       "    <tr>\n",
       "      <th>complaint</th>\n",
       "      <td>19908</td>\n",
       "    </tr>\n",
       "    <tr>\n",
       "      <th>license-re-inspection</th>\n",
       "      <td>9631</td>\n",
       "    </tr>\n",
       "    <tr>\n",
       "      <th>...</th>\n",
       "      <td>...</td>\n",
       "    </tr>\n",
       "    <tr>\n",
       "      <th>task-force-not-ready</th>\n",
       "      <td>1</td>\n",
       "    </tr>\n",
       "    <tr>\n",
       "      <th>task-force-liquor--1481-</th>\n",
       "      <td>1</td>\n",
       "    </tr>\n",
       "    <tr>\n",
       "      <th>liqour-task-force-not-ready</th>\n",
       "      <td>1</td>\n",
       "    </tr>\n",
       "    <tr>\n",
       "      <th>finish-complaint-inspection-from-5-18-10</th>\n",
       "      <td>1</td>\n",
       "    </tr>\n",
       "    <tr>\n",
       "      <th>out-ofbusiness</th>\n",
       "      <td>1</td>\n",
       "    </tr>\n",
       "  </tbody>\n",
       "</table>\n",
       "<p>99 rows × 1 columns</p>\n",
       "</div>"
      ],
      "text/plain": [
       "                                          inspection_type\n",
       "canvass                                            114225\n",
       "license                                             28294\n",
       "canvass-re-inspection                               22824\n",
       "complaint                                           19908\n",
       "license-re-inspection                                9631\n",
       "...                                                   ...\n",
       "task-force-not-ready                                    1\n",
       "task-force-liquor--1481-                                1\n",
       "liqour-task-force-not-ready                             1\n",
       "finish-complaint-inspection-from-5-18-10                1\n",
       "out-ofbusiness                                          1\n",
       "\n",
       "[99 rows x 1 columns]"
      ]
     },
     "execution_count": 100,
     "metadata": {},
     "output_type": "execute_result"
    }
   ],
   "source": [
    "dfx"
   ]
  },
  {
   "cell_type": "code",
   "execution_count": 101,
   "metadata": {
    "ExecuteTime": {
     "end_time": "2021-03-08T00:28:40.563231Z",
     "start_time": "2021-03-08T00:28:40.528637Z"
    },
    "hidden": true,
    "scrolled": true
   },
   "outputs": [
    {
     "data": {
      "text/html": [
       "<div>\n",
       "<style scoped>\n",
       "    .dataframe tbody tr th:only-of-type {\n",
       "        vertical-align: middle;\n",
       "    }\n",
       "\n",
       "    .dataframe tbody tr th {\n",
       "        vertical-align: top;\n",
       "    }\n",
       "\n",
       "    .dataframe thead th {\n",
       "        text-align: right;\n",
       "    }\n",
       "</style>\n",
       "<table border=\"1\" class=\"dataframe\">\n",
       "  <thead>\n",
       "    <tr style=\"text-align: right;\">\n",
       "      <th></th>\n",
       "      <th>inspection_type</th>\n",
       "    </tr>\n",
       "  </thead>\n",
       "  <tbody>\n",
       "    <tr>\n",
       "      <th>canvass</th>\n",
       "      <td>114225</td>\n",
       "    </tr>\n",
       "    <tr>\n",
       "      <th>canvass-re-inspection</th>\n",
       "      <td>22824</td>\n",
       "    </tr>\n",
       "    <tr>\n",
       "      <th>canvass-for-rib-fest</th>\n",
       "      <td>1</td>\n",
       "    </tr>\n",
       "    <tr>\n",
       "      <th>canvass-special-events</th>\n",
       "      <td>1</td>\n",
       "    </tr>\n",
       "    <tr>\n",
       "      <th>canvass-special-event</th>\n",
       "      <td>1</td>\n",
       "    </tr>\n",
       "    <tr>\n",
       "      <th>canvass-school-special-event</th>\n",
       "      <td>1</td>\n",
       "    </tr>\n",
       "    <tr>\n",
       "      <th>canvass-re-inspection-of-close-up</th>\n",
       "      <td>1</td>\n",
       "    </tr>\n",
       "  </tbody>\n",
       "</table>\n",
       "</div>"
      ],
      "text/plain": [
       "                                   inspection_type\n",
       "canvass                                     114225\n",
       "canvass-re-inspection                        22824\n",
       "canvass-for-rib-fest                             1\n",
       "canvass-special-events                           1\n",
       "canvass-special-event                            1\n",
       "canvass-school-special-event                     1\n",
       "canvass-re-inspection-of-close-up                1"
      ]
     },
     "execution_count": 101,
     "metadata": {},
     "output_type": "execute_result"
    }
   ],
   "source": [
    "# mr1 = dfx[\"facility_type\"] <= 1\n",
    "mr2 = dfx.index.str.contains(\"canvass\")\n",
    "dfx.loc[(mr2), :][:50]"
   ]
  },
  {
   "cell_type": "code",
   "execution_count": 102,
   "metadata": {
    "ExecuteTime": {
     "end_time": "2021-03-08T00:28:42.130534Z",
     "start_time": "2021-03-08T00:28:42.096005Z"
    },
    "hidden": true,
    "scrolled": true
   },
   "outputs": [
    {
     "data": {
      "text/html": [
       "<div>\n",
       "<style scoped>\n",
       "    .dataframe tbody tr th:only-of-type {\n",
       "        vertical-align: middle;\n",
       "    }\n",
       "\n",
       "    .dataframe tbody tr th {\n",
       "        vertical-align: top;\n",
       "    }\n",
       "\n",
       "    .dataframe thead th {\n",
       "        text-align: right;\n",
       "    }\n",
       "</style>\n",
       "<table border=\"1\" class=\"dataframe\">\n",
       "  <thead>\n",
       "    <tr style=\"text-align: right;\">\n",
       "      <th></th>\n",
       "      <th>inspection_type</th>\n",
       "    </tr>\n",
       "  </thead>\n",
       "  <tbody>\n",
       "    <tr>\n",
       "      <th>license</th>\n",
       "      <td>28294</td>\n",
       "    </tr>\n",
       "    <tr>\n",
       "      <th>license-re-inspection</th>\n",
       "      <td>9631</td>\n",
       "    </tr>\n",
       "    <tr>\n",
       "      <th>license-task-force</th>\n",
       "      <td>604</td>\n",
       "    </tr>\n",
       "    <tr>\n",
       "      <th>license-request</th>\n",
       "      <td>19</td>\n",
       "    </tr>\n",
       "    <tr>\n",
       "      <th>pre-license-consultation</th>\n",
       "      <td>15</td>\n",
       "    </tr>\n",
       "    <tr>\n",
       "      <th>license-consultation</th>\n",
       "      <td>3</td>\n",
       "    </tr>\n",
       "    <tr>\n",
       "      <th>license-renewal-for-daycare</th>\n",
       "      <td>2</td>\n",
       "    </tr>\n",
       "    <tr>\n",
       "      <th>license-not-ready</th>\n",
       "      <td>2</td>\n",
       "    </tr>\n",
       "    <tr>\n",
       "      <th>license-renewal-inspection-for-daycare</th>\n",
       "      <td>1</td>\n",
       "    </tr>\n",
       "    <tr>\n",
       "      <th>license-task-force---not--for-profit-clu</th>\n",
       "      <td>1</td>\n",
       "    </tr>\n",
       "    <tr>\n",
       "      <th>license-task-force---not--for-profit-club</th>\n",
       "      <td>1</td>\n",
       "    </tr>\n",
       "    <tr>\n",
       "      <th>license-wrong-address</th>\n",
       "      <td>1</td>\n",
       "    </tr>\n",
       "    <tr>\n",
       "      <th>day-care-license-renewal</th>\n",
       "      <td>1</td>\n",
       "    </tr>\n",
       "    <tr>\n",
       "      <th>license-task-1474</th>\n",
       "      <td>1</td>\n",
       "    </tr>\n",
       "    <tr>\n",
       "      <th>license-daycare-1586</th>\n",
       "      <td>1</td>\n",
       "    </tr>\n",
       "    <tr>\n",
       "      <th>1315-license-reinspection</th>\n",
       "      <td>1</td>\n",
       "    </tr>\n",
       "    <tr>\n",
       "      <th>owner-suspended-operation-license</th>\n",
       "      <td>1</td>\n",
       "    </tr>\n",
       "    <tr>\n",
       "      <th>license-canceled-by-owner</th>\n",
       "      <td>1</td>\n",
       "    </tr>\n",
       "  </tbody>\n",
       "</table>\n",
       "</div>"
      ],
      "text/plain": [
       "                                           inspection_type\n",
       "license                                              28294\n",
       "license-re-inspection                                 9631\n",
       "license-task-force                                     604\n",
       "license-request                                         19\n",
       "pre-license-consultation                                15\n",
       "license-consultation                                     3\n",
       "license-renewal-for-daycare                              2\n",
       "license-not-ready                                        2\n",
       "license-renewal-inspection-for-daycare                   1\n",
       "license-task-force---not--for-profit-clu                 1\n",
       "license-task-force---not--for-profit-club                1\n",
       "license-wrong-address                                    1\n",
       "day-care-license-renewal                                 1\n",
       "license-task-1474                                        1\n",
       "license-daycare-1586                                     1\n",
       "1315-license-reinspection                                1\n",
       "owner-suspended-operation-license                        1\n",
       "license-canceled-by-owner                                1"
      ]
     },
     "execution_count": 102,
     "metadata": {},
     "output_type": "execute_result"
    }
   ],
   "source": [
    "# mr1 = dfx[\"facility_type\"] <= 1\n",
    "mr2 = dfx.index.str.contains(\"license\")\n",
    "dfx.loc[(mr2), :][:50]"
   ]
  },
  {
   "cell_type": "markdown",
   "metadata": {
    "hidden": true
   },
   "source": [
    "**Notas de análisis:**\n",
    "- @7/Mar/2021\n",
    "    - Una vez limpiados los textos, la cantidad de únicos pasó de 111 a 99.\n",
    "    - Tal vez podríamos agrupar las categorías por aparición de palabras clave (e.g. `canvass` OR `license`).\n",
    "    - Todas las que caigan fuera de las categorías, serán incluidas en una reserva llamada \"Otros\"\n",
    "    - Podría valer la pena hacer un análisis de clústering para agrupar palabras por similitudes y así definir las categorías. (tal vez va a ser difícil hacer estas asociaciones.)"
   ]
  },
  {
   "cell_type": "markdown",
   "metadata": {},
   "source": [
    "#### 3. Limpieza de campo `violations`"
   ]
  },
  {
   "cell_type": "code",
   "execution_count": 103,
   "metadata": {
    "ExecuteTime": {
     "end_time": "2021-03-08T00:30:22.694069Z",
     "start_time": "2021-03-08T00:30:22.639870Z"
    },
    "scrolled": true
   },
   "outputs": [
    {
     "data": {
      "text/html": [
       "<div>\n",
       "<style scoped>\n",
       "    .dataframe tbody tr th:only-of-type {\n",
       "        vertical-align: middle;\n",
       "    }\n",
       "\n",
       "    .dataframe tbody tr th {\n",
       "        vertical-align: top;\n",
       "    }\n",
       "\n",
       "    .dataframe thead th {\n",
       "        text-align: right;\n",
       "    }\n",
       "</style>\n",
       "<table border=\"1\" class=\"dataframe\">\n",
       "  <thead>\n",
       "    <tr style=\"text-align: right;\">\n",
       "      <th></th>\n",
       "      <th>inspection_id</th>\n",
       "      <th>dba_name</th>\n",
       "      <th>aka_name</th>\n",
       "      <th>license_#</th>\n",
       "      <th>facility_type</th>\n",
       "      <th>risk</th>\n",
       "      <th>address</th>\n",
       "      <th>city</th>\n",
       "      <th>state</th>\n",
       "      <th>zip</th>\n",
       "      <th>inspection_date</th>\n",
       "      <th>inspection_type</th>\n",
       "      <th>results</th>\n",
       "      <th>violations</th>\n",
       "      <th>latitude</th>\n",
       "      <th>longitude</th>\n",
       "      <th>location</th>\n",
       "    </tr>\n",
       "  </thead>\n",
       "  <tbody>\n",
       "    <tr>\n",
       "      <th>0</th>\n",
       "      <td>2453552</td>\n",
       "      <td>CLAMP DOWN BURGERS</td>\n",
       "      <td>NaN</td>\n",
       "      <td>2749943.0</td>\n",
       "      <td>nan</td>\n",
       "      <td>Risk 2 (Medium)</td>\n",
       "      <td>1742 W DIVISION ST</td>\n",
       "      <td>CHICAGO</td>\n",
       "      <td>IL</td>\n",
       "      <td>60622.0</td>\n",
       "      <td>10/20/2020</td>\n",
       "      <td>license</td>\n",
       "      <td>No Entry</td>\n",
       "      <td>NaN</td>\n",
       "      <td>41.903387</td>\n",
       "      <td>-87.671740</td>\n",
       "      <td>(-87.67174026586648, 41.903386755553484)</td>\n",
       "    </tr>\n",
       "    <tr>\n",
       "      <th>1</th>\n",
       "      <td>2386633</td>\n",
       "      <td>JIN JU</td>\n",
       "      <td>JIN JU</td>\n",
       "      <td>27137.0</td>\n",
       "      <td>restaurant</td>\n",
       "      <td>Risk 1 (High)</td>\n",
       "      <td>5203 N CLARK ST</td>\n",
       "      <td>CHICAGO</td>\n",
       "      <td>IL</td>\n",
       "      <td>60640.0</td>\n",
       "      <td>08/28/2020</td>\n",
       "      <td>canvass</td>\n",
       "      <td>No Entry</td>\n",
       "      <td>NaN</td>\n",
       "      <td>41.976301</td>\n",
       "      <td>-87.668276</td>\n",
       "      <td>(-87.66827593789948, 41.97630115368914)</td>\n",
       "    </tr>\n",
       "    <tr>\n",
       "      <th>2</th>\n",
       "      <td>2386595</td>\n",
       "      <td>LA BIZNAGA #2</td>\n",
       "      <td>LA BIZNAGA #2</td>\n",
       "      <td>2708992.0</td>\n",
       "      <td>nan</td>\n",
       "      <td>Risk 1 (High)</td>\n",
       "      <td>2949 W BELMONT AVE</td>\n",
       "      <td>CHICAGO</td>\n",
       "      <td>IL</td>\n",
       "      <td>60618.0</td>\n",
       "      <td>08/27/2020</td>\n",
       "      <td>complaint</td>\n",
       "      <td>No Entry</td>\n",
       "      <td>NaN</td>\n",
       "      <td>41.939256</td>\n",
       "      <td>-87.702270</td>\n",
       "      <td>(-87.70226967930802, 41.939255926667535)</td>\n",
       "    </tr>\n",
       "    <tr>\n",
       "      <th>3</th>\n",
       "      <td>2386464</td>\n",
       "      <td>Uni Sushi Bristo</td>\n",
       "      <td>Uni Sushi Bistro</td>\n",
       "      <td>2262637.0</td>\n",
       "      <td>restaurant</td>\n",
       "      <td>Risk 1 (High)</td>\n",
       "      <td>1752 W NORTH AVE</td>\n",
       "      <td>CHICAGO</td>\n",
       "      <td>IL</td>\n",
       "      <td>60622.0</td>\n",
       "      <td>08/25/2020</td>\n",
       "      <td>complaint</td>\n",
       "      <td>No Entry</td>\n",
       "      <td>NaN</td>\n",
       "      <td>41.910676</td>\n",
       "      <td>-87.672205</td>\n",
       "      <td>(-87.67220465807979, 41.91067561170382)</td>\n",
       "    </tr>\n",
       "    <tr>\n",
       "      <th>4</th>\n",
       "      <td>2386398</td>\n",
       "      <td>KIKI'S BISTRO</td>\n",
       "      <td>KIKI'S BISTRO</td>\n",
       "      <td>22899.0</td>\n",
       "      <td>restaurant</td>\n",
       "      <td>Risk 1 (High)</td>\n",
       "      <td>900 N FRANKLIN ST</td>\n",
       "      <td>CHICAGO</td>\n",
       "      <td>IL</td>\n",
       "      <td>60610.0</td>\n",
       "      <td>08/24/2020</td>\n",
       "      <td>canvass</td>\n",
       "      <td>No Entry</td>\n",
       "      <td>NaN</td>\n",
       "      <td>41.898998</td>\n",
       "      <td>-87.635921</td>\n",
       "      <td>(-87.63592067312285, 41.89899799424835)</td>\n",
       "    </tr>\n",
       "    <tr>\n",
       "      <th>...</th>\n",
       "      <td>...</td>\n",
       "      <td>...</td>\n",
       "      <td>...</td>\n",
       "      <td>...</td>\n",
       "      <td>...</td>\n",
       "      <td>...</td>\n",
       "      <td>...</td>\n",
       "      <td>...</td>\n",
       "      <td>...</td>\n",
       "      <td>...</td>\n",
       "      <td>...</td>\n",
       "      <td>...</td>\n",
       "      <td>...</td>\n",
       "      <td>...</td>\n",
       "      <td>...</td>\n",
       "      <td>...</td>\n",
       "      <td>...</td>\n",
       "    </tr>\n",
       "    <tr>\n",
       "      <th>215062</th>\n",
       "      <td>229233</td>\n",
       "      <td>ZULLO'S MARKETS, LLC</td>\n",
       "      <td>ZULLO'S MARKET</td>\n",
       "      <td>2016915.0</td>\n",
       "      <td>restaurant</td>\n",
       "      <td>Risk 2 (Medium)</td>\n",
       "      <td>131 N Clinton ST</td>\n",
       "      <td>CHICAGO</td>\n",
       "      <td>IL</td>\n",
       "      <td>60661.0</td>\n",
       "      <td>02/18/2010</td>\n",
       "      <td>license</td>\n",
       "      <td>Fail</td>\n",
       "      <td>NaN</td>\n",
       "      <td>41.884188</td>\n",
       "      <td>-87.641120</td>\n",
       "      <td>(-87.64111966683218, 41.884187507127805)</td>\n",
       "    </tr>\n",
       "    <tr>\n",
       "      <th>215063</th>\n",
       "      <td>68205</td>\n",
       "      <td>LA FONDA CHIQUITA TLC</td>\n",
       "      <td>LA FONDA CHIQUITA</td>\n",
       "      <td>2017215.0</td>\n",
       "      <td>restaurant</td>\n",
       "      <td>Risk 1 (High)</td>\n",
       "      <td>5940 W DIVERSEY AVE</td>\n",
       "      <td>CHICAGO</td>\n",
       "      <td>IL</td>\n",
       "      <td>60639.0</td>\n",
       "      <td>02/09/2010</td>\n",
       "      <td>license</td>\n",
       "      <td>Fail</td>\n",
       "      <td>12. HAND WASHING FACILITIES: WITH SOAP AND SAN...</td>\n",
       "      <td>41.931260</td>\n",
       "      <td>-87.775203</td>\n",
       "      <td>(-87.77520287598688, 41.93125971874477)</td>\n",
       "    </tr>\n",
       "    <tr>\n",
       "      <th>215064</th>\n",
       "      <td>88234</td>\n",
       "      <td>KABAB CUISINE 2</td>\n",
       "      <td>KABAB CUISINE 2</td>\n",
       "      <td>2014076.0</td>\n",
       "      <td>restaurant</td>\n",
       "      <td>Risk 1 (High)</td>\n",
       "      <td>6320 N LINCOLN AVE</td>\n",
       "      <td>CHICAGO</td>\n",
       "      <td>IL</td>\n",
       "      <td>60659.0</td>\n",
       "      <td>02/01/2010</td>\n",
       "      <td>license-re-inspection</td>\n",
       "      <td>Pass</td>\n",
       "      <td>NaN</td>\n",
       "      <td>41.996139</td>\n",
       "      <td>-87.716968</td>\n",
       "      <td>(-87.71696834498202, 41.996139331170895)</td>\n",
       "    </tr>\n",
       "    <tr>\n",
       "      <th>215065</th>\n",
       "      <td>74311</td>\n",
       "      <td>MARGARITA DISTRIBUTORS</td>\n",
       "      <td>NaN</td>\n",
       "      <td>2017298.0</td>\n",
       "      <td>wholesale</td>\n",
       "      <td>Risk 3 (Low)</td>\n",
       "      <td>2332 S BLUE ISLAND AVE BLDG</td>\n",
       "      <td>CHICAGO</td>\n",
       "      <td>IL</td>\n",
       "      <td>60608.0</td>\n",
       "      <td>02/19/2010</td>\n",
       "      <td>license-re-inspection</td>\n",
       "      <td>Pass</td>\n",
       "      <td>NaN</td>\n",
       "      <td>41.849940</td>\n",
       "      <td>-87.672421</td>\n",
       "      <td>(-87.67242100722251, 41.84994008002549)</td>\n",
       "    </tr>\n",
       "    <tr>\n",
       "      <th>215066</th>\n",
       "      <td>67838</td>\n",
       "      <td>OUR LADY OF LOURDES</td>\n",
       "      <td>OUR LADY OF LOURDES</td>\n",
       "      <td>42577.0</td>\n",
       "      <td>daycare--under-2-years-</td>\n",
       "      <td>Risk 1 (High)</td>\n",
       "      <td>1449 S KEELER AVE</td>\n",
       "      <td>CHICAGO</td>\n",
       "      <td>IL</td>\n",
       "      <td>60623.0</td>\n",
       "      <td>01/12/2010</td>\n",
       "      <td>canvass</td>\n",
       "      <td>Fail</td>\n",
       "      <td>18. NO EVIDENCE OF RODENT OR INSECT OUTER OPEN...</td>\n",
       "      <td>41.861003</td>\n",
       "      <td>-87.729762</td>\n",
       "      <td>(-87.72976247742804, 41.861003270876026)</td>\n",
       "    </tr>\n",
       "  </tbody>\n",
       "</table>\n",
       "<p>215067 rows × 17 columns</p>\n",
       "</div>"
      ],
      "text/plain": [
       "        inspection_id                dba_name             aka_name  license_#  \\\n",
       "0             2453552      CLAMP DOWN BURGERS                  NaN  2749943.0   \n",
       "1             2386633                  JIN JU               JIN JU    27137.0   \n",
       "2             2386595           LA BIZNAGA #2        LA BIZNAGA #2  2708992.0   \n",
       "3             2386464        Uni Sushi Bristo     Uni Sushi Bistro  2262637.0   \n",
       "4             2386398           KIKI'S BISTRO        KIKI'S BISTRO    22899.0   \n",
       "...               ...                     ...                  ...        ...   \n",
       "215062         229233    ZULLO'S MARKETS, LLC       ZULLO'S MARKET  2016915.0   \n",
       "215063          68205   LA FONDA CHIQUITA TLC    LA FONDA CHIQUITA  2017215.0   \n",
       "215064          88234         KABAB CUISINE 2      KABAB CUISINE 2  2014076.0   \n",
       "215065          74311  MARGARITA DISTRIBUTORS                  NaN  2017298.0   \n",
       "215066          67838     OUR LADY OF LOURDES  OUR LADY OF LOURDES    42577.0   \n",
       "\n",
       "                  facility_type             risk  \\\n",
       "0                           nan  Risk 2 (Medium)   \n",
       "1                    restaurant    Risk 1 (High)   \n",
       "2                           nan    Risk 1 (High)   \n",
       "3                    restaurant    Risk 1 (High)   \n",
       "4                    restaurant    Risk 1 (High)   \n",
       "...                         ...              ...   \n",
       "215062               restaurant  Risk 2 (Medium)   \n",
       "215063               restaurant    Risk 1 (High)   \n",
       "215064               restaurant    Risk 1 (High)   \n",
       "215065                wholesale     Risk 3 (Low)   \n",
       "215066  daycare--under-2-years-    Risk 1 (High)   \n",
       "\n",
       "                             address     city state      zip inspection_date  \\\n",
       "0                1742 W DIVISION ST   CHICAGO    IL  60622.0      10/20/2020   \n",
       "1                   5203 N CLARK ST   CHICAGO    IL  60640.0      08/28/2020   \n",
       "2                2949 W BELMONT AVE   CHICAGO    IL  60618.0      08/27/2020   \n",
       "3                  1752 W NORTH AVE   CHICAGO    IL  60622.0      08/25/2020   \n",
       "4                 900 N FRANKLIN ST   CHICAGO    IL  60610.0      08/24/2020   \n",
       "...                              ...      ...   ...      ...             ...   \n",
       "215062             131 N Clinton ST   CHICAGO    IL  60661.0      02/18/2010   \n",
       "215063          5940 W DIVERSEY AVE   CHICAGO    IL  60639.0      02/09/2010   \n",
       "215064           6320 N LINCOLN AVE   CHICAGO    IL  60659.0      02/01/2010   \n",
       "215065  2332 S BLUE ISLAND AVE BLDG   CHICAGO    IL  60608.0      02/19/2010   \n",
       "215066            1449 S KEELER AVE   CHICAGO    IL  60623.0      01/12/2010   \n",
       "\n",
       "              inspection_type   results  \\\n",
       "0                     license  No Entry   \n",
       "1                     canvass  No Entry   \n",
       "2                   complaint  No Entry   \n",
       "3                   complaint  No Entry   \n",
       "4                     canvass  No Entry   \n",
       "...                       ...       ...   \n",
       "215062                license      Fail   \n",
       "215063                license      Fail   \n",
       "215064  license-re-inspection      Pass   \n",
       "215065  license-re-inspection      Pass   \n",
       "215066                canvass      Fail   \n",
       "\n",
       "                                               violations   latitude  \\\n",
       "0                                                     NaN  41.903387   \n",
       "1                                                     NaN  41.976301   \n",
       "2                                                     NaN  41.939256   \n",
       "3                                                     NaN  41.910676   \n",
       "4                                                     NaN  41.898998   \n",
       "...                                                   ...        ...   \n",
       "215062                                                NaN  41.884188   \n",
       "215063  12. HAND WASHING FACILITIES: WITH SOAP AND SAN...  41.931260   \n",
       "215064                                                NaN  41.996139   \n",
       "215065                                                NaN  41.849940   \n",
       "215066  18. NO EVIDENCE OF RODENT OR INSECT OUTER OPEN...  41.861003   \n",
       "\n",
       "        longitude                                  location  \n",
       "0      -87.671740  (-87.67174026586648, 41.903386755553484)  \n",
       "1      -87.668276   (-87.66827593789948, 41.97630115368914)  \n",
       "2      -87.702270  (-87.70226967930802, 41.939255926667535)  \n",
       "3      -87.672205   (-87.67220465807979, 41.91067561170382)  \n",
       "4      -87.635921   (-87.63592067312285, 41.89899799424835)  \n",
       "...           ...                                       ...  \n",
       "215062 -87.641120  (-87.64111966683218, 41.884187507127805)  \n",
       "215063 -87.775203   (-87.77520287598688, 41.93125971874477)  \n",
       "215064 -87.716968  (-87.71696834498202, 41.996139331170895)  \n",
       "215065 -87.672421   (-87.67242100722251, 41.84994008002549)  \n",
       "215066 -87.729762  (-87.72976247742804, 41.861003270876026)  \n",
       "\n",
       "[215067 rows x 17 columns]"
      ]
     },
     "execution_count": 103,
     "metadata": {},
     "output_type": "execute_result"
    }
   ],
   "source": [
    "df"
   ]
  },
  {
   "cell_type": "code",
   "execution_count": 104,
   "metadata": {
    "ExecuteTime": {
     "end_time": "2021-03-08T00:30:22.977663Z",
     "start_time": "2021-03-08T00:30:22.696073Z"
    },
    "scrolled": true
   },
   "outputs": [
    {
     "data": {
      "text/plain": [
       "array([\"3. MANAGEMENT, FOOD EMPLOYEE AND CONDITIONAL EMPLOYEE; KNOWLEDGE, RESPONSIBILITIES AND REPORTING - Comments: NO EMPLOYEE HEALTH POLICY ONSITE. INSTRUCTED TO PROVIDE THE CITY'S HEALTH FORM OR SIMILAR DOCUMENTS USED TO DEMONSTRATE COMPLIANCE. PRIORITY FOUNDATION 7-38-010. NO CITATION ISSUED. - | 5. PROCEDURES FOR RESPONDING TO VOMITING AND DIARRHEAL EVENTS - Comments: NO CLEAN UP SUPPLIES OR PROCEDURES ONSITE FOR VOMITING OR DIARRHEA EVENTS. INSTRUCTED TO PROVIDE SUPPLIES AND POST PROCEDURES FOR EMPLOYEES TO FOLLOW. PRIORITY FOUNDATION. 7-38-005 NO CITATION ISSUED. | 10. ADEQUATE HANDWASHING SINKS PROPERLY SUPPLIED AND ACCESSIBLE - Comments:  MUST POST HAND-WASHING SIGNAGE AT HAND SINK IN PREP AREA. INSTRUCTED TO MAINTAIN.  | 10. ADEQUATE HANDWASHING SINKS PROPERLY SUPPLIED AND ACCESSIBLE - Comments: MUST DESIGNATE (EXISTING COMPARTMENT SINKS) HAND WASHING SINK AT PREP AREA,TO BE USED IN THE KITCHEN/DISHROOM. PRIORITY FOUNDATION  VIOLATION:7-38-030(C)NO CITATION ISSUED | 16. FOOD-CONTACT SURFACES: CLEANED & SANITIZED - Comments: WE OBSERVED EXCESS BLACK SLIME SUBSTANCE  AT INTERIOR OF ICE MACHINE ( TOP AND ICE DISPENSER), ICE IS USED FOR HUMAN CONSUMPTION. INSTRUCTED TO CLEAN, SANITIZE AND MAINTAIN UNIT.  PRIORITY FOUNDATION VIOLATION:7-38-005,CITATION ISSUED | 36. THERMOMETERS PROVIDED & ACCURATE - Comments: A STEM THERMOMETER IS NEEDED ON SITE TO BE ABLE TO CHECK TCS FOOD (COLD),INSTRUCTED TO PROVIDE. PRIORITY FOUNDATION VIOLATION:7-38-005,NO CITATION ISSUED | 37. FOOD PROPERLY LABELED; ORIGINAL CONTAINER - Comments: FOOD IN PLASTIC BOTTLES ON TOP SERVING COUNTER FOR CUSTOMER MUST HAVE A COMMON LABEL WITH NAME OF THE PRODUCT | 38. INSECTS, RODENTS, & ANIMALS NOT PRESENT - Comments:  REAR EXIT DOOR/WINDOW OVERLOOKING PATIO WITH 1/4' GAP INSTRUCTED TO REPAIR   | 39. CONTAMINATION PREVENTED DURING FOOD PREPARATION, STORAGE & DISPLAY - Comments: OBSERVED  CUSTOMERS USING PREP AREA,COOKING AND REHEATING FOOD: NO HAIR RESTRAINT,NO HAND WASHING, SERVING UTENSIL ARE HANDLED AND IF NOT USED FOR WHAT IS NEEDED IS RE-STORED WITH CLEAN UTENSILS ETC. SOURCE OF CONTAMINATION. INSTRUCTED TO PROVIDE AN AUTHORIZED SIGN  FOR THE KITCHEN AREA 'EMPLOYEES ONLY' | 39. CONTAMINATION PREVENTED DURING FOOD PREPARATION, STORAGE & DISPLAY - Comments: A SPLASH GUARD IS NEED AT ONE COMPARTMENT SINK IF SAID SINK IS USED FOR HANDWASHING. PROVIDE SPLASH GUARD BETWEEN SAID SINK AND  PREP COUNTER TOP. SURFACE MUST BE SMOOTH CLEANABLE AND NON-ABSORBENT SURFACE. | 43. IN-USE UTENSILS: PROPERLY STORED - Comments: UTENSILS STORED ON TOP PREP COUNTER MUST BE INVERTED, HANDLE UP. | 47. FOOD & NON-FOOD CONTACT SURFACES CLEANABLE, PROPERLY DESIGNED, CONSTRUCTED & USED - Comments: INTERIOR OF BOTH STOVES WITH A BUILD-UP OF BURNED FOOD DEBRIS.CLEAN AND MAINTAIN | 47. FOOD & NON-FOOD CONTACT SURFACES CLEANABLE, PROPERLY DESIGNED, CONSTRUCTED & USED - Comments:  MUST STAIN OR PAINT UNTREATED WOOD STORAGE RACK IN REAR FOOD STORAGE AREA. INSTRUCTED TO MAINTAIN. SURFACE MUST BE SMOOTH CLEANABLE AND NON-ABSORBENT SURFACE | 48. WAREWASHING FACILITIES: INSTALLED, MAINTAINED & USED; TEST STRIPS - Comments: FOUND LOW TEMP DISHMACHINE NOT OPERABLE AND NOT IN USE AT PRESENT TIME.AWAITING FOR TECHNICIAN.TAGGED UNIT 'HELD FOR INSPECTION' DO NOT USE. PRIORITY VIOLATION:7-38-025,NO CITATION ISSUED.  | 49. NON-FOOD/FOOD CONTACT SURFACES CLEAN - Comments: ALL DIRTY EQUIPMENT STORED INSIDE THE COUNTER TOP CABINET MUST BE CLEANED OR REMOVE FROM PREMISES. MUST CLEAN EXCESS BLACK SLIME FROM INSIDE THE THREE COMPARTMENT SINK AROUND MECHANICAL DRAIN STOPPER | 51. PLUMBING INSTALLED; PROPER BACKFLOW DEVICES - Comments: 5-204.12  NO BACK FLOW PREVENTION DEVICE PROVIDED AT LOW TEMP DISHMACHINE ,ICE MACHINE AND COFFEE UNIT WATER LINE. MUST INSTALL SO BACK FLOW PREVENTION DEVICE MAY BE LOCATED TO BE SERVICED AND MAINTAIN OR KNOW THE LOCATION | 52. SEWAGE & WASTE WATER PROPERLY DISPOSED - Comments: NO GREASE TRAP PROVIDED UNDER THREE COMPARTMENT SINK/DISH MACHINE, INSTRUCTED TO INSTALL | 53. TOILET FACILITIES: PROPERLY CONSTRUCTED, SUPPLIED, & CLEANED - Comments: STAFF WASHROOM DOOR NOT SELF CLOSING DEVICE IN BASEMENT AREA,INSTRUCTED TO PROVIDE SAID DEVICE  | 55. PHYSICAL FACILITIES INSTALLED, MAINTAINED & CLEAN - Comments: BROKEN WALL BY THE LOW TEMP DISHMACHINE,INSTRUCTED TO REPAIR. ALSO BROKEN WALL AT REAR SMALL STORAGE AREA,SURFACE MUST BE SMOOTH,CLEANABLE AND NON-ABSORBENT SURFACE. MISSING FLOOR TILES AT REAR STORAGE AREA WERE MILK IS SORED | 55. PHYSICAL FACILITIES INSTALLED, MAINTAINED & CLEAN - Comments:  MUST DETAIL CLEAN FLOOR IN REAR FOOD STORAGE AREA AND THROUGHOUT THE PREP AREA SPECIALLY UNDER EQUIPMENT(EGGS,FOOD DEBRIS PAPER ACCUMULATION OF GRIMES INSTRUCTED TO CLEAN AND  MAINTAIN.  | 57. ALL FOOD EMPLOYEES HAVE FOOD HANDLER TRAINING - Comments: NO FOOD HANDLER  TRAINING  CERTIFICATE PROVIDED ON SITE.INSTRUCTED TO PROVIDE. INFORMATION PROVIDED.\"],\n",
       "      dtype=object)"
      ]
     },
     "execution_count": 104,
     "metadata": {},
     "output_type": "execute_result"
    }
   ],
   "source": [
    "mr1 = df[\"violations\"].notnull()\n",
    "df.loc[mr1, [\"violations\"]].values[1]"
   ]
  },
  {
   "cell_type": "code",
   "execution_count": 105,
   "metadata": {
    "ExecuteTime": {
     "end_time": "2021-03-08T00:30:23.269309Z",
     "start_time": "2021-03-08T00:30:22.980659Z"
    },
    "scrolled": true
   },
   "outputs": [
    {
     "data": {
      "text/html": [
       "<div>\n",
       "<style scoped>\n",
       "    .dataframe tbody tr th:only-of-type {\n",
       "        vertical-align: middle;\n",
       "    }\n",
       "\n",
       "    .dataframe tbody tr th {\n",
       "        vertical-align: top;\n",
       "    }\n",
       "\n",
       "    .dataframe thead th {\n",
       "        text-align: right;\n",
       "    }\n",
       "</style>\n",
       "<table border=\"1\" class=\"dataframe\">\n",
       "  <thead>\n",
       "    <tr style=\"text-align: right;\">\n",
       "      <th></th>\n",
       "      <th>inspection_id</th>\n",
       "      <th>dba_name</th>\n",
       "      <th>aka_name</th>\n",
       "      <th>license_#</th>\n",
       "      <th>facility_type</th>\n",
       "      <th>risk</th>\n",
       "      <th>address</th>\n",
       "      <th>city</th>\n",
       "      <th>state</th>\n",
       "      <th>zip</th>\n",
       "      <th>inspection_date</th>\n",
       "      <th>inspection_type</th>\n",
       "      <th>results</th>\n",
       "      <th>violations</th>\n",
       "      <th>latitude</th>\n",
       "      <th>longitude</th>\n",
       "      <th>location</th>\n",
       "    </tr>\n",
       "  </thead>\n",
       "  <tbody>\n",
       "    <tr>\n",
       "      <th>0</th>\n",
       "      <td>2453552</td>\n",
       "      <td>CLAMP DOWN BURGERS</td>\n",
       "      <td>NaN</td>\n",
       "      <td>2749943.0</td>\n",
       "      <td>nan</td>\n",
       "      <td>Risk 2 (Medium)</td>\n",
       "      <td>1742 W DIVISION ST</td>\n",
       "      <td>CHICAGO</td>\n",
       "      <td>IL</td>\n",
       "      <td>60622.0</td>\n",
       "      <td>10/20/2020</td>\n",
       "      <td>license</td>\n",
       "      <td>No Entry</td>\n",
       "      <td>NaN</td>\n",
       "      <td>41.903387</td>\n",
       "      <td>-87.671740</td>\n",
       "      <td>(-87.67174026586648, 41.903386755553484)</td>\n",
       "    </tr>\n",
       "    <tr>\n",
       "      <th>1</th>\n",
       "      <td>2386633</td>\n",
       "      <td>JIN JU</td>\n",
       "      <td>JIN JU</td>\n",
       "      <td>27137.0</td>\n",
       "      <td>restaurant</td>\n",
       "      <td>Risk 1 (High)</td>\n",
       "      <td>5203 N CLARK ST</td>\n",
       "      <td>CHICAGO</td>\n",
       "      <td>IL</td>\n",
       "      <td>60640.0</td>\n",
       "      <td>08/28/2020</td>\n",
       "      <td>canvass</td>\n",
       "      <td>No Entry</td>\n",
       "      <td>NaN</td>\n",
       "      <td>41.976301</td>\n",
       "      <td>-87.668276</td>\n",
       "      <td>(-87.66827593789948, 41.97630115368914)</td>\n",
       "    </tr>\n",
       "    <tr>\n",
       "      <th>2</th>\n",
       "      <td>2386595</td>\n",
       "      <td>LA BIZNAGA #2</td>\n",
       "      <td>LA BIZNAGA #2</td>\n",
       "      <td>2708992.0</td>\n",
       "      <td>nan</td>\n",
       "      <td>Risk 1 (High)</td>\n",
       "      <td>2949 W BELMONT AVE</td>\n",
       "      <td>CHICAGO</td>\n",
       "      <td>IL</td>\n",
       "      <td>60618.0</td>\n",
       "      <td>08/27/2020</td>\n",
       "      <td>complaint</td>\n",
       "      <td>No Entry</td>\n",
       "      <td>NaN</td>\n",
       "      <td>41.939256</td>\n",
       "      <td>-87.702270</td>\n",
       "      <td>(-87.70226967930802, 41.939255926667535)</td>\n",
       "    </tr>\n",
       "    <tr>\n",
       "      <th>3</th>\n",
       "      <td>2386464</td>\n",
       "      <td>Uni Sushi Bristo</td>\n",
       "      <td>Uni Sushi Bistro</td>\n",
       "      <td>2262637.0</td>\n",
       "      <td>restaurant</td>\n",
       "      <td>Risk 1 (High)</td>\n",
       "      <td>1752 W NORTH AVE</td>\n",
       "      <td>CHICAGO</td>\n",
       "      <td>IL</td>\n",
       "      <td>60622.0</td>\n",
       "      <td>08/25/2020</td>\n",
       "      <td>complaint</td>\n",
       "      <td>No Entry</td>\n",
       "      <td>NaN</td>\n",
       "      <td>41.910676</td>\n",
       "      <td>-87.672205</td>\n",
       "      <td>(-87.67220465807979, 41.91067561170382)</td>\n",
       "    </tr>\n",
       "    <tr>\n",
       "      <th>4</th>\n",
       "      <td>2386398</td>\n",
       "      <td>KIKI'S BISTRO</td>\n",
       "      <td>KIKI'S BISTRO</td>\n",
       "      <td>22899.0</td>\n",
       "      <td>restaurant</td>\n",
       "      <td>Risk 1 (High)</td>\n",
       "      <td>900 N FRANKLIN ST</td>\n",
       "      <td>CHICAGO</td>\n",
       "      <td>IL</td>\n",
       "      <td>60610.0</td>\n",
       "      <td>08/24/2020</td>\n",
       "      <td>canvass</td>\n",
       "      <td>No Entry</td>\n",
       "      <td>NaN</td>\n",
       "      <td>41.898998</td>\n",
       "      <td>-87.635921</td>\n",
       "      <td>(-87.63592067312285, 41.89899799424835)</td>\n",
       "    </tr>\n",
       "    <tr>\n",
       "      <th>...</th>\n",
       "      <td>...</td>\n",
       "      <td>...</td>\n",
       "      <td>...</td>\n",
       "      <td>...</td>\n",
       "      <td>...</td>\n",
       "      <td>...</td>\n",
       "      <td>...</td>\n",
       "      <td>...</td>\n",
       "      <td>...</td>\n",
       "      <td>...</td>\n",
       "      <td>...</td>\n",
       "      <td>...</td>\n",
       "      <td>...</td>\n",
       "      <td>...</td>\n",
       "      <td>...</td>\n",
       "      <td>...</td>\n",
       "      <td>...</td>\n",
       "    </tr>\n",
       "    <tr>\n",
       "      <th>215062</th>\n",
       "      <td>229233</td>\n",
       "      <td>ZULLO'S MARKETS, LLC</td>\n",
       "      <td>ZULLO'S MARKET</td>\n",
       "      <td>2016915.0</td>\n",
       "      <td>restaurant</td>\n",
       "      <td>Risk 2 (Medium)</td>\n",
       "      <td>131 N Clinton ST</td>\n",
       "      <td>CHICAGO</td>\n",
       "      <td>IL</td>\n",
       "      <td>60661.0</td>\n",
       "      <td>02/18/2010</td>\n",
       "      <td>license</td>\n",
       "      <td>Fail</td>\n",
       "      <td>NaN</td>\n",
       "      <td>41.884188</td>\n",
       "      <td>-87.641120</td>\n",
       "      <td>(-87.64111966683218, 41.884187507127805)</td>\n",
       "    </tr>\n",
       "    <tr>\n",
       "      <th>215063</th>\n",
       "      <td>68205</td>\n",
       "      <td>LA FONDA CHIQUITA TLC</td>\n",
       "      <td>LA FONDA CHIQUITA</td>\n",
       "      <td>2017215.0</td>\n",
       "      <td>restaurant</td>\n",
       "      <td>Risk 1 (High)</td>\n",
       "      <td>5940 W DIVERSEY AVE</td>\n",
       "      <td>CHICAGO</td>\n",
       "      <td>IL</td>\n",
       "      <td>60639.0</td>\n",
       "      <td>02/09/2010</td>\n",
       "      <td>license</td>\n",
       "      <td>Fail</td>\n",
       "      <td>| 12. HAND WASHING FACILITIES: WITH SOAP AND S...</td>\n",
       "      <td>41.931260</td>\n",
       "      <td>-87.775203</td>\n",
       "      <td>(-87.77520287598688, 41.93125971874477)</td>\n",
       "    </tr>\n",
       "    <tr>\n",
       "      <th>215064</th>\n",
       "      <td>88234</td>\n",
       "      <td>KABAB CUISINE 2</td>\n",
       "      <td>KABAB CUISINE 2</td>\n",
       "      <td>2014076.0</td>\n",
       "      <td>restaurant</td>\n",
       "      <td>Risk 1 (High)</td>\n",
       "      <td>6320 N LINCOLN AVE</td>\n",
       "      <td>CHICAGO</td>\n",
       "      <td>IL</td>\n",
       "      <td>60659.0</td>\n",
       "      <td>02/01/2010</td>\n",
       "      <td>license-re-inspection</td>\n",
       "      <td>Pass</td>\n",
       "      <td>NaN</td>\n",
       "      <td>41.996139</td>\n",
       "      <td>-87.716968</td>\n",
       "      <td>(-87.71696834498202, 41.996139331170895)</td>\n",
       "    </tr>\n",
       "    <tr>\n",
       "      <th>215065</th>\n",
       "      <td>74311</td>\n",
       "      <td>MARGARITA DISTRIBUTORS</td>\n",
       "      <td>NaN</td>\n",
       "      <td>2017298.0</td>\n",
       "      <td>wholesale</td>\n",
       "      <td>Risk 3 (Low)</td>\n",
       "      <td>2332 S BLUE ISLAND AVE BLDG</td>\n",
       "      <td>CHICAGO</td>\n",
       "      <td>IL</td>\n",
       "      <td>60608.0</td>\n",
       "      <td>02/19/2010</td>\n",
       "      <td>license-re-inspection</td>\n",
       "      <td>Pass</td>\n",
       "      <td>NaN</td>\n",
       "      <td>41.849940</td>\n",
       "      <td>-87.672421</td>\n",
       "      <td>(-87.67242100722251, 41.84994008002549)</td>\n",
       "    </tr>\n",
       "    <tr>\n",
       "      <th>215066</th>\n",
       "      <td>67838</td>\n",
       "      <td>OUR LADY OF LOURDES</td>\n",
       "      <td>OUR LADY OF LOURDES</td>\n",
       "      <td>42577.0</td>\n",
       "      <td>daycare--under-2-years-</td>\n",
       "      <td>Risk 1 (High)</td>\n",
       "      <td>1449 S KEELER AVE</td>\n",
       "      <td>CHICAGO</td>\n",
       "      <td>IL</td>\n",
       "      <td>60623.0</td>\n",
       "      <td>01/12/2010</td>\n",
       "      <td>canvass</td>\n",
       "      <td>Fail</td>\n",
       "      <td>| 18. NO EVIDENCE OF RODENT OR INSECT OUTER OP...</td>\n",
       "      <td>41.861003</td>\n",
       "      <td>-87.729762</td>\n",
       "      <td>(-87.72976247742804, 41.861003270876026)</td>\n",
       "    </tr>\n",
       "  </tbody>\n",
       "</table>\n",
       "<p>215067 rows × 17 columns</p>\n",
       "</div>"
      ],
      "text/plain": [
       "        inspection_id                dba_name             aka_name  license_#  \\\n",
       "0             2453552      CLAMP DOWN BURGERS                  NaN  2749943.0   \n",
       "1             2386633                  JIN JU               JIN JU    27137.0   \n",
       "2             2386595           LA BIZNAGA #2        LA BIZNAGA #2  2708992.0   \n",
       "3             2386464        Uni Sushi Bristo     Uni Sushi Bistro  2262637.0   \n",
       "4             2386398           KIKI'S BISTRO        KIKI'S BISTRO    22899.0   \n",
       "...               ...                     ...                  ...        ...   \n",
       "215062         229233    ZULLO'S MARKETS, LLC       ZULLO'S MARKET  2016915.0   \n",
       "215063          68205   LA FONDA CHIQUITA TLC    LA FONDA CHIQUITA  2017215.0   \n",
       "215064          88234         KABAB CUISINE 2      KABAB CUISINE 2  2014076.0   \n",
       "215065          74311  MARGARITA DISTRIBUTORS                  NaN  2017298.0   \n",
       "215066          67838     OUR LADY OF LOURDES  OUR LADY OF LOURDES    42577.0   \n",
       "\n",
       "                  facility_type             risk  \\\n",
       "0                           nan  Risk 2 (Medium)   \n",
       "1                    restaurant    Risk 1 (High)   \n",
       "2                           nan    Risk 1 (High)   \n",
       "3                    restaurant    Risk 1 (High)   \n",
       "4                    restaurant    Risk 1 (High)   \n",
       "...                         ...              ...   \n",
       "215062               restaurant  Risk 2 (Medium)   \n",
       "215063               restaurant    Risk 1 (High)   \n",
       "215064               restaurant    Risk 1 (High)   \n",
       "215065                wholesale     Risk 3 (Low)   \n",
       "215066  daycare--under-2-years-    Risk 1 (High)   \n",
       "\n",
       "                             address     city state      zip inspection_date  \\\n",
       "0                1742 W DIVISION ST   CHICAGO    IL  60622.0      10/20/2020   \n",
       "1                   5203 N CLARK ST   CHICAGO    IL  60640.0      08/28/2020   \n",
       "2                2949 W BELMONT AVE   CHICAGO    IL  60618.0      08/27/2020   \n",
       "3                  1752 W NORTH AVE   CHICAGO    IL  60622.0      08/25/2020   \n",
       "4                 900 N FRANKLIN ST   CHICAGO    IL  60610.0      08/24/2020   \n",
       "...                              ...      ...   ...      ...             ...   \n",
       "215062             131 N Clinton ST   CHICAGO    IL  60661.0      02/18/2010   \n",
       "215063          5940 W DIVERSEY AVE   CHICAGO    IL  60639.0      02/09/2010   \n",
       "215064           6320 N LINCOLN AVE   CHICAGO    IL  60659.0      02/01/2010   \n",
       "215065  2332 S BLUE ISLAND AVE BLDG   CHICAGO    IL  60608.0      02/19/2010   \n",
       "215066            1449 S KEELER AVE   CHICAGO    IL  60623.0      01/12/2010   \n",
       "\n",
       "              inspection_type   results  \\\n",
       "0                     license  No Entry   \n",
       "1                     canvass  No Entry   \n",
       "2                   complaint  No Entry   \n",
       "3                   complaint  No Entry   \n",
       "4                     canvass  No Entry   \n",
       "...                       ...       ...   \n",
       "215062                license      Fail   \n",
       "215063                license      Fail   \n",
       "215064  license-re-inspection      Pass   \n",
       "215065  license-re-inspection      Pass   \n",
       "215066                canvass      Fail   \n",
       "\n",
       "                                               violations   latitude  \\\n",
       "0                                                     NaN  41.903387   \n",
       "1                                                     NaN  41.976301   \n",
       "2                                                     NaN  41.939256   \n",
       "3                                                     NaN  41.910676   \n",
       "4                                                     NaN  41.898998   \n",
       "...                                                   ...        ...   \n",
       "215062                                                NaN  41.884188   \n",
       "215063  | 12. HAND WASHING FACILITIES: WITH SOAP AND S...  41.931260   \n",
       "215064                                                NaN  41.996139   \n",
       "215065                                                NaN  41.849940   \n",
       "215066  | 18. NO EVIDENCE OF RODENT OR INSECT OUTER OP...  41.861003   \n",
       "\n",
       "        longitude                                  location  \n",
       "0      -87.671740  (-87.67174026586648, 41.903386755553484)  \n",
       "1      -87.668276   (-87.66827593789948, 41.97630115368914)  \n",
       "2      -87.702270  (-87.70226967930802, 41.939255926667535)  \n",
       "3      -87.672205   (-87.67220465807979, 41.91067561170382)  \n",
       "4      -87.635921   (-87.63592067312285, 41.89899799424835)  \n",
       "...           ...                                       ...  \n",
       "215062 -87.641120  (-87.64111966683218, 41.884187507127805)  \n",
       "215063 -87.775203   (-87.77520287598688, 41.93125971874477)  \n",
       "215064 -87.716968  (-87.71696834498202, 41.996139331170895)  \n",
       "215065 -87.672421   (-87.67242100722251, 41.84994008002549)  \n",
       "215066 -87.729762  (-87.72976247742804, 41.861003270876026)  \n",
       "\n",
       "[215067 rows x 17 columns]"
      ]
     },
     "execution_count": 105,
     "metadata": {},
     "output_type": "execute_result"
    }
   ],
   "source": [
    "dfx = df.copy()\n",
    "\n",
    "dfx[\"violations\"] = \"| \" + dfx[\"violations\"]\n",
    "\n",
    "dfx"
   ]
  },
  {
   "cell_type": "code",
   "execution_count": 116,
   "metadata": {
    "ExecuteTime": {
     "end_time": "2021-03-09T17:34:30.662363Z",
     "start_time": "2021-03-09T17:34:30.564323Z"
    },
    "scrolled": true
   },
   "outputs": [
    {
     "data": {
      "text/plain": [
       "\"| 3. MANAGEMENT, FOOD EMPLOYEE AND CONDITIONAL EMPLOYEE; KNOWLEDGE, RESPONSIBILITIES AND REPORTING - Comments: NO EMPLOYEE HEALTH POLICY ONSITE. INSTRUCTED TO PROVIDE THE CITY'S HEALTH FORM OR SIMILAR DOCUMENTS USED TO DEMONSTRATE COMPLIANCE. PRIORITY FOUNDATION 7-38-010. NO CITATION ISSUED. - | 5. PROCEDURES FOR RESPONDING TO VOMITING AND DIARRHEAL EVENTS - Comments: NO CLEAN UP SUPPLIES OR PROCEDURES ONSITE FOR VOMITING OR DIARRHEA EVENTS. INSTRUCTED TO PROVIDE SUPPLIES AND POST PROCEDURES FOR EMPLOYEES TO FOLLOW. PRIORITY FOUNDATION. 7-38-005 NO CITATION ISSUED. | 10. ADEQUATE HANDWASHING SINKS PROPERLY SUPPLIED AND ACCESSIBLE - Comments:  MUST POST HAND-WASHING SIGNAGE AT HAND SINK IN PREP AREA. INSTRUCTED TO MAINTAIN.  | 10. ADEQUATE HANDWASHING SINKS PROPERLY SUPPLIED AND ACCESSIBLE - Comments: MUST DESIGNATE (EXISTING COMPARTMENT SINKS) HAND WASHING SINK AT PREP AREA,TO BE USED IN THE KITCHEN/DISHROOM. PRIORITY FOUNDATION  VIOLATION:7-38-030(C)NO CITATION ISSUED | 16. FOOD-CONTACT SURFACES: CLEANED & SANITIZED - Comments: WE OBSERVED EXCESS BLACK SLIME SUBSTANCE  AT INTERIOR OF ICE MACHINE ( TOP AND ICE DISPENSER), ICE IS USED FOR HUMAN CONSUMPTION. INSTRUCTED TO CLEAN, SANITIZE AND MAINTAIN UNIT.  PRIORITY FOUNDATION VIOLATION:7-38-005,CITATION ISSUED | 36. THERMOMETERS PROVIDED & ACCURATE - Comments: A STEM THERMOMETER IS NEEDED ON SITE TO BE ABLE TO CHECK TCS FOOD (COLD),INSTRUCTED TO PROVIDE. PRIORITY FOUNDATION VIOLATION:7-38-005,NO CITATION ISSUED | 37. FOOD PROPERLY LABELED; ORIGINAL CONTAINER - Comments: FOOD IN PLASTIC BOTTLES ON TOP SERVING COUNTER FOR CUSTOMER MUST HAVE A COMMON LABEL WITH NAME OF THE PRODUCT | 38. INSECTS, RODENTS, & ANIMALS NOT PRESENT - Comments:  REAR EXIT DOOR/WINDOW OVERLOOKING PATIO WITH 1/4' GAP INSTRUCTED TO REPAIR   | 39. CONTAMINATION PREVENTED DURING FOOD PREPARATION, STORAGE & DISPLAY - Comments: OBSERVED  CUSTOMERS USING PREP AREA,COOKING AND REHEATING FOOD: NO HAIR RESTRAINT,NO HAND WASHING, SERVING UTENSIL ARE HANDLED AND IF NOT USED FOR WHAT IS NEEDED IS RE-STORED WITH CLEAN UTENSILS ETC. SOURCE OF CONTAMINATION. INSTRUCTED TO PROVIDE AN AUTHORIZED SIGN  FOR THE KITCHEN AREA 'EMPLOYEES ONLY' | 39. CONTAMINATION PREVENTED DURING FOOD PREPARATION, STORAGE & DISPLAY - Comments: A SPLASH GUARD IS NEED AT ONE COMPARTMENT SINK IF SAID SINK IS USED FOR HANDWASHING. PROVIDE SPLASH GUARD BETWEEN SAID SINK AND  PREP COUNTER TOP. SURFACE MUST BE SMOOTH CLEANABLE AND NON-ABSORBENT SURFACE. | 43. IN-USE UTENSILS: PROPERLY STORED - Comments: UTENSILS STORED ON TOP PREP COUNTER MUST BE INVERTED, HANDLE UP. | 47. FOOD & NON-FOOD CONTACT SURFACES CLEANABLE, PROPERLY DESIGNED, CONSTRUCTED & USED - Comments: INTERIOR OF BOTH STOVES WITH A BUILD-UP OF BURNED FOOD DEBRIS.CLEAN AND MAINTAIN | 47. FOOD & NON-FOOD CONTACT SURFACES CLEANABLE, PROPERLY DESIGNED, CONSTRUCTED & USED - Comments:  MUST STAIN OR PAINT UNTREATED WOOD STORAGE RACK IN REAR FOOD STORAGE AREA. INSTRUCTED TO MAINTAIN. SURFACE MUST BE SMOOTH CLEANABLE AND NON-ABSORBENT SURFACE | 48. WAREWASHING FACILITIES: INSTALLED, MAINTAINED & USED; TEST STRIPS - Comments: FOUND LOW TEMP DISHMACHINE NOT OPERABLE AND NOT IN USE AT PRESENT TIME.AWAITING FOR TECHNICIAN.TAGGED UNIT 'HELD FOR INSPECTION' DO NOT USE. PRIORITY VIOLATION:7-38-025,NO CITATION ISSUED.  | 49. NON-FOOD/FOOD CONTACT SURFACES CLEAN - Comments: ALL DIRTY EQUIPMENT STORED INSIDE THE COUNTER TOP CABINET MUST BE CLEANED OR REMOVE FROM PREMISES. MUST CLEAN EXCESS BLACK SLIME FROM INSIDE THE THREE COMPARTMENT SINK AROUND MECHANICAL DRAIN STOPPER | 51. PLUMBING INSTALLED; PROPER BACKFLOW DEVICES - Comments: 5-204.12  NO BACK FLOW PREVENTION DEVICE PROVIDED AT LOW TEMP DISHMACHINE ,ICE MACHINE AND COFFEE UNIT WATER LINE. MUST INSTALL SO BACK FLOW PREVENTION DEVICE MAY BE LOCATED TO BE SERVICED AND MAINTAIN OR KNOW THE LOCATION | 52. SEWAGE & WASTE WATER PROPERLY DISPOSED - Comments: NO GREASE TRAP PROVIDED UNDER THREE COMPARTMENT SINK/DISH MACHINE, INSTRUCTED TO INSTALL | 53. TOILET FACILITIES: PROPERLY CONSTRUCTED, SUPPLIED, & CLEANED - Comments: STAFF WASHROOM DOOR NOT SELF CLOSING DEVICE IN BASEMENT AREA,INSTRUCTED TO PROVIDE SAID DEVICE  | 55. PHYSICAL FACILITIES INSTALLED, MAINTAINED & CLEAN - Comments: BROKEN WALL BY THE LOW TEMP DISHMACHINE,INSTRUCTED TO REPAIR. ALSO BROKEN WALL AT REAR SMALL STORAGE AREA,SURFACE MUST BE SMOOTH,CLEANABLE AND NON-ABSORBENT SURFACE. MISSING FLOOR TILES AT REAR STORAGE AREA WERE MILK IS SORED | 55. PHYSICAL FACILITIES INSTALLED, MAINTAINED & CLEAN - Comments:  MUST DETAIL CLEAN FLOOR IN REAR FOOD STORAGE AREA AND THROUGHOUT THE PREP AREA SPECIALLY UNDER EQUIPMENT(EGGS,FOOD DEBRIS PAPER ACCUMULATION OF GRIMES INSTRUCTED TO CLEAN AND  MAINTAIN.  | 57. ALL FOOD EMPLOYEES HAVE FOOD HANDLER TRAINING - Comments: NO FOOD HANDLER  TRAINING  CERTIFICATE PROVIDED ON SITE.INSTRUCTED TO PROVIDE. INFORMATION PROVIDED.\""
      ]
     },
     "execution_count": 116,
     "metadata": {},
     "output_type": "execute_result"
    }
   ],
   "source": [
    "mr1 = dfx[\"violations\"].notnull()\n",
    "text_x = dfx.loc[mr1, [\"violations\"]].values[1][0]\n",
    "text_x"
   ]
  },
  {
   "cell_type": "code",
   "execution_count": 125,
   "metadata": {
    "ExecuteTime": {
     "end_time": "2021-03-09T17:38:43.742317Z",
     "start_time": "2021-03-09T17:38:43.707923Z"
    }
   },
   "outputs": [
    {
     "data": {
      "text/plain": [
       "['3',\n",
       " '5',\n",
       " '10',\n",
       " '10',\n",
       " '16',\n",
       " '36',\n",
       " '37',\n",
       " '38',\n",
       " '39',\n",
       " '39',\n",
       " '43',\n",
       " '47',\n",
       " '47',\n",
       " '48',\n",
       " '49',\n",
       " '51',\n",
       " '52',\n",
       " '53',\n",
       " '55',\n",
       " '55',\n",
       " '57']"
      ]
     },
     "execution_count": 125,
     "metadata": {},
     "output_type": "execute_result"
    }
   ],
   "source": [
    "re.findall('\\| (.+?). ', text_x)"
   ]
  },
  {
   "cell_type": "code",
   "execution_count": 111,
   "metadata": {
    "ExecuteTime": {
     "end_time": "2021-03-09T17:28:09.169500Z",
     "start_time": "2021-03-09T17:28:08.743275Z"
    }
   },
   "outputs": [],
   "source": [
    "dfx[\"violations_num\"] = dfx[\"violations\"].apply"
   ]
  },
  {
   "cell_type": "code",
   "execution_count": 108,
   "metadata": {
    "ExecuteTime": {
     "end_time": "2021-03-08T00:33:06.580105Z",
     "start_time": "2021-03-08T00:33:06.549918Z"
    }
   },
   "outputs": [],
   "source": [
    "txt_x = \"| 43. asdlkjfna;dklj | 32. kdjfnakerjfn | 67. dkfjbelrhjb | 3. lksdfjhbvs | 9. lksdfjhbvs\""
   ]
  },
  {
   "cell_type": "code",
   "execution_count": 110,
   "metadata": {
    "ExecuteTime": {
     "end_time": "2021-03-08T00:37:08.644487Z",
     "start_time": "2021-03-08T00:37:08.611150Z"
    }
   },
   "outputs": [
    {
     "data": {
      "text/plain": [
       "['| 43. ', '| 32. ', '| 67. ', '| 3. ', '| 9. ']"
      ]
     },
     "execution_count": 110,
     "metadata": {},
     "output_type": "execute_result"
    }
   ],
   "source": [
    "re.findall('(\\| \\d{1,}\\. )', txt_x)"
   ]
  },
  {
   "cell_type": "markdown",
   "metadata": {},
   "source": [
    "---"
   ]
  },
  {
   "cell_type": "markdown",
   "metadata": {
    "heading_collapsed": true
   },
   "source": [
    "## 1. ¿Cuáles son los tipos 10 de establecimientos que más violaciones cometen? (Facility Type)\n"
   ]
  },
  {
   "cell_type": "code",
   "execution_count": null,
   "metadata": {
    "hidden": true
   },
   "outputs": [],
   "source": [
    "conteos_ft=df.groupby([\"results\",\"facility_type\"]).size().reset_index(name=\"counts\")\n",
    "conteos_ft=conteos_ft.pivot(\"facility_type\",\"results\",\"counts\")\n",
    "conteos_ft=conteos_ft.fillna(0)\n",
    "conteos_ft['Total']=conteos_ft.sum(1)\n",
    "conteos_ft =conteos_ft.sort_values('Fail',ascending=False)\n",
    "conteos_ft"
   ]
  },
  {
   "cell_type": "code",
   "execution_count": null,
   "metadata": {
    "hidden": true
   },
   "outputs": [],
   "source": [
    "n = 10\n",
    "top10=df['facility_type'].value_counts()[:10].sort_values(ascending=False)\n",
    "top10"
   ]
  },
  {
   "cell_type": "markdown",
   "metadata": {
    "hidden": true
   },
   "source": [
    "Se muestra el porcentaje del tipo de establecimiento acuerdo con el resultado de la inspección:"
   ]
  },
  {
   "cell_type": "code",
   "execution_count": null,
   "metadata": {
    "hidden": true
   },
   "outputs": [],
   "source": [
    "proporciones_ft=round(conteos_ft.iloc[:,0:7].apply(lambda x: x/x.sum()*100, axis=1),2)\n",
    "proporciones_ft=proporciones_ft.sort_values('Fail',ascending=False)\n",
    "proporciones_ft"
   ]
  },
  {
   "cell_type": "markdown",
   "metadata": {
    "heading_collapsed": true
   },
   "source": [
    "## 2. ¿Qué tipo de inspección detecta más establecimientos fuera de regla? (Inspection Type)"
   ]
  },
  {
   "cell_type": "code",
   "execution_count": null,
   "metadata": {
    "hidden": true
   },
   "outputs": [],
   "source": [
    "conteos_it=df.groupby([\"results\",\"inspection_type\"]).size().reset_index(name=\"counts\")\n",
    "conteos_it=conteos_it.pivot(\"inspection_type\",\"results\",\"counts\")\n",
    "conteos_it=conteos_it.fillna(0)\n",
    "conteos_it['Total']=conteos_it.sum(1)\n",
    "conteos_it =conteos_it.sort_values('Fail',ascending=False)\n",
    "conteos_it"
   ]
  },
  {
   "cell_type": "markdown",
   "metadata": {
    "hidden": true
   },
   "source": [
    "Se muestra el porcentaje del tipo de inspección de acuerdo con los resultados:"
   ]
  },
  {
   "cell_type": "code",
   "execution_count": null,
   "metadata": {
    "hidden": true
   },
   "outputs": [],
   "source": [
    "proporciones_it=round(conteos_it.iloc[:,0:7].apply(lambda x: x/x.sum()*100, axis=1),2)\n",
    "proporciones_it=proporciones_it.sort_values('Fail',ascending=False)\n",
    "proporciones_it"
   ]
  },
  {
   "cell_type": "markdown",
   "metadata": {
    "hidden": true
   },
   "source": [
    "Se muestra el top 20 de tipos de inspección con un porcentaje mayor de inspecciones no reprobadas."
   ]
  },
  {
   "cell_type": "code",
   "execution_count": null,
   "metadata": {
    "hidden": true
   },
   "outputs": [],
   "source": [
    "top20=proporciones_it.iloc[0:19,:]\n",
    "top20"
   ]
  },
  {
   "cell_type": "markdown",
   "metadata": {
    "heading_collapsed": true
   },
   "source": [
    "## 3. Relación entre el riesgo y resultado, ¿los más riesgosos no pasan la insepección?"
   ]
  },
  {
   "cell_type": "code",
   "execution_count": null,
   "metadata": {
    "hidden": true
   },
   "outputs": [],
   "source": [
    "rr=df.groupby(['results','risk']).size().reset_index(name=\"counts\")\n",
    "rr=rr.pivot(\"results\", \"risk\",\"counts\")\n",
    "rr=rr.fillna(0)\n",
    "rr['Total']=rr.sum(1)\n",
    "rr =rr.sort_values('Risk 1 (High)',ascending=False)\n",
    "rr"
   ]
  },
  {
   "cell_type": "code",
   "execution_count": null,
   "metadata": {
    "hidden": true
   },
   "outputs": [],
   "source": [
    "prop=round(rr.iloc[:,0:4].apply(lambda x: x/x.sum()*100, axis=1),2)\n",
    "prop"
   ]
  },
  {
   "cell_type": "code",
   "execution_count": null,
   "metadata": {
    "hidden": true
   },
   "outputs": [],
   "source": [
    "prop.plot(kind='bar',stacked=True)"
   ]
  },
  {
   "cell_type": "markdown",
   "metadata": {
    "heading_collapsed": true
   },
   "source": [
    "## 4. ¿Cómo es el comportamiento de las inspecciones en el tiempo?"
   ]
  },
  {
   "cell_type": "markdown",
   "metadata": {
    "hidden": true
   },
   "source": [
    "Se separa inspection_date en tres diferentes columnas: day, month, year y las agrega al dataframe:"
   ]
  },
  {
   "cell_type": "code",
   "execution_count": null,
   "metadata": {
    "hidden": true
   },
   "outputs": [],
   "source": [
    "fecha= df.inspection_date.str.split(\"/\", n=2,expand=True)\n",
    "df['day']=fecha[1]\n",
    "df['month']=fecha[0]\n",
    "df['year']=fecha[2]"
   ]
  },
  {
   "cell_type": "code",
   "execution_count": null,
   "metadata": {
    "hidden": true
   },
   "outputs": [],
   "source": [
    "df['inspection_date'] = pd.to_datetime(df['inspection_date'])"
   ]
  },
  {
   "cell_type": "code",
   "execution_count": null,
   "metadata": {
    "hidden": true
   },
   "outputs": [],
   "source": [
    "# Columnas de year, month y counts\n",
    "fecha_separated = df.groupby(['year','month']).size().reset_index(name=\"conteos\")\n",
    "# Hacemos tabla donde las columnas son años y las filas mes \n",
    "fecha_separated_p = fecha_separated.pivot(\"month\", \"year\",\"conteos\")\n",
    "# Graficamos \n",
    "sns.set(style='whitegrid',rc={'figure.figsize':(10,10)},palette='Set3')\n",
    "h =sns.lineplot(data=fecha_separated_p,linewidth = 3,dashes=False)\n",
    "plt.legend(fontsize='x-large', title_fontsize='40',loc='lower right')\n",
    "h.set(xlabel='Meses',ylabel='Conteos de Inspecciones')\n",
    "plt.show()"
   ]
  },
  {
   "cell_type": "markdown",
   "metadata": {
    "heading_collapsed": true
   },
   "source": [
    "## 5. ¿Cómo es el comportamiento por tipo de resultados en el tiempo?"
   ]
  },
  {
   "cell_type": "code",
   "execution_count": null,
   "metadata": {
    "hidden": true
   },
   "outputs": [],
   "source": [
    "fecha_separated2 = df.groupby(['year','month','results']).size().reset_index(name=\"counts\")\n",
    "fecha_separated2['date']= fecha_separated2['year']+'-'+fecha_separated2['month']\n",
    "g=fecha_separated2.drop(['year','month'],1)\n",
    "g=g.set_index('date')\n",
    "sns.set(style='whitegrid',rc={'figure.figsize':(20,10)},palette='Set2')\n",
    "sns.lineplot(x='date',y='counts',hue='results',data=g,linewidth = 2)\n",
    "plt.xticks(rotation= 90,size=8)\n",
    "plt.show()"
   ]
  },
  {
   "cell_type": "markdown",
   "metadata": {
    "hidden": true
   },
   "source": [
    "Se muestra el comportamiento anterior en porcentaje de inspecciones:"
   ]
  },
  {
   "cell_type": "code",
   "execution_count": null,
   "metadata": {
    "hidden": true
   },
   "outputs": [],
   "source": [
    "g2=fecha_separated2.drop(['year','month'],1)\n",
    "g2=g2.pivot(\"date\", \"results\",\"counts\")\n",
    "g2=g2.fillna(0)\n",
    "g2['total']=g2.sum(1)\n",
    "prop2=round(g2.iloc[:,0:5].apply(lambda x: x/x.sum()*100, axis=1),2)\n",
    "sns.set(style='whitegrid',rc={'figure.figsize':(20,10)},palette='Set2')\n",
    "h =sns.lineplot(data=prop2,linewidth = 2,dashes=False,marker='o')\n",
    "plt.xticks(rotation= 90)\n",
    "plt.legend(fontsize='x-large', title_fontsize='40')\n",
    "plt.show()"
   ]
  },
  {
   "cell_type": "markdown",
   "metadata": {
    "heading_collapsed": true
   },
   "source": [
    "## 6. ¿Es importante la temporalidad de año, mes y día para las inspecciones?"
   ]
  },
  {
   "cell_type": "markdown",
   "metadata": {
    "hidden": true
   },
   "source": [
    "Con variable inspection_date en formato tiempo creamos conteos del número de inspecciones hechas por día:"
   ]
  },
  {
   "cell_type": "code",
   "execution_count": null,
   "metadata": {
    "hidden": true
   },
   "outputs": [],
   "source": [
    "conteos_fechas = df.groupby(['inspection_date']).size().reset_index(name='conteos')\n",
    "# hacemos que inspection_date sea el identificador de las filas\n",
    "conteos_fechas = conteos_fechas.set_index('inspection_date')\n"
   ]
  },
  {
   "cell_type": "code",
   "execution_count": null,
   "metadata": {
    "hidden": true
   },
   "outputs": [],
   "source": [
    "# Separamos los días, meses, años\n",
    "conteos_fechas.insert(1, 'year', conteos_fechas.index.year)\n",
    "conteos_fechas.insert(2, 'month', conteos_fechas.index.month)\n",
    "conteos_fechas.insert(3, 'day', conteos_fechas.index.day)\n",
    "conteos_fechas = conteos_fechas.copy()"
   ]
  },
  {
   "cell_type": "code",
   "execution_count": null,
   "metadata": {
    "hidden": true
   },
   "outputs": [],
   "source": [
    "# Graficamos\n",
    "fig, axs = plt.subplots(figsize=(30,20),ncols=6, nrows=2)\n",
    "heatmaps(conteos_fechas,2010,axs[0][0],'no','Day')\n",
    "heatmaps(conteos_fechas,2011,axs[0][1],'no','')\n",
    "heatmaps(conteos_fechas,2012,axs[0][2],'no','')\n",
    "heatmaps(conteos_fechas,2013,axs[0][3],'no','')\n",
    "heatmaps(conteos_fechas,2014,axs[0][4],'no','')\n",
    "heatmaps(conteos_fechas,2015,axs[0][5],'yes','')\n",
    "heatmaps(conteos_fechas,2016,axs[1][0],'no','')\n",
    "heatmaps(conteos_fechas,2017,axs[1][1],'no','')\n",
    "heatmaps(conteos_fechas,2018,axs[1][2],'no','')\n",
    "heatmaps(conteos_fechas,2019,axs[1][3],'no','')\n",
    "heatmaps(conteos_fechas,2020,axs[1][4],'no','')\n",
    "heatmaps(conteos_fechas,2021,axs[1][5],'yes','')"
   ]
  },
  {
   "cell_type": "markdown",
   "metadata": {
    "hidden": true
   },
   "source": [
    "**Vemos si para si existe un patrón temporal en el universo de inspecciones que resultaron como reprobadas (Results=\"Fail\"):**"
   ]
  },
  {
   "cell_type": "code",
   "execution_count": null,
   "metadata": {
    "hidden": true
   },
   "outputs": [],
   "source": [
    "fail=df[df.results==\"Fail\"]\n",
    "len(fail)"
   ]
  },
  {
   "cell_type": "code",
   "execution_count": null,
   "metadata": {
    "hidden": true
   },
   "outputs": [],
   "source": [
    "conteos_f = fail.groupby(['inspection_date']).size().reset_index(name='conteos')\n",
    "conteos_f= conteos_f.set_index('inspection_date')\n",
    "conteos_f.insert(1, 'year', conteos_f.index.year)\n",
    "conteos_f.insert(2, 'month', conteos_f.index.month)\n",
    "conteos_f.insert(3, 'day', conteos_f.index.day)\n",
    "conteos_f = conteos_f.copy()"
   ]
  },
  {
   "cell_type": "code",
   "execution_count": null,
   "metadata": {
    "hidden": true
   },
   "outputs": [],
   "source": [
    "fig, axs = plt.subplots(figsize=(30,20),ncols=6, nrows=2)\n",
    "heatmaps(conteos_f,2010,axs[0][0],'no','Day')\n",
    "heatmaps(conteos_f,2011,axs[0][1],'no','')\n",
    "heatmaps(conteos_f,2012,axs[0][2],'no','')\n",
    "heatmaps(conteos_f,2013,axs[0][3],'no','')\n",
    "heatmaps(conteos_f,2014,axs[0][4],'no','')\n",
    "heatmaps(conteos_f,2015,axs[0][5],'yes','')\n",
    "heatmaps(conteos_f,2016,axs[1][0],'no','Day')\n",
    "heatmaps(conteos_f,2017,axs[1][1],'no','')\n",
    "heatmaps(conteos_f,2018,axs[1][2],'no','')\n",
    "heatmaps(conteos_f,2019,axs[1][3],'no','')\n",
    "heatmaps(conteos_f,2020,axs[1][4],'yes','')\n",
    "heatmaps(conteos_f,2021,axs[1][5],'yes','')"
   ]
  },
  {
   "cell_type": "markdown",
   "metadata": {
    "heading_collapsed": true
   },
   "source": [
    "## 7. Mapa"
   ]
  },
  {
   "cell_type": "code",
   "execution_count": null,
   "metadata": {
    "hidden": true
   },
   "outputs": [],
   "source": [
    "sns.set(style='whitegrid',rc={'figure.figsize':(20,10)},palette='Set1')\n",
    "s = sns.lmplot(x='longitude',y='latitude',data=df,hue='results',col='results',fit_reg=False,height=6,\n",
    "               scatter_kws={\"s\":1,\"alpha\":.5})"
   ]
  },
  {
   "cell_type": "code",
   "execution_count": null,
   "metadata": {
    "hidden": true
   },
   "outputs": [],
   "source": [
    "cols = ['Results','Latitude','Longitude']\n",
    "rest = pd.read_csv('../data/Food_Inspections.csv', usecols=cols)"
   ]
  },
  {
   "cell_type": "markdown",
   "metadata": {
    "hidden": true
   },
   "source": [
    "Eliminamos los registros sin coordenadas completas:"
   ]
  },
  {
   "cell_type": "code",
   "execution_count": null,
   "metadata": {
    "hidden": true
   },
   "outputs": [],
   "source": [
    "rest = rest.dropna(subset=['Latitude'])\n",
    "rest = rest.dropna(subset=['Longitude'])"
   ]
  },
  {
   "cell_type": "markdown",
   "metadata": {
    "hidden": true
   },
   "source": [
    "Filtramos únicamente aquellos registros que pasaron o no pasaron la prueba"
   ]
  },
  {
   "cell_type": "code",
   "execution_count": null,
   "metadata": {
    "hidden": true
   },
   "outputs": [],
   "source": [
    "passed = rest[rest['Results']=='Pass']\n",
    "failed = rest[rest['Results']=='Fail']"
   ]
  },
  {
   "cell_type": "code",
   "execution_count": null,
   "metadata": {
    "hidden": true
   },
   "outputs": [],
   "source": [
    "len(passed), len(failed)"
   ]
  },
  {
   "cell_type": "markdown",
   "metadata": {
    "hidden": true
   },
   "source": [
    "Imagen de la ciudad de chicago:"
   ]
  },
  {
   "cell_type": "code",
   "execution_count": null,
   "metadata": {
    "hidden": true
   },
   "outputs": [],
   "source": [
    "chicago = plt.imread('../images/chicago.png')"
   ]
  },
  {
   "cell_type": "code",
   "execution_count": null,
   "metadata": {
    "hidden": true
   },
   "outputs": [],
   "source": [
    "boundires = ((rest.Longitude.min(),   rest.Longitude.max(),      \n",
    "         rest.Latitude.min(), rest.Latitude.max()))"
   ]
  },
  {
   "cell_type": "code",
   "execution_count": null,
   "metadata": {
    "hidden": true
   },
   "outputs": [],
   "source": [
    "fig, ax = plt.subplots(1,2, sharex=True, sharey=True, figsize = (20,20))\n",
    "\n",
    "ax[0].scatter(passed.Longitude, passed.Latitude, zorder=2, alpha=0.1, c='b', s=2)\n",
    "ax[0].imshow(chicago, zorder=0, extent=boundires, aspect='equal')\n",
    "ax[0].title.set_text('Results: Pass')\n",
    "\n",
    "ax[1].scatter(failed.Longitude, failed.Latitude, zorder=2, alpha=0.1, c='r', s=2)\n",
    "ax[1].imshow(chicago, zorder=0, extent=boundires, aspect='equal')\n",
    "ax[1].title.set_text('Results: Fail')\n",
    "\n",
    "plt.show()"
   ]
  },
  {
   "cell_type": "markdown",
   "metadata": {
    "hidden": true
   },
   "source": [
    "---\n",
    "---"
   ]
  }
 ],
 "metadata": {
  "celltoolbar": "Initialization Cell",
  "kernelspec": {
   "display_name": "Python 3",
   "language": "python",
   "name": "python3"
  },
  "language_info": {
   "codemirror_mode": {
    "name": "ipython",
    "version": 3
   },
   "file_extension": ".py",
   "mimetype": "text/x-python",
   "name": "python",
   "nbconvert_exporter": "python",
   "pygments_lexer": "ipython3",
   "version": "3.8.5"
  },
  "notify_time": "5",
  "toc": {
   "base_numbering": 1,
   "nav_menu": {},
   "number_sections": true,
   "sideBar": true,
   "skip_h1_title": false,
   "title_cell": "Table of Contents",
   "title_sidebar": "Contents",
   "toc_cell": false,
   "toc_position": {},
   "toc_section_display": true,
   "toc_window_display": false
  }
 },
 "nbformat": 4,
 "nbformat_minor": 4
}
