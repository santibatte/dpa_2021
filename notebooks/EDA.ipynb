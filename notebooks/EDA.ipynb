{
 "cells": [
  {
   "cell_type": "markdown",
   "metadata": {},
   "source": [
    "# Data Product Arquitecture - Food Inspections Project"
   ]
  },
  {
   "cell_type": "markdown",
   "metadata": {},
   "source": [
    "Team:\n",
    "\n",
    "* Jóse Roberto Pérez - 173013\n",
    "* Santiago Battezzati - 197727\n",
    "* Carlos Geovany Pérez - 197614\n",
    "* Mariana Lugo - 118626"
   ]
  },
  {
   "cell_type": "markdown",
   "metadata": {},
   "source": [
    "## Imports"
   ]
  },
  {
   "cell_type": "markdown",
   "metadata": {},
   "source": [
    "#### Standard library imports"
   ]
  },
  {
   "cell_type": "code",
   "execution_count": 1,
   "metadata": {
    "ExecuteTime": {
     "end_time": "2021-03-12T18:30:11.370058Z",
     "start_time": "2021-03-12T18:30:11.361839Z"
    },
    "init_cell": true
   },
   "outputs": [],
   "source": [
    "import os\n",
    "import sys\n",
    "from datetime import datetime\n",
    "import re"
   ]
  },
  {
   "cell_type": "markdown",
   "metadata": {},
   "source": [
    "#### Third party imports"
   ]
  },
  {
   "cell_type": "code",
   "execution_count": 2,
   "metadata": {
    "ExecuteTime": {
     "end_time": "2021-03-12T18:30:13.422162Z",
     "start_time": "2021-03-12T18:30:11.372719Z"
    },
    "init_cell": true
   },
   "outputs": [],
   "source": [
    "import pandas as pd\n",
    "from pandas_profiling import ProfileReport\n",
    "pd.options.display.max_columns = 25\n",
    "\n",
    "import matplotlib.pyplot as plt\n",
    "import seaborn as sns"
   ]
  },
  {
   "cell_type": "markdown",
   "metadata": {},
   "source": [
    "#### Local application imports"
   ]
  },
  {
   "cell_type": "code",
   "execution_count": 3,
   "metadata": {
    "ExecuteTime": {
     "end_time": "2021-03-12T18:30:13.428131Z",
     "start_time": "2021-03-12T18:30:13.425212Z"
    },
    "init_cell": true
   },
   "outputs": [],
   "source": [
    "sys.path.append(\"../\")"
   ]
  },
  {
   "cell_type": "code",
   "execution_count": 4,
   "metadata": {
    "ExecuteTime": {
     "end_time": "2021-03-12T18:30:13.872224Z",
     "start_time": "2021-03-12T18:30:13.430416Z"
    },
    "init_cell": true
   },
   "outputs": [],
   "source": [
    "%reload_ext autoreload\n",
    "%autoreload 2\n",
    "\n",
    "from src.utils.utils import (\n",
    "    json_dump_dict,\n",
    "    load_df,\n",
    ")\n",
    "\n",
    "from src.etl.ingesta_almacenamiento import (\n",
    "    initial_cleaning,\n",
    ")\n",
    "\n",
    "from src.utils.data_dict import data_dict\n",
    "\n",
    "from src.utils.params_gen import (\n",
    "    ingestion_pickle_loc,\n",
    "    transformation_pickle_loc,\n",
    "    cat_reduction_ref,\n",
    ")"
   ]
  },
  {
   "cell_type": "markdown",
   "metadata": {},
   "source": [
    "---"
   ]
  },
  {
   "cell_type": "markdown",
   "metadata": {},
   "source": [
    "## Importing and cleaning data\n",
    "Food Inspections in Chicago: https://data.cityofchicago.org/Health-Human-Services/Food-Inspections/4ijn-s7e5"
   ]
  },
  {
   "cell_type": "code",
   "execution_count": 5,
   "metadata": {
    "ExecuteTime": {
     "end_time": "2021-03-12T18:30:16.356029Z",
     "start_time": "2021-03-12T18:30:13.874174Z"
    },
    "init_cell": true,
    "scrolled": false
   },
   "outputs": [
    {
     "data": {
      "text/html": [
       "<div>\n",
       "<style scoped>\n",
       "    .dataframe tbody tr th:only-of-type {\n",
       "        vertical-align: middle;\n",
       "    }\n",
       "\n",
       "    .dataframe tbody tr th {\n",
       "        vertical-align: top;\n",
       "    }\n",
       "\n",
       "    .dataframe thead th {\n",
       "        text-align: right;\n",
       "    }\n",
       "</style>\n",
       "<table border=\"1\" class=\"dataframe\">\n",
       "  <thead>\n",
       "    <tr style=\"text-align: right;\">\n",
       "      <th></th>\n",
       "      <th>Inspection ID</th>\n",
       "      <th>DBA Name</th>\n",
       "      <th>AKA Name</th>\n",
       "      <th>License #</th>\n",
       "      <th>Facility Type</th>\n",
       "      <th>Risk</th>\n",
       "      <th>Address</th>\n",
       "      <th>City</th>\n",
       "      <th>State</th>\n",
       "      <th>Zip</th>\n",
       "      <th>Inspection Date</th>\n",
       "      <th>Inspection Type</th>\n",
       "      <th>Results</th>\n",
       "      <th>Violations</th>\n",
       "      <th>Latitude</th>\n",
       "      <th>Longitude</th>\n",
       "      <th>Location</th>\n",
       "    </tr>\n",
       "  </thead>\n",
       "  <tbody>\n",
       "    <tr>\n",
       "      <th>0</th>\n",
       "      <td>2453552</td>\n",
       "      <td>CLAMP DOWN BURGERS</td>\n",
       "      <td>NaN</td>\n",
       "      <td>2749943.0</td>\n",
       "      <td>NaN</td>\n",
       "      <td>Risk 2 (Medium)</td>\n",
       "      <td>1742 W DIVISION ST</td>\n",
       "      <td>CHICAGO</td>\n",
       "      <td>IL</td>\n",
       "      <td>60622.0</td>\n",
       "      <td>10/20/2020</td>\n",
       "      <td>License</td>\n",
       "      <td>No Entry</td>\n",
       "      <td>NaN</td>\n",
       "      <td>41.903387</td>\n",
       "      <td>-87.671740</td>\n",
       "      <td>(-87.67174026586648, 41.903386755553484)</td>\n",
       "    </tr>\n",
       "    <tr>\n",
       "      <th>1</th>\n",
       "      <td>2386633</td>\n",
       "      <td>JIN JU</td>\n",
       "      <td>JIN JU</td>\n",
       "      <td>27137.0</td>\n",
       "      <td>Restaurant</td>\n",
       "      <td>Risk 1 (High)</td>\n",
       "      <td>5203 N CLARK ST</td>\n",
       "      <td>CHICAGO</td>\n",
       "      <td>IL</td>\n",
       "      <td>60640.0</td>\n",
       "      <td>08/28/2020</td>\n",
       "      <td>Canvass</td>\n",
       "      <td>No Entry</td>\n",
       "      <td>NaN</td>\n",
       "      <td>41.976301</td>\n",
       "      <td>-87.668276</td>\n",
       "      <td>(-87.66827593789948, 41.97630115368914)</td>\n",
       "    </tr>\n",
       "    <tr>\n",
       "      <th>2</th>\n",
       "      <td>2386595</td>\n",
       "      <td>LA BIZNAGA #2</td>\n",
       "      <td>LA BIZNAGA #2</td>\n",
       "      <td>2708992.0</td>\n",
       "      <td>NaN</td>\n",
       "      <td>Risk 1 (High)</td>\n",
       "      <td>2949 W BELMONT AVE</td>\n",
       "      <td>CHICAGO</td>\n",
       "      <td>IL</td>\n",
       "      <td>60618.0</td>\n",
       "      <td>08/27/2020</td>\n",
       "      <td>Complaint</td>\n",
       "      <td>No Entry</td>\n",
       "      <td>NaN</td>\n",
       "      <td>41.939256</td>\n",
       "      <td>-87.702270</td>\n",
       "      <td>(-87.70226967930802, 41.939255926667535)</td>\n",
       "    </tr>\n",
       "    <tr>\n",
       "      <th>3</th>\n",
       "      <td>2386464</td>\n",
       "      <td>Uni Sushi Bristo</td>\n",
       "      <td>Uni Sushi Bistro</td>\n",
       "      <td>2262637.0</td>\n",
       "      <td>Restaurant</td>\n",
       "      <td>Risk 1 (High)</td>\n",
       "      <td>1752 W NORTH AVE</td>\n",
       "      <td>CHICAGO</td>\n",
       "      <td>IL</td>\n",
       "      <td>60622.0</td>\n",
       "      <td>08/25/2020</td>\n",
       "      <td>Complaint</td>\n",
       "      <td>No Entry</td>\n",
       "      <td>NaN</td>\n",
       "      <td>41.910676</td>\n",
       "      <td>-87.672205</td>\n",
       "      <td>(-87.67220465807979, 41.91067561170382)</td>\n",
       "    </tr>\n",
       "    <tr>\n",
       "      <th>4</th>\n",
       "      <td>2386398</td>\n",
       "      <td>KIKI'S BISTRO</td>\n",
       "      <td>KIKI'S BISTRO</td>\n",
       "      <td>22899.0</td>\n",
       "      <td>Restaurant</td>\n",
       "      <td>Risk 1 (High)</td>\n",
       "      <td>900 N FRANKLIN ST</td>\n",
       "      <td>CHICAGO</td>\n",
       "      <td>IL</td>\n",
       "      <td>60610.0</td>\n",
       "      <td>08/24/2020</td>\n",
       "      <td>Canvass</td>\n",
       "      <td>No Entry</td>\n",
       "      <td>NaN</td>\n",
       "      <td>41.898998</td>\n",
       "      <td>-87.635921</td>\n",
       "      <td>(-87.63592067312285, 41.89899799424835)</td>\n",
       "    </tr>\n",
       "  </tbody>\n",
       "</table>\n",
       "</div>"
      ],
      "text/plain": [
       "   Inspection ID            DBA Name          AKA Name  License #  \\\n",
       "0        2453552  CLAMP DOWN BURGERS               NaN  2749943.0   \n",
       "1        2386633              JIN JU            JIN JU    27137.0   \n",
       "2        2386595       LA BIZNAGA #2     LA BIZNAGA #2  2708992.0   \n",
       "3        2386464    Uni Sushi Bristo  Uni Sushi Bistro  2262637.0   \n",
       "4        2386398       KIKI'S BISTRO     KIKI'S BISTRO    22899.0   \n",
       "\n",
       "  Facility Type             Risk              Address     City State      Zip  \\\n",
       "0           NaN  Risk 2 (Medium)  1742 W DIVISION ST   CHICAGO    IL  60622.0   \n",
       "1    Restaurant    Risk 1 (High)     5203 N CLARK ST   CHICAGO    IL  60640.0   \n",
       "2           NaN    Risk 1 (High)  2949 W BELMONT AVE   CHICAGO    IL  60618.0   \n",
       "3    Restaurant    Risk 1 (High)    1752 W NORTH AVE   CHICAGO    IL  60622.0   \n",
       "4    Restaurant    Risk 1 (High)   900 N FRANKLIN ST   CHICAGO    IL  60610.0   \n",
       "\n",
       "  Inspection Date Inspection Type   Results Violations   Latitude  Longitude  \\\n",
       "0      10/20/2020         License  No Entry        NaN  41.903387 -87.671740   \n",
       "1      08/28/2020         Canvass  No Entry        NaN  41.976301 -87.668276   \n",
       "2      08/27/2020       Complaint  No Entry        NaN  41.939256 -87.702270   \n",
       "3      08/25/2020       Complaint  No Entry        NaN  41.910676 -87.672205   \n",
       "4      08/24/2020         Canvass  No Entry        NaN  41.898998 -87.635921   \n",
       "\n",
       "                                   Location  \n",
       "0  (-87.67174026586648, 41.903386755553484)  \n",
       "1   (-87.66827593789948, 41.97630115368914)  \n",
       "2  (-87.70226967930802, 41.939255926667535)  \n",
       "3   (-87.67220465807979, 41.91067561170382)  \n",
       "4   (-87.63592067312285, 41.89899799424835)  "
      ]
     },
     "execution_count": 5,
     "metadata": {},
     "output_type": "execute_result"
    }
   ],
   "source": [
    "df = pd.read_csv('../data/raw/Food_Inspections.csv')\n",
    "df.head()"
   ]
  },
  {
   "cell_type": "markdown",
   "metadata": {},
   "source": [
    "**Limpieza de nombres de las columnas:**"
   ]
  },
  {
   "cell_type": "code",
   "execution_count": null,
   "metadata": {
    "ExecuteTime": {
     "end_time": "2021-03-12T18:16:47.290220Z",
     "start_time": "2021-03-12T18:16:46.723436Z"
    }
   },
   "outputs": [],
   "source": [
    "clean_col_names(df)"
   ]
  },
  {
   "cell_type": "markdown",
   "metadata": {
    "heading_collapsed": true
   },
   "source": [
    "### Exploración de variables"
   ]
  },
  {
   "cell_type": "raw",
   "metadata": {
    "ExecuteTime": {
     "end_time": "2021-02-01T02:14:02.439989Z",
     "start_time": "2021-02-01T02:14:02.369791Z"
    },
    "hidden": true
   },
   "source": [
    "profile = ProfileReport(df, title=\"Pandas Profiling Report\")"
   ]
  },
  {
   "cell_type": "markdown",
   "metadata": {
    "hidden": true
   },
   "source": [
    "**Número de variables:**"
   ]
  },
  {
   "cell_type": "code",
   "execution_count": null,
   "metadata": {
    "ExecuteTime": {
     "end_time": "2021-02-09T23:20:22.073401Z",
     "start_time": "2021-02-09T23:20:21.994067Z"
    },
    "hidden": true
   },
   "outputs": [],
   "source": [
    "count_vars(df)"
   ]
  },
  {
   "cell_type": "markdown",
   "metadata": {
    "hidden": true
   },
   "source": [
    "**Número de observaciones:**"
   ]
  },
  {
   "cell_type": "code",
   "execution_count": null,
   "metadata": {
    "ExecuteTime": {
     "end_time": "2021-02-09T23:20:22.450473Z",
     "start_time": "2021-02-09T23:20:22.369608Z"
    },
    "hidden": true
   },
   "outputs": [],
   "source": [
    "count_obs(df)"
   ]
  },
  {
   "cell_type": "markdown",
   "metadata": {
    "hidden": true
   },
   "source": [
    "**¿Qué variables son?**"
   ]
  },
  {
   "cell_type": "code",
   "execution_count": null,
   "metadata": {
    "ExecuteTime": {
     "end_time": "2021-02-09T23:20:23.609860Z",
     "start_time": "2021-02-09T23:20:22.849457Z"
    },
    "hidden": true
   },
   "outputs": [],
   "source": [
    "count_unique_obs(df)"
   ]
  },
  {
   "cell_type": "code",
   "execution_count": null,
   "metadata": {
    "ExecuteTime": {
     "end_time": "2021-02-09T23:20:26.366510Z",
     "start_time": "2021-02-09T23:20:24.507089Z"
    },
    "hidden": true
   },
   "outputs": [],
   "source": [
    "cat_vars=['dba_name','aka_name','facility_type','risk','address','city','state','inspection_type',\n",
    "          'results','violations']\n",
    "data_profiling_categ(df, cat_vars)"
   ]
  },
  {
   "cell_type": "markdown",
   "metadata": {
    "heading_collapsed": true
   },
   "source": [
    "### Creación del diccionario de definiciones"
   ]
  },
  {
   "cell_type": "code",
   "execution_count": null,
   "metadata": {
    "ExecuteTime": {
     "end_time": "2021-03-10T19:45:26.549968Z",
     "start_time": "2021-03-10T19:45:26.438135Z"
    },
    "hidden": true,
    "scrolled": true
   },
   "outputs": [],
   "source": [
    "json_dump_dict({col: {\"relevant\": False, \"data_type\": \"categoric\", \"model_relevant\": False} for col in df.columns})"
   ]
  },
  {
   "cell_type": "code",
   "execution_count": null,
   "metadata": {
    "ExecuteTime": {
     "end_time": "2021-03-10T19:42:17.474254Z",
     "start_time": "2021-03-10T19:42:17.441151Z"
    },
    "hidden": true
   },
   "outputs": [],
   "source": [
    "{col: {\"relevant\": False}, {\"data_type\": \"categoric\"} for col in df.columns}"
   ]
  },
  {
   "cell_type": "markdown",
   "metadata": {
    "heading_collapsed": true
   },
   "source": [
    "### Análisis de texto\n",
    "Issue #13 GitHub"
   ]
  },
  {
   "cell_type": "markdown",
   "metadata": {
    "heading_collapsed": true,
    "hidden": true
   },
   "source": [
    "#### 1. Limpieza de campo `facility_type`"
   ]
  },
  {
   "cell_type": "code",
   "execution_count": null,
   "metadata": {
    "ExecuteTime": {
     "end_time": "2021-03-11T16:51:44.437734Z",
     "start_time": "2021-03-11T16:51:44.377517Z"
    },
    "hidden": true
   },
   "outputs": [],
   "source": [
    "print(len(dfx[\"facility_type\"].unique()))\n",
    "dfx[\"facility_type\"].unique()"
   ]
  },
  {
   "cell_type": "code",
   "execution_count": null,
   "metadata": {
    "ExecuteTime": {
     "end_time": "2021-03-11T16:54:21.538621Z",
     "start_time": "2021-03-11T16:54:21.475509Z"
    },
    "hidden": true,
    "scrolled": true
   },
   "outputs": [],
   "source": [
    "dfxx = dfx[\"facility_type\"].value_counts().to_frame()\n",
    "dfxx[:50]"
   ]
  },
  {
   "cell_type": "code",
   "execution_count": null,
   "metadata": {
    "ExecuteTime": {
     "end_time": "2021-03-11T16:50:03.731958Z",
     "start_time": "2021-03-11T16:50:02.703376Z"
    },
    "hidden": true,
    "scrolled": false
   },
   "outputs": [],
   "source": [
    "fig, ax = plt.subplots(1, 2, figsize=(15, 7))\n",
    "\n",
    "\n",
    "## Distplot\n",
    "ax[0].set(xlim=(0, 40e3))\n",
    "sns.distplot(dfx[\"facility_type\"], ax=ax[0], color=\"red\")\n",
    "\n",
    "## Boxplot\n",
    "ax[1].set(ylim=(0, 75))\n",
    "sns.boxplot(data=dfx[\"facility_type\"], color=\"red\", ax=ax[1])\n",
    "\n",
    "\n",
    "plt.show()"
   ]
  },
  {
   "cell_type": "code",
   "execution_count": null,
   "metadata": {
    "ExecuteTime": {
     "end_time": "2021-03-11T16:50:19.943646Z",
     "start_time": "2021-03-11T16:50:19.890542Z"
    },
    "hidden": true
   },
   "outputs": [],
   "source": [
    "dfx[\"facility_type\"].fillna(\"nan\", inplace=True)\n",
    "\n",
    "dfx[\"facility_type\"] = dfx[\"facility_type\"].apply(lambda x: clean_txt(x))"
   ]
  },
  {
   "cell_type": "code",
   "execution_count": null,
   "metadata": {
    "ExecuteTime": {
     "end_time": "2021-03-11T16:50:24.435761Z",
     "start_time": "2021-03-11T16:50:24.398070Z"
    },
    "hidden": true
   },
   "outputs": [],
   "source": [
    "print(len(dfx[\"facility_type\"].unique()))\n",
    "dfx[\"facility_type\"].value_counts()"
   ]
  },
  {
   "cell_type": "code",
   "execution_count": null,
   "metadata": {
    "ExecuteTime": {
     "end_time": "2021-03-11T16:50:34.092155Z",
     "start_time": "2021-03-11T16:50:33.535898Z"
    },
    "hidden": true
   },
   "outputs": [],
   "source": [
    "fig, ax = plt.subplots(1, 2, figsize=(15, 7))\n",
    "\n",
    "\n",
    "## Distplot\n",
    "ax[0].set(xlim=(0, 40e3))\n",
    "sns.distplot(dfx[\"facility_type\"], ax=ax[0], color=\"blue\")\n",
    "\n",
    "## Boxplot\n",
    "ax[1].set(ylim=(0, 25))\n",
    "sns.boxplot(data=dfx[\"facility_type\"], color=\"blue\", ax=ax[1])\n",
    "\n",
    "\n",
    "plt.show()"
   ]
  },
  {
   "cell_type": "code",
   "execution_count": null,
   "metadata": {
    "ExecuteTime": {
     "end_time": "2021-03-11T16:50:36.182338Z",
     "start_time": "2021-03-11T16:50:36.143354Z"
    },
    "hidden": true,
    "scrolled": true
   },
   "outputs": [],
   "source": [
    "# mr1 = dfx[\"facility_type\"] <= 1\n",
    "mr2 = dfx.index.str.contains(\"rest\")\n",
    "dfx.loc[(mr2), :][:50]"
   ]
  },
  {
   "cell_type": "markdown",
   "metadata": {
    "hidden": true
   },
   "source": [
    "**Notas de análisis:**\n",
    "- @9/Feb/2020\n",
    "    - Una vez limpiados los textos, la cantidad de únicos pasó de 501 a 448.\n",
    "    - Tal vez podríamos agrupar las categorías por aparición de palabras clave (e.g. `daycare` OR `day_care`).\n",
    "    - Todas las que caigan fuera de las categorías, serán incluidas en una reserva llamada \"Otros\"\n",
    "    - Podría valer la pena hacer un análisis de clústering para agrupar palabras por similitudes y así definir las categorías. (tal vez va a ser difícil hacer estas asociaciones.)"
   ]
  },
  {
   "cell_type": "markdown",
   "metadata": {
    "heading_collapsed": true,
    "hidden": true
   },
   "source": [
    "#### 2. Limpieza de campo `inspection_type`"
   ]
  },
  {
   "cell_type": "code",
   "execution_count": null,
   "metadata": {
    "ExecuteTime": {
     "end_time": "2021-03-08T00:28:25.430590Z",
     "start_time": "2021-03-08T00:28:25.371720Z"
    },
    "hidden": true,
    "scrolled": true
   },
   "outputs": [],
   "source": [
    "print(len(df[\"inspection_type\"].unique()))\n",
    "df[\"inspection_type\"].unique()"
   ]
  },
  {
   "cell_type": "code",
   "execution_count": null,
   "metadata": {
    "ExecuteTime": {
     "end_time": "2021-03-08T00:28:26.095333Z",
     "start_time": "2021-03-08T00:28:26.039529Z"
    },
    "hidden": true,
    "scrolled": true
   },
   "outputs": [],
   "source": [
    "dfx = df[\"inspection_type\"].value_counts().to_frame()\n",
    "dfx"
   ]
  },
  {
   "cell_type": "code",
   "execution_count": null,
   "metadata": {
    "ExecuteTime": {
     "end_time": "2021-03-08T00:28:27.514166Z",
     "start_time": "2021-03-08T00:28:27.139296Z"
    },
    "hidden": true
   },
   "outputs": [],
   "source": [
    "fig, ax = plt.subplots(1, 2, figsize=(15, 7))\n",
    "\n",
    "\n",
    "## Distplot\n",
    "ax[0].set(xlim=(0, 40e3))\n",
    "sns.distplot(dfx[\"inspection_type\"], ax=ax[0], color=\"red\")\n",
    "\n",
    "## Boxplot\n",
    "ax[1].set(ylim=(0, 15))\n",
    "sns.boxplot(data=dfx[\"inspection_type\"], color=\"red\", ax=ax[1])\n",
    "\n",
    "\n",
    "plt.show()"
   ]
  },
  {
   "cell_type": "code",
   "execution_count": null,
   "metadata": {
    "ExecuteTime": {
     "end_time": "2021-03-08T00:28:28.374943Z",
     "start_time": "2021-03-08T00:28:27.805831Z"
    },
    "hidden": true
   },
   "outputs": [],
   "source": [
    "df[\"inspection_type\"].fillna(\"nan\", inplace=True)\n",
    "\n",
    "df[\"inspection_type\"] = df[\"inspection_type\"].apply(lambda x: clean_txt(x))"
   ]
  },
  {
   "cell_type": "code",
   "execution_count": null,
   "metadata": {
    "ExecuteTime": {
     "end_time": "2021-03-08T00:28:28.446208Z",
     "start_time": "2021-03-08T00:28:28.376916Z"
    },
    "hidden": true
   },
   "outputs": [],
   "source": [
    "print(len(df[\"inspection_type\"].unique()))\n",
    "df[\"inspection_type\"].value_counts()"
   ]
  },
  {
   "cell_type": "code",
   "execution_count": null,
   "metadata": {
    "ExecuteTime": {
     "end_time": "2021-03-08T00:28:28.646885Z",
     "start_time": "2021-03-08T00:28:28.592183Z"
    },
    "hidden": true,
    "scrolled": true
   },
   "outputs": [],
   "source": [
    "dfx = df[\"inspection_type\"].value_counts().to_frame()\n",
    "dfx"
   ]
  },
  {
   "cell_type": "code",
   "execution_count": null,
   "metadata": {
    "ExecuteTime": {
     "end_time": "2021-03-08T00:28:35.715298Z",
     "start_time": "2021-03-08T00:28:34.693728Z"
    },
    "hidden": true
   },
   "outputs": [],
   "source": [
    "fig, ax = plt.subplots(1, 2, figsize=(15, 7))\n",
    "\n",
    "\n",
    "## Distplot\n",
    "ax[0].set(xlim=(0, 40e3))\n",
    "sns.distplot(dfx[\"inspection_type\"], ax=ax[0], color=\"blue\")\n",
    "\n",
    "## Boxplot\n",
    "ax[1].set(ylim=(0, 25))\n",
    "sns.boxplot(data=dfx[\"inspection_type\"], color=\"blue\", ax=ax[1])\n",
    "\n",
    "\n",
    "plt.show()"
   ]
  },
  {
   "cell_type": "code",
   "execution_count": null,
   "metadata": {
    "ExecuteTime": {
     "end_time": "2021-03-08T00:28:39.776337Z",
     "start_time": "2021-03-08T00:28:39.743397Z"
    },
    "hidden": true
   },
   "outputs": [],
   "source": [
    "dfx"
   ]
  },
  {
   "cell_type": "code",
   "execution_count": null,
   "metadata": {
    "ExecuteTime": {
     "end_time": "2021-03-08T00:28:40.563231Z",
     "start_time": "2021-03-08T00:28:40.528637Z"
    },
    "hidden": true,
    "scrolled": true
   },
   "outputs": [],
   "source": [
    "# mr1 = dfx[\"facility_type\"] <= 1\n",
    "mr2 = dfx.index.str.contains(\"canvass\")\n",
    "dfx.loc[(mr2), :][:50]"
   ]
  },
  {
   "cell_type": "code",
   "execution_count": null,
   "metadata": {
    "ExecuteTime": {
     "end_time": "2021-03-08T00:28:42.130534Z",
     "start_time": "2021-03-08T00:28:42.096005Z"
    },
    "hidden": true,
    "scrolled": true
   },
   "outputs": [],
   "source": [
    "# mr1 = dfx[\"facility_type\"] <= 1\n",
    "mr2 = dfx.index.str.contains(\"license\")\n",
    "dfx.loc[(mr2), :][:50]"
   ]
  },
  {
   "cell_type": "markdown",
   "metadata": {
    "hidden": true
   },
   "source": [
    "**Notas de análisis:**\n",
    "- @7/Mar/2021\n",
    "    - Una vez limpiados los textos, la cantidad de únicos pasó de 111 a 99.\n",
    "    - Tal vez podríamos agrupar las categorías por aparición de palabras clave (e.g. `canvass` OR `license`).\n",
    "    - Todas las que caigan fuera de las categorías, serán incluidas en una reserva llamada \"Otros\"\n",
    "    - Podría valer la pena hacer un análisis de clústering para agrupar palabras por similitudes y así definir las categorías. (tal vez va a ser difícil hacer estas asociaciones.)"
   ]
  },
  {
   "cell_type": "markdown",
   "metadata": {
    "heading_collapsed": true,
    "hidden": true
   },
   "source": [
    "#### 3. Limpieza de campo `violations`"
   ]
  },
  {
   "cell_type": "code",
   "execution_count": null,
   "metadata": {
    "ExecuteTime": {
     "end_time": "2021-03-11T16:19:30.709047Z",
     "start_time": "2021-03-11T16:19:30.666507Z"
    },
    "hidden": true,
    "scrolled": true
   },
   "outputs": [],
   "source": [
    "dfx"
   ]
  },
  {
   "cell_type": "code",
   "execution_count": null,
   "metadata": {
    "ExecuteTime": {
     "end_time": "2021-03-11T16:19:30.992054Z",
     "start_time": "2021-03-11T16:19:30.900365Z"
    },
    "hidden": true,
    "scrolled": true
   },
   "outputs": [],
   "source": [
    "mr1 = dfx[\"violations\"] != \"nan\"\n",
    "dfx.loc[mr1, [\"violations\"]].values[1]"
   ]
  },
  {
   "cell_type": "code",
   "execution_count": null,
   "metadata": {
    "ExecuteTime": {
     "end_time": "2021-03-08T00:30:23.269309Z",
     "start_time": "2021-03-08T00:30:22.980659Z"
    },
    "hidden": true,
    "scrolled": true
   },
   "outputs": [],
   "source": [
    "dfx = df.copy()\n",
    "\n",
    "dfx[\"violations\"] = \"| \" + dfx[\"violations\"]\n",
    "\n",
    "dfx"
   ]
  },
  {
   "cell_type": "code",
   "execution_count": null,
   "metadata": {
    "ExecuteTime": {
     "end_time": "2021-03-09T17:51:33.309812Z",
     "start_time": "2021-03-09T17:51:33.062651Z"
    },
    "hidden": true,
    "scrolled": true
   },
   "outputs": [],
   "source": [
    "mr1 = dfx[\"violations\"].notnull()\n",
    "text_x = dfx.loc[mr1, [\"violations\"]].values[1][0]\n",
    "text_x"
   ]
  },
  {
   "cell_type": "code",
   "execution_count": null,
   "metadata": {
    "ExecuteTime": {
     "end_time": "2021-03-09T17:59:40.636708Z",
     "start_time": "2021-03-09T17:59:40.606127Z"
    },
    "hidden": true
   },
   "outputs": [],
   "source": [
    "v_nums = re.findall('\\| (.+?). ', text_x)\n",
    "# v_nums = []\n",
    "v_nums"
   ]
  },
  {
   "cell_type": "code",
   "execution_count": null,
   "metadata": {
    "ExecuteTime": {
     "end_time": "2021-03-09T18:02:25.371949Z",
     "start_time": "2021-03-09T18:02:25.331614Z"
    },
    "hidden": true,
    "scrolled": true
   },
   "outputs": [],
   "source": [
    "serious_vs = [str(num) for num in list(range(1, 44 + 1)) + [70]]\n",
    "serious_vs"
   ]
  },
  {
   "cell_type": "code",
   "execution_count": null,
   "metadata": {
    "ExecuteTime": {
     "end_time": "2021-03-09T18:02:29.130097Z",
     "start_time": "2021-03-09T18:02:29.099301Z"
    },
    "hidden": true,
    "scrolled": true
   },
   "outputs": [],
   "source": [
    "set_x = set(serious_vs) - set(v_nums)\n",
    "set_x"
   ]
  },
  {
   "cell_type": "code",
   "execution_count": null,
   "metadata": {
    "ExecuteTime": {
     "end_time": "2021-03-09T18:05:00.745353Z",
     "start_time": "2021-03-09T18:05:00.708380Z"
    },
    "hidden": true
   },
   "outputs": [],
   "source": [
    "def mark_serious_violations(row):\n",
    "    \n",
    "    try:\n",
    "        \n",
    "        v_nums = re.findall('\\| (.+?). ', row)\n",
    "        \n",
    "        if len(set(serious_vs) - set(v_nums)) == len(set(serious_vs)):\n",
    "            res = \"no_serious_violations\"\n",
    "        \n",
    "        else:\n",
    "            res = \"serious_violations\"\n",
    "            \n",
    "    except:\n",
    "        res = \"no_result\"\n",
    "        \n",
    "    return res"
   ]
  },
  {
   "cell_type": "code",
   "execution_count": null,
   "metadata": {
    "ExecuteTime": {
     "end_time": "2021-03-09T18:06:02.094183Z",
     "start_time": "2021-03-09T18:06:00.242925Z"
    },
    "hidden": true
   },
   "outputs": [],
   "source": [
    "dfx[\"serious_violations\"] = dfx[\"violations\"].apply(lambda x: mark_serious_violations(x))"
   ]
  },
  {
   "cell_type": "markdown",
   "metadata": {
    "hidden": true
   },
   "source": [
    "---"
   ]
  },
  {
   "cell_type": "markdown",
   "metadata": {
    "heading_collapsed": true
   },
   "source": [
    "## Exploration based on questions"
   ]
  },
  {
   "cell_type": "markdown",
   "metadata": {
    "heading_collapsed": true,
    "hidden": true
   },
   "source": [
    "### 1. ¿Cuáles son los tipos 10 de establecimientos que más violaciones cometen? (Facility Type)\n"
   ]
  },
  {
   "cell_type": "code",
   "execution_count": null,
   "metadata": {
    "hidden": true
   },
   "outputs": [],
   "source": [
    "conteos_ft=df.groupby([\"results\",\"facility_type\"]).size().reset_index(name=\"counts\")\n",
    "conteos_ft=conteos_ft.pivot(\"facility_type\",\"results\",\"counts\")\n",
    "conteos_ft=conteos_ft.fillna(0)\n",
    "conteos_ft['Total']=conteos_ft.sum(1)\n",
    "conteos_ft =conteos_ft.sort_values('Fail',ascending=False)\n",
    "conteos_ft"
   ]
  },
  {
   "cell_type": "code",
   "execution_count": null,
   "metadata": {
    "hidden": true
   },
   "outputs": [],
   "source": [
    "n = 10\n",
    "top10=df['facility_type'].value_counts()[:10].sort_values(ascending=False)\n",
    "top10"
   ]
  },
  {
   "cell_type": "markdown",
   "metadata": {
    "hidden": true
   },
   "source": [
    "Se muestra el porcentaje del tipo de establecimiento acuerdo con el resultado de la inspección:"
   ]
  },
  {
   "cell_type": "code",
   "execution_count": null,
   "metadata": {
    "hidden": true
   },
   "outputs": [],
   "source": [
    "proporciones_ft=round(conteos_ft.iloc[:,0:7].apply(lambda x: x/x.sum()*100, axis=1),2)\n",
    "proporciones_ft=proporciones_ft.sort_values('Fail',ascending=False)\n",
    "proporciones_ft"
   ]
  },
  {
   "cell_type": "markdown",
   "metadata": {
    "heading_collapsed": true,
    "hidden": true
   },
   "source": [
    "### 2. ¿Qué tipo de inspección detecta más establecimientos fuera de regla? (Inspection Type)"
   ]
  },
  {
   "cell_type": "code",
   "execution_count": null,
   "metadata": {
    "hidden": true
   },
   "outputs": [],
   "source": [
    "conteos_it=df.groupby([\"results\",\"inspection_type\"]).size().reset_index(name=\"counts\")\n",
    "conteos_it=conteos_it.pivot(\"inspection_type\",\"results\",\"counts\")\n",
    "conteos_it=conteos_it.fillna(0)\n",
    "conteos_it['Total']=conteos_it.sum(1)\n",
    "conteos_it =conteos_it.sort_values('Fail',ascending=False)\n",
    "conteos_it"
   ]
  },
  {
   "cell_type": "markdown",
   "metadata": {
    "hidden": true
   },
   "source": [
    "Se muestra el porcentaje del tipo de inspección de acuerdo con los resultados:"
   ]
  },
  {
   "cell_type": "code",
   "execution_count": null,
   "metadata": {
    "hidden": true
   },
   "outputs": [],
   "source": [
    "proporciones_it=round(conteos_it.iloc[:,0:7].apply(lambda x: x/x.sum()*100, axis=1),2)\n",
    "proporciones_it=proporciones_it.sort_values('Fail',ascending=False)\n",
    "proporciones_it"
   ]
  },
  {
   "cell_type": "markdown",
   "metadata": {
    "hidden": true
   },
   "source": [
    "Se muestra el top 20 de tipos de inspección con un porcentaje mayor de inspecciones no reprobadas."
   ]
  },
  {
   "cell_type": "code",
   "execution_count": null,
   "metadata": {
    "hidden": true
   },
   "outputs": [],
   "source": [
    "top20=proporciones_it.iloc[0:19,:]\n",
    "top20"
   ]
  },
  {
   "cell_type": "markdown",
   "metadata": {
    "heading_collapsed": true,
    "hidden": true
   },
   "source": [
    "### 3. Relación entre el riesgo y resultado, ¿los más riesgosos no pasan la insepección?"
   ]
  },
  {
   "cell_type": "code",
   "execution_count": null,
   "metadata": {
    "hidden": true
   },
   "outputs": [],
   "source": [
    "rr=df.groupby(['results','risk']).size().reset_index(name=\"counts\")\n",
    "rr=rr.pivot(\"results\", \"risk\",\"counts\")\n",
    "rr=rr.fillna(0)\n",
    "rr['Total']=rr.sum(1)\n",
    "rr =rr.sort_values('Risk 1 (High)',ascending=False)\n",
    "rr"
   ]
  },
  {
   "cell_type": "code",
   "execution_count": null,
   "metadata": {
    "hidden": true
   },
   "outputs": [],
   "source": [
    "prop=round(rr.iloc[:,0:4].apply(lambda x: x/x.sum()*100, axis=1),2)\n",
    "prop"
   ]
  },
  {
   "cell_type": "code",
   "execution_count": null,
   "metadata": {
    "hidden": true
   },
   "outputs": [],
   "source": [
    "prop.plot(kind='bar',stacked=True)"
   ]
  },
  {
   "cell_type": "markdown",
   "metadata": {
    "heading_collapsed": true,
    "hidden": true
   },
   "source": [
    "### 4. ¿Cómo es el comportamiento de las inspecciones en el tiempo?"
   ]
  },
  {
   "cell_type": "markdown",
   "metadata": {
    "hidden": true
   },
   "source": [
    "Se separa inspection_date en tres diferentes columnas: day, month, year y las agrega al dataframe:"
   ]
  },
  {
   "cell_type": "code",
   "execution_count": null,
   "metadata": {
    "hidden": true
   },
   "outputs": [],
   "source": [
    "fecha= df.inspection_date.str.split(\"/\", n=2,expand=True)\n",
    "df['day']=fecha[1]\n",
    "df['month']=fecha[0]\n",
    "df['year']=fecha[2]"
   ]
  },
  {
   "cell_type": "code",
   "execution_count": null,
   "metadata": {
    "hidden": true
   },
   "outputs": [],
   "source": [
    "df['inspection_date'] = pd.to_datetime(df['inspection_date'])"
   ]
  },
  {
   "cell_type": "code",
   "execution_count": null,
   "metadata": {
    "hidden": true
   },
   "outputs": [],
   "source": [
    "# Columnas de year, month y counts\n",
    "fecha_separated = df.groupby(['year','month']).size().reset_index(name=\"conteos\")\n",
    "# Hacemos tabla donde las columnas son años y las filas mes \n",
    "fecha_separated_p = fecha_separated.pivot(\"month\", \"year\",\"conteos\")\n",
    "# Graficamos \n",
    "sns.set(style='whitegrid',rc={'figure.figsize':(10,10)},palette='Set3')\n",
    "h =sns.lineplot(data=fecha_separated_p,linewidth = 3,dashes=False)\n",
    "plt.legend(fontsize='x-large', title_fontsize='40',loc='lower right')\n",
    "h.set(xlabel='Meses',ylabel='Conteos de Inspecciones')\n",
    "plt.show()"
   ]
  },
  {
   "cell_type": "markdown",
   "metadata": {
    "heading_collapsed": true,
    "hidden": true
   },
   "source": [
    "### 5. ¿Cómo es el comportamiento por tipo de resultados en el tiempo?"
   ]
  },
  {
   "cell_type": "code",
   "execution_count": null,
   "metadata": {
    "hidden": true
   },
   "outputs": [],
   "source": [
    "fecha_separated2 = df.groupby(['year','month','results']).size().reset_index(name=\"counts\")\n",
    "fecha_separated2['date']= fecha_separated2['year']+'-'+fecha_separated2['month']\n",
    "g=fecha_separated2.drop(['year','month'],1)\n",
    "g=g.set_index('date')\n",
    "sns.set(style='whitegrid',rc={'figure.figsize':(20,10)},palette='Set2')\n",
    "sns.lineplot(x='date',y='counts',hue='results',data=g,linewidth = 2)\n",
    "plt.xticks(rotation= 90,size=8)\n",
    "plt.show()"
   ]
  },
  {
   "cell_type": "markdown",
   "metadata": {
    "hidden": true
   },
   "source": [
    "Se muestra el comportamiento anterior en porcentaje de inspecciones:"
   ]
  },
  {
   "cell_type": "code",
   "execution_count": null,
   "metadata": {
    "hidden": true
   },
   "outputs": [],
   "source": [
    "g2=fecha_separated2.drop(['year','month'],1)\n",
    "g2=g2.pivot(\"date\", \"results\",\"counts\")\n",
    "g2=g2.fillna(0)\n",
    "g2['total']=g2.sum(1)\n",
    "prop2=round(g2.iloc[:,0:5].apply(lambda x: x/x.sum()*100, axis=1),2)\n",
    "sns.set(style='whitegrid',rc={'figure.figsize':(20,10)},palette='Set2')\n",
    "h =sns.lineplot(data=prop2,linewidth = 2,dashes=False,marker='o')\n",
    "plt.xticks(rotation= 90)\n",
    "plt.legend(fontsize='x-large', title_fontsize='40')\n",
    "plt.show()"
   ]
  },
  {
   "cell_type": "markdown",
   "metadata": {
    "heading_collapsed": true,
    "hidden": true
   },
   "source": [
    "### 6. ¿Es importante la temporalidad de año, mes y día para las inspecciones?"
   ]
  },
  {
   "cell_type": "markdown",
   "metadata": {
    "hidden": true
   },
   "source": [
    "Con variable inspection_date en formato tiempo creamos conteos del número de inspecciones hechas por día:"
   ]
  },
  {
   "cell_type": "code",
   "execution_count": null,
   "metadata": {
    "hidden": true
   },
   "outputs": [],
   "source": [
    "conteos_fechas = df.groupby(['inspection_date']).size().reset_index(name='conteos')\n",
    "# hacemos que inspection_date sea el identificador de las filas\n",
    "conteos_fechas = conteos_fechas.set_index('inspection_date')\n"
   ]
  },
  {
   "cell_type": "code",
   "execution_count": null,
   "metadata": {
    "hidden": true
   },
   "outputs": [],
   "source": [
    "# Separamos los días, meses, años\n",
    "conteos_fechas.insert(1, 'year', conteos_fechas.index.year)\n",
    "conteos_fechas.insert(2, 'month', conteos_fechas.index.month)\n",
    "conteos_fechas.insert(3, 'day', conteos_fechas.index.day)\n",
    "conteos_fechas = conteos_fechas.copy()"
   ]
  },
  {
   "cell_type": "code",
   "execution_count": null,
   "metadata": {
    "hidden": true
   },
   "outputs": [],
   "source": [
    "# Graficamos\n",
    "fig, axs = plt.subplots(figsize=(30,20),ncols=6, nrows=2)\n",
    "heatmaps(conteos_fechas,2010,axs[0][0],'no','Day')\n",
    "heatmaps(conteos_fechas,2011,axs[0][1],'no','')\n",
    "heatmaps(conteos_fechas,2012,axs[0][2],'no','')\n",
    "heatmaps(conteos_fechas,2013,axs[0][3],'no','')\n",
    "heatmaps(conteos_fechas,2014,axs[0][4],'no','')\n",
    "heatmaps(conteos_fechas,2015,axs[0][5],'yes','')\n",
    "heatmaps(conteos_fechas,2016,axs[1][0],'no','')\n",
    "heatmaps(conteos_fechas,2017,axs[1][1],'no','')\n",
    "heatmaps(conteos_fechas,2018,axs[1][2],'no','')\n",
    "heatmaps(conteos_fechas,2019,axs[1][3],'no','')\n",
    "heatmaps(conteos_fechas,2020,axs[1][4],'no','')\n",
    "heatmaps(conteos_fechas,2021,axs[1][5],'yes','')"
   ]
  },
  {
   "cell_type": "markdown",
   "metadata": {
    "hidden": true
   },
   "source": [
    "**Vemos si para si existe un patrón temporal en el universo de inspecciones que resultaron como reprobadas (Results=\"Fail\"):**"
   ]
  },
  {
   "cell_type": "code",
   "execution_count": null,
   "metadata": {
    "hidden": true
   },
   "outputs": [],
   "source": [
    "fail=df[df.results==\"Fail\"]\n",
    "len(fail)"
   ]
  },
  {
   "cell_type": "code",
   "execution_count": null,
   "metadata": {
    "hidden": true
   },
   "outputs": [],
   "source": [
    "conteos_f = fail.groupby(['inspection_date']).size().reset_index(name='conteos')\n",
    "conteos_f= conteos_f.set_index('inspection_date')\n",
    "conteos_f.insert(1, 'year', conteos_f.index.year)\n",
    "conteos_f.insert(2, 'month', conteos_f.index.month)\n",
    "conteos_f.insert(3, 'day', conteos_f.index.day)\n",
    "conteos_f = conteos_f.copy()"
   ]
  },
  {
   "cell_type": "code",
   "execution_count": null,
   "metadata": {
    "hidden": true
   },
   "outputs": [],
   "source": [
    "fig, axs = plt.subplots(figsize=(30,20),ncols=6, nrows=2)\n",
    "heatmaps(conteos_f,2010,axs[0][0],'no','Day')\n",
    "heatmaps(conteos_f,2011,axs[0][1],'no','')\n",
    "heatmaps(conteos_f,2012,axs[0][2],'no','')\n",
    "heatmaps(conteos_f,2013,axs[0][3],'no','')\n",
    "heatmaps(conteos_f,2014,axs[0][4],'no','')\n",
    "heatmaps(conteos_f,2015,axs[0][5],'yes','')\n",
    "heatmaps(conteos_f,2016,axs[1][0],'no','Day')\n",
    "heatmaps(conteos_f,2017,axs[1][1],'no','')\n",
    "heatmaps(conteos_f,2018,axs[1][2],'no','')\n",
    "heatmaps(conteos_f,2019,axs[1][3],'no','')\n",
    "heatmaps(conteos_f,2020,axs[1][4],'yes','')\n",
    "heatmaps(conteos_f,2021,axs[1][5],'yes','')"
   ]
  },
  {
   "cell_type": "markdown",
   "metadata": {
    "hidden": true
   },
   "source": [
    "---"
   ]
  },
  {
   "cell_type": "markdown",
   "metadata": {
    "heading_collapsed": true
   },
   "source": [
    "## Mapa"
   ]
  },
  {
   "cell_type": "code",
   "execution_count": null,
   "metadata": {
    "hidden": true
   },
   "outputs": [],
   "source": [
    "sns.set(style='whitegrid',rc={'figure.figsize':(20,10)},palette='Set1')\n",
    "s = sns.lmplot(x='longitude',y='latitude',data=df,hue='results',col='results',fit_reg=False,height=6,\n",
    "               scatter_kws={\"s\":1,\"alpha\":.5})"
   ]
  },
  {
   "cell_type": "code",
   "execution_count": null,
   "metadata": {
    "hidden": true
   },
   "outputs": [],
   "source": [
    "cols = ['Results','Latitude','Longitude']\n",
    "rest = pd.read_csv('../data/Food_Inspections.csv', usecols=cols)"
   ]
  },
  {
   "cell_type": "markdown",
   "metadata": {
    "hidden": true
   },
   "source": [
    "Eliminamos los registros sin coordenadas completas:"
   ]
  },
  {
   "cell_type": "code",
   "execution_count": null,
   "metadata": {
    "hidden": true
   },
   "outputs": [],
   "source": [
    "rest = rest.dropna(subset=['Latitude'])\n",
    "rest = rest.dropna(subset=['Longitude'])"
   ]
  },
  {
   "cell_type": "markdown",
   "metadata": {
    "hidden": true
   },
   "source": [
    "Filtramos únicamente aquellos registros que pasaron o no pasaron la prueba"
   ]
  },
  {
   "cell_type": "code",
   "execution_count": null,
   "metadata": {
    "hidden": true
   },
   "outputs": [],
   "source": [
    "passed = rest[rest['Results']=='Pass']\n",
    "failed = rest[rest['Results']=='Fail']"
   ]
  },
  {
   "cell_type": "code",
   "execution_count": null,
   "metadata": {
    "hidden": true
   },
   "outputs": [],
   "source": [
    "len(passed), len(failed)"
   ]
  },
  {
   "cell_type": "markdown",
   "metadata": {
    "hidden": true
   },
   "source": [
    "Imagen de la ciudad de chicago:"
   ]
  },
  {
   "cell_type": "code",
   "execution_count": null,
   "metadata": {
    "hidden": true
   },
   "outputs": [],
   "source": [
    "chicago = plt.imread('../images/chicago.png')"
   ]
  },
  {
   "cell_type": "code",
   "execution_count": null,
   "metadata": {
    "hidden": true
   },
   "outputs": [],
   "source": [
    "boundires = ((rest.Longitude.min(),   rest.Longitude.max(),      \n",
    "         rest.Latitude.min(), rest.Latitude.max()))"
   ]
  },
  {
   "cell_type": "code",
   "execution_count": null,
   "metadata": {
    "hidden": true
   },
   "outputs": [],
   "source": [
    "fig, ax = plt.subplots(1,2, sharex=True, sharey=True, figsize = (20,20))\n",
    "\n",
    "ax[0].scatter(passed.Longitude, passed.Latitude, zorder=2, alpha=0.1, c='b', s=2)\n",
    "ax[0].imshow(chicago, zorder=0, extent=boundires, aspect='equal')\n",
    "ax[0].title.set_text('Results: Pass')\n",
    "\n",
    "ax[1].scatter(failed.Longitude, failed.Latitude, zorder=2, alpha=0.1, c='r', s=2)\n",
    "ax[1].imshow(chicago, zorder=0, extent=boundires, aspect='equal')\n",
    "ax[1].title.set_text('Results: Fail')\n",
    "\n",
    "plt.show()"
   ]
  },
  {
   "cell_type": "markdown",
   "metadata": {
    "hidden": true
   },
   "source": [
    "---"
   ]
  },
  {
   "cell_type": "markdown",
   "metadata": {},
   "source": [
    "## **Notas**"
   ]
  },
  {
   "cell_type": "markdown",
   "metadata": {
    "heading_collapsed": true
   },
   "source": [
    "### Evaluación de funciones"
   ]
  },
  {
   "cell_type": "code",
   "execution_count": null,
   "metadata": {
    "ExecuteTime": {
     "end_time": "2021-03-11T16:54:21.425768Z",
     "start_time": "2021-03-11T16:54:10.002031Z"
    },
    "hidden": true
   },
   "outputs": [],
   "source": [
    "dfx = initial_cleaning(df)"
   ]
  },
  {
   "cell_type": "code",
   "execution_count": null,
   "metadata": {
    "ExecuteTime": {
     "end_time": "2021-03-11T16:54:21.473267Z",
     "start_time": "2021-03-11T16:54:21.428511Z"
    },
    "hidden": true,
    "scrolled": true
   },
   "outputs": [],
   "source": [
    "dfx"
   ]
  },
  {
   "cell_type": "code",
   "execution_count": null,
   "metadata": {
    "ExecuteTime": {
     "end_time": "2021-03-11T16:00:21.351940Z",
     "start_time": "2021-03-11T16:00:21.230289Z"
    },
    "hidden": true
   },
   "outputs": [],
   "source": [
    "dfx[\"results\"].value_counts()"
   ]
  },
  {
   "cell_type": "code",
   "execution_count": null,
   "metadata": {
    "ExecuteTime": {
     "end_time": "2021-03-11T16:00:30.418557Z",
     "start_time": "2021-03-11T16:00:30.322343Z"
    },
    "hidden": true,
    "scrolled": true
   },
   "outputs": [],
   "source": [
    "dfx[\"label\"].value_counts()"
   ]
  },
  {
   "cell_type": "markdown",
   "metadata": {
    "hidden": true
   },
   "source": [
    "---"
   ]
  },
  {
   "cell_type": "markdown",
   "metadata": {},
   "source": [
    "### Exploración de resultados de módulos"
   ]
  },
  {
   "cell_type": "code",
   "execution_count": 16,
   "metadata": {
    "ExecuteTime": {
     "end_time": "2021-03-12T18:42:16.236500Z",
     "start_time": "2021-03-12T18:42:15.672374Z"
    },
    "scrolled": true
   },
   "outputs": [
    {
     "data": {
      "text/html": [
       "<div>\n",
       "<style scoped>\n",
       "    .dataframe tbody tr th:only-of-type {\n",
       "        vertical-align: middle;\n",
       "    }\n",
       "\n",
       "    .dataframe tbody tr th {\n",
       "        vertical-align: top;\n",
       "    }\n",
       "\n",
       "    .dataframe thead th {\n",
       "        text-align: right;\n",
       "    }\n",
       "</style>\n",
       "<table border=\"1\" class=\"dataframe\">\n",
       "  <thead>\n",
       "    <tr style=\"text-align: right;\">\n",
       "      <th></th>\n",
       "      <th>facility_type</th>\n",
       "      <th>risk</th>\n",
       "      <th>city</th>\n",
       "      <th>inspection_type</th>\n",
       "      <th>results</th>\n",
       "      <th>violations</th>\n",
       "      <th>label</th>\n",
       "      <th>serious_violations</th>\n",
       "    </tr>\n",
       "  </thead>\n",
       "  <tbody>\n",
       "    <tr>\n",
       "      <th>0</th>\n",
       "      <td>facility_type_other</td>\n",
       "      <td>risk_2_-medium-</td>\n",
       "      <td>chicago</td>\n",
       "      <td>license</td>\n",
       "      <td>no_entry</td>\n",
       "      <td>-_nan</td>\n",
       "      <td>0</td>\n",
       "      <td>no_result</td>\n",
       "    </tr>\n",
       "    <tr>\n",
       "      <th>1</th>\n",
       "      <td>restaurant_bar</td>\n",
       "      <td>risk_1_-high-</td>\n",
       "      <td>chicago</td>\n",
       "      <td>canvass</td>\n",
       "      <td>no_entry</td>\n",
       "      <td>-_nan</td>\n",
       "      <td>0</td>\n",
       "      <td>no_result</td>\n",
       "    </tr>\n",
       "    <tr>\n",
       "      <th>2</th>\n",
       "      <td>facility_type_other</td>\n",
       "      <td>risk_1_-high-</td>\n",
       "      <td>chicago</td>\n",
       "      <td>complaint</td>\n",
       "      <td>no_entry</td>\n",
       "      <td>-_nan</td>\n",
       "      <td>0</td>\n",
       "      <td>no_result</td>\n",
       "    </tr>\n",
       "    <tr>\n",
       "      <th>3</th>\n",
       "      <td>restaurant_bar</td>\n",
       "      <td>risk_1_-high-</td>\n",
       "      <td>chicago</td>\n",
       "      <td>complaint</td>\n",
       "      <td>no_entry</td>\n",
       "      <td>-_nan</td>\n",
       "      <td>0</td>\n",
       "      <td>no_result</td>\n",
       "    </tr>\n",
       "    <tr>\n",
       "      <th>4</th>\n",
       "      <td>restaurant_bar</td>\n",
       "      <td>risk_1_-high-</td>\n",
       "      <td>chicago</td>\n",
       "      <td>canvass</td>\n",
       "      <td>no_entry</td>\n",
       "      <td>-_nan</td>\n",
       "      <td>0</td>\n",
       "      <td>no_result</td>\n",
       "    </tr>\n",
       "    <tr>\n",
       "      <th>...</th>\n",
       "      <td>...</td>\n",
       "      <td>...</td>\n",
       "      <td>...</td>\n",
       "      <td>...</td>\n",
       "      <td>...</td>\n",
       "      <td>...</td>\n",
       "      <td>...</td>\n",
       "      <td>...</td>\n",
       "    </tr>\n",
       "    <tr>\n",
       "      <th>215062</th>\n",
       "      <td>restaurant_bar</td>\n",
       "      <td>risk_2_-medium-</td>\n",
       "      <td>chicago</td>\n",
       "      <td>license</td>\n",
       "      <td>fail</td>\n",
       "      <td>-_nan</td>\n",
       "      <td>0</td>\n",
       "      <td>no_result</td>\n",
       "    </tr>\n",
       "    <tr>\n",
       "      <th>215063</th>\n",
       "      <td>restaurant_bar</td>\n",
       "      <td>risk_1_-high-</td>\n",
       "      <td>chicago</td>\n",
       "      <td>license</td>\n",
       "      <td>fail</td>\n",
       "      <td>-_12._hand_washing_facilities-_with_soap_and_s...</td>\n",
       "      <td>0</td>\n",
       "      <td>serious_violations</td>\n",
       "    </tr>\n",
       "    <tr>\n",
       "      <th>215064</th>\n",
       "      <td>restaurant_bar</td>\n",
       "      <td>risk_1_-high-</td>\n",
       "      <td>chicago</td>\n",
       "      <td>license</td>\n",
       "      <td>pass</td>\n",
       "      <td>-_nan</td>\n",
       "      <td>1</td>\n",
       "      <td>no_result</td>\n",
       "    </tr>\n",
       "    <tr>\n",
       "      <th>215065</th>\n",
       "      <td>facility_type_other</td>\n",
       "      <td>risk_3_-low-</td>\n",
       "      <td>chicago</td>\n",
       "      <td>license</td>\n",
       "      <td>pass</td>\n",
       "      <td>-_nan</td>\n",
       "      <td>1</td>\n",
       "      <td>no_result</td>\n",
       "    </tr>\n",
       "    <tr>\n",
       "      <th>215066</th>\n",
       "      <td>daycare</td>\n",
       "      <td>risk_1_-high-</td>\n",
       "      <td>chicago</td>\n",
       "      <td>canvass</td>\n",
       "      <td>fail</td>\n",
       "      <td>-_18._no_evidence_of_rodent_or_insect_outer_op...</td>\n",
       "      <td>0</td>\n",
       "      <td>serious_violations</td>\n",
       "    </tr>\n",
       "  </tbody>\n",
       "</table>\n",
       "<p>215067 rows × 8 columns</p>\n",
       "</div>"
      ],
      "text/plain": [
       "              facility_type             risk     city inspection_type  \\\n",
       "0       facility_type_other  risk_2_-medium-  chicago         license   \n",
       "1            restaurant_bar    risk_1_-high-  chicago         canvass   \n",
       "2       facility_type_other    risk_1_-high-  chicago       complaint   \n",
       "3            restaurant_bar    risk_1_-high-  chicago       complaint   \n",
       "4            restaurant_bar    risk_1_-high-  chicago         canvass   \n",
       "...                     ...              ...      ...             ...   \n",
       "215062       restaurant_bar  risk_2_-medium-  chicago         license   \n",
       "215063       restaurant_bar    risk_1_-high-  chicago         license   \n",
       "215064       restaurant_bar    risk_1_-high-  chicago         license   \n",
       "215065  facility_type_other     risk_3_-low-  chicago         license   \n",
       "215066              daycare    risk_1_-high-  chicago         canvass   \n",
       "\n",
       "         results                                         violations  label  \\\n",
       "0       no_entry                                              -_nan      0   \n",
       "1       no_entry                                              -_nan      0   \n",
       "2       no_entry                                              -_nan      0   \n",
       "3       no_entry                                              -_nan      0   \n",
       "4       no_entry                                              -_nan      0   \n",
       "...          ...                                                ...    ...   \n",
       "215062      fail                                              -_nan      0   \n",
       "215063      fail  -_12._hand_washing_facilities-_with_soap_and_s...      0   \n",
       "215064      pass                                              -_nan      1   \n",
       "215065      pass                                              -_nan      1   \n",
       "215066      fail  -_18._no_evidence_of_rodent_or_insect_outer_op...      0   \n",
       "\n",
       "        serious_violations  \n",
       "0                no_result  \n",
       "1                no_result  \n",
       "2                no_result  \n",
       "3                no_result  \n",
       "4                no_result  \n",
       "...                    ...  \n",
       "215062           no_result  \n",
       "215063  serious_violations  \n",
       "215064           no_result  \n",
       "215065           no_result  \n",
       "215066  serious_violations  \n",
       "\n",
       "[215067 rows x 8 columns]"
      ]
     },
     "execution_count": 16,
     "metadata": {},
     "output_type": "execute_result"
    }
   ],
   "source": [
    "dfx = load_df(\"../\" + transformation_pickle_loc)\n",
    "dfx"
   ]
  },
  {
   "cell_type": "code",
   "execution_count": 18,
   "metadata": {
    "ExecuteTime": {
     "end_time": "2021-03-12T18:42:34.938515Z",
     "start_time": "2021-03-12T18:42:34.859550Z"
    },
    "scrolled": true
   },
   "outputs": [
    {
     "data": {
      "text/plain": [
       "canvass                  0.637267\n",
       "license                  0.179386\n",
       "complaint                0.127686\n",
       "inspection               0.041917\n",
       "inspection_type_other    0.013745\n",
       "Name: inspection_type, dtype: float64"
      ]
     },
     "execution_count": 18,
     "metadata": {},
     "output_type": "execute_result"
    }
   ],
   "source": [
    "dfx[\"inspection_type\"].value_counts(normalize=True)[:50]"
   ]
  },
  {
   "cell_type": "markdown",
   "metadata": {},
   "source": [
    "---\n",
    "---"
   ]
  }
 ],
 "metadata": {
  "celltoolbar": "Initialization Cell",
  "kernelspec": {
   "display_name": "Python 3",
   "language": "python",
   "name": "python3"
  },
  "language_info": {
   "codemirror_mode": {
    "name": "ipython",
    "version": 3
   },
   "file_extension": ".py",
   "mimetype": "text/x-python",
   "name": "python",
   "nbconvert_exporter": "python",
   "pygments_lexer": "ipython3",
   "version": "3.8.5"
  },
  "notify_time": "5",
  "toc": {
   "base_numbering": 1,
   "nav_menu": {},
   "number_sections": true,
   "sideBar": true,
   "skip_h1_title": false,
   "title_cell": "Table of Contents",
   "title_sidebar": "Contents",
   "toc_cell": false,
   "toc_position": {},
   "toc_section_display": true,
   "toc_window_display": false
  }
 },
 "nbformat": 4,
 "nbformat_minor": 4
}
